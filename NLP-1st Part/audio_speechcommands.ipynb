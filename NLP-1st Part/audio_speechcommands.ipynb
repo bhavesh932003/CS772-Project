{
  "nbformat": 4,
  "nbformat_minor": 0,
  "metadata": {
    "colab": {
      "provenance": [],
      "gpuType": "T4"
    },
    "kernelspec": {
      "name": "python3",
      "display_name": "Python 3"
    },
    "language_info": {
      "name": "python"
    },
    "accelerator": "GPU"
  },
  "cells": [
    {
      "cell_type": "code",
      "source": [
        "import torch\n",
        "import os\n",
        "import torch.nn as nn\n",
        "import torch.nn.functional as F\n",
        "import torchaudio\n",
        "from torch.utils.data import DataLoader, Subset\n",
        "import random\n",
        "import numpy as np\n",
        "from tqdm import tqdm\n",
        "import soundfile as sf"
      ],
      "metadata": {
        "id": "b4q4QWbvhr-F"
      },
      "execution_count": 7,
      "outputs": []
    },
    {
      "cell_type": "code",
      "source": [
        "from torchaudio.datasets import SPEECHCOMMANDS\n",
        "\n",
        "class SubsetSC(SPEECHCOMMANDS):\n",
        "    def __init__(self, subset):\n",
        "        super().__init__(\"./\", download=True)\n",
        "\n",
        "        def load_list(filename):\n",
        "            filepath = os.path.join(self._path, filename)\n",
        "            with open(filepath) as f:\n",
        "                return [os.path.join(self._path, line.strip()) for line in f]\n",
        "\n",
        "        if subset == \"validation\":\n",
        "            self._walker = load_list(\"validation_list.txt\")\n",
        "        elif subset == \"testing\":\n",
        "            self._walker = load_list(\"testing_list.txt\")\n",
        "        elif subset == \"training\":\n",
        "            excludes = load_list(\"validation_list.txt\") + load_list(\"testing_list.txt\")\n",
        "            excludes = set(excludes)\n",
        "            self._walker = [w for w in self._walker if w not in excludes]\n",
        "\n",
        "    def __getitem__(self, n):\n",
        "        file_path = self._walker[n]\n",
        "        # Load using soundfile instead of torchaudio.load\n",
        "        waveform, sample_rate = sf.read(file_path, dtype=\"float32\")\n",
        "        waveform = torch.tensor(waveform).unsqueeze(0)  # (1, N)\n",
        "        label = file_path.split(os.sep)[-2]\n",
        "        return waveform, sample_rate, label, file_path\n",
        "\n",
        "# Instantiate splits\n",
        "train_data = SubsetSC(\"training\")\n",
        "test_data = SubsetSC(\"testing\")\n",
        "\n",
        "# Label mapping\n",
        "labels = sorted(set(datapoint[2] for datapoint in train_data))\n",
        "label_to_idx = {label: i for i, label in enumerate(labels)}\n",
        "\n",
        "# Collate function\n",
        "def collate_fn(batch):\n",
        "    tensors, targets = [], []\n",
        "    max_len = 16000  # 1 second at 16kHz\n",
        "\n",
        "    for waveform, _, label, *_ in batch:\n",
        "        if waveform.size(1) < max_len:\n",
        "            padding = max_len - waveform.size(1)\n",
        "            waveform = F.pad(waveform, (0, padding))\n",
        "        else:\n",
        "            waveform = waveform[:, :max_len]  # Trim if too long\n",
        "        tensors.append(waveform)\n",
        "        targets.append(label_to_idx[label])\n",
        "\n",
        "    tensors = torch.stack(tensors)\n",
        "    targets = torch.tensor(targets)\n",
        "    return tensors, targets\n",
        "# Dataloaders\n",
        "train_loader = DataLoader(train_data, batch_size=64, shuffle=True, collate_fn=collate_fn)\n",
        "test_loader = DataLoader(test_data, batch_size=64, shuffle=False, collate_fn=collate_fn)\n"
      ],
      "metadata": {
        "id": "ZLOMH00hh3Gy"
      },
      "execution_count": 12,
      "outputs": []
    },
    {
      "cell_type": "code",
      "source": [
        "class AudioCNN(nn.Module):\n",
        "    def __init__(self, n_classes):\n",
        "        super().__init__()\n",
        "        self.conv1 = nn.Conv1d(1, 8, kernel_size=9, stride=1)\n",
        "        self.pool = nn.MaxPool1d(4)\n",
        "        self.conv2 = nn.Conv1d(8, 16, kernel_size=9, stride=1)\n",
        "\n",
        "        # Dummy input to calculate flatten dimension dynamically\n",
        "        self._dummy_input = torch.zeros(1, 1, 16000)\n",
        "        self.flatten_dim = self._get_flatten_dim()\n",
        "\n",
        "        self.fc1 = nn.Linear(self.flatten_dim, 64)\n",
        "        self.fc2 = nn.Linear(64, n_classes)\n",
        "\n",
        "    def _get_flatten_dim(self):\n",
        "        x = self.pool(F.relu(self.conv1(self._dummy_input)))\n",
        "        x = self.pool(F.relu(self.conv2(x)))\n",
        "        return x.view(1, -1).size(1)\n",
        "\n",
        "    def forward(self, x):\n",
        "        x = x[:, 0:1, :]  # Ensure mono\n",
        "        x = self.pool(F.relu(self.conv1(x)))\n",
        "        x = self.pool(F.relu(self.conv2(x)))\n",
        "        x = x.view(x.size(0), -1)\n",
        "        x = F.relu(self.fc1(x))\n",
        "        return self.fc2(x)\n",
        "\n",
        "# Instantiate the model here\n",
        "model = AudioCNN(n_classes=len(labels))\n",
        "print(f\"Total trainable parameters: {sum(p.numel() for p in model.parameters() if p.requires_grad)}\")\n"
      ],
      "metadata": {
        "id": "62_ODX9yh7Rz",
        "colab": {
          "base_uri": "https://localhost:8080/"
        },
        "outputId": "0e44e6fb-23c4-4f6d-b1cd-4199bd62b1e3"
      },
      "execution_count": 13,
      "outputs": [
        {
          "output_type": "stream",
          "name": "stdout",
          "text": [
            "Total trainable parameters: 1024515\n"
          ]
        }
      ]
    },
    {
      "cell_type": "code",
      "source": [
        "def rho_loss(outputs, targets, model_confidence_threshold=0.5):\n",
        "    probs = F.softmax(outputs, dim=1)\n",
        "    max_probs, _ = torch.max(probs, dim=1)\n",
        "    weights = (max_probs < model_confidence_threshold).float()\n",
        "    ce_loss = F.cross_entropy(outputs, targets, reduction='none')\n",
        "    return (ce_loss * weights).mean()\n"
      ],
      "metadata": {
        "id": "lV6u47xah8Lz"
      },
      "execution_count": 14,
      "outputs": []
    },
    {
      "cell_type": "code",
      "source": [
        "optimizer = torch.optim.Adam(model.parameters(), lr=0.001)\n",
        "device = \"cuda\" if torch.cuda.is_available() else \"cpu\"\n",
        "model.to(device)\n",
        "\n",
        "num_epochs = 5\n",
        "\n",
        "for epoch in range(num_epochs):\n",
        "    model.train()\n",
        "    total_loss = 0\n",
        "    batch_losses = []\n",
        "\n",
        "    for batch_idx, (x, y) in enumerate(tqdm(train_loader)):\n",
        "        x, y = x.to(device), y.to(device)\n",
        "        outputs = model(x)\n",
        "        loss = rho_loss(outputs, y)\n",
        "\n",
        "        optimizer.zero_grad()\n",
        "        loss.backward()\n",
        "        optimizer.step()\n",
        "\n",
        "        total_loss += loss.item()\n",
        "        batch_losses.append(loss.item())\n",
        "\n",
        "        print(f\"Epoch [{epoch+1}/{num_epochs}] Batch [{batch_idx+1}/{len(train_loader)}] Loss: {loss.item():.4f}\")\n",
        "\n",
        "    avg_loss = total_loss / len(train_loader)\n",
        "    print(f\"\\n>> Epoch {epoch+1} Average Loss: {avg_loss:.4f}\\n\")\n"
      ],
      "metadata": {
        "id": "fQuW_9kEh-St",
        "colab": {
          "base_uri": "https://localhost:8080/"
        },
        "outputId": "e0b24243-c281-41a9-8706-0880a5be43e7"
      },
      "execution_count": 15,
      "outputs": [
        {
          "output_type": "stream",
          "name": "stderr",
          "text": [
            "  0%|          | 5/1654 [00:02<08:42,  3.16it/s]"
          ]
        },
        {
          "output_type": "stream",
          "name": "stdout",
          "text": [
            "Epoch [1/5] Batch [1/1654] Loss: 3.5644\n",
            "Epoch [1/5] Batch [2/1654] Loss: 3.6305\n",
            "Epoch [1/5] Batch [3/1654] Loss: 3.5738\n",
            "Epoch [1/5] Batch [4/1654] Loss: 3.5039\n",
            "Epoch [1/5] Batch [5/1654] Loss: 3.5567\n",
            "Epoch [1/5] Batch [6/1654] Loss: 3.4983\n",
            "Epoch [1/5] Batch [7/1654] Loss: 3.5787\n",
            "Epoch [1/5] Batch [8/1654] Loss: 3.5608\n"
          ]
        },
        {
          "output_type": "stream",
          "name": "stderr",
          "text": [
            "  1%|          | 13/1654 [00:02<02:45,  9.92it/s]"
          ]
        },
        {
          "output_type": "stream",
          "name": "stdout",
          "text": [
            "Epoch [1/5] Batch [9/1654] Loss: 3.5518\n",
            "Epoch [1/5] Batch [10/1654] Loss: 3.5400\n",
            "Epoch [1/5] Batch [11/1654] Loss: 3.5099\n",
            "Epoch [1/5] Batch [12/1654] Loss: 3.5133\n",
            "Epoch [1/5] Batch [13/1654] Loss: 3.5932\n",
            "Epoch [1/5] Batch [14/1654] Loss: 3.5294\n",
            "Epoch [1/5] Batch [15/1654] Loss: 3.5581\n",
            "Epoch [1/5] Batch [16/1654] Loss: 3.5949\n"
          ]
        },
        {
          "output_type": "stream",
          "name": "stderr",
          "text": [
            "  1%|▏         | 21/1654 [00:02<01:32, 17.62it/s]"
          ]
        },
        {
          "output_type": "stream",
          "name": "stdout",
          "text": [
            "Epoch [1/5] Batch [17/1654] Loss: 3.4948\n",
            "Epoch [1/5] Batch [18/1654] Loss: 3.5510\n",
            "Epoch [1/5] Batch [19/1654] Loss: 3.5692\n",
            "Epoch [1/5] Batch [20/1654] Loss: 3.5755\n",
            "Epoch [1/5] Batch [21/1654] Loss: 3.5712\n",
            "Epoch [1/5] Batch [22/1654] Loss: 3.5199\n",
            "Epoch [1/5] Batch [23/1654] Loss: 3.5359\n",
            "Epoch [1/5] Batch [24/1654] Loss: 3.5413\n"
          ]
        },
        {
          "output_type": "stream",
          "name": "stderr",
          "text": [
            "  2%|▏         | 29/1654 [00:02<01:05, 24.97it/s]"
          ]
        },
        {
          "output_type": "stream",
          "name": "stdout",
          "text": [
            "Epoch [1/5] Batch [25/1654] Loss: 3.5538\n",
            "Epoch [1/5] Batch [26/1654] Loss: 3.5244\n",
            "Epoch [1/5] Batch [27/1654] Loss: 3.5263\n",
            "Epoch [1/5] Batch [28/1654] Loss: 3.5312\n",
            "Epoch [1/5] Batch [29/1654] Loss: 3.5309\n",
            "Epoch [1/5] Batch [30/1654] Loss: 3.4948\n",
            "Epoch [1/5] Batch [31/1654] Loss: 3.5432\n",
            "Epoch [1/5] Batch [32/1654] Loss: 3.5036\n"
          ]
        },
        {
          "output_type": "stream",
          "name": "stderr",
          "text": [
            "  2%|▏         | 38/1654 [00:02<00:51, 31.45it/s]"
          ]
        },
        {
          "output_type": "stream",
          "name": "stdout",
          "text": [
            "Epoch [1/5] Batch [33/1654] Loss: 3.5919\n",
            "Epoch [1/5] Batch [34/1654] Loss: 3.5653\n",
            "Epoch [1/5] Batch [35/1654] Loss: 3.5255\n",
            "Epoch [1/5] Batch [36/1654] Loss: 3.4778\n",
            "Epoch [1/5] Batch [37/1654] Loss: 3.5329\n",
            "Epoch [1/5] Batch [38/1654] Loss: 3.5293\n",
            "Epoch [1/5] Batch [39/1654] Loss: 3.5774\n",
            "Epoch [1/5] Batch [40/1654] Loss: 3.5243\n"
          ]
        },
        {
          "output_type": "stream",
          "name": "stderr",
          "text": [
            "  3%|▎         | 46/1654 [00:03<00:46, 34.88it/s]"
          ]
        },
        {
          "output_type": "stream",
          "name": "stdout",
          "text": [
            "Epoch [1/5] Batch [41/1654] Loss: 3.5241\n",
            "Epoch [1/5] Batch [42/1654] Loss: 3.4836\n",
            "Epoch [1/5] Batch [43/1654] Loss: 3.5124\n",
            "Epoch [1/5] Batch [44/1654] Loss: 3.5276\n",
            "Epoch [1/5] Batch [45/1654] Loss: 3.4786\n",
            "Epoch [1/5] Batch [46/1654] Loss: 3.5086\n",
            "Epoch [1/5] Batch [47/1654] Loss: 3.4834\n",
            "Epoch [1/5] Batch [48/1654] Loss: 3.4944\n"
          ]
        },
        {
          "output_type": "stream",
          "name": "stderr",
          "text": [
            "  3%|▎         | 55/1654 [00:03<00:43, 37.12it/s]"
          ]
        },
        {
          "output_type": "stream",
          "name": "stdout",
          "text": [
            "Epoch [1/5] Batch [49/1654] Loss: 3.5540\n",
            "Epoch [1/5] Batch [50/1654] Loss: 3.4693\n",
            "Epoch [1/5] Batch [51/1654] Loss: 3.5644\n",
            "Epoch [1/5] Batch [52/1654] Loss: 3.5389\n",
            "Epoch [1/5] Batch [53/1654] Loss: 3.5637\n",
            "Epoch [1/5] Batch [54/1654] Loss: 3.4754\n",
            "Epoch [1/5] Batch [55/1654] Loss: 3.5255\n",
            "Epoch [1/5] Batch [56/1654] Loss: 3.5433\n"
          ]
        },
        {
          "output_type": "stream",
          "name": "stderr",
          "text": [
            "  4%|▍         | 63/1654 [00:03<00:42, 37.59it/s]"
          ]
        },
        {
          "output_type": "stream",
          "name": "stdout",
          "text": [
            "Epoch [1/5] Batch [57/1654] Loss: 3.5171\n",
            "Epoch [1/5] Batch [58/1654] Loss: 3.5270\n",
            "Epoch [1/5] Batch [59/1654] Loss: 3.4971\n",
            "Epoch [1/5] Batch [60/1654] Loss: 3.4971\n",
            "Epoch [1/5] Batch [61/1654] Loss: 3.4871\n",
            "Epoch [1/5] Batch [62/1654] Loss: 3.5377\n",
            "Epoch [1/5] Batch [63/1654] Loss: 3.4616\n",
            "Epoch [1/5] Batch [64/1654] Loss: 3.4534\n"
          ]
        },
        {
          "output_type": "stream",
          "name": "stderr",
          "text": [
            "  4%|▍         | 71/1654 [00:03<00:42, 37.47it/s]"
          ]
        },
        {
          "output_type": "stream",
          "name": "stdout",
          "text": [
            "Epoch [1/5] Batch [65/1654] Loss: 3.5255\n",
            "Epoch [1/5] Batch [66/1654] Loss: 3.5573\n",
            "Epoch [1/5] Batch [67/1654] Loss: 3.4723\n",
            "Epoch [1/5] Batch [68/1654] Loss: 3.4822\n",
            "Epoch [1/5] Batch [69/1654] Loss: 3.5037\n",
            "Epoch [1/5] Batch [70/1654] Loss: 3.5202\n",
            "Epoch [1/5] Batch [71/1654] Loss: 3.5041\n",
            "Epoch [1/5] Batch [72/1654] Loss: 3.5782\n"
          ]
        },
        {
          "output_type": "stream",
          "name": "stderr",
          "text": [
            "  5%|▍         | 79/1654 [00:04<00:41, 38.18it/s]"
          ]
        },
        {
          "output_type": "stream",
          "name": "stdout",
          "text": [
            "Epoch [1/5] Batch [73/1654] Loss: 3.4729\n",
            "Epoch [1/5] Batch [74/1654] Loss: 3.5526\n",
            "Epoch [1/5] Batch [75/1654] Loss: 3.5510\n",
            "Epoch [1/5] Batch [76/1654] Loss: 3.4821\n",
            "Epoch [1/5] Batch [77/1654] Loss: 3.4446\n",
            "Epoch [1/5] Batch [78/1654] Loss: 3.5106\n",
            "Epoch [1/5] Batch [79/1654] Loss: 3.4914\n",
            "Epoch [1/5] Batch [80/1654] Loss: 3.4873\n"
          ]
        },
        {
          "output_type": "stream",
          "name": "stderr",
          "text": [
            "  5%|▌         | 87/1654 [00:04<00:40, 38.64it/s]"
          ]
        },
        {
          "output_type": "stream",
          "name": "stdout",
          "text": [
            "Epoch [1/5] Batch [81/1654] Loss: 3.4645\n",
            "Epoch [1/5] Batch [82/1654] Loss: 3.5119\n",
            "Epoch [1/5] Batch [83/1654] Loss: 3.5314\n",
            "Epoch [1/5] Batch [84/1654] Loss: 3.6619\n",
            "Epoch [1/5] Batch [85/1654] Loss: 3.5292\n",
            "Epoch [1/5] Batch [86/1654] Loss: 3.5142\n",
            "Epoch [1/5] Batch [87/1654] Loss: 3.4805\n",
            "Epoch [1/5] Batch [88/1654] Loss: 3.4644\n"
          ]
        },
        {
          "output_type": "stream",
          "name": "stderr",
          "text": [
            "  6%|▌         | 95/1654 [00:04<00:40, 38.45it/s]"
          ]
        },
        {
          "output_type": "stream",
          "name": "stdout",
          "text": [
            "Epoch [1/5] Batch [89/1654] Loss: 3.5034\n",
            "Epoch [1/5] Batch [90/1654] Loss: 3.5002\n",
            "Epoch [1/5] Batch [91/1654] Loss: 3.4843\n",
            "Epoch [1/5] Batch [92/1654] Loss: 3.4872\n",
            "Epoch [1/5] Batch [93/1654] Loss: 3.4566\n",
            "Epoch [1/5] Batch [94/1654] Loss: 3.5114\n",
            "Epoch [1/5] Batch [95/1654] Loss: 3.4290\n",
            "Epoch [1/5] Batch [96/1654] Loss: 3.5154\n"
          ]
        },
        {
          "output_type": "stream",
          "name": "stderr",
          "text": [
            "  6%|▌         | 103/1654 [00:04<00:40, 38.31it/s]"
          ]
        },
        {
          "output_type": "stream",
          "name": "stdout",
          "text": [
            "Epoch [1/5] Batch [97/1654] Loss: 3.5134\n",
            "Epoch [1/5] Batch [98/1654] Loss: 3.4886\n",
            "Epoch [1/5] Batch [99/1654] Loss: 3.4558\n",
            "Epoch [1/5] Batch [100/1654] Loss: 3.4768\n",
            "Epoch [1/5] Batch [101/1654] Loss: 3.4925\n",
            "Epoch [1/5] Batch [102/1654] Loss: 3.4167\n",
            "Epoch [1/5] Batch [103/1654] Loss: 3.4260\n",
            "Epoch [1/5] Batch [104/1654] Loss: 3.4716\n"
          ]
        },
        {
          "output_type": "stream",
          "name": "stderr",
          "text": [
            "  7%|▋         | 111/1654 [00:04<00:40, 38.42it/s]"
          ]
        },
        {
          "output_type": "stream",
          "name": "stdout",
          "text": [
            "Epoch [1/5] Batch [105/1654] Loss: 3.4493\n",
            "Epoch [1/5] Batch [106/1654] Loss: 3.4087\n",
            "Epoch [1/5] Batch [107/1654] Loss: 3.4780\n",
            "Epoch [1/5] Batch [108/1654] Loss: 3.3751\n",
            "Epoch [1/5] Batch [109/1654] Loss: 3.4674\n",
            "Epoch [1/5] Batch [110/1654] Loss: 3.4960\n",
            "Epoch [1/5] Batch [111/1654] Loss: 3.4332\n",
            "Epoch [1/5] Batch [112/1654] Loss: 3.5183\n"
          ]
        },
        {
          "output_type": "stream",
          "name": "stderr",
          "text": [
            "  7%|▋         | 120/1654 [00:05<00:39, 39.16it/s]"
          ]
        },
        {
          "output_type": "stream",
          "name": "stdout",
          "text": [
            "Epoch [1/5] Batch [113/1654] Loss: 3.4685\n",
            "Epoch [1/5] Batch [114/1654] Loss: 3.4614\n",
            "Epoch [1/5] Batch [115/1654] Loss: 3.4879\n",
            "Epoch [1/5] Batch [116/1654] Loss: 3.4818\n",
            "Epoch [1/5] Batch [117/1654] Loss: 3.4794\n",
            "Epoch [1/5] Batch [118/1654] Loss: 3.4903\n",
            "Epoch [1/5] Batch [119/1654] Loss: 3.4015\n",
            "Epoch [1/5] Batch [120/1654] Loss: 3.4938\n",
            "Epoch [1/5] Batch [121/1654] Loss: 3.4759\n"
          ]
        },
        {
          "output_type": "stream",
          "name": "stderr",
          "text": [
            "  8%|▊         | 128/1654 [00:05<00:39, 38.95it/s]"
          ]
        },
        {
          "output_type": "stream",
          "name": "stdout",
          "text": [
            "Epoch [1/5] Batch [122/1654] Loss: 3.4525\n",
            "Epoch [1/5] Batch [123/1654] Loss: 3.5616\n",
            "Epoch [1/5] Batch [124/1654] Loss: 3.4505\n",
            "Epoch [1/5] Batch [125/1654] Loss: 3.3931\n",
            "Epoch [1/5] Batch [126/1654] Loss: 3.4669\n",
            "Epoch [1/5] Batch [127/1654] Loss: 3.4125\n",
            "Epoch [1/5] Batch [128/1654] Loss: 3.4966\n",
            "Epoch [1/5] Batch [129/1654] Loss: 3.4907\n"
          ]
        },
        {
          "output_type": "stream",
          "name": "stderr",
          "text": [
            "  8%|▊         | 136/1654 [00:05<00:39, 38.60it/s]"
          ]
        },
        {
          "output_type": "stream",
          "name": "stdout",
          "text": [
            "Epoch [1/5] Batch [130/1654] Loss: 3.3754\n",
            "Epoch [1/5] Batch [131/1654] Loss: 3.3934\n",
            "Epoch [1/5] Batch [132/1654] Loss: 3.4836\n",
            "Epoch [1/5] Batch [133/1654] Loss: 3.3633\n",
            "Epoch [1/5] Batch [134/1654] Loss: 3.4184\n",
            "Epoch [1/5] Batch [135/1654] Loss: 3.4336\n",
            "Epoch [1/5] Batch [136/1654] Loss: 3.3970\n",
            "Epoch [1/5] Batch [137/1654] Loss: 3.3608\n"
          ]
        },
        {
          "output_type": "stream",
          "name": "stderr",
          "text": [
            "  9%|▊         | 144/1654 [00:05<00:39, 38.22it/s]"
          ]
        },
        {
          "output_type": "stream",
          "name": "stdout",
          "text": [
            "Epoch [1/5] Batch [138/1654] Loss: 3.3769\n",
            "Epoch [1/5] Batch [139/1654] Loss: 3.3952\n",
            "Epoch [1/5] Batch [140/1654] Loss: 3.4585\n",
            "Epoch [1/5] Batch [141/1654] Loss: 3.4335\n",
            "Epoch [1/5] Batch [142/1654] Loss: 3.3498\n",
            "Epoch [1/5] Batch [143/1654] Loss: 3.4624\n",
            "Epoch [1/5] Batch [144/1654] Loss: 3.4417\n",
            "Epoch [1/5] Batch [145/1654] Loss: 3.4060\n"
          ]
        },
        {
          "output_type": "stream",
          "name": "stderr",
          "text": [
            "  9%|▉         | 152/1654 [00:05<00:38, 38.54it/s]"
          ]
        },
        {
          "output_type": "stream",
          "name": "stdout",
          "text": [
            "Epoch [1/5] Batch [146/1654] Loss: 3.3305\n",
            "Epoch [1/5] Batch [147/1654] Loss: 3.3806\n",
            "Epoch [1/5] Batch [148/1654] Loss: 3.4039\n",
            "Epoch [1/5] Batch [149/1654] Loss: 3.3359\n",
            "Epoch [1/5] Batch [150/1654] Loss: 3.3620\n",
            "Epoch [1/5] Batch [151/1654] Loss: 3.4248\n",
            "Epoch [1/5] Batch [152/1654] Loss: 3.2729\n",
            "Epoch [1/5] Batch [153/1654] Loss: 3.4438\n"
          ]
        },
        {
          "output_type": "stream",
          "name": "stderr",
          "text": [
            " 10%|▉         | 160/1654 [00:06<00:38, 38.94it/s]"
          ]
        },
        {
          "output_type": "stream",
          "name": "stdout",
          "text": [
            "Epoch [1/5] Batch [154/1654] Loss: 3.3786\n",
            "Epoch [1/5] Batch [155/1654] Loss: 3.4281\n",
            "Epoch [1/5] Batch [156/1654] Loss: 3.2088\n",
            "Epoch [1/5] Batch [157/1654] Loss: 3.3722\n",
            "Epoch [1/5] Batch [158/1654] Loss: 3.4265\n",
            "Epoch [1/5] Batch [159/1654] Loss: 3.2922\n",
            "Epoch [1/5] Batch [160/1654] Loss: 3.4387\n",
            "Epoch [1/5] Batch [161/1654] Loss: 3.4273\n"
          ]
        },
        {
          "output_type": "stream",
          "name": "stderr",
          "text": [
            " 10%|█         | 168/1654 [00:06<00:38, 38.78it/s]"
          ]
        },
        {
          "output_type": "stream",
          "name": "stdout",
          "text": [
            "Epoch [1/5] Batch [162/1654] Loss: 3.3324\n",
            "Epoch [1/5] Batch [163/1654] Loss: 3.2433\n",
            "Epoch [1/5] Batch [164/1654] Loss: 3.3731\n",
            "Epoch [1/5] Batch [165/1654] Loss: 3.3160\n",
            "Epoch [1/5] Batch [166/1654] Loss: 3.2635\n",
            "Epoch [1/5] Batch [167/1654] Loss: 3.3807\n",
            "Epoch [1/5] Batch [168/1654] Loss: 3.3555\n",
            "Epoch [1/5] Batch [169/1654] Loss: 3.3650\n"
          ]
        },
        {
          "output_type": "stream",
          "name": "stderr",
          "text": [
            " 11%|█         | 176/1654 [00:06<00:38, 38.70it/s]"
          ]
        },
        {
          "output_type": "stream",
          "name": "stdout",
          "text": [
            "Epoch [1/5] Batch [170/1654] Loss: 3.3061\n",
            "Epoch [1/5] Batch [171/1654] Loss: 3.3384\n",
            "Epoch [1/5] Batch [172/1654] Loss: 3.2712\n",
            "Epoch [1/5] Batch [173/1654] Loss: 3.4153\n",
            "Epoch [1/5] Batch [174/1654] Loss: 3.4546\n",
            "Epoch [1/5] Batch [175/1654] Loss: 3.3105\n",
            "Epoch [1/5] Batch [176/1654] Loss: 3.4063\n",
            "Epoch [1/5] Batch [177/1654] Loss: 3.4727\n"
          ]
        },
        {
          "output_type": "stream",
          "name": "stderr",
          "text": [
            " 11%|█         | 184/1654 [00:06<00:38, 38.20it/s]"
          ]
        },
        {
          "output_type": "stream",
          "name": "stdout",
          "text": [
            "Epoch [1/5] Batch [178/1654] Loss: 3.3232\n",
            "Epoch [1/5] Batch [179/1654] Loss: 3.4374\n",
            "Epoch [1/5] Batch [180/1654] Loss: 3.2703\n",
            "Epoch [1/5] Batch [181/1654] Loss: 3.3809\n",
            "Epoch [1/5] Batch [182/1654] Loss: 3.1361\n",
            "Epoch [1/5] Batch [183/1654] Loss: 3.4534\n",
            "Epoch [1/5] Batch [184/1654] Loss: 3.2953\n",
            "Epoch [1/5] Batch [185/1654] Loss: 3.2382\n"
          ]
        },
        {
          "output_type": "stream",
          "name": "stderr",
          "text": [
            " 12%|█▏        | 192/1654 [00:06<00:38, 38.44it/s]"
          ]
        },
        {
          "output_type": "stream",
          "name": "stdout",
          "text": [
            "Epoch [1/5] Batch [186/1654] Loss: 3.3613\n",
            "Epoch [1/5] Batch [187/1654] Loss: 3.2716\n",
            "Epoch [1/5] Batch [188/1654] Loss: 3.3750\n",
            "Epoch [1/5] Batch [189/1654] Loss: 3.2672\n",
            "Epoch [1/5] Batch [190/1654] Loss: 3.2343\n",
            "Epoch [1/5] Batch [191/1654] Loss: 3.2722\n",
            "Epoch [1/5] Batch [192/1654] Loss: 3.3213\n",
            "Epoch [1/5] Batch [193/1654] Loss: 3.2573\n"
          ]
        },
        {
          "output_type": "stream",
          "name": "stderr",
          "text": [
            " 12%|█▏        | 200/1654 [00:07<00:37, 38.49it/s]"
          ]
        },
        {
          "output_type": "stream",
          "name": "stdout",
          "text": [
            "Epoch [1/5] Batch [194/1654] Loss: 3.3515\n",
            "Epoch [1/5] Batch [195/1654] Loss: 3.1967\n",
            "Epoch [1/5] Batch [196/1654] Loss: 3.1872\n",
            "Epoch [1/5] Batch [197/1654] Loss: 3.1180\n",
            "Epoch [1/5] Batch [198/1654] Loss: 3.1874\n",
            "Epoch [1/5] Batch [199/1654] Loss: 3.0365\n",
            "Epoch [1/5] Batch [200/1654] Loss: 3.3468\n",
            "Epoch [1/5] Batch [201/1654] Loss: 3.2656\n"
          ]
        },
        {
          "output_type": "stream",
          "name": "stderr",
          "text": [
            " 13%|█▎        | 208/1654 [00:07<00:37, 38.97it/s]"
          ]
        },
        {
          "output_type": "stream",
          "name": "stdout",
          "text": [
            "Epoch [1/5] Batch [202/1654] Loss: 3.2790\n",
            "Epoch [1/5] Batch [203/1654] Loss: 3.3172\n",
            "Epoch [1/5] Batch [204/1654] Loss: 3.1917\n",
            "Epoch [1/5] Batch [205/1654] Loss: 3.1441\n",
            "Epoch [1/5] Batch [206/1654] Loss: 3.2889\n",
            "Epoch [1/5] Batch [207/1654] Loss: 3.3928\n",
            "Epoch [1/5] Batch [208/1654] Loss: 3.2587\n",
            "Epoch [1/5] Batch [209/1654] Loss: 3.1776\n"
          ]
        },
        {
          "output_type": "stream",
          "name": "stderr",
          "text": [
            " 13%|█▎        | 216/1654 [00:07<00:36, 38.91it/s]"
          ]
        },
        {
          "output_type": "stream",
          "name": "stdout",
          "text": [
            "Epoch [1/5] Batch [210/1654] Loss: 3.2259\n",
            "Epoch [1/5] Batch [211/1654] Loss: 3.2084\n",
            "Epoch [1/5] Batch [212/1654] Loss: 3.2766\n",
            "Epoch [1/5] Batch [213/1654] Loss: 3.2541\n",
            "Epoch [1/5] Batch [214/1654] Loss: 3.1519\n",
            "Epoch [1/5] Batch [215/1654] Loss: 3.2115\n",
            "Epoch [1/5] Batch [216/1654] Loss: 3.2224\n",
            "Epoch [1/5] Batch [217/1654] Loss: 3.2255\n"
          ]
        },
        {
          "output_type": "stream",
          "name": "stderr",
          "text": [
            " 14%|█▎        | 224/1654 [00:07<00:37, 38.20it/s]"
          ]
        },
        {
          "output_type": "stream",
          "name": "stdout",
          "text": [
            "Epoch [1/5] Batch [218/1654] Loss: 3.2507\n",
            "Epoch [1/5] Batch [219/1654] Loss: 3.2393\n",
            "Epoch [1/5] Batch [220/1654] Loss: 3.1184\n",
            "Epoch [1/5] Batch [221/1654] Loss: 3.0125\n",
            "Epoch [1/5] Batch [222/1654] Loss: 3.1845\n",
            "Epoch [1/5] Batch [223/1654] Loss: 3.1778\n",
            "Epoch [1/5] Batch [224/1654] Loss: 3.2399\n",
            "Epoch [1/5] Batch [225/1654] Loss: 3.1339\n"
          ]
        },
        {
          "output_type": "stream",
          "name": "stderr",
          "text": [
            " 14%|█▍        | 232/1654 [00:07<00:36, 38.55it/s]"
          ]
        },
        {
          "output_type": "stream",
          "name": "stdout",
          "text": [
            "Epoch [1/5] Batch [226/1654] Loss: 3.2167\n",
            "Epoch [1/5] Batch [227/1654] Loss: 3.0616\n",
            "Epoch [1/5] Batch [228/1654] Loss: 3.1905\n",
            "Epoch [1/5] Batch [229/1654] Loss: 3.1237\n",
            "Epoch [1/5] Batch [230/1654] Loss: 3.1598\n",
            "Epoch [1/5] Batch [231/1654] Loss: 3.2275\n",
            "Epoch [1/5] Batch [232/1654] Loss: 3.1852\n",
            "Epoch [1/5] Batch [233/1654] Loss: 3.2435\n"
          ]
        },
        {
          "output_type": "stream",
          "name": "stderr",
          "text": [
            " 15%|█▍        | 241/1654 [00:08<00:36, 39.20it/s]"
          ]
        },
        {
          "output_type": "stream",
          "name": "stdout",
          "text": [
            "Epoch [1/5] Batch [234/1654] Loss: 3.3881\n",
            "Epoch [1/5] Batch [235/1654] Loss: 3.2515\n",
            "Epoch [1/5] Batch [236/1654] Loss: 3.0461\n",
            "Epoch [1/5] Batch [237/1654] Loss: 3.1647\n",
            "Epoch [1/5] Batch [238/1654] Loss: 3.0294\n",
            "Epoch [1/5] Batch [239/1654] Loss: 3.2701\n",
            "Epoch [1/5] Batch [240/1654] Loss: 3.1519\n",
            "Epoch [1/5] Batch [241/1654] Loss: 3.3970\n"
          ]
        },
        {
          "output_type": "stream",
          "name": "stderr",
          "text": [
            "\r 15%|█▍        | 245/1654 [00:08<00:40, 35.01it/s]"
          ]
        },
        {
          "output_type": "stream",
          "name": "stdout",
          "text": [
            "Epoch [1/5] Batch [242/1654] Loss: 3.1224\n",
            "Epoch [1/5] Batch [243/1654] Loss: 3.0242\n",
            "Epoch [1/5] Batch [244/1654] Loss: 3.1304\n",
            "Epoch [1/5] Batch [245/1654] Loss: 3.2884\n",
            "Epoch [1/5] Batch [246/1654] Loss: 3.0913\n",
            "Epoch [1/5] Batch [247/1654] Loss: 3.2101\n"
          ]
        },
        {
          "output_type": "stream",
          "name": "stderr",
          "text": [
            " 15%|█▌        | 253/1654 [00:08<00:42, 32.62it/s]"
          ]
        },
        {
          "output_type": "stream",
          "name": "stdout",
          "text": [
            "Epoch [1/5] Batch [248/1654] Loss: 3.3604\n",
            "Epoch [1/5] Batch [249/1654] Loss: 3.2355\n",
            "Epoch [1/5] Batch [250/1654] Loss: 3.1533\n",
            "Epoch [1/5] Batch [251/1654] Loss: 3.2690\n",
            "Epoch [1/5] Batch [252/1654] Loss: 3.2073\n",
            "Epoch [1/5] Batch [253/1654] Loss: 3.4183\n",
            "Epoch [1/5] Batch [254/1654] Loss: 3.2069\n"
          ]
        },
        {
          "output_type": "stream",
          "name": "stderr",
          "text": [
            " 16%|█▌        | 261/1654 [00:08<00:44, 31.64it/s]"
          ]
        },
        {
          "output_type": "stream",
          "name": "stdout",
          "text": [
            "Epoch [1/5] Batch [255/1654] Loss: 3.0160\n",
            "Epoch [1/5] Batch [256/1654] Loss: 3.1503\n",
            "Epoch [1/5] Batch [257/1654] Loss: 3.1737\n",
            "Epoch [1/5] Batch [258/1654] Loss: 3.3151\n",
            "Epoch [1/5] Batch [259/1654] Loss: 3.1486\n",
            "Epoch [1/5] Batch [260/1654] Loss: 3.1480\n",
            "Epoch [1/5] Batch [261/1654] Loss: 3.2011\n"
          ]
        },
        {
          "output_type": "stream",
          "name": "stderr",
          "text": [
            "\r 16%|█▌        | 265/1654 [00:09<00:44, 31.30it/s]"
          ]
        },
        {
          "output_type": "stream",
          "name": "stdout",
          "text": [
            "Epoch [1/5] Batch [262/1654] Loss: 3.1978\n",
            "Epoch [1/5] Batch [263/1654] Loss: 3.0660\n",
            "Epoch [1/5] Batch [264/1654] Loss: 3.2699\n",
            "Epoch [1/5] Batch [265/1654] Loss: 3.1347\n",
            "Epoch [1/5] Batch [266/1654] Loss: 3.1173\n",
            "Epoch [1/5] Batch [267/1654] Loss: 3.1807\n",
            "Epoch [1/5] Batch [268/1654] Loss: 3.2429\n"
          ]
        },
        {
          "output_type": "stream",
          "name": "stderr",
          "text": [
            " 17%|█▋        | 273/1654 [00:09<00:44, 31.06it/s]"
          ]
        },
        {
          "output_type": "stream",
          "name": "stdout",
          "text": [
            "Epoch [1/5] Batch [269/1654] Loss: 3.0193\n",
            "Epoch [1/5] Batch [270/1654] Loss: 3.3446\n",
            "Epoch [1/5] Batch [271/1654] Loss: 3.0708\n",
            "Epoch [1/5] Batch [272/1654] Loss: 3.0705\n",
            "Epoch [1/5] Batch [273/1654] Loss: 3.2526\n",
            "Epoch [1/5] Batch [274/1654] Loss: 3.0432\n",
            "Epoch [1/5] Batch [275/1654] Loss: 3.1607\n"
          ]
        },
        {
          "output_type": "stream",
          "name": "stderr",
          "text": [
            " 17%|█▋        | 281/1654 [00:09<00:44, 30.81it/s]"
          ]
        },
        {
          "output_type": "stream",
          "name": "stdout",
          "text": [
            "Epoch [1/5] Batch [276/1654] Loss: 3.0437\n",
            "Epoch [1/5] Batch [277/1654] Loss: 3.1556\n",
            "Epoch [1/5] Batch [278/1654] Loss: 3.1860\n",
            "Epoch [1/5] Batch [279/1654] Loss: 3.1010\n",
            "Epoch [1/5] Batch [280/1654] Loss: 3.1757\n",
            "Epoch [1/5] Batch [281/1654] Loss: 3.1571\n"
          ]
        },
        {
          "output_type": "stream",
          "name": "stderr",
          "text": [
            "\r 17%|█▋        | 285/1654 [00:09<00:45, 30.20it/s]"
          ]
        },
        {
          "output_type": "stream",
          "name": "stdout",
          "text": [
            "Epoch [1/5] Batch [282/1654] Loss: 3.0604\n",
            "Epoch [1/5] Batch [283/1654] Loss: 3.2041\n",
            "Epoch [1/5] Batch [284/1654] Loss: 3.1167\n",
            "Epoch [1/5] Batch [285/1654] Loss: 3.1482\n",
            "Epoch [1/5] Batch [286/1654] Loss: 3.1618\n",
            "Epoch [1/5] Batch [287/1654] Loss: 3.0054\n"
          ]
        },
        {
          "output_type": "stream",
          "name": "stderr",
          "text": [
            " 18%|█▊        | 292/1654 [00:09<00:47, 28.96it/s]"
          ]
        },
        {
          "output_type": "stream",
          "name": "stdout",
          "text": [
            "Epoch [1/5] Batch [288/1654] Loss: 3.1989\n",
            "Epoch [1/5] Batch [289/1654] Loss: 3.0005\n",
            "Epoch [1/5] Batch [290/1654] Loss: 3.1095\n",
            "Epoch [1/5] Batch [291/1654] Loss: 3.1907\n",
            "Epoch [1/5] Batch [292/1654] Loss: 3.0400\n",
            "Epoch [1/5] Batch [293/1654] Loss: 3.1480\n"
          ]
        },
        {
          "output_type": "stream",
          "name": "stderr",
          "text": [
            " 18%|█▊        | 298/1654 [00:10<00:47, 28.36it/s]"
          ]
        },
        {
          "output_type": "stream",
          "name": "stdout",
          "text": [
            "Epoch [1/5] Batch [294/1654] Loss: 3.0690\n",
            "Epoch [1/5] Batch [295/1654] Loss: 3.1883\n",
            "Epoch [1/5] Batch [296/1654] Loss: 2.9515\n",
            "Epoch [1/5] Batch [297/1654] Loss: 3.0859\n",
            "Epoch [1/5] Batch [298/1654] Loss: 3.0084\n",
            "Epoch [1/5] Batch [299/1654] Loss: 3.0993\n"
          ]
        },
        {
          "output_type": "stream",
          "name": "stderr",
          "text": [
            " 18%|█▊        | 305/1654 [00:10<00:44, 30.52it/s]"
          ]
        },
        {
          "output_type": "stream",
          "name": "stdout",
          "text": [
            "Epoch [1/5] Batch [300/1654] Loss: 3.2195\n",
            "Epoch [1/5] Batch [301/1654] Loss: 3.0195\n",
            "Epoch [1/5] Batch [302/1654] Loss: 2.9743\n",
            "Epoch [1/5] Batch [303/1654] Loss: 2.9735\n",
            "Epoch [1/5] Batch [304/1654] Loss: 3.2687\n",
            "Epoch [1/5] Batch [305/1654] Loss: 3.3579\n",
            "Epoch [1/5] Batch [306/1654] Loss: 3.0151\n",
            "Epoch [1/5] Batch [307/1654] Loss: 3.0306\n"
          ]
        },
        {
          "output_type": "stream",
          "name": "stderr",
          "text": [
            " 19%|█▉        | 313/1654 [00:10<00:39, 33.70it/s]"
          ]
        },
        {
          "output_type": "stream",
          "name": "stdout",
          "text": [
            "Epoch [1/5] Batch [308/1654] Loss: 2.9662\n",
            "Epoch [1/5] Batch [309/1654] Loss: 2.8936\n",
            "Epoch [1/5] Batch [310/1654] Loss: 3.0865\n",
            "Epoch [1/5] Batch [311/1654] Loss: 3.2071\n",
            "Epoch [1/5] Batch [312/1654] Loss: 3.0820\n",
            "Epoch [1/5] Batch [313/1654] Loss: 3.2197\n",
            "Epoch [1/5] Batch [314/1654] Loss: 3.2268\n",
            "Epoch [1/5] Batch [315/1654] Loss: 3.3752\n"
          ]
        },
        {
          "output_type": "stream",
          "name": "stderr",
          "text": [
            " 19%|█▉        | 321/1654 [00:10<00:38, 34.63it/s]"
          ]
        },
        {
          "output_type": "stream",
          "name": "stdout",
          "text": [
            "Epoch [1/5] Batch [316/1654] Loss: 3.0927\n",
            "Epoch [1/5] Batch [317/1654] Loss: 2.8256\n",
            "Epoch [1/5] Batch [318/1654] Loss: 3.0193\n",
            "Epoch [1/5] Batch [319/1654] Loss: 3.0238\n",
            "Epoch [1/5] Batch [320/1654] Loss: 3.0657\n",
            "Epoch [1/5] Batch [321/1654] Loss: 3.0635\n",
            "Epoch [1/5] Batch [322/1654] Loss: 3.1167\n",
            "Epoch [1/5] Batch [323/1654] Loss: 3.2476\n"
          ]
        },
        {
          "output_type": "stream",
          "name": "stderr",
          "text": [
            " 20%|█▉        | 329/1654 [00:11<00:36, 36.20it/s]"
          ]
        },
        {
          "output_type": "stream",
          "name": "stdout",
          "text": [
            "Epoch [1/5] Batch [324/1654] Loss: 3.0919\n",
            "Epoch [1/5] Batch [325/1654] Loss: 3.0032\n",
            "Epoch [1/5] Batch [326/1654] Loss: 2.9875\n",
            "Epoch [1/5] Batch [327/1654] Loss: 3.0853\n",
            "Epoch [1/5] Batch [328/1654] Loss: 3.2167\n",
            "Epoch [1/5] Batch [329/1654] Loss: 3.0402\n",
            "Epoch [1/5] Batch [330/1654] Loss: 3.0757\n",
            "Epoch [1/5] Batch [331/1654] Loss: 3.1636\n"
          ]
        },
        {
          "output_type": "stream",
          "name": "stderr",
          "text": [
            " 20%|██        | 337/1654 [00:11<00:35, 37.49it/s]"
          ]
        },
        {
          "output_type": "stream",
          "name": "stdout",
          "text": [
            "Epoch [1/5] Batch [332/1654] Loss: 2.9810\n",
            "Epoch [1/5] Batch [333/1654] Loss: 3.3109\n",
            "Epoch [1/5] Batch [334/1654] Loss: 3.1723\n",
            "Epoch [1/5] Batch [335/1654] Loss: 2.9747\n",
            "Epoch [1/5] Batch [336/1654] Loss: 3.1847\n",
            "Epoch [1/5] Batch [337/1654] Loss: 2.8946\n",
            "Epoch [1/5] Batch [338/1654] Loss: 3.0341\n",
            "Epoch [1/5] Batch [339/1654] Loss: 2.9957\n"
          ]
        },
        {
          "output_type": "stream",
          "name": "stderr",
          "text": [
            " 21%|██        | 345/1654 [00:11<00:34, 37.89it/s]"
          ]
        },
        {
          "output_type": "stream",
          "name": "stdout",
          "text": [
            "Epoch [1/5] Batch [340/1654] Loss: 3.0443\n",
            "Epoch [1/5] Batch [341/1654] Loss: 3.0758\n",
            "Epoch [1/5] Batch [342/1654] Loss: 3.0294\n",
            "Epoch [1/5] Batch [343/1654] Loss: 2.9978\n",
            "Epoch [1/5] Batch [344/1654] Loss: 2.9071\n",
            "Epoch [1/5] Batch [345/1654] Loss: 3.2150\n",
            "Epoch [1/5] Batch [346/1654] Loss: 3.0462\n",
            "Epoch [1/5] Batch [347/1654] Loss: 3.1056\n"
          ]
        },
        {
          "output_type": "stream",
          "name": "stderr",
          "text": [
            " 21%|██▏       | 353/1654 [00:11<00:33, 38.34it/s]"
          ]
        },
        {
          "output_type": "stream",
          "name": "stdout",
          "text": [
            "Epoch [1/5] Batch [348/1654] Loss: 3.0067\n",
            "Epoch [1/5] Batch [349/1654] Loss: 3.1688\n",
            "Epoch [1/5] Batch [350/1654] Loss: 3.0741\n",
            "Epoch [1/5] Batch [351/1654] Loss: 3.0415\n",
            "Epoch [1/5] Batch [352/1654] Loss: 2.9622\n",
            "Epoch [1/5] Batch [353/1654] Loss: 2.8077\n",
            "Epoch [1/5] Batch [354/1654] Loss: 2.9865\n",
            "Epoch [1/5] Batch [355/1654] Loss: 3.0857\n"
          ]
        },
        {
          "output_type": "stream",
          "name": "stderr",
          "text": [
            " 22%|██▏       | 361/1654 [00:11<00:35, 36.41it/s]"
          ]
        },
        {
          "output_type": "stream",
          "name": "stdout",
          "text": [
            "Epoch [1/5] Batch [356/1654] Loss: 3.0139\n",
            "Epoch [1/5] Batch [357/1654] Loss: 3.0936\n",
            "Epoch [1/5] Batch [358/1654] Loss: 2.9875\n",
            "Epoch [1/5] Batch [359/1654] Loss: 2.8578\n",
            "Epoch [1/5] Batch [360/1654] Loss: 3.1592\n",
            "Epoch [1/5] Batch [361/1654] Loss: 2.9799\n",
            "Epoch [1/5] Batch [362/1654] Loss: 2.9288\n",
            "Epoch [1/5] Batch [363/1654] Loss: 3.0920\n"
          ]
        },
        {
          "output_type": "stream",
          "name": "stderr",
          "text": [
            " 22%|██▏       | 369/1654 [00:12<00:34, 37.21it/s]"
          ]
        },
        {
          "output_type": "stream",
          "name": "stdout",
          "text": [
            "Epoch [1/5] Batch [364/1654] Loss: 3.1354\n",
            "Epoch [1/5] Batch [365/1654] Loss: 3.0371\n",
            "Epoch [1/5] Batch [366/1654] Loss: 3.1409\n",
            "Epoch [1/5] Batch [367/1654] Loss: 2.9526\n",
            "Epoch [1/5] Batch [368/1654] Loss: 3.1191\n",
            "Epoch [1/5] Batch [369/1654] Loss: 3.1060\n",
            "Epoch [1/5] Batch [370/1654] Loss: 2.8993\n",
            "Epoch [1/5] Batch [371/1654] Loss: 2.9176\n"
          ]
        },
        {
          "output_type": "stream",
          "name": "stderr",
          "text": [
            " 23%|██▎       | 377/1654 [00:12<00:33, 37.79it/s]"
          ]
        },
        {
          "output_type": "stream",
          "name": "stdout",
          "text": [
            "Epoch [1/5] Batch [372/1654] Loss: 2.9200\n",
            "Epoch [1/5] Batch [373/1654] Loss: 2.8726\n",
            "Epoch [1/5] Batch [374/1654] Loss: 2.9126\n",
            "Epoch [1/5] Batch [375/1654] Loss: 2.9594\n",
            "Epoch [1/5] Batch [376/1654] Loss: 3.0032\n",
            "Epoch [1/5] Batch [377/1654] Loss: 2.8681\n",
            "Epoch [1/5] Batch [378/1654] Loss: 3.0264\n",
            "Epoch [1/5] Batch [379/1654] Loss: 3.0322\n"
          ]
        },
        {
          "output_type": "stream",
          "name": "stderr",
          "text": [
            " 23%|██▎       | 385/1654 [00:12<00:33, 38.37it/s]"
          ]
        },
        {
          "output_type": "stream",
          "name": "stdout",
          "text": [
            "Epoch [1/5] Batch [380/1654] Loss: 2.9146\n",
            "Epoch [1/5] Batch [381/1654] Loss: 2.9644\n",
            "Epoch [1/5] Batch [382/1654] Loss: 3.1718\n",
            "Epoch [1/5] Batch [383/1654] Loss: 2.9946\n",
            "Epoch [1/5] Batch [384/1654] Loss: 2.8041\n",
            "Epoch [1/5] Batch [385/1654] Loss: 2.9249\n",
            "Epoch [1/5] Batch [386/1654] Loss: 2.7779\n",
            "Epoch [1/5] Batch [387/1654] Loss: 3.2091\n"
          ]
        },
        {
          "output_type": "stream",
          "name": "stderr",
          "text": [
            " 24%|██▍       | 394/1654 [00:12<00:32, 39.36it/s]"
          ]
        },
        {
          "output_type": "stream",
          "name": "stdout",
          "text": [
            "Epoch [1/5] Batch [388/1654] Loss: 3.1697\n",
            "Epoch [1/5] Batch [389/1654] Loss: 2.7595\n",
            "Epoch [1/5] Batch [390/1654] Loss: 2.9153\n",
            "Epoch [1/5] Batch [391/1654] Loss: 2.9320\n",
            "Epoch [1/5] Batch [392/1654] Loss: 3.1157\n",
            "Epoch [1/5] Batch [393/1654] Loss: 2.9965\n",
            "Epoch [1/5] Batch [394/1654] Loss: 2.9731\n",
            "Epoch [1/5] Batch [395/1654] Loss: 2.9992\n",
            "Epoch [1/5] Batch [396/1654] Loss: 3.3242\n"
          ]
        },
        {
          "output_type": "stream",
          "name": "stderr",
          "text": [
            " 24%|██▍       | 402/1654 [00:12<00:33, 37.71it/s]"
          ]
        },
        {
          "output_type": "stream",
          "name": "stdout",
          "text": [
            "Epoch [1/5] Batch [397/1654] Loss: 3.0298\n",
            "Epoch [1/5] Batch [398/1654] Loss: 3.0005\n",
            "Epoch [1/5] Batch [399/1654] Loss: 2.9460\n",
            "Epoch [1/5] Batch [400/1654] Loss: 2.9955\n",
            "Epoch [1/5] Batch [401/1654] Loss: 2.9865\n",
            "Epoch [1/5] Batch [402/1654] Loss: 2.9562\n",
            "Epoch [1/5] Batch [403/1654] Loss: 3.0441\n",
            "Epoch [1/5] Batch [404/1654] Loss: 3.0244\n"
          ]
        },
        {
          "output_type": "stream",
          "name": "stderr",
          "text": [
            " 25%|██▍       | 410/1654 [00:13<00:32, 38.04it/s]"
          ]
        },
        {
          "output_type": "stream",
          "name": "stdout",
          "text": [
            "Epoch [1/5] Batch [405/1654] Loss: 3.1741\n",
            "Epoch [1/5] Batch [406/1654] Loss: 2.8895\n",
            "Epoch [1/5] Batch [407/1654] Loss: 2.9705\n",
            "Epoch [1/5] Batch [408/1654] Loss: 2.9782\n",
            "Epoch [1/5] Batch [409/1654] Loss: 2.8732\n",
            "Epoch [1/5] Batch [410/1654] Loss: 3.0097\n",
            "Epoch [1/5] Batch [411/1654] Loss: 3.0665\n",
            "Epoch [1/5] Batch [412/1654] Loss: 3.0831\n"
          ]
        },
        {
          "output_type": "stream",
          "name": "stderr",
          "text": [
            " 25%|██▌       | 419/1654 [00:13<00:31, 39.02it/s]"
          ]
        },
        {
          "output_type": "stream",
          "name": "stdout",
          "text": [
            "Epoch [1/5] Batch [413/1654] Loss: 3.1383\n",
            "Epoch [1/5] Batch [414/1654] Loss: 3.2548\n",
            "Epoch [1/5] Batch [415/1654] Loss: 2.9925\n",
            "Epoch [1/5] Batch [416/1654] Loss: 3.0456\n",
            "Epoch [1/5] Batch [417/1654] Loss: 2.9826\n",
            "Epoch [1/5] Batch [418/1654] Loss: 2.9604\n",
            "Epoch [1/5] Batch [419/1654] Loss: 3.0854\n",
            "Epoch [1/5] Batch [420/1654] Loss: 2.7565\n"
          ]
        },
        {
          "output_type": "stream",
          "name": "stderr",
          "text": [
            " 26%|██▌       | 427/1654 [00:13<00:31, 38.78it/s]"
          ]
        },
        {
          "output_type": "stream",
          "name": "stdout",
          "text": [
            "Epoch [1/5] Batch [421/1654] Loss: 2.8408\n",
            "Epoch [1/5] Batch [422/1654] Loss: 3.0479\n",
            "Epoch [1/5] Batch [423/1654] Loss: 2.8470\n",
            "Epoch [1/5] Batch [424/1654] Loss: 2.7953\n",
            "Epoch [1/5] Batch [425/1654] Loss: 3.0445\n",
            "Epoch [1/5] Batch [426/1654] Loss: 3.1126\n",
            "Epoch [1/5] Batch [427/1654] Loss: 3.0146\n",
            "Epoch [1/5] Batch [428/1654] Loss: 2.9612\n"
          ]
        },
        {
          "output_type": "stream",
          "name": "stderr",
          "text": [
            " 26%|██▋       | 436/1654 [00:13<00:30, 39.39it/s]"
          ]
        },
        {
          "output_type": "stream",
          "name": "stdout",
          "text": [
            "Epoch [1/5] Batch [429/1654] Loss: 3.0673\n",
            "Epoch [1/5] Batch [430/1654] Loss: 3.0439\n",
            "Epoch [1/5] Batch [431/1654] Loss: 2.8725\n",
            "Epoch [1/5] Batch [432/1654] Loss: 3.0354\n",
            "Epoch [1/5] Batch [433/1654] Loss: 3.0394\n",
            "Epoch [1/5] Batch [434/1654] Loss: 3.0181\n",
            "Epoch [1/5] Batch [435/1654] Loss: 2.9975\n",
            "Epoch [1/5] Batch [436/1654] Loss: 3.0362\n"
          ]
        },
        {
          "output_type": "stream",
          "name": "stderr",
          "text": [
            " 27%|██▋       | 444/1654 [00:14<00:31, 38.31it/s]"
          ]
        },
        {
          "output_type": "stream",
          "name": "stdout",
          "text": [
            "Epoch [1/5] Batch [437/1654] Loss: 3.0206\n",
            "Epoch [1/5] Batch [438/1654] Loss: 2.8308\n",
            "Epoch [1/5] Batch [439/1654] Loss: 2.8889\n",
            "Epoch [1/5] Batch [440/1654] Loss: 3.0188\n",
            "Epoch [1/5] Batch [441/1654] Loss: 2.7458\n",
            "Epoch [1/5] Batch [442/1654] Loss: 2.7710\n",
            "Epoch [1/5] Batch [443/1654] Loss: 2.9886\n",
            "Epoch [1/5] Batch [444/1654] Loss: 2.9834\n"
          ]
        },
        {
          "output_type": "stream",
          "name": "stderr",
          "text": [
            " 27%|██▋       | 452/1654 [00:14<00:31, 38.63it/s]"
          ]
        },
        {
          "output_type": "stream",
          "name": "stdout",
          "text": [
            "Epoch [1/5] Batch [445/1654] Loss: 2.8989\n",
            "Epoch [1/5] Batch [446/1654] Loss: 2.9887\n",
            "Epoch [1/5] Batch [447/1654] Loss: 3.0083\n",
            "Epoch [1/5] Batch [448/1654] Loss: 3.0318\n",
            "Epoch [1/5] Batch [449/1654] Loss: 2.9779\n",
            "Epoch [1/5] Batch [450/1654] Loss: 3.0416\n",
            "Epoch [1/5] Batch [451/1654] Loss: 2.8227\n",
            "Epoch [1/5] Batch [452/1654] Loss: 3.0660\n"
          ]
        },
        {
          "output_type": "stream",
          "name": "stderr",
          "text": [
            " 28%|██▊       | 461/1654 [00:14<00:30, 39.71it/s]"
          ]
        },
        {
          "output_type": "stream",
          "name": "stdout",
          "text": [
            "Epoch [1/5] Batch [453/1654] Loss: 2.9042\n",
            "Epoch [1/5] Batch [454/1654] Loss: 3.0495\n",
            "Epoch [1/5] Batch [455/1654] Loss: 2.9917\n",
            "Epoch [1/5] Batch [456/1654] Loss: 2.8768\n",
            "Epoch [1/5] Batch [457/1654] Loss: 3.0048\n",
            "Epoch [1/5] Batch [458/1654] Loss: 2.8385\n",
            "Epoch [1/5] Batch [459/1654] Loss: 2.9653\n",
            "Epoch [1/5] Batch [460/1654] Loss: 2.9510\n",
            "Epoch [1/5] Batch [461/1654] Loss: 2.9139\n"
          ]
        },
        {
          "output_type": "stream",
          "name": "stderr",
          "text": [
            " 28%|██▊       | 470/1654 [00:14<00:29, 39.90it/s]"
          ]
        },
        {
          "output_type": "stream",
          "name": "stdout",
          "text": [
            "Epoch [1/5] Batch [462/1654] Loss: 2.8968\n",
            "Epoch [1/5] Batch [463/1654] Loss: 2.7987\n",
            "Epoch [1/5] Batch [464/1654] Loss: 3.0875\n",
            "Epoch [1/5] Batch [465/1654] Loss: 2.7843\n",
            "Epoch [1/5] Batch [466/1654] Loss: 3.0130\n",
            "Epoch [1/5] Batch [467/1654] Loss: 3.0521\n",
            "Epoch [1/5] Batch [468/1654] Loss: 2.9864\n",
            "Epoch [1/5] Batch [469/1654] Loss: 3.0798\n",
            "Epoch [1/5] Batch [470/1654] Loss: 2.9462\n"
          ]
        },
        {
          "output_type": "stream",
          "name": "stderr",
          "text": [
            "\r 29%|██▊       | 475/1654 [00:14<00:29, 40.13it/s]"
          ]
        },
        {
          "output_type": "stream",
          "name": "stdout",
          "text": [
            "Epoch [1/5] Batch [471/1654] Loss: 2.7788\n",
            "Epoch [1/5] Batch [472/1654] Loss: 2.9480\n",
            "Epoch [1/5] Batch [473/1654] Loss: 2.8120\n",
            "Epoch [1/5] Batch [474/1654] Loss: 3.0561\n",
            "Epoch [1/5] Batch [475/1654] Loss: 2.9790\n",
            "Epoch [1/5] Batch [476/1654] Loss: 2.7985\n",
            "Epoch [1/5] Batch [477/1654] Loss: 2.7561\n",
            "Epoch [1/5] Batch [478/1654] Loss: 3.0699\n",
            "Epoch [1/5] Batch [479/1654] Loss: 2.7934\n"
          ]
        },
        {
          "output_type": "stream",
          "name": "stderr",
          "text": [
            " 29%|██▉       | 485/1654 [00:15<00:29, 39.57it/s]"
          ]
        },
        {
          "output_type": "stream",
          "name": "stdout",
          "text": [
            "Epoch [1/5] Batch [480/1654] Loss: 2.9322\n",
            "Epoch [1/5] Batch [481/1654] Loss: 2.8456\n",
            "Epoch [1/5] Batch [482/1654] Loss: 2.7422\n",
            "Epoch [1/5] Batch [483/1654] Loss: 2.7886\n",
            "Epoch [1/5] Batch [484/1654] Loss: 2.7087\n",
            "Epoch [1/5] Batch [485/1654] Loss: 3.0362\n",
            "Epoch [1/5] Batch [486/1654] Loss: 2.9094\n",
            "Epoch [1/5] Batch [487/1654] Loss: 2.8954\n",
            "Epoch [1/5] Batch [488/1654] Loss: 2.8341\n"
          ]
        },
        {
          "output_type": "stream",
          "name": "stderr",
          "text": [
            " 30%|██▉       | 493/1654 [00:15<00:29, 39.04it/s]"
          ]
        },
        {
          "output_type": "stream",
          "name": "stdout",
          "text": [
            "Epoch [1/5] Batch [489/1654] Loss: 2.8757\n",
            "Epoch [1/5] Batch [490/1654] Loss: 3.1005\n",
            "Epoch [1/5] Batch [491/1654] Loss: 2.9884\n",
            "Epoch [1/5] Batch [492/1654] Loss: 2.9496\n",
            "Epoch [1/5] Batch [493/1654] Loss: 3.0881\n",
            "Epoch [1/5] Batch [494/1654] Loss: 2.9844\n",
            "Epoch [1/5] Batch [495/1654] Loss: 2.9845\n",
            "Epoch [1/5] Batch [496/1654] Loss: 3.0784\n"
          ]
        },
        {
          "output_type": "stream",
          "name": "stderr",
          "text": [
            " 30%|███       | 502/1654 [00:15<00:29, 39.18it/s]"
          ]
        },
        {
          "output_type": "stream",
          "name": "stdout",
          "text": [
            "Epoch [1/5] Batch [497/1654] Loss: 2.9914\n",
            "Epoch [1/5] Batch [498/1654] Loss: 3.0232\n",
            "Epoch [1/5] Batch [499/1654] Loss: 3.0446\n",
            "Epoch [1/5] Batch [500/1654] Loss: 2.9292\n",
            "Epoch [1/5] Batch [501/1654] Loss: 2.8317\n",
            "Epoch [1/5] Batch [502/1654] Loss: 2.8637\n",
            "Epoch [1/5] Batch [503/1654] Loss: 3.2045\n",
            "Epoch [1/5] Batch [504/1654] Loss: 2.8722\n"
          ]
        },
        {
          "output_type": "stream",
          "name": "stderr",
          "text": [
            " 31%|███       | 510/1654 [00:15<00:29, 39.25it/s]"
          ]
        },
        {
          "output_type": "stream",
          "name": "stdout",
          "text": [
            "Epoch [1/5] Batch [505/1654] Loss: 2.7792\n",
            "Epoch [1/5] Batch [506/1654] Loss: 2.9955\n",
            "Epoch [1/5] Batch [507/1654] Loss: 2.8116\n",
            "Epoch [1/5] Batch [508/1654] Loss: 2.8623\n",
            "Epoch [1/5] Batch [509/1654] Loss: 2.9340\n",
            "Epoch [1/5] Batch [510/1654] Loss: 2.9201\n",
            "Epoch [1/5] Batch [511/1654] Loss: 2.8565\n",
            "Epoch [1/5] Batch [512/1654] Loss: 2.9258\n"
          ]
        },
        {
          "output_type": "stream",
          "name": "stderr",
          "text": [
            " 31%|███▏      | 519/1654 [00:15<00:28, 39.28it/s]"
          ]
        },
        {
          "output_type": "stream",
          "name": "stdout",
          "text": [
            "Epoch [1/5] Batch [513/1654] Loss: 2.7042\n",
            "Epoch [1/5] Batch [514/1654] Loss: 2.7661\n",
            "Epoch [1/5] Batch [515/1654] Loss: 2.8277\n",
            "Epoch [1/5] Batch [516/1654] Loss: 3.0205\n",
            "Epoch [1/5] Batch [517/1654] Loss: 2.7327\n",
            "Epoch [1/5] Batch [518/1654] Loss: 2.7071\n",
            "Epoch [1/5] Batch [519/1654] Loss: 3.0721\n",
            "Epoch [1/5] Batch [520/1654] Loss: 2.8930\n"
          ]
        },
        {
          "output_type": "stream",
          "name": "stderr",
          "text": [
            " 32%|███▏      | 527/1654 [00:16<00:29, 38.84it/s]"
          ]
        },
        {
          "output_type": "stream",
          "name": "stdout",
          "text": [
            "Epoch [1/5] Batch [521/1654] Loss: 2.8141\n",
            "Epoch [1/5] Batch [522/1654] Loss: 2.8386\n",
            "Epoch [1/5] Batch [523/1654] Loss: 2.9767\n",
            "Epoch [1/5] Batch [524/1654] Loss: 2.8611\n",
            "Epoch [1/5] Batch [525/1654] Loss: 2.8888\n",
            "Epoch [1/5] Batch [526/1654] Loss: 3.0600\n",
            "Epoch [1/5] Batch [527/1654] Loss: 2.9774\n",
            "Epoch [1/5] Batch [528/1654] Loss: 2.7587\n"
          ]
        },
        {
          "output_type": "stream",
          "name": "stderr",
          "text": [
            " 32%|███▏      | 536/1654 [00:16<00:28, 39.49it/s]"
          ]
        },
        {
          "output_type": "stream",
          "name": "stdout",
          "text": [
            "Epoch [1/5] Batch [529/1654] Loss: 3.0064\n",
            "Epoch [1/5] Batch [530/1654] Loss: 2.8180\n",
            "Epoch [1/5] Batch [531/1654] Loss: 2.8956\n",
            "Epoch [1/5] Batch [532/1654] Loss: 2.8228\n",
            "Epoch [1/5] Batch [533/1654] Loss: 2.9349\n",
            "Epoch [1/5] Batch [534/1654] Loss: 3.0044\n",
            "Epoch [1/5] Batch [535/1654] Loss: 3.0273\n",
            "Epoch [1/5] Batch [536/1654] Loss: 2.8712\n"
          ]
        },
        {
          "output_type": "stream",
          "name": "stderr",
          "text": [
            " 33%|███▎      | 545/1654 [00:16<00:27, 39.86it/s]"
          ]
        },
        {
          "output_type": "stream",
          "name": "stdout",
          "text": [
            "Epoch [1/5] Batch [537/1654] Loss: 2.7408\n",
            "Epoch [1/5] Batch [538/1654] Loss: 3.0783\n",
            "Epoch [1/5] Batch [539/1654] Loss: 2.5981\n",
            "Epoch [1/5] Batch [540/1654] Loss: 2.6947\n",
            "Epoch [1/5] Batch [541/1654] Loss: 2.8453\n",
            "Epoch [1/5] Batch [542/1654] Loss: 3.1815\n",
            "Epoch [1/5] Batch [543/1654] Loss: 2.9481\n",
            "Epoch [1/5] Batch [544/1654] Loss: 2.7319\n",
            "Epoch [1/5] Batch [545/1654] Loss: 2.9726\n"
          ]
        },
        {
          "output_type": "stream",
          "name": "stderr",
          "text": [
            "\r 33%|███▎      | 550/1654 [00:16<00:27, 40.14it/s]"
          ]
        },
        {
          "output_type": "stream",
          "name": "stdout",
          "text": [
            "Epoch [1/5] Batch [546/1654] Loss: 2.6987\n",
            "Epoch [1/5] Batch [547/1654] Loss: 2.8000\n",
            "Epoch [1/5] Batch [548/1654] Loss: 3.0243\n",
            "Epoch [1/5] Batch [549/1654] Loss: 2.8386\n",
            "Epoch [1/5] Batch [550/1654] Loss: 2.8710\n",
            "Epoch [1/5] Batch [551/1654] Loss: 3.0033\n",
            "Epoch [1/5] Batch [552/1654] Loss: 2.9892\n",
            "Epoch [1/5] Batch [553/1654] Loss: 2.6965\n",
            "Epoch [1/5] Batch [554/1654] Loss: 2.7340\n"
          ]
        },
        {
          "output_type": "stream",
          "name": "stderr",
          "text": [
            " 34%|███▍      | 559/1654 [00:16<00:27, 39.43it/s]"
          ]
        },
        {
          "output_type": "stream",
          "name": "stdout",
          "text": [
            "Epoch [1/5] Batch [555/1654] Loss: 2.6991\n",
            "Epoch [1/5] Batch [556/1654] Loss: 2.7505\n",
            "Epoch [1/5] Batch [557/1654] Loss: 2.7749\n",
            "Epoch [1/5] Batch [558/1654] Loss: 2.7883\n",
            "Epoch [1/5] Batch [559/1654] Loss: 2.9055\n",
            "Epoch [1/5] Batch [560/1654] Loss: 2.8517\n",
            "Epoch [1/5] Batch [561/1654] Loss: 2.8486\n",
            "Epoch [1/5] Batch [562/1654] Loss: 2.8415\n"
          ]
        },
        {
          "output_type": "stream",
          "name": "stderr",
          "text": [
            " 34%|███▍      | 568/1654 [00:17<00:27, 38.83it/s]"
          ]
        },
        {
          "output_type": "stream",
          "name": "stdout",
          "text": [
            "Epoch [1/5] Batch [563/1654] Loss: 2.8087\n",
            "Epoch [1/5] Batch [564/1654] Loss: 2.7143\n",
            "Epoch [1/5] Batch [565/1654] Loss: 3.0158\n",
            "Epoch [1/5] Batch [566/1654] Loss: 2.8776\n",
            "Epoch [1/5] Batch [567/1654] Loss: 2.8744\n",
            "Epoch [1/5] Batch [568/1654] Loss: 2.8433\n",
            "Epoch [1/5] Batch [569/1654] Loss: 2.8089\n",
            "Epoch [1/5] Batch [570/1654] Loss: 2.8730\n"
          ]
        },
        {
          "output_type": "stream",
          "name": "stderr",
          "text": [
            " 35%|███▍      | 577/1654 [00:17<00:27, 39.22it/s]"
          ]
        },
        {
          "output_type": "stream",
          "name": "stdout",
          "text": [
            "Epoch [1/5] Batch [571/1654] Loss: 2.7350\n",
            "Epoch [1/5] Batch [572/1654] Loss: 3.1457\n",
            "Epoch [1/5] Batch [573/1654] Loss: 2.8783\n",
            "Epoch [1/5] Batch [574/1654] Loss: 2.9680\n",
            "Epoch [1/5] Batch [575/1654] Loss: 2.8220\n",
            "Epoch [1/5] Batch [576/1654] Loss: 2.7092\n",
            "Epoch [1/5] Batch [577/1654] Loss: 2.5815\n",
            "Epoch [1/5] Batch [578/1654] Loss: 2.8153\n"
          ]
        },
        {
          "output_type": "stream",
          "name": "stderr",
          "text": [
            " 35%|███▌      | 586/1654 [00:17<00:27, 39.42it/s]"
          ]
        },
        {
          "output_type": "stream",
          "name": "stdout",
          "text": [
            "Epoch [1/5] Batch [579/1654] Loss: 2.9771\n",
            "Epoch [1/5] Batch [580/1654] Loss: 2.7070\n",
            "Epoch [1/5] Batch [581/1654] Loss: 2.7656\n",
            "Epoch [1/5] Batch [582/1654] Loss: 2.9216\n",
            "Epoch [1/5] Batch [583/1654] Loss: 3.0535\n",
            "Epoch [1/5] Batch [584/1654] Loss: 2.6944\n",
            "Epoch [1/5] Batch [585/1654] Loss: 3.0993\n",
            "Epoch [1/5] Batch [586/1654] Loss: 2.7018\n",
            "Epoch [1/5] Batch [587/1654] Loss: 2.8620\n"
          ]
        },
        {
          "output_type": "stream",
          "name": "stderr",
          "text": [
            " 36%|███▌      | 595/1654 [00:17<00:26, 39.57it/s]"
          ]
        },
        {
          "output_type": "stream",
          "name": "stdout",
          "text": [
            "Epoch [1/5] Batch [588/1654] Loss: 2.7704\n",
            "Epoch [1/5] Batch [589/1654] Loss: 2.6356\n",
            "Epoch [1/5] Batch [590/1654] Loss: 2.8300\n",
            "Epoch [1/5] Batch [591/1654] Loss: 2.8035\n",
            "Epoch [1/5] Batch [592/1654] Loss: 2.8241\n",
            "Epoch [1/5] Batch [593/1654] Loss: 2.7241\n",
            "Epoch [1/5] Batch [594/1654] Loss: 2.8265\n",
            "Epoch [1/5] Batch [595/1654] Loss: 2.5897\n",
            "Epoch [1/5] Batch [596/1654] Loss: 2.9102\n"
          ]
        },
        {
          "output_type": "stream",
          "name": "stderr",
          "text": [
            " 36%|███▋      | 603/1654 [00:18<00:27, 38.18it/s]"
          ]
        },
        {
          "output_type": "stream",
          "name": "stdout",
          "text": [
            "Epoch [1/5] Batch [597/1654] Loss: 2.7356\n",
            "Epoch [1/5] Batch [598/1654] Loss: 2.8435\n",
            "Epoch [1/5] Batch [599/1654] Loss: 2.8873\n",
            "Epoch [1/5] Batch [600/1654] Loss: 2.9906\n",
            "Epoch [1/5] Batch [601/1654] Loss: 3.0623\n",
            "Epoch [1/5] Batch [602/1654] Loss: 2.8324\n",
            "Epoch [1/5] Batch [603/1654] Loss: 2.5996\n",
            "Epoch [1/5] Batch [604/1654] Loss: 3.0534\n"
          ]
        },
        {
          "output_type": "stream",
          "name": "stderr",
          "text": [
            " 37%|███▋      | 611/1654 [00:18<00:27, 38.20it/s]"
          ]
        },
        {
          "output_type": "stream",
          "name": "stdout",
          "text": [
            "Epoch [1/5] Batch [605/1654] Loss: 2.7683\n",
            "Epoch [1/5] Batch [606/1654] Loss: 2.7886\n",
            "Epoch [1/5] Batch [607/1654] Loss: 2.9013\n",
            "Epoch [1/5] Batch [608/1654] Loss: 2.7614\n",
            "Epoch [1/5] Batch [609/1654] Loss: 2.5635\n",
            "Epoch [1/5] Batch [610/1654] Loss: 2.8755\n",
            "Epoch [1/5] Batch [611/1654] Loss: 2.8820\n",
            "Epoch [1/5] Batch [612/1654] Loss: 2.7436\n"
          ]
        },
        {
          "output_type": "stream",
          "name": "stderr",
          "text": [
            " 37%|███▋      | 619/1654 [00:18<00:26, 38.46it/s]"
          ]
        },
        {
          "output_type": "stream",
          "name": "stdout",
          "text": [
            "Epoch [1/5] Batch [613/1654] Loss: 2.8422\n",
            "Epoch [1/5] Batch [614/1654] Loss: 2.9241\n",
            "Epoch [1/5] Batch [615/1654] Loss: 2.7109\n",
            "Epoch [1/5] Batch [616/1654] Loss: 2.7089\n",
            "Epoch [1/5] Batch [617/1654] Loss: 3.1554\n",
            "Epoch [1/5] Batch [618/1654] Loss: 2.7629\n",
            "Epoch [1/5] Batch [619/1654] Loss: 2.8076\n",
            "Epoch [1/5] Batch [620/1654] Loss: 2.8172\n"
          ]
        },
        {
          "output_type": "stream",
          "name": "stderr",
          "text": [
            " 38%|███▊      | 627/1654 [00:18<00:26, 38.99it/s]"
          ]
        },
        {
          "output_type": "stream",
          "name": "stdout",
          "text": [
            "Epoch [1/5] Batch [621/1654] Loss: 3.0089\n",
            "Epoch [1/5] Batch [622/1654] Loss: 2.9646\n",
            "Epoch [1/5] Batch [623/1654] Loss: 2.8606\n",
            "Epoch [1/5] Batch [624/1654] Loss: 2.9225\n",
            "Epoch [1/5] Batch [625/1654] Loss: 2.8727\n",
            "Epoch [1/5] Batch [626/1654] Loss: 2.6027\n",
            "Epoch [1/5] Batch [627/1654] Loss: 2.8741\n",
            "Epoch [1/5] Batch [628/1654] Loss: 2.7978\n"
          ]
        },
        {
          "output_type": "stream",
          "name": "stderr",
          "text": [
            " 38%|███▊      | 635/1654 [00:18<00:26, 38.64it/s]"
          ]
        },
        {
          "output_type": "stream",
          "name": "stdout",
          "text": [
            "Epoch [1/5] Batch [629/1654] Loss: 2.5256\n",
            "Epoch [1/5] Batch [630/1654] Loss: 2.7989\n",
            "Epoch [1/5] Batch [631/1654] Loss: 2.9688\n",
            "Epoch [1/5] Batch [632/1654] Loss: 3.0840\n",
            "Epoch [1/5] Batch [633/1654] Loss: 2.7987\n",
            "Epoch [1/5] Batch [634/1654] Loss: 2.8527\n",
            "Epoch [1/5] Batch [635/1654] Loss: 2.8115\n",
            "Epoch [1/5] Batch [636/1654] Loss: 2.9156\n"
          ]
        },
        {
          "output_type": "stream",
          "name": "stderr",
          "text": [
            " 39%|███▉      | 643/1654 [00:19<00:27, 37.35it/s]"
          ]
        },
        {
          "output_type": "stream",
          "name": "stdout",
          "text": [
            "Epoch [1/5] Batch [637/1654] Loss: 2.8415\n",
            "Epoch [1/5] Batch [638/1654] Loss: 2.7061\n",
            "Epoch [1/5] Batch [639/1654] Loss: 2.9728\n",
            "Epoch [1/5] Batch [640/1654] Loss: 3.0256\n",
            "Epoch [1/5] Batch [641/1654] Loss: 2.7664\n",
            "Epoch [1/5] Batch [642/1654] Loss: 2.6645\n",
            "Epoch [1/5] Batch [643/1654] Loss: 2.7355\n",
            "Epoch [1/5] Batch [644/1654] Loss: 2.8074\n"
          ]
        },
        {
          "output_type": "stream",
          "name": "stderr",
          "text": [
            " 39%|███▉      | 651/1654 [00:19<00:26, 38.02it/s]"
          ]
        },
        {
          "output_type": "stream",
          "name": "stdout",
          "text": [
            "Epoch [1/5] Batch [645/1654] Loss: 3.1019\n",
            "Epoch [1/5] Batch [646/1654] Loss: 2.7043\n",
            "Epoch [1/5] Batch [647/1654] Loss: 2.6427\n",
            "Epoch [1/5] Batch [648/1654] Loss: 2.8340\n",
            "Epoch [1/5] Batch [649/1654] Loss: 2.6915\n",
            "Epoch [1/5] Batch [650/1654] Loss: 2.6599\n",
            "Epoch [1/5] Batch [651/1654] Loss: 2.7067\n",
            "Epoch [1/5] Batch [652/1654] Loss: 2.6171\n"
          ]
        },
        {
          "output_type": "stream",
          "name": "stderr",
          "text": [
            " 40%|███▉      | 659/1654 [00:19<00:25, 38.29it/s]"
          ]
        },
        {
          "output_type": "stream",
          "name": "stdout",
          "text": [
            "Epoch [1/5] Batch [653/1654] Loss: 2.7508\n",
            "Epoch [1/5] Batch [654/1654] Loss: 2.4304\n",
            "Epoch [1/5] Batch [655/1654] Loss: 2.7961\n",
            "Epoch [1/5] Batch [656/1654] Loss: 2.5581\n",
            "Epoch [1/5] Batch [657/1654] Loss: 2.8541\n",
            "Epoch [1/5] Batch [658/1654] Loss: 2.7170\n",
            "Epoch [1/5] Batch [659/1654] Loss: 2.7987\n",
            "Epoch [1/5] Batch [660/1654] Loss: 2.6594\n"
          ]
        },
        {
          "output_type": "stream",
          "name": "stderr",
          "text": [
            " 40%|████      | 667/1654 [00:19<00:26, 37.91it/s]"
          ]
        },
        {
          "output_type": "stream",
          "name": "stdout",
          "text": [
            "Epoch [1/5] Batch [661/1654] Loss: 2.7773\n",
            "Epoch [1/5] Batch [662/1654] Loss: 2.7787\n",
            "Epoch [1/5] Batch [663/1654] Loss: 3.0031\n",
            "Epoch [1/5] Batch [664/1654] Loss: 2.7532\n",
            "Epoch [1/5] Batch [665/1654] Loss: 2.7672\n",
            "Epoch [1/5] Batch [666/1654] Loss: 2.8941\n",
            "Epoch [1/5] Batch [667/1654] Loss: 2.8581\n",
            "Epoch [1/5] Batch [668/1654] Loss: 2.8156\n"
          ]
        },
        {
          "output_type": "stream",
          "name": "stderr",
          "text": [
            "\r 41%|████      | 671/1654 [00:19<00:25, 38.19it/s]"
          ]
        },
        {
          "output_type": "stream",
          "name": "stdout",
          "text": [
            "Epoch [1/5] Batch [669/1654] Loss: 2.8751\n",
            "Epoch [1/5] Batch [670/1654] Loss: 2.8195\n",
            "Epoch [1/5] Batch [671/1654] Loss: 2.6341\n",
            "Epoch [1/5] Batch [672/1654] Loss: 3.2006\n"
          ]
        },
        {
          "output_type": "stream",
          "name": "stderr",
          "text": [
            "\r 41%|████      | 675/1654 [00:20<00:42, 23.07it/s]"
          ]
        },
        {
          "output_type": "stream",
          "name": "stdout",
          "text": [
            "Epoch [1/5] Batch [673/1654] Loss: 2.9563\n",
            "Epoch [1/5] Batch [674/1654] Loss: 2.6008\n",
            "Epoch [1/5] Batch [675/1654] Loss: 2.8676\n",
            "Epoch [1/5] Batch [676/1654] Loss: 2.6135\n",
            "Epoch [1/5] Batch [677/1654] Loss: 2.7591\n"
          ]
        },
        {
          "output_type": "stream",
          "name": "stderr",
          "text": [
            " 41%|████▏     | 683/1654 [00:20<00:37, 26.15it/s]"
          ]
        },
        {
          "output_type": "stream",
          "name": "stdout",
          "text": [
            "Epoch [1/5] Batch [678/1654] Loss: 2.8815\n",
            "Epoch [1/5] Batch [679/1654] Loss: 2.5173\n",
            "Epoch [1/5] Batch [680/1654] Loss: 2.7365\n",
            "Epoch [1/5] Batch [681/1654] Loss: 2.7344\n",
            "Epoch [1/5] Batch [682/1654] Loss: 2.8005\n",
            "Epoch [1/5] Batch [683/1654] Loss: 2.7109\n"
          ]
        },
        {
          "output_type": "stream",
          "name": "stderr",
          "text": [
            "\r 42%|████▏     | 687/1654 [00:20<00:36, 26.67it/s]"
          ]
        },
        {
          "output_type": "stream",
          "name": "stdout",
          "text": [
            "Epoch [1/5] Batch [684/1654] Loss: 2.8435\n",
            "Epoch [1/5] Batch [685/1654] Loss: 3.0364\n",
            "Epoch [1/5] Batch [686/1654] Loss: 2.8787\n",
            "Epoch [1/5] Batch [687/1654] Loss: 2.8387\n",
            "Epoch [1/5] Batch [688/1654] Loss: 2.8091\n",
            "Epoch [1/5] Batch [689/1654] Loss: 2.5891\n",
            "Epoch [1/5] Batch [690/1654] Loss: 2.6877\n"
          ]
        },
        {
          "output_type": "stream",
          "name": "stderr",
          "text": [
            "\r 42%|████▏     | 691/1654 [00:20<00:39, 24.26it/s]"
          ]
        },
        {
          "output_type": "stream",
          "name": "stdout",
          "text": [
            "Epoch [1/5] Batch [691/1654] Loss: 2.3394\n",
            "Epoch [1/5] Batch [692/1654] Loss: 2.7453\n"
          ]
        },
        {
          "output_type": "stream",
          "name": "stderr",
          "text": [
            "\r 42%|████▏     | 694/1654 [00:21<01:02, 15.28it/s]"
          ]
        },
        {
          "output_type": "stream",
          "name": "stdout",
          "text": [
            "Epoch [1/5] Batch [693/1654] Loss: 2.7279\n",
            "Epoch [1/5] Batch [694/1654] Loss: 2.6078\n",
            "Epoch [1/5] Batch [695/1654] Loss: 2.9932\n",
            "Epoch [1/5] Batch [696/1654] Loss: 2.5086\n"
          ]
        },
        {
          "output_type": "stream",
          "name": "stderr",
          "text": [
            " 42%|████▏     | 701/1654 [00:21<00:46, 20.55it/s]"
          ]
        },
        {
          "output_type": "stream",
          "name": "stdout",
          "text": [
            "Epoch [1/5] Batch [697/1654] Loss: 2.5911\n",
            "Epoch [1/5] Batch [698/1654] Loss: 2.5216\n",
            "Epoch [1/5] Batch [699/1654] Loss: 2.4917\n",
            "Epoch [1/5] Batch [700/1654] Loss: 2.6545\n",
            "Epoch [1/5] Batch [701/1654] Loss: 2.6391\n",
            "Epoch [1/5] Batch [702/1654] Loss: 2.7479\n",
            "Epoch [1/5] Batch [703/1654] Loss: 2.8571\n"
          ]
        },
        {
          "output_type": "stream",
          "name": "stderr",
          "text": [
            "\r 43%|████▎     | 705/1654 [00:21<00:41, 22.97it/s]"
          ]
        },
        {
          "output_type": "stream",
          "name": "stdout",
          "text": [
            "Epoch [1/5] Batch [704/1654] Loss: 2.8146\n",
            "Epoch [1/5] Batch [705/1654] Loss: 2.7288\n",
            "Epoch [1/5] Batch [706/1654] Loss: 2.6748\n",
            "Epoch [1/5] Batch [707/1654] Loss: 2.6973\n",
            "Epoch [1/5] Batch [708/1654] Loss: 2.7016\n"
          ]
        },
        {
          "output_type": "stream",
          "name": "stderr",
          "text": [
            "\r 43%|████▎     | 709/1654 [00:21<00:49, 19.24it/s]"
          ]
        },
        {
          "output_type": "stream",
          "name": "stdout",
          "text": [
            "Epoch [1/5] Batch [709/1654] Loss: 2.6949\n",
            "Epoch [1/5] Batch [710/1654] Loss: 2.5023\n"
          ]
        },
        {
          "output_type": "stream",
          "name": "stderr",
          "text": [
            " 43%|████▎     | 715/1654 [00:22<00:56, 16.75it/s]"
          ]
        },
        {
          "output_type": "stream",
          "name": "stdout",
          "text": [
            "Epoch [1/5] Batch [711/1654] Loss: 2.7986\n",
            "Epoch [1/5] Batch [712/1654] Loss: 2.8006\n",
            "Epoch [1/5] Batch [713/1654] Loss: 2.6522\n",
            "Epoch [1/5] Batch [714/1654] Loss: 2.9252\n",
            "Epoch [1/5] Batch [715/1654] Loss: 2.7439\n"
          ]
        },
        {
          "output_type": "stream",
          "name": "stderr",
          "text": [
            " 44%|████▎     | 721/1654 [00:22<00:44, 20.90it/s]"
          ]
        },
        {
          "output_type": "stream",
          "name": "stdout",
          "text": [
            "Epoch [1/5] Batch [716/1654] Loss: 2.8146\n",
            "Epoch [1/5] Batch [717/1654] Loss: 3.0876\n",
            "Epoch [1/5] Batch [718/1654] Loss: 2.8992\n",
            "Epoch [1/5] Batch [719/1654] Loss: 2.8242\n",
            "Epoch [1/5] Batch [720/1654] Loss: 2.7863\n",
            "Epoch [1/5] Batch [721/1654] Loss: 2.8650\n"
          ]
        },
        {
          "output_type": "stream",
          "name": "stderr",
          "text": [
            " 44%|████▍     | 729/1654 [00:22<00:34, 26.97it/s]"
          ]
        },
        {
          "output_type": "stream",
          "name": "stdout",
          "text": [
            "Epoch [1/5] Batch [722/1654] Loss: 2.9941\n",
            "Epoch [1/5] Batch [723/1654] Loss: 2.8022\n",
            "Epoch [1/5] Batch [724/1654] Loss: 2.8650\n",
            "Epoch [1/5] Batch [725/1654] Loss: 2.5714\n",
            "Epoch [1/5] Batch [726/1654] Loss: 2.5701\n",
            "Epoch [1/5] Batch [727/1654] Loss: 2.7407\n",
            "Epoch [1/5] Batch [728/1654] Loss: 2.8939\n",
            "Epoch [1/5] Batch [729/1654] Loss: 2.5552\n"
          ]
        },
        {
          "output_type": "stream",
          "name": "stderr",
          "text": [
            " 45%|████▍     | 737/1654 [00:22<00:28, 31.74it/s]"
          ]
        },
        {
          "output_type": "stream",
          "name": "stdout",
          "text": [
            "Epoch [1/5] Batch [730/1654] Loss: 2.6513\n",
            "Epoch [1/5] Batch [731/1654] Loss: 2.8065\n",
            "Epoch [1/5] Batch [732/1654] Loss: 2.7217\n",
            "Epoch [1/5] Batch [733/1654] Loss: 2.7387\n",
            "Epoch [1/5] Batch [734/1654] Loss: 2.6177\n",
            "Epoch [1/5] Batch [735/1654] Loss: 2.6856\n",
            "Epoch [1/5] Batch [736/1654] Loss: 2.5530\n",
            "Epoch [1/5] Batch [737/1654] Loss: 2.7336\n"
          ]
        },
        {
          "output_type": "stream",
          "name": "stderr",
          "text": [
            " 45%|████▌     | 745/1654 [00:23<00:25, 35.09it/s]"
          ]
        },
        {
          "output_type": "stream",
          "name": "stdout",
          "text": [
            "Epoch [1/5] Batch [738/1654] Loss: 3.0722\n",
            "Epoch [1/5] Batch [739/1654] Loss: 2.6419\n",
            "Epoch [1/5] Batch [740/1654] Loss: 2.8135\n",
            "Epoch [1/5] Batch [741/1654] Loss: 2.5946\n",
            "Epoch [1/5] Batch [742/1654] Loss: 2.9963\n",
            "Epoch [1/5] Batch [743/1654] Loss: 2.5961\n",
            "Epoch [1/5] Batch [744/1654] Loss: 2.6062\n",
            "Epoch [1/5] Batch [745/1654] Loss: 2.6418\n"
          ]
        },
        {
          "output_type": "stream",
          "name": "stderr",
          "text": [
            " 46%|████▌     | 753/1654 [00:23<00:25, 35.53it/s]"
          ]
        },
        {
          "output_type": "stream",
          "name": "stdout",
          "text": [
            "Epoch [1/5] Batch [746/1654] Loss: 2.7776\n",
            "Epoch [1/5] Batch [747/1654] Loss: 2.7435\n",
            "Epoch [1/5] Batch [748/1654] Loss: 2.6401\n",
            "Epoch [1/5] Batch [749/1654] Loss: 2.4657\n",
            "Epoch [1/5] Batch [750/1654] Loss: 2.9669\n",
            "Epoch [1/5] Batch [751/1654] Loss: 2.8464\n",
            "Epoch [1/5] Batch [752/1654] Loss: 2.5805\n",
            "Epoch [1/5] Batch [753/1654] Loss: 2.8352\n"
          ]
        },
        {
          "output_type": "stream",
          "name": "stderr",
          "text": [
            " 46%|████▌     | 761/1654 [00:23<00:24, 36.71it/s]"
          ]
        },
        {
          "output_type": "stream",
          "name": "stdout",
          "text": [
            "Epoch [1/5] Batch [754/1654] Loss: 2.7304\n",
            "Epoch [1/5] Batch [755/1654] Loss: 2.8363\n",
            "Epoch [1/5] Batch [756/1654] Loss: 2.8608\n",
            "Epoch [1/5] Batch [757/1654] Loss: 2.7978\n",
            "Epoch [1/5] Batch [758/1654] Loss: 2.6376\n",
            "Epoch [1/5] Batch [759/1654] Loss: 2.8748\n",
            "Epoch [1/5] Batch [760/1654] Loss: 2.4819\n",
            "Epoch [1/5] Batch [761/1654] Loss: 2.9010\n"
          ]
        },
        {
          "output_type": "stream",
          "name": "stderr",
          "text": [
            " 46%|████▋     | 769/1654 [00:23<00:23, 37.70it/s]"
          ]
        },
        {
          "output_type": "stream",
          "name": "stdout",
          "text": [
            "Epoch [1/5] Batch [762/1654] Loss: 2.7506\n",
            "Epoch [1/5] Batch [763/1654] Loss: 2.6497\n",
            "Epoch [1/5] Batch [764/1654] Loss: 2.7241\n",
            "Epoch [1/5] Batch [765/1654] Loss: 2.5600\n",
            "Epoch [1/5] Batch [766/1654] Loss: 2.5939\n",
            "Epoch [1/5] Batch [767/1654] Loss: 2.6492\n",
            "Epoch [1/5] Batch [768/1654] Loss: 2.6561\n",
            "Epoch [1/5] Batch [769/1654] Loss: 2.7859\n"
          ]
        },
        {
          "output_type": "stream",
          "name": "stderr",
          "text": [
            " 47%|████▋     | 777/1654 [00:24<00:23, 37.89it/s]"
          ]
        },
        {
          "output_type": "stream",
          "name": "stdout",
          "text": [
            "Epoch [1/5] Batch [770/1654] Loss: 2.7653\n",
            "Epoch [1/5] Batch [771/1654] Loss: 2.9208\n",
            "Epoch [1/5] Batch [772/1654] Loss: 2.7523\n",
            "Epoch [1/5] Batch [773/1654] Loss: 2.7004\n",
            "Epoch [1/5] Batch [774/1654] Loss: 2.7829\n",
            "Epoch [1/5] Batch [775/1654] Loss: 2.5855\n",
            "Epoch [1/5] Batch [776/1654] Loss: 2.8518\n",
            "Epoch [1/5] Batch [777/1654] Loss: 2.6313\n"
          ]
        },
        {
          "output_type": "stream",
          "name": "stderr",
          "text": [
            " 47%|████▋     | 785/1654 [00:24<00:23, 37.72it/s]"
          ]
        },
        {
          "output_type": "stream",
          "name": "stdout",
          "text": [
            "Epoch [1/5] Batch [778/1654] Loss: 2.8652\n",
            "Epoch [1/5] Batch [779/1654] Loss: 2.8703\n",
            "Epoch [1/5] Batch [780/1654] Loss: 2.7849\n",
            "Epoch [1/5] Batch [781/1654] Loss: 3.0296\n",
            "Epoch [1/5] Batch [782/1654] Loss: 2.8518\n",
            "Epoch [1/5] Batch [783/1654] Loss: 2.5596\n",
            "Epoch [1/5] Batch [784/1654] Loss: 2.7420\n",
            "Epoch [1/5] Batch [785/1654] Loss: 2.7947\n"
          ]
        },
        {
          "output_type": "stream",
          "name": "stderr",
          "text": [
            " 48%|████▊     | 793/1654 [00:24<00:23, 37.43it/s]"
          ]
        },
        {
          "output_type": "stream",
          "name": "stdout",
          "text": [
            "Epoch [1/5] Batch [786/1654] Loss: 2.2832\n",
            "Epoch [1/5] Batch [787/1654] Loss: 2.5876\n",
            "Epoch [1/5] Batch [788/1654] Loss: 2.7021\n",
            "Epoch [1/5] Batch [789/1654] Loss: 2.6830\n",
            "Epoch [1/5] Batch [790/1654] Loss: 2.8026\n",
            "Epoch [1/5] Batch [791/1654] Loss: 2.6617\n",
            "Epoch [1/5] Batch [792/1654] Loss: 2.8548\n",
            "Epoch [1/5] Batch [793/1654] Loss: 2.4597\n"
          ]
        },
        {
          "output_type": "stream",
          "name": "stderr",
          "text": [
            " 48%|████▊     | 801/1654 [00:24<00:22, 37.58it/s]"
          ]
        },
        {
          "output_type": "stream",
          "name": "stdout",
          "text": [
            "Epoch [1/5] Batch [794/1654] Loss: 2.6199\n",
            "Epoch [1/5] Batch [795/1654] Loss: 2.9927\n",
            "Epoch [1/5] Batch [796/1654] Loss: 2.7696\n",
            "Epoch [1/5] Batch [797/1654] Loss: 2.4902\n",
            "Epoch [1/5] Batch [798/1654] Loss: 2.9231\n",
            "Epoch [1/5] Batch [799/1654] Loss: 2.7798\n",
            "Epoch [1/5] Batch [800/1654] Loss: 2.6444\n",
            "Epoch [1/5] Batch [801/1654] Loss: 2.4477\n"
          ]
        },
        {
          "output_type": "stream",
          "name": "stderr",
          "text": [
            " 49%|████▉     | 809/1654 [00:24<00:22, 38.17it/s]"
          ]
        },
        {
          "output_type": "stream",
          "name": "stdout",
          "text": [
            "Epoch [1/5] Batch [802/1654] Loss: 3.0962\n",
            "Epoch [1/5] Batch [803/1654] Loss: 2.8344\n",
            "Epoch [1/5] Batch [804/1654] Loss: 2.7423\n",
            "Epoch [1/5] Batch [805/1654] Loss: 2.7418\n",
            "Epoch [1/5] Batch [806/1654] Loss: 2.7349\n",
            "Epoch [1/5] Batch [807/1654] Loss: 2.7193\n",
            "Epoch [1/5] Batch [808/1654] Loss: 2.5299\n",
            "Epoch [1/5] Batch [809/1654] Loss: 2.7264\n"
          ]
        },
        {
          "output_type": "stream",
          "name": "stderr",
          "text": [
            " 49%|████▉     | 818/1654 [00:25<00:21, 39.01it/s]"
          ]
        },
        {
          "output_type": "stream",
          "name": "stdout",
          "text": [
            "Epoch [1/5] Batch [810/1654] Loss: 2.8184\n",
            "Epoch [1/5] Batch [811/1654] Loss: 2.9410\n",
            "Epoch [1/5] Batch [812/1654] Loss: 2.7381\n",
            "Epoch [1/5] Batch [813/1654] Loss: 2.9300\n",
            "Epoch [1/5] Batch [814/1654] Loss: 2.7904\n",
            "Epoch [1/5] Batch [815/1654] Loss: 2.5582\n",
            "Epoch [1/5] Batch [816/1654] Loss: 2.8202\n",
            "Epoch [1/5] Batch [817/1654] Loss: 2.7513\n",
            "Epoch [1/5] Batch [818/1654] Loss: 2.6490\n"
          ]
        },
        {
          "output_type": "stream",
          "name": "stderr",
          "text": [
            " 50%|████▉     | 826/1654 [00:25<00:21, 39.02it/s]"
          ]
        },
        {
          "output_type": "stream",
          "name": "stdout",
          "text": [
            "Epoch [1/5] Batch [819/1654] Loss: 2.8145\n",
            "Epoch [1/5] Batch [820/1654] Loss: 2.8460\n",
            "Epoch [1/5] Batch [821/1654] Loss: 2.8486\n",
            "Epoch [1/5] Batch [822/1654] Loss: 2.6232\n",
            "Epoch [1/5] Batch [823/1654] Loss: 2.4585\n",
            "Epoch [1/5] Batch [824/1654] Loss: 2.6129\n",
            "Epoch [1/5] Batch [825/1654] Loss: 2.5432\n",
            "Epoch [1/5] Batch [826/1654] Loss: 2.8157\n"
          ]
        },
        {
          "output_type": "stream",
          "name": "stderr",
          "text": [
            " 50%|█████     | 834/1654 [00:25<00:21, 37.56it/s]"
          ]
        },
        {
          "output_type": "stream",
          "name": "stdout",
          "text": [
            "Epoch [1/5] Batch [827/1654] Loss: 2.6953\n",
            "Epoch [1/5] Batch [828/1654] Loss: 2.6865\n",
            "Epoch [1/5] Batch [829/1654] Loss: 2.7686\n",
            "Epoch [1/5] Batch [830/1654] Loss: 2.7124\n",
            "Epoch [1/5] Batch [831/1654] Loss: 2.8091\n",
            "Epoch [1/5] Batch [832/1654] Loss: 2.6051\n",
            "Epoch [1/5] Batch [833/1654] Loss: 2.6453\n",
            "Epoch [1/5] Batch [834/1654] Loss: 3.0127\n"
          ]
        },
        {
          "output_type": "stream",
          "name": "stderr",
          "text": [
            " 51%|█████     | 842/1654 [00:25<00:21, 37.98it/s]"
          ]
        },
        {
          "output_type": "stream",
          "name": "stdout",
          "text": [
            "Epoch [1/5] Batch [835/1654] Loss: 2.9227\n",
            "Epoch [1/5] Batch [836/1654] Loss: 2.8560\n",
            "Epoch [1/5] Batch [837/1654] Loss: 2.3551\n",
            "Epoch [1/5] Batch [838/1654] Loss: 2.5708\n",
            "Epoch [1/5] Batch [839/1654] Loss: 2.4814\n",
            "Epoch [1/5] Batch [840/1654] Loss: 2.7878\n",
            "Epoch [1/5] Batch [841/1654] Loss: 2.6859\n",
            "Epoch [1/5] Batch [842/1654] Loss: 2.9010\n"
          ]
        },
        {
          "output_type": "stream",
          "name": "stderr",
          "text": [
            " 51%|█████▏    | 850/1654 [00:25<00:21, 38.20it/s]"
          ]
        },
        {
          "output_type": "stream",
          "name": "stdout",
          "text": [
            "Epoch [1/5] Batch [843/1654] Loss: 2.6401\n",
            "Epoch [1/5] Batch [844/1654] Loss: 2.7999\n",
            "Epoch [1/5] Batch [845/1654] Loss: 2.5275\n",
            "Epoch [1/5] Batch [846/1654] Loss: 2.8530\n",
            "Epoch [1/5] Batch [847/1654] Loss: 2.6590\n",
            "Epoch [1/5] Batch [848/1654] Loss: 2.5788\n",
            "Epoch [1/5] Batch [849/1654] Loss: 2.6368\n",
            "Epoch [1/5] Batch [850/1654] Loss: 2.7884\n"
          ]
        },
        {
          "output_type": "stream",
          "name": "stderr",
          "text": [
            " 52%|█████▏    | 858/1654 [00:26<00:20, 38.40it/s]"
          ]
        },
        {
          "output_type": "stream",
          "name": "stdout",
          "text": [
            "Epoch [1/5] Batch [851/1654] Loss: 2.6002\n",
            "Epoch [1/5] Batch [852/1654] Loss: 2.5424\n",
            "Epoch [1/5] Batch [853/1654] Loss: 2.3267\n",
            "Epoch [1/5] Batch [854/1654] Loss: 2.6221\n",
            "Epoch [1/5] Batch [855/1654] Loss: 2.6873\n",
            "Epoch [1/5] Batch [856/1654] Loss: 2.5386\n",
            "Epoch [1/5] Batch [857/1654] Loss: 2.6839\n",
            "Epoch [1/5] Batch [858/1654] Loss: 2.8928\n"
          ]
        },
        {
          "output_type": "stream",
          "name": "stderr",
          "text": [
            " 52%|█████▏    | 866/1654 [00:26<00:20, 38.86it/s]"
          ]
        },
        {
          "output_type": "stream",
          "name": "stdout",
          "text": [
            "Epoch [1/5] Batch [859/1654] Loss: 2.7395\n",
            "Epoch [1/5] Batch [860/1654] Loss: 2.5024\n",
            "Epoch [1/5] Batch [861/1654] Loss: 2.5287\n",
            "Epoch [1/5] Batch [862/1654] Loss: 2.5634\n",
            "Epoch [1/5] Batch [863/1654] Loss: 2.7096\n",
            "Epoch [1/5] Batch [864/1654] Loss: 2.6843\n",
            "Epoch [1/5] Batch [865/1654] Loss: 2.7796\n",
            "Epoch [1/5] Batch [866/1654] Loss: 2.4951\n"
          ]
        },
        {
          "output_type": "stream",
          "name": "stderr",
          "text": [
            " 53%|█████▎    | 874/1654 [00:26<00:20, 38.02it/s]"
          ]
        },
        {
          "output_type": "stream",
          "name": "stdout",
          "text": [
            "Epoch [1/5] Batch [867/1654] Loss: 2.7459\n",
            "Epoch [1/5] Batch [868/1654] Loss: 2.5282\n",
            "Epoch [1/5] Batch [869/1654] Loss: 2.6038\n",
            "Epoch [1/5] Batch [870/1654] Loss: 2.6557\n",
            "Epoch [1/5] Batch [871/1654] Loss: 2.6979\n",
            "Epoch [1/5] Batch [872/1654] Loss: 2.7275\n",
            "Epoch [1/5] Batch [873/1654] Loss: 2.7132\n",
            "Epoch [1/5] Batch [874/1654] Loss: 2.5297\n"
          ]
        },
        {
          "output_type": "stream",
          "name": "stderr",
          "text": [
            " 53%|█████▎    | 882/1654 [00:26<00:19, 38.68it/s]"
          ]
        },
        {
          "output_type": "stream",
          "name": "stdout",
          "text": [
            "Epoch [1/5] Batch [875/1654] Loss: 2.6822\n",
            "Epoch [1/5] Batch [876/1654] Loss: 2.9230\n",
            "Epoch [1/5] Batch [877/1654] Loss: 2.3985\n",
            "Epoch [1/5] Batch [878/1654] Loss: 2.7357\n",
            "Epoch [1/5] Batch [879/1654] Loss: 2.3683\n",
            "Epoch [1/5] Batch [880/1654] Loss: 2.7069\n",
            "Epoch [1/5] Batch [881/1654] Loss: 2.5024\n",
            "Epoch [1/5] Batch [882/1654] Loss: 2.6300\n"
          ]
        },
        {
          "output_type": "stream",
          "name": "stderr",
          "text": [
            " 54%|█████▍    | 891/1654 [00:27<00:19, 39.12it/s]"
          ]
        },
        {
          "output_type": "stream",
          "name": "stdout",
          "text": [
            "Epoch [1/5] Batch [883/1654] Loss: 2.5256\n",
            "Epoch [1/5] Batch [884/1654] Loss: 2.6396\n",
            "Epoch [1/5] Batch [885/1654] Loss: 2.5032\n",
            "Epoch [1/5] Batch [886/1654] Loss: 2.3632\n",
            "Epoch [1/5] Batch [887/1654] Loss: 2.4733\n",
            "Epoch [1/5] Batch [888/1654] Loss: 2.7468\n",
            "Epoch [1/5] Batch [889/1654] Loss: 2.3723\n",
            "Epoch [1/5] Batch [890/1654] Loss: 2.5316\n",
            "Epoch [1/5] Batch [891/1654] Loss: 2.5198\n"
          ]
        },
        {
          "output_type": "stream",
          "name": "stderr",
          "text": [
            " 54%|█████▍    | 899/1654 [00:27<00:19, 39.16it/s]"
          ]
        },
        {
          "output_type": "stream",
          "name": "stdout",
          "text": [
            "Epoch [1/5] Batch [892/1654] Loss: 2.5094\n",
            "Epoch [1/5] Batch [893/1654] Loss: 2.6396\n",
            "Epoch [1/5] Batch [894/1654] Loss: 2.3750\n",
            "Epoch [1/5] Batch [895/1654] Loss: 2.6937\n",
            "Epoch [1/5] Batch [896/1654] Loss: 2.5181\n",
            "Epoch [1/5] Batch [897/1654] Loss: 3.0493\n",
            "Epoch [1/5] Batch [898/1654] Loss: 2.7924\n",
            "Epoch [1/5] Batch [899/1654] Loss: 3.0390\n"
          ]
        },
        {
          "output_type": "stream",
          "name": "stderr",
          "text": [
            "\r 55%|█████▍    | 903/1654 [00:27<00:19, 38.85it/s]"
          ]
        },
        {
          "output_type": "stream",
          "name": "stdout",
          "text": [
            "Epoch [1/5] Batch [900/1654] Loss: 2.4237\n",
            "Epoch [1/5] Batch [901/1654] Loss: 2.7604\n",
            "Epoch [1/5] Batch [902/1654] Loss: 2.5109\n",
            "Epoch [1/5] Batch [903/1654] Loss: 2.6457\n",
            "Epoch [1/5] Batch [904/1654] Loss: 2.6209\n",
            "Epoch [1/5] Batch [905/1654] Loss: 2.5172\n",
            "Epoch [1/5] Batch [906/1654] Loss: 2.4157\n",
            "Epoch [1/5] Batch [907/1654] Loss: 2.4688\n"
          ]
        },
        {
          "output_type": "stream",
          "name": "stderr",
          "text": [
            " 55%|█████▌    | 912/1654 [00:27<00:19, 38.48it/s]"
          ]
        },
        {
          "output_type": "stream",
          "name": "stdout",
          "text": [
            "Epoch [1/5] Batch [908/1654] Loss: 2.8237\n",
            "Epoch [1/5] Batch [909/1654] Loss: 2.3890\n",
            "Epoch [1/5] Batch [910/1654] Loss: 2.5237\n",
            "Epoch [1/5] Batch [911/1654] Loss: 2.5412\n",
            "Epoch [1/5] Batch [912/1654] Loss: 2.5034\n",
            "Epoch [1/5] Batch [913/1654] Loss: 2.7456\n",
            "Epoch [1/5] Batch [914/1654] Loss: 2.6878\n",
            "Epoch [1/5] Batch [915/1654] Loss: 2.6837\n"
          ]
        },
        {
          "output_type": "stream",
          "name": "stderr",
          "text": [
            " 56%|█████▌    | 920/1654 [00:27<00:19, 38.25it/s]"
          ]
        },
        {
          "output_type": "stream",
          "name": "stdout",
          "text": [
            "Epoch [1/5] Batch [916/1654] Loss: 2.4106\n",
            "Epoch [1/5] Batch [917/1654] Loss: 2.7632\n",
            "Epoch [1/5] Batch [918/1654] Loss: 2.7477\n",
            "Epoch [1/5] Batch [919/1654] Loss: 2.6400\n",
            "Epoch [1/5] Batch [920/1654] Loss: 2.4983\n",
            "Epoch [1/5] Batch [921/1654] Loss: 2.5322\n",
            "Epoch [1/5] Batch [922/1654] Loss: 2.5603\n",
            "Epoch [1/5] Batch [923/1654] Loss: 2.5815\n"
          ]
        },
        {
          "output_type": "stream",
          "name": "stderr",
          "text": [
            " 56%|█████▌    | 928/1654 [00:27<00:18, 38.41it/s]"
          ]
        },
        {
          "output_type": "stream",
          "name": "stdout",
          "text": [
            "Epoch [1/5] Batch [924/1654] Loss: 2.9222\n",
            "Epoch [1/5] Batch [925/1654] Loss: 2.5739\n",
            "Epoch [1/5] Batch [926/1654] Loss: 2.6139\n",
            "Epoch [1/5] Batch [927/1654] Loss: 2.4699\n",
            "Epoch [1/5] Batch [928/1654] Loss: 2.5654\n",
            "Epoch [1/5] Batch [929/1654] Loss: 2.6861\n",
            "Epoch [1/5] Batch [930/1654] Loss: 2.5972\n",
            "Epoch [1/5] Batch [931/1654] Loss: 2.2569\n"
          ]
        },
        {
          "output_type": "stream",
          "name": "stderr",
          "text": [
            " 57%|█████▋    | 936/1654 [00:28<00:18, 38.40it/s]"
          ]
        },
        {
          "output_type": "stream",
          "name": "stdout",
          "text": [
            "Epoch [1/5] Batch [932/1654] Loss: 2.5130\n",
            "Epoch [1/5] Batch [933/1654] Loss: 2.5597\n",
            "Epoch [1/5] Batch [934/1654] Loss: 2.6524\n",
            "Epoch [1/5] Batch [935/1654] Loss: 2.5191\n",
            "Epoch [1/5] Batch [936/1654] Loss: 2.6703\n",
            "Epoch [1/5] Batch [937/1654] Loss: 2.3829\n",
            "Epoch [1/5] Batch [938/1654] Loss: 2.6630\n",
            "Epoch [1/5] Batch [939/1654] Loss: 2.5177\n"
          ]
        },
        {
          "output_type": "stream",
          "name": "stderr",
          "text": [
            " 57%|█████▋    | 945/1654 [00:28<00:18, 38.75it/s]"
          ]
        },
        {
          "output_type": "stream",
          "name": "stdout",
          "text": [
            "Epoch [1/5] Batch [940/1654] Loss: 2.5418\n",
            "Epoch [1/5] Batch [941/1654] Loss: 2.8646\n",
            "Epoch [1/5] Batch [942/1654] Loss: 2.7105\n",
            "Epoch [1/5] Batch [943/1654] Loss: 2.1129\n",
            "Epoch [1/5] Batch [944/1654] Loss: 2.6476\n",
            "Epoch [1/5] Batch [945/1654] Loss: 2.6890\n",
            "Epoch [1/5] Batch [946/1654] Loss: 2.6373\n",
            "Epoch [1/5] Batch [947/1654] Loss: 2.5834\n"
          ]
        },
        {
          "output_type": "stream",
          "name": "stderr",
          "text": [
            " 58%|█████▊    | 954/1654 [00:28<00:18, 38.46it/s]"
          ]
        },
        {
          "output_type": "stream",
          "name": "stdout",
          "text": [
            "Epoch [1/5] Batch [948/1654] Loss: 2.4462\n",
            "Epoch [1/5] Batch [949/1654] Loss: 2.7446\n",
            "Epoch [1/5] Batch [950/1654] Loss: 2.5478\n",
            "Epoch [1/5] Batch [951/1654] Loss: 2.5328\n",
            "Epoch [1/5] Batch [952/1654] Loss: 2.8408\n",
            "Epoch [1/5] Batch [953/1654] Loss: 3.0430\n",
            "Epoch [1/5] Batch [954/1654] Loss: 2.6400\n",
            "Epoch [1/5] Batch [955/1654] Loss: 2.5221\n",
            "Epoch [1/5] Batch [956/1654] Loss: 2.5159\n"
          ]
        },
        {
          "output_type": "stream",
          "name": "stderr",
          "text": [
            " 58%|█████▊    | 962/1654 [00:28<00:17, 38.70it/s]"
          ]
        },
        {
          "output_type": "stream",
          "name": "stdout",
          "text": [
            "Epoch [1/5] Batch [957/1654] Loss: 2.5260\n",
            "Epoch [1/5] Batch [958/1654] Loss: 2.7035\n",
            "Epoch [1/5] Batch [959/1654] Loss: 2.5046\n",
            "Epoch [1/5] Batch [960/1654] Loss: 2.5185\n",
            "Epoch [1/5] Batch [961/1654] Loss: 2.9210\n",
            "Epoch [1/5] Batch [962/1654] Loss: 2.4919\n",
            "Epoch [1/5] Batch [963/1654] Loss: 2.4286\n",
            "Epoch [1/5] Batch [964/1654] Loss: 2.3973\n"
          ]
        },
        {
          "output_type": "stream",
          "name": "stderr",
          "text": [
            " 59%|█████▊    | 970/1654 [00:29<00:17, 38.72it/s]"
          ]
        },
        {
          "output_type": "stream",
          "name": "stdout",
          "text": [
            "Epoch [1/5] Batch [965/1654] Loss: 2.4141\n",
            "Epoch [1/5] Batch [966/1654] Loss: 2.5095\n",
            "Epoch [1/5] Batch [967/1654] Loss: 2.3380\n",
            "Epoch [1/5] Batch [968/1654] Loss: 2.5374\n",
            "Epoch [1/5] Batch [969/1654] Loss: 2.7398\n",
            "Epoch [1/5] Batch [970/1654] Loss: 2.1908\n",
            "Epoch [1/5] Batch [971/1654] Loss: 2.9715\n",
            "Epoch [1/5] Batch [972/1654] Loss: 2.6449\n"
          ]
        },
        {
          "output_type": "stream",
          "name": "stderr",
          "text": [
            " 59%|█████▉    | 978/1654 [00:29<00:17, 38.76it/s]"
          ]
        },
        {
          "output_type": "stream",
          "name": "stdout",
          "text": [
            "Epoch [1/5] Batch [973/1654] Loss: 2.6312\n",
            "Epoch [1/5] Batch [974/1654] Loss: 2.2026\n",
            "Epoch [1/5] Batch [975/1654] Loss: 2.4064\n",
            "Epoch [1/5] Batch [976/1654] Loss: 2.5242\n",
            "Epoch [1/5] Batch [977/1654] Loss: 2.6090\n",
            "Epoch [1/5] Batch [978/1654] Loss: 2.8142\n",
            "Epoch [1/5] Batch [979/1654] Loss: 2.3585\n",
            "Epoch [1/5] Batch [980/1654] Loss: 2.5335\n"
          ]
        },
        {
          "output_type": "stream",
          "name": "stderr",
          "text": [
            " 60%|█████▉    | 986/1654 [00:29<00:17, 38.47it/s]"
          ]
        },
        {
          "output_type": "stream",
          "name": "stdout",
          "text": [
            "Epoch [1/5] Batch [981/1654] Loss: 2.5607\n",
            "Epoch [1/5] Batch [982/1654] Loss: 2.2055\n",
            "Epoch [1/5] Batch [983/1654] Loss: 2.6440\n",
            "Epoch [1/5] Batch [984/1654] Loss: 2.5653\n",
            "Epoch [1/5] Batch [985/1654] Loss: 2.7166\n",
            "Epoch [1/5] Batch [986/1654] Loss: 2.6229\n",
            "Epoch [1/5] Batch [987/1654] Loss: 2.5388\n",
            "Epoch [1/5] Batch [988/1654] Loss: 2.4336\n"
          ]
        },
        {
          "output_type": "stream",
          "name": "stderr",
          "text": [
            " 60%|██████    | 995/1654 [00:29<00:17, 38.30it/s]"
          ]
        },
        {
          "output_type": "stream",
          "name": "stdout",
          "text": [
            "Epoch [1/5] Batch [989/1654] Loss: 2.5350\n",
            "Epoch [1/5] Batch [990/1654] Loss: 2.4080\n",
            "Epoch [1/5] Batch [991/1654] Loss: 2.3986\n",
            "Epoch [1/5] Batch [992/1654] Loss: 2.5771\n",
            "Epoch [1/5] Batch [993/1654] Loss: 2.3646\n",
            "Epoch [1/5] Batch [994/1654] Loss: 2.5620\n",
            "Epoch [1/5] Batch [995/1654] Loss: 2.4594\n",
            "Epoch [1/5] Batch [996/1654] Loss: 2.7796\n"
          ]
        },
        {
          "output_type": "stream",
          "name": "stderr",
          "text": [
            " 61%|██████    | 1003/1654 [00:29<00:17, 37.65it/s]"
          ]
        },
        {
          "output_type": "stream",
          "name": "stdout",
          "text": [
            "Epoch [1/5] Batch [997/1654] Loss: 2.5922\n",
            "Epoch [1/5] Batch [998/1654] Loss: 2.3422\n",
            "Epoch [1/5] Batch [999/1654] Loss: 2.4838\n",
            "Epoch [1/5] Batch [1000/1654] Loss: 2.5174\n",
            "Epoch [1/5] Batch [1001/1654] Loss: 2.3937\n",
            "Epoch [1/5] Batch [1002/1654] Loss: 2.7138\n",
            "Epoch [1/5] Batch [1003/1654] Loss: 2.2626\n",
            "Epoch [1/5] Batch [1004/1654] Loss: 2.4125\n"
          ]
        },
        {
          "output_type": "stream",
          "name": "stderr",
          "text": [
            " 61%|██████    | 1012/1654 [00:30<00:16, 38.74it/s]"
          ]
        },
        {
          "output_type": "stream",
          "name": "stdout",
          "text": [
            "Epoch [1/5] Batch [1005/1654] Loss: 2.5172\n",
            "Epoch [1/5] Batch [1006/1654] Loss: 2.5532\n",
            "Epoch [1/5] Batch [1007/1654] Loss: 2.8211\n",
            "Epoch [1/5] Batch [1008/1654] Loss: 2.4695\n",
            "Epoch [1/5] Batch [1009/1654] Loss: 2.3812\n",
            "Epoch [1/5] Batch [1010/1654] Loss: 2.8354\n",
            "Epoch [1/5] Batch [1011/1654] Loss: 2.2322\n",
            "Epoch [1/5] Batch [1012/1654] Loss: 2.5875\n"
          ]
        },
        {
          "output_type": "stream",
          "name": "stderr",
          "text": [
            " 62%|██████▏   | 1020/1654 [00:30<00:16, 38.84it/s]"
          ]
        },
        {
          "output_type": "stream",
          "name": "stdout",
          "text": [
            "Epoch [1/5] Batch [1013/1654] Loss: 2.5602\n",
            "Epoch [1/5] Batch [1014/1654] Loss: 2.5484\n",
            "Epoch [1/5] Batch [1015/1654] Loss: 2.8178\n",
            "Epoch [1/5] Batch [1016/1654] Loss: 2.4463\n",
            "Epoch [1/5] Batch [1017/1654] Loss: 2.4992\n",
            "Epoch [1/5] Batch [1018/1654] Loss: 2.4974\n",
            "Epoch [1/5] Batch [1019/1654] Loss: 2.6312\n",
            "Epoch [1/5] Batch [1020/1654] Loss: 2.7598\n",
            "Epoch [1/5] Batch [1021/1654] Loss: 2.7662\n"
          ]
        },
        {
          "output_type": "stream",
          "name": "stderr",
          "text": [
            " 62%|██████▏   | 1028/1654 [00:30<00:16, 38.00it/s]"
          ]
        },
        {
          "output_type": "stream",
          "name": "stdout",
          "text": [
            "Epoch [1/5] Batch [1022/1654] Loss: 2.4024\n",
            "Epoch [1/5] Batch [1023/1654] Loss: 2.3285\n",
            "Epoch [1/5] Batch [1024/1654] Loss: 2.1728\n",
            "Epoch [1/5] Batch [1025/1654] Loss: 2.6833\n",
            "Epoch [1/5] Batch [1026/1654] Loss: 2.5324\n",
            "Epoch [1/5] Batch [1027/1654] Loss: 2.5777\n",
            "Epoch [1/5] Batch [1028/1654] Loss: 2.4448\n",
            "Epoch [1/5] Batch [1029/1654] Loss: 2.6238\n"
          ]
        },
        {
          "output_type": "stream",
          "name": "stderr",
          "text": [
            " 63%|██████▎   | 1036/1654 [00:30<00:16, 38.57it/s]"
          ]
        },
        {
          "output_type": "stream",
          "name": "stdout",
          "text": [
            "Epoch [1/5] Batch [1030/1654] Loss: 2.5658\n",
            "Epoch [1/5] Batch [1031/1654] Loss: 2.3875\n",
            "Epoch [1/5] Batch [1032/1654] Loss: 2.4737\n",
            "Epoch [1/5] Batch [1033/1654] Loss: 2.5602\n",
            "Epoch [1/5] Batch [1034/1654] Loss: 2.3411\n",
            "Epoch [1/5] Batch [1035/1654] Loss: 2.3053\n",
            "Epoch [1/5] Batch [1036/1654] Loss: 2.4561\n",
            "Epoch [1/5] Batch [1037/1654] Loss: 2.8872\n"
          ]
        },
        {
          "output_type": "stream",
          "name": "stderr",
          "text": [
            " 63%|██████▎   | 1044/1654 [00:31<00:15, 38.31it/s]"
          ]
        },
        {
          "output_type": "stream",
          "name": "stdout",
          "text": [
            "Epoch [1/5] Batch [1038/1654] Loss: 2.5794\n",
            "Epoch [1/5] Batch [1039/1654] Loss: 2.4828\n",
            "Epoch [1/5] Batch [1040/1654] Loss: 2.5215\n",
            "Epoch [1/5] Batch [1041/1654] Loss: 2.5943\n",
            "Epoch [1/5] Batch [1042/1654] Loss: 2.3906\n",
            "Epoch [1/5] Batch [1043/1654] Loss: 2.5203\n",
            "Epoch [1/5] Batch [1044/1654] Loss: 2.4827\n",
            "Epoch [1/5] Batch [1045/1654] Loss: 2.5134\n"
          ]
        },
        {
          "output_type": "stream",
          "name": "stderr",
          "text": [
            " 64%|██████▎   | 1052/1654 [00:31<00:16, 37.24it/s]"
          ]
        },
        {
          "output_type": "stream",
          "name": "stdout",
          "text": [
            "Epoch [1/5] Batch [1046/1654] Loss: 2.3606\n",
            "Epoch [1/5] Batch [1047/1654] Loss: 2.4024\n",
            "Epoch [1/5] Batch [1048/1654] Loss: 2.4580\n",
            "Epoch [1/5] Batch [1049/1654] Loss: 2.3020\n",
            "Epoch [1/5] Batch [1050/1654] Loss: 2.2662\n",
            "Epoch [1/5] Batch [1051/1654] Loss: 2.1008\n",
            "Epoch [1/5] Batch [1052/1654] Loss: 2.4710\n",
            "Epoch [1/5] Batch [1053/1654] Loss: 2.9224\n"
          ]
        },
        {
          "output_type": "stream",
          "name": "stderr",
          "text": [
            " 64%|██████▍   | 1060/1654 [00:31<00:16, 36.94it/s]"
          ]
        },
        {
          "output_type": "stream",
          "name": "stdout",
          "text": [
            "Epoch [1/5] Batch [1054/1654] Loss: 2.5432\n",
            "Epoch [1/5] Batch [1055/1654] Loss: 2.3134\n",
            "Epoch [1/5] Batch [1056/1654] Loss: 2.7148\n",
            "Epoch [1/5] Batch [1057/1654] Loss: 2.2722\n",
            "Epoch [1/5] Batch [1058/1654] Loss: 2.6361\n",
            "Epoch [1/5] Batch [1059/1654] Loss: 2.5426\n",
            "Epoch [1/5] Batch [1060/1654] Loss: 2.7330\n",
            "Epoch [1/5] Batch [1061/1654] Loss: 2.5738\n"
          ]
        },
        {
          "output_type": "stream",
          "name": "stderr",
          "text": [
            " 65%|██████▍   | 1068/1654 [00:31<00:15, 37.02it/s]"
          ]
        },
        {
          "output_type": "stream",
          "name": "stdout",
          "text": [
            "Epoch [1/5] Batch [1062/1654] Loss: 2.7063\n",
            "Epoch [1/5] Batch [1063/1654] Loss: 2.3915\n",
            "Epoch [1/5] Batch [1064/1654] Loss: 2.5552\n",
            "Epoch [1/5] Batch [1065/1654] Loss: 2.4213\n",
            "Epoch [1/5] Batch [1066/1654] Loss: 2.4884\n",
            "Epoch [1/5] Batch [1067/1654] Loss: 2.3656\n",
            "Epoch [1/5] Batch [1068/1654] Loss: 2.5321\n",
            "Epoch [1/5] Batch [1069/1654] Loss: 2.6332\n"
          ]
        },
        {
          "output_type": "stream",
          "name": "stderr",
          "text": [
            " 65%|██████▌   | 1076/1654 [00:31<00:15, 37.32it/s]"
          ]
        },
        {
          "output_type": "stream",
          "name": "stdout",
          "text": [
            "Epoch [1/5] Batch [1070/1654] Loss: 2.6401\n",
            "Epoch [1/5] Batch [1071/1654] Loss: 2.4822\n",
            "Epoch [1/5] Batch [1072/1654] Loss: 2.5199\n",
            "Epoch [1/5] Batch [1073/1654] Loss: 2.3889\n",
            "Epoch [1/5] Batch [1074/1654] Loss: 2.1810\n",
            "Epoch [1/5] Batch [1075/1654] Loss: 2.6692\n",
            "Epoch [1/5] Batch [1076/1654] Loss: 2.6032\n",
            "Epoch [1/5] Batch [1077/1654] Loss: 2.3927\n"
          ]
        },
        {
          "output_type": "stream",
          "name": "stderr",
          "text": [
            " 66%|██████▌   | 1085/1654 [00:32<00:14, 38.29it/s]"
          ]
        },
        {
          "output_type": "stream",
          "name": "stdout",
          "text": [
            "Epoch [1/5] Batch [1078/1654] Loss: 2.5203\n",
            "Epoch [1/5] Batch [1079/1654] Loss: 2.7673\n",
            "Epoch [1/5] Batch [1080/1654] Loss: 2.3288\n",
            "Epoch [1/5] Batch [1081/1654] Loss: 2.4903\n",
            "Epoch [1/5] Batch [1082/1654] Loss: 2.6045\n",
            "Epoch [1/5] Batch [1083/1654] Loss: 2.4416\n",
            "Epoch [1/5] Batch [1084/1654] Loss: 2.7220\n",
            "Epoch [1/5] Batch [1085/1654] Loss: 2.4771\n"
          ]
        },
        {
          "output_type": "stream",
          "name": "stderr",
          "text": [
            " 66%|██████▌   | 1093/1654 [00:32<00:14, 37.97it/s]"
          ]
        },
        {
          "output_type": "stream",
          "name": "stdout",
          "text": [
            "Epoch [1/5] Batch [1086/1654] Loss: 2.5865\n",
            "Epoch [1/5] Batch [1087/1654] Loss: 2.5835\n",
            "Epoch [1/5] Batch [1088/1654] Loss: 2.5198\n",
            "Epoch [1/5] Batch [1089/1654] Loss: 2.2786\n",
            "Epoch [1/5] Batch [1090/1654] Loss: 2.5525\n",
            "Epoch [1/5] Batch [1091/1654] Loss: 2.5332\n",
            "Epoch [1/5] Batch [1092/1654] Loss: 2.4792\n",
            "Epoch [1/5] Batch [1093/1654] Loss: 2.1768\n"
          ]
        },
        {
          "output_type": "stream",
          "name": "stderr",
          "text": [
            " 67%|██████▋   | 1101/1654 [00:32<00:14, 38.30it/s]"
          ]
        },
        {
          "output_type": "stream",
          "name": "stdout",
          "text": [
            "Epoch [1/5] Batch [1094/1654] Loss: 2.3658\n",
            "Epoch [1/5] Batch [1095/1654] Loss: 2.5744\n",
            "Epoch [1/5] Batch [1096/1654] Loss: 2.6404\n",
            "Epoch [1/5] Batch [1097/1654] Loss: 2.3453\n",
            "Epoch [1/5] Batch [1098/1654] Loss: 2.5583\n",
            "Epoch [1/5] Batch [1099/1654] Loss: 2.6265\n",
            "Epoch [1/5] Batch [1100/1654] Loss: 2.1029\n",
            "Epoch [1/5] Batch [1101/1654] Loss: 2.3268\n"
          ]
        },
        {
          "output_type": "stream",
          "name": "stderr",
          "text": [
            "\r 67%|██████▋   | 1105/1654 [00:32<00:15, 35.98it/s]"
          ]
        },
        {
          "output_type": "stream",
          "name": "stdout",
          "text": [
            "Epoch [1/5] Batch [1102/1654] Loss: 2.1038\n",
            "Epoch [1/5] Batch [1103/1654] Loss: 2.8542\n",
            "Epoch [1/5] Batch [1104/1654] Loss: 2.3460\n",
            "Epoch [1/5] Batch [1105/1654] Loss: 2.5107\n",
            "Epoch [1/5] Batch [1106/1654] Loss: 2.4833\n",
            "Epoch [1/5] Batch [1107/1654] Loss: 2.2999\n"
          ]
        },
        {
          "output_type": "stream",
          "name": "stderr",
          "text": [
            " 67%|██████▋   | 1113/1654 [00:32<00:16, 31.97it/s]"
          ]
        },
        {
          "output_type": "stream",
          "name": "stdout",
          "text": [
            "Epoch [1/5] Batch [1108/1654] Loss: 2.1537\n",
            "Epoch [1/5] Batch [1109/1654] Loss: 2.2081\n",
            "Epoch [1/5] Batch [1110/1654] Loss: 2.3760\n",
            "Epoch [1/5] Batch [1111/1654] Loss: 2.4016\n",
            "Epoch [1/5] Batch [1112/1654] Loss: 2.4523\n",
            "Epoch [1/5] Batch [1113/1654] Loss: 2.5766\n"
          ]
        },
        {
          "output_type": "stream",
          "name": "stderr",
          "text": [
            "\r 68%|██████▊   | 1117/1654 [00:33<00:16, 31.87it/s]"
          ]
        },
        {
          "output_type": "stream",
          "name": "stdout",
          "text": [
            "Epoch [1/5] Batch [1114/1654] Loss: 2.4243\n",
            "Epoch [1/5] Batch [1115/1654] Loss: 2.6024\n",
            "Epoch [1/5] Batch [1116/1654] Loss: 2.2723\n",
            "Epoch [1/5] Batch [1117/1654] Loss: 2.4342\n",
            "Epoch [1/5] Batch [1118/1654] Loss: 2.6197\n",
            "Epoch [1/5] Batch [1119/1654] Loss: 2.4434\n",
            "Epoch [1/5] Batch [1120/1654] Loss: 2.5594\n"
          ]
        },
        {
          "output_type": "stream",
          "name": "stderr",
          "text": [
            " 68%|██████▊   | 1125/1654 [00:33<00:16, 31.84it/s]"
          ]
        },
        {
          "output_type": "stream",
          "name": "stdout",
          "text": [
            "Epoch [1/5] Batch [1121/1654] Loss: 2.5512\n",
            "Epoch [1/5] Batch [1122/1654] Loss: 2.3842\n",
            "Epoch [1/5] Batch [1123/1654] Loss: 2.6267\n",
            "Epoch [1/5] Batch [1124/1654] Loss: 2.8109\n",
            "Epoch [1/5] Batch [1125/1654] Loss: 2.5406\n",
            "Epoch [1/5] Batch [1126/1654] Loss: 2.6443\n",
            "Epoch [1/5] Batch [1127/1654] Loss: 2.6626\n"
          ]
        },
        {
          "output_type": "stream",
          "name": "stderr",
          "text": [
            " 69%|██████▊   | 1133/1654 [00:33<00:16, 31.35it/s]"
          ]
        },
        {
          "output_type": "stream",
          "name": "stdout",
          "text": [
            "Epoch [1/5] Batch [1128/1654] Loss: 2.3176\n",
            "Epoch [1/5] Batch [1129/1654] Loss: 2.4087\n",
            "Epoch [1/5] Batch [1130/1654] Loss: 2.6897\n",
            "Epoch [1/5] Batch [1131/1654] Loss: 2.3149\n",
            "Epoch [1/5] Batch [1132/1654] Loss: 2.3738\n",
            "Epoch [1/5] Batch [1133/1654] Loss: 2.7445\n",
            "Epoch [1/5] Batch [1134/1654] Loss: 2.7689\n"
          ]
        },
        {
          "output_type": "stream",
          "name": "stderr",
          "text": [
            " 69%|██████▉   | 1141/1654 [00:33<00:16, 31.20it/s]"
          ]
        },
        {
          "output_type": "stream",
          "name": "stdout",
          "text": [
            "Epoch [1/5] Batch [1135/1654] Loss: 2.5125\n",
            "Epoch [1/5] Batch [1136/1654] Loss: 2.5003\n",
            "Epoch [1/5] Batch [1137/1654] Loss: 2.4726\n",
            "Epoch [1/5] Batch [1138/1654] Loss: 2.4069\n",
            "Epoch [1/5] Batch [1139/1654] Loss: 2.5615\n",
            "Epoch [1/5] Batch [1140/1654] Loss: 2.5415\n",
            "Epoch [1/5] Batch [1141/1654] Loss: 2.3076\n"
          ]
        },
        {
          "output_type": "stream",
          "name": "stderr",
          "text": [
            "\r 69%|██████▉   | 1145/1654 [00:33<00:16, 31.44it/s]"
          ]
        },
        {
          "output_type": "stream",
          "name": "stdout",
          "text": [
            "Epoch [1/5] Batch [1142/1654] Loss: 2.4342\n",
            "Epoch [1/5] Batch [1143/1654] Loss: 2.1116\n",
            "Epoch [1/5] Batch [1144/1654] Loss: 2.4271\n",
            "Epoch [1/5] Batch [1145/1654] Loss: 2.3863\n",
            "Epoch [1/5] Batch [1146/1654] Loss: 2.5039\n",
            "Epoch [1/5] Batch [1147/1654] Loss: 2.6710\n",
            "Epoch [1/5] Batch [1148/1654] Loss: 2.3499\n"
          ]
        },
        {
          "output_type": "stream",
          "name": "stderr",
          "text": [
            " 70%|██████▉   | 1153/1654 [00:34<00:16, 30.24it/s]"
          ]
        },
        {
          "output_type": "stream",
          "name": "stdout",
          "text": [
            "Epoch [1/5] Batch [1149/1654] Loss: 2.4818\n",
            "Epoch [1/5] Batch [1150/1654] Loss: 2.3749\n",
            "Epoch [1/5] Batch [1151/1654] Loss: 2.6074\n",
            "Epoch [1/5] Batch [1152/1654] Loss: 2.3263\n",
            "Epoch [1/5] Batch [1153/1654] Loss: 2.2371\n",
            "Epoch [1/5] Batch [1154/1654] Loss: 2.0893\n"
          ]
        },
        {
          "output_type": "stream",
          "name": "stderr",
          "text": [
            "\r 70%|██████▉   | 1157/1654 [00:34<00:16, 30.06it/s]"
          ]
        },
        {
          "output_type": "stream",
          "name": "stdout",
          "text": [
            "Epoch [1/5] Batch [1155/1654] Loss: 2.4260\n",
            "Epoch [1/5] Batch [1156/1654] Loss: 2.4238\n",
            "Epoch [1/5] Batch [1157/1654] Loss: 2.4418\n",
            "Epoch [1/5] Batch [1158/1654] Loss: 2.7299\n",
            "Epoch [1/5] Batch [1159/1654] Loss: 2.4943\n",
            "Epoch [1/5] Batch [1160/1654] Loss: 2.4057\n"
          ]
        },
        {
          "output_type": "stream",
          "name": "stderr",
          "text": [
            " 70%|███████   | 1164/1654 [00:34<00:17, 28.54it/s]"
          ]
        },
        {
          "output_type": "stream",
          "name": "stdout",
          "text": [
            "Epoch [1/5] Batch [1161/1654] Loss: 2.6910\n",
            "Epoch [1/5] Batch [1162/1654] Loss: 2.4910\n",
            "Epoch [1/5] Batch [1163/1654] Loss: 2.1380\n",
            "Epoch [1/5] Batch [1164/1654] Loss: 2.3804\n",
            "Epoch [1/5] Batch [1165/1654] Loss: 2.1104\n",
            "Epoch [1/5] Batch [1166/1654] Loss: 2.2872\n"
          ]
        },
        {
          "output_type": "stream",
          "name": "stderr",
          "text": [
            " 71%|███████   | 1171/1654 [00:34<00:16, 29.42it/s]"
          ]
        },
        {
          "output_type": "stream",
          "name": "stdout",
          "text": [
            "Epoch [1/5] Batch [1167/1654] Loss: 2.3832\n",
            "Epoch [1/5] Batch [1168/1654] Loss: 2.4782\n",
            "Epoch [1/5] Batch [1169/1654] Loss: 2.3400\n",
            "Epoch [1/5] Batch [1170/1654] Loss: 2.1728\n",
            "Epoch [1/5] Batch [1171/1654] Loss: 2.3394\n",
            "Epoch [1/5] Batch [1172/1654] Loss: 2.5009\n",
            "Epoch [1/5] Batch [1173/1654] Loss: 2.2520\n",
            "Epoch [1/5] Batch [1174/1654] Loss: 2.2719\n"
          ]
        },
        {
          "output_type": "stream",
          "name": "stderr",
          "text": [
            " 71%|███████▏  | 1179/1654 [00:35<00:14, 33.04it/s]"
          ]
        },
        {
          "output_type": "stream",
          "name": "stdout",
          "text": [
            "Epoch [1/5] Batch [1175/1654] Loss: 2.1164\n",
            "Epoch [1/5] Batch [1176/1654] Loss: 2.3749\n",
            "Epoch [1/5] Batch [1177/1654] Loss: 2.4466\n",
            "Epoch [1/5] Batch [1178/1654] Loss: 2.6066\n",
            "Epoch [1/5] Batch [1179/1654] Loss: 2.4622\n",
            "Epoch [1/5] Batch [1180/1654] Loss: 2.4035\n",
            "Epoch [1/5] Batch [1181/1654] Loss: 2.3430\n",
            "Epoch [1/5] Batch [1182/1654] Loss: 2.5436\n"
          ]
        },
        {
          "output_type": "stream",
          "name": "stderr",
          "text": [
            " 72%|███████▏  | 1187/1654 [00:35<00:13, 34.49it/s]"
          ]
        },
        {
          "output_type": "stream",
          "name": "stdout",
          "text": [
            "Epoch [1/5] Batch [1183/1654] Loss: 2.6187\n",
            "Epoch [1/5] Batch [1184/1654] Loss: 2.4319\n",
            "Epoch [1/5] Batch [1185/1654] Loss: 2.3548\n",
            "Epoch [1/5] Batch [1186/1654] Loss: 2.2754\n",
            "Epoch [1/5] Batch [1187/1654] Loss: 2.1816\n",
            "Epoch [1/5] Batch [1188/1654] Loss: 2.5275\n",
            "Epoch [1/5] Batch [1189/1654] Loss: 2.5454\n",
            "Epoch [1/5] Batch [1190/1654] Loss: 2.4915\n"
          ]
        },
        {
          "output_type": "stream",
          "name": "stderr",
          "text": [
            " 72%|███████▏  | 1195/1654 [00:35<00:12, 36.01it/s]"
          ]
        },
        {
          "output_type": "stream",
          "name": "stdout",
          "text": [
            "Epoch [1/5] Batch [1191/1654] Loss: 2.5961\n",
            "Epoch [1/5] Batch [1192/1654] Loss: 2.4710\n",
            "Epoch [1/5] Batch [1193/1654] Loss: 2.6637\n",
            "Epoch [1/5] Batch [1194/1654] Loss: 2.6397\n",
            "Epoch [1/5] Batch [1195/1654] Loss: 2.3982\n",
            "Epoch [1/5] Batch [1196/1654] Loss: 2.1520\n",
            "Epoch [1/5] Batch [1197/1654] Loss: 2.7560\n",
            "Epoch [1/5] Batch [1198/1654] Loss: 2.4116\n"
          ]
        },
        {
          "output_type": "stream",
          "name": "stderr",
          "text": [
            " 73%|███████▎  | 1203/1654 [00:35<00:12, 36.97it/s]"
          ]
        },
        {
          "output_type": "stream",
          "name": "stdout",
          "text": [
            "Epoch [1/5] Batch [1199/1654] Loss: 2.3480\n",
            "Epoch [1/5] Batch [1200/1654] Loss: 2.2079\n",
            "Epoch [1/5] Batch [1201/1654] Loss: 2.5003\n",
            "Epoch [1/5] Batch [1202/1654] Loss: 2.4750\n",
            "Epoch [1/5] Batch [1203/1654] Loss: 2.5322\n",
            "Epoch [1/5] Batch [1204/1654] Loss: 2.5486\n",
            "Epoch [1/5] Batch [1205/1654] Loss: 2.4502\n",
            "Epoch [1/5] Batch [1206/1654] Loss: 2.5677\n"
          ]
        },
        {
          "output_type": "stream",
          "name": "stderr",
          "text": [
            " 73%|███████▎  | 1211/1654 [00:35<00:11, 36.96it/s]"
          ]
        },
        {
          "output_type": "stream",
          "name": "stdout",
          "text": [
            "Epoch [1/5] Batch [1207/1654] Loss: 2.2631\n",
            "Epoch [1/5] Batch [1208/1654] Loss: 2.1145\n",
            "Epoch [1/5] Batch [1209/1654] Loss: 2.6907\n",
            "Epoch [1/5] Batch [1210/1654] Loss: 2.4226\n",
            "Epoch [1/5] Batch [1211/1654] Loss: 2.3439\n",
            "Epoch [1/5] Batch [1212/1654] Loss: 2.5465\n",
            "Epoch [1/5] Batch [1213/1654] Loss: 2.4875\n",
            "Epoch [1/5] Batch [1214/1654] Loss: 2.5971\n"
          ]
        },
        {
          "output_type": "stream",
          "name": "stderr",
          "text": [
            " 74%|███████▎  | 1219/1654 [00:36<00:11, 37.37it/s]"
          ]
        },
        {
          "output_type": "stream",
          "name": "stdout",
          "text": [
            "Epoch [1/5] Batch [1215/1654] Loss: 2.2638\n",
            "Epoch [1/5] Batch [1216/1654] Loss: 2.3132\n",
            "Epoch [1/5] Batch [1217/1654] Loss: 2.3841\n",
            "Epoch [1/5] Batch [1218/1654] Loss: 2.4258\n",
            "Epoch [1/5] Batch [1219/1654] Loss: 2.3754\n",
            "Epoch [1/5] Batch [1220/1654] Loss: 2.2445\n",
            "Epoch [1/5] Batch [1221/1654] Loss: 2.1999\n",
            "Epoch [1/5] Batch [1222/1654] Loss: 2.5345\n"
          ]
        },
        {
          "output_type": "stream",
          "name": "stderr",
          "text": [
            " 74%|███████▍  | 1227/1654 [00:36<00:11, 37.68it/s]"
          ]
        },
        {
          "output_type": "stream",
          "name": "stdout",
          "text": [
            "Epoch [1/5] Batch [1223/1654] Loss: 2.2903\n",
            "Epoch [1/5] Batch [1224/1654] Loss: 2.3147\n",
            "Epoch [1/5] Batch [1225/1654] Loss: 2.3570\n",
            "Epoch [1/5] Batch [1226/1654] Loss: 2.2858\n",
            "Epoch [1/5] Batch [1227/1654] Loss: 2.3310\n",
            "Epoch [1/5] Batch [1228/1654] Loss: 2.5247\n",
            "Epoch [1/5] Batch [1229/1654] Loss: 2.1405\n",
            "Epoch [1/5] Batch [1230/1654] Loss: 2.1648\n"
          ]
        },
        {
          "output_type": "stream",
          "name": "stderr",
          "text": [
            " 75%|███████▍  | 1235/1654 [00:36<00:11, 37.81it/s]"
          ]
        },
        {
          "output_type": "stream",
          "name": "stdout",
          "text": [
            "Epoch [1/5] Batch [1231/1654] Loss: 2.2755\n",
            "Epoch [1/5] Batch [1232/1654] Loss: 2.2864\n",
            "Epoch [1/5] Batch [1233/1654] Loss: 2.5210\n",
            "Epoch [1/5] Batch [1234/1654] Loss: 2.3891\n",
            "Epoch [1/5] Batch [1235/1654] Loss: 2.6450\n",
            "Epoch [1/5] Batch [1236/1654] Loss: 2.5192\n",
            "Epoch [1/5] Batch [1237/1654] Loss: 2.3661\n",
            "Epoch [1/5] Batch [1238/1654] Loss: 2.4751\n"
          ]
        },
        {
          "output_type": "stream",
          "name": "stderr",
          "text": [
            " 75%|███████▌  | 1243/1654 [00:36<00:10, 37.49it/s]"
          ]
        },
        {
          "output_type": "stream",
          "name": "stdout",
          "text": [
            "Epoch [1/5] Batch [1239/1654] Loss: 2.4606\n",
            "Epoch [1/5] Batch [1240/1654] Loss: 2.3735\n",
            "Epoch [1/5] Batch [1241/1654] Loss: 2.6234\n",
            "Epoch [1/5] Batch [1242/1654] Loss: 2.0687\n",
            "Epoch [1/5] Batch [1243/1654] Loss: 2.4754\n",
            "Epoch [1/5] Batch [1244/1654] Loss: 2.7184\n",
            "Epoch [1/5] Batch [1245/1654] Loss: 2.3371\n",
            "Epoch [1/5] Batch [1246/1654] Loss: 2.3563\n"
          ]
        },
        {
          "output_type": "stream",
          "name": "stderr",
          "text": [
            " 76%|███████▌  | 1251/1654 [00:37<00:10, 37.37it/s]"
          ]
        },
        {
          "output_type": "stream",
          "name": "stdout",
          "text": [
            "Epoch [1/5] Batch [1247/1654] Loss: 2.3840\n",
            "Epoch [1/5] Batch [1248/1654] Loss: 2.5875\n",
            "Epoch [1/5] Batch [1249/1654] Loss: 2.7150\n",
            "Epoch [1/5] Batch [1250/1654] Loss: 2.4395\n",
            "Epoch [1/5] Batch [1251/1654] Loss: 2.2968\n",
            "Epoch [1/5] Batch [1252/1654] Loss: 2.4027\n",
            "Epoch [1/5] Batch [1253/1654] Loss: 2.3062\n",
            "Epoch [1/5] Batch [1254/1654] Loss: 2.3479\n"
          ]
        },
        {
          "output_type": "stream",
          "name": "stderr",
          "text": [
            " 76%|███████▌  | 1259/1654 [00:37<00:10, 37.72it/s]"
          ]
        },
        {
          "output_type": "stream",
          "name": "stdout",
          "text": [
            "Epoch [1/5] Batch [1255/1654] Loss: 2.2971\n",
            "Epoch [1/5] Batch [1256/1654] Loss: 2.1677\n",
            "Epoch [1/5] Batch [1257/1654] Loss: 2.1987\n",
            "Epoch [1/5] Batch [1258/1654] Loss: 2.0737\n",
            "Epoch [1/5] Batch [1259/1654] Loss: 2.4766\n",
            "Epoch [1/5] Batch [1260/1654] Loss: 2.4940\n",
            "Epoch [1/5] Batch [1261/1654] Loss: 2.2574\n",
            "Epoch [1/5] Batch [1262/1654] Loss: 2.3808\n"
          ]
        },
        {
          "output_type": "stream",
          "name": "stderr",
          "text": [
            " 77%|███████▋  | 1267/1654 [00:37<00:10, 37.76it/s]"
          ]
        },
        {
          "output_type": "stream",
          "name": "stdout",
          "text": [
            "Epoch [1/5] Batch [1263/1654] Loss: 2.4746\n",
            "Epoch [1/5] Batch [1264/1654] Loss: 2.3961\n",
            "Epoch [1/5] Batch [1265/1654] Loss: 2.5556\n",
            "Epoch [1/5] Batch [1266/1654] Loss: 2.5312\n",
            "Epoch [1/5] Batch [1267/1654] Loss: 2.1584\n",
            "Epoch [1/5] Batch [1268/1654] Loss: 2.6762\n",
            "Epoch [1/5] Batch [1269/1654] Loss: 2.1841\n",
            "Epoch [1/5] Batch [1270/1654] Loss: 2.1723\n"
          ]
        },
        {
          "output_type": "stream",
          "name": "stderr",
          "text": [
            " 77%|███████▋  | 1275/1654 [00:37<00:09, 38.42it/s]"
          ]
        },
        {
          "output_type": "stream",
          "name": "stdout",
          "text": [
            "Epoch [1/5] Batch [1271/1654] Loss: 2.3644\n",
            "Epoch [1/5] Batch [1272/1654] Loss: 2.0765\n",
            "Epoch [1/5] Batch [1273/1654] Loss: 2.3997\n",
            "Epoch [1/5] Batch [1274/1654] Loss: 2.4165\n",
            "Epoch [1/5] Batch [1275/1654] Loss: 2.1737\n",
            "Epoch [1/5] Batch [1276/1654] Loss: 1.9372\n",
            "Epoch [1/5] Batch [1277/1654] Loss: 2.3844\n",
            "Epoch [1/5] Batch [1278/1654] Loss: 1.9505\n"
          ]
        },
        {
          "output_type": "stream",
          "name": "stderr",
          "text": [
            " 78%|███████▊  | 1283/1654 [00:37<00:09, 37.25it/s]"
          ]
        },
        {
          "output_type": "stream",
          "name": "stdout",
          "text": [
            "Epoch [1/5] Batch [1279/1654] Loss: 2.4440\n",
            "Epoch [1/5] Batch [1280/1654] Loss: 2.4603\n",
            "Epoch [1/5] Batch [1281/1654] Loss: 2.4633\n",
            "Epoch [1/5] Batch [1282/1654] Loss: 2.3181\n",
            "Epoch [1/5] Batch [1283/1654] Loss: 2.2972\n",
            "Epoch [1/5] Batch [1284/1654] Loss: 2.4046\n",
            "Epoch [1/5] Batch [1285/1654] Loss: 2.5090\n",
            "Epoch [1/5] Batch [1286/1654] Loss: 2.3473\n"
          ]
        },
        {
          "output_type": "stream",
          "name": "stderr",
          "text": [
            " 78%|███████▊  | 1291/1654 [00:38<00:09, 37.68it/s]"
          ]
        },
        {
          "output_type": "stream",
          "name": "stdout",
          "text": [
            "Epoch [1/5] Batch [1287/1654] Loss: 2.3001\n",
            "Epoch [1/5] Batch [1288/1654] Loss: 2.5443\n",
            "Epoch [1/5] Batch [1289/1654] Loss: 2.4734\n",
            "Epoch [1/5] Batch [1290/1654] Loss: 2.3422\n",
            "Epoch [1/5] Batch [1291/1654] Loss: 2.4548\n",
            "Epoch [1/5] Batch [1292/1654] Loss: 2.2509\n",
            "Epoch [1/5] Batch [1293/1654] Loss: 2.3064\n",
            "Epoch [1/5] Batch [1294/1654] Loss: 2.1135\n"
          ]
        },
        {
          "output_type": "stream",
          "name": "stderr",
          "text": [
            " 79%|███████▊  | 1299/1654 [00:38<00:09, 38.12it/s]"
          ]
        },
        {
          "output_type": "stream",
          "name": "stdout",
          "text": [
            "Epoch [1/5] Batch [1295/1654] Loss: 2.5090\n",
            "Epoch [1/5] Batch [1296/1654] Loss: 2.5685\n",
            "Epoch [1/5] Batch [1297/1654] Loss: 2.4270\n",
            "Epoch [1/5] Batch [1298/1654] Loss: 2.3545\n",
            "Epoch [1/5] Batch [1299/1654] Loss: 2.2898\n",
            "Epoch [1/5] Batch [1300/1654] Loss: 2.4666\n",
            "Epoch [1/5] Batch [1301/1654] Loss: 2.1671\n",
            "Epoch [1/5] Batch [1302/1654] Loss: 2.3127\n"
          ]
        },
        {
          "output_type": "stream",
          "name": "stderr",
          "text": [
            " 79%|███████▉  | 1307/1654 [00:38<00:08, 38.82it/s]"
          ]
        },
        {
          "output_type": "stream",
          "name": "stdout",
          "text": [
            "Epoch [1/5] Batch [1303/1654] Loss: 1.9934\n",
            "Epoch [1/5] Batch [1304/1654] Loss: 2.2116\n",
            "Epoch [1/5] Batch [1305/1654] Loss: 2.1969\n",
            "Epoch [1/5] Batch [1306/1654] Loss: 1.9405\n",
            "Epoch [1/5] Batch [1307/1654] Loss: 2.4794\n",
            "Epoch [1/5] Batch [1308/1654] Loss: 2.3667\n",
            "Epoch [1/5] Batch [1309/1654] Loss: 2.6647\n",
            "Epoch [1/5] Batch [1310/1654] Loss: 2.7100\n"
          ]
        },
        {
          "output_type": "stream",
          "name": "stderr",
          "text": [
            " 80%|███████▉  | 1315/1654 [00:38<00:08, 38.59it/s]"
          ]
        },
        {
          "output_type": "stream",
          "name": "stdout",
          "text": [
            "Epoch [1/5] Batch [1311/1654] Loss: 2.4168\n",
            "Epoch [1/5] Batch [1312/1654] Loss: 2.2578\n",
            "Epoch [1/5] Batch [1313/1654] Loss: 2.3064\n",
            "Epoch [1/5] Batch [1314/1654] Loss: 2.0798\n",
            "Epoch [1/5] Batch [1315/1654] Loss: 2.1386\n",
            "Epoch [1/5] Batch [1316/1654] Loss: 1.9148\n",
            "Epoch [1/5] Batch [1317/1654] Loss: 2.4946\n",
            "Epoch [1/5] Batch [1318/1654] Loss: 2.4657\n"
          ]
        },
        {
          "output_type": "stream",
          "name": "stderr",
          "text": [
            " 80%|███████▉  | 1323/1654 [00:38<00:08, 37.77it/s]"
          ]
        },
        {
          "output_type": "stream",
          "name": "stdout",
          "text": [
            "Epoch [1/5] Batch [1319/1654] Loss: 2.1827\n",
            "Epoch [1/5] Batch [1320/1654] Loss: 2.6030\n",
            "Epoch [1/5] Batch [1321/1654] Loss: 2.2514\n",
            "Epoch [1/5] Batch [1322/1654] Loss: 2.2930\n",
            "Epoch [1/5] Batch [1323/1654] Loss: 2.3003\n",
            "Epoch [1/5] Batch [1324/1654] Loss: 2.4060\n",
            "Epoch [1/5] Batch [1325/1654] Loss: 2.2398\n",
            "Epoch [1/5] Batch [1326/1654] Loss: 2.1553\n"
          ]
        },
        {
          "output_type": "stream",
          "name": "stderr",
          "text": [
            " 80%|████████  | 1331/1654 [00:39<00:08, 38.02it/s]"
          ]
        },
        {
          "output_type": "stream",
          "name": "stdout",
          "text": [
            "Epoch [1/5] Batch [1327/1654] Loss: 2.3432\n",
            "Epoch [1/5] Batch [1328/1654] Loss: 2.1537\n",
            "Epoch [1/5] Batch [1329/1654] Loss: 2.1161\n",
            "Epoch [1/5] Batch [1330/1654] Loss: 2.0793\n",
            "Epoch [1/5] Batch [1331/1654] Loss: 2.2820\n",
            "Epoch [1/5] Batch [1332/1654] Loss: 2.2555\n",
            "Epoch [1/5] Batch [1333/1654] Loss: 2.2595\n",
            "Epoch [1/5] Batch [1334/1654] Loss: 2.1395\n"
          ]
        },
        {
          "output_type": "stream",
          "name": "stderr",
          "text": [
            " 81%|████████  | 1339/1654 [00:39<00:08, 38.24it/s]"
          ]
        },
        {
          "output_type": "stream",
          "name": "stdout",
          "text": [
            "Epoch [1/5] Batch [1335/1654] Loss: 2.2827\n",
            "Epoch [1/5] Batch [1336/1654] Loss: 2.3434\n",
            "Epoch [1/5] Batch [1337/1654] Loss: 2.4948\n",
            "Epoch [1/5] Batch [1338/1654] Loss: 2.0043\n",
            "Epoch [1/5] Batch [1339/1654] Loss: 2.2410\n",
            "Epoch [1/5] Batch [1340/1654] Loss: 2.2816\n",
            "Epoch [1/5] Batch [1341/1654] Loss: 2.1500\n",
            "Epoch [1/5] Batch [1342/1654] Loss: 2.2937\n"
          ]
        },
        {
          "output_type": "stream",
          "name": "stderr",
          "text": [
            " 81%|████████▏ | 1347/1654 [00:39<00:08, 37.91it/s]"
          ]
        },
        {
          "output_type": "stream",
          "name": "stdout",
          "text": [
            "Epoch [1/5] Batch [1343/1654] Loss: 2.2566\n",
            "Epoch [1/5] Batch [1344/1654] Loss: 2.1553\n",
            "Epoch [1/5] Batch [1345/1654] Loss: 2.4233\n",
            "Epoch [1/5] Batch [1346/1654] Loss: 2.0037\n",
            "Epoch [1/5] Batch [1347/1654] Loss: 2.3212\n",
            "Epoch [1/5] Batch [1348/1654] Loss: 2.1852\n",
            "Epoch [1/5] Batch [1349/1654] Loss: 2.0353\n",
            "Epoch [1/5] Batch [1350/1654] Loss: 2.1912\n"
          ]
        },
        {
          "output_type": "stream",
          "name": "stderr",
          "text": [
            " 82%|████████▏ | 1355/1654 [00:39<00:07, 38.60it/s]"
          ]
        },
        {
          "output_type": "stream",
          "name": "stdout",
          "text": [
            "Epoch [1/5] Batch [1351/1654] Loss: 2.2181\n",
            "Epoch [1/5] Batch [1352/1654] Loss: 2.2250\n",
            "Epoch [1/5] Batch [1353/1654] Loss: 2.1226\n",
            "Epoch [1/5] Batch [1354/1654] Loss: 2.1628\n",
            "Epoch [1/5] Batch [1355/1654] Loss: 2.2037\n",
            "Epoch [1/5] Batch [1356/1654] Loss: 2.4159\n",
            "Epoch [1/5] Batch [1357/1654] Loss: 2.3526\n",
            "Epoch [1/5] Batch [1358/1654] Loss: 2.2630\n"
          ]
        },
        {
          "output_type": "stream",
          "name": "stderr",
          "text": [
            " 82%|████████▏ | 1363/1654 [00:39<00:07, 38.06it/s]"
          ]
        },
        {
          "output_type": "stream",
          "name": "stdout",
          "text": [
            "Epoch [1/5] Batch [1359/1654] Loss: 2.2390\n",
            "Epoch [1/5] Batch [1360/1654] Loss: 2.5397\n",
            "Epoch [1/5] Batch [1361/1654] Loss: 2.4501\n",
            "Epoch [1/5] Batch [1362/1654] Loss: 2.1926\n",
            "Epoch [1/5] Batch [1363/1654] Loss: 2.4515\n",
            "Epoch [1/5] Batch [1364/1654] Loss: 2.2431\n",
            "Epoch [1/5] Batch [1365/1654] Loss: 2.3622\n",
            "Epoch [1/5] Batch [1366/1654] Loss: 2.4155\n"
          ]
        },
        {
          "output_type": "stream",
          "name": "stderr",
          "text": [
            " 83%|████████▎ | 1371/1654 [00:40<00:07, 38.31it/s]"
          ]
        },
        {
          "output_type": "stream",
          "name": "stdout",
          "text": [
            "Epoch [1/5] Batch [1367/1654] Loss: 2.2586\n",
            "Epoch [1/5] Batch [1368/1654] Loss: 2.4755\n",
            "Epoch [1/5] Batch [1369/1654] Loss: 2.0915\n",
            "Epoch [1/5] Batch [1370/1654] Loss: 2.3777\n",
            "Epoch [1/5] Batch [1371/1654] Loss: 2.3638\n",
            "Epoch [1/5] Batch [1372/1654] Loss: 2.0634\n",
            "Epoch [1/5] Batch [1373/1654] Loss: 2.0134\n",
            "Epoch [1/5] Batch [1374/1654] Loss: 2.1836\n"
          ]
        },
        {
          "output_type": "stream",
          "name": "stderr",
          "text": [
            " 83%|████████▎ | 1380/1654 [00:40<00:07, 39.03it/s]"
          ]
        },
        {
          "output_type": "stream",
          "name": "stdout",
          "text": [
            "Epoch [1/5] Batch [1375/1654] Loss: 2.0374\n",
            "Epoch [1/5] Batch [1376/1654] Loss: 2.2514\n",
            "Epoch [1/5] Batch [1377/1654] Loss: 2.2526\n",
            "Epoch [1/5] Batch [1378/1654] Loss: 2.3445\n",
            "Epoch [1/5] Batch [1379/1654] Loss: 2.3785\n",
            "Epoch [1/5] Batch [1380/1654] Loss: 2.1533\n",
            "Epoch [1/5] Batch [1381/1654] Loss: 2.3604\n",
            "Epoch [1/5] Batch [1382/1654] Loss: 2.1369\n"
          ]
        },
        {
          "output_type": "stream",
          "name": "stderr",
          "text": [
            " 84%|████████▍ | 1388/1654 [00:40<00:06, 38.45it/s]"
          ]
        },
        {
          "output_type": "stream",
          "name": "stdout",
          "text": [
            "Epoch [1/5] Batch [1383/1654] Loss: 2.3356\n",
            "Epoch [1/5] Batch [1384/1654] Loss: 2.4601\n",
            "Epoch [1/5] Batch [1385/1654] Loss: 2.3032\n",
            "Epoch [1/5] Batch [1386/1654] Loss: 2.2511\n",
            "Epoch [1/5] Batch [1387/1654] Loss: 2.6101\n",
            "Epoch [1/5] Batch [1388/1654] Loss: 2.4137\n",
            "Epoch [1/5] Batch [1389/1654] Loss: 2.4053\n",
            "Epoch [1/5] Batch [1390/1654] Loss: 2.3542\n"
          ]
        },
        {
          "output_type": "stream",
          "name": "stderr",
          "text": [
            " 84%|████████▍ | 1396/1654 [00:40<00:06, 38.89it/s]"
          ]
        },
        {
          "output_type": "stream",
          "name": "stdout",
          "text": [
            "Epoch [1/5] Batch [1391/1654] Loss: 2.3289\n",
            "Epoch [1/5] Batch [1392/1654] Loss: 2.2529\n",
            "Epoch [1/5] Batch [1393/1654] Loss: 2.3835\n",
            "Epoch [1/5] Batch [1394/1654] Loss: 2.2228\n",
            "Epoch [1/5] Batch [1395/1654] Loss: 2.4028\n",
            "Epoch [1/5] Batch [1396/1654] Loss: 2.2074\n",
            "Epoch [1/5] Batch [1397/1654] Loss: 2.3615\n",
            "Epoch [1/5] Batch [1398/1654] Loss: 2.3290\n"
          ]
        },
        {
          "output_type": "stream",
          "name": "stderr",
          "text": [
            " 85%|████████▍ | 1404/1654 [00:41<00:06, 37.79it/s]"
          ]
        },
        {
          "output_type": "stream",
          "name": "stdout",
          "text": [
            "Epoch [1/5] Batch [1399/1654] Loss: 2.2208\n",
            "Epoch [1/5] Batch [1400/1654] Loss: 2.5017\n",
            "Epoch [1/5] Batch [1401/1654] Loss: 2.2971\n",
            "Epoch [1/5] Batch [1402/1654] Loss: 2.3567\n",
            "Epoch [1/5] Batch [1403/1654] Loss: 2.3395\n",
            "Epoch [1/5] Batch [1404/1654] Loss: 1.9740\n",
            "Epoch [1/5] Batch [1405/1654] Loss: 2.4446\n",
            "Epoch [1/5] Batch [1406/1654] Loss: 2.2672\n"
          ]
        },
        {
          "output_type": "stream",
          "name": "stderr",
          "text": [
            " 85%|████████▌ | 1413/1654 [00:41<00:06, 39.12it/s]"
          ]
        },
        {
          "output_type": "stream",
          "name": "stdout",
          "text": [
            "Epoch [1/5] Batch [1407/1654] Loss: 2.2013\n",
            "Epoch [1/5] Batch [1408/1654] Loss: 2.3494\n",
            "Epoch [1/5] Batch [1409/1654] Loss: 2.3270\n",
            "Epoch [1/5] Batch [1410/1654] Loss: 2.0437\n",
            "Epoch [1/5] Batch [1411/1654] Loss: 2.3009\n",
            "Epoch [1/5] Batch [1412/1654] Loss: 2.3214\n",
            "Epoch [1/5] Batch [1413/1654] Loss: 2.3253\n",
            "Epoch [1/5] Batch [1414/1654] Loss: 2.5830\n",
            "Epoch [1/5] Batch [1415/1654] Loss: 2.2246\n"
          ]
        },
        {
          "output_type": "stream",
          "name": "stderr",
          "text": [
            " 86%|████████▌ | 1422/1654 [00:41<00:05, 39.38it/s]"
          ]
        },
        {
          "output_type": "stream",
          "name": "stdout",
          "text": [
            "Epoch [1/5] Batch [1416/1654] Loss: 2.3432\n",
            "Epoch [1/5] Batch [1417/1654] Loss: 2.1668\n",
            "Epoch [1/5] Batch [1418/1654] Loss: 2.1654\n",
            "Epoch [1/5] Batch [1419/1654] Loss: 2.3171\n",
            "Epoch [1/5] Batch [1420/1654] Loss: 2.4309\n",
            "Epoch [1/5] Batch [1421/1654] Loss: 2.2630\n",
            "Epoch [1/5] Batch [1422/1654] Loss: 2.3958\n",
            "Epoch [1/5] Batch [1423/1654] Loss: 2.3059\n"
          ]
        },
        {
          "output_type": "stream",
          "name": "stderr",
          "text": [
            " 86%|████████▋ | 1430/1654 [00:41<00:05, 38.65it/s]"
          ]
        },
        {
          "output_type": "stream",
          "name": "stdout",
          "text": [
            "Epoch [1/5] Batch [1424/1654] Loss: 2.1912\n",
            "Epoch [1/5] Batch [1425/1654] Loss: 2.2299\n",
            "Epoch [1/5] Batch [1426/1654] Loss: 2.2389\n",
            "Epoch [1/5] Batch [1427/1654] Loss: 2.1760\n",
            "Epoch [1/5] Batch [1428/1654] Loss: 2.3165\n",
            "Epoch [1/5] Batch [1429/1654] Loss: 2.2990\n",
            "Epoch [1/5] Batch [1430/1654] Loss: 2.2828\n",
            "Epoch [1/5] Batch [1431/1654] Loss: 2.4215\n"
          ]
        },
        {
          "output_type": "stream",
          "name": "stderr",
          "text": [
            " 87%|████████▋ | 1438/1654 [00:41<00:05, 38.70it/s]"
          ]
        },
        {
          "output_type": "stream",
          "name": "stdout",
          "text": [
            "Epoch [1/5] Batch [1432/1654] Loss: 2.1743\n",
            "Epoch [1/5] Batch [1433/1654] Loss: 2.3078\n",
            "Epoch [1/5] Batch [1434/1654] Loss: 2.4801\n",
            "Epoch [1/5] Batch [1435/1654] Loss: 2.2886\n",
            "Epoch [1/5] Batch [1436/1654] Loss: 2.1920\n",
            "Epoch [1/5] Batch [1437/1654] Loss: 2.2044\n",
            "Epoch [1/5] Batch [1438/1654] Loss: 2.3251\n",
            "Epoch [1/5] Batch [1439/1654] Loss: 2.4392\n"
          ]
        },
        {
          "output_type": "stream",
          "name": "stderr",
          "text": [
            " 87%|████████▋ | 1446/1654 [00:42<00:05, 37.52it/s]"
          ]
        },
        {
          "output_type": "stream",
          "name": "stdout",
          "text": [
            "Epoch [1/5] Batch [1440/1654] Loss: 2.0554\n",
            "Epoch [1/5] Batch [1441/1654] Loss: 2.0906\n",
            "Epoch [1/5] Batch [1442/1654] Loss: 2.4149\n",
            "Epoch [1/5] Batch [1443/1654] Loss: 2.5138\n",
            "Epoch [1/5] Batch [1444/1654] Loss: 2.3642\n",
            "Epoch [1/5] Batch [1445/1654] Loss: 2.3217\n",
            "Epoch [1/5] Batch [1446/1654] Loss: 2.1395\n",
            "Epoch [1/5] Batch [1447/1654] Loss: 2.2515\n"
          ]
        },
        {
          "output_type": "stream",
          "name": "stderr",
          "text": [
            " 88%|████████▊ | 1454/1654 [00:42<00:05, 37.29it/s]"
          ]
        },
        {
          "output_type": "stream",
          "name": "stdout",
          "text": [
            "Epoch [1/5] Batch [1448/1654] Loss: 2.3517\n",
            "Epoch [1/5] Batch [1449/1654] Loss: 2.5602\n",
            "Epoch [1/5] Batch [1450/1654] Loss: 2.3173\n",
            "Epoch [1/5] Batch [1451/1654] Loss: 2.5502\n",
            "Epoch [1/5] Batch [1452/1654] Loss: 2.4130\n",
            "Epoch [1/5] Batch [1453/1654] Loss: 2.1111\n",
            "Epoch [1/5] Batch [1454/1654] Loss: 2.3289\n",
            "Epoch [1/5] Batch [1455/1654] Loss: 2.8795\n"
          ]
        },
        {
          "output_type": "stream",
          "name": "stderr",
          "text": [
            " 88%|████████▊ | 1462/1654 [00:42<00:05, 37.56it/s]"
          ]
        },
        {
          "output_type": "stream",
          "name": "stdout",
          "text": [
            "Epoch [1/5] Batch [1456/1654] Loss: 2.2320\n",
            "Epoch [1/5] Batch [1457/1654] Loss: 2.1157\n",
            "Epoch [1/5] Batch [1458/1654] Loss: 2.4091\n",
            "Epoch [1/5] Batch [1459/1654] Loss: 2.5863\n",
            "Epoch [1/5] Batch [1460/1654] Loss: 2.3470\n",
            "Epoch [1/5] Batch [1461/1654] Loss: 2.5784\n",
            "Epoch [1/5] Batch [1462/1654] Loss: 2.2378\n",
            "Epoch [1/5] Batch [1463/1654] Loss: 2.4305\n"
          ]
        },
        {
          "output_type": "stream",
          "name": "stderr",
          "text": [
            " 89%|████████▉ | 1470/1654 [00:42<00:04, 37.60it/s]"
          ]
        },
        {
          "output_type": "stream",
          "name": "stdout",
          "text": [
            "Epoch [1/5] Batch [1464/1654] Loss: 2.4849\n",
            "Epoch [1/5] Batch [1465/1654] Loss: 1.8710\n",
            "Epoch [1/5] Batch [1466/1654] Loss: 2.3507\n",
            "Epoch [1/5] Batch [1467/1654] Loss: 2.1408\n",
            "Epoch [1/5] Batch [1468/1654] Loss: 2.1873\n",
            "Epoch [1/5] Batch [1469/1654] Loss: 2.4476\n",
            "Epoch [1/5] Batch [1470/1654] Loss: 2.0075\n",
            "Epoch [1/5] Batch [1471/1654] Loss: 2.3030\n"
          ]
        },
        {
          "output_type": "stream",
          "name": "stderr",
          "text": [
            " 89%|████████▉ | 1478/1654 [00:42<00:04, 37.63it/s]"
          ]
        },
        {
          "output_type": "stream",
          "name": "stdout",
          "text": [
            "Epoch [1/5] Batch [1472/1654] Loss: 2.1904\n",
            "Epoch [1/5] Batch [1473/1654] Loss: 2.4605\n",
            "Epoch [1/5] Batch [1474/1654] Loss: 2.0656\n",
            "Epoch [1/5] Batch [1475/1654] Loss: 2.2167\n",
            "Epoch [1/5] Batch [1476/1654] Loss: 2.3930\n",
            "Epoch [1/5] Batch [1477/1654] Loss: 1.8467\n",
            "Epoch [1/5] Batch [1478/1654] Loss: 2.2445\n",
            "Epoch [1/5] Batch [1479/1654] Loss: 2.3298\n"
          ]
        },
        {
          "output_type": "stream",
          "name": "stderr",
          "text": [
            " 90%|████████▉ | 1486/1654 [00:43<00:04, 36.84it/s]"
          ]
        },
        {
          "output_type": "stream",
          "name": "stdout",
          "text": [
            "Epoch [1/5] Batch [1480/1654] Loss: 2.5418\n",
            "Epoch [1/5] Batch [1481/1654] Loss: 2.0972\n",
            "Epoch [1/5] Batch [1482/1654] Loss: 2.7565\n",
            "Epoch [1/5] Batch [1483/1654] Loss: 2.0491\n",
            "Epoch [1/5] Batch [1484/1654] Loss: 2.3002\n",
            "Epoch [1/5] Batch [1485/1654] Loss: 2.3430\n",
            "Epoch [1/5] Batch [1486/1654] Loss: 2.7380\n",
            "Epoch [1/5] Batch [1487/1654] Loss: 2.1866\n"
          ]
        },
        {
          "output_type": "stream",
          "name": "stderr",
          "text": [
            " 90%|█████████ | 1494/1654 [00:43<00:04, 37.29it/s]"
          ]
        },
        {
          "output_type": "stream",
          "name": "stdout",
          "text": [
            "Epoch [1/5] Batch [1488/1654] Loss: 2.3380\n",
            "Epoch [1/5] Batch [1489/1654] Loss: 2.3924\n",
            "Epoch [1/5] Batch [1490/1654] Loss: 2.2927\n",
            "Epoch [1/5] Batch [1491/1654] Loss: 2.2714\n",
            "Epoch [1/5] Batch [1492/1654] Loss: 2.4889\n",
            "Epoch [1/5] Batch [1493/1654] Loss: 2.2946\n",
            "Epoch [1/5] Batch [1494/1654] Loss: 2.1757\n",
            "Epoch [1/5] Batch [1495/1654] Loss: 2.3074\n"
          ]
        },
        {
          "output_type": "stream",
          "name": "stderr",
          "text": [
            " 91%|█████████ | 1502/1654 [00:43<00:03, 38.02it/s]"
          ]
        },
        {
          "output_type": "stream",
          "name": "stdout",
          "text": [
            "Epoch [1/5] Batch [1496/1654] Loss: 2.1703\n",
            "Epoch [1/5] Batch [1497/1654] Loss: 1.9660\n",
            "Epoch [1/5] Batch [1498/1654] Loss: 2.0231\n",
            "Epoch [1/5] Batch [1499/1654] Loss: 2.2225\n",
            "Epoch [1/5] Batch [1500/1654] Loss: 2.4169\n",
            "Epoch [1/5] Batch [1501/1654] Loss: 2.1678\n",
            "Epoch [1/5] Batch [1502/1654] Loss: 2.2575\n",
            "Epoch [1/5] Batch [1503/1654] Loss: 2.3904\n"
          ]
        },
        {
          "output_type": "stream",
          "name": "stderr",
          "text": [
            " 91%|█████████▏| 1510/1654 [00:43<00:03, 38.32it/s]"
          ]
        },
        {
          "output_type": "stream",
          "name": "stdout",
          "text": [
            "Epoch [1/5] Batch [1504/1654] Loss: 2.0507\n",
            "Epoch [1/5] Batch [1505/1654] Loss: 1.9867\n",
            "Epoch [1/5] Batch [1506/1654] Loss: 2.4986\n",
            "Epoch [1/5] Batch [1507/1654] Loss: 2.1511\n",
            "Epoch [1/5] Batch [1508/1654] Loss: 2.1631\n",
            "Epoch [1/5] Batch [1509/1654] Loss: 2.2069\n",
            "Epoch [1/5] Batch [1510/1654] Loss: 2.3248\n",
            "Epoch [1/5] Batch [1511/1654] Loss: 2.0697\n"
          ]
        },
        {
          "output_type": "stream",
          "name": "stderr",
          "text": [
            " 92%|█████████▏| 1518/1654 [00:44<00:03, 37.75it/s]"
          ]
        },
        {
          "output_type": "stream",
          "name": "stdout",
          "text": [
            "Epoch [1/5] Batch [1512/1654] Loss: 2.1674\n",
            "Epoch [1/5] Batch [1513/1654] Loss: 2.0453\n",
            "Epoch [1/5] Batch [1514/1654] Loss: 1.8507\n",
            "Epoch [1/5] Batch [1515/1654] Loss: 2.2905\n",
            "Epoch [1/5] Batch [1516/1654] Loss: 1.9587\n",
            "Epoch [1/5] Batch [1517/1654] Loss: 2.0392\n",
            "Epoch [1/5] Batch [1518/1654] Loss: 2.4179\n",
            "Epoch [1/5] Batch [1519/1654] Loss: 2.2828\n"
          ]
        },
        {
          "output_type": "stream",
          "name": "stderr",
          "text": [
            " 92%|█████████▏| 1526/1654 [00:44<00:03, 36.93it/s]"
          ]
        },
        {
          "output_type": "stream",
          "name": "stdout",
          "text": [
            "Epoch [1/5] Batch [1520/1654] Loss: 2.0634\n",
            "Epoch [1/5] Batch [1521/1654] Loss: 2.3193\n",
            "Epoch [1/5] Batch [1522/1654] Loss: 2.2766\n",
            "Epoch [1/5] Batch [1523/1654] Loss: 2.2235\n",
            "Epoch [1/5] Batch [1524/1654] Loss: 2.2650\n",
            "Epoch [1/5] Batch [1525/1654] Loss: 2.2933\n",
            "Epoch [1/5] Batch [1526/1654] Loss: 2.1988\n",
            "Epoch [1/5] Batch [1527/1654] Loss: 2.5067\n"
          ]
        },
        {
          "output_type": "stream",
          "name": "stderr",
          "text": [
            " 93%|█████████▎| 1534/1654 [00:44<00:03, 37.64it/s]"
          ]
        },
        {
          "output_type": "stream",
          "name": "stdout",
          "text": [
            "Epoch [1/5] Batch [1528/1654] Loss: 1.9939\n",
            "Epoch [1/5] Batch [1529/1654] Loss: 1.9982\n",
            "Epoch [1/5] Batch [1530/1654] Loss: 2.2904\n",
            "Epoch [1/5] Batch [1531/1654] Loss: 2.1238\n",
            "Epoch [1/5] Batch [1532/1654] Loss: 2.4116\n",
            "Epoch [1/5] Batch [1533/1654] Loss: 2.1096\n",
            "Epoch [1/5] Batch [1534/1654] Loss: 1.9638\n",
            "Epoch [1/5] Batch [1535/1654] Loss: 2.4860\n"
          ]
        },
        {
          "output_type": "stream",
          "name": "stderr",
          "text": [
            " 93%|█████████▎| 1542/1654 [00:44<00:02, 38.10it/s]"
          ]
        },
        {
          "output_type": "stream",
          "name": "stdout",
          "text": [
            "Epoch [1/5] Batch [1536/1654] Loss: 2.2989\n",
            "Epoch [1/5] Batch [1537/1654] Loss: 2.4172\n",
            "Epoch [1/5] Batch [1538/1654] Loss: 2.1314\n",
            "Epoch [1/5] Batch [1539/1654] Loss: 2.2767\n",
            "Epoch [1/5] Batch [1540/1654] Loss: 2.1819\n",
            "Epoch [1/5] Batch [1541/1654] Loss: 2.3088\n",
            "Epoch [1/5] Batch [1542/1654] Loss: 2.5070\n",
            "Epoch [1/5] Batch [1543/1654] Loss: 2.3770\n"
          ]
        },
        {
          "output_type": "stream",
          "name": "stderr",
          "text": [
            " 94%|█████████▎| 1550/1654 [00:44<00:02, 35.44it/s]"
          ]
        },
        {
          "output_type": "stream",
          "name": "stdout",
          "text": [
            "Epoch [1/5] Batch [1544/1654] Loss: 1.9174\n",
            "Epoch [1/5] Batch [1545/1654] Loss: 2.4754\n",
            "Epoch [1/5] Batch [1546/1654] Loss: 2.3254\n",
            "Epoch [1/5] Batch [1547/1654] Loss: 2.1845\n",
            "Epoch [1/5] Batch [1548/1654] Loss: 2.2091\n",
            "Epoch [1/5] Batch [1549/1654] Loss: 2.3296\n",
            "Epoch [1/5] Batch [1550/1654] Loss: 2.3822\n"
          ]
        },
        {
          "output_type": "stream",
          "name": "stderr",
          "text": [
            "\r 94%|█████████▍| 1554/1654 [00:45<00:03, 32.49it/s]"
          ]
        },
        {
          "output_type": "stream",
          "name": "stdout",
          "text": [
            "Epoch [1/5] Batch [1551/1654] Loss: 2.4032\n",
            "Epoch [1/5] Batch [1552/1654] Loss: 2.2993\n",
            "Epoch [1/5] Batch [1553/1654] Loss: 2.2839\n",
            "Epoch [1/5] Batch [1554/1654] Loss: 2.1110\n",
            "Epoch [1/5] Batch [1555/1654] Loss: 2.3920\n",
            "Epoch [1/5] Batch [1556/1654] Loss: 2.1586\n"
          ]
        },
        {
          "output_type": "stream",
          "name": "stderr",
          "text": [
            " 94%|█████████▍| 1562/1654 [00:45<00:02, 31.68it/s]"
          ]
        },
        {
          "output_type": "stream",
          "name": "stdout",
          "text": [
            "Epoch [1/5] Batch [1557/1654] Loss: 2.1073\n",
            "Epoch [1/5] Batch [1558/1654] Loss: 2.4381\n",
            "Epoch [1/5] Batch [1559/1654] Loss: 2.1330\n",
            "Epoch [1/5] Batch [1560/1654] Loss: 2.1836\n",
            "Epoch [1/5] Batch [1561/1654] Loss: 2.0685\n",
            "Epoch [1/5] Batch [1562/1654] Loss: 2.0999\n",
            "Epoch [1/5] Batch [1563/1654] Loss: 1.8622\n"
          ]
        },
        {
          "output_type": "stream",
          "name": "stderr",
          "text": [
            " 95%|█████████▍| 1570/1654 [00:45<00:02, 31.39it/s]"
          ]
        },
        {
          "output_type": "stream",
          "name": "stdout",
          "text": [
            "Epoch [1/5] Batch [1564/1654] Loss: 2.3751\n",
            "Epoch [1/5] Batch [1565/1654] Loss: 2.2929\n",
            "Epoch [1/5] Batch [1566/1654] Loss: 1.9765\n",
            "Epoch [1/5] Batch [1567/1654] Loss: 2.0040\n",
            "Epoch [1/5] Batch [1568/1654] Loss: 2.4460\n",
            "Epoch [1/5] Batch [1569/1654] Loss: 2.1401\n",
            "Epoch [1/5] Batch [1570/1654] Loss: 2.1935\n"
          ]
        },
        {
          "output_type": "stream",
          "name": "stderr",
          "text": [
            "\r 95%|█████████▌| 1574/1654 [00:45<00:02, 30.58it/s]"
          ]
        },
        {
          "output_type": "stream",
          "name": "stdout",
          "text": [
            "Epoch [1/5] Batch [1571/1654] Loss: 2.2897\n",
            "Epoch [1/5] Batch [1572/1654] Loss: 2.3652\n",
            "Epoch [1/5] Batch [1573/1654] Loss: 2.2564\n",
            "Epoch [1/5] Batch [1574/1654] Loss: 2.2610\n",
            "Epoch [1/5] Batch [1575/1654] Loss: 1.9365\n",
            "Epoch [1/5] Batch [1576/1654] Loss: 2.2641\n",
            "Epoch [1/5] Batch [1577/1654] Loss: 2.0083\n"
          ]
        },
        {
          "output_type": "stream",
          "name": "stderr",
          "text": [
            " 96%|█████████▌| 1582/1654 [00:45<00:02, 30.37it/s]"
          ]
        },
        {
          "output_type": "stream",
          "name": "stdout",
          "text": [
            "Epoch [1/5] Batch [1578/1654] Loss: 1.9765\n",
            "Epoch [1/5] Batch [1579/1654] Loss: 2.0662\n",
            "Epoch [1/5] Batch [1580/1654] Loss: 1.9132\n",
            "Epoch [1/5] Batch [1581/1654] Loss: 1.9583\n",
            "Epoch [1/5] Batch [1582/1654] Loss: 2.1712\n",
            "Epoch [1/5] Batch [1583/1654] Loss: 2.1924\n",
            "Epoch [1/5] Batch [1584/1654] Loss: 2.5747\n"
          ]
        },
        {
          "output_type": "stream",
          "name": "stderr",
          "text": [
            " 96%|█████████▌| 1590/1654 [00:46<00:02, 29.20it/s]"
          ]
        },
        {
          "output_type": "stream",
          "name": "stdout",
          "text": [
            "Epoch [1/5] Batch [1585/1654] Loss: 2.4021\n",
            "Epoch [1/5] Batch [1586/1654] Loss: 2.1920\n",
            "Epoch [1/5] Batch [1587/1654] Loss: 2.4240\n",
            "Epoch [1/5] Batch [1588/1654] Loss: 2.3091\n",
            "Epoch [1/5] Batch [1589/1654] Loss: 2.0024\n",
            "Epoch [1/5] Batch [1590/1654] Loss: 1.9929\n"
          ]
        },
        {
          "output_type": "stream",
          "name": "stderr",
          "text": [
            "\r 96%|█████████▋| 1593/1654 [00:46<00:02, 28.80it/s]"
          ]
        },
        {
          "output_type": "stream",
          "name": "stdout",
          "text": [
            "Epoch [1/5] Batch [1591/1654] Loss: 2.1339\n",
            "Epoch [1/5] Batch [1592/1654] Loss: 2.1320\n",
            "Epoch [1/5] Batch [1593/1654] Loss: 2.0707\n",
            "Epoch [1/5] Batch [1594/1654] Loss: 2.1410\n",
            "Epoch [1/5] Batch [1595/1654] Loss: 2.1558\n",
            "Epoch [1/5] Batch [1596/1654] Loss: 2.3705\n"
          ]
        },
        {
          "output_type": "stream",
          "name": "stderr",
          "text": [
            " 97%|█████████▋| 1600/1654 [00:46<00:01, 28.44it/s]"
          ]
        },
        {
          "output_type": "stream",
          "name": "stdout",
          "text": [
            "Epoch [1/5] Batch [1597/1654] Loss: 1.9281\n",
            "Epoch [1/5] Batch [1598/1654] Loss: 2.2037\n",
            "Epoch [1/5] Batch [1599/1654] Loss: 2.1720\n",
            "Epoch [1/5] Batch [1600/1654] Loss: 2.2250\n",
            "Epoch [1/5] Batch [1601/1654] Loss: 2.4454\n",
            "Epoch [1/5] Batch [1602/1654] Loss: 1.9855\n"
          ]
        },
        {
          "output_type": "stream",
          "name": "stderr",
          "text": [
            " 97%|█████████▋| 1606/1654 [00:46<00:01, 27.91it/s]"
          ]
        },
        {
          "output_type": "stream",
          "name": "stdout",
          "text": [
            "Epoch [1/5] Batch [1603/1654] Loss: 2.3314\n",
            "Epoch [1/5] Batch [1604/1654] Loss: 2.3436\n",
            "Epoch [1/5] Batch [1605/1654] Loss: 1.9780\n",
            "Epoch [1/5] Batch [1606/1654] Loss: 1.9060\n",
            "Epoch [1/5] Batch [1607/1654] Loss: 2.2843\n",
            "Epoch [1/5] Batch [1608/1654] Loss: 2.5171\n"
          ]
        },
        {
          "output_type": "stream",
          "name": "stderr",
          "text": [
            " 98%|█████████▊| 1613/1654 [00:47<00:01, 30.10it/s]"
          ]
        },
        {
          "output_type": "stream",
          "name": "stdout",
          "text": [
            "Epoch [1/5] Batch [1609/1654] Loss: 2.4064\n",
            "Epoch [1/5] Batch [1610/1654] Loss: 2.2251\n",
            "Epoch [1/5] Batch [1611/1654] Loss: 2.1351\n",
            "Epoch [1/5] Batch [1612/1654] Loss: 2.2885\n",
            "Epoch [1/5] Batch [1613/1654] Loss: 1.8891\n",
            "Epoch [1/5] Batch [1614/1654] Loss: 2.3982\n",
            "Epoch [1/5] Batch [1615/1654] Loss: 1.9940\n",
            "Epoch [1/5] Batch [1616/1654] Loss: 2.4078\n"
          ]
        },
        {
          "output_type": "stream",
          "name": "stderr",
          "text": [
            " 98%|█████████▊| 1621/1654 [00:47<00:01, 32.55it/s]"
          ]
        },
        {
          "output_type": "stream",
          "name": "stdout",
          "text": [
            "Epoch [1/5] Batch [1617/1654] Loss: 2.3529\n",
            "Epoch [1/5] Batch [1618/1654] Loss: 2.0547\n",
            "Epoch [1/5] Batch [1619/1654] Loss: 2.2679\n",
            "Epoch [1/5] Batch [1620/1654] Loss: 2.0487\n",
            "Epoch [1/5] Batch [1621/1654] Loss: 1.9187\n",
            "Epoch [1/5] Batch [1622/1654] Loss: 2.3821\n",
            "Epoch [1/5] Batch [1623/1654] Loss: 2.1610\n",
            "Epoch [1/5] Batch [1624/1654] Loss: 2.2805\n"
          ]
        },
        {
          "output_type": "stream",
          "name": "stderr",
          "text": [
            " 98%|█████████▊| 1629/1654 [00:47<00:00, 34.76it/s]"
          ]
        },
        {
          "output_type": "stream",
          "name": "stdout",
          "text": [
            "Epoch [1/5] Batch [1625/1654] Loss: 2.1811\n",
            "Epoch [1/5] Batch [1626/1654] Loss: 2.5527\n",
            "Epoch [1/5] Batch [1627/1654] Loss: 2.1671\n",
            "Epoch [1/5] Batch [1628/1654] Loss: 2.3387\n",
            "Epoch [1/5] Batch [1629/1654] Loss: 2.3400\n",
            "Epoch [1/5] Batch [1630/1654] Loss: 2.3011\n",
            "Epoch [1/5] Batch [1631/1654] Loss: 2.3226\n",
            "Epoch [1/5] Batch [1632/1654] Loss: 1.8968\n"
          ]
        },
        {
          "output_type": "stream",
          "name": "stderr",
          "text": [
            " 99%|█████████▉| 1637/1654 [00:47<00:00, 36.12it/s]"
          ]
        },
        {
          "output_type": "stream",
          "name": "stdout",
          "text": [
            "Epoch [1/5] Batch [1633/1654] Loss: 2.1740\n",
            "Epoch [1/5] Batch [1634/1654] Loss: 2.3320\n",
            "Epoch [1/5] Batch [1635/1654] Loss: 2.3235\n",
            "Epoch [1/5] Batch [1636/1654] Loss: 2.4666\n",
            "Epoch [1/5] Batch [1637/1654] Loss: 2.3343\n",
            "Epoch [1/5] Batch [1638/1654] Loss: 2.2290\n",
            "Epoch [1/5] Batch [1639/1654] Loss: 2.1829\n",
            "Epoch [1/5] Batch [1640/1654] Loss: 2.4078\n"
          ]
        },
        {
          "output_type": "stream",
          "name": "stderr",
          "text": [
            " 99%|█████████▉| 1645/1654 [00:47<00:00, 36.97it/s]"
          ]
        },
        {
          "output_type": "stream",
          "name": "stdout",
          "text": [
            "Epoch [1/5] Batch [1641/1654] Loss: 2.3538\n",
            "Epoch [1/5] Batch [1642/1654] Loss: 1.8455\n",
            "Epoch [1/5] Batch [1643/1654] Loss: 2.3438\n",
            "Epoch [1/5] Batch [1644/1654] Loss: 2.1751\n",
            "Epoch [1/5] Batch [1645/1654] Loss: 2.1029\n",
            "Epoch [1/5] Batch [1646/1654] Loss: 1.8639\n",
            "Epoch [1/5] Batch [1647/1654] Loss: 2.0528\n",
            "Epoch [1/5] Batch [1648/1654] Loss: 2.1733\n"
          ]
        },
        {
          "output_type": "stream",
          "name": "stderr",
          "text": [
            "100%|██████████| 1654/1654 [00:48<00:00, 34.34it/s]\n"
          ]
        },
        {
          "output_type": "stream",
          "name": "stdout",
          "text": [
            "Epoch [1/5] Batch [1649/1654] Loss: 1.9393\n",
            "Epoch [1/5] Batch [1650/1654] Loss: 2.1716\n",
            "Epoch [1/5] Batch [1651/1654] Loss: 2.2786\n",
            "Epoch [1/5] Batch [1652/1654] Loss: 1.9429\n",
            "Epoch [1/5] Batch [1653/1654] Loss: 2.0383\n",
            "Epoch [1/5] Batch [1654/1654] Loss: 2.3688\n",
            "\n",
            ">> Epoch 1 Average Loss: 2.7192\n",
            "\n"
          ]
        },
        {
          "output_type": "stream",
          "name": "stderr",
          "text": [
            "\r  0%|          | 0/1654 [00:00<?, ?it/s]"
          ]
        },
        {
          "output_type": "stream",
          "name": "stdout",
          "text": [
            "Epoch [2/5] Batch [1/1654] Loss: 2.0291\n"
          ]
        },
        {
          "output_type": "stream",
          "name": "stderr",
          "text": [
            "  0%|          | 8/1654 [00:00<00:46, 35.53it/s]"
          ]
        },
        {
          "output_type": "stream",
          "name": "stdout",
          "text": [
            "Epoch [2/5] Batch [2/1654] Loss: 1.9787\n",
            "Epoch [2/5] Batch [3/1654] Loss: 1.9968\n",
            "Epoch [2/5] Batch [4/1654] Loss: 2.1945\n",
            "Epoch [2/5] Batch [5/1654] Loss: 2.3003\n",
            "Epoch [2/5] Batch [6/1654] Loss: 2.2253\n",
            "Epoch [2/5] Batch [7/1654] Loss: 2.1827\n",
            "Epoch [2/5] Batch [8/1654] Loss: 2.2584\n",
            "Epoch [2/5] Batch [9/1654] Loss: 2.0431\n"
          ]
        },
        {
          "output_type": "stream",
          "name": "stderr",
          "text": [
            "  1%|          | 16/1654 [00:00<00:44, 37.07it/s]"
          ]
        },
        {
          "output_type": "stream",
          "name": "stdout",
          "text": [
            "Epoch [2/5] Batch [10/1654] Loss: 2.4373\n",
            "Epoch [2/5] Batch [11/1654] Loss: 2.2019\n",
            "Epoch [2/5] Batch [12/1654] Loss: 1.9213\n",
            "Epoch [2/5] Batch [13/1654] Loss: 2.1364\n",
            "Epoch [2/5] Batch [14/1654] Loss: 2.1518\n",
            "Epoch [2/5] Batch [15/1654] Loss: 2.3669\n",
            "Epoch [2/5] Batch [16/1654] Loss: 2.0995\n",
            "Epoch [2/5] Batch [17/1654] Loss: 2.4967\n"
          ]
        },
        {
          "output_type": "stream",
          "name": "stderr",
          "text": [
            "  1%|▏         | 24/1654 [00:00<00:43, 37.68it/s]"
          ]
        },
        {
          "output_type": "stream",
          "name": "stdout",
          "text": [
            "Epoch [2/5] Batch [18/1654] Loss: 1.7564\n",
            "Epoch [2/5] Batch [19/1654] Loss: 2.4926\n",
            "Epoch [2/5] Batch [20/1654] Loss: 2.0939\n",
            "Epoch [2/5] Batch [21/1654] Loss: 2.3246\n",
            "Epoch [2/5] Batch [22/1654] Loss: 2.1835\n",
            "Epoch [2/5] Batch [23/1654] Loss: 2.2531\n",
            "Epoch [2/5] Batch [24/1654] Loss: 2.2747\n",
            "Epoch [2/5] Batch [25/1654] Loss: 2.2241\n"
          ]
        },
        {
          "output_type": "stream",
          "name": "stderr",
          "text": [
            "  2%|▏         | 32/1654 [00:00<00:42, 37.96it/s]"
          ]
        },
        {
          "output_type": "stream",
          "name": "stdout",
          "text": [
            "Epoch [2/5] Batch [26/1654] Loss: 2.0669\n",
            "Epoch [2/5] Batch [27/1654] Loss: 1.9144\n",
            "Epoch [2/5] Batch [28/1654] Loss: 2.3177\n",
            "Epoch [2/5] Batch [29/1654] Loss: 2.1012\n",
            "Epoch [2/5] Batch [30/1654] Loss: 2.6037\n",
            "Epoch [2/5] Batch [31/1654] Loss: 2.1950\n",
            "Epoch [2/5] Batch [32/1654] Loss: 2.2601\n",
            "Epoch [2/5] Batch [33/1654] Loss: 2.0418\n"
          ]
        },
        {
          "output_type": "stream",
          "name": "stderr",
          "text": [
            "  2%|▏         | 40/1654 [00:01<00:42, 37.99it/s]"
          ]
        },
        {
          "output_type": "stream",
          "name": "stdout",
          "text": [
            "Epoch [2/5] Batch [34/1654] Loss: 2.0596\n",
            "Epoch [2/5] Batch [35/1654] Loss: 2.0768\n",
            "Epoch [2/5] Batch [36/1654] Loss: 2.3407\n",
            "Epoch [2/5] Batch [37/1654] Loss: 2.2044\n",
            "Epoch [2/5] Batch [38/1654] Loss: 2.0494\n",
            "Epoch [2/5] Batch [39/1654] Loss: 2.2269\n",
            "Epoch [2/5] Batch [40/1654] Loss: 2.2946\n",
            "Epoch [2/5] Batch [41/1654] Loss: 2.1862\n"
          ]
        },
        {
          "output_type": "stream",
          "name": "stderr",
          "text": [
            "  3%|▎         | 48/1654 [00:01<00:43, 37.30it/s]"
          ]
        },
        {
          "output_type": "stream",
          "name": "stdout",
          "text": [
            "Epoch [2/5] Batch [42/1654] Loss: 1.9575\n",
            "Epoch [2/5] Batch [43/1654] Loss: 2.1603\n",
            "Epoch [2/5] Batch [44/1654] Loss: 2.2172\n",
            "Epoch [2/5] Batch [45/1654] Loss: 1.8399\n",
            "Epoch [2/5] Batch [46/1654] Loss: 2.1522\n",
            "Epoch [2/5] Batch [47/1654] Loss: 1.9454\n",
            "Epoch [2/5] Batch [48/1654] Loss: 1.8989\n",
            "Epoch [2/5] Batch [49/1654] Loss: 2.4172\n"
          ]
        },
        {
          "output_type": "stream",
          "name": "stderr",
          "text": [
            "  3%|▎         | 56/1654 [00:01<00:42, 37.25it/s]"
          ]
        },
        {
          "output_type": "stream",
          "name": "stdout",
          "text": [
            "Epoch [2/5] Batch [50/1654] Loss: 2.2456\n",
            "Epoch [2/5] Batch [51/1654] Loss: 2.2792\n",
            "Epoch [2/5] Batch [52/1654] Loss: 2.0885\n",
            "Epoch [2/5] Batch [53/1654] Loss: 2.3085\n",
            "Epoch [2/5] Batch [54/1654] Loss: 2.0623\n",
            "Epoch [2/5] Batch [55/1654] Loss: 2.1752\n",
            "Epoch [2/5] Batch [56/1654] Loss: 2.0525\n",
            "Epoch [2/5] Batch [57/1654] Loss: 2.1631\n"
          ]
        },
        {
          "output_type": "stream",
          "name": "stderr",
          "text": [
            "  4%|▍         | 64/1654 [00:01<00:42, 37.08it/s]"
          ]
        },
        {
          "output_type": "stream",
          "name": "stdout",
          "text": [
            "Epoch [2/5] Batch [58/1654] Loss: 1.9345\n",
            "Epoch [2/5] Batch [59/1654] Loss: 1.9655\n",
            "Epoch [2/5] Batch [60/1654] Loss: 2.0485\n",
            "Epoch [2/5] Batch [61/1654] Loss: 2.4441\n",
            "Epoch [2/5] Batch [62/1654] Loss: 2.0562\n",
            "Epoch [2/5] Batch [63/1654] Loss: 2.4135\n",
            "Epoch [2/5] Batch [64/1654] Loss: 1.9052\n",
            "Epoch [2/5] Batch [65/1654] Loss: 1.9617\n"
          ]
        },
        {
          "output_type": "stream",
          "name": "stderr",
          "text": [
            "  4%|▍         | 72/1654 [00:01<00:42, 37.26it/s]"
          ]
        },
        {
          "output_type": "stream",
          "name": "stdout",
          "text": [
            "Epoch [2/5] Batch [66/1654] Loss: 2.2705\n",
            "Epoch [2/5] Batch [67/1654] Loss: 2.0354\n",
            "Epoch [2/5] Batch [68/1654] Loss: 2.3856\n",
            "Epoch [2/5] Batch [69/1654] Loss: 2.0911\n",
            "Epoch [2/5] Batch [70/1654] Loss: 1.8175\n",
            "Epoch [2/5] Batch [71/1654] Loss: 2.3727\n",
            "Epoch [2/5] Batch [72/1654] Loss: 2.2037\n",
            "Epoch [2/5] Batch [73/1654] Loss: 1.9646\n"
          ]
        },
        {
          "output_type": "stream",
          "name": "stderr",
          "text": [
            "  5%|▍         | 80/1654 [00:02<00:42, 36.71it/s]"
          ]
        },
        {
          "output_type": "stream",
          "name": "stdout",
          "text": [
            "Epoch [2/5] Batch [74/1654] Loss: 2.2161\n",
            "Epoch [2/5] Batch [75/1654] Loss: 1.8471\n",
            "Epoch [2/5] Batch [76/1654] Loss: 2.3948\n",
            "Epoch [2/5] Batch [77/1654] Loss: 2.1263\n",
            "Epoch [2/5] Batch [78/1654] Loss: 1.9873\n",
            "Epoch [2/5] Batch [79/1654] Loss: 1.7615\n",
            "Epoch [2/5] Batch [80/1654] Loss: 1.8586\n",
            "Epoch [2/5] Batch [81/1654] Loss: 1.9825\n"
          ]
        },
        {
          "output_type": "stream",
          "name": "stderr",
          "text": [
            "  5%|▌         | 88/1654 [00:02<00:42, 37.25it/s]"
          ]
        },
        {
          "output_type": "stream",
          "name": "stdout",
          "text": [
            "Epoch [2/5] Batch [82/1654] Loss: 2.0203\n",
            "Epoch [2/5] Batch [83/1654] Loss: 2.1259\n",
            "Epoch [2/5] Batch [84/1654] Loss: 1.9666\n",
            "Epoch [2/5] Batch [85/1654] Loss: 2.0533\n",
            "Epoch [2/5] Batch [86/1654] Loss: 2.2818\n",
            "Epoch [2/5] Batch [87/1654] Loss: 1.9475\n",
            "Epoch [2/5] Batch [88/1654] Loss: 2.2125\n",
            "Epoch [2/5] Batch [89/1654] Loss: 1.9221\n"
          ]
        },
        {
          "output_type": "stream",
          "name": "stderr",
          "text": [
            "  6%|▌         | 96/1654 [00:02<00:41, 37.73it/s]"
          ]
        },
        {
          "output_type": "stream",
          "name": "stdout",
          "text": [
            "Epoch [2/5] Batch [90/1654] Loss: 2.0868\n",
            "Epoch [2/5] Batch [91/1654] Loss: 2.0213\n",
            "Epoch [2/5] Batch [92/1654] Loss: 1.9714\n",
            "Epoch [2/5] Batch [93/1654] Loss: 2.0634\n",
            "Epoch [2/5] Batch [94/1654] Loss: 1.9905\n",
            "Epoch [2/5] Batch [95/1654] Loss: 1.9128\n",
            "Epoch [2/5] Batch [96/1654] Loss: 2.1963\n",
            "Epoch [2/5] Batch [97/1654] Loss: 2.0611\n"
          ]
        },
        {
          "output_type": "stream",
          "name": "stderr",
          "text": [
            "  6%|▋         | 105/1654 [00:02<00:39, 38.73it/s]"
          ]
        },
        {
          "output_type": "stream",
          "name": "stdout",
          "text": [
            "Epoch [2/5] Batch [98/1654] Loss: 2.1762\n",
            "Epoch [2/5] Batch [99/1654] Loss: 1.9619\n",
            "Epoch [2/5] Batch [100/1654] Loss: 1.8705\n",
            "Epoch [2/5] Batch [101/1654] Loss: 2.4228\n",
            "Epoch [2/5] Batch [102/1654] Loss: 2.4980\n",
            "Epoch [2/5] Batch [103/1654] Loss: 2.2359\n",
            "Epoch [2/5] Batch [104/1654] Loss: 2.1153\n",
            "Epoch [2/5] Batch [105/1654] Loss: 2.0093\n"
          ]
        },
        {
          "output_type": "stream",
          "name": "stderr",
          "text": [
            "  7%|▋         | 113/1654 [00:03<00:39, 38.61it/s]"
          ]
        },
        {
          "output_type": "stream",
          "name": "stdout",
          "text": [
            "Epoch [2/5] Batch [106/1654] Loss: 1.8581\n",
            "Epoch [2/5] Batch [107/1654] Loss: 1.8737\n",
            "Epoch [2/5] Batch [108/1654] Loss: 2.5090\n",
            "Epoch [2/5] Batch [109/1654] Loss: 2.1786\n",
            "Epoch [2/5] Batch [110/1654] Loss: 2.1548\n",
            "Epoch [2/5] Batch [111/1654] Loss: 1.8356\n",
            "Epoch [2/5] Batch [112/1654] Loss: 2.3213\n",
            "Epoch [2/5] Batch [113/1654] Loss: 2.5099\n"
          ]
        },
        {
          "output_type": "stream",
          "name": "stderr",
          "text": [
            "  7%|▋         | 121/1654 [00:03<00:41, 37.33it/s]"
          ]
        },
        {
          "output_type": "stream",
          "name": "stdout",
          "text": [
            "Epoch [2/5] Batch [114/1654] Loss: 2.1442\n",
            "Epoch [2/5] Batch [115/1654] Loss: 2.2401\n",
            "Epoch [2/5] Batch [116/1654] Loss: 1.9770\n",
            "Epoch [2/5] Batch [117/1654] Loss: 2.1568\n",
            "Epoch [2/5] Batch [118/1654] Loss: 2.1317\n",
            "Epoch [2/5] Batch [119/1654] Loss: 2.2020\n",
            "Epoch [2/5] Batch [120/1654] Loss: 2.4588\n",
            "Epoch [2/5] Batch [121/1654] Loss: 2.0034\n"
          ]
        },
        {
          "output_type": "stream",
          "name": "stderr",
          "text": [
            "  8%|▊         | 129/1654 [00:03<00:40, 37.37it/s]"
          ]
        },
        {
          "output_type": "stream",
          "name": "stdout",
          "text": [
            "Epoch [2/5] Batch [122/1654] Loss: 1.9269\n",
            "Epoch [2/5] Batch [123/1654] Loss: 2.3901\n",
            "Epoch [2/5] Batch [124/1654] Loss: 2.1732\n",
            "Epoch [2/5] Batch [125/1654] Loss: 2.2107\n",
            "Epoch [2/5] Batch [126/1654] Loss: 2.1255\n",
            "Epoch [2/5] Batch [127/1654] Loss: 2.3306\n",
            "Epoch [2/5] Batch [128/1654] Loss: 2.4103\n",
            "Epoch [2/5] Batch [129/1654] Loss: 1.9886\n"
          ]
        },
        {
          "output_type": "stream",
          "name": "stderr",
          "text": [
            "  8%|▊         | 137/1654 [00:03<00:40, 37.82it/s]"
          ]
        },
        {
          "output_type": "stream",
          "name": "stdout",
          "text": [
            "Epoch [2/5] Batch [130/1654] Loss: 2.6151\n",
            "Epoch [2/5] Batch [131/1654] Loss: 1.9729\n",
            "Epoch [2/5] Batch [132/1654] Loss: 2.4626\n",
            "Epoch [2/5] Batch [133/1654] Loss: 2.2321\n",
            "Epoch [2/5] Batch [134/1654] Loss: 2.2241\n",
            "Epoch [2/5] Batch [135/1654] Loss: 2.2317\n",
            "Epoch [2/5] Batch [136/1654] Loss: 1.8294\n",
            "Epoch [2/5] Batch [137/1654] Loss: 2.1292\n"
          ]
        },
        {
          "output_type": "stream",
          "name": "stderr",
          "text": [
            "  9%|▉         | 145/1654 [00:03<00:40, 37.70it/s]"
          ]
        },
        {
          "output_type": "stream",
          "name": "stdout",
          "text": [
            "Epoch [2/5] Batch [138/1654] Loss: 2.1164\n",
            "Epoch [2/5] Batch [139/1654] Loss: 1.8662\n",
            "Epoch [2/5] Batch [140/1654] Loss: 2.0345\n",
            "Epoch [2/5] Batch [141/1654] Loss: 1.9343\n",
            "Epoch [2/5] Batch [142/1654] Loss: 1.9710\n",
            "Epoch [2/5] Batch [143/1654] Loss: 2.2373\n",
            "Epoch [2/5] Batch [144/1654] Loss: 1.8418\n",
            "Epoch [2/5] Batch [145/1654] Loss: 2.0029\n"
          ]
        },
        {
          "output_type": "stream",
          "name": "stderr",
          "text": [
            "  9%|▉         | 153/1654 [00:04<00:40, 37.45it/s]"
          ]
        },
        {
          "output_type": "stream",
          "name": "stdout",
          "text": [
            "Epoch [2/5] Batch [146/1654] Loss: 1.8904\n",
            "Epoch [2/5] Batch [147/1654] Loss: 2.0609\n",
            "Epoch [2/5] Batch [148/1654] Loss: 2.1718\n",
            "Epoch [2/5] Batch [149/1654] Loss: 2.1404\n",
            "Epoch [2/5] Batch [150/1654] Loss: 2.0028\n",
            "Epoch [2/5] Batch [151/1654] Loss: 1.7729\n",
            "Epoch [2/5] Batch [152/1654] Loss: 2.2845\n",
            "Epoch [2/5] Batch [153/1654] Loss: 2.2837\n"
          ]
        },
        {
          "output_type": "stream",
          "name": "stderr",
          "text": [
            " 10%|▉         | 161/1654 [00:04<00:39, 37.38it/s]"
          ]
        },
        {
          "output_type": "stream",
          "name": "stdout",
          "text": [
            "Epoch [2/5] Batch [154/1654] Loss: 1.9599\n",
            "Epoch [2/5] Batch [155/1654] Loss: 1.8566\n",
            "Epoch [2/5] Batch [156/1654] Loss: 2.3790\n",
            "Epoch [2/5] Batch [157/1654] Loss: 1.8696\n",
            "Epoch [2/5] Batch [158/1654] Loss: 2.2375\n",
            "Epoch [2/5] Batch [159/1654] Loss: 2.0375\n",
            "Epoch [2/5] Batch [160/1654] Loss: 2.3040\n",
            "Epoch [2/5] Batch [161/1654] Loss: 2.2553\n"
          ]
        },
        {
          "output_type": "stream",
          "name": "stderr",
          "text": [
            " 10%|█         | 169/1654 [00:04<00:39, 37.54it/s]"
          ]
        },
        {
          "output_type": "stream",
          "name": "stdout",
          "text": [
            "Epoch [2/5] Batch [162/1654] Loss: 2.0878\n",
            "Epoch [2/5] Batch [163/1654] Loss: 2.0498\n",
            "Epoch [2/5] Batch [164/1654] Loss: 2.1685\n",
            "Epoch [2/5] Batch [165/1654] Loss: 1.9284\n",
            "Epoch [2/5] Batch [166/1654] Loss: 2.1289\n",
            "Epoch [2/5] Batch [167/1654] Loss: 1.8768\n",
            "Epoch [2/5] Batch [168/1654] Loss: 2.2503\n",
            "Epoch [2/5] Batch [169/1654] Loss: 2.2786\n"
          ]
        },
        {
          "output_type": "stream",
          "name": "stderr",
          "text": [
            " 11%|█         | 177/1654 [00:04<00:39, 37.33it/s]"
          ]
        },
        {
          "output_type": "stream",
          "name": "stdout",
          "text": [
            "Epoch [2/5] Batch [170/1654] Loss: 2.0981\n",
            "Epoch [2/5] Batch [171/1654] Loss: 2.1638\n",
            "Epoch [2/5] Batch [172/1654] Loss: 2.1349\n",
            "Epoch [2/5] Batch [173/1654] Loss: 2.0182\n",
            "Epoch [2/5] Batch [174/1654] Loss: 2.0248\n",
            "Epoch [2/5] Batch [175/1654] Loss: 1.9706\n",
            "Epoch [2/5] Batch [176/1654] Loss: 2.3894\n",
            "Epoch [2/5] Batch [177/1654] Loss: 1.9083\n"
          ]
        },
        {
          "output_type": "stream",
          "name": "stderr",
          "text": [
            " 11%|█         | 186/1654 [00:04<00:37, 38.91it/s]"
          ]
        },
        {
          "output_type": "stream",
          "name": "stdout",
          "text": [
            "Epoch [2/5] Batch [178/1654] Loss: 1.8334\n",
            "Epoch [2/5] Batch [179/1654] Loss: 1.9595\n",
            "Epoch [2/5] Batch [180/1654] Loss: 2.2944\n",
            "Epoch [2/5] Batch [181/1654] Loss: 2.0727\n",
            "Epoch [2/5] Batch [182/1654] Loss: 1.9257\n",
            "Epoch [2/5] Batch [183/1654] Loss: 2.2390\n",
            "Epoch [2/5] Batch [184/1654] Loss: 1.8616\n",
            "Epoch [2/5] Batch [185/1654] Loss: 2.0190\n",
            "Epoch [2/5] Batch [186/1654] Loss: 1.7760\n"
          ]
        },
        {
          "output_type": "stream",
          "name": "stderr",
          "text": [
            " 12%|█▏        | 194/1654 [00:05<00:37, 38.67it/s]"
          ]
        },
        {
          "output_type": "stream",
          "name": "stdout",
          "text": [
            "Epoch [2/5] Batch [187/1654] Loss: 2.1453\n",
            "Epoch [2/5] Batch [188/1654] Loss: 1.7736\n",
            "Epoch [2/5] Batch [189/1654] Loss: 2.1960\n",
            "Epoch [2/5] Batch [190/1654] Loss: 2.0966\n",
            "Epoch [2/5] Batch [191/1654] Loss: 1.9733\n",
            "Epoch [2/5] Batch [192/1654] Loss: 1.8235\n",
            "Epoch [2/5] Batch [193/1654] Loss: 1.9220\n",
            "Epoch [2/5] Batch [194/1654] Loss: 2.2056\n"
          ]
        },
        {
          "output_type": "stream",
          "name": "stderr",
          "text": [
            " 12%|█▏        | 202/1654 [00:05<00:38, 37.30it/s]"
          ]
        },
        {
          "output_type": "stream",
          "name": "stdout",
          "text": [
            "Epoch [2/5] Batch [195/1654] Loss: 2.3077\n",
            "Epoch [2/5] Batch [196/1654] Loss: 1.9399\n",
            "Epoch [2/5] Batch [197/1654] Loss: 2.2414\n",
            "Epoch [2/5] Batch [198/1654] Loss: 2.0152\n",
            "Epoch [2/5] Batch [199/1654] Loss: 2.1496\n",
            "Epoch [2/5] Batch [200/1654] Loss: 2.3318\n",
            "Epoch [2/5] Batch [201/1654] Loss: 2.0963\n",
            "Epoch [2/5] Batch [202/1654] Loss: 1.8447\n"
          ]
        },
        {
          "output_type": "stream",
          "name": "stderr",
          "text": [
            " 13%|█▎        | 210/1654 [00:05<00:38, 37.35it/s]"
          ]
        },
        {
          "output_type": "stream",
          "name": "stdout",
          "text": [
            "Epoch [2/5] Batch [203/1654] Loss: 1.9707\n",
            "Epoch [2/5] Batch [204/1654] Loss: 2.0579\n",
            "Epoch [2/5] Batch [205/1654] Loss: 1.9462\n",
            "Epoch [2/5] Batch [206/1654] Loss: 2.0005\n",
            "Epoch [2/5] Batch [207/1654] Loss: 2.1617\n",
            "Epoch [2/5] Batch [208/1654] Loss: 1.7844\n",
            "Epoch [2/5] Batch [209/1654] Loss: 2.5598\n",
            "Epoch [2/5] Batch [210/1654] Loss: 2.1270\n"
          ]
        },
        {
          "output_type": "stream",
          "name": "stderr",
          "text": [
            " 13%|█▎        | 218/1654 [00:05<00:38, 37.47it/s]"
          ]
        },
        {
          "output_type": "stream",
          "name": "stdout",
          "text": [
            "Epoch [2/5] Batch [211/1654] Loss: 2.1092\n",
            "Epoch [2/5] Batch [212/1654] Loss: 2.0246\n",
            "Epoch [2/5] Batch [213/1654] Loss: 2.1069\n",
            "Epoch [2/5] Batch [214/1654] Loss: 2.0449\n",
            "Epoch [2/5] Batch [215/1654] Loss: 1.6326\n",
            "Epoch [2/5] Batch [216/1654] Loss: 2.2141\n",
            "Epoch [2/5] Batch [217/1654] Loss: 2.3395\n",
            "Epoch [2/5] Batch [218/1654] Loss: 1.8720\n"
          ]
        },
        {
          "output_type": "stream",
          "name": "stderr",
          "text": [
            " 14%|█▎        | 226/1654 [00:06<00:37, 37.79it/s]"
          ]
        },
        {
          "output_type": "stream",
          "name": "stdout",
          "text": [
            "Epoch [2/5] Batch [219/1654] Loss: 2.1165\n",
            "Epoch [2/5] Batch [220/1654] Loss: 2.0931\n",
            "Epoch [2/5] Batch [221/1654] Loss: 2.0672\n",
            "Epoch [2/5] Batch [222/1654] Loss: 2.1592\n",
            "Epoch [2/5] Batch [223/1654] Loss: 2.0508\n",
            "Epoch [2/5] Batch [224/1654] Loss: 2.0654\n",
            "Epoch [2/5] Batch [225/1654] Loss: 2.0207\n",
            "Epoch [2/5] Batch [226/1654] Loss: 2.1910\n"
          ]
        },
        {
          "output_type": "stream",
          "name": "stderr",
          "text": [
            " 14%|█▍        | 234/1654 [00:06<00:37, 37.56it/s]"
          ]
        },
        {
          "output_type": "stream",
          "name": "stdout",
          "text": [
            "Epoch [2/5] Batch [227/1654] Loss: 2.1938\n",
            "Epoch [2/5] Batch [228/1654] Loss: 1.7880\n",
            "Epoch [2/5] Batch [229/1654] Loss: 2.0441\n",
            "Epoch [2/5] Batch [230/1654] Loss: 1.5725\n",
            "Epoch [2/5] Batch [231/1654] Loss: 1.8469\n",
            "Epoch [2/5] Batch [232/1654] Loss: 2.3669\n",
            "Epoch [2/5] Batch [233/1654] Loss: 2.0354\n",
            "Epoch [2/5] Batch [234/1654] Loss: 1.9674\n"
          ]
        },
        {
          "output_type": "stream",
          "name": "stderr",
          "text": [
            " 15%|█▍        | 242/1654 [00:06<00:38, 36.85it/s]"
          ]
        },
        {
          "output_type": "stream",
          "name": "stdout",
          "text": [
            "Epoch [2/5] Batch [235/1654] Loss: 2.0753\n",
            "Epoch [2/5] Batch [236/1654] Loss: 1.8520\n",
            "Epoch [2/5] Batch [237/1654] Loss: 2.2669\n",
            "Epoch [2/5] Batch [238/1654] Loss: 2.1793\n",
            "Epoch [2/5] Batch [239/1654] Loss: 2.2502\n",
            "Epoch [2/5] Batch [240/1654] Loss: 2.2197\n",
            "Epoch [2/5] Batch [241/1654] Loss: 2.2354\n",
            "Epoch [2/5] Batch [242/1654] Loss: 1.7934\n"
          ]
        },
        {
          "output_type": "stream",
          "name": "stderr",
          "text": [
            " 15%|█▌        | 250/1654 [00:06<00:37, 36.97it/s]"
          ]
        },
        {
          "output_type": "stream",
          "name": "stdout",
          "text": [
            "Epoch [2/5] Batch [243/1654] Loss: 2.2383\n",
            "Epoch [2/5] Batch [244/1654] Loss: 2.3510\n",
            "Epoch [2/5] Batch [245/1654] Loss: 1.8426\n",
            "Epoch [2/5] Batch [246/1654] Loss: 1.9706\n",
            "Epoch [2/5] Batch [247/1654] Loss: 2.1484\n",
            "Epoch [2/5] Batch [248/1654] Loss: 2.1040\n",
            "Epoch [2/5] Batch [249/1654] Loss: 2.2986\n",
            "Epoch [2/5] Batch [250/1654] Loss: 1.9852\n"
          ]
        },
        {
          "output_type": "stream",
          "name": "stderr",
          "text": [
            " 16%|█▌        | 258/1654 [00:06<00:37, 37.36it/s]"
          ]
        },
        {
          "output_type": "stream",
          "name": "stdout",
          "text": [
            "Epoch [2/5] Batch [251/1654] Loss: 2.0550\n",
            "Epoch [2/5] Batch [252/1654] Loss: 1.7014\n",
            "Epoch [2/5] Batch [253/1654] Loss: 2.0029\n",
            "Epoch [2/5] Batch [254/1654] Loss: 1.8464\n",
            "Epoch [2/5] Batch [255/1654] Loss: 2.1230\n",
            "Epoch [2/5] Batch [256/1654] Loss: 1.9073\n",
            "Epoch [2/5] Batch [257/1654] Loss: 2.1253\n",
            "Epoch [2/5] Batch [258/1654] Loss: 1.9785\n"
          ]
        },
        {
          "output_type": "stream",
          "name": "stderr",
          "text": [
            " 16%|█▌        | 266/1654 [00:07<00:36, 37.81it/s]"
          ]
        },
        {
          "output_type": "stream",
          "name": "stdout",
          "text": [
            "Epoch [2/5] Batch [259/1654] Loss: 1.9007\n",
            "Epoch [2/5] Batch [260/1654] Loss: 1.9974\n",
            "Epoch [2/5] Batch [261/1654] Loss: 1.8824\n",
            "Epoch [2/5] Batch [262/1654] Loss: 2.2706\n",
            "Epoch [2/5] Batch [263/1654] Loss: 1.7920\n",
            "Epoch [2/5] Batch [264/1654] Loss: 2.1957\n",
            "Epoch [2/5] Batch [265/1654] Loss: 2.0103\n",
            "Epoch [2/5] Batch [266/1654] Loss: 2.0415\n"
          ]
        },
        {
          "output_type": "stream",
          "name": "stderr",
          "text": [
            " 17%|█▋        | 274/1654 [00:07<00:37, 36.62it/s]"
          ]
        },
        {
          "output_type": "stream",
          "name": "stdout",
          "text": [
            "Epoch [2/5] Batch [267/1654] Loss: 1.9891\n",
            "Epoch [2/5] Batch [268/1654] Loss: 2.2165\n",
            "Epoch [2/5] Batch [269/1654] Loss: 2.1696\n",
            "Epoch [2/5] Batch [270/1654] Loss: 2.2863\n",
            "Epoch [2/5] Batch [271/1654] Loss: 2.0081\n",
            "Epoch [2/5] Batch [272/1654] Loss: 2.1698\n",
            "Epoch [2/5] Batch [273/1654] Loss: 1.8110\n",
            "Epoch [2/5] Batch [274/1654] Loss: 2.0937\n"
          ]
        },
        {
          "output_type": "stream",
          "name": "stderr",
          "text": [
            " 17%|█▋        | 282/1654 [00:07<00:36, 37.48it/s]"
          ]
        },
        {
          "output_type": "stream",
          "name": "stdout",
          "text": [
            "Epoch [2/5] Batch [275/1654] Loss: 2.0776\n",
            "Epoch [2/5] Batch [276/1654] Loss: 2.1064\n",
            "Epoch [2/5] Batch [277/1654] Loss: 2.2003\n",
            "Epoch [2/5] Batch [278/1654] Loss: 1.9906\n",
            "Epoch [2/5] Batch [279/1654] Loss: 2.1845\n",
            "Epoch [2/5] Batch [280/1654] Loss: 2.0986\n",
            "Epoch [2/5] Batch [281/1654] Loss: 1.8406\n",
            "Epoch [2/5] Batch [282/1654] Loss: 1.9005\n"
          ]
        },
        {
          "output_type": "stream",
          "name": "stderr",
          "text": [
            " 18%|█▊        | 290/1654 [00:07<00:36, 37.85it/s]"
          ]
        },
        {
          "output_type": "stream",
          "name": "stdout",
          "text": [
            "Epoch [2/5] Batch [283/1654] Loss: 2.1146\n",
            "Epoch [2/5] Batch [284/1654] Loss: 2.2666\n",
            "Epoch [2/5] Batch [285/1654] Loss: 2.1728\n",
            "Epoch [2/5] Batch [286/1654] Loss: 2.2376\n",
            "Epoch [2/5] Batch [287/1654] Loss: 2.2984\n",
            "Epoch [2/5] Batch [288/1654] Loss: 2.1910\n",
            "Epoch [2/5] Batch [289/1654] Loss: 2.0101\n",
            "Epoch [2/5] Batch [290/1654] Loss: 2.0327\n"
          ]
        },
        {
          "output_type": "stream",
          "name": "stderr",
          "text": [
            " 18%|█▊        | 298/1654 [00:07<00:35, 38.00it/s]"
          ]
        },
        {
          "output_type": "stream",
          "name": "stdout",
          "text": [
            "Epoch [2/5] Batch [291/1654] Loss: 1.9479\n",
            "Epoch [2/5] Batch [292/1654] Loss: 1.8674\n",
            "Epoch [2/5] Batch [293/1654] Loss: 1.9022\n",
            "Epoch [2/5] Batch [294/1654] Loss: 1.9289\n",
            "Epoch [2/5] Batch [295/1654] Loss: 1.6764\n",
            "Epoch [2/5] Batch [296/1654] Loss: 2.0860\n",
            "Epoch [2/5] Batch [297/1654] Loss: 2.2058\n",
            "Epoch [2/5] Batch [298/1654] Loss: 1.9462\n"
          ]
        },
        {
          "output_type": "stream",
          "name": "stderr",
          "text": [
            " 19%|█▊        | 306/1654 [00:08<00:35, 37.89it/s]"
          ]
        },
        {
          "output_type": "stream",
          "name": "stdout",
          "text": [
            "Epoch [2/5] Batch [299/1654] Loss: 1.8069\n",
            "Epoch [2/5] Batch [300/1654] Loss: 2.0830\n",
            "Epoch [2/5] Batch [301/1654] Loss: 1.8495\n",
            "Epoch [2/5] Batch [302/1654] Loss: 1.8139\n",
            "Epoch [2/5] Batch [303/1654] Loss: 2.0931\n",
            "Epoch [2/5] Batch [304/1654] Loss: 1.8010\n",
            "Epoch [2/5] Batch [305/1654] Loss: 2.2994\n",
            "Epoch [2/5] Batch [306/1654] Loss: 2.0481\n"
          ]
        },
        {
          "output_type": "stream",
          "name": "stderr",
          "text": [
            " 19%|█▉        | 314/1654 [00:08<00:35, 37.27it/s]"
          ]
        },
        {
          "output_type": "stream",
          "name": "stdout",
          "text": [
            "Epoch [2/5] Batch [307/1654] Loss: 2.1315\n",
            "Epoch [2/5] Batch [308/1654] Loss: 2.1347\n",
            "Epoch [2/5] Batch [309/1654] Loss: 2.1649\n",
            "Epoch [2/5] Batch [310/1654] Loss: 2.1798\n",
            "Epoch [2/5] Batch [311/1654] Loss: 2.1847\n",
            "Epoch [2/5] Batch [312/1654] Loss: 1.8793\n",
            "Epoch [2/5] Batch [313/1654] Loss: 2.1243\n",
            "Epoch [2/5] Batch [314/1654] Loss: 2.2371\n"
          ]
        },
        {
          "output_type": "stream",
          "name": "stderr",
          "text": [
            " 19%|█▉        | 322/1654 [00:08<00:35, 37.74it/s]"
          ]
        },
        {
          "output_type": "stream",
          "name": "stdout",
          "text": [
            "Epoch [2/5] Batch [315/1654] Loss: 2.1830\n",
            "Epoch [2/5] Batch [316/1654] Loss: 1.8572\n",
            "Epoch [2/5] Batch [317/1654] Loss: 2.1608\n",
            "Epoch [2/5] Batch [318/1654] Loss: 1.7976\n",
            "Epoch [2/5] Batch [319/1654] Loss: 2.0393\n",
            "Epoch [2/5] Batch [320/1654] Loss: 1.8839\n",
            "Epoch [2/5] Batch [321/1654] Loss: 2.3082\n",
            "Epoch [2/5] Batch [322/1654] Loss: 2.0482\n"
          ]
        },
        {
          "output_type": "stream",
          "name": "stderr",
          "text": [
            "\r 20%|█▉        | 326/1654 [00:08<00:35, 37.88it/s]"
          ]
        },
        {
          "output_type": "stream",
          "name": "stdout",
          "text": [
            "Epoch [2/5] Batch [323/1654] Loss: 2.0836\n",
            "Epoch [2/5] Batch [324/1654] Loss: 2.0325\n",
            "Epoch [2/5] Batch [325/1654] Loss: 2.1879\n",
            "Epoch [2/5] Batch [326/1654] Loss: 2.0642\n",
            "Epoch [2/5] Batch [327/1654] Loss: 2.6285\n",
            "Epoch [2/5] Batch [328/1654] Loss: 2.0740\n",
            "Epoch [2/5] Batch [329/1654] Loss: 1.8837\n"
          ]
        },
        {
          "output_type": "stream",
          "name": "stderr",
          "text": [
            " 20%|██        | 334/1654 [00:08<00:39, 33.40it/s]"
          ]
        },
        {
          "output_type": "stream",
          "name": "stdout",
          "text": [
            "Epoch [2/5] Batch [330/1654] Loss: 2.3180\n",
            "Epoch [2/5] Batch [331/1654] Loss: 1.9751\n",
            "Epoch [2/5] Batch [332/1654] Loss: 1.9881\n",
            "Epoch [2/5] Batch [333/1654] Loss: 1.8790\n",
            "Epoch [2/5] Batch [334/1654] Loss: 1.9142\n",
            "Epoch [2/5] Batch [335/1654] Loss: 2.1945\n"
          ]
        },
        {
          "output_type": "stream",
          "name": "stderr",
          "text": [
            " 21%|██        | 342/1654 [00:09<00:41, 31.88it/s]"
          ]
        },
        {
          "output_type": "stream",
          "name": "stdout",
          "text": [
            "Epoch [2/5] Batch [336/1654] Loss: 2.0945\n",
            "Epoch [2/5] Batch [337/1654] Loss: 1.7895\n",
            "Epoch [2/5] Batch [338/1654] Loss: 1.9633\n",
            "Epoch [2/5] Batch [339/1654] Loss: 2.0782\n",
            "Epoch [2/5] Batch [340/1654] Loss: 2.1714\n",
            "Epoch [2/5] Batch [341/1654] Loss: 2.2691\n",
            "Epoch [2/5] Batch [342/1654] Loss: 1.8084\n"
          ]
        },
        {
          "output_type": "stream",
          "name": "stderr",
          "text": [
            "\r 21%|██        | 346/1654 [00:09<00:42, 30.98it/s]"
          ]
        },
        {
          "output_type": "stream",
          "name": "stdout",
          "text": [
            "Epoch [2/5] Batch [343/1654] Loss: 1.9199\n",
            "Epoch [2/5] Batch [344/1654] Loss: 2.0415\n",
            "Epoch [2/5] Batch [345/1654] Loss: 2.2496\n",
            "Epoch [2/5] Batch [346/1654] Loss: 1.8914\n",
            "Epoch [2/5] Batch [347/1654] Loss: 2.2949\n",
            "Epoch [2/5] Batch [348/1654] Loss: 2.2316\n"
          ]
        },
        {
          "output_type": "stream",
          "name": "stderr",
          "text": [
            " 21%|██▏       | 354/1654 [00:09<00:42, 30.79it/s]"
          ]
        },
        {
          "output_type": "stream",
          "name": "stdout",
          "text": [
            "Epoch [2/5] Batch [349/1654] Loss: 2.0409\n",
            "Epoch [2/5] Batch [350/1654] Loss: 2.1817\n",
            "Epoch [2/5] Batch [351/1654] Loss: 2.1039\n",
            "Epoch [2/5] Batch [352/1654] Loss: 2.1743\n",
            "Epoch [2/5] Batch [353/1654] Loss: 1.9917\n",
            "Epoch [2/5] Batch [354/1654] Loss: 2.1623\n",
            "Epoch [2/5] Batch [355/1654] Loss: 2.4591\n"
          ]
        },
        {
          "output_type": "stream",
          "name": "stderr",
          "text": [
            " 22%|██▏       | 362/1654 [00:09<00:42, 30.66it/s]"
          ]
        },
        {
          "output_type": "stream",
          "name": "stdout",
          "text": [
            "Epoch [2/5] Batch [356/1654] Loss: 2.1760\n",
            "Epoch [2/5] Batch [357/1654] Loss: 1.8000\n",
            "Epoch [2/5] Batch [358/1654] Loss: 1.7133\n",
            "Epoch [2/5] Batch [359/1654] Loss: 1.6599\n",
            "Epoch [2/5] Batch [360/1654] Loss: 2.0197\n",
            "Epoch [2/5] Batch [361/1654] Loss: 1.8141\n",
            "Epoch [2/5] Batch [362/1654] Loss: 1.8719\n"
          ]
        },
        {
          "output_type": "stream",
          "name": "stderr",
          "text": [
            "\r 22%|██▏       | 366/1654 [00:10<00:42, 30.19it/s]"
          ]
        },
        {
          "output_type": "stream",
          "name": "stdout",
          "text": [
            "Epoch [2/5] Batch [363/1654] Loss: 1.8081\n",
            "Epoch [2/5] Batch [364/1654] Loss: 2.0012\n",
            "Epoch [2/5] Batch [365/1654] Loss: 2.1340\n",
            "Epoch [2/5] Batch [366/1654] Loss: 2.1457\n",
            "Epoch [2/5] Batch [367/1654] Loss: 2.2941\n",
            "Epoch [2/5] Batch [368/1654] Loss: 2.2483\n",
            "Epoch [2/5] Batch [369/1654] Loss: 2.2491\n"
          ]
        },
        {
          "output_type": "stream",
          "name": "stderr",
          "text": [
            " 23%|██▎       | 373/1654 [00:10<00:44, 28.70it/s]"
          ]
        },
        {
          "output_type": "stream",
          "name": "stdout",
          "text": [
            "Epoch [2/5] Batch [370/1654] Loss: 1.9811\n",
            "Epoch [2/5] Batch [371/1654] Loss: 1.8099\n",
            "Epoch [2/5] Batch [372/1654] Loss: 1.9310\n",
            "Epoch [2/5] Batch [373/1654] Loss: 2.5269\n",
            "Epoch [2/5] Batch [374/1654] Loss: 2.1796\n",
            "Epoch [2/5] Batch [375/1654] Loss: 2.4322\n"
          ]
        },
        {
          "output_type": "stream",
          "name": "stderr",
          "text": [
            " 23%|██▎       | 379/1654 [00:10<00:46, 27.48it/s]"
          ]
        },
        {
          "output_type": "stream",
          "name": "stdout",
          "text": [
            "Epoch [2/5] Batch [376/1654] Loss: 1.8745\n",
            "Epoch [2/5] Batch [377/1654] Loss: 2.0836\n",
            "Epoch [2/5] Batch [378/1654] Loss: 2.2208\n",
            "Epoch [2/5] Batch [379/1654] Loss: 1.8987\n",
            "Epoch [2/5] Batch [380/1654] Loss: 2.0445\n",
            "Epoch [2/5] Batch [381/1654] Loss: 2.1361\n"
          ]
        },
        {
          "output_type": "stream",
          "name": "stderr",
          "text": [
            " 23%|██▎       | 385/1654 [00:10<00:46, 27.24it/s]"
          ]
        },
        {
          "output_type": "stream",
          "name": "stdout",
          "text": [
            "Epoch [2/5] Batch [382/1654] Loss: 1.9936\n",
            "Epoch [2/5] Batch [383/1654] Loss: 2.3354\n",
            "Epoch [2/5] Batch [384/1654] Loss: 2.2074\n",
            "Epoch [2/5] Batch [385/1654] Loss: 1.8106\n",
            "Epoch [2/5] Batch [386/1654] Loss: 2.3948\n",
            "Epoch [2/5] Batch [387/1654] Loss: 2.0437\n"
          ]
        },
        {
          "output_type": "stream",
          "name": "stderr",
          "text": [
            " 24%|██▎       | 392/1654 [00:10<00:44, 28.22it/s]"
          ]
        },
        {
          "output_type": "stream",
          "name": "stdout",
          "text": [
            "Epoch [2/5] Batch [388/1654] Loss: 2.0106\n",
            "Epoch [2/5] Batch [389/1654] Loss: 2.0396\n",
            "Epoch [2/5] Batch [390/1654] Loss: 1.9707\n",
            "Epoch [2/5] Batch [391/1654] Loss: 2.1071\n",
            "Epoch [2/5] Batch [392/1654] Loss: 2.1852\n",
            "Epoch [2/5] Batch [393/1654] Loss: 2.3545\n",
            "Epoch [2/5] Batch [394/1654] Loss: 2.0978\n"
          ]
        },
        {
          "output_type": "stream",
          "name": "stderr",
          "text": [
            " 24%|██▍       | 400/1654 [00:11<00:38, 32.31it/s]"
          ]
        },
        {
          "output_type": "stream",
          "name": "stdout",
          "text": [
            "Epoch [2/5] Batch [395/1654] Loss: 1.8818\n",
            "Epoch [2/5] Batch [396/1654] Loss: 2.3072\n",
            "Epoch [2/5] Batch [397/1654] Loss: 1.9351\n",
            "Epoch [2/5] Batch [398/1654] Loss: 1.9415\n",
            "Epoch [2/5] Batch [399/1654] Loss: 2.0632\n",
            "Epoch [2/5] Batch [400/1654] Loss: 2.0736\n",
            "Epoch [2/5] Batch [401/1654] Loss: 1.7969\n",
            "Epoch [2/5] Batch [402/1654] Loss: 2.3800\n"
          ]
        },
        {
          "output_type": "stream",
          "name": "stderr",
          "text": [
            " 25%|██▍       | 408/1654 [00:11<00:36, 33.82it/s]"
          ]
        },
        {
          "output_type": "stream",
          "name": "stdout",
          "text": [
            "Epoch [2/5] Batch [403/1654] Loss: 2.0742\n",
            "Epoch [2/5] Batch [404/1654] Loss: 2.0788\n",
            "Epoch [2/5] Batch [405/1654] Loss: 1.9960\n",
            "Epoch [2/5] Batch [406/1654] Loss: 2.1329\n",
            "Epoch [2/5] Batch [407/1654] Loss: 2.1807\n",
            "Epoch [2/5] Batch [408/1654] Loss: 2.4322\n",
            "Epoch [2/5] Batch [409/1654] Loss: 2.0840\n",
            "Epoch [2/5] Batch [410/1654] Loss: 2.0248\n"
          ]
        },
        {
          "output_type": "stream",
          "name": "stderr",
          "text": [
            " 25%|██▌       | 416/1654 [00:11<00:35, 35.09it/s]"
          ]
        },
        {
          "output_type": "stream",
          "name": "stdout",
          "text": [
            "Epoch [2/5] Batch [411/1654] Loss: 1.9094\n",
            "Epoch [2/5] Batch [412/1654] Loss: 2.1588\n",
            "Epoch [2/5] Batch [413/1654] Loss: 1.9074\n",
            "Epoch [2/5] Batch [414/1654] Loss: 2.1525\n",
            "Epoch [2/5] Batch [415/1654] Loss: 2.1371\n",
            "Epoch [2/5] Batch [416/1654] Loss: 2.1237\n",
            "Epoch [2/5] Batch [417/1654] Loss: 1.8279\n",
            "Epoch [2/5] Batch [418/1654] Loss: 2.3196\n"
          ]
        },
        {
          "output_type": "stream",
          "name": "stderr",
          "text": [
            " 26%|██▌       | 424/1654 [00:11<00:34, 36.10it/s]"
          ]
        },
        {
          "output_type": "stream",
          "name": "stdout",
          "text": [
            "Epoch [2/5] Batch [419/1654] Loss: 2.0645\n",
            "Epoch [2/5] Batch [420/1654] Loss: 2.1484\n",
            "Epoch [2/5] Batch [421/1654] Loss: 2.1629\n",
            "Epoch [2/5] Batch [422/1654] Loss: 1.8704\n",
            "Epoch [2/5] Batch [423/1654] Loss: 1.9409\n",
            "Epoch [2/5] Batch [424/1654] Loss: 2.4081\n",
            "Epoch [2/5] Batch [425/1654] Loss: 1.9286\n",
            "Epoch [2/5] Batch [426/1654] Loss: 1.8917\n"
          ]
        },
        {
          "output_type": "stream",
          "name": "stderr",
          "text": [
            " 26%|██▌       | 432/1654 [00:12<00:33, 36.07it/s]"
          ]
        },
        {
          "output_type": "stream",
          "name": "stdout",
          "text": [
            "Epoch [2/5] Batch [427/1654] Loss: 2.2416\n",
            "Epoch [2/5] Batch [428/1654] Loss: 1.8934\n",
            "Epoch [2/5] Batch [429/1654] Loss: 1.6607\n",
            "Epoch [2/5] Batch [430/1654] Loss: 1.6006\n",
            "Epoch [2/5] Batch [431/1654] Loss: 2.3553\n",
            "Epoch [2/5] Batch [432/1654] Loss: 1.9846\n",
            "Epoch [2/5] Batch [433/1654] Loss: 2.2278\n",
            "Epoch [2/5] Batch [434/1654] Loss: 2.0991\n"
          ]
        },
        {
          "output_type": "stream",
          "name": "stderr",
          "text": [
            " 27%|██▋       | 440/1654 [00:12<00:33, 36.02it/s]"
          ]
        },
        {
          "output_type": "stream",
          "name": "stdout",
          "text": [
            "Epoch [2/5] Batch [435/1654] Loss: 2.0135\n",
            "Epoch [2/5] Batch [436/1654] Loss: 2.2053\n",
            "Epoch [2/5] Batch [437/1654] Loss: 2.0424\n",
            "Epoch [2/5] Batch [438/1654] Loss: 2.2845\n",
            "Epoch [2/5] Batch [439/1654] Loss: 2.1825\n",
            "Epoch [2/5] Batch [440/1654] Loss: 2.6053\n",
            "Epoch [2/5] Batch [441/1654] Loss: 1.9106\n",
            "Epoch [2/5] Batch [442/1654] Loss: 2.1654\n"
          ]
        },
        {
          "output_type": "stream",
          "name": "stderr",
          "text": [
            " 27%|██▋       | 448/1654 [00:12<00:33, 35.61it/s]"
          ]
        },
        {
          "output_type": "stream",
          "name": "stdout",
          "text": [
            "Epoch [2/5] Batch [443/1654] Loss: 2.5878\n",
            "Epoch [2/5] Batch [444/1654] Loss: 2.2184\n",
            "Epoch [2/5] Batch [445/1654] Loss: 2.1882\n",
            "Epoch [2/5] Batch [446/1654] Loss: 1.9721\n",
            "Epoch [2/5] Batch [447/1654] Loss: 2.1818\n",
            "Epoch [2/5] Batch [448/1654] Loss: 2.0694\n",
            "Epoch [2/5] Batch [449/1654] Loss: 2.2121\n",
            "Epoch [2/5] Batch [450/1654] Loss: 1.8846\n"
          ]
        },
        {
          "output_type": "stream",
          "name": "stderr",
          "text": [
            " 28%|██▊       | 456/1654 [00:12<00:33, 36.27it/s]"
          ]
        },
        {
          "output_type": "stream",
          "name": "stdout",
          "text": [
            "Epoch [2/5] Batch [451/1654] Loss: 2.0217\n",
            "Epoch [2/5] Batch [452/1654] Loss: 1.7359\n",
            "Epoch [2/5] Batch [453/1654] Loss: 2.2786\n",
            "Epoch [2/5] Batch [454/1654] Loss: 2.0084\n",
            "Epoch [2/5] Batch [455/1654] Loss: 2.0847\n",
            "Epoch [2/5] Batch [456/1654] Loss: 2.0659\n",
            "Epoch [2/5] Batch [457/1654] Loss: 2.2520\n",
            "Epoch [2/5] Batch [458/1654] Loss: 2.2577\n"
          ]
        },
        {
          "output_type": "stream",
          "name": "stderr",
          "text": [
            " 28%|██▊       | 464/1654 [00:12<00:32, 36.19it/s]"
          ]
        },
        {
          "output_type": "stream",
          "name": "stdout",
          "text": [
            "Epoch [2/5] Batch [459/1654] Loss: 2.1463\n",
            "Epoch [2/5] Batch [460/1654] Loss: 2.1841\n",
            "Epoch [2/5] Batch [461/1654] Loss: 1.8985\n",
            "Epoch [2/5] Batch [462/1654] Loss: 1.9206\n",
            "Epoch [2/5] Batch [463/1654] Loss: 2.2691\n",
            "Epoch [2/5] Batch [464/1654] Loss: 2.0991\n",
            "Epoch [2/5] Batch [465/1654] Loss: 1.8858\n",
            "Epoch [2/5] Batch [466/1654] Loss: 1.6907\n"
          ]
        },
        {
          "output_type": "stream",
          "name": "stderr",
          "text": [
            " 29%|██▊       | 472/1654 [00:13<00:33, 35.04it/s]"
          ]
        },
        {
          "output_type": "stream",
          "name": "stdout",
          "text": [
            "Epoch [2/5] Batch [467/1654] Loss: 2.1024\n",
            "Epoch [2/5] Batch [468/1654] Loss: 1.8918\n",
            "Epoch [2/5] Batch [469/1654] Loss: 1.9472\n",
            "Epoch [2/5] Batch [470/1654] Loss: 1.9498\n",
            "Epoch [2/5] Batch [471/1654] Loss: 1.8754\n",
            "Epoch [2/5] Batch [472/1654] Loss: 1.9352\n",
            "Epoch [2/5] Batch [473/1654] Loss: 1.8394\n"
          ]
        },
        {
          "output_type": "stream",
          "name": "stderr",
          "text": [
            " 29%|██▉       | 480/1654 [00:13<00:32, 36.17it/s]"
          ]
        },
        {
          "output_type": "stream",
          "name": "stdout",
          "text": [
            "Epoch [2/5] Batch [474/1654] Loss: 1.9436\n",
            "Epoch [2/5] Batch [475/1654] Loss: 2.1533\n",
            "Epoch [2/5] Batch [476/1654] Loss: 1.6594\n",
            "Epoch [2/5] Batch [477/1654] Loss: 2.0851\n",
            "Epoch [2/5] Batch [478/1654] Loss: 2.2128\n",
            "Epoch [2/5] Batch [479/1654] Loss: 2.4606\n",
            "Epoch [2/5] Batch [480/1654] Loss: 1.8960\n",
            "Epoch [2/5] Batch [481/1654] Loss: 1.8568\n"
          ]
        },
        {
          "output_type": "stream",
          "name": "stderr",
          "text": [
            " 30%|██▉       | 488/1654 [00:13<00:31, 36.52it/s]"
          ]
        },
        {
          "output_type": "stream",
          "name": "stdout",
          "text": [
            "Epoch [2/5] Batch [482/1654] Loss: 1.9499\n",
            "Epoch [2/5] Batch [483/1654] Loss: 2.0973\n",
            "Epoch [2/5] Batch [484/1654] Loss: 2.2532\n",
            "Epoch [2/5] Batch [485/1654] Loss: 2.2208\n",
            "Epoch [2/5] Batch [486/1654] Loss: 2.1770\n",
            "Epoch [2/5] Batch [487/1654] Loss: 2.0815\n",
            "Epoch [2/5] Batch [488/1654] Loss: 1.8566\n",
            "Epoch [2/5] Batch [489/1654] Loss: 2.0949\n"
          ]
        },
        {
          "output_type": "stream",
          "name": "stderr",
          "text": [
            " 30%|██▉       | 496/1654 [00:13<00:31, 37.20it/s]"
          ]
        },
        {
          "output_type": "stream",
          "name": "stdout",
          "text": [
            "Epoch [2/5] Batch [490/1654] Loss: 1.8945\n",
            "Epoch [2/5] Batch [491/1654] Loss: 1.9574\n",
            "Epoch [2/5] Batch [492/1654] Loss: 1.9558\n",
            "Epoch [2/5] Batch [493/1654] Loss: 1.9920\n",
            "Epoch [2/5] Batch [494/1654] Loss: 2.0828\n",
            "Epoch [2/5] Batch [495/1654] Loss: 2.1037\n",
            "Epoch [2/5] Batch [496/1654] Loss: 2.1133\n",
            "Epoch [2/5] Batch [497/1654] Loss: 2.1496\n"
          ]
        },
        {
          "output_type": "stream",
          "name": "stderr",
          "text": [
            " 30%|███       | 504/1654 [00:14<00:30, 37.29it/s]"
          ]
        },
        {
          "output_type": "stream",
          "name": "stdout",
          "text": [
            "Epoch [2/5] Batch [498/1654] Loss: 2.1258\n",
            "Epoch [2/5] Batch [499/1654] Loss: 1.6941\n",
            "Epoch [2/5] Batch [500/1654] Loss: 2.0050\n",
            "Epoch [2/5] Batch [501/1654] Loss: 2.0035\n",
            "Epoch [2/5] Batch [502/1654] Loss: 1.8431\n",
            "Epoch [2/5] Batch [503/1654] Loss: 2.0374\n",
            "Epoch [2/5] Batch [504/1654] Loss: 2.0395\n",
            "Epoch [2/5] Batch [505/1654] Loss: 1.9943\n"
          ]
        },
        {
          "output_type": "stream",
          "name": "stderr",
          "text": [
            " 31%|███       | 512/1654 [00:14<00:29, 38.18it/s]"
          ]
        },
        {
          "output_type": "stream",
          "name": "stdout",
          "text": [
            "Epoch [2/5] Batch [506/1654] Loss: 1.8803\n",
            "Epoch [2/5] Batch [507/1654] Loss: 2.0046\n",
            "Epoch [2/5] Batch [508/1654] Loss: 2.1950\n",
            "Epoch [2/5] Batch [509/1654] Loss: 1.9817\n",
            "Epoch [2/5] Batch [510/1654] Loss: 2.2248\n",
            "Epoch [2/5] Batch [511/1654] Loss: 2.0351\n",
            "Epoch [2/5] Batch [512/1654] Loss: 2.0158\n",
            "Epoch [2/5] Batch [513/1654] Loss: 1.8204\n"
          ]
        },
        {
          "output_type": "stream",
          "name": "stderr",
          "text": [
            " 31%|███▏      | 520/1654 [00:14<00:29, 38.55it/s]"
          ]
        },
        {
          "output_type": "stream",
          "name": "stdout",
          "text": [
            "Epoch [2/5] Batch [514/1654] Loss: 2.1790\n",
            "Epoch [2/5] Batch [515/1654] Loss: 1.8985\n",
            "Epoch [2/5] Batch [516/1654] Loss: 2.2249\n",
            "Epoch [2/5] Batch [517/1654] Loss: 2.1124\n",
            "Epoch [2/5] Batch [518/1654] Loss: 2.6604\n",
            "Epoch [2/5] Batch [519/1654] Loss: 2.1450\n",
            "Epoch [2/5] Batch [520/1654] Loss: 2.0376\n",
            "Epoch [2/5] Batch [521/1654] Loss: 2.3102\n",
            "Epoch [2/5] Batch [522/1654] Loss: 2.0428\n"
          ]
        },
        {
          "output_type": "stream",
          "name": "stderr",
          "text": [
            " 32%|███▏      | 528/1654 [00:14<00:29, 38.08it/s]"
          ]
        },
        {
          "output_type": "stream",
          "name": "stdout",
          "text": [
            "Epoch [2/5] Batch [523/1654] Loss: 2.3700\n",
            "Epoch [2/5] Batch [524/1654] Loss: 2.2933\n",
            "Epoch [2/5] Batch [525/1654] Loss: 2.1824\n",
            "Epoch [2/5] Batch [526/1654] Loss: 2.2485\n",
            "Epoch [2/5] Batch [527/1654] Loss: 1.9057\n",
            "Epoch [2/5] Batch [528/1654] Loss: 2.0014\n",
            "Epoch [2/5] Batch [529/1654] Loss: 2.1482\n",
            "Epoch [2/5] Batch [530/1654] Loss: 2.3292\n"
          ]
        },
        {
          "output_type": "stream",
          "name": "stderr",
          "text": [
            " 32%|███▏      | 537/1654 [00:14<00:28, 39.10it/s]"
          ]
        },
        {
          "output_type": "stream",
          "name": "stdout",
          "text": [
            "Epoch [2/5] Batch [531/1654] Loss: 2.1143\n",
            "Epoch [2/5] Batch [532/1654] Loss: 1.8314\n",
            "Epoch [2/5] Batch [533/1654] Loss: 2.1546\n",
            "Epoch [2/5] Batch [534/1654] Loss: 2.1740\n",
            "Epoch [2/5] Batch [535/1654] Loss: 1.9007\n",
            "Epoch [2/5] Batch [536/1654] Loss: 2.3873\n",
            "Epoch [2/5] Batch [537/1654] Loss: 2.1225\n",
            "Epoch [2/5] Batch [538/1654] Loss: 2.0340\n"
          ]
        },
        {
          "output_type": "stream",
          "name": "stderr",
          "text": [
            " 33%|███▎      | 545/1654 [00:15<00:29, 38.00it/s]"
          ]
        },
        {
          "output_type": "stream",
          "name": "stdout",
          "text": [
            "Epoch [2/5] Batch [539/1654] Loss: 2.2763\n",
            "Epoch [2/5] Batch [540/1654] Loss: 1.9585\n",
            "Epoch [2/5] Batch [541/1654] Loss: 2.0492\n",
            "Epoch [2/5] Batch [542/1654] Loss: 2.0356\n",
            "Epoch [2/5] Batch [543/1654] Loss: 1.9693\n",
            "Epoch [2/5] Batch [544/1654] Loss: 2.3351\n",
            "Epoch [2/5] Batch [545/1654] Loss: 1.7814\n",
            "Epoch [2/5] Batch [546/1654] Loss: 1.9377\n"
          ]
        },
        {
          "output_type": "stream",
          "name": "stderr",
          "text": [
            " 33%|███▎      | 553/1654 [00:15<00:29, 37.76it/s]"
          ]
        },
        {
          "output_type": "stream",
          "name": "stdout",
          "text": [
            "Epoch [2/5] Batch [547/1654] Loss: 2.0243\n",
            "Epoch [2/5] Batch [548/1654] Loss: 1.8135\n",
            "Epoch [2/5] Batch [549/1654] Loss: 2.0136\n",
            "Epoch [2/5] Batch [550/1654] Loss: 1.8770\n",
            "Epoch [2/5] Batch [551/1654] Loss: 2.1253\n",
            "Epoch [2/5] Batch [552/1654] Loss: 1.9575\n",
            "Epoch [2/5] Batch [553/1654] Loss: 1.8917\n",
            "Epoch [2/5] Batch [554/1654] Loss: 2.0642\n"
          ]
        },
        {
          "output_type": "stream",
          "name": "stderr",
          "text": [
            " 34%|███▍      | 561/1654 [00:15<00:28, 37.91it/s]"
          ]
        },
        {
          "output_type": "stream",
          "name": "stdout",
          "text": [
            "Epoch [2/5] Batch [555/1654] Loss: 2.5302\n",
            "Epoch [2/5] Batch [556/1654] Loss: 1.7833\n",
            "Epoch [2/5] Batch [557/1654] Loss: 1.9298\n",
            "Epoch [2/5] Batch [558/1654] Loss: 2.1115\n",
            "Epoch [2/5] Batch [559/1654] Loss: 2.0922\n",
            "Epoch [2/5] Batch [560/1654] Loss: 2.2058\n",
            "Epoch [2/5] Batch [561/1654] Loss: 2.1777\n",
            "Epoch [2/5] Batch [562/1654] Loss: 2.0150\n"
          ]
        },
        {
          "output_type": "stream",
          "name": "stderr",
          "text": [
            " 34%|███▍      | 569/1654 [00:15<00:29, 36.91it/s]"
          ]
        },
        {
          "output_type": "stream",
          "name": "stdout",
          "text": [
            "Epoch [2/5] Batch [563/1654] Loss: 2.0550\n",
            "Epoch [2/5] Batch [564/1654] Loss: 2.3185\n",
            "Epoch [2/5] Batch [565/1654] Loss: 2.1552\n",
            "Epoch [2/5] Batch [566/1654] Loss: 1.9369\n",
            "Epoch [2/5] Batch [567/1654] Loss: 2.1264\n",
            "Epoch [2/5] Batch [568/1654] Loss: 1.7504\n",
            "Epoch [2/5] Batch [569/1654] Loss: 1.8653\n",
            "Epoch [2/5] Batch [570/1654] Loss: 2.0628\n"
          ]
        },
        {
          "output_type": "stream",
          "name": "stderr",
          "text": [
            " 35%|███▍      | 577/1654 [00:15<00:28, 37.15it/s]"
          ]
        },
        {
          "output_type": "stream",
          "name": "stdout",
          "text": [
            "Epoch [2/5] Batch [571/1654] Loss: 1.9668\n",
            "Epoch [2/5] Batch [572/1654] Loss: 1.8265\n",
            "Epoch [2/5] Batch [573/1654] Loss: 2.1125\n",
            "Epoch [2/5] Batch [574/1654] Loss: 1.8575\n",
            "Epoch [2/5] Batch [575/1654] Loss: 2.0519\n",
            "Epoch [2/5] Batch [576/1654] Loss: 2.2090\n",
            "Epoch [2/5] Batch [577/1654] Loss: 1.8834\n",
            "Epoch [2/5] Batch [578/1654] Loss: 2.2754\n"
          ]
        },
        {
          "output_type": "stream",
          "name": "stderr",
          "text": [
            " 35%|███▌      | 585/1654 [00:16<00:28, 37.28it/s]"
          ]
        },
        {
          "output_type": "stream",
          "name": "stdout",
          "text": [
            "Epoch [2/5] Batch [579/1654] Loss: 2.1548\n",
            "Epoch [2/5] Batch [580/1654] Loss: 2.1908\n",
            "Epoch [2/5] Batch [581/1654] Loss: 2.0223\n",
            "Epoch [2/5] Batch [582/1654] Loss: 1.7666\n",
            "Epoch [2/5] Batch [583/1654] Loss: 2.0427\n",
            "Epoch [2/5] Batch [584/1654] Loss: 2.3339\n",
            "Epoch [2/5] Batch [585/1654] Loss: 1.9044\n",
            "Epoch [2/5] Batch [586/1654] Loss: 2.3154\n"
          ]
        },
        {
          "output_type": "stream",
          "name": "stderr",
          "text": [
            " 36%|███▌      | 593/1654 [00:16<00:29, 36.20it/s]"
          ]
        },
        {
          "output_type": "stream",
          "name": "stdout",
          "text": [
            "Epoch [2/5] Batch [587/1654] Loss: 1.5696\n",
            "Epoch [2/5] Batch [588/1654] Loss: 1.8627\n",
            "Epoch [2/5] Batch [589/1654] Loss: 1.8839\n",
            "Epoch [2/5] Batch [590/1654] Loss: 2.1403\n",
            "Epoch [2/5] Batch [591/1654] Loss: 2.2485\n",
            "Epoch [2/5] Batch [592/1654] Loss: 2.0769\n",
            "Epoch [2/5] Batch [593/1654] Loss: 1.5566\n",
            "Epoch [2/5] Batch [594/1654] Loss: 2.1483\n"
          ]
        },
        {
          "output_type": "stream",
          "name": "stderr",
          "text": [
            " 36%|███▋      | 601/1654 [00:16<00:28, 36.63it/s]"
          ]
        },
        {
          "output_type": "stream",
          "name": "stdout",
          "text": [
            "Epoch [2/5] Batch [595/1654] Loss: 1.6874\n",
            "Epoch [2/5] Batch [596/1654] Loss: 2.1512\n",
            "Epoch [2/5] Batch [597/1654] Loss: 1.8643\n",
            "Epoch [2/5] Batch [598/1654] Loss: 2.0663\n",
            "Epoch [2/5] Batch [599/1654] Loss: 1.9510\n",
            "Epoch [2/5] Batch [600/1654] Loss: 2.0225\n",
            "Epoch [2/5] Batch [601/1654] Loss: 2.6769\n",
            "Epoch [2/5] Batch [602/1654] Loss: 1.8085\n"
          ]
        },
        {
          "output_type": "stream",
          "name": "stderr",
          "text": [
            " 37%|███▋      | 609/1654 [00:16<00:28, 36.54it/s]"
          ]
        },
        {
          "output_type": "stream",
          "name": "stdout",
          "text": [
            "Epoch [2/5] Batch [603/1654] Loss: 1.9309\n",
            "Epoch [2/5] Batch [604/1654] Loss: 2.1550\n",
            "Epoch [2/5] Batch [605/1654] Loss: 1.8425\n",
            "Epoch [2/5] Batch [606/1654] Loss: 2.0947\n",
            "Epoch [2/5] Batch [607/1654] Loss: 2.2243\n",
            "Epoch [2/5] Batch [608/1654] Loss: 2.0325\n",
            "Epoch [2/5] Batch [609/1654] Loss: 2.0626\n",
            "Epoch [2/5] Batch [610/1654] Loss: 2.2964\n"
          ]
        },
        {
          "output_type": "stream",
          "name": "stderr",
          "text": [
            " 37%|███▋      | 617/1654 [00:17<00:27, 37.15it/s]"
          ]
        },
        {
          "output_type": "stream",
          "name": "stdout",
          "text": [
            "Epoch [2/5] Batch [611/1654] Loss: 2.1106\n",
            "Epoch [2/5] Batch [612/1654] Loss: 1.9976\n",
            "Epoch [2/5] Batch [613/1654] Loss: 1.8254\n",
            "Epoch [2/5] Batch [614/1654] Loss: 1.9513\n",
            "Epoch [2/5] Batch [615/1654] Loss: 2.0313\n",
            "Epoch [2/5] Batch [616/1654] Loss: 1.9217\n",
            "Epoch [2/5] Batch [617/1654] Loss: 1.7457\n",
            "Epoch [2/5] Batch [618/1654] Loss: 1.9797\n"
          ]
        },
        {
          "output_type": "stream",
          "name": "stderr",
          "text": [
            " 38%|███▊      | 625/1654 [00:17<00:27, 37.70it/s]"
          ]
        },
        {
          "output_type": "stream",
          "name": "stdout",
          "text": [
            "Epoch [2/5] Batch [619/1654] Loss: 2.0276\n",
            "Epoch [2/5] Batch [620/1654] Loss: 1.7770\n",
            "Epoch [2/5] Batch [621/1654] Loss: 1.8798\n",
            "Epoch [2/5] Batch [622/1654] Loss: 1.8948\n",
            "Epoch [2/5] Batch [623/1654] Loss: 2.2933\n",
            "Epoch [2/5] Batch [624/1654] Loss: 1.8624\n",
            "Epoch [2/5] Batch [625/1654] Loss: 1.9483\n",
            "Epoch [2/5] Batch [626/1654] Loss: 1.7367\n"
          ]
        },
        {
          "output_type": "stream",
          "name": "stderr",
          "text": [
            " 38%|███▊      | 633/1654 [00:17<00:27, 37.59it/s]"
          ]
        },
        {
          "output_type": "stream",
          "name": "stdout",
          "text": [
            "Epoch [2/5] Batch [627/1654] Loss: 1.6033\n",
            "Epoch [2/5] Batch [628/1654] Loss: 2.2527\n",
            "Epoch [2/5] Batch [629/1654] Loss: 1.8961\n",
            "Epoch [2/5] Batch [630/1654] Loss: 1.6703\n",
            "Epoch [2/5] Batch [631/1654] Loss: 1.9747\n",
            "Epoch [2/5] Batch [632/1654] Loss: 1.7733\n",
            "Epoch [2/5] Batch [633/1654] Loss: 2.1460\n",
            "Epoch [2/5] Batch [634/1654] Loss: 2.0972\n"
          ]
        },
        {
          "output_type": "stream",
          "name": "stderr",
          "text": [
            " 39%|███▉      | 641/1654 [00:17<00:27, 36.84it/s]"
          ]
        },
        {
          "output_type": "stream",
          "name": "stdout",
          "text": [
            "Epoch [2/5] Batch [635/1654] Loss: 1.9373\n",
            "Epoch [2/5] Batch [636/1654] Loss: 1.9550\n",
            "Epoch [2/5] Batch [637/1654] Loss: 1.7789\n",
            "Epoch [2/5] Batch [638/1654] Loss: 2.0424\n",
            "Epoch [2/5] Batch [639/1654] Loss: 1.9838\n",
            "Epoch [2/5] Batch [640/1654] Loss: 2.0515\n",
            "Epoch [2/5] Batch [641/1654] Loss: 2.0535\n",
            "Epoch [2/5] Batch [642/1654] Loss: 2.0437\n"
          ]
        },
        {
          "output_type": "stream",
          "name": "stderr",
          "text": [
            " 39%|███▉      | 649/1654 [00:17<00:27, 37.09it/s]"
          ]
        },
        {
          "output_type": "stream",
          "name": "stdout",
          "text": [
            "Epoch [2/5] Batch [643/1654] Loss: 1.9131\n",
            "Epoch [2/5] Batch [644/1654] Loss: 1.8395\n",
            "Epoch [2/5] Batch [645/1654] Loss: 2.0156\n",
            "Epoch [2/5] Batch [646/1654] Loss: 1.9685\n",
            "Epoch [2/5] Batch [647/1654] Loss: 1.9293\n",
            "Epoch [2/5] Batch [648/1654] Loss: 1.8532\n",
            "Epoch [2/5] Batch [649/1654] Loss: 2.0534\n",
            "Epoch [2/5] Batch [650/1654] Loss: 1.7055\n"
          ]
        },
        {
          "output_type": "stream",
          "name": "stderr",
          "text": [
            " 40%|███▉      | 657/1654 [00:18<00:26, 37.20it/s]"
          ]
        },
        {
          "output_type": "stream",
          "name": "stdout",
          "text": [
            "Epoch [2/5] Batch [651/1654] Loss: 1.6340\n",
            "Epoch [2/5] Batch [652/1654] Loss: 2.0379\n",
            "Epoch [2/5] Batch [653/1654] Loss: 2.2876\n",
            "Epoch [2/5] Batch [654/1654] Loss: 2.3123\n",
            "Epoch [2/5] Batch [655/1654] Loss: 1.9315\n",
            "Epoch [2/5] Batch [656/1654] Loss: 1.9360\n",
            "Epoch [2/5] Batch [657/1654] Loss: 2.1430\n",
            "Epoch [2/5] Batch [658/1654] Loss: 1.9269\n"
          ]
        },
        {
          "output_type": "stream",
          "name": "stderr",
          "text": [
            " 40%|████      | 665/1654 [00:18<00:26, 37.58it/s]"
          ]
        },
        {
          "output_type": "stream",
          "name": "stdout",
          "text": [
            "Epoch [2/5] Batch [659/1654] Loss: 2.0396\n",
            "Epoch [2/5] Batch [660/1654] Loss: 1.7078\n",
            "Epoch [2/5] Batch [661/1654] Loss: 2.0944\n",
            "Epoch [2/5] Batch [662/1654] Loss: 2.2404\n",
            "Epoch [2/5] Batch [663/1654] Loss: 2.1546\n",
            "Epoch [2/5] Batch [664/1654] Loss: 1.9297\n",
            "Epoch [2/5] Batch [665/1654] Loss: 1.9733\n",
            "Epoch [2/5] Batch [666/1654] Loss: 2.0175\n"
          ]
        },
        {
          "output_type": "stream",
          "name": "stderr",
          "text": [
            " 41%|████      | 673/1654 [00:18<00:25, 38.00it/s]"
          ]
        },
        {
          "output_type": "stream",
          "name": "stdout",
          "text": [
            "Epoch [2/5] Batch [667/1654] Loss: 2.3037\n",
            "Epoch [2/5] Batch [668/1654] Loss: 2.0381\n",
            "Epoch [2/5] Batch [669/1654] Loss: 1.8946\n",
            "Epoch [2/5] Batch [670/1654] Loss: 1.8534\n",
            "Epoch [2/5] Batch [671/1654] Loss: 2.0937\n",
            "Epoch [2/5] Batch [672/1654] Loss: 1.9933\n",
            "Epoch [2/5] Batch [673/1654] Loss: 2.2847\n",
            "Epoch [2/5] Batch [674/1654] Loss: 2.0138\n"
          ]
        },
        {
          "output_type": "stream",
          "name": "stderr",
          "text": [
            " 41%|████      | 681/1654 [00:18<00:26, 37.22it/s]"
          ]
        },
        {
          "output_type": "stream",
          "name": "stdout",
          "text": [
            "Epoch [2/5] Batch [675/1654] Loss: 1.9976\n",
            "Epoch [2/5] Batch [676/1654] Loss: 2.0876\n",
            "Epoch [2/5] Batch [677/1654] Loss: 1.8301\n",
            "Epoch [2/5] Batch [678/1654] Loss: 2.0850\n",
            "Epoch [2/5] Batch [679/1654] Loss: 1.9396\n",
            "Epoch [2/5] Batch [680/1654] Loss: 2.0078\n",
            "Epoch [2/5] Batch [681/1654] Loss: 1.9527\n",
            "Epoch [2/5] Batch [682/1654] Loss: 2.0278\n"
          ]
        },
        {
          "output_type": "stream",
          "name": "stderr",
          "text": [
            " 42%|████▏     | 689/1654 [00:19<00:25, 37.47it/s]"
          ]
        },
        {
          "output_type": "stream",
          "name": "stdout",
          "text": [
            "Epoch [2/5] Batch [683/1654] Loss: 1.9425\n",
            "Epoch [2/5] Batch [684/1654] Loss: 1.8985\n",
            "Epoch [2/5] Batch [685/1654] Loss: 1.8663\n",
            "Epoch [2/5] Batch [686/1654] Loss: 1.9000\n",
            "Epoch [2/5] Batch [687/1654] Loss: 1.9418\n",
            "Epoch [2/5] Batch [688/1654] Loss: 2.0223\n",
            "Epoch [2/5] Batch [689/1654] Loss: 1.8586\n",
            "Epoch [2/5] Batch [690/1654] Loss: 1.9931\n"
          ]
        },
        {
          "output_type": "stream",
          "name": "stderr",
          "text": [
            " 42%|████▏     | 697/1654 [00:19<00:25, 38.21it/s]"
          ]
        },
        {
          "output_type": "stream",
          "name": "stdout",
          "text": [
            "Epoch [2/5] Batch [691/1654] Loss: 2.0932\n",
            "Epoch [2/5] Batch [692/1654] Loss: 2.3227\n",
            "Epoch [2/5] Batch [693/1654] Loss: 2.0142\n",
            "Epoch [2/5] Batch [694/1654] Loss: 2.1188\n",
            "Epoch [2/5] Batch [695/1654] Loss: 1.9403\n",
            "Epoch [2/5] Batch [696/1654] Loss: 2.0413\n",
            "Epoch [2/5] Batch [697/1654] Loss: 1.9752\n",
            "Epoch [2/5] Batch [698/1654] Loss: 2.0156\n"
          ]
        },
        {
          "output_type": "stream",
          "name": "stderr",
          "text": [
            " 43%|████▎     | 705/1654 [00:19<00:24, 38.04it/s]"
          ]
        },
        {
          "output_type": "stream",
          "name": "stdout",
          "text": [
            "Epoch [2/5] Batch [699/1654] Loss: 2.0662\n",
            "Epoch [2/5] Batch [700/1654] Loss: 1.9557\n",
            "Epoch [2/5] Batch [701/1654] Loss: 1.9373\n",
            "Epoch [2/5] Batch [702/1654] Loss: 2.3338\n",
            "Epoch [2/5] Batch [703/1654] Loss: 1.7617\n",
            "Epoch [2/5] Batch [704/1654] Loss: 1.7120\n",
            "Epoch [2/5] Batch [705/1654] Loss: 2.0038\n",
            "Epoch [2/5] Batch [706/1654] Loss: 1.8018\n"
          ]
        },
        {
          "output_type": "stream",
          "name": "stderr",
          "text": [
            " 43%|████▎     | 713/1654 [00:19<00:24, 38.10it/s]"
          ]
        },
        {
          "output_type": "stream",
          "name": "stdout",
          "text": [
            "Epoch [2/5] Batch [707/1654] Loss: 1.9157\n",
            "Epoch [2/5] Batch [708/1654] Loss: 1.8018\n",
            "Epoch [2/5] Batch [709/1654] Loss: 1.6342\n",
            "Epoch [2/5] Batch [710/1654] Loss: 1.9380\n",
            "Epoch [2/5] Batch [711/1654] Loss: 1.9979\n",
            "Epoch [2/5] Batch [712/1654] Loss: 1.9482\n",
            "Epoch [2/5] Batch [713/1654] Loss: 1.7059\n",
            "Epoch [2/5] Batch [714/1654] Loss: 1.9899\n"
          ]
        },
        {
          "output_type": "stream",
          "name": "stderr",
          "text": [
            " 44%|████▎     | 721/1654 [00:19<00:25, 36.74it/s]"
          ]
        },
        {
          "output_type": "stream",
          "name": "stdout",
          "text": [
            "Epoch [2/5] Batch [715/1654] Loss: 2.0380\n",
            "Epoch [2/5] Batch [716/1654] Loss: 1.7103\n",
            "Epoch [2/5] Batch [717/1654] Loss: 1.7283\n",
            "Epoch [2/5] Batch [718/1654] Loss: 1.5542\n",
            "Epoch [2/5] Batch [719/1654] Loss: 1.8613\n",
            "Epoch [2/5] Batch [720/1654] Loss: 1.7535\n",
            "Epoch [2/5] Batch [721/1654] Loss: 2.0548\n",
            "Epoch [2/5] Batch [722/1654] Loss: 2.0039\n"
          ]
        },
        {
          "output_type": "stream",
          "name": "stderr",
          "text": [
            " 44%|████▍     | 729/1654 [00:20<00:25, 36.97it/s]"
          ]
        },
        {
          "output_type": "stream",
          "name": "stdout",
          "text": [
            "Epoch [2/5] Batch [723/1654] Loss: 1.7296\n",
            "Epoch [2/5] Batch [724/1654] Loss: 2.0271\n",
            "Epoch [2/5] Batch [725/1654] Loss: 2.0183\n",
            "Epoch [2/5] Batch [726/1654] Loss: 1.9084\n",
            "Epoch [2/5] Batch [727/1654] Loss: 1.7873\n",
            "Epoch [2/5] Batch [728/1654] Loss: 1.7204\n",
            "Epoch [2/5] Batch [729/1654] Loss: 2.2823\n",
            "Epoch [2/5] Batch [730/1654] Loss: 2.0345\n"
          ]
        },
        {
          "output_type": "stream",
          "name": "stderr",
          "text": [
            " 45%|████▍     | 737/1654 [00:20<00:24, 37.69it/s]"
          ]
        },
        {
          "output_type": "stream",
          "name": "stdout",
          "text": [
            "Epoch [2/5] Batch [731/1654] Loss: 1.7812\n",
            "Epoch [2/5] Batch [732/1654] Loss: 1.8433\n",
            "Epoch [2/5] Batch [733/1654] Loss: 2.3072\n",
            "Epoch [2/5] Batch [734/1654] Loss: 1.9277\n",
            "Epoch [2/5] Batch [735/1654] Loss: 1.8569\n",
            "Epoch [2/5] Batch [736/1654] Loss: 2.2156\n",
            "Epoch [2/5] Batch [737/1654] Loss: 2.0947\n",
            "Epoch [2/5] Batch [738/1654] Loss: 1.8292\n"
          ]
        },
        {
          "output_type": "stream",
          "name": "stderr",
          "text": [
            " 45%|████▌     | 745/1654 [00:20<00:24, 37.85it/s]"
          ]
        },
        {
          "output_type": "stream",
          "name": "stdout",
          "text": [
            "Epoch [2/5] Batch [739/1654] Loss: 2.0232\n",
            "Epoch [2/5] Batch [740/1654] Loss: 1.9792\n",
            "Epoch [2/5] Batch [741/1654] Loss: 2.1427\n",
            "Epoch [2/5] Batch [742/1654] Loss: 1.7614\n",
            "Epoch [2/5] Batch [743/1654] Loss: 2.1249\n",
            "Epoch [2/5] Batch [744/1654] Loss: 2.1692\n",
            "Epoch [2/5] Batch [745/1654] Loss: 2.1272\n",
            "Epoch [2/5] Batch [746/1654] Loss: 1.9524\n"
          ]
        },
        {
          "output_type": "stream",
          "name": "stderr",
          "text": [
            " 46%|████▌     | 753/1654 [00:20<00:23, 38.23it/s]"
          ]
        },
        {
          "output_type": "stream",
          "name": "stdout",
          "text": [
            "Epoch [2/5] Batch [747/1654] Loss: 2.0569\n",
            "Epoch [2/5] Batch [748/1654] Loss: 2.0486\n",
            "Epoch [2/5] Batch [749/1654] Loss: 1.8487\n",
            "Epoch [2/5] Batch [750/1654] Loss: 1.9164\n",
            "Epoch [2/5] Batch [751/1654] Loss: 1.7105\n",
            "Epoch [2/5] Batch [752/1654] Loss: 2.0989\n",
            "Epoch [2/5] Batch [753/1654] Loss: 1.8152\n",
            "Epoch [2/5] Batch [754/1654] Loss: 2.0471\n"
          ]
        },
        {
          "output_type": "stream",
          "name": "stderr",
          "text": [
            " 46%|████▌     | 761/1654 [00:20<00:24, 35.76it/s]"
          ]
        },
        {
          "output_type": "stream",
          "name": "stdout",
          "text": [
            "Epoch [2/5] Batch [755/1654] Loss: 1.8690\n",
            "Epoch [2/5] Batch [756/1654] Loss: 1.8588\n",
            "Epoch [2/5] Batch [757/1654] Loss: 1.6781\n",
            "Epoch [2/5] Batch [758/1654] Loss: 2.2839\n",
            "Epoch [2/5] Batch [759/1654] Loss: 1.9145\n",
            "Epoch [2/5] Batch [760/1654] Loss: 1.9500\n",
            "Epoch [2/5] Batch [761/1654] Loss: 2.0040\n"
          ]
        },
        {
          "output_type": "stream",
          "name": "stderr",
          "text": [
            "\r 46%|████▋     | 765/1654 [00:21<00:26, 33.14it/s]"
          ]
        },
        {
          "output_type": "stream",
          "name": "stdout",
          "text": [
            "Epoch [2/5] Batch [762/1654] Loss: 1.9858\n",
            "Epoch [2/5] Batch [763/1654] Loss: 1.8450\n",
            "Epoch [2/5] Batch [764/1654] Loss: 1.5519\n",
            "Epoch [2/5] Batch [765/1654] Loss: 2.0435\n",
            "Epoch [2/5] Batch [766/1654] Loss: 2.1194\n",
            "Epoch [2/5] Batch [767/1654] Loss: 1.8977\n"
          ]
        },
        {
          "output_type": "stream",
          "name": "stderr",
          "text": [
            " 47%|████▋     | 773/1654 [00:21<00:28, 31.21it/s]"
          ]
        },
        {
          "output_type": "stream",
          "name": "stdout",
          "text": [
            "Epoch [2/5] Batch [768/1654] Loss: 1.8166\n",
            "Epoch [2/5] Batch [769/1654] Loss: 2.1712\n",
            "Epoch [2/5] Batch [770/1654] Loss: 1.8472\n",
            "Epoch [2/5] Batch [771/1654] Loss: 1.7021\n",
            "Epoch [2/5] Batch [772/1654] Loss: 2.0448\n",
            "Epoch [2/5] Batch [773/1654] Loss: 1.8545\n"
          ]
        },
        {
          "output_type": "stream",
          "name": "stderr",
          "text": [
            "\r 47%|████▋     | 777/1654 [00:21<00:29, 30.09it/s]"
          ]
        },
        {
          "output_type": "stream",
          "name": "stdout",
          "text": [
            "Epoch [2/5] Batch [774/1654] Loss: 1.6870\n",
            "Epoch [2/5] Batch [775/1654] Loss: 1.8387\n",
            "Epoch [2/5] Batch [776/1654] Loss: 2.0660\n",
            "Epoch [2/5] Batch [777/1654] Loss: 2.0068\n",
            "Epoch [2/5] Batch [778/1654] Loss: 1.5134\n",
            "Epoch [2/5] Batch [779/1654] Loss: 1.7819\n",
            "Epoch [2/5] Batch [780/1654] Loss: 2.1116\n"
          ]
        },
        {
          "output_type": "stream",
          "name": "stderr",
          "text": [
            " 47%|████▋     | 785/1654 [00:21<00:28, 30.77it/s]"
          ]
        },
        {
          "output_type": "stream",
          "name": "stdout",
          "text": [
            "Epoch [2/5] Batch [781/1654] Loss: 2.0678\n",
            "Epoch [2/5] Batch [782/1654] Loss: 1.8164\n",
            "Epoch [2/5] Batch [783/1654] Loss: 1.8915\n",
            "Epoch [2/5] Batch [784/1654] Loss: 2.1661\n",
            "Epoch [2/5] Batch [785/1654] Loss: 2.0447\n",
            "Epoch [2/5] Batch [786/1654] Loss: 2.4097\n",
            "Epoch [2/5] Batch [787/1654] Loss: 2.1360\n"
          ]
        },
        {
          "output_type": "stream",
          "name": "stderr",
          "text": [
            " 48%|████▊     | 792/1654 [00:22<00:29, 29.09it/s]"
          ]
        },
        {
          "output_type": "stream",
          "name": "stdout",
          "text": [
            "Epoch [2/5] Batch [788/1654] Loss: 1.9288\n",
            "Epoch [2/5] Batch [789/1654] Loss: 1.8783\n",
            "Epoch [2/5] Batch [790/1654] Loss: 1.9070\n",
            "Epoch [2/5] Batch [791/1654] Loss: 2.0475\n",
            "Epoch [2/5] Batch [792/1654] Loss: 2.4287\n",
            "Epoch [2/5] Batch [793/1654] Loss: 2.2174\n"
          ]
        },
        {
          "output_type": "stream",
          "name": "stderr",
          "text": [
            " 48%|████▊     | 798/1654 [00:22<00:29, 28.89it/s]"
          ]
        },
        {
          "output_type": "stream",
          "name": "stdout",
          "text": [
            "Epoch [2/5] Batch [794/1654] Loss: 1.7996\n",
            "Epoch [2/5] Batch [795/1654] Loss: 1.8585\n",
            "Epoch [2/5] Batch [796/1654] Loss: 1.8286\n",
            "Epoch [2/5] Batch [797/1654] Loss: 2.0951\n",
            "Epoch [2/5] Batch [798/1654] Loss: 2.2474\n",
            "Epoch [2/5] Batch [799/1654] Loss: 1.7907\n"
          ]
        },
        {
          "output_type": "stream",
          "name": "stderr",
          "text": [
            " 49%|████▊     | 804/1654 [00:22<00:29, 28.51it/s]"
          ]
        },
        {
          "output_type": "stream",
          "name": "stdout",
          "text": [
            "Epoch [2/5] Batch [800/1654] Loss: 1.9137\n",
            "Epoch [2/5] Batch [801/1654] Loss: 1.7143\n",
            "Epoch [2/5] Batch [802/1654] Loss: 2.1622\n",
            "Epoch [2/5] Batch [803/1654] Loss: 2.1911\n",
            "Epoch [2/5] Batch [804/1654] Loss: 1.8527\n",
            "Epoch [2/5] Batch [805/1654] Loss: 1.9574\n"
          ]
        },
        {
          "output_type": "stream",
          "name": "stderr",
          "text": [
            " 49%|████▉     | 810/1654 [00:22<00:30, 28.09it/s]"
          ]
        },
        {
          "output_type": "stream",
          "name": "stdout",
          "text": [
            "Epoch [2/5] Batch [806/1654] Loss: 2.1942\n",
            "Epoch [2/5] Batch [807/1654] Loss: 1.6008\n",
            "Epoch [2/5] Batch [808/1654] Loss: 1.9223\n",
            "Epoch [2/5] Batch [809/1654] Loss: 2.0413\n",
            "Epoch [2/5] Batch [810/1654] Loss: 1.6671\n",
            "Epoch [2/5] Batch [811/1654] Loss: 2.1625\n"
          ]
        },
        {
          "output_type": "stream",
          "name": "stderr",
          "text": [
            " 49%|████▉     | 816/1654 [00:22<00:32, 26.08it/s]"
          ]
        },
        {
          "output_type": "stream",
          "name": "stdout",
          "text": [
            "Epoch [2/5] Batch [812/1654] Loss: 2.0926\n",
            "Epoch [2/5] Batch [813/1654] Loss: 2.1644\n",
            "Epoch [2/5] Batch [814/1654] Loss: 1.9215\n",
            "Epoch [2/5] Batch [815/1654] Loss: 2.1510\n",
            "Epoch [2/5] Batch [816/1654] Loss: 1.9374\n",
            "Epoch [2/5] Batch [817/1654] Loss: 1.9970\n"
          ]
        },
        {
          "output_type": "stream",
          "name": "stderr",
          "text": [
            " 50%|████▉     | 822/1654 [00:23<00:31, 26.71it/s]"
          ]
        },
        {
          "output_type": "stream",
          "name": "stdout",
          "text": [
            "Epoch [2/5] Batch [818/1654] Loss: 1.9797\n",
            "Epoch [2/5] Batch [819/1654] Loss: 1.9217\n",
            "Epoch [2/5] Batch [820/1654] Loss: 1.8680\n",
            "Epoch [2/5] Batch [821/1654] Loss: 2.0070\n",
            "Epoch [2/5] Batch [822/1654] Loss: 1.7575\n",
            "Epoch [2/5] Batch [823/1654] Loss: 2.3470\n",
            "Epoch [2/5] Batch [824/1654] Loss: 2.0166\n"
          ]
        },
        {
          "output_type": "stream",
          "name": "stderr",
          "text": [
            " 50%|█████     | 830/1654 [00:23<00:26, 31.58it/s]"
          ]
        },
        {
          "output_type": "stream",
          "name": "stdout",
          "text": [
            "Epoch [2/5] Batch [825/1654] Loss: 1.8299\n",
            "Epoch [2/5] Batch [826/1654] Loss: 2.4933\n",
            "Epoch [2/5] Batch [827/1654] Loss: 1.9417\n",
            "Epoch [2/5] Batch [828/1654] Loss: 1.7755\n",
            "Epoch [2/5] Batch [829/1654] Loss: 1.9677\n",
            "Epoch [2/5] Batch [830/1654] Loss: 2.0494\n",
            "Epoch [2/5] Batch [831/1654] Loss: 1.5987\n",
            "Epoch [2/5] Batch [832/1654] Loss: 1.8775\n"
          ]
        },
        {
          "output_type": "stream",
          "name": "stderr",
          "text": [
            " 51%|█████     | 838/1654 [00:23<00:23, 34.13it/s]"
          ]
        },
        {
          "output_type": "stream",
          "name": "stdout",
          "text": [
            "Epoch [2/5] Batch [833/1654] Loss: 1.7071\n",
            "Epoch [2/5] Batch [834/1654] Loss: 1.9730\n",
            "Epoch [2/5] Batch [835/1654] Loss: 1.7745\n",
            "Epoch [2/5] Batch [836/1654] Loss: 2.0888\n",
            "Epoch [2/5] Batch [837/1654] Loss: 1.9655\n",
            "Epoch [2/5] Batch [838/1654] Loss: 2.3196\n",
            "Epoch [2/5] Batch [839/1654] Loss: 2.1364\n",
            "Epoch [2/5] Batch [840/1654] Loss: 1.9516\n"
          ]
        },
        {
          "output_type": "stream",
          "name": "stderr",
          "text": [
            " 51%|█████     | 846/1654 [00:23<00:23, 35.06it/s]"
          ]
        },
        {
          "output_type": "stream",
          "name": "stdout",
          "text": [
            "Epoch [2/5] Batch [841/1654] Loss: 1.9051\n",
            "Epoch [2/5] Batch [842/1654] Loss: 1.6493\n",
            "Epoch [2/5] Batch [843/1654] Loss: 1.8865\n",
            "Epoch [2/5] Batch [844/1654] Loss: 2.0003\n",
            "Epoch [2/5] Batch [845/1654] Loss: 2.1556\n",
            "Epoch [2/5] Batch [846/1654] Loss: 1.9502\n",
            "Epoch [2/5] Batch [847/1654] Loss: 1.7518\n",
            "Epoch [2/5] Batch [848/1654] Loss: 1.9342\n"
          ]
        },
        {
          "output_type": "stream",
          "name": "stderr",
          "text": [
            " 52%|█████▏    | 854/1654 [00:24<00:22, 35.38it/s]"
          ]
        },
        {
          "output_type": "stream",
          "name": "stdout",
          "text": [
            "Epoch [2/5] Batch [849/1654] Loss: 2.1913\n",
            "Epoch [2/5] Batch [850/1654] Loss: 1.7797\n",
            "Epoch [2/5] Batch [851/1654] Loss: 2.1857\n",
            "Epoch [2/5] Batch [852/1654] Loss: 2.0724\n",
            "Epoch [2/5] Batch [853/1654] Loss: 1.9316\n",
            "Epoch [2/5] Batch [854/1654] Loss: 2.2740\n",
            "Epoch [2/5] Batch [855/1654] Loss: 1.6542\n",
            "Epoch [2/5] Batch [856/1654] Loss: 2.0220\n"
          ]
        },
        {
          "output_type": "stream",
          "name": "stderr",
          "text": [
            " 52%|█████▏    | 862/1654 [00:24<00:22, 35.78it/s]"
          ]
        },
        {
          "output_type": "stream",
          "name": "stdout",
          "text": [
            "Epoch [2/5] Batch [857/1654] Loss: 1.7254\n",
            "Epoch [2/5] Batch [858/1654] Loss: 1.9638\n",
            "Epoch [2/5] Batch [859/1654] Loss: 1.8767\n",
            "Epoch [2/5] Batch [860/1654] Loss: 1.7794\n",
            "Epoch [2/5] Batch [861/1654] Loss: 2.0814\n",
            "Epoch [2/5] Batch [862/1654] Loss: 1.8714\n",
            "Epoch [2/5] Batch [863/1654] Loss: 1.9410\n",
            "Epoch [2/5] Batch [864/1654] Loss: 1.8417\n"
          ]
        },
        {
          "output_type": "stream",
          "name": "stderr",
          "text": [
            " 53%|█████▎    | 870/1654 [00:24<00:21, 36.95it/s]"
          ]
        },
        {
          "output_type": "stream",
          "name": "stdout",
          "text": [
            "Epoch [2/5] Batch [865/1654] Loss: 2.1587\n",
            "Epoch [2/5] Batch [866/1654] Loss: 1.8206\n",
            "Epoch [2/5] Batch [867/1654] Loss: 2.0519\n",
            "Epoch [2/5] Batch [868/1654] Loss: 2.1541\n",
            "Epoch [2/5] Batch [869/1654] Loss: 1.9210\n",
            "Epoch [2/5] Batch [870/1654] Loss: 1.9654\n",
            "Epoch [2/5] Batch [871/1654] Loss: 2.0114\n",
            "Epoch [2/5] Batch [872/1654] Loss: 1.8645\n"
          ]
        },
        {
          "output_type": "stream",
          "name": "stderr",
          "text": [
            " 53%|█████▎    | 878/1654 [00:24<00:20, 37.19it/s]"
          ]
        },
        {
          "output_type": "stream",
          "name": "stdout",
          "text": [
            "Epoch [2/5] Batch [873/1654] Loss: 1.8396\n",
            "Epoch [2/5] Batch [874/1654] Loss: 2.1533\n",
            "Epoch [2/5] Batch [875/1654] Loss: 2.1175\n",
            "Epoch [2/5] Batch [876/1654] Loss: 2.0171\n",
            "Epoch [2/5] Batch [877/1654] Loss: 2.2343\n",
            "Epoch [2/5] Batch [878/1654] Loss: 1.7037\n",
            "Epoch [2/5] Batch [879/1654] Loss: 1.5797\n",
            "Epoch [2/5] Batch [880/1654] Loss: 1.4215\n"
          ]
        },
        {
          "output_type": "stream",
          "name": "stderr",
          "text": [
            " 54%|█████▎    | 886/1654 [00:24<00:20, 36.96it/s]"
          ]
        },
        {
          "output_type": "stream",
          "name": "stdout",
          "text": [
            "Epoch [2/5] Batch [881/1654] Loss: 2.0710\n",
            "Epoch [2/5] Batch [882/1654] Loss: 2.1153\n",
            "Epoch [2/5] Batch [883/1654] Loss: 1.6060\n",
            "Epoch [2/5] Batch [884/1654] Loss: 1.8865\n",
            "Epoch [2/5] Batch [885/1654] Loss: 1.4780\n",
            "Epoch [2/5] Batch [886/1654] Loss: 2.1989\n",
            "Epoch [2/5] Batch [887/1654] Loss: 2.1645\n",
            "Epoch [2/5] Batch [888/1654] Loss: 1.7411\n"
          ]
        },
        {
          "output_type": "stream",
          "name": "stderr",
          "text": [
            " 54%|█████▍    | 894/1654 [00:25<00:20, 36.22it/s]"
          ]
        },
        {
          "output_type": "stream",
          "name": "stdout",
          "text": [
            "Epoch [2/5] Batch [889/1654] Loss: 1.9668\n",
            "Epoch [2/5] Batch [890/1654] Loss: 1.8738\n",
            "Epoch [2/5] Batch [891/1654] Loss: 1.8109\n",
            "Epoch [2/5] Batch [892/1654] Loss: 1.9826\n",
            "Epoch [2/5] Batch [893/1654] Loss: 1.8832\n",
            "Epoch [2/5] Batch [894/1654] Loss: 1.6960\n",
            "Epoch [2/5] Batch [895/1654] Loss: 1.9616\n",
            "Epoch [2/5] Batch [896/1654] Loss: 1.9461\n"
          ]
        },
        {
          "output_type": "stream",
          "name": "stderr",
          "text": [
            " 55%|█████▍    | 902/1654 [00:25<00:20, 36.31it/s]"
          ]
        },
        {
          "output_type": "stream",
          "name": "stdout",
          "text": [
            "Epoch [2/5] Batch [897/1654] Loss: 1.9238\n",
            "Epoch [2/5] Batch [898/1654] Loss: 2.0905\n",
            "Epoch [2/5] Batch [899/1654] Loss: 2.1932\n",
            "Epoch [2/5] Batch [900/1654] Loss: 1.8170\n",
            "Epoch [2/5] Batch [901/1654] Loss: 1.9106\n",
            "Epoch [2/5] Batch [902/1654] Loss: 1.9863\n",
            "Epoch [2/5] Batch [903/1654] Loss: 1.5660\n",
            "Epoch [2/5] Batch [904/1654] Loss: 1.9737\n"
          ]
        },
        {
          "output_type": "stream",
          "name": "stderr",
          "text": [
            " 55%|█████▌    | 910/1654 [00:25<00:20, 36.90it/s]"
          ]
        },
        {
          "output_type": "stream",
          "name": "stdout",
          "text": [
            "Epoch [2/5] Batch [905/1654] Loss: 1.6664\n",
            "Epoch [2/5] Batch [906/1654] Loss: 1.9312\n",
            "Epoch [2/5] Batch [907/1654] Loss: 1.9927\n",
            "Epoch [2/5] Batch [908/1654] Loss: 2.1667\n",
            "Epoch [2/5] Batch [909/1654] Loss: 1.7018\n",
            "Epoch [2/5] Batch [910/1654] Loss: 1.5901\n",
            "Epoch [2/5] Batch [911/1654] Loss: 1.5718\n",
            "Epoch [2/5] Batch [912/1654] Loss: 1.9567\n"
          ]
        },
        {
          "output_type": "stream",
          "name": "stderr",
          "text": [
            " 56%|█████▌    | 918/1654 [00:25<00:19, 37.21it/s]"
          ]
        },
        {
          "output_type": "stream",
          "name": "stdout",
          "text": [
            "Epoch [2/5] Batch [913/1654] Loss: 1.9218\n",
            "Epoch [2/5] Batch [914/1654] Loss: 1.7399\n",
            "Epoch [2/5] Batch [915/1654] Loss: 2.1164\n",
            "Epoch [2/5] Batch [916/1654] Loss: 1.8670\n",
            "Epoch [2/5] Batch [917/1654] Loss: 1.9709\n",
            "Epoch [2/5] Batch [918/1654] Loss: 1.8778\n",
            "Epoch [2/5] Batch [919/1654] Loss: 1.9927\n",
            "Epoch [2/5] Batch [920/1654] Loss: 1.9109\n"
          ]
        },
        {
          "output_type": "stream",
          "name": "stderr",
          "text": [
            " 56%|█████▌    | 926/1654 [00:25<00:19, 37.12it/s]"
          ]
        },
        {
          "output_type": "stream",
          "name": "stdout",
          "text": [
            "Epoch [2/5] Batch [921/1654] Loss: 1.6429\n",
            "Epoch [2/5] Batch [922/1654] Loss: 1.8230\n",
            "Epoch [2/5] Batch [923/1654] Loss: 1.7903\n",
            "Epoch [2/5] Batch [924/1654] Loss: 2.1562\n",
            "Epoch [2/5] Batch [925/1654] Loss: 2.1097\n",
            "Epoch [2/5] Batch [926/1654] Loss: 1.8900\n",
            "Epoch [2/5] Batch [927/1654] Loss: 1.9656\n",
            "Epoch [2/5] Batch [928/1654] Loss: 1.8853\n"
          ]
        },
        {
          "output_type": "stream",
          "name": "stderr",
          "text": [
            " 56%|█████▋    | 934/1654 [00:26<00:19, 36.41it/s]"
          ]
        },
        {
          "output_type": "stream",
          "name": "stdout",
          "text": [
            "Epoch [2/5] Batch [929/1654] Loss: 1.8595\n",
            "Epoch [2/5] Batch [930/1654] Loss: 1.9207\n",
            "Epoch [2/5] Batch [931/1654] Loss: 1.9358\n",
            "Epoch [2/5] Batch [932/1654] Loss: 1.6226\n",
            "Epoch [2/5] Batch [933/1654] Loss: 1.8829\n",
            "Epoch [2/5] Batch [934/1654] Loss: 1.9437\n",
            "Epoch [2/5] Batch [935/1654] Loss: 1.5933\n",
            "Epoch [2/5] Batch [936/1654] Loss: 2.0281\n"
          ]
        },
        {
          "output_type": "stream",
          "name": "stderr",
          "text": [
            " 57%|█████▋    | 942/1654 [00:26<00:19, 36.89it/s]"
          ]
        },
        {
          "output_type": "stream",
          "name": "stdout",
          "text": [
            "Epoch [2/5] Batch [937/1654] Loss: 1.8540\n",
            "Epoch [2/5] Batch [938/1654] Loss: 1.9909\n",
            "Epoch [2/5] Batch [939/1654] Loss: 1.9733\n",
            "Epoch [2/5] Batch [940/1654] Loss: 1.8050\n",
            "Epoch [2/5] Batch [941/1654] Loss: 1.8259\n",
            "Epoch [2/5] Batch [942/1654] Loss: 1.9990\n",
            "Epoch [2/5] Batch [943/1654] Loss: 1.8535\n",
            "Epoch [2/5] Batch [944/1654] Loss: 2.0538\n"
          ]
        },
        {
          "output_type": "stream",
          "name": "stderr",
          "text": [
            " 57%|█████▋    | 950/1654 [00:26<00:18, 37.80it/s]"
          ]
        },
        {
          "output_type": "stream",
          "name": "stdout",
          "text": [
            "Epoch [2/5] Batch [945/1654] Loss: 2.0800\n",
            "Epoch [2/5] Batch [946/1654] Loss: 2.1384\n",
            "Epoch [2/5] Batch [947/1654] Loss: 1.8792\n",
            "Epoch [2/5] Batch [948/1654] Loss: 1.8736\n",
            "Epoch [2/5] Batch [949/1654] Loss: 1.7489\n",
            "Epoch [2/5] Batch [950/1654] Loss: 1.9878\n",
            "Epoch [2/5] Batch [951/1654] Loss: 1.7190\n",
            "Epoch [2/5] Batch [952/1654] Loss: 2.0553\n"
          ]
        },
        {
          "output_type": "stream",
          "name": "stderr",
          "text": [
            " 58%|█████▊    | 958/1654 [00:26<00:18, 37.38it/s]"
          ]
        },
        {
          "output_type": "stream",
          "name": "stdout",
          "text": [
            "Epoch [2/5] Batch [953/1654] Loss: 1.7562\n",
            "Epoch [2/5] Batch [954/1654] Loss: 1.6221\n",
            "Epoch [2/5] Batch [955/1654] Loss: 1.7251\n",
            "Epoch [2/5] Batch [956/1654] Loss: 1.8004\n",
            "Epoch [2/5] Batch [957/1654] Loss: 1.8578\n",
            "Epoch [2/5] Batch [958/1654] Loss: 1.8925\n",
            "Epoch [2/5] Batch [959/1654] Loss: 2.0376\n",
            "Epoch [2/5] Batch [960/1654] Loss: 1.9662\n"
          ]
        },
        {
          "output_type": "stream",
          "name": "stderr",
          "text": [
            " 58%|█████▊    | 966/1654 [00:27<00:18, 37.42it/s]"
          ]
        },
        {
          "output_type": "stream",
          "name": "stdout",
          "text": [
            "Epoch [2/5] Batch [961/1654] Loss: 1.8179\n",
            "Epoch [2/5] Batch [962/1654] Loss: 1.9072\n",
            "Epoch [2/5] Batch [963/1654] Loss: 2.0355\n",
            "Epoch [2/5] Batch [964/1654] Loss: 2.0905\n",
            "Epoch [2/5] Batch [965/1654] Loss: 2.1926\n",
            "Epoch [2/5] Batch [966/1654] Loss: 1.7098\n",
            "Epoch [2/5] Batch [967/1654] Loss: 1.9069\n",
            "Epoch [2/5] Batch [968/1654] Loss: 2.2998\n"
          ]
        },
        {
          "output_type": "stream",
          "name": "stderr",
          "text": [
            " 59%|█████▉    | 974/1654 [00:27<00:18, 36.85it/s]"
          ]
        },
        {
          "output_type": "stream",
          "name": "stdout",
          "text": [
            "Epoch [2/5] Batch [969/1654] Loss: 1.8902\n",
            "Epoch [2/5] Batch [970/1654] Loss: 1.8506\n",
            "Epoch [2/5] Batch [971/1654] Loss: 2.0291\n",
            "Epoch [2/5] Batch [972/1654] Loss: 2.2231\n",
            "Epoch [2/5] Batch [973/1654] Loss: 1.6971\n",
            "Epoch [2/5] Batch [974/1654] Loss: 1.7498\n",
            "Epoch [2/5] Batch [975/1654] Loss: 1.9583\n",
            "Epoch [2/5] Batch [976/1654] Loss: 1.9955\n"
          ]
        },
        {
          "output_type": "stream",
          "name": "stderr",
          "text": [
            " 59%|█████▉    | 982/1654 [00:27<00:18, 37.20it/s]"
          ]
        },
        {
          "output_type": "stream",
          "name": "stdout",
          "text": [
            "Epoch [2/5] Batch [977/1654] Loss: 1.9617\n",
            "Epoch [2/5] Batch [978/1654] Loss: 2.1700\n",
            "Epoch [2/5] Batch [979/1654] Loss: 1.9990\n",
            "Epoch [2/5] Batch [980/1654] Loss: 2.0357\n",
            "Epoch [2/5] Batch [981/1654] Loss: 1.6874\n",
            "Epoch [2/5] Batch [982/1654] Loss: 2.2749\n",
            "Epoch [2/5] Batch [983/1654] Loss: 1.9256\n",
            "Epoch [2/5] Batch [984/1654] Loss: 1.8250\n"
          ]
        },
        {
          "output_type": "stream",
          "name": "stderr",
          "text": [
            " 60%|█████▉    | 990/1654 [00:27<00:17, 38.10it/s]"
          ]
        },
        {
          "output_type": "stream",
          "name": "stdout",
          "text": [
            "Epoch [2/5] Batch [985/1654] Loss: 1.8279\n",
            "Epoch [2/5] Batch [986/1654] Loss: 1.6995\n",
            "Epoch [2/5] Batch [987/1654] Loss: 1.8352\n",
            "Epoch [2/5] Batch [988/1654] Loss: 2.0889\n",
            "Epoch [2/5] Batch [989/1654] Loss: 1.7693\n",
            "Epoch [2/5] Batch [990/1654] Loss: 1.8414\n",
            "Epoch [2/5] Batch [991/1654] Loss: 2.0238\n",
            "Epoch [2/5] Batch [992/1654] Loss: 2.1525\n"
          ]
        },
        {
          "output_type": "stream",
          "name": "stderr",
          "text": [
            " 60%|██████    | 998/1654 [00:27<00:17, 37.90it/s]"
          ]
        },
        {
          "output_type": "stream",
          "name": "stdout",
          "text": [
            "Epoch [2/5] Batch [993/1654] Loss: 2.0850\n",
            "Epoch [2/5] Batch [994/1654] Loss: 1.9964\n",
            "Epoch [2/5] Batch [995/1654] Loss: 2.1164\n",
            "Epoch [2/5] Batch [996/1654] Loss: 1.9741\n",
            "Epoch [2/5] Batch [997/1654] Loss: 2.0167\n",
            "Epoch [2/5] Batch [998/1654] Loss: 1.7851\n",
            "Epoch [2/5] Batch [999/1654] Loss: 1.9308\n",
            "Epoch [2/5] Batch [1000/1654] Loss: 2.2365\n"
          ]
        },
        {
          "output_type": "stream",
          "name": "stderr",
          "text": [
            " 61%|██████    | 1006/1654 [00:28<00:17, 37.24it/s]"
          ]
        },
        {
          "output_type": "stream",
          "name": "stdout",
          "text": [
            "Epoch [2/5] Batch [1001/1654] Loss: 2.0040\n",
            "Epoch [2/5] Batch [1002/1654] Loss: 1.8247\n",
            "Epoch [2/5] Batch [1003/1654] Loss: 1.9835\n",
            "Epoch [2/5] Batch [1004/1654] Loss: 1.7174\n",
            "Epoch [2/5] Batch [1005/1654] Loss: 2.3816\n",
            "Epoch [2/5] Batch [1006/1654] Loss: 2.0777\n",
            "Epoch [2/5] Batch [1007/1654] Loss: 2.0186\n",
            "Epoch [2/5] Batch [1008/1654] Loss: 1.8210\n"
          ]
        },
        {
          "output_type": "stream",
          "name": "stderr",
          "text": [
            " 61%|██████▏   | 1014/1654 [00:28<00:17, 36.77it/s]"
          ]
        },
        {
          "output_type": "stream",
          "name": "stdout",
          "text": [
            "Epoch [2/5] Batch [1009/1654] Loss: 1.9425\n",
            "Epoch [2/5] Batch [1010/1654] Loss: 1.8921\n",
            "Epoch [2/5] Batch [1011/1654] Loss: 1.6694\n",
            "Epoch [2/5] Batch [1012/1654] Loss: 2.0824\n",
            "Epoch [2/5] Batch [1013/1654] Loss: 1.9902\n",
            "Epoch [2/5] Batch [1014/1654] Loss: 1.6864\n",
            "Epoch [2/5] Batch [1015/1654] Loss: 1.9426\n",
            "Epoch [2/5] Batch [1016/1654] Loss: 2.1630\n"
          ]
        },
        {
          "output_type": "stream",
          "name": "stderr",
          "text": [
            " 62%|██████▏   | 1022/1654 [00:28<00:16, 37.24it/s]"
          ]
        },
        {
          "output_type": "stream",
          "name": "stdout",
          "text": [
            "Epoch [2/5] Batch [1017/1654] Loss: 2.0983\n",
            "Epoch [2/5] Batch [1018/1654] Loss: 1.8310\n",
            "Epoch [2/5] Batch [1019/1654] Loss: 2.1420\n",
            "Epoch [2/5] Batch [1020/1654] Loss: 2.0827\n",
            "Epoch [2/5] Batch [1021/1654] Loss: 1.6768\n",
            "Epoch [2/5] Batch [1022/1654] Loss: 1.4987\n",
            "Epoch [2/5] Batch [1023/1654] Loss: 1.9481\n",
            "Epoch [2/5] Batch [1024/1654] Loss: 1.9714\n"
          ]
        },
        {
          "output_type": "stream",
          "name": "stderr",
          "text": [
            " 62%|██████▏   | 1030/1654 [00:28<00:16, 37.55it/s]"
          ]
        },
        {
          "output_type": "stream",
          "name": "stdout",
          "text": [
            "Epoch [2/5] Batch [1025/1654] Loss: 2.2370\n",
            "Epoch [2/5] Batch [1026/1654] Loss: 2.1116\n",
            "Epoch [2/5] Batch [1027/1654] Loss: 2.1303\n",
            "Epoch [2/5] Batch [1028/1654] Loss: 2.1128\n",
            "Epoch [2/5] Batch [1029/1654] Loss: 1.8559\n",
            "Epoch [2/5] Batch [1030/1654] Loss: 1.9282\n",
            "Epoch [2/5] Batch [1031/1654] Loss: 2.3427\n",
            "Epoch [2/5] Batch [1032/1654] Loss: 1.9900\n"
          ]
        },
        {
          "output_type": "stream",
          "name": "stderr",
          "text": [
            " 63%|██████▎   | 1038/1654 [00:28<00:16, 37.85it/s]"
          ]
        },
        {
          "output_type": "stream",
          "name": "stdout",
          "text": [
            "Epoch [2/5] Batch [1033/1654] Loss: 1.7433\n",
            "Epoch [2/5] Batch [1034/1654] Loss: 1.9523\n",
            "Epoch [2/5] Batch [1035/1654] Loss: 2.1016\n",
            "Epoch [2/5] Batch [1036/1654] Loss: 1.7397\n",
            "Epoch [2/5] Batch [1037/1654] Loss: 1.9947\n",
            "Epoch [2/5] Batch [1038/1654] Loss: 1.9098\n",
            "Epoch [2/5] Batch [1039/1654] Loss: 2.2098\n",
            "Epoch [2/5] Batch [1040/1654] Loss: 1.8991\n"
          ]
        },
        {
          "output_type": "stream",
          "name": "stderr",
          "text": [
            " 63%|██████▎   | 1046/1654 [00:29<00:16, 36.68it/s]"
          ]
        },
        {
          "output_type": "stream",
          "name": "stdout",
          "text": [
            "Epoch [2/5] Batch [1041/1654] Loss: 2.1438\n",
            "Epoch [2/5] Batch [1042/1654] Loss: 1.9511\n",
            "Epoch [2/5] Batch [1043/1654] Loss: 2.0628\n",
            "Epoch [2/5] Batch [1044/1654] Loss: 1.7356\n",
            "Epoch [2/5] Batch [1045/1654] Loss: 1.9843\n",
            "Epoch [2/5] Batch [1046/1654] Loss: 2.3038\n",
            "Epoch [2/5] Batch [1047/1654] Loss: 1.9914\n"
          ]
        },
        {
          "output_type": "stream",
          "name": "stderr",
          "text": [
            " 64%|██████▎   | 1054/1654 [00:29<00:16, 37.12it/s]"
          ]
        },
        {
          "output_type": "stream",
          "name": "stdout",
          "text": [
            "Epoch [2/5] Batch [1048/1654] Loss: 1.9270\n",
            "Epoch [2/5] Batch [1049/1654] Loss: 2.2343\n",
            "Epoch [2/5] Batch [1050/1654] Loss: 2.0463\n",
            "Epoch [2/5] Batch [1051/1654] Loss: 1.7878\n",
            "Epoch [2/5] Batch [1052/1654] Loss: 2.0348\n",
            "Epoch [2/5] Batch [1053/1654] Loss: 1.6151\n",
            "Epoch [2/5] Batch [1054/1654] Loss: 1.8118\n",
            "Epoch [2/5] Batch [1055/1654] Loss: 2.0538\n"
          ]
        },
        {
          "output_type": "stream",
          "name": "stderr",
          "text": [
            " 64%|██████▍   | 1062/1654 [00:29<00:15, 37.51it/s]"
          ]
        },
        {
          "output_type": "stream",
          "name": "stdout",
          "text": [
            "Epoch [2/5] Batch [1056/1654] Loss: 2.2099\n",
            "Epoch [2/5] Batch [1057/1654] Loss: 1.9087\n",
            "Epoch [2/5] Batch [1058/1654] Loss: 2.2149\n",
            "Epoch [2/5] Batch [1059/1654] Loss: 1.9779\n",
            "Epoch [2/5] Batch [1060/1654] Loss: 1.9760\n",
            "Epoch [2/5] Batch [1061/1654] Loss: 1.9474\n",
            "Epoch [2/5] Batch [1062/1654] Loss: 2.0903\n",
            "Epoch [2/5] Batch [1063/1654] Loss: 2.0486\n"
          ]
        },
        {
          "output_type": "stream",
          "name": "stderr",
          "text": [
            " 65%|██████▍   | 1070/1654 [00:29<00:15, 37.72it/s]"
          ]
        },
        {
          "output_type": "stream",
          "name": "stdout",
          "text": [
            "Epoch [2/5] Batch [1064/1654] Loss: 1.9209\n",
            "Epoch [2/5] Batch [1065/1654] Loss: 1.7532\n",
            "Epoch [2/5] Batch [1066/1654] Loss: 2.0690\n",
            "Epoch [2/5] Batch [1067/1654] Loss: 2.0727\n",
            "Epoch [2/5] Batch [1068/1654] Loss: 1.9833\n",
            "Epoch [2/5] Batch [1069/1654] Loss: 2.1157\n",
            "Epoch [2/5] Batch [1070/1654] Loss: 2.0951\n",
            "Epoch [2/5] Batch [1071/1654] Loss: 1.5098\n"
          ]
        },
        {
          "output_type": "stream",
          "name": "stderr",
          "text": [
            " 65%|██████▌   | 1078/1654 [00:30<00:15, 38.12it/s]"
          ]
        },
        {
          "output_type": "stream",
          "name": "stdout",
          "text": [
            "Epoch [2/5] Batch [1072/1654] Loss: 1.9347\n",
            "Epoch [2/5] Batch [1073/1654] Loss: 1.6762\n",
            "Epoch [2/5] Batch [1074/1654] Loss: 1.9775\n",
            "Epoch [2/5] Batch [1075/1654] Loss: 1.8204\n",
            "Epoch [2/5] Batch [1076/1654] Loss: 1.7682\n",
            "Epoch [2/5] Batch [1077/1654] Loss: 1.4626\n",
            "Epoch [2/5] Batch [1078/1654] Loss: 2.0639\n",
            "Epoch [2/5] Batch [1079/1654] Loss: 2.0891\n"
          ]
        },
        {
          "output_type": "stream",
          "name": "stderr",
          "text": [
            " 66%|██████▌   | 1086/1654 [00:30<00:15, 36.86it/s]"
          ]
        },
        {
          "output_type": "stream",
          "name": "stdout",
          "text": [
            "Epoch [2/5] Batch [1080/1654] Loss: 2.1464\n",
            "Epoch [2/5] Batch [1081/1654] Loss: 1.6200\n",
            "Epoch [2/5] Batch [1082/1654] Loss: 2.0261\n",
            "Epoch [2/5] Batch [1083/1654] Loss: 1.7596\n",
            "Epoch [2/5] Batch [1084/1654] Loss: 1.8070\n",
            "Epoch [2/5] Batch [1085/1654] Loss: 1.7973\n",
            "Epoch [2/5] Batch [1086/1654] Loss: 2.1638\n",
            "Epoch [2/5] Batch [1087/1654] Loss: 1.9560\n"
          ]
        },
        {
          "output_type": "stream",
          "name": "stderr",
          "text": [
            " 66%|██████▌   | 1094/1654 [00:30<00:15, 37.01it/s]"
          ]
        },
        {
          "output_type": "stream",
          "name": "stdout",
          "text": [
            "Epoch [2/5] Batch [1088/1654] Loss: 1.9252\n",
            "Epoch [2/5] Batch [1089/1654] Loss: 2.1332\n",
            "Epoch [2/5] Batch [1090/1654] Loss: 2.0394\n",
            "Epoch [2/5] Batch [1091/1654] Loss: 1.8045\n",
            "Epoch [2/5] Batch [1092/1654] Loss: 1.6552\n",
            "Epoch [2/5] Batch [1093/1654] Loss: 1.7376\n",
            "Epoch [2/5] Batch [1094/1654] Loss: 2.1280\n",
            "Epoch [2/5] Batch [1095/1654] Loss: 1.8248\n"
          ]
        },
        {
          "output_type": "stream",
          "name": "stderr",
          "text": [
            " 67%|██████▋   | 1102/1654 [00:30<00:14, 37.79it/s]"
          ]
        },
        {
          "output_type": "stream",
          "name": "stdout",
          "text": [
            "Epoch [2/5] Batch [1096/1654] Loss: 1.9029\n",
            "Epoch [2/5] Batch [1097/1654] Loss: 2.2652\n",
            "Epoch [2/5] Batch [1098/1654] Loss: 2.0422\n",
            "Epoch [2/5] Batch [1099/1654] Loss: 1.9314\n",
            "Epoch [2/5] Batch [1100/1654] Loss: 1.8322\n",
            "Epoch [2/5] Batch [1101/1654] Loss: 2.1217\n",
            "Epoch [2/5] Batch [1102/1654] Loss: 1.8995\n",
            "Epoch [2/5] Batch [1103/1654] Loss: 1.8389\n"
          ]
        },
        {
          "output_type": "stream",
          "name": "stderr",
          "text": [
            " 67%|██████▋   | 1110/1654 [00:30<00:14, 37.89it/s]"
          ]
        },
        {
          "output_type": "stream",
          "name": "stdout",
          "text": [
            "Epoch [2/5] Batch [1104/1654] Loss: 1.8780\n",
            "Epoch [2/5] Batch [1105/1654] Loss: 1.9875\n",
            "Epoch [2/5] Batch [1106/1654] Loss: 1.8356\n",
            "Epoch [2/5] Batch [1107/1654] Loss: 1.7256\n",
            "Epoch [2/5] Batch [1108/1654] Loss: 1.8964\n",
            "Epoch [2/5] Batch [1109/1654] Loss: 1.9102\n",
            "Epoch [2/5] Batch [1110/1654] Loss: 1.8013\n",
            "Epoch [2/5] Batch [1111/1654] Loss: 1.8737\n"
          ]
        },
        {
          "output_type": "stream",
          "name": "stderr",
          "text": [
            " 68%|██████▊   | 1118/1654 [00:31<00:14, 37.63it/s]"
          ]
        },
        {
          "output_type": "stream",
          "name": "stdout",
          "text": [
            "Epoch [2/5] Batch [1112/1654] Loss: 2.3787\n",
            "Epoch [2/5] Batch [1113/1654] Loss: 2.1807\n",
            "Epoch [2/5] Batch [1114/1654] Loss: 1.8793\n",
            "Epoch [2/5] Batch [1115/1654] Loss: 2.1781\n",
            "Epoch [2/5] Batch [1116/1654] Loss: 2.1377\n",
            "Epoch [2/5] Batch [1117/1654] Loss: 2.0772\n",
            "Epoch [2/5] Batch [1118/1654] Loss: 1.8444\n",
            "Epoch [2/5] Batch [1119/1654] Loss: 2.0261\n"
          ]
        },
        {
          "output_type": "stream",
          "name": "stderr",
          "text": [
            " 68%|██████▊   | 1126/1654 [00:31<00:14, 37.22it/s]"
          ]
        },
        {
          "output_type": "stream",
          "name": "stdout",
          "text": [
            "Epoch [2/5] Batch [1120/1654] Loss: 2.0950\n",
            "Epoch [2/5] Batch [1121/1654] Loss: 2.0096\n",
            "Epoch [2/5] Batch [1122/1654] Loss: 2.3358\n",
            "Epoch [2/5] Batch [1123/1654] Loss: 2.3495\n",
            "Epoch [2/5] Batch [1124/1654] Loss: 2.0981\n",
            "Epoch [2/5] Batch [1125/1654] Loss: 1.8575\n",
            "Epoch [2/5] Batch [1126/1654] Loss: 1.9978\n",
            "Epoch [2/5] Batch [1127/1654] Loss: 1.8128\n"
          ]
        },
        {
          "output_type": "stream",
          "name": "stderr",
          "text": [
            " 69%|██████▊   | 1134/1654 [00:31<00:13, 37.33it/s]"
          ]
        },
        {
          "output_type": "stream",
          "name": "stdout",
          "text": [
            "Epoch [2/5] Batch [1128/1654] Loss: 1.7877\n",
            "Epoch [2/5] Batch [1129/1654] Loss: 2.0191\n",
            "Epoch [2/5] Batch [1130/1654] Loss: 1.9809\n",
            "Epoch [2/5] Batch [1131/1654] Loss: 2.0580\n",
            "Epoch [2/5] Batch [1132/1654] Loss: 1.7185\n",
            "Epoch [2/5] Batch [1133/1654] Loss: 1.8724\n",
            "Epoch [2/5] Batch [1134/1654] Loss: 1.8450\n",
            "Epoch [2/5] Batch [1135/1654] Loss: 1.9814\n"
          ]
        },
        {
          "output_type": "stream",
          "name": "stderr",
          "text": [
            " 69%|██████▉   | 1142/1654 [00:31<00:13, 37.55it/s]"
          ]
        },
        {
          "output_type": "stream",
          "name": "stdout",
          "text": [
            "Epoch [2/5] Batch [1136/1654] Loss: 1.7205\n",
            "Epoch [2/5] Batch [1137/1654] Loss: 1.5283\n",
            "Epoch [2/5] Batch [1138/1654] Loss: 1.9806\n",
            "Epoch [2/5] Batch [1139/1654] Loss: 2.0329\n",
            "Epoch [2/5] Batch [1140/1654] Loss: 1.9322\n",
            "Epoch [2/5] Batch [1141/1654] Loss: 1.8863\n",
            "Epoch [2/5] Batch [1142/1654] Loss: 1.7922\n",
            "Epoch [2/5] Batch [1143/1654] Loss: 1.9383\n"
          ]
        },
        {
          "output_type": "stream",
          "name": "stderr",
          "text": [
            " 70%|██████▉   | 1150/1654 [00:31<00:13, 37.21it/s]"
          ]
        },
        {
          "output_type": "stream",
          "name": "stdout",
          "text": [
            "Epoch [2/5] Batch [1144/1654] Loss: 1.6959\n",
            "Epoch [2/5] Batch [1145/1654] Loss: 1.7988\n",
            "Epoch [2/5] Batch [1146/1654] Loss: 1.8423\n",
            "Epoch [2/5] Batch [1147/1654] Loss: 1.9580\n",
            "Epoch [2/5] Batch [1148/1654] Loss: 2.1751\n",
            "Epoch [2/5] Batch [1149/1654] Loss: 1.7503\n",
            "Epoch [2/5] Batch [1150/1654] Loss: 1.7874\n",
            "Epoch [2/5] Batch [1151/1654] Loss: 1.8939\n"
          ]
        },
        {
          "output_type": "stream",
          "name": "stderr",
          "text": [
            " 70%|███████   | 1158/1654 [00:32<00:13, 37.34it/s]"
          ]
        },
        {
          "output_type": "stream",
          "name": "stdout",
          "text": [
            "Epoch [2/5] Batch [1152/1654] Loss: 1.9944\n",
            "Epoch [2/5] Batch [1153/1654] Loss: 2.0237\n",
            "Epoch [2/5] Batch [1154/1654] Loss: 1.9187\n",
            "Epoch [2/5] Batch [1155/1654] Loss: 1.8075\n",
            "Epoch [2/5] Batch [1156/1654] Loss: 2.1744\n",
            "Epoch [2/5] Batch [1157/1654] Loss: 2.0332\n",
            "Epoch [2/5] Batch [1158/1654] Loss: 1.9977\n",
            "Epoch [2/5] Batch [1159/1654] Loss: 2.0606\n"
          ]
        },
        {
          "output_type": "stream",
          "name": "stderr",
          "text": [
            " 70%|███████   | 1166/1654 [00:32<00:13, 36.25it/s]"
          ]
        },
        {
          "output_type": "stream",
          "name": "stdout",
          "text": [
            "Epoch [2/5] Batch [1160/1654] Loss: 1.8634\n",
            "Epoch [2/5] Batch [1161/1654] Loss: 1.9201\n",
            "Epoch [2/5] Batch [1162/1654] Loss: 2.2926\n",
            "Epoch [2/5] Batch [1163/1654] Loss: 1.5083\n",
            "Epoch [2/5] Batch [1164/1654] Loss: 2.2222\n",
            "Epoch [2/5] Batch [1165/1654] Loss: 1.8119\n",
            "Epoch [2/5] Batch [1166/1654] Loss: 2.0261\n",
            "Epoch [2/5] Batch [1167/1654] Loss: 2.1153\n"
          ]
        },
        {
          "output_type": "stream",
          "name": "stderr",
          "text": [
            " 71%|███████   | 1174/1654 [00:32<00:13, 36.90it/s]"
          ]
        },
        {
          "output_type": "stream",
          "name": "stdout",
          "text": [
            "Epoch [2/5] Batch [1168/1654] Loss: 1.8893\n",
            "Epoch [2/5] Batch [1169/1654] Loss: 1.8857\n",
            "Epoch [2/5] Batch [1170/1654] Loss: 1.5652\n",
            "Epoch [2/5] Batch [1171/1654] Loss: 1.6953\n",
            "Epoch [2/5] Batch [1172/1654] Loss: 1.9400\n",
            "Epoch [2/5] Batch [1173/1654] Loss: 1.7566\n",
            "Epoch [2/5] Batch [1174/1654] Loss: 1.9265\n",
            "Epoch [2/5] Batch [1175/1654] Loss: 1.8989\n"
          ]
        },
        {
          "output_type": "stream",
          "name": "stderr",
          "text": [
            " 71%|███████▏  | 1182/1654 [00:32<00:12, 37.40it/s]"
          ]
        },
        {
          "output_type": "stream",
          "name": "stdout",
          "text": [
            "Epoch [2/5] Batch [1176/1654] Loss: 1.4177\n",
            "Epoch [2/5] Batch [1177/1654] Loss: 1.6931\n",
            "Epoch [2/5] Batch [1178/1654] Loss: 1.9871\n",
            "Epoch [2/5] Batch [1179/1654] Loss: 1.7456\n",
            "Epoch [2/5] Batch [1180/1654] Loss: 1.8959\n",
            "Epoch [2/5] Batch [1181/1654] Loss: 1.5116\n",
            "Epoch [2/5] Batch [1182/1654] Loss: 1.8635\n",
            "Epoch [2/5] Batch [1183/1654] Loss: 1.5672\n"
          ]
        },
        {
          "output_type": "stream",
          "name": "stderr",
          "text": [
            " 72%|███████▏  | 1190/1654 [00:33<00:12, 38.44it/s]"
          ]
        },
        {
          "output_type": "stream",
          "name": "stdout",
          "text": [
            "Epoch [2/5] Batch [1184/1654] Loss: 1.6822\n",
            "Epoch [2/5] Batch [1185/1654] Loss: 1.9370\n",
            "Epoch [2/5] Batch [1186/1654] Loss: 1.9762\n",
            "Epoch [2/5] Batch [1187/1654] Loss: 2.0281\n",
            "Epoch [2/5] Batch [1188/1654] Loss: 1.7412\n",
            "Epoch [2/5] Batch [1189/1654] Loss: 1.7571\n",
            "Epoch [2/5] Batch [1190/1654] Loss: 1.8388\n",
            "Epoch [2/5] Batch [1191/1654] Loss: 2.1963\n"
          ]
        },
        {
          "output_type": "stream",
          "name": "stderr",
          "text": [
            "\r 72%|███████▏  | 1194/1654 [00:33<00:12, 35.82it/s]"
          ]
        },
        {
          "output_type": "stream",
          "name": "stdout",
          "text": [
            "Epoch [2/5] Batch [1192/1654] Loss: 1.9330\n",
            "Epoch [2/5] Batch [1193/1654] Loss: 2.0333\n",
            "Epoch [2/5] Batch [1194/1654] Loss: 1.7995\n",
            "Epoch [2/5] Batch [1195/1654] Loss: 1.9336\n",
            "Epoch [2/5] Batch [1196/1654] Loss: 1.8372\n",
            "Epoch [2/5] Batch [1197/1654] Loss: 1.7346\n"
          ]
        },
        {
          "output_type": "stream",
          "name": "stderr",
          "text": [
            " 73%|███████▎  | 1202/1654 [00:33<00:14, 31.98it/s]"
          ]
        },
        {
          "output_type": "stream",
          "name": "stdout",
          "text": [
            "Epoch [2/5] Batch [1198/1654] Loss: 1.8051\n",
            "Epoch [2/5] Batch [1199/1654] Loss: 1.6277\n",
            "Epoch [2/5] Batch [1200/1654] Loss: 2.0408\n",
            "Epoch [2/5] Batch [1201/1654] Loss: 1.6080\n",
            "Epoch [2/5] Batch [1202/1654] Loss: 1.7103\n",
            "Epoch [2/5] Batch [1203/1654] Loss: 1.3452\n"
          ]
        },
        {
          "output_type": "stream",
          "name": "stderr",
          "text": [
            "\r 73%|███████▎  | 1206/1654 [00:33<00:14, 30.33it/s]"
          ]
        },
        {
          "output_type": "stream",
          "name": "stdout",
          "text": [
            "Epoch [2/5] Batch [1204/1654] Loss: 1.9998\n",
            "Epoch [2/5] Batch [1205/1654] Loss: 1.9405\n",
            "Epoch [2/5] Batch [1206/1654] Loss: 1.6517\n",
            "Epoch [2/5] Batch [1207/1654] Loss: 2.0538\n",
            "Epoch [2/5] Batch [1208/1654] Loss: 2.1414\n",
            "Epoch [2/5] Batch [1209/1654] Loss: 1.8247\n"
          ]
        },
        {
          "output_type": "stream",
          "name": "stderr",
          "text": [
            " 73%|███████▎  | 1214/1654 [00:33<00:14, 29.49it/s]"
          ]
        },
        {
          "output_type": "stream",
          "name": "stdout",
          "text": [
            "Epoch [2/5] Batch [1210/1654] Loss: 1.9190\n",
            "Epoch [2/5] Batch [1211/1654] Loss: 2.0653\n",
            "Epoch [2/5] Batch [1212/1654] Loss: 1.8815\n",
            "Epoch [2/5] Batch [1213/1654] Loss: 2.0503\n",
            "Epoch [2/5] Batch [1214/1654] Loss: 1.9189\n",
            "Epoch [2/5] Batch [1215/1654] Loss: 1.9855\n"
          ]
        },
        {
          "output_type": "stream",
          "name": "stderr",
          "text": [
            " 74%|███████▍  | 1221/1654 [00:34<00:14, 29.80it/s]"
          ]
        },
        {
          "output_type": "stream",
          "name": "stdout",
          "text": [
            "Epoch [2/5] Batch [1216/1654] Loss: 1.9605\n",
            "Epoch [2/5] Batch [1217/1654] Loss: 1.7586\n",
            "Epoch [2/5] Batch [1218/1654] Loss: 1.7700\n",
            "Epoch [2/5] Batch [1219/1654] Loss: 1.5794\n",
            "Epoch [2/5] Batch [1220/1654] Loss: 1.7638\n",
            "Epoch [2/5] Batch [1221/1654] Loss: 1.7363\n",
            "Epoch [2/5] Batch [1222/1654] Loss: 1.7991\n"
          ]
        },
        {
          "output_type": "stream",
          "name": "stderr",
          "text": [
            " 74%|███████▍  | 1228/1654 [00:34<00:14, 30.02it/s]"
          ]
        },
        {
          "output_type": "stream",
          "name": "stdout",
          "text": [
            "Epoch [2/5] Batch [1223/1654] Loss: 1.9812\n",
            "Epoch [2/5] Batch [1224/1654] Loss: 2.3854\n",
            "Epoch [2/5] Batch [1225/1654] Loss: 1.8764\n",
            "Epoch [2/5] Batch [1226/1654] Loss: 1.8784\n",
            "Epoch [2/5] Batch [1227/1654] Loss: 2.1039\n",
            "Epoch [2/5] Batch [1228/1654] Loss: 1.7677\n"
          ]
        },
        {
          "output_type": "stream",
          "name": "stderr",
          "text": [
            "\r 74%|███████▍  | 1232/1654 [00:34<00:14, 29.58it/s]"
          ]
        },
        {
          "output_type": "stream",
          "name": "stdout",
          "text": [
            "Epoch [2/5] Batch [1229/1654] Loss: 1.6217\n",
            "Epoch [2/5] Batch [1230/1654] Loss: 1.7815\n",
            "Epoch [2/5] Batch [1231/1654] Loss: 1.8978\n",
            "Epoch [2/5] Batch [1232/1654] Loss: 1.7500\n",
            "Epoch [2/5] Batch [1233/1654] Loss: 1.9189\n",
            "Epoch [2/5] Batch [1234/1654] Loss: 1.7571\n",
            "Epoch [2/5] Batch [1235/1654] Loss: 1.6474\n"
          ]
        },
        {
          "output_type": "stream",
          "name": "stderr",
          "text": [
            " 75%|███████▍  | 1239/1654 [00:34<00:14, 28.93it/s]"
          ]
        },
        {
          "output_type": "stream",
          "name": "stdout",
          "text": [
            "Epoch [2/5] Batch [1236/1654] Loss: 1.8837\n",
            "Epoch [2/5] Batch [1237/1654] Loss: 1.7631\n",
            "Epoch [2/5] Batch [1238/1654] Loss: 2.1658\n",
            "Epoch [2/5] Batch [1239/1654] Loss: 1.9906\n",
            "Epoch [2/5] Batch [1240/1654] Loss: 2.0328\n",
            "Epoch [2/5] Batch [1241/1654] Loss: 1.5043\n"
          ]
        },
        {
          "output_type": "stream",
          "name": "stderr",
          "text": [
            " 75%|███████▌  | 1245/1654 [00:34<00:14, 27.63it/s]"
          ]
        },
        {
          "output_type": "stream",
          "name": "stdout",
          "text": [
            "Epoch [2/5] Batch [1242/1654] Loss: 2.0658\n",
            "Epoch [2/5] Batch [1243/1654] Loss: 1.9904\n",
            "Epoch [2/5] Batch [1244/1654] Loss: 1.9457\n",
            "Epoch [2/5] Batch [1245/1654] Loss: 1.7034\n",
            "Epoch [2/5] Batch [1246/1654] Loss: 1.6857\n",
            "Epoch [2/5] Batch [1247/1654] Loss: 2.1912\n"
          ]
        },
        {
          "output_type": "stream",
          "name": "stderr",
          "text": [
            " 76%|███████▌  | 1251/1654 [00:35<00:15, 26.54it/s]"
          ]
        },
        {
          "output_type": "stream",
          "name": "stdout",
          "text": [
            "Epoch [2/5] Batch [1248/1654] Loss: 2.0147\n",
            "Epoch [2/5] Batch [1249/1654] Loss: 2.0851\n",
            "Epoch [2/5] Batch [1250/1654] Loss: 1.7799\n",
            "Epoch [2/5] Batch [1251/1654] Loss: 2.0668\n",
            "Epoch [2/5] Batch [1252/1654] Loss: 1.9418\n",
            "Epoch [2/5] Batch [1253/1654] Loss: 1.5817\n"
          ]
        },
        {
          "output_type": "stream",
          "name": "stderr",
          "text": [
            " 76%|███████▌  | 1258/1654 [00:35<00:13, 28.78it/s]"
          ]
        },
        {
          "output_type": "stream",
          "name": "stdout",
          "text": [
            "Epoch [2/5] Batch [1254/1654] Loss: 1.6749\n",
            "Epoch [2/5] Batch [1255/1654] Loss: 2.1698\n",
            "Epoch [2/5] Batch [1256/1654] Loss: 2.0106\n",
            "Epoch [2/5] Batch [1257/1654] Loss: 1.9702\n",
            "Epoch [2/5] Batch [1258/1654] Loss: 2.0611\n",
            "Epoch [2/5] Batch [1259/1654] Loss: 1.6762\n",
            "Epoch [2/5] Batch [1260/1654] Loss: 2.0436\n"
          ]
        },
        {
          "output_type": "stream",
          "name": "stderr",
          "text": [
            " 77%|███████▋  | 1266/1654 [00:35<00:12, 31.88it/s]"
          ]
        },
        {
          "output_type": "stream",
          "name": "stdout",
          "text": [
            "Epoch [2/5] Batch [1261/1654] Loss: 2.0359\n",
            "Epoch [2/5] Batch [1262/1654] Loss: 1.8677\n",
            "Epoch [2/5] Batch [1263/1654] Loss: 2.0089\n",
            "Epoch [2/5] Batch [1264/1654] Loss: 2.0920\n",
            "Epoch [2/5] Batch [1265/1654] Loss: 1.7544\n",
            "Epoch [2/5] Batch [1266/1654] Loss: 1.8557\n",
            "Epoch [2/5] Batch [1267/1654] Loss: 1.9353\n",
            "Epoch [2/5] Batch [1268/1654] Loss: 2.4659\n"
          ]
        },
        {
          "output_type": "stream",
          "name": "stderr",
          "text": [
            " 77%|███████▋  | 1274/1654 [00:35<00:11, 33.96it/s]"
          ]
        },
        {
          "output_type": "stream",
          "name": "stdout",
          "text": [
            "Epoch [2/5] Batch [1269/1654] Loss: 1.8748\n",
            "Epoch [2/5] Batch [1270/1654] Loss: 1.6973\n",
            "Epoch [2/5] Batch [1271/1654] Loss: 1.9240\n",
            "Epoch [2/5] Batch [1272/1654] Loss: 1.6121\n",
            "Epoch [2/5] Batch [1273/1654] Loss: 1.9617\n",
            "Epoch [2/5] Batch [1274/1654] Loss: 1.8378\n",
            "Epoch [2/5] Batch [1275/1654] Loss: 1.7946\n",
            "Epoch [2/5] Batch [1276/1654] Loss: 2.0409\n"
          ]
        },
        {
          "output_type": "stream",
          "name": "stderr",
          "text": [
            " 78%|███████▊  | 1282/1654 [00:36<00:10, 35.18it/s]"
          ]
        },
        {
          "output_type": "stream",
          "name": "stdout",
          "text": [
            "Epoch [2/5] Batch [1277/1654] Loss: 1.7268\n",
            "Epoch [2/5] Batch [1278/1654] Loss: 1.9319\n",
            "Epoch [2/5] Batch [1279/1654] Loss: 1.6476\n",
            "Epoch [2/5] Batch [1280/1654] Loss: 2.0446\n",
            "Epoch [2/5] Batch [1281/1654] Loss: 1.8393\n",
            "Epoch [2/5] Batch [1282/1654] Loss: 2.1170\n",
            "Epoch [2/5] Batch [1283/1654] Loss: 1.7001\n",
            "Epoch [2/5] Batch [1284/1654] Loss: 1.7960\n"
          ]
        },
        {
          "output_type": "stream",
          "name": "stderr",
          "text": [
            " 78%|███████▊  | 1290/1654 [00:36<00:10, 35.74it/s]"
          ]
        },
        {
          "output_type": "stream",
          "name": "stdout",
          "text": [
            "Epoch [2/5] Batch [1285/1654] Loss: 1.9534\n",
            "Epoch [2/5] Batch [1286/1654] Loss: 1.7122\n",
            "Epoch [2/5] Batch [1287/1654] Loss: 1.9275\n",
            "Epoch [2/5] Batch [1288/1654] Loss: 1.8476\n",
            "Epoch [2/5] Batch [1289/1654] Loss: 2.0809\n",
            "Epoch [2/5] Batch [1290/1654] Loss: 1.8406\n",
            "Epoch [2/5] Batch [1291/1654] Loss: 1.9350\n",
            "Epoch [2/5] Batch [1292/1654] Loss: 1.8691\n"
          ]
        },
        {
          "output_type": "stream",
          "name": "stderr",
          "text": [
            " 78%|███████▊  | 1298/1654 [00:36<00:10, 35.34it/s]"
          ]
        },
        {
          "output_type": "stream",
          "name": "stdout",
          "text": [
            "Epoch [2/5] Batch [1293/1654] Loss: 1.9491\n",
            "Epoch [2/5] Batch [1294/1654] Loss: 2.1148\n",
            "Epoch [2/5] Batch [1295/1654] Loss: 1.5566\n",
            "Epoch [2/5] Batch [1296/1654] Loss: 1.9003\n",
            "Epoch [2/5] Batch [1297/1654] Loss: 2.0800\n",
            "Epoch [2/5] Batch [1298/1654] Loss: 1.6393\n",
            "Epoch [2/5] Batch [1299/1654] Loss: 1.8379\n",
            "Epoch [2/5] Batch [1300/1654] Loss: 1.8961\n"
          ]
        },
        {
          "output_type": "stream",
          "name": "stderr",
          "text": [
            " 79%|███████▉  | 1306/1654 [00:36<00:09, 35.59it/s]"
          ]
        },
        {
          "output_type": "stream",
          "name": "stdout",
          "text": [
            "Epoch [2/5] Batch [1301/1654] Loss: 2.1281\n",
            "Epoch [2/5] Batch [1302/1654] Loss: 1.8312\n",
            "Epoch [2/5] Batch [1303/1654] Loss: 1.6691\n",
            "Epoch [2/5] Batch [1304/1654] Loss: 1.6621\n",
            "Epoch [2/5] Batch [1305/1654] Loss: 1.9607\n",
            "Epoch [2/5] Batch [1306/1654] Loss: 1.5796\n",
            "Epoch [2/5] Batch [1307/1654] Loss: 1.7688\n",
            "Epoch [2/5] Batch [1308/1654] Loss: 1.7818\n"
          ]
        },
        {
          "output_type": "stream",
          "name": "stderr",
          "text": [
            " 79%|███████▉  | 1314/1654 [00:36<00:09, 36.26it/s]"
          ]
        },
        {
          "output_type": "stream",
          "name": "stdout",
          "text": [
            "Epoch [2/5] Batch [1309/1654] Loss: 1.8625\n",
            "Epoch [2/5] Batch [1310/1654] Loss: 1.8706\n",
            "Epoch [2/5] Batch [1311/1654] Loss: 2.1444\n",
            "Epoch [2/5] Batch [1312/1654] Loss: 1.5608\n",
            "Epoch [2/5] Batch [1313/1654] Loss: 1.9677\n",
            "Epoch [2/5] Batch [1314/1654] Loss: 1.7110\n",
            "Epoch [2/5] Batch [1315/1654] Loss: 1.9958\n",
            "Epoch [2/5] Batch [1316/1654] Loss: 1.9218\n"
          ]
        },
        {
          "output_type": "stream",
          "name": "stderr",
          "text": [
            " 80%|███████▉  | 1322/1654 [00:37<00:09, 36.05it/s]"
          ]
        },
        {
          "output_type": "stream",
          "name": "stdout",
          "text": [
            "Epoch [2/5] Batch [1317/1654] Loss: 2.0223\n",
            "Epoch [2/5] Batch [1318/1654] Loss: 1.9465\n",
            "Epoch [2/5] Batch [1319/1654] Loss: 1.9550\n",
            "Epoch [2/5] Batch [1320/1654] Loss: 1.6938\n",
            "Epoch [2/5] Batch [1321/1654] Loss: 1.6084\n",
            "Epoch [2/5] Batch [1322/1654] Loss: 1.9064\n",
            "Epoch [2/5] Batch [1323/1654] Loss: 1.8135\n",
            "Epoch [2/5] Batch [1324/1654] Loss: 1.9465\n"
          ]
        },
        {
          "output_type": "stream",
          "name": "stderr",
          "text": [
            " 80%|████████  | 1330/1654 [00:37<00:08, 36.95it/s]"
          ]
        },
        {
          "output_type": "stream",
          "name": "stdout",
          "text": [
            "Epoch [2/5] Batch [1325/1654] Loss: 1.6419\n",
            "Epoch [2/5] Batch [1326/1654] Loss: 1.7392\n",
            "Epoch [2/5] Batch [1327/1654] Loss: 2.1180\n",
            "Epoch [2/5] Batch [1328/1654] Loss: 2.2372\n",
            "Epoch [2/5] Batch [1329/1654] Loss: 2.1432\n",
            "Epoch [2/5] Batch [1330/1654] Loss: 2.0276\n",
            "Epoch [2/5] Batch [1331/1654] Loss: 1.9936\n",
            "Epoch [2/5] Batch [1332/1654] Loss: 1.9199\n"
          ]
        },
        {
          "output_type": "stream",
          "name": "stderr",
          "text": [
            " 81%|████████  | 1338/1654 [00:37<00:08, 36.31it/s]"
          ]
        },
        {
          "output_type": "stream",
          "name": "stdout",
          "text": [
            "Epoch [2/5] Batch [1333/1654] Loss: 2.0203\n",
            "Epoch [2/5] Batch [1334/1654] Loss: 1.4803\n",
            "Epoch [2/5] Batch [1335/1654] Loss: 1.6360\n",
            "Epoch [2/5] Batch [1336/1654] Loss: 1.9327\n",
            "Epoch [2/5] Batch [1337/1654] Loss: 1.5214\n",
            "Epoch [2/5] Batch [1338/1654] Loss: 2.1689\n",
            "Epoch [2/5] Batch [1339/1654] Loss: 2.0537\n",
            "Epoch [2/5] Batch [1340/1654] Loss: 1.8579\n"
          ]
        },
        {
          "output_type": "stream",
          "name": "stderr",
          "text": [
            " 81%|████████▏ | 1346/1654 [00:37<00:08, 36.65it/s]"
          ]
        },
        {
          "output_type": "stream",
          "name": "stdout",
          "text": [
            "Epoch [2/5] Batch [1341/1654] Loss: 1.9507\n",
            "Epoch [2/5] Batch [1342/1654] Loss: 1.6085\n",
            "Epoch [2/5] Batch [1343/1654] Loss: 1.8661\n",
            "Epoch [2/5] Batch [1344/1654] Loss: 1.9778\n",
            "Epoch [2/5] Batch [1345/1654] Loss: 1.7152\n",
            "Epoch [2/5] Batch [1346/1654] Loss: 1.9276\n",
            "Epoch [2/5] Batch [1347/1654] Loss: 1.9550\n",
            "Epoch [2/5] Batch [1348/1654] Loss: 1.7877\n"
          ]
        },
        {
          "output_type": "stream",
          "name": "stderr",
          "text": [
            " 82%|████████▏ | 1354/1654 [00:38<00:08, 37.40it/s]"
          ]
        },
        {
          "output_type": "stream",
          "name": "stdout",
          "text": [
            "Epoch [2/5] Batch [1349/1654] Loss: 2.1642\n",
            "Epoch [2/5] Batch [1350/1654] Loss: 1.9078\n",
            "Epoch [2/5] Batch [1351/1654] Loss: 1.6100\n",
            "Epoch [2/5] Batch [1352/1654] Loss: 1.5656\n",
            "Epoch [2/5] Batch [1353/1654] Loss: 1.8488\n",
            "Epoch [2/5] Batch [1354/1654] Loss: 2.3376\n",
            "Epoch [2/5] Batch [1355/1654] Loss: 1.6914\n",
            "Epoch [2/5] Batch [1356/1654] Loss: 1.7645\n"
          ]
        },
        {
          "output_type": "stream",
          "name": "stderr",
          "text": [
            " 82%|████████▏ | 1362/1654 [00:38<00:07, 37.34it/s]"
          ]
        },
        {
          "output_type": "stream",
          "name": "stdout",
          "text": [
            "Epoch [2/5] Batch [1357/1654] Loss: 2.1369\n",
            "Epoch [2/5] Batch [1358/1654] Loss: 2.1616\n",
            "Epoch [2/5] Batch [1359/1654] Loss: 2.0974\n",
            "Epoch [2/5] Batch [1360/1654] Loss: 1.5899\n",
            "Epoch [2/5] Batch [1361/1654] Loss: 2.0034\n",
            "Epoch [2/5] Batch [1362/1654] Loss: 2.0235\n",
            "Epoch [2/5] Batch [1363/1654] Loss: 2.0106\n",
            "Epoch [2/5] Batch [1364/1654] Loss: 1.8423\n"
          ]
        },
        {
          "output_type": "stream",
          "name": "stderr",
          "text": [
            " 83%|████████▎ | 1370/1654 [00:38<00:07, 37.34it/s]"
          ]
        },
        {
          "output_type": "stream",
          "name": "stdout",
          "text": [
            "Epoch [2/5] Batch [1365/1654] Loss: 1.8761\n",
            "Epoch [2/5] Batch [1366/1654] Loss: 1.8015\n",
            "Epoch [2/5] Batch [1367/1654] Loss: 2.1297\n",
            "Epoch [2/5] Batch [1368/1654] Loss: 1.5968\n",
            "Epoch [2/5] Batch [1369/1654] Loss: 1.7133\n",
            "Epoch [2/5] Batch [1370/1654] Loss: 1.8231\n",
            "Epoch [2/5] Batch [1371/1654] Loss: 1.6024\n",
            "Epoch [2/5] Batch [1372/1654] Loss: 1.6035\n"
          ]
        },
        {
          "output_type": "stream",
          "name": "stderr",
          "text": [
            " 83%|████████▎ | 1378/1654 [00:38<00:07, 36.94it/s]"
          ]
        },
        {
          "output_type": "stream",
          "name": "stdout",
          "text": [
            "Epoch [2/5] Batch [1373/1654] Loss: 1.6552\n",
            "Epoch [2/5] Batch [1374/1654] Loss: 2.0454\n",
            "Epoch [2/5] Batch [1375/1654] Loss: 2.3913\n",
            "Epoch [2/5] Batch [1376/1654] Loss: 1.8791\n",
            "Epoch [2/5] Batch [1377/1654] Loss: 2.0231\n",
            "Epoch [2/5] Batch [1378/1654] Loss: 1.8278\n",
            "Epoch [2/5] Batch [1379/1654] Loss: 1.7288\n",
            "Epoch [2/5] Batch [1380/1654] Loss: 1.8084\n"
          ]
        },
        {
          "output_type": "stream",
          "name": "stderr",
          "text": [
            " 84%|████████▍ | 1386/1654 [00:38<00:07, 36.28it/s]"
          ]
        },
        {
          "output_type": "stream",
          "name": "stdout",
          "text": [
            "Epoch [2/5] Batch [1381/1654] Loss: 1.7417\n",
            "Epoch [2/5] Batch [1382/1654] Loss: 1.7617\n",
            "Epoch [2/5] Batch [1383/1654] Loss: 2.0185\n",
            "Epoch [2/5] Batch [1384/1654] Loss: 2.0496\n",
            "Epoch [2/5] Batch [1385/1654] Loss: 1.4950\n",
            "Epoch [2/5] Batch [1386/1654] Loss: 1.5436\n",
            "Epoch [2/5] Batch [1387/1654] Loss: 1.7647\n",
            "Epoch [2/5] Batch [1388/1654] Loss: 1.8578\n"
          ]
        },
        {
          "output_type": "stream",
          "name": "stderr",
          "text": [
            " 84%|████████▍ | 1394/1654 [00:39<00:06, 37.18it/s]"
          ]
        },
        {
          "output_type": "stream",
          "name": "stdout",
          "text": [
            "Epoch [2/5] Batch [1389/1654] Loss: 1.9962\n",
            "Epoch [2/5] Batch [1390/1654] Loss: 2.1265\n",
            "Epoch [2/5] Batch [1391/1654] Loss: 2.0553\n",
            "Epoch [2/5] Batch [1392/1654] Loss: 1.9227\n",
            "Epoch [2/5] Batch [1393/1654] Loss: 1.7811\n",
            "Epoch [2/5] Batch [1394/1654] Loss: 1.7787\n",
            "Epoch [2/5] Batch [1395/1654] Loss: 1.8579\n",
            "Epoch [2/5] Batch [1396/1654] Loss: 1.9665\n"
          ]
        },
        {
          "output_type": "stream",
          "name": "stderr",
          "text": [
            " 85%|████████▍ | 1402/1654 [00:39<00:06, 37.50it/s]"
          ]
        },
        {
          "output_type": "stream",
          "name": "stdout",
          "text": [
            "Epoch [2/5] Batch [1397/1654] Loss: 2.0216\n",
            "Epoch [2/5] Batch [1398/1654] Loss: 1.6416\n",
            "Epoch [2/5] Batch [1399/1654] Loss: 1.8811\n",
            "Epoch [2/5] Batch [1400/1654] Loss: 1.8806\n",
            "Epoch [2/5] Batch [1401/1654] Loss: 2.1549\n",
            "Epoch [2/5] Batch [1402/1654] Loss: 1.5023\n",
            "Epoch [2/5] Batch [1403/1654] Loss: 2.0019\n",
            "Epoch [2/5] Batch [1404/1654] Loss: 1.8967\n"
          ]
        },
        {
          "output_type": "stream",
          "name": "stderr",
          "text": [
            " 85%|████████▌ | 1410/1654 [00:39<00:06, 36.50it/s]"
          ]
        },
        {
          "output_type": "stream",
          "name": "stdout",
          "text": [
            "Epoch [2/5] Batch [1405/1654] Loss: 1.8939\n",
            "Epoch [2/5] Batch [1406/1654] Loss: 1.8295\n",
            "Epoch [2/5] Batch [1407/1654] Loss: 1.8317\n",
            "Epoch [2/5] Batch [1408/1654] Loss: 1.8078\n",
            "Epoch [2/5] Batch [1409/1654] Loss: 1.7380\n",
            "Epoch [2/5] Batch [1410/1654] Loss: 1.9187\n",
            "Epoch [2/5] Batch [1411/1654] Loss: 2.0066\n",
            "Epoch [2/5] Batch [1412/1654] Loss: 1.4019\n"
          ]
        },
        {
          "output_type": "stream",
          "name": "stderr",
          "text": [
            " 86%|████████▌ | 1418/1654 [00:39<00:06, 36.98it/s]"
          ]
        },
        {
          "output_type": "stream",
          "name": "stdout",
          "text": [
            "Epoch [2/5] Batch [1413/1654] Loss: 1.8731\n",
            "Epoch [2/5] Batch [1414/1654] Loss: 1.7543\n",
            "Epoch [2/5] Batch [1415/1654] Loss: 1.8554\n",
            "Epoch [2/5] Batch [1416/1654] Loss: 1.7623\n",
            "Epoch [2/5] Batch [1417/1654] Loss: 1.7044\n",
            "Epoch [2/5] Batch [1418/1654] Loss: 1.7546\n",
            "Epoch [2/5] Batch [1419/1654] Loss: 1.9037\n",
            "Epoch [2/5] Batch [1420/1654] Loss: 1.6936\n"
          ]
        },
        {
          "output_type": "stream",
          "name": "stderr",
          "text": [
            " 86%|████████▌ | 1426/1654 [00:40<00:06, 37.86it/s]"
          ]
        },
        {
          "output_type": "stream",
          "name": "stdout",
          "text": [
            "Epoch [2/5] Batch [1421/1654] Loss: 2.1466\n",
            "Epoch [2/5] Batch [1422/1654] Loss: 2.0325\n",
            "Epoch [2/5] Batch [1423/1654] Loss: 1.6718\n",
            "Epoch [2/5] Batch [1424/1654] Loss: 2.0911\n",
            "Epoch [2/5] Batch [1425/1654] Loss: 1.6612\n",
            "Epoch [2/5] Batch [1426/1654] Loss: 1.8086\n",
            "Epoch [2/5] Batch [1427/1654] Loss: 1.5696\n",
            "Epoch [2/5] Batch [1428/1654] Loss: 1.7362\n"
          ]
        },
        {
          "output_type": "stream",
          "name": "stderr",
          "text": [
            " 87%|████████▋ | 1434/1654 [00:40<00:05, 37.54it/s]"
          ]
        },
        {
          "output_type": "stream",
          "name": "stdout",
          "text": [
            "Epoch [2/5] Batch [1429/1654] Loss: 1.6899\n",
            "Epoch [2/5] Batch [1430/1654] Loss: 1.8642\n",
            "Epoch [2/5] Batch [1431/1654] Loss: 1.9148\n",
            "Epoch [2/5] Batch [1432/1654] Loss: 1.6063\n",
            "Epoch [2/5] Batch [1433/1654] Loss: 2.0655\n",
            "Epoch [2/5] Batch [1434/1654] Loss: 1.6651\n",
            "Epoch [2/5] Batch [1435/1654] Loss: 2.2376\n",
            "Epoch [2/5] Batch [1436/1654] Loss: 1.9196\n"
          ]
        },
        {
          "output_type": "stream",
          "name": "stderr",
          "text": [
            " 87%|████████▋ | 1442/1654 [00:40<00:05, 37.60it/s]"
          ]
        },
        {
          "output_type": "stream",
          "name": "stdout",
          "text": [
            "Epoch [2/5] Batch [1437/1654] Loss: 1.9219\n",
            "Epoch [2/5] Batch [1438/1654] Loss: 2.1477\n",
            "Epoch [2/5] Batch [1439/1654] Loss: 2.1612\n",
            "Epoch [2/5] Batch [1440/1654] Loss: 2.0364\n",
            "Epoch [2/5] Batch [1441/1654] Loss: 2.0578\n",
            "Epoch [2/5] Batch [1442/1654] Loss: 2.1052\n",
            "Epoch [2/5] Batch [1443/1654] Loss: 1.7013\n",
            "Epoch [2/5] Batch [1444/1654] Loss: 1.9440\n"
          ]
        },
        {
          "output_type": "stream",
          "name": "stderr",
          "text": [
            " 88%|████████▊ | 1450/1654 [00:40<00:05, 37.19it/s]"
          ]
        },
        {
          "output_type": "stream",
          "name": "stdout",
          "text": [
            "Epoch [2/5] Batch [1445/1654] Loss: 1.8446\n",
            "Epoch [2/5] Batch [1446/1654] Loss: 1.9967\n",
            "Epoch [2/5] Batch [1447/1654] Loss: 1.8505\n",
            "Epoch [2/5] Batch [1448/1654] Loss: 1.6049\n",
            "Epoch [2/5] Batch [1449/1654] Loss: 1.9599\n",
            "Epoch [2/5] Batch [1450/1654] Loss: 1.7055\n",
            "Epoch [2/5] Batch [1451/1654] Loss: 2.2008\n",
            "Epoch [2/5] Batch [1452/1654] Loss: 1.9503\n"
          ]
        },
        {
          "output_type": "stream",
          "name": "stderr",
          "text": [
            " 88%|████████▊ | 1458/1654 [00:40<00:05, 37.63it/s]"
          ]
        },
        {
          "output_type": "stream",
          "name": "stdout",
          "text": [
            "Epoch [2/5] Batch [1453/1654] Loss: 2.0235\n",
            "Epoch [2/5] Batch [1454/1654] Loss: 1.6934\n",
            "Epoch [2/5] Batch [1455/1654] Loss: 1.5710\n",
            "Epoch [2/5] Batch [1456/1654] Loss: 1.7290\n",
            "Epoch [2/5] Batch [1457/1654] Loss: 1.9193\n",
            "Epoch [2/5] Batch [1458/1654] Loss: 1.6631\n",
            "Epoch [2/5] Batch [1459/1654] Loss: 2.2114\n",
            "Epoch [2/5] Batch [1460/1654] Loss: 1.8049\n"
          ]
        },
        {
          "output_type": "stream",
          "name": "stderr",
          "text": [
            " 89%|████████▊ | 1466/1654 [00:41<00:05, 37.46it/s]"
          ]
        },
        {
          "output_type": "stream",
          "name": "stdout",
          "text": [
            "Epoch [2/5] Batch [1461/1654] Loss: 1.7820\n",
            "Epoch [2/5] Batch [1462/1654] Loss: 1.8496\n",
            "Epoch [2/5] Batch [1463/1654] Loss: 1.5814\n",
            "Epoch [2/5] Batch [1464/1654] Loss: 1.8371\n",
            "Epoch [2/5] Batch [1465/1654] Loss: 1.6051\n",
            "Epoch [2/5] Batch [1466/1654] Loss: 2.2470\n",
            "Epoch [2/5] Batch [1467/1654] Loss: 1.9845\n",
            "Epoch [2/5] Batch [1468/1654] Loss: 1.6797\n"
          ]
        },
        {
          "output_type": "stream",
          "name": "stderr",
          "text": [
            " 89%|████████▉ | 1474/1654 [00:41<00:04, 37.88it/s]"
          ]
        },
        {
          "output_type": "stream",
          "name": "stdout",
          "text": [
            "Epoch [2/5] Batch [1469/1654] Loss: 1.7524\n",
            "Epoch [2/5] Batch [1470/1654] Loss: 1.6909\n",
            "Epoch [2/5] Batch [1471/1654] Loss: 1.6815\n",
            "Epoch [2/5] Batch [1472/1654] Loss: 1.7711\n",
            "Epoch [2/5] Batch [1473/1654] Loss: 2.1523\n",
            "Epoch [2/5] Batch [1474/1654] Loss: 1.6611\n",
            "Epoch [2/5] Batch [1475/1654] Loss: 1.9513\n",
            "Epoch [2/5] Batch [1476/1654] Loss: 2.2506\n"
          ]
        },
        {
          "output_type": "stream",
          "name": "stderr",
          "text": [
            " 90%|████████▉ | 1482/1654 [00:41<00:04, 37.63it/s]"
          ]
        },
        {
          "output_type": "stream",
          "name": "stdout",
          "text": [
            "Epoch [2/5] Batch [1477/1654] Loss: 2.0641\n",
            "Epoch [2/5] Batch [1478/1654] Loss: 1.8103\n",
            "Epoch [2/5] Batch [1479/1654] Loss: 2.1438\n",
            "Epoch [2/5] Batch [1480/1654] Loss: 1.8558\n",
            "Epoch [2/5] Batch [1481/1654] Loss: 1.8221\n",
            "Epoch [2/5] Batch [1482/1654] Loss: 1.6816\n",
            "Epoch [2/5] Batch [1483/1654] Loss: 1.7098\n",
            "Epoch [2/5] Batch [1484/1654] Loss: 1.4573\n"
          ]
        },
        {
          "output_type": "stream",
          "name": "stderr",
          "text": [
            " 90%|█████████ | 1490/1654 [00:41<00:04, 36.60it/s]"
          ]
        },
        {
          "output_type": "stream",
          "name": "stdout",
          "text": [
            "Epoch [2/5] Batch [1485/1654] Loss: 1.9790\n",
            "Epoch [2/5] Batch [1486/1654] Loss: 1.8505\n",
            "Epoch [2/5] Batch [1487/1654] Loss: 2.3227\n",
            "Epoch [2/5] Batch [1488/1654] Loss: 2.0073\n",
            "Epoch [2/5] Batch [1489/1654] Loss: 1.7167\n",
            "Epoch [2/5] Batch [1490/1654] Loss: 1.6598\n",
            "Epoch [2/5] Batch [1491/1654] Loss: 2.0733\n",
            "Epoch [2/5] Batch [1492/1654] Loss: 1.9227\n"
          ]
        },
        {
          "output_type": "stream",
          "name": "stderr",
          "text": [
            " 91%|█████████ | 1498/1654 [00:41<00:04, 36.82it/s]"
          ]
        },
        {
          "output_type": "stream",
          "name": "stdout",
          "text": [
            "Epoch [2/5] Batch [1493/1654] Loss: 1.9816\n",
            "Epoch [2/5] Batch [1494/1654] Loss: 2.0172\n",
            "Epoch [2/5] Batch [1495/1654] Loss: 2.1307\n",
            "Epoch [2/5] Batch [1496/1654] Loss: 1.8281\n",
            "Epoch [2/5] Batch [1497/1654] Loss: 1.4983\n",
            "Epoch [2/5] Batch [1498/1654] Loss: 1.8224\n",
            "Epoch [2/5] Batch [1499/1654] Loss: 1.8991\n",
            "Epoch [2/5] Batch [1500/1654] Loss: 1.9123\n"
          ]
        },
        {
          "output_type": "stream",
          "name": "stderr",
          "text": [
            " 91%|█████████ | 1506/1654 [00:42<00:03, 37.15it/s]"
          ]
        },
        {
          "output_type": "stream",
          "name": "stdout",
          "text": [
            "Epoch [2/5] Batch [1501/1654] Loss: 1.7655\n",
            "Epoch [2/5] Batch [1502/1654] Loss: 2.1345\n",
            "Epoch [2/5] Batch [1503/1654] Loss: 1.7022\n",
            "Epoch [2/5] Batch [1504/1654] Loss: 1.8219\n",
            "Epoch [2/5] Batch [1505/1654] Loss: 1.6833\n",
            "Epoch [2/5] Batch [1506/1654] Loss: 1.5396\n",
            "Epoch [2/5] Batch [1507/1654] Loss: 1.9495\n",
            "Epoch [2/5] Batch [1508/1654] Loss: 1.8662\n"
          ]
        },
        {
          "output_type": "stream",
          "name": "stderr",
          "text": [
            " 92%|█████████▏| 1514/1654 [00:42<00:03, 37.00it/s]"
          ]
        },
        {
          "output_type": "stream",
          "name": "stdout",
          "text": [
            "Epoch [2/5] Batch [1509/1654] Loss: 1.5788\n",
            "Epoch [2/5] Batch [1510/1654] Loss: 1.8370\n",
            "Epoch [2/5] Batch [1511/1654] Loss: 1.7960\n",
            "Epoch [2/5] Batch [1512/1654] Loss: 1.8117\n",
            "Epoch [2/5] Batch [1513/1654] Loss: 1.6441\n",
            "Epoch [2/5] Batch [1514/1654] Loss: 1.5582\n",
            "Epoch [2/5] Batch [1515/1654] Loss: 1.8094\n",
            "Epoch [2/5] Batch [1516/1654] Loss: 1.5976\n"
          ]
        },
        {
          "output_type": "stream",
          "name": "stderr",
          "text": [
            " 92%|█████████▏| 1522/1654 [00:42<00:03, 37.35it/s]"
          ]
        },
        {
          "output_type": "stream",
          "name": "stdout",
          "text": [
            "Epoch [2/5] Batch [1517/1654] Loss: 1.6540\n",
            "Epoch [2/5] Batch [1518/1654] Loss: 1.6932\n",
            "Epoch [2/5] Batch [1519/1654] Loss: 1.6114\n",
            "Epoch [2/5] Batch [1520/1654] Loss: 1.7495\n",
            "Epoch [2/5] Batch [1521/1654] Loss: 1.7856\n",
            "Epoch [2/5] Batch [1522/1654] Loss: 2.0554\n",
            "Epoch [2/5] Batch [1523/1654] Loss: 2.0822\n",
            "Epoch [2/5] Batch [1524/1654] Loss: 1.6392\n"
          ]
        },
        {
          "output_type": "stream",
          "name": "stderr",
          "text": [
            " 93%|█████████▎| 1530/1654 [00:42<00:03, 36.43it/s]"
          ]
        },
        {
          "output_type": "stream",
          "name": "stdout",
          "text": [
            "Epoch [2/5] Batch [1525/1654] Loss: 2.2035\n",
            "Epoch [2/5] Batch [1526/1654] Loss: 1.7313\n",
            "Epoch [2/5] Batch [1527/1654] Loss: 2.1127\n",
            "Epoch [2/5] Batch [1528/1654] Loss: 2.0304\n",
            "Epoch [2/5] Batch [1529/1654] Loss: 1.7466\n",
            "Epoch [2/5] Batch [1530/1654] Loss: 1.9461\n",
            "Epoch [2/5] Batch [1531/1654] Loss: 1.5270\n",
            "Epoch [2/5] Batch [1532/1654] Loss: 1.6003\n"
          ]
        },
        {
          "output_type": "stream",
          "name": "stderr",
          "text": [
            " 93%|█████████▎| 1538/1654 [00:43<00:03, 36.59it/s]"
          ]
        },
        {
          "output_type": "stream",
          "name": "stdout",
          "text": [
            "Epoch [2/5] Batch [1533/1654] Loss: 1.8341\n",
            "Epoch [2/5] Batch [1534/1654] Loss: 1.9623\n",
            "Epoch [2/5] Batch [1535/1654] Loss: 1.7944\n",
            "Epoch [2/5] Batch [1536/1654] Loss: 1.7621\n",
            "Epoch [2/5] Batch [1537/1654] Loss: 1.9852\n",
            "Epoch [2/5] Batch [1538/1654] Loss: 1.6602\n",
            "Epoch [2/5] Batch [1539/1654] Loss: 1.6916\n",
            "Epoch [2/5] Batch [1540/1654] Loss: 1.9796\n"
          ]
        },
        {
          "output_type": "stream",
          "name": "stderr",
          "text": [
            " 93%|█████████▎| 1546/1654 [00:43<00:03, 34.26it/s]"
          ]
        },
        {
          "output_type": "stream",
          "name": "stdout",
          "text": [
            "Epoch [2/5] Batch [1541/1654] Loss: 1.8149\n",
            "Epoch [2/5] Batch [1542/1654] Loss: 1.6405\n",
            "Epoch [2/5] Batch [1543/1654] Loss: 1.9630\n",
            "Epoch [2/5] Batch [1544/1654] Loss: 1.6977\n",
            "Epoch [2/5] Batch [1545/1654] Loss: 1.8583\n",
            "Epoch [2/5] Batch [1546/1654] Loss: 1.7034\n",
            "Epoch [2/5] Batch [1547/1654] Loss: 2.1369\n"
          ]
        },
        {
          "output_type": "stream",
          "name": "stderr",
          "text": [
            " 94%|█████████▍| 1554/1654 [00:43<00:02, 35.41it/s]"
          ]
        },
        {
          "output_type": "stream",
          "name": "stdout",
          "text": [
            "Epoch [2/5] Batch [1548/1654] Loss: 1.6925\n",
            "Epoch [2/5] Batch [1549/1654] Loss: 1.9198\n",
            "Epoch [2/5] Batch [1550/1654] Loss: 1.8829\n",
            "Epoch [2/5] Batch [1551/1654] Loss: 1.9473\n",
            "Epoch [2/5] Batch [1552/1654] Loss: 1.7555\n",
            "Epoch [2/5] Batch [1553/1654] Loss: 1.8792\n",
            "Epoch [2/5] Batch [1554/1654] Loss: 1.7545\n",
            "Epoch [2/5] Batch [1555/1654] Loss: 1.6636\n"
          ]
        },
        {
          "output_type": "stream",
          "name": "stderr",
          "text": [
            " 94%|█████████▍| 1562/1654 [00:43<00:02, 35.06it/s]"
          ]
        },
        {
          "output_type": "stream",
          "name": "stdout",
          "text": [
            "Epoch [2/5] Batch [1556/1654] Loss: 2.0964\n",
            "Epoch [2/5] Batch [1557/1654] Loss: 1.6216\n",
            "Epoch [2/5] Batch [1558/1654] Loss: 1.6598\n",
            "Epoch [2/5] Batch [1559/1654] Loss: 1.4642\n",
            "Epoch [2/5] Batch [1560/1654] Loss: 1.8895\n",
            "Epoch [2/5] Batch [1561/1654] Loss: 2.0205\n",
            "Epoch [2/5] Batch [1562/1654] Loss: 1.8670\n"
          ]
        },
        {
          "output_type": "stream",
          "name": "stderr",
          "text": [
            " 95%|█████████▍| 1570/1654 [00:43<00:02, 35.25it/s]"
          ]
        },
        {
          "output_type": "stream",
          "name": "stdout",
          "text": [
            "Epoch [2/5] Batch [1563/1654] Loss: 2.2958\n",
            "Epoch [2/5] Batch [1564/1654] Loss: 2.1095\n",
            "Epoch [2/5] Batch [1565/1654] Loss: 2.0976\n",
            "Epoch [2/5] Batch [1566/1654] Loss: 1.8980\n",
            "Epoch [2/5] Batch [1567/1654] Loss: 1.9844\n",
            "Epoch [2/5] Batch [1568/1654] Loss: 1.6274\n",
            "Epoch [2/5] Batch [1569/1654] Loss: 1.6349\n",
            "Epoch [2/5] Batch [1570/1654] Loss: 1.8209\n"
          ]
        },
        {
          "output_type": "stream",
          "name": "stderr",
          "text": [
            " 95%|█████████▌| 1578/1654 [00:44<00:02, 35.87it/s]"
          ]
        },
        {
          "output_type": "stream",
          "name": "stdout",
          "text": [
            "Epoch [2/5] Batch [1571/1654] Loss: 1.8777\n",
            "Epoch [2/5] Batch [1572/1654] Loss: 1.9796\n",
            "Epoch [2/5] Batch [1573/1654] Loss: 1.5823\n",
            "Epoch [2/5] Batch [1574/1654] Loss: 1.6707\n",
            "Epoch [2/5] Batch [1575/1654] Loss: 1.7499\n",
            "Epoch [2/5] Batch [1576/1654] Loss: 1.9665\n",
            "Epoch [2/5] Batch [1577/1654] Loss: 1.5348\n",
            "Epoch [2/5] Batch [1578/1654] Loss: 1.9814\n"
          ]
        },
        {
          "output_type": "stream",
          "name": "stderr",
          "text": [
            " 96%|█████████▌| 1586/1654 [00:44<00:01, 36.05it/s]"
          ]
        },
        {
          "output_type": "stream",
          "name": "stdout",
          "text": [
            "Epoch [2/5] Batch [1579/1654] Loss: 1.8659\n",
            "Epoch [2/5] Batch [1580/1654] Loss: 1.6940\n",
            "Epoch [2/5] Batch [1581/1654] Loss: 1.9502\n",
            "Epoch [2/5] Batch [1582/1654] Loss: 1.9316\n",
            "Epoch [2/5] Batch [1583/1654] Loss: 2.0489\n",
            "Epoch [2/5] Batch [1584/1654] Loss: 1.7803\n",
            "Epoch [2/5] Batch [1585/1654] Loss: 1.6732\n",
            "Epoch [2/5] Batch [1586/1654] Loss: 1.6682\n"
          ]
        },
        {
          "output_type": "stream",
          "name": "stderr",
          "text": [
            " 96%|█████████▋| 1594/1654 [00:44<00:01, 36.45it/s]"
          ]
        },
        {
          "output_type": "stream",
          "name": "stdout",
          "text": [
            "Epoch [2/5] Batch [1587/1654] Loss: 1.6524\n",
            "Epoch [2/5] Batch [1588/1654] Loss: 1.9256\n",
            "Epoch [2/5] Batch [1589/1654] Loss: 1.9617\n",
            "Epoch [2/5] Batch [1590/1654] Loss: 1.6271\n",
            "Epoch [2/5] Batch [1591/1654] Loss: 1.6656\n",
            "Epoch [2/5] Batch [1592/1654] Loss: 2.0430\n",
            "Epoch [2/5] Batch [1593/1654] Loss: 1.8894\n",
            "Epoch [2/5] Batch [1594/1654] Loss: 1.7280\n"
          ]
        },
        {
          "output_type": "stream",
          "name": "stderr",
          "text": [
            " 97%|█████████▋| 1602/1654 [00:44<00:01, 35.64it/s]"
          ]
        },
        {
          "output_type": "stream",
          "name": "stdout",
          "text": [
            "Epoch [2/5] Batch [1595/1654] Loss: 1.7908\n",
            "Epoch [2/5] Batch [1596/1654] Loss: 1.5104\n",
            "Epoch [2/5] Batch [1597/1654] Loss: 1.4299\n",
            "Epoch [2/5] Batch [1598/1654] Loss: 1.9173\n",
            "Epoch [2/5] Batch [1599/1654] Loss: 1.7960\n",
            "Epoch [2/5] Batch [1600/1654] Loss: 1.8296\n",
            "Epoch [2/5] Batch [1601/1654] Loss: 1.9644\n",
            "Epoch [2/5] Batch [1602/1654] Loss: 2.1703\n"
          ]
        },
        {
          "output_type": "stream",
          "name": "stderr",
          "text": [
            " 97%|█████████▋| 1610/1654 [00:45<00:01, 36.05it/s]"
          ]
        },
        {
          "output_type": "stream",
          "name": "stdout",
          "text": [
            "Epoch [2/5] Batch [1603/1654] Loss: 1.7851\n",
            "Epoch [2/5] Batch [1604/1654] Loss: 1.7670\n",
            "Epoch [2/5] Batch [1605/1654] Loss: 1.5154\n",
            "Epoch [2/5] Batch [1606/1654] Loss: 1.9978\n",
            "Epoch [2/5] Batch [1607/1654] Loss: 1.4289\n",
            "Epoch [2/5] Batch [1608/1654] Loss: 1.8750\n",
            "Epoch [2/5] Batch [1609/1654] Loss: 1.8007\n",
            "Epoch [2/5] Batch [1610/1654] Loss: 2.0388\n"
          ]
        },
        {
          "output_type": "stream",
          "name": "stderr",
          "text": [
            " 98%|█████████▊| 1618/1654 [00:45<00:00, 36.39it/s]"
          ]
        },
        {
          "output_type": "stream",
          "name": "stdout",
          "text": [
            "Epoch [2/5] Batch [1611/1654] Loss: 1.8704\n",
            "Epoch [2/5] Batch [1612/1654] Loss: 2.0613\n",
            "Epoch [2/5] Batch [1613/1654] Loss: 1.6187\n",
            "Epoch [2/5] Batch [1614/1654] Loss: 1.4743\n",
            "Epoch [2/5] Batch [1615/1654] Loss: 1.6179\n",
            "Epoch [2/5] Batch [1616/1654] Loss: 1.7331\n",
            "Epoch [2/5] Batch [1617/1654] Loss: 1.8574\n",
            "Epoch [2/5] Batch [1618/1654] Loss: 1.9550\n"
          ]
        },
        {
          "output_type": "stream",
          "name": "stderr",
          "text": [
            "\r 98%|█████████▊| 1622/1654 [00:45<00:00, 33.88it/s]"
          ]
        },
        {
          "output_type": "stream",
          "name": "stdout",
          "text": [
            "Epoch [2/5] Batch [1619/1654] Loss: 1.7533\n",
            "Epoch [2/5] Batch [1620/1654] Loss: 1.7536\n",
            "Epoch [2/5] Batch [1621/1654] Loss: 1.5962\n",
            "Epoch [2/5] Batch [1622/1654] Loss: 2.0137\n",
            "Epoch [2/5] Batch [1623/1654] Loss: 1.6015\n",
            "Epoch [2/5] Batch [1624/1654] Loss: 1.6048\n"
          ]
        },
        {
          "output_type": "stream",
          "name": "stderr",
          "text": [
            " 99%|█████████▊| 1630/1654 [00:45<00:00, 31.39it/s]"
          ]
        },
        {
          "output_type": "stream",
          "name": "stdout",
          "text": [
            "Epoch [2/5] Batch [1625/1654] Loss: 1.9646\n",
            "Epoch [2/5] Batch [1626/1654] Loss: 1.8896\n",
            "Epoch [2/5] Batch [1627/1654] Loss: 1.6514\n",
            "Epoch [2/5] Batch [1628/1654] Loss: 1.7562\n",
            "Epoch [2/5] Batch [1629/1654] Loss: 1.8405\n",
            "Epoch [2/5] Batch [1630/1654] Loss: 2.1879\n"
          ]
        },
        {
          "output_type": "stream",
          "name": "stderr",
          "text": [
            "\r 99%|█████████▉| 1634/1654 [00:45<00:00, 29.95it/s]"
          ]
        },
        {
          "output_type": "stream",
          "name": "stdout",
          "text": [
            "Epoch [2/5] Batch [1631/1654] Loss: 1.7509\n",
            "Epoch [2/5] Batch [1632/1654] Loss: 1.6008\n",
            "Epoch [2/5] Batch [1633/1654] Loss: 1.6966\n",
            "Epoch [2/5] Batch [1634/1654] Loss: 1.8385\n",
            "Epoch [2/5] Batch [1635/1654] Loss: 1.7355\n",
            "Epoch [2/5] Batch [1636/1654] Loss: 2.0944\n"
          ]
        },
        {
          "output_type": "stream",
          "name": "stderr",
          "text": [
            " 99%|█████████▉| 1642/1654 [00:46<00:00, 29.65it/s]"
          ]
        },
        {
          "output_type": "stream",
          "name": "stdout",
          "text": [
            "Epoch [2/5] Batch [1637/1654] Loss: 1.8819\n",
            "Epoch [2/5] Batch [1638/1654] Loss: 1.6608\n",
            "Epoch [2/5] Batch [1639/1654] Loss: 1.7070\n",
            "Epoch [2/5] Batch [1640/1654] Loss: 1.8824\n",
            "Epoch [2/5] Batch [1641/1654] Loss: 1.7510\n",
            "Epoch [2/5] Batch [1642/1654] Loss: 1.9427\n"
          ]
        },
        {
          "output_type": "stream",
          "name": "stderr",
          "text": [
            "100%|█████████▉| 1648/1654 [00:46<00:00, 29.00it/s]"
          ]
        },
        {
          "output_type": "stream",
          "name": "stdout",
          "text": [
            "Epoch [2/5] Batch [1643/1654] Loss: 1.9683\n",
            "Epoch [2/5] Batch [1644/1654] Loss: 2.0225\n",
            "Epoch [2/5] Batch [1645/1654] Loss: 2.1241\n",
            "Epoch [2/5] Batch [1646/1654] Loss: 1.8958\n",
            "Epoch [2/5] Batch [1647/1654] Loss: 1.6264\n",
            "Epoch [2/5] Batch [1648/1654] Loss: 1.7742\n"
          ]
        },
        {
          "output_type": "stream",
          "name": "stderr",
          "text": [
            "100%|██████████| 1654/1654 [00:46<00:00, 35.53it/s]\n"
          ]
        },
        {
          "output_type": "stream",
          "name": "stdout",
          "text": [
            "Epoch [2/5] Batch [1649/1654] Loss: 1.8585\n",
            "Epoch [2/5] Batch [1650/1654] Loss: 1.8901\n",
            "Epoch [2/5] Batch [1651/1654] Loss: 1.7579\n",
            "Epoch [2/5] Batch [1652/1654] Loss: 1.6239\n",
            "Epoch [2/5] Batch [1653/1654] Loss: 1.4310\n",
            "Epoch [2/5] Batch [1654/1654] Loss: 2.0534\n",
            "\n",
            ">> Epoch 2 Average Loss: 1.9678\n",
            "\n"
          ]
        },
        {
          "output_type": "stream",
          "name": "stderr",
          "text": [
            "  0%|          | 7/1654 [00:00<00:54, 30.11it/s]"
          ]
        },
        {
          "output_type": "stream",
          "name": "stdout",
          "text": [
            "Epoch [3/5] Batch [1/1654] Loss: 1.9898\n",
            "Epoch [3/5] Batch [2/1654] Loss: 1.7905\n",
            "Epoch [3/5] Batch [3/1654] Loss: 1.4573\n",
            "Epoch [3/5] Batch [4/1654] Loss: 1.5535\n",
            "Epoch [3/5] Batch [5/1654] Loss: 1.7733\n",
            "Epoch [3/5] Batch [6/1654] Loss: 1.7427\n",
            "Epoch [3/5] Batch [7/1654] Loss: 1.7853\n"
          ]
        },
        {
          "output_type": "stream",
          "name": "stderr",
          "text": [
            "  1%|          | 13/1654 [00:00<00:59, 27.75it/s]"
          ]
        },
        {
          "output_type": "stream",
          "name": "stdout",
          "text": [
            "Epoch [3/5] Batch [8/1654] Loss: 1.5943\n",
            "Epoch [3/5] Batch [9/1654] Loss: 1.7731\n",
            "Epoch [3/5] Batch [10/1654] Loss: 1.9605\n",
            "Epoch [3/5] Batch [11/1654] Loss: 1.9515\n",
            "Epoch [3/5] Batch [12/1654] Loss: 1.7046\n",
            "Epoch [3/5] Batch [13/1654] Loss: 1.4665\n"
          ]
        },
        {
          "output_type": "stream",
          "name": "stderr",
          "text": [
            "  1%|          | 19/1654 [00:00<00:58, 27.83it/s]"
          ]
        },
        {
          "output_type": "stream",
          "name": "stdout",
          "text": [
            "Epoch [3/5] Batch [14/1654] Loss: 1.4161\n",
            "Epoch [3/5] Batch [15/1654] Loss: 1.9059\n",
            "Epoch [3/5] Batch [16/1654] Loss: 1.9385\n",
            "Epoch [3/5] Batch [17/1654] Loss: 1.7235\n",
            "Epoch [3/5] Batch [18/1654] Loss: 1.7015\n",
            "Epoch [3/5] Batch [19/1654] Loss: 1.3358\n"
          ]
        },
        {
          "output_type": "stream",
          "name": "stderr",
          "text": [
            "  2%|▏         | 25/1654 [00:00<00:59, 27.45it/s]"
          ]
        },
        {
          "output_type": "stream",
          "name": "stdout",
          "text": [
            "Epoch [3/5] Batch [20/1654] Loss: 1.7078\n",
            "Epoch [3/5] Batch [21/1654] Loss: 1.8130\n",
            "Epoch [3/5] Batch [22/1654] Loss: 1.7448\n",
            "Epoch [3/5] Batch [23/1654] Loss: 1.6008\n",
            "Epoch [3/5] Batch [24/1654] Loss: 1.4082\n",
            "Epoch [3/5] Batch [25/1654] Loss: 1.9952\n"
          ]
        },
        {
          "output_type": "stream",
          "name": "stderr",
          "text": [
            "  2%|▏         | 31/1654 [00:01<00:58, 27.68it/s]"
          ]
        },
        {
          "output_type": "stream",
          "name": "stdout",
          "text": [
            "Epoch [3/5] Batch [26/1654] Loss: 1.7166\n",
            "Epoch [3/5] Batch [27/1654] Loss: 2.0794\n",
            "Epoch [3/5] Batch [28/1654] Loss: 1.8815\n",
            "Epoch [3/5] Batch [29/1654] Loss: 1.9182\n",
            "Epoch [3/5] Batch [30/1654] Loss: 1.5956\n",
            "Epoch [3/5] Batch [31/1654] Loss: 1.8933\n"
          ]
        },
        {
          "output_type": "stream",
          "name": "stderr",
          "text": [
            "  2%|▏         | 39/1654 [00:01<00:51, 31.56it/s]"
          ]
        },
        {
          "output_type": "stream",
          "name": "stdout",
          "text": [
            "Epoch [3/5] Batch [32/1654] Loss: 1.7632\n",
            "Epoch [3/5] Batch [33/1654] Loss: 1.7212\n",
            "Epoch [3/5] Batch [34/1654] Loss: 2.0330\n",
            "Epoch [3/5] Batch [35/1654] Loss: 1.4377\n",
            "Epoch [3/5] Batch [36/1654] Loss: 1.9557\n",
            "Epoch [3/5] Batch [37/1654] Loss: 2.0989\n",
            "Epoch [3/5] Batch [38/1654] Loss: 1.6876\n",
            "Epoch [3/5] Batch [39/1654] Loss: 1.5532\n"
          ]
        },
        {
          "output_type": "stream",
          "name": "stderr",
          "text": [
            "  3%|▎         | 47/1654 [00:01<00:48, 32.89it/s]"
          ]
        },
        {
          "output_type": "stream",
          "name": "stdout",
          "text": [
            "Epoch [3/5] Batch [40/1654] Loss: 1.5820\n",
            "Epoch [3/5] Batch [41/1654] Loss: 1.3517\n",
            "Epoch [3/5] Batch [42/1654] Loss: 1.5574\n",
            "Epoch [3/5] Batch [43/1654] Loss: 1.8032\n",
            "Epoch [3/5] Batch [44/1654] Loss: 1.6694\n",
            "Epoch [3/5] Batch [45/1654] Loss: 1.6921\n",
            "Epoch [3/5] Batch [46/1654] Loss: 1.7967\n",
            "Epoch [3/5] Batch [47/1654] Loss: 1.5679\n"
          ]
        },
        {
          "output_type": "stream",
          "name": "stderr",
          "text": [
            "  3%|▎         | 55/1654 [00:01<00:46, 34.43it/s]"
          ]
        },
        {
          "output_type": "stream",
          "name": "stdout",
          "text": [
            "Epoch [3/5] Batch [48/1654] Loss: 1.5158\n",
            "Epoch [3/5] Batch [49/1654] Loss: 1.8543\n",
            "Epoch [3/5] Batch [50/1654] Loss: 1.5084\n",
            "Epoch [3/5] Batch [51/1654] Loss: 1.6039\n",
            "Epoch [3/5] Batch [52/1654] Loss: 1.8744\n",
            "Epoch [3/5] Batch [53/1654] Loss: 1.7358\n",
            "Epoch [3/5] Batch [54/1654] Loss: 1.7155\n",
            "Epoch [3/5] Batch [55/1654] Loss: 1.6382\n"
          ]
        },
        {
          "output_type": "stream",
          "name": "stderr",
          "text": [
            "  4%|▍         | 63/1654 [00:02<00:45, 34.79it/s]"
          ]
        },
        {
          "output_type": "stream",
          "name": "stdout",
          "text": [
            "Epoch [3/5] Batch [56/1654] Loss: 1.5194\n",
            "Epoch [3/5] Batch [57/1654] Loss: 1.7008\n",
            "Epoch [3/5] Batch [58/1654] Loss: 1.8848\n",
            "Epoch [3/5] Batch [59/1654] Loss: 1.9720\n",
            "Epoch [3/5] Batch [60/1654] Loss: 1.6961\n",
            "Epoch [3/5] Batch [61/1654] Loss: 1.9124\n",
            "Epoch [3/5] Batch [62/1654] Loss: 1.7349\n",
            "Epoch [3/5] Batch [63/1654] Loss: 1.6533\n"
          ]
        },
        {
          "output_type": "stream",
          "name": "stderr",
          "text": [
            "  4%|▍         | 71/1654 [00:02<00:44, 35.63it/s]"
          ]
        },
        {
          "output_type": "stream",
          "name": "stdout",
          "text": [
            "Epoch [3/5] Batch [64/1654] Loss: 1.6457\n",
            "Epoch [3/5] Batch [65/1654] Loss: 1.7149\n",
            "Epoch [3/5] Batch [66/1654] Loss: 1.9753\n",
            "Epoch [3/5] Batch [67/1654] Loss: 1.9385\n",
            "Epoch [3/5] Batch [68/1654] Loss: 1.5736\n",
            "Epoch [3/5] Batch [69/1654] Loss: 1.8769\n",
            "Epoch [3/5] Batch [70/1654] Loss: 1.9074\n",
            "Epoch [3/5] Batch [71/1654] Loss: 1.8651\n"
          ]
        },
        {
          "output_type": "stream",
          "name": "stderr",
          "text": [
            "  5%|▍         | 79/1654 [00:02<00:44, 35.04it/s]"
          ]
        },
        {
          "output_type": "stream",
          "name": "stdout",
          "text": [
            "Epoch [3/5] Batch [72/1654] Loss: 1.6743\n",
            "Epoch [3/5] Batch [73/1654] Loss: 1.5024\n",
            "Epoch [3/5] Batch [74/1654] Loss: 1.8432\n",
            "Epoch [3/5] Batch [75/1654] Loss: 1.8229\n",
            "Epoch [3/5] Batch [76/1654] Loss: 1.7662\n",
            "Epoch [3/5] Batch [77/1654] Loss: 1.4711\n",
            "Epoch [3/5] Batch [78/1654] Loss: 1.6892\n",
            "Epoch [3/5] Batch [79/1654] Loss: 1.6949\n"
          ]
        },
        {
          "output_type": "stream",
          "name": "stderr",
          "text": [
            "\r  5%|▌         | 83/1654 [00:02<00:46, 33.64it/s]"
          ]
        },
        {
          "output_type": "stream",
          "name": "stdout",
          "text": [
            "Epoch [3/5] Batch [80/1654] Loss: 1.9157\n",
            "Epoch [3/5] Batch [81/1654] Loss: 1.6614\n",
            "Epoch [3/5] Batch [82/1654] Loss: 1.7405\n",
            "Epoch [3/5] Batch [83/1654] Loss: 1.8319\n",
            "Epoch [3/5] Batch [84/1654] Loss: 1.8527\n",
            "Epoch [3/5] Batch [85/1654] Loss: 1.7404\n",
            "Epoch [3/5] Batch [86/1654] Loss: 1.5975\n"
          ]
        },
        {
          "output_type": "stream",
          "name": "stderr",
          "text": [
            "  6%|▌         | 91/1654 [00:02<00:45, 34.39it/s]"
          ]
        },
        {
          "output_type": "stream",
          "name": "stdout",
          "text": [
            "Epoch [3/5] Batch [87/1654] Loss: 2.0169\n",
            "Epoch [3/5] Batch [88/1654] Loss: 1.5369\n",
            "Epoch [3/5] Batch [89/1654] Loss: 1.9696\n",
            "Epoch [3/5] Batch [90/1654] Loss: 1.6457\n",
            "Epoch [3/5] Batch [91/1654] Loss: 1.7239\n",
            "Epoch [3/5] Batch [92/1654] Loss: 1.8197\n",
            "Epoch [3/5] Batch [93/1654] Loss: 1.5515\n",
            "Epoch [3/5] Batch [94/1654] Loss: 1.8063\n"
          ]
        },
        {
          "output_type": "stream",
          "name": "stderr",
          "text": [
            "  6%|▌         | 99/1654 [00:03<00:44, 35.30it/s]"
          ]
        },
        {
          "output_type": "stream",
          "name": "stdout",
          "text": [
            "Epoch [3/5] Batch [95/1654] Loss: 1.5572\n",
            "Epoch [3/5] Batch [96/1654] Loss: 1.8838\n",
            "Epoch [3/5] Batch [97/1654] Loss: 1.6665\n",
            "Epoch [3/5] Batch [98/1654] Loss: 1.1734\n",
            "Epoch [3/5] Batch [99/1654] Loss: 1.5548\n",
            "Epoch [3/5] Batch [100/1654] Loss: 1.6519\n",
            "Epoch [3/5] Batch [101/1654] Loss: 1.8392\n",
            "Epoch [3/5] Batch [102/1654] Loss: 1.6071\n"
          ]
        },
        {
          "output_type": "stream",
          "name": "stderr",
          "text": [
            "  6%|▋         | 107/1654 [00:03<00:43, 35.75it/s]"
          ]
        },
        {
          "output_type": "stream",
          "name": "stdout",
          "text": [
            "Epoch [3/5] Batch [103/1654] Loss: 2.0536\n",
            "Epoch [3/5] Batch [104/1654] Loss: 1.4184\n",
            "Epoch [3/5] Batch [105/1654] Loss: 1.7589\n",
            "Epoch [3/5] Batch [106/1654] Loss: 1.9414\n",
            "Epoch [3/5] Batch [107/1654] Loss: 1.7433\n",
            "Epoch [3/5] Batch [108/1654] Loss: 1.5157\n",
            "Epoch [3/5] Batch [109/1654] Loss: 1.7043\n",
            "Epoch [3/5] Batch [110/1654] Loss: 1.4062\n"
          ]
        },
        {
          "output_type": "stream",
          "name": "stderr",
          "text": [
            "  7%|▋         | 115/1654 [00:03<00:43, 35.16it/s]"
          ]
        },
        {
          "output_type": "stream",
          "name": "stdout",
          "text": [
            "Epoch [3/5] Batch [111/1654] Loss: 1.7797\n",
            "Epoch [3/5] Batch [112/1654] Loss: 1.8499\n",
            "Epoch [3/5] Batch [113/1654] Loss: 2.0050\n",
            "Epoch [3/5] Batch [114/1654] Loss: 1.7573\n",
            "Epoch [3/5] Batch [115/1654] Loss: 1.5059\n",
            "Epoch [3/5] Batch [116/1654] Loss: 1.9116\n",
            "Epoch [3/5] Batch [117/1654] Loss: 1.5959\n",
            "Epoch [3/5] Batch [118/1654] Loss: 1.6278\n"
          ]
        },
        {
          "output_type": "stream",
          "name": "stderr",
          "text": [
            "  7%|▋         | 123/1654 [00:03<00:43, 35.15it/s]"
          ]
        },
        {
          "output_type": "stream",
          "name": "stdout",
          "text": [
            "Epoch [3/5] Batch [119/1654] Loss: 1.8336\n",
            "Epoch [3/5] Batch [120/1654] Loss: 1.5993\n",
            "Epoch [3/5] Batch [121/1654] Loss: 2.0390\n",
            "Epoch [3/5] Batch [122/1654] Loss: 1.7440\n",
            "Epoch [3/5] Batch [123/1654] Loss: 1.7169\n",
            "Epoch [3/5] Batch [124/1654] Loss: 1.5847\n",
            "Epoch [3/5] Batch [125/1654] Loss: 1.8756\n",
            "Epoch [3/5] Batch [126/1654] Loss: 1.5195\n"
          ]
        },
        {
          "output_type": "stream",
          "name": "stderr",
          "text": [
            "  8%|▊         | 131/1654 [00:03<00:42, 35.57it/s]"
          ]
        },
        {
          "output_type": "stream",
          "name": "stdout",
          "text": [
            "Epoch [3/5] Batch [127/1654] Loss: 1.7753\n",
            "Epoch [3/5] Batch [128/1654] Loss: 1.6758\n",
            "Epoch [3/5] Batch [129/1654] Loss: 1.7027\n",
            "Epoch [3/5] Batch [130/1654] Loss: 1.8657\n",
            "Epoch [3/5] Batch [131/1654] Loss: 1.9518\n",
            "Epoch [3/5] Batch [132/1654] Loss: 1.7174\n",
            "Epoch [3/5] Batch [133/1654] Loss: 1.6871\n",
            "Epoch [3/5] Batch [134/1654] Loss: 1.5535\n"
          ]
        },
        {
          "output_type": "stream",
          "name": "stderr",
          "text": [
            "  8%|▊         | 139/1654 [00:04<00:41, 36.45it/s]"
          ]
        },
        {
          "output_type": "stream",
          "name": "stdout",
          "text": [
            "Epoch [3/5] Batch [135/1654] Loss: 1.7524\n",
            "Epoch [3/5] Batch [136/1654] Loss: 1.9132\n",
            "Epoch [3/5] Batch [137/1654] Loss: 1.8824\n",
            "Epoch [3/5] Batch [138/1654] Loss: 1.4971\n",
            "Epoch [3/5] Batch [139/1654] Loss: 1.9383\n",
            "Epoch [3/5] Batch [140/1654] Loss: 1.3051\n",
            "Epoch [3/5] Batch [141/1654] Loss: 1.7612\n",
            "Epoch [3/5] Batch [142/1654] Loss: 1.6982\n"
          ]
        },
        {
          "output_type": "stream",
          "name": "stderr",
          "text": [
            "  9%|▉         | 147/1654 [00:04<00:40, 36.97it/s]"
          ]
        },
        {
          "output_type": "stream",
          "name": "stdout",
          "text": [
            "Epoch [3/5] Batch [143/1654] Loss: 1.6067\n",
            "Epoch [3/5] Batch [144/1654] Loss: 1.4382\n",
            "Epoch [3/5] Batch [145/1654] Loss: 1.7943\n",
            "Epoch [3/5] Batch [146/1654] Loss: 1.6560\n",
            "Epoch [3/5] Batch [147/1654] Loss: 2.1600\n",
            "Epoch [3/5] Batch [148/1654] Loss: 1.7039\n",
            "Epoch [3/5] Batch [149/1654] Loss: 1.6317\n",
            "Epoch [3/5] Batch [150/1654] Loss: 2.2588\n"
          ]
        },
        {
          "output_type": "stream",
          "name": "stderr",
          "text": [
            "  9%|▉         | 155/1654 [00:04<00:41, 35.76it/s]"
          ]
        },
        {
          "output_type": "stream",
          "name": "stdout",
          "text": [
            "Epoch [3/5] Batch [151/1654] Loss: 1.4319\n",
            "Epoch [3/5] Batch [152/1654] Loss: 1.9469\n",
            "Epoch [3/5] Batch [153/1654] Loss: 1.5945\n",
            "Epoch [3/5] Batch [154/1654] Loss: 1.6946\n",
            "Epoch [3/5] Batch [155/1654] Loss: 1.7286\n",
            "Epoch [3/5] Batch [156/1654] Loss: 1.5493\n",
            "Epoch [3/5] Batch [157/1654] Loss: 1.6696\n",
            "Epoch [3/5] Batch [158/1654] Loss: 1.8695\n"
          ]
        },
        {
          "output_type": "stream",
          "name": "stderr",
          "text": [
            " 10%|▉         | 163/1654 [00:04<00:40, 36.89it/s]"
          ]
        },
        {
          "output_type": "stream",
          "name": "stdout",
          "text": [
            "Epoch [3/5] Batch [159/1654] Loss: 1.6472\n",
            "Epoch [3/5] Batch [160/1654] Loss: 1.6335\n",
            "Epoch [3/5] Batch [161/1654] Loss: 1.4206\n",
            "Epoch [3/5] Batch [162/1654] Loss: 1.8601\n",
            "Epoch [3/5] Batch [163/1654] Loss: 1.9305\n",
            "Epoch [3/5] Batch [164/1654] Loss: 1.7026\n",
            "Epoch [3/5] Batch [165/1654] Loss: 1.4523\n",
            "Epoch [3/5] Batch [166/1654] Loss: 1.5681\n"
          ]
        },
        {
          "output_type": "stream",
          "name": "stderr",
          "text": [
            " 10%|█         | 171/1654 [00:05<00:39, 37.44it/s]"
          ]
        },
        {
          "output_type": "stream",
          "name": "stdout",
          "text": [
            "Epoch [3/5] Batch [167/1654] Loss: 2.1531\n",
            "Epoch [3/5] Batch [168/1654] Loss: 1.7415\n",
            "Epoch [3/5] Batch [169/1654] Loss: 1.8085\n",
            "Epoch [3/5] Batch [170/1654] Loss: 1.7081\n",
            "Epoch [3/5] Batch [171/1654] Loss: 1.7258\n",
            "Epoch [3/5] Batch [172/1654] Loss: 1.4778\n",
            "Epoch [3/5] Batch [173/1654] Loss: 1.5375\n",
            "Epoch [3/5] Batch [174/1654] Loss: 1.4451\n"
          ]
        },
        {
          "output_type": "stream",
          "name": "stderr",
          "text": [
            " 11%|█         | 179/1654 [00:05<00:39, 37.50it/s]"
          ]
        },
        {
          "output_type": "stream",
          "name": "stdout",
          "text": [
            "Epoch [3/5] Batch [175/1654] Loss: 1.7496\n",
            "Epoch [3/5] Batch [176/1654] Loss: 1.5681\n",
            "Epoch [3/5] Batch [177/1654] Loss: 1.7952\n",
            "Epoch [3/5] Batch [178/1654] Loss: 1.5454\n",
            "Epoch [3/5] Batch [179/1654] Loss: 1.8856\n",
            "Epoch [3/5] Batch [180/1654] Loss: 1.6762\n",
            "Epoch [3/5] Batch [181/1654] Loss: 1.7471\n",
            "Epoch [3/5] Batch [182/1654] Loss: 1.4873\n"
          ]
        },
        {
          "output_type": "stream",
          "name": "stderr",
          "text": [
            " 11%|█▏        | 187/1654 [00:05<00:38, 38.20it/s]"
          ]
        },
        {
          "output_type": "stream",
          "name": "stdout",
          "text": [
            "Epoch [3/5] Batch [183/1654] Loss: 1.8621\n",
            "Epoch [3/5] Batch [184/1654] Loss: 1.4073\n",
            "Epoch [3/5] Batch [185/1654] Loss: 1.5849\n",
            "Epoch [3/5] Batch [186/1654] Loss: 1.7532\n",
            "Epoch [3/5] Batch [187/1654] Loss: 1.9998\n",
            "Epoch [3/5] Batch [188/1654] Loss: 1.9193\n",
            "Epoch [3/5] Batch [189/1654] Loss: 1.7840\n",
            "Epoch [3/5] Batch [190/1654] Loss: 1.6887\n"
          ]
        },
        {
          "output_type": "stream",
          "name": "stderr",
          "text": [
            " 12%|█▏        | 195/1654 [00:05<00:39, 36.63it/s]"
          ]
        },
        {
          "output_type": "stream",
          "name": "stdout",
          "text": [
            "Epoch [3/5] Batch [191/1654] Loss: 1.6953\n",
            "Epoch [3/5] Batch [192/1654] Loss: 1.1891\n",
            "Epoch [3/5] Batch [193/1654] Loss: 1.8119\n",
            "Epoch [3/5] Batch [194/1654] Loss: 1.8856\n",
            "Epoch [3/5] Batch [195/1654] Loss: 1.9447\n",
            "Epoch [3/5] Batch [196/1654] Loss: 1.6927\n",
            "Epoch [3/5] Batch [197/1654] Loss: 1.5748\n",
            "Epoch [3/5] Batch [198/1654] Loss: 1.8200\n"
          ]
        },
        {
          "output_type": "stream",
          "name": "stderr",
          "text": [
            " 12%|█▏        | 203/1654 [00:05<00:38, 37.36it/s]"
          ]
        },
        {
          "output_type": "stream",
          "name": "stdout",
          "text": [
            "Epoch [3/5] Batch [199/1654] Loss: 1.7272\n",
            "Epoch [3/5] Batch [200/1654] Loss: 2.0332\n",
            "Epoch [3/5] Batch [201/1654] Loss: 1.9001\n",
            "Epoch [3/5] Batch [202/1654] Loss: 1.6095\n",
            "Epoch [3/5] Batch [203/1654] Loss: 1.6107\n",
            "Epoch [3/5] Batch [204/1654] Loss: 1.3779\n",
            "Epoch [3/5] Batch [205/1654] Loss: 1.3002\n",
            "Epoch [3/5] Batch [206/1654] Loss: 1.6168\n"
          ]
        },
        {
          "output_type": "stream",
          "name": "stderr",
          "text": [
            " 13%|█▎        | 211/1654 [00:06<00:38, 37.90it/s]"
          ]
        },
        {
          "output_type": "stream",
          "name": "stdout",
          "text": [
            "Epoch [3/5] Batch [207/1654] Loss: 1.5012\n",
            "Epoch [3/5] Batch [208/1654] Loss: 1.5370\n",
            "Epoch [3/5] Batch [209/1654] Loss: 1.6759\n",
            "Epoch [3/5] Batch [210/1654] Loss: 1.4943\n",
            "Epoch [3/5] Batch [211/1654] Loss: 1.8626\n",
            "Epoch [3/5] Batch [212/1654] Loss: 1.5756\n",
            "Epoch [3/5] Batch [213/1654] Loss: 1.8041\n",
            "Epoch [3/5] Batch [214/1654] Loss: 1.5480\n"
          ]
        },
        {
          "output_type": "stream",
          "name": "stderr",
          "text": [
            " 13%|█▎        | 219/1654 [00:06<00:38, 37.49it/s]"
          ]
        },
        {
          "output_type": "stream",
          "name": "stdout",
          "text": [
            "Epoch [3/5] Batch [215/1654] Loss: 1.7194\n",
            "Epoch [3/5] Batch [216/1654] Loss: 1.6818\n",
            "Epoch [3/5] Batch [217/1654] Loss: 1.5041\n",
            "Epoch [3/5] Batch [218/1654] Loss: 1.7057\n",
            "Epoch [3/5] Batch [219/1654] Loss: 1.4022\n",
            "Epoch [3/5] Batch [220/1654] Loss: 1.6662\n",
            "Epoch [3/5] Batch [221/1654] Loss: 1.8200\n",
            "Epoch [3/5] Batch [222/1654] Loss: 1.7758\n"
          ]
        },
        {
          "output_type": "stream",
          "name": "stderr",
          "text": [
            " 14%|█▎        | 227/1654 [00:06<00:39, 36.53it/s]"
          ]
        },
        {
          "output_type": "stream",
          "name": "stdout",
          "text": [
            "Epoch [3/5] Batch [223/1654] Loss: 1.7742\n",
            "Epoch [3/5] Batch [224/1654] Loss: 1.4024\n",
            "Epoch [3/5] Batch [225/1654] Loss: 1.5741\n",
            "Epoch [3/5] Batch [226/1654] Loss: 1.7385\n",
            "Epoch [3/5] Batch [227/1654] Loss: 1.7079\n",
            "Epoch [3/5] Batch [228/1654] Loss: 1.7175\n",
            "Epoch [3/5] Batch [229/1654] Loss: 1.6526\n",
            "Epoch [3/5] Batch [230/1654] Loss: 1.8492\n"
          ]
        },
        {
          "output_type": "stream",
          "name": "stderr",
          "text": [
            " 14%|█▍        | 235/1654 [00:06<00:38, 36.75it/s]"
          ]
        },
        {
          "output_type": "stream",
          "name": "stdout",
          "text": [
            "Epoch [3/5] Batch [231/1654] Loss: 1.5878\n",
            "Epoch [3/5] Batch [232/1654] Loss: 1.8423\n",
            "Epoch [3/5] Batch [233/1654] Loss: 1.8185\n",
            "Epoch [3/5] Batch [234/1654] Loss: 1.7846\n",
            "Epoch [3/5] Batch [235/1654] Loss: 1.7532\n",
            "Epoch [3/5] Batch [236/1654] Loss: 1.8212\n",
            "Epoch [3/5] Batch [237/1654] Loss: 1.3510\n",
            "Epoch [3/5] Batch [238/1654] Loss: 1.8191\n"
          ]
        },
        {
          "output_type": "stream",
          "name": "stderr",
          "text": [
            " 15%|█▍        | 243/1654 [00:06<00:37, 37.25it/s]"
          ]
        },
        {
          "output_type": "stream",
          "name": "stdout",
          "text": [
            "Epoch [3/5] Batch [239/1654] Loss: 1.5104\n",
            "Epoch [3/5] Batch [240/1654] Loss: 1.7390\n",
            "Epoch [3/5] Batch [241/1654] Loss: 1.6842\n",
            "Epoch [3/5] Batch [242/1654] Loss: 1.5109\n",
            "Epoch [3/5] Batch [243/1654] Loss: 1.9749\n",
            "Epoch [3/5] Batch [244/1654] Loss: 1.8230\n",
            "Epoch [3/5] Batch [245/1654] Loss: 1.7610\n",
            "Epoch [3/5] Batch [246/1654] Loss: 1.8158\n"
          ]
        },
        {
          "output_type": "stream",
          "name": "stderr",
          "text": [
            " 15%|█▌        | 251/1654 [00:07<00:37, 37.55it/s]"
          ]
        },
        {
          "output_type": "stream",
          "name": "stdout",
          "text": [
            "Epoch [3/5] Batch [247/1654] Loss: 1.6336\n",
            "Epoch [3/5] Batch [248/1654] Loss: 1.6578\n",
            "Epoch [3/5] Batch [249/1654] Loss: 1.5792\n",
            "Epoch [3/5] Batch [250/1654] Loss: 1.7516\n",
            "Epoch [3/5] Batch [251/1654] Loss: 1.8048\n",
            "Epoch [3/5] Batch [252/1654] Loss: 1.8710\n",
            "Epoch [3/5] Batch [253/1654] Loss: 2.0008\n",
            "Epoch [3/5] Batch [254/1654] Loss: 1.8191\n"
          ]
        },
        {
          "output_type": "stream",
          "name": "stderr",
          "text": [
            " 16%|█▌        | 259/1654 [00:07<00:37, 37.66it/s]"
          ]
        },
        {
          "output_type": "stream",
          "name": "stdout",
          "text": [
            "Epoch [3/5] Batch [255/1654] Loss: 1.6274\n",
            "Epoch [3/5] Batch [256/1654] Loss: 1.9735\n",
            "Epoch [3/5] Batch [257/1654] Loss: 1.5916\n",
            "Epoch [3/5] Batch [258/1654] Loss: 1.6995\n",
            "Epoch [3/5] Batch [259/1654] Loss: 1.8092\n",
            "Epoch [3/5] Batch [260/1654] Loss: 1.7964\n",
            "Epoch [3/5] Batch [261/1654] Loss: 1.7647\n",
            "Epoch [3/5] Batch [262/1654] Loss: 1.6808\n"
          ]
        },
        {
          "output_type": "stream",
          "name": "stderr",
          "text": [
            " 16%|█▌        | 267/1654 [00:07<00:38, 36.21it/s]"
          ]
        },
        {
          "output_type": "stream",
          "name": "stdout",
          "text": [
            "Epoch [3/5] Batch [263/1654] Loss: 2.1264\n",
            "Epoch [3/5] Batch [264/1654] Loss: 1.7811\n",
            "Epoch [3/5] Batch [265/1654] Loss: 1.6523\n",
            "Epoch [3/5] Batch [266/1654] Loss: 1.7353\n",
            "Epoch [3/5] Batch [267/1654] Loss: 1.5936\n",
            "Epoch [3/5] Batch [268/1654] Loss: 1.6709\n",
            "Epoch [3/5] Batch [269/1654] Loss: 1.8984\n",
            "Epoch [3/5] Batch [270/1654] Loss: 1.7416\n"
          ]
        },
        {
          "output_type": "stream",
          "name": "stderr",
          "text": [
            " 17%|█▋        | 275/1654 [00:07<00:37, 36.73it/s]"
          ]
        },
        {
          "output_type": "stream",
          "name": "stdout",
          "text": [
            "Epoch [3/5] Batch [271/1654] Loss: 1.4632\n",
            "Epoch [3/5] Batch [272/1654] Loss: 1.8571\n",
            "Epoch [3/5] Batch [273/1654] Loss: 1.5240\n",
            "Epoch [3/5] Batch [274/1654] Loss: 1.6070\n",
            "Epoch [3/5] Batch [275/1654] Loss: 1.7325\n",
            "Epoch [3/5] Batch [276/1654] Loss: 1.3711\n",
            "Epoch [3/5] Batch [277/1654] Loss: 1.6910\n",
            "Epoch [3/5] Batch [278/1654] Loss: 1.5276\n"
          ]
        },
        {
          "output_type": "stream",
          "name": "stderr",
          "text": [
            " 17%|█▋        | 283/1654 [00:08<00:36, 37.48it/s]"
          ]
        },
        {
          "output_type": "stream",
          "name": "stdout",
          "text": [
            "Epoch [3/5] Batch [279/1654] Loss: 1.4403\n",
            "Epoch [3/5] Batch [280/1654] Loss: 1.9488\n",
            "Epoch [3/5] Batch [281/1654] Loss: 1.8897\n",
            "Epoch [3/5] Batch [282/1654] Loss: 1.6748\n",
            "Epoch [3/5] Batch [283/1654] Loss: 1.6105\n",
            "Epoch [3/5] Batch [284/1654] Loss: 1.9956\n",
            "Epoch [3/5] Batch [285/1654] Loss: 1.9903\n",
            "Epoch [3/5] Batch [286/1654] Loss: 2.0426\n"
          ]
        },
        {
          "output_type": "stream",
          "name": "stderr",
          "text": [
            " 18%|█▊        | 291/1654 [00:08<00:36, 37.49it/s]"
          ]
        },
        {
          "output_type": "stream",
          "name": "stdout",
          "text": [
            "Epoch [3/5] Batch [287/1654] Loss: 1.7568\n",
            "Epoch [3/5] Batch [288/1654] Loss: 1.8870\n",
            "Epoch [3/5] Batch [289/1654] Loss: 1.9243\n",
            "Epoch [3/5] Batch [290/1654] Loss: 1.8843\n",
            "Epoch [3/5] Batch [291/1654] Loss: 1.7139\n",
            "Epoch [3/5] Batch [292/1654] Loss: 1.6991\n",
            "Epoch [3/5] Batch [293/1654] Loss: 1.6660\n",
            "Epoch [3/5] Batch [294/1654] Loss: 2.0010\n"
          ]
        },
        {
          "output_type": "stream",
          "name": "stderr",
          "text": [
            " 18%|█▊        | 299/1654 [00:08<00:35, 37.69it/s]"
          ]
        },
        {
          "output_type": "stream",
          "name": "stdout",
          "text": [
            "Epoch [3/5] Batch [295/1654] Loss: 1.7371\n",
            "Epoch [3/5] Batch [296/1654] Loss: 1.5398\n",
            "Epoch [3/5] Batch [297/1654] Loss: 1.6648\n",
            "Epoch [3/5] Batch [298/1654] Loss: 1.6734\n",
            "Epoch [3/5] Batch [299/1654] Loss: 1.6334\n",
            "Epoch [3/5] Batch [300/1654] Loss: 1.8538\n",
            "Epoch [3/5] Batch [301/1654] Loss: 1.6925\n",
            "Epoch [3/5] Batch [302/1654] Loss: 1.5364\n"
          ]
        },
        {
          "output_type": "stream",
          "name": "stderr",
          "text": [
            " 19%|█▊        | 307/1654 [00:08<00:36, 36.48it/s]"
          ]
        },
        {
          "output_type": "stream",
          "name": "stdout",
          "text": [
            "Epoch [3/5] Batch [303/1654] Loss: 1.7034\n",
            "Epoch [3/5] Batch [304/1654] Loss: 1.5437\n",
            "Epoch [3/5] Batch [305/1654] Loss: 1.9793\n",
            "Epoch [3/5] Batch [306/1654] Loss: 1.6737\n",
            "Epoch [3/5] Batch [307/1654] Loss: 1.5852\n",
            "Epoch [3/5] Batch [308/1654] Loss: 1.5220\n",
            "Epoch [3/5] Batch [309/1654] Loss: 1.8518\n",
            "Epoch [3/5] Batch [310/1654] Loss: 1.6276\n"
          ]
        },
        {
          "output_type": "stream",
          "name": "stderr",
          "text": [
            " 19%|█▉        | 315/1654 [00:08<00:35, 37.24it/s]"
          ]
        },
        {
          "output_type": "stream",
          "name": "stdout",
          "text": [
            "Epoch [3/5] Batch [311/1654] Loss: 1.7536\n",
            "Epoch [3/5] Batch [312/1654] Loss: 1.5297\n",
            "Epoch [3/5] Batch [313/1654] Loss: 1.6604\n",
            "Epoch [3/5] Batch [314/1654] Loss: 1.8046\n",
            "Epoch [3/5] Batch [315/1654] Loss: 1.8041\n",
            "Epoch [3/5] Batch [316/1654] Loss: 1.4688\n",
            "Epoch [3/5] Batch [317/1654] Loss: 1.6715\n",
            "Epoch [3/5] Batch [318/1654] Loss: 1.7495\n"
          ]
        },
        {
          "output_type": "stream",
          "name": "stderr",
          "text": [
            " 20%|█▉        | 323/1654 [00:09<00:35, 37.37it/s]"
          ]
        },
        {
          "output_type": "stream",
          "name": "stdout",
          "text": [
            "Epoch [3/5] Batch [319/1654] Loss: 1.8179\n",
            "Epoch [3/5] Batch [320/1654] Loss: 1.4464\n",
            "Epoch [3/5] Batch [321/1654] Loss: 1.7327\n",
            "Epoch [3/5] Batch [322/1654] Loss: 1.7629\n",
            "Epoch [3/5] Batch [323/1654] Loss: 1.9241\n",
            "Epoch [3/5] Batch [324/1654] Loss: 1.7365\n",
            "Epoch [3/5] Batch [325/1654] Loss: 1.7431\n",
            "Epoch [3/5] Batch [326/1654] Loss: 1.6440\n"
          ]
        },
        {
          "output_type": "stream",
          "name": "stderr",
          "text": [
            " 20%|██        | 331/1654 [00:09<00:35, 37.08it/s]"
          ]
        },
        {
          "output_type": "stream",
          "name": "stdout",
          "text": [
            "Epoch [3/5] Batch [327/1654] Loss: 1.5460\n",
            "Epoch [3/5] Batch [328/1654] Loss: 1.7096\n",
            "Epoch [3/5] Batch [329/1654] Loss: 1.7845\n",
            "Epoch [3/5] Batch [330/1654] Loss: 1.6163\n",
            "Epoch [3/5] Batch [331/1654] Loss: 2.1615\n",
            "Epoch [3/5] Batch [332/1654] Loss: 1.7640\n",
            "Epoch [3/5] Batch [333/1654] Loss: 1.6291\n",
            "Epoch [3/5] Batch [334/1654] Loss: 1.8970\n"
          ]
        },
        {
          "output_type": "stream",
          "name": "stderr",
          "text": [
            " 20%|██        | 339/1654 [00:09<00:35, 36.78it/s]"
          ]
        },
        {
          "output_type": "stream",
          "name": "stdout",
          "text": [
            "Epoch [3/5] Batch [335/1654] Loss: 1.3131\n",
            "Epoch [3/5] Batch [336/1654] Loss: 1.6308\n",
            "Epoch [3/5] Batch [337/1654] Loss: 1.6186\n",
            "Epoch [3/5] Batch [338/1654] Loss: 1.8454\n",
            "Epoch [3/5] Batch [339/1654] Loss: 1.3896\n",
            "Epoch [3/5] Batch [340/1654] Loss: 1.8016\n",
            "Epoch [3/5] Batch [341/1654] Loss: 1.5428\n",
            "Epoch [3/5] Batch [342/1654] Loss: 1.6363\n"
          ]
        },
        {
          "output_type": "stream",
          "name": "stderr",
          "text": [
            " 21%|██        | 347/1654 [00:09<00:36, 36.28it/s]"
          ]
        },
        {
          "output_type": "stream",
          "name": "stdout",
          "text": [
            "Epoch [3/5] Batch [343/1654] Loss: 1.8447\n",
            "Epoch [3/5] Batch [344/1654] Loss: 1.4417\n",
            "Epoch [3/5] Batch [345/1654] Loss: 1.4473\n",
            "Epoch [3/5] Batch [346/1654] Loss: 1.5206\n",
            "Epoch [3/5] Batch [347/1654] Loss: 1.9538\n",
            "Epoch [3/5] Batch [348/1654] Loss: 1.4887\n",
            "Epoch [3/5] Batch [349/1654] Loss: 1.9816\n",
            "Epoch [3/5] Batch [350/1654] Loss: 1.5764\n"
          ]
        },
        {
          "output_type": "stream",
          "name": "stderr",
          "text": [
            " 21%|██▏       | 355/1654 [00:10<00:35, 36.86it/s]"
          ]
        },
        {
          "output_type": "stream",
          "name": "stdout",
          "text": [
            "Epoch [3/5] Batch [351/1654] Loss: 1.9036\n",
            "Epoch [3/5] Batch [352/1654] Loss: 1.4012\n",
            "Epoch [3/5] Batch [353/1654] Loss: 1.8462\n",
            "Epoch [3/5] Batch [354/1654] Loss: 1.8732\n",
            "Epoch [3/5] Batch [355/1654] Loss: 1.6397\n",
            "Epoch [3/5] Batch [356/1654] Loss: 1.6339\n",
            "Epoch [3/5] Batch [357/1654] Loss: 1.9199\n",
            "Epoch [3/5] Batch [358/1654] Loss: 1.7236\n"
          ]
        },
        {
          "output_type": "stream",
          "name": "stderr",
          "text": [
            " 22%|██▏       | 363/1654 [00:10<00:35, 36.72it/s]"
          ]
        },
        {
          "output_type": "stream",
          "name": "stdout",
          "text": [
            "Epoch [3/5] Batch [359/1654] Loss: 1.7472\n",
            "Epoch [3/5] Batch [360/1654] Loss: 1.4047\n",
            "Epoch [3/5] Batch [361/1654] Loss: 1.3282\n",
            "Epoch [3/5] Batch [362/1654] Loss: 1.2615\n",
            "Epoch [3/5] Batch [363/1654] Loss: 1.5765\n",
            "Epoch [3/5] Batch [364/1654] Loss: 1.7205\n",
            "Epoch [3/5] Batch [365/1654] Loss: 1.6796\n",
            "Epoch [3/5] Batch [366/1654] Loss: 1.5799\n"
          ]
        },
        {
          "output_type": "stream",
          "name": "stderr",
          "text": [
            " 22%|██▏       | 371/1654 [00:10<00:34, 37.02it/s]"
          ]
        },
        {
          "output_type": "stream",
          "name": "stdout",
          "text": [
            "Epoch [3/5] Batch [367/1654] Loss: 1.5169\n",
            "Epoch [3/5] Batch [368/1654] Loss: 2.0225\n",
            "Epoch [3/5] Batch [369/1654] Loss: 1.7472\n",
            "Epoch [3/5] Batch [370/1654] Loss: 1.4842\n",
            "Epoch [3/5] Batch [371/1654] Loss: 1.7251\n",
            "Epoch [3/5] Batch [372/1654] Loss: 1.7268\n",
            "Epoch [3/5] Batch [373/1654] Loss: 1.5159\n",
            "Epoch [3/5] Batch [374/1654] Loss: 1.6826\n"
          ]
        },
        {
          "output_type": "stream",
          "name": "stderr",
          "text": [
            " 23%|██▎       | 379/1654 [00:10<00:33, 37.88it/s]"
          ]
        },
        {
          "output_type": "stream",
          "name": "stdout",
          "text": [
            "Epoch [3/5] Batch [375/1654] Loss: 1.5386\n",
            "Epoch [3/5] Batch [376/1654] Loss: 1.6843\n",
            "Epoch [3/5] Batch [377/1654] Loss: 1.8349\n",
            "Epoch [3/5] Batch [378/1654] Loss: 1.6911\n",
            "Epoch [3/5] Batch [379/1654] Loss: 1.7127\n",
            "Epoch [3/5] Batch [380/1654] Loss: 1.9121\n",
            "Epoch [3/5] Batch [381/1654] Loss: 1.4312\n",
            "Epoch [3/5] Batch [382/1654] Loss: 1.7287\n"
          ]
        },
        {
          "output_type": "stream",
          "name": "stderr",
          "text": [
            " 23%|██▎       | 387/1654 [00:10<00:33, 37.43it/s]"
          ]
        },
        {
          "output_type": "stream",
          "name": "stdout",
          "text": [
            "Epoch [3/5] Batch [383/1654] Loss: 1.7650\n",
            "Epoch [3/5] Batch [384/1654] Loss: 1.4971\n",
            "Epoch [3/5] Batch [385/1654] Loss: 1.5705\n",
            "Epoch [3/5] Batch [386/1654] Loss: 1.3659\n",
            "Epoch [3/5] Batch [387/1654] Loss: 1.7756\n",
            "Epoch [3/5] Batch [388/1654] Loss: 1.6223\n",
            "Epoch [3/5] Batch [389/1654] Loss: 1.5123\n",
            "Epoch [3/5] Batch [390/1654] Loss: 1.7393\n"
          ]
        },
        {
          "output_type": "stream",
          "name": "stderr",
          "text": [
            " 24%|██▍       | 395/1654 [00:11<00:33, 37.42it/s]"
          ]
        },
        {
          "output_type": "stream",
          "name": "stdout",
          "text": [
            "Epoch [3/5] Batch [391/1654] Loss: 1.2692\n",
            "Epoch [3/5] Batch [392/1654] Loss: 1.6516\n",
            "Epoch [3/5] Batch [393/1654] Loss: 1.8220\n",
            "Epoch [3/5] Batch [394/1654] Loss: 1.7852\n",
            "Epoch [3/5] Batch [395/1654] Loss: 1.5182\n",
            "Epoch [3/5] Batch [396/1654] Loss: 1.6747\n",
            "Epoch [3/5] Batch [397/1654] Loss: 1.7036\n"
          ]
        },
        {
          "output_type": "stream",
          "name": "stderr",
          "text": [
            " 24%|██▍       | 403/1654 [00:11<00:39, 31.99it/s]"
          ]
        },
        {
          "output_type": "stream",
          "name": "stdout",
          "text": [
            "Epoch [3/5] Batch [398/1654] Loss: 1.6700\n",
            "Epoch [3/5] Batch [399/1654] Loss: 1.5193\n",
            "Epoch [3/5] Batch [400/1654] Loss: 1.4511\n",
            "Epoch [3/5] Batch [401/1654] Loss: 1.4648\n",
            "Epoch [3/5] Batch [402/1654] Loss: 1.8706\n",
            "Epoch [3/5] Batch [403/1654] Loss: 1.9923\n"
          ]
        },
        {
          "output_type": "stream",
          "name": "stderr",
          "text": [
            "\r 25%|██▍       | 407/1654 [00:11<00:41, 30.10it/s]"
          ]
        },
        {
          "output_type": "stream",
          "name": "stdout",
          "text": [
            "Epoch [3/5] Batch [404/1654] Loss: 1.5908\n",
            "Epoch [3/5] Batch [405/1654] Loss: 1.7748\n",
            "Epoch [3/5] Batch [406/1654] Loss: 1.5936\n",
            "Epoch [3/5] Batch [407/1654] Loss: 1.4851\n",
            "Epoch [3/5] Batch [408/1654] Loss: 1.6169\n",
            "Epoch [3/5] Batch [409/1654] Loss: 1.5953\n"
          ]
        },
        {
          "output_type": "stream",
          "name": "stderr",
          "text": [
            " 25%|██▌       | 415/1654 [00:11<00:42, 29.03it/s]"
          ]
        },
        {
          "output_type": "stream",
          "name": "stdout",
          "text": [
            "Epoch [3/5] Batch [410/1654] Loss: 1.6196\n",
            "Epoch [3/5] Batch [411/1654] Loss: 1.7792\n",
            "Epoch [3/5] Batch [412/1654] Loss: 1.7732\n",
            "Epoch [3/5] Batch [413/1654] Loss: 1.9966\n",
            "Epoch [3/5] Batch [414/1654] Loss: 1.4041\n",
            "Epoch [3/5] Batch [415/1654] Loss: 1.9855\n"
          ]
        },
        {
          "output_type": "stream",
          "name": "stderr",
          "text": [
            " 26%|██▌       | 422/1654 [00:12<00:41, 29.49it/s]"
          ]
        },
        {
          "output_type": "stream",
          "name": "stdout",
          "text": [
            "Epoch [3/5] Batch [416/1654] Loss: 2.2504\n",
            "Epoch [3/5] Batch [417/1654] Loss: 2.1951\n",
            "Epoch [3/5] Batch [418/1654] Loss: 2.2321\n",
            "Epoch [3/5] Batch [419/1654] Loss: 1.4857\n",
            "Epoch [3/5] Batch [420/1654] Loss: 1.9182\n",
            "Epoch [3/5] Batch [421/1654] Loss: 2.0036\n",
            "Epoch [3/5] Batch [422/1654] Loss: 1.5142\n"
          ]
        },
        {
          "output_type": "stream",
          "name": "stderr",
          "text": [
            " 26%|██▌       | 428/1654 [00:12<00:42, 29.11it/s]"
          ]
        },
        {
          "output_type": "stream",
          "name": "stdout",
          "text": [
            "Epoch [3/5] Batch [423/1654] Loss: 1.8705\n",
            "Epoch [3/5] Batch [424/1654] Loss: 1.4739\n",
            "Epoch [3/5] Batch [425/1654] Loss: 1.5599\n",
            "Epoch [3/5] Batch [426/1654] Loss: 1.6239\n",
            "Epoch [3/5] Batch [427/1654] Loss: 1.6309\n",
            "Epoch [3/5] Batch [428/1654] Loss: 1.7614\n"
          ]
        },
        {
          "output_type": "stream",
          "name": "stderr",
          "text": [
            " 26%|██▋       | 435/1654 [00:12<00:40, 30.07it/s]"
          ]
        },
        {
          "output_type": "stream",
          "name": "stdout",
          "text": [
            "Epoch [3/5] Batch [429/1654] Loss: 1.4608\n",
            "Epoch [3/5] Batch [430/1654] Loss: 1.7946\n",
            "Epoch [3/5] Batch [431/1654] Loss: 2.0852\n",
            "Epoch [3/5] Batch [432/1654] Loss: 1.7653\n",
            "Epoch [3/5] Batch [433/1654] Loss: 2.1010\n",
            "Epoch [3/5] Batch [434/1654] Loss: 1.6337\n",
            "Epoch [3/5] Batch [435/1654] Loss: 1.7965\n"
          ]
        },
        {
          "output_type": "stream",
          "name": "stderr",
          "text": [
            "\r 27%|██▋       | 439/1654 [00:12<00:41, 29.11it/s]"
          ]
        },
        {
          "output_type": "stream",
          "name": "stdout",
          "text": [
            "Epoch [3/5] Batch [436/1654] Loss: 1.5869\n",
            "Epoch [3/5] Batch [437/1654] Loss: 1.4814\n",
            "Epoch [3/5] Batch [438/1654] Loss: 1.5879\n",
            "Epoch [3/5] Batch [439/1654] Loss: 1.6122\n",
            "Epoch [3/5] Batch [440/1654] Loss: 1.4332\n",
            "Epoch [3/5] Batch [441/1654] Loss: 2.1090\n"
          ]
        },
        {
          "output_type": "stream",
          "name": "stderr",
          "text": [
            " 27%|██▋       | 445/1654 [00:12<00:43, 27.82it/s]"
          ]
        },
        {
          "output_type": "stream",
          "name": "stdout",
          "text": [
            "Epoch [3/5] Batch [442/1654] Loss: 1.4970\n",
            "Epoch [3/5] Batch [443/1654] Loss: 1.4396\n",
            "Epoch [3/5] Batch [444/1654] Loss: 2.0455\n",
            "Epoch [3/5] Batch [445/1654] Loss: 1.8120\n",
            "Epoch [3/5] Batch [446/1654] Loss: 1.6434\n",
            "Epoch [3/5] Batch [447/1654] Loss: 2.2542\n"
          ]
        },
        {
          "output_type": "stream",
          "name": "stderr",
          "text": [
            " 27%|██▋       | 451/1654 [00:13<00:45, 26.41it/s]"
          ]
        },
        {
          "output_type": "stream",
          "name": "stdout",
          "text": [
            "Epoch [3/5] Batch [448/1654] Loss: 1.5980\n",
            "Epoch [3/5] Batch [449/1654] Loss: 1.7893\n",
            "Epoch [3/5] Batch [450/1654] Loss: 1.5405\n",
            "Epoch [3/5] Batch [451/1654] Loss: 1.6106\n",
            "Epoch [3/5] Batch [452/1654] Loss: 1.8703\n"
          ]
        },
        {
          "output_type": "stream",
          "name": "stderr",
          "text": [
            " 28%|██▊       | 457/1654 [00:13<00:45, 26.16it/s]"
          ]
        },
        {
          "output_type": "stream",
          "name": "stdout",
          "text": [
            "Epoch [3/5] Batch [453/1654] Loss: 1.6177\n",
            "Epoch [3/5] Batch [454/1654] Loss: 1.6267\n",
            "Epoch [3/5] Batch [455/1654] Loss: 1.6921\n",
            "Epoch [3/5] Batch [456/1654] Loss: 1.7964\n",
            "Epoch [3/5] Batch [457/1654] Loss: 1.3960\n",
            "Epoch [3/5] Batch [458/1654] Loss: 1.9147\n"
          ]
        },
        {
          "output_type": "stream",
          "name": "stderr",
          "text": [
            " 28%|██▊       | 465/1654 [00:13<00:38, 30.76it/s]"
          ]
        },
        {
          "output_type": "stream",
          "name": "stdout",
          "text": [
            "Epoch [3/5] Batch [459/1654] Loss: 1.8071\n",
            "Epoch [3/5] Batch [460/1654] Loss: 1.7285\n",
            "Epoch [3/5] Batch [461/1654] Loss: 1.6897\n",
            "Epoch [3/5] Batch [462/1654] Loss: 1.8806\n",
            "Epoch [3/5] Batch [463/1654] Loss: 1.1754\n",
            "Epoch [3/5] Batch [464/1654] Loss: 1.9028\n",
            "Epoch [3/5] Batch [465/1654] Loss: 1.6907\n",
            "Epoch [3/5] Batch [466/1654] Loss: 1.4670\n"
          ]
        },
        {
          "output_type": "stream",
          "name": "stderr",
          "text": [
            " 29%|██▊       | 473/1654 [00:13<00:35, 33.46it/s]"
          ]
        },
        {
          "output_type": "stream",
          "name": "stdout",
          "text": [
            "Epoch [3/5] Batch [467/1654] Loss: 1.5169\n",
            "Epoch [3/5] Batch [468/1654] Loss: 1.3048\n",
            "Epoch [3/5] Batch [469/1654] Loss: 1.6327\n",
            "Epoch [3/5] Batch [470/1654] Loss: 1.8053\n",
            "Epoch [3/5] Batch [471/1654] Loss: 1.5464\n",
            "Epoch [3/5] Batch [472/1654] Loss: 1.7879\n",
            "Epoch [3/5] Batch [473/1654] Loss: 1.7866\n",
            "Epoch [3/5] Batch [474/1654] Loss: 1.6881\n"
          ]
        },
        {
          "output_type": "stream",
          "name": "stderr",
          "text": [
            " 29%|██▉       | 481/1654 [00:14<00:34, 34.19it/s]"
          ]
        },
        {
          "output_type": "stream",
          "name": "stdout",
          "text": [
            "Epoch [3/5] Batch [475/1654] Loss: 2.0101\n",
            "Epoch [3/5] Batch [476/1654] Loss: 1.7435\n",
            "Epoch [3/5] Batch [477/1654] Loss: 1.8831\n",
            "Epoch [3/5] Batch [478/1654] Loss: 1.9859\n",
            "Epoch [3/5] Batch [479/1654] Loss: 1.6355\n",
            "Epoch [3/5] Batch [480/1654] Loss: 1.5328\n",
            "Epoch [3/5] Batch [481/1654] Loss: 1.7321\n",
            "Epoch [3/5] Batch [482/1654] Loss: 1.9943\n"
          ]
        },
        {
          "output_type": "stream",
          "name": "stderr",
          "text": [
            " 30%|██▉       | 489/1654 [00:14<00:33, 35.08it/s]"
          ]
        },
        {
          "output_type": "stream",
          "name": "stdout",
          "text": [
            "Epoch [3/5] Batch [483/1654] Loss: 1.8563\n",
            "Epoch [3/5] Batch [484/1654] Loss: 1.6796\n",
            "Epoch [3/5] Batch [485/1654] Loss: 1.6953\n",
            "Epoch [3/5] Batch [486/1654] Loss: 1.4326\n",
            "Epoch [3/5] Batch [487/1654] Loss: 1.5436\n",
            "Epoch [3/5] Batch [488/1654] Loss: 1.7100\n",
            "Epoch [3/5] Batch [489/1654] Loss: 1.3889\n",
            "Epoch [3/5] Batch [490/1654] Loss: 1.4544\n"
          ]
        },
        {
          "output_type": "stream",
          "name": "stderr",
          "text": [
            " 30%|███       | 497/1654 [00:14<00:32, 35.32it/s]"
          ]
        },
        {
          "output_type": "stream",
          "name": "stdout",
          "text": [
            "Epoch [3/5] Batch [491/1654] Loss: 1.8329\n",
            "Epoch [3/5] Batch [492/1654] Loss: 2.1064\n",
            "Epoch [3/5] Batch [493/1654] Loss: 1.8240\n",
            "Epoch [3/5] Batch [494/1654] Loss: 1.6051\n",
            "Epoch [3/5] Batch [495/1654] Loss: 1.8809\n",
            "Epoch [3/5] Batch [496/1654] Loss: 1.9350\n",
            "Epoch [3/5] Batch [497/1654] Loss: 1.5150\n",
            "Epoch [3/5] Batch [498/1654] Loss: 1.8355\n"
          ]
        },
        {
          "output_type": "stream",
          "name": "stderr",
          "text": [
            " 31%|███       | 505/1654 [00:14<00:32, 35.02it/s]"
          ]
        },
        {
          "output_type": "stream",
          "name": "stdout",
          "text": [
            "Epoch [3/5] Batch [499/1654] Loss: 1.7674\n",
            "Epoch [3/5] Batch [500/1654] Loss: 1.8760\n",
            "Epoch [3/5] Batch [501/1654] Loss: 1.6752\n",
            "Epoch [3/5] Batch [502/1654] Loss: 1.9518\n",
            "Epoch [3/5] Batch [503/1654] Loss: 1.7152\n",
            "Epoch [3/5] Batch [504/1654] Loss: 1.8339\n",
            "Epoch [3/5] Batch [505/1654] Loss: 1.4391\n",
            "Epoch [3/5] Batch [506/1654] Loss: 1.6333\n"
          ]
        },
        {
          "output_type": "stream",
          "name": "stderr",
          "text": [
            " 31%|███       | 513/1654 [00:14<00:32, 34.59it/s]"
          ]
        },
        {
          "output_type": "stream",
          "name": "stdout",
          "text": [
            "Epoch [3/5] Batch [507/1654] Loss: 1.8172\n",
            "Epoch [3/5] Batch [508/1654] Loss: 1.5765\n",
            "Epoch [3/5] Batch [509/1654] Loss: 2.0768\n",
            "Epoch [3/5] Batch [510/1654] Loss: 1.7121\n",
            "Epoch [3/5] Batch [511/1654] Loss: 1.8345\n",
            "Epoch [3/5] Batch [512/1654] Loss: 1.6709\n",
            "Epoch [3/5] Batch [513/1654] Loss: 1.7220\n"
          ]
        },
        {
          "output_type": "stream",
          "name": "stderr",
          "text": [
            " 31%|███▏      | 521/1654 [00:15<00:32, 34.89it/s]"
          ]
        },
        {
          "output_type": "stream",
          "name": "stdout",
          "text": [
            "Epoch [3/5] Batch [514/1654] Loss: 1.6240\n",
            "Epoch [3/5] Batch [515/1654] Loss: 1.6894\n",
            "Epoch [3/5] Batch [516/1654] Loss: 1.5268\n",
            "Epoch [3/5] Batch [517/1654] Loss: 1.5476\n",
            "Epoch [3/5] Batch [518/1654] Loss: 1.9434\n",
            "Epoch [3/5] Batch [519/1654] Loss: 1.6117\n",
            "Epoch [3/5] Batch [520/1654] Loss: 1.7823\n",
            "Epoch [3/5] Batch [521/1654] Loss: 1.8333\n"
          ]
        },
        {
          "output_type": "stream",
          "name": "stderr",
          "text": [
            " 32%|███▏      | 529/1654 [00:15<00:32, 35.12it/s]"
          ]
        },
        {
          "output_type": "stream",
          "name": "stdout",
          "text": [
            "Epoch [3/5] Batch [522/1654] Loss: 1.8121\n",
            "Epoch [3/5] Batch [523/1654] Loss: 1.5496\n",
            "Epoch [3/5] Batch [524/1654] Loss: 1.5534\n",
            "Epoch [3/5] Batch [525/1654] Loss: 1.3685\n",
            "Epoch [3/5] Batch [526/1654] Loss: 1.8442\n",
            "Epoch [3/5] Batch [527/1654] Loss: 1.6336\n",
            "Epoch [3/5] Batch [528/1654] Loss: 1.8647\n",
            "Epoch [3/5] Batch [529/1654] Loss: 1.7464\n"
          ]
        },
        {
          "output_type": "stream",
          "name": "stderr",
          "text": [
            " 32%|███▏      | 537/1654 [00:15<00:31, 35.89it/s]"
          ]
        },
        {
          "output_type": "stream",
          "name": "stdout",
          "text": [
            "Epoch [3/5] Batch [530/1654] Loss: 1.5531\n",
            "Epoch [3/5] Batch [531/1654] Loss: 1.9128\n",
            "Epoch [3/5] Batch [532/1654] Loss: 1.5017\n",
            "Epoch [3/5] Batch [533/1654] Loss: 1.5765\n",
            "Epoch [3/5] Batch [534/1654] Loss: 1.4835\n",
            "Epoch [3/5] Batch [535/1654] Loss: 1.9741\n",
            "Epoch [3/5] Batch [536/1654] Loss: 1.6594\n",
            "Epoch [3/5] Batch [537/1654] Loss: 1.5548\n"
          ]
        },
        {
          "output_type": "stream",
          "name": "stderr",
          "text": [
            " 33%|███▎      | 545/1654 [00:15<00:31, 35.57it/s]"
          ]
        },
        {
          "output_type": "stream",
          "name": "stdout",
          "text": [
            "Epoch [3/5] Batch [538/1654] Loss: 1.7503\n",
            "Epoch [3/5] Batch [539/1654] Loss: 1.7355\n",
            "Epoch [3/5] Batch [540/1654] Loss: 1.8754\n",
            "Epoch [3/5] Batch [541/1654] Loss: 1.6103\n",
            "Epoch [3/5] Batch [542/1654] Loss: 1.4224\n",
            "Epoch [3/5] Batch [543/1654] Loss: 2.0675\n",
            "Epoch [3/5] Batch [544/1654] Loss: 1.4497\n",
            "Epoch [3/5] Batch [545/1654] Loss: 1.3743\n"
          ]
        },
        {
          "output_type": "stream",
          "name": "stderr",
          "text": [
            " 33%|███▎      | 553/1654 [00:16<00:30, 35.53it/s]"
          ]
        },
        {
          "output_type": "stream",
          "name": "stdout",
          "text": [
            "Epoch [3/5] Batch [546/1654] Loss: 1.5989\n",
            "Epoch [3/5] Batch [547/1654] Loss: 1.7502\n",
            "Epoch [3/5] Batch [548/1654] Loss: 1.5788\n",
            "Epoch [3/5] Batch [549/1654] Loss: 1.9938\n",
            "Epoch [3/5] Batch [550/1654] Loss: 1.8496\n",
            "Epoch [3/5] Batch [551/1654] Loss: 1.4421\n",
            "Epoch [3/5] Batch [552/1654] Loss: 1.5603\n",
            "Epoch [3/5] Batch [553/1654] Loss: 1.6276\n"
          ]
        },
        {
          "output_type": "stream",
          "name": "stderr",
          "text": [
            " 34%|███▍      | 561/1654 [00:16<00:30, 36.14it/s]"
          ]
        },
        {
          "output_type": "stream",
          "name": "stdout",
          "text": [
            "Epoch [3/5] Batch [554/1654] Loss: 1.5382\n",
            "Epoch [3/5] Batch [555/1654] Loss: 1.8615\n",
            "Epoch [3/5] Batch [556/1654] Loss: 1.4730\n",
            "Epoch [3/5] Batch [557/1654] Loss: 1.9208\n",
            "Epoch [3/5] Batch [558/1654] Loss: 1.5332\n",
            "Epoch [3/5] Batch [559/1654] Loss: 1.6060\n",
            "Epoch [3/5] Batch [560/1654] Loss: 1.6055\n",
            "Epoch [3/5] Batch [561/1654] Loss: 1.6762\n"
          ]
        },
        {
          "output_type": "stream",
          "name": "stderr",
          "text": [
            " 34%|███▍      | 569/1654 [00:16<00:29, 36.32it/s]"
          ]
        },
        {
          "output_type": "stream",
          "name": "stdout",
          "text": [
            "Epoch [3/5] Batch [562/1654] Loss: 1.7955\n",
            "Epoch [3/5] Batch [563/1654] Loss: 1.8988\n",
            "Epoch [3/5] Batch [564/1654] Loss: 1.7333\n",
            "Epoch [3/5] Batch [565/1654] Loss: 2.0683\n",
            "Epoch [3/5] Batch [566/1654] Loss: 1.7462\n",
            "Epoch [3/5] Batch [567/1654] Loss: 1.6177\n",
            "Epoch [3/5] Batch [568/1654] Loss: 1.6257\n",
            "Epoch [3/5] Batch [569/1654] Loss: 1.7716\n"
          ]
        },
        {
          "output_type": "stream",
          "name": "stderr",
          "text": [
            " 35%|███▍      | 577/1654 [00:16<00:29, 36.78it/s]"
          ]
        },
        {
          "output_type": "stream",
          "name": "stdout",
          "text": [
            "Epoch [3/5] Batch [570/1654] Loss: 1.6211\n",
            "Epoch [3/5] Batch [571/1654] Loss: 1.5416\n",
            "Epoch [3/5] Batch [572/1654] Loss: 1.5468\n",
            "Epoch [3/5] Batch [573/1654] Loss: 1.4947\n",
            "Epoch [3/5] Batch [574/1654] Loss: 1.7227\n",
            "Epoch [3/5] Batch [575/1654] Loss: 2.0069\n",
            "Epoch [3/5] Batch [576/1654] Loss: 1.7604\n",
            "Epoch [3/5] Batch [577/1654] Loss: 1.7624\n"
          ]
        },
        {
          "output_type": "stream",
          "name": "stderr",
          "text": [
            " 35%|███▌      | 585/1654 [00:16<00:29, 36.52it/s]"
          ]
        },
        {
          "output_type": "stream",
          "name": "stdout",
          "text": [
            "Epoch [3/5] Batch [578/1654] Loss: 1.9633\n",
            "Epoch [3/5] Batch [579/1654] Loss: 1.6874\n",
            "Epoch [3/5] Batch [580/1654] Loss: 1.9150\n",
            "Epoch [3/5] Batch [581/1654] Loss: 1.5748\n",
            "Epoch [3/5] Batch [582/1654] Loss: 1.3362\n",
            "Epoch [3/5] Batch [583/1654] Loss: 1.7939\n",
            "Epoch [3/5] Batch [584/1654] Loss: 1.8798\n",
            "Epoch [3/5] Batch [585/1654] Loss: 1.9709\n"
          ]
        },
        {
          "output_type": "stream",
          "name": "stderr",
          "text": [
            " 36%|███▌      | 593/1654 [00:17<00:29, 36.11it/s]"
          ]
        },
        {
          "output_type": "stream",
          "name": "stdout",
          "text": [
            "Epoch [3/5] Batch [586/1654] Loss: 1.6732\n",
            "Epoch [3/5] Batch [587/1654] Loss: 1.6563\n",
            "Epoch [3/5] Batch [588/1654] Loss: 1.6716\n",
            "Epoch [3/5] Batch [589/1654] Loss: 1.9671\n",
            "Epoch [3/5] Batch [590/1654] Loss: 1.7265\n",
            "Epoch [3/5] Batch [591/1654] Loss: 1.6931\n",
            "Epoch [3/5] Batch [592/1654] Loss: 2.5867\n",
            "Epoch [3/5] Batch [593/1654] Loss: 1.4562\n"
          ]
        },
        {
          "output_type": "stream",
          "name": "stderr",
          "text": [
            " 36%|███▋      | 601/1654 [00:17<00:28, 36.37it/s]"
          ]
        },
        {
          "output_type": "stream",
          "name": "stdout",
          "text": [
            "Epoch [3/5] Batch [594/1654] Loss: 1.8195\n",
            "Epoch [3/5] Batch [595/1654] Loss: 1.6474\n",
            "Epoch [3/5] Batch [596/1654] Loss: 1.4788\n",
            "Epoch [3/5] Batch [597/1654] Loss: 1.8692\n",
            "Epoch [3/5] Batch [598/1654] Loss: 1.8398\n",
            "Epoch [3/5] Batch [599/1654] Loss: 1.7622\n",
            "Epoch [3/5] Batch [600/1654] Loss: 1.8036\n",
            "Epoch [3/5] Batch [601/1654] Loss: 1.8664\n"
          ]
        },
        {
          "output_type": "stream",
          "name": "stderr",
          "text": [
            " 37%|███▋      | 609/1654 [00:17<00:28, 36.31it/s]"
          ]
        },
        {
          "output_type": "stream",
          "name": "stdout",
          "text": [
            "Epoch [3/5] Batch [602/1654] Loss: 1.7259\n",
            "Epoch [3/5] Batch [603/1654] Loss: 1.6457\n",
            "Epoch [3/5] Batch [604/1654] Loss: 1.4819\n",
            "Epoch [3/5] Batch [605/1654] Loss: 1.8849\n",
            "Epoch [3/5] Batch [606/1654] Loss: 1.5731\n",
            "Epoch [3/5] Batch [607/1654] Loss: 1.3673\n",
            "Epoch [3/5] Batch [608/1654] Loss: 1.4905\n",
            "Epoch [3/5] Batch [609/1654] Loss: 1.5442\n"
          ]
        },
        {
          "output_type": "stream",
          "name": "stderr",
          "text": [
            " 37%|███▋      | 617/1654 [00:17<00:28, 36.08it/s]"
          ]
        },
        {
          "output_type": "stream",
          "name": "stdout",
          "text": [
            "Epoch [3/5] Batch [610/1654] Loss: 1.6472\n",
            "Epoch [3/5] Batch [611/1654] Loss: 1.6407\n",
            "Epoch [3/5] Batch [612/1654] Loss: 1.5767\n",
            "Epoch [3/5] Batch [613/1654] Loss: 1.8001\n",
            "Epoch [3/5] Batch [614/1654] Loss: 1.4767\n",
            "Epoch [3/5] Batch [615/1654] Loss: 1.7369\n",
            "Epoch [3/5] Batch [616/1654] Loss: 1.7591\n",
            "Epoch [3/5] Batch [617/1654] Loss: 1.3607\n"
          ]
        },
        {
          "output_type": "stream",
          "name": "stderr",
          "text": [
            " 38%|███▊      | 625/1654 [00:18<00:28, 36.07it/s]"
          ]
        },
        {
          "output_type": "stream",
          "name": "stdout",
          "text": [
            "Epoch [3/5] Batch [618/1654] Loss: 1.4433\n",
            "Epoch [3/5] Batch [619/1654] Loss: 1.4708\n",
            "Epoch [3/5] Batch [620/1654] Loss: 1.9265\n",
            "Epoch [3/5] Batch [621/1654] Loss: 1.4867\n",
            "Epoch [3/5] Batch [622/1654] Loss: 1.8658\n",
            "Epoch [3/5] Batch [623/1654] Loss: 1.4833\n",
            "Epoch [3/5] Batch [624/1654] Loss: 1.8016\n",
            "Epoch [3/5] Batch [625/1654] Loss: 1.8137\n"
          ]
        },
        {
          "output_type": "stream",
          "name": "stderr",
          "text": [
            " 38%|███▊      | 633/1654 [00:18<00:27, 37.44it/s]"
          ]
        },
        {
          "output_type": "stream",
          "name": "stdout",
          "text": [
            "Epoch [3/5] Batch [626/1654] Loss: 1.3564\n",
            "Epoch [3/5] Batch [627/1654] Loss: 1.8264\n",
            "Epoch [3/5] Batch [628/1654] Loss: 1.5554\n",
            "Epoch [3/5] Batch [629/1654] Loss: 1.5297\n",
            "Epoch [3/5] Batch [630/1654] Loss: 1.8348\n",
            "Epoch [3/5] Batch [631/1654] Loss: 1.6822\n",
            "Epoch [3/5] Batch [632/1654] Loss: 1.5909\n",
            "Epoch [3/5] Batch [633/1654] Loss: 1.6364\n"
          ]
        },
        {
          "output_type": "stream",
          "name": "stderr",
          "text": [
            " 39%|███▉      | 641/1654 [00:18<00:27, 36.59it/s]"
          ]
        },
        {
          "output_type": "stream",
          "name": "stdout",
          "text": [
            "Epoch [3/5] Batch [634/1654] Loss: 1.3245\n",
            "Epoch [3/5] Batch [635/1654] Loss: 1.7117\n",
            "Epoch [3/5] Batch [636/1654] Loss: 1.7013\n",
            "Epoch [3/5] Batch [637/1654] Loss: 1.5611\n",
            "Epoch [3/5] Batch [638/1654] Loss: 1.1956\n",
            "Epoch [3/5] Batch [639/1654] Loss: 1.7019\n",
            "Epoch [3/5] Batch [640/1654] Loss: 1.4356\n",
            "Epoch [3/5] Batch [641/1654] Loss: 1.4832\n"
          ]
        },
        {
          "output_type": "stream",
          "name": "stderr",
          "text": [
            " 39%|███▉      | 649/1654 [00:18<00:27, 36.82it/s]"
          ]
        },
        {
          "output_type": "stream",
          "name": "stdout",
          "text": [
            "Epoch [3/5] Batch [642/1654] Loss: 1.7290\n",
            "Epoch [3/5] Batch [643/1654] Loss: 1.5093\n",
            "Epoch [3/5] Batch [644/1654] Loss: 1.8718\n",
            "Epoch [3/5] Batch [645/1654] Loss: 1.5947\n",
            "Epoch [3/5] Batch [646/1654] Loss: 1.6145\n",
            "Epoch [3/5] Batch [647/1654] Loss: 1.5414\n",
            "Epoch [3/5] Batch [648/1654] Loss: 1.3788\n",
            "Epoch [3/5] Batch [649/1654] Loss: 1.9746\n"
          ]
        },
        {
          "output_type": "stream",
          "name": "stderr",
          "text": [
            " 40%|███▉      | 657/1654 [00:18<00:27, 36.39it/s]"
          ]
        },
        {
          "output_type": "stream",
          "name": "stdout",
          "text": [
            "Epoch [3/5] Batch [650/1654] Loss: 1.6203\n",
            "Epoch [3/5] Batch [651/1654] Loss: 1.6443\n",
            "Epoch [3/5] Batch [652/1654] Loss: 1.5176\n",
            "Epoch [3/5] Batch [653/1654] Loss: 1.4692\n",
            "Epoch [3/5] Batch [654/1654] Loss: 1.5988\n",
            "Epoch [3/5] Batch [655/1654] Loss: 1.8409\n",
            "Epoch [3/5] Batch [656/1654] Loss: 1.4294\n",
            "Epoch [3/5] Batch [657/1654] Loss: 1.5336\n"
          ]
        },
        {
          "output_type": "stream",
          "name": "stderr",
          "text": [
            " 40%|████      | 665/1654 [00:19<00:27, 35.86it/s]"
          ]
        },
        {
          "output_type": "stream",
          "name": "stdout",
          "text": [
            "Epoch [3/5] Batch [658/1654] Loss: 1.7917\n",
            "Epoch [3/5] Batch [659/1654] Loss: 1.5319\n",
            "Epoch [3/5] Batch [660/1654] Loss: 1.6855\n",
            "Epoch [3/5] Batch [661/1654] Loss: 1.9431\n",
            "Epoch [3/5] Batch [662/1654] Loss: 1.7733\n",
            "Epoch [3/5] Batch [663/1654] Loss: 2.0350\n",
            "Epoch [3/5] Batch [664/1654] Loss: 1.5982\n",
            "Epoch [3/5] Batch [665/1654] Loss: 1.9293\n"
          ]
        },
        {
          "output_type": "stream",
          "name": "stderr",
          "text": [
            " 41%|████      | 673/1654 [00:19<00:27, 35.94it/s]"
          ]
        },
        {
          "output_type": "stream",
          "name": "stdout",
          "text": [
            "Epoch [3/5] Batch [666/1654] Loss: 1.4793\n",
            "Epoch [3/5] Batch [667/1654] Loss: 1.2173\n",
            "Epoch [3/5] Batch [668/1654] Loss: 1.7396\n",
            "Epoch [3/5] Batch [669/1654] Loss: 1.8019\n",
            "Epoch [3/5] Batch [670/1654] Loss: 1.4983\n",
            "Epoch [3/5] Batch [671/1654] Loss: 1.7612\n",
            "Epoch [3/5] Batch [672/1654] Loss: 1.5298\n",
            "Epoch [3/5] Batch [673/1654] Loss: 1.4234\n"
          ]
        },
        {
          "output_type": "stream",
          "name": "stderr",
          "text": [
            " 41%|████      | 681/1654 [00:19<00:26, 36.33it/s]"
          ]
        },
        {
          "output_type": "stream",
          "name": "stdout",
          "text": [
            "Epoch [3/5] Batch [674/1654] Loss: 1.9692\n",
            "Epoch [3/5] Batch [675/1654] Loss: 1.7065\n",
            "Epoch [3/5] Batch [676/1654] Loss: 1.8396\n",
            "Epoch [3/5] Batch [677/1654] Loss: 1.5939\n",
            "Epoch [3/5] Batch [678/1654] Loss: 1.5889\n",
            "Epoch [3/5] Batch [679/1654] Loss: 1.7864\n",
            "Epoch [3/5] Batch [680/1654] Loss: 1.9419\n",
            "Epoch [3/5] Batch [681/1654] Loss: 1.7699\n"
          ]
        },
        {
          "output_type": "stream",
          "name": "stderr",
          "text": [
            " 42%|████▏     | 689/1654 [00:19<00:26, 36.56it/s]"
          ]
        },
        {
          "output_type": "stream",
          "name": "stdout",
          "text": [
            "Epoch [3/5] Batch [682/1654] Loss: 1.5424\n",
            "Epoch [3/5] Batch [683/1654] Loss: 1.4797\n",
            "Epoch [3/5] Batch [684/1654] Loss: 1.5477\n",
            "Epoch [3/5] Batch [685/1654] Loss: 1.8915\n",
            "Epoch [3/5] Batch [686/1654] Loss: 1.4889\n",
            "Epoch [3/5] Batch [687/1654] Loss: 1.8506\n",
            "Epoch [3/5] Batch [688/1654] Loss: 2.0230\n",
            "Epoch [3/5] Batch [689/1654] Loss: 1.4004\n"
          ]
        },
        {
          "output_type": "stream",
          "name": "stderr",
          "text": [
            " 42%|████▏     | 697/1654 [00:20<00:26, 36.61it/s]"
          ]
        },
        {
          "output_type": "stream",
          "name": "stdout",
          "text": [
            "Epoch [3/5] Batch [690/1654] Loss: 1.6897\n",
            "Epoch [3/5] Batch [691/1654] Loss: 1.8506\n",
            "Epoch [3/5] Batch [692/1654] Loss: 1.6995\n",
            "Epoch [3/5] Batch [693/1654] Loss: 1.8108\n",
            "Epoch [3/5] Batch [694/1654] Loss: 1.5207\n",
            "Epoch [3/5] Batch [695/1654] Loss: 1.2824\n",
            "Epoch [3/5] Batch [696/1654] Loss: 1.4383\n",
            "Epoch [3/5] Batch [697/1654] Loss: 1.5561\n"
          ]
        },
        {
          "output_type": "stream",
          "name": "stderr",
          "text": [
            " 43%|████▎     | 705/1654 [00:20<00:26, 35.73it/s]"
          ]
        },
        {
          "output_type": "stream",
          "name": "stdout",
          "text": [
            "Epoch [3/5] Batch [698/1654] Loss: 1.3292\n",
            "Epoch [3/5] Batch [699/1654] Loss: 1.5786\n",
            "Epoch [3/5] Batch [700/1654] Loss: 1.4246\n",
            "Epoch [3/5] Batch [701/1654] Loss: 1.3335\n",
            "Epoch [3/5] Batch [702/1654] Loss: 1.6321\n",
            "Epoch [3/5] Batch [703/1654] Loss: 1.6867\n",
            "Epoch [3/5] Batch [704/1654] Loss: 1.4001\n",
            "Epoch [3/5] Batch [705/1654] Loss: 1.8263\n"
          ]
        },
        {
          "output_type": "stream",
          "name": "stderr",
          "text": [
            " 43%|████▎     | 713/1654 [00:20<00:26, 36.04it/s]"
          ]
        },
        {
          "output_type": "stream",
          "name": "stdout",
          "text": [
            "Epoch [3/5] Batch [706/1654] Loss: 1.6682\n",
            "Epoch [3/5] Batch [707/1654] Loss: 1.3863\n",
            "Epoch [3/5] Batch [708/1654] Loss: 1.9079\n",
            "Epoch [3/5] Batch [709/1654] Loss: 1.3398\n",
            "Epoch [3/5] Batch [710/1654] Loss: 1.4991\n",
            "Epoch [3/5] Batch [711/1654] Loss: 1.7115\n",
            "Epoch [3/5] Batch [712/1654] Loss: 1.5902\n",
            "Epoch [3/5] Batch [713/1654] Loss: 1.7243\n"
          ]
        },
        {
          "output_type": "stream",
          "name": "stderr",
          "text": [
            " 44%|████▎     | 721/1654 [00:20<00:25, 36.05it/s]"
          ]
        },
        {
          "output_type": "stream",
          "name": "stdout",
          "text": [
            "Epoch [3/5] Batch [714/1654] Loss: 1.8566\n",
            "Epoch [3/5] Batch [715/1654] Loss: 1.7637\n",
            "Epoch [3/5] Batch [716/1654] Loss: 1.8510\n",
            "Epoch [3/5] Batch [717/1654] Loss: 1.7353\n",
            "Epoch [3/5] Batch [718/1654] Loss: 1.7683\n",
            "Epoch [3/5] Batch [719/1654] Loss: 1.4291\n",
            "Epoch [3/5] Batch [720/1654] Loss: 1.7096\n",
            "Epoch [3/5] Batch [721/1654] Loss: 1.8625\n"
          ]
        },
        {
          "output_type": "stream",
          "name": "stderr",
          "text": [
            " 44%|████▍     | 729/1654 [00:20<00:25, 35.93it/s]"
          ]
        },
        {
          "output_type": "stream",
          "name": "stdout",
          "text": [
            "Epoch [3/5] Batch [722/1654] Loss: 1.4759\n",
            "Epoch [3/5] Batch [723/1654] Loss: 1.5155\n",
            "Epoch [3/5] Batch [724/1654] Loss: 1.6670\n",
            "Epoch [3/5] Batch [725/1654] Loss: 1.5808\n",
            "Epoch [3/5] Batch [726/1654] Loss: 1.5908\n",
            "Epoch [3/5] Batch [727/1654] Loss: 1.6058\n",
            "Epoch [3/5] Batch [728/1654] Loss: 1.3617\n",
            "Epoch [3/5] Batch [729/1654] Loss: 1.7912\n"
          ]
        },
        {
          "output_type": "stream",
          "name": "stderr",
          "text": [
            " 45%|████▍     | 737/1654 [00:21<00:25, 35.47it/s]"
          ]
        },
        {
          "output_type": "stream",
          "name": "stdout",
          "text": [
            "Epoch [3/5] Batch [730/1654] Loss: 1.5657\n",
            "Epoch [3/5] Batch [731/1654] Loss: 1.6293\n",
            "Epoch [3/5] Batch [732/1654] Loss: 1.4149\n",
            "Epoch [3/5] Batch [733/1654] Loss: 1.6055\n",
            "Epoch [3/5] Batch [734/1654] Loss: 1.6087\n",
            "Epoch [3/5] Batch [735/1654] Loss: 1.7093\n",
            "Epoch [3/5] Batch [736/1654] Loss: 1.7466\n",
            "Epoch [3/5] Batch [737/1654] Loss: 1.7258\n"
          ]
        },
        {
          "output_type": "stream",
          "name": "stderr",
          "text": [
            " 45%|████▌     | 745/1654 [00:21<00:25, 35.49it/s]"
          ]
        },
        {
          "output_type": "stream",
          "name": "stdout",
          "text": [
            "Epoch [3/5] Batch [738/1654] Loss: 1.7097\n",
            "Epoch [3/5] Batch [739/1654] Loss: 1.4212\n",
            "Epoch [3/5] Batch [740/1654] Loss: 1.5031\n",
            "Epoch [3/5] Batch [741/1654] Loss: 1.4010\n",
            "Epoch [3/5] Batch [742/1654] Loss: 1.7616\n",
            "Epoch [3/5] Batch [743/1654] Loss: 1.7751\n",
            "Epoch [3/5] Batch [744/1654] Loss: 1.5249\n",
            "Epoch [3/5] Batch [745/1654] Loss: 1.8989\n"
          ]
        },
        {
          "output_type": "stream",
          "name": "stderr",
          "text": [
            " 46%|████▌     | 753/1654 [00:21<00:25, 35.12it/s]"
          ]
        },
        {
          "output_type": "stream",
          "name": "stdout",
          "text": [
            "Epoch [3/5] Batch [746/1654] Loss: 1.2289\n",
            "Epoch [3/5] Batch [747/1654] Loss: 1.6840\n",
            "Epoch [3/5] Batch [748/1654] Loss: 1.1125\n",
            "Epoch [3/5] Batch [749/1654] Loss: 1.8108\n",
            "Epoch [3/5] Batch [750/1654] Loss: 1.9121\n",
            "Epoch [3/5] Batch [751/1654] Loss: 1.3238\n",
            "Epoch [3/5] Batch [752/1654] Loss: 1.5379\n",
            "Epoch [3/5] Batch [753/1654] Loss: 1.7944\n"
          ]
        },
        {
          "output_type": "stream",
          "name": "stderr",
          "text": [
            " 46%|████▌     | 761/1654 [00:21<00:25, 35.17it/s]"
          ]
        },
        {
          "output_type": "stream",
          "name": "stdout",
          "text": [
            "Epoch [3/5] Batch [754/1654] Loss: 1.8011\n",
            "Epoch [3/5] Batch [755/1654] Loss: 1.7393\n",
            "Epoch [3/5] Batch [756/1654] Loss: 1.1981\n",
            "Epoch [3/5] Batch [757/1654] Loss: 1.7218\n",
            "Epoch [3/5] Batch [758/1654] Loss: 1.6273\n",
            "Epoch [3/5] Batch [759/1654] Loss: 1.6024\n",
            "Epoch [3/5] Batch [760/1654] Loss: 1.4656\n",
            "Epoch [3/5] Batch [761/1654] Loss: 1.5333\n"
          ]
        },
        {
          "output_type": "stream",
          "name": "stderr",
          "text": [
            " 46%|████▋     | 769/1654 [00:22<00:24, 36.01it/s]"
          ]
        },
        {
          "output_type": "stream",
          "name": "stdout",
          "text": [
            "Epoch [3/5] Batch [762/1654] Loss: 1.2631\n",
            "Epoch [3/5] Batch [763/1654] Loss: 1.5280\n",
            "Epoch [3/5] Batch [764/1654] Loss: 1.8646\n",
            "Epoch [3/5] Batch [765/1654] Loss: 1.5365\n",
            "Epoch [3/5] Batch [766/1654] Loss: 1.4969\n",
            "Epoch [3/5] Batch [767/1654] Loss: 1.5872\n",
            "Epoch [3/5] Batch [768/1654] Loss: 1.6851\n",
            "Epoch [3/5] Batch [769/1654] Loss: 1.7576\n"
          ]
        },
        {
          "output_type": "stream",
          "name": "stderr",
          "text": [
            " 47%|████▋     | 777/1654 [00:22<00:24, 35.54it/s]"
          ]
        },
        {
          "output_type": "stream",
          "name": "stdout",
          "text": [
            "Epoch [3/5] Batch [770/1654] Loss: 1.7884\n",
            "Epoch [3/5] Batch [771/1654] Loss: 1.8702\n",
            "Epoch [3/5] Batch [772/1654] Loss: 1.8860\n",
            "Epoch [3/5] Batch [773/1654] Loss: 1.6718\n",
            "Epoch [3/5] Batch [774/1654] Loss: 2.3282\n",
            "Epoch [3/5] Batch [775/1654] Loss: 1.5484\n",
            "Epoch [3/5] Batch [776/1654] Loss: 1.9373\n",
            "Epoch [3/5] Batch [777/1654] Loss: 1.8907\n"
          ]
        },
        {
          "output_type": "stream",
          "name": "stderr",
          "text": [
            " 47%|████▋     | 785/1654 [00:22<00:24, 35.98it/s]"
          ]
        },
        {
          "output_type": "stream",
          "name": "stdout",
          "text": [
            "Epoch [3/5] Batch [778/1654] Loss: 1.6080\n",
            "Epoch [3/5] Batch [779/1654] Loss: 1.8017\n",
            "Epoch [3/5] Batch [780/1654] Loss: 1.5259\n",
            "Epoch [3/5] Batch [781/1654] Loss: 1.6612\n",
            "Epoch [3/5] Batch [782/1654] Loss: 2.1726\n",
            "Epoch [3/5] Batch [783/1654] Loss: 1.7397\n",
            "Epoch [3/5] Batch [784/1654] Loss: 1.3817\n",
            "Epoch [3/5] Batch [785/1654] Loss: 1.7889\n"
          ]
        },
        {
          "output_type": "stream",
          "name": "stderr",
          "text": [
            " 48%|████▊     | 793/1654 [00:22<00:23, 36.21it/s]"
          ]
        },
        {
          "output_type": "stream",
          "name": "stdout",
          "text": [
            "Epoch [3/5] Batch [786/1654] Loss: 1.4848\n",
            "Epoch [3/5] Batch [787/1654] Loss: 1.7665\n",
            "Epoch [3/5] Batch [788/1654] Loss: 1.7886\n",
            "Epoch [3/5] Batch [789/1654] Loss: 1.6485\n",
            "Epoch [3/5] Batch [790/1654] Loss: 1.8194\n",
            "Epoch [3/5] Batch [791/1654] Loss: 1.7955\n",
            "Epoch [3/5] Batch [792/1654] Loss: 1.6364\n",
            "Epoch [3/5] Batch [793/1654] Loss: 1.5705\n"
          ]
        },
        {
          "output_type": "stream",
          "name": "stderr",
          "text": [
            " 48%|████▊     | 801/1654 [00:22<00:23, 36.29it/s]"
          ]
        },
        {
          "output_type": "stream",
          "name": "stdout",
          "text": [
            "Epoch [3/5] Batch [794/1654] Loss: 1.5067\n",
            "Epoch [3/5] Batch [795/1654] Loss: 2.0455\n",
            "Epoch [3/5] Batch [796/1654] Loss: 1.3573\n",
            "Epoch [3/5] Batch [797/1654] Loss: 1.7726\n",
            "Epoch [3/5] Batch [798/1654] Loss: 1.5184\n",
            "Epoch [3/5] Batch [799/1654] Loss: 1.6884\n",
            "Epoch [3/5] Batch [800/1654] Loss: 1.5085\n",
            "Epoch [3/5] Batch [801/1654] Loss: 1.4927\n"
          ]
        },
        {
          "output_type": "stream",
          "name": "stderr",
          "text": [
            " 49%|████▉     | 809/1654 [00:23<00:23, 35.73it/s]"
          ]
        },
        {
          "output_type": "stream",
          "name": "stdout",
          "text": [
            "Epoch [3/5] Batch [802/1654] Loss: 1.5845\n",
            "Epoch [3/5] Batch [803/1654] Loss: 1.9695\n",
            "Epoch [3/5] Batch [804/1654] Loss: 2.0132\n",
            "Epoch [3/5] Batch [805/1654] Loss: 1.7910\n",
            "Epoch [3/5] Batch [806/1654] Loss: 1.5904\n",
            "Epoch [3/5] Batch [807/1654] Loss: 1.3515\n",
            "Epoch [3/5] Batch [808/1654] Loss: 1.3682\n",
            "Epoch [3/5] Batch [809/1654] Loss: 1.8770\n"
          ]
        },
        {
          "output_type": "stream",
          "name": "stderr",
          "text": [
            " 49%|████▉     | 817/1654 [00:23<00:23, 36.24it/s]"
          ]
        },
        {
          "output_type": "stream",
          "name": "stdout",
          "text": [
            "Epoch [3/5] Batch [810/1654] Loss: 1.6405\n",
            "Epoch [3/5] Batch [811/1654] Loss: 1.3976\n",
            "Epoch [3/5] Batch [812/1654] Loss: 1.8168\n",
            "Epoch [3/5] Batch [813/1654] Loss: 1.7893\n",
            "Epoch [3/5] Batch [814/1654] Loss: 1.4069\n",
            "Epoch [3/5] Batch [815/1654] Loss: 1.5572\n",
            "Epoch [3/5] Batch [816/1654] Loss: 1.4186\n",
            "Epoch [3/5] Batch [817/1654] Loss: 1.6356\n"
          ]
        },
        {
          "output_type": "stream",
          "name": "stderr",
          "text": [
            "\r 50%|████▉     | 821/1654 [00:23<00:25, 33.27it/s]"
          ]
        },
        {
          "output_type": "stream",
          "name": "stdout",
          "text": [
            "Epoch [3/5] Batch [818/1654] Loss: 1.3164\n",
            "Epoch [3/5] Batch [819/1654] Loss: 1.8192\n",
            "Epoch [3/5] Batch [820/1654] Loss: 1.4311\n",
            "Epoch [3/5] Batch [821/1654] Loss: 1.7250\n",
            "Epoch [3/5] Batch [822/1654] Loss: 1.6275\n",
            "Epoch [3/5] Batch [823/1654] Loss: 1.3206\n"
          ]
        },
        {
          "output_type": "stream",
          "name": "stderr",
          "text": [
            " 50%|█████     | 829/1654 [00:23<00:26, 30.89it/s]"
          ]
        },
        {
          "output_type": "stream",
          "name": "stdout",
          "text": [
            "Epoch [3/5] Batch [824/1654] Loss: 1.5142\n",
            "Epoch [3/5] Batch [825/1654] Loss: 1.5446\n",
            "Epoch [3/5] Batch [826/1654] Loss: 1.6041\n",
            "Epoch [3/5] Batch [827/1654] Loss: 1.3995\n",
            "Epoch [3/5] Batch [828/1654] Loss: 1.4373\n",
            "Epoch [3/5] Batch [829/1654] Loss: 1.4644\n"
          ]
        },
        {
          "output_type": "stream",
          "name": "stderr",
          "text": [
            "\r 50%|█████     | 833/1654 [00:23<00:26, 30.65it/s]"
          ]
        },
        {
          "output_type": "stream",
          "name": "stdout",
          "text": [
            "Epoch [3/5] Batch [830/1654] Loss: 1.5596\n",
            "Epoch [3/5] Batch [831/1654] Loss: 1.7339\n",
            "Epoch [3/5] Batch [832/1654] Loss: 1.4229\n",
            "Epoch [3/5] Batch [833/1654] Loss: 1.5298\n",
            "Epoch [3/5] Batch [834/1654] Loss: 1.5677\n",
            "Epoch [3/5] Batch [835/1654] Loss: 2.1689\n",
            "Epoch [3/5] Batch [836/1654] Loss: 1.5192\n"
          ]
        },
        {
          "output_type": "stream",
          "name": "stderr",
          "text": [
            " 51%|█████     | 841/1654 [00:24<00:28, 29.03it/s]"
          ]
        },
        {
          "output_type": "stream",
          "name": "stdout",
          "text": [
            "Epoch [3/5] Batch [837/1654] Loss: 1.2949\n",
            "Epoch [3/5] Batch [838/1654] Loss: 1.8181\n",
            "Epoch [3/5] Batch [839/1654] Loss: 1.4967\n",
            "Epoch [3/5] Batch [840/1654] Loss: 1.9601\n",
            "Epoch [3/5] Batch [841/1654] Loss: 1.5684\n",
            "Epoch [3/5] Batch [842/1654] Loss: 1.9493\n"
          ]
        },
        {
          "output_type": "stream",
          "name": "stderr",
          "text": [
            " 51%|█████     | 847/1654 [00:24<00:28, 28.57it/s]"
          ]
        },
        {
          "output_type": "stream",
          "name": "stdout",
          "text": [
            "Epoch [3/5] Batch [843/1654] Loss: 1.7268\n",
            "Epoch [3/5] Batch [844/1654] Loss: 1.6075\n",
            "Epoch [3/5] Batch [845/1654] Loss: 1.6037\n",
            "Epoch [3/5] Batch [846/1654] Loss: 2.0195\n",
            "Epoch [3/5] Batch [847/1654] Loss: 1.3984\n",
            "Epoch [3/5] Batch [848/1654] Loss: 1.6035\n"
          ]
        },
        {
          "output_type": "stream",
          "name": "stderr",
          "text": [
            " 52%|█████▏    | 853/1654 [00:24<00:28, 28.37it/s]"
          ]
        },
        {
          "output_type": "stream",
          "name": "stdout",
          "text": [
            "Epoch [3/5] Batch [849/1654] Loss: 1.3900\n",
            "Epoch [3/5] Batch [850/1654] Loss: 1.4565\n",
            "Epoch [3/5] Batch [851/1654] Loss: 1.6478\n",
            "Epoch [3/5] Batch [852/1654] Loss: 1.5620\n",
            "Epoch [3/5] Batch [853/1654] Loss: 1.8278\n",
            "Epoch [3/5] Batch [854/1654] Loss: 1.6356\n"
          ]
        },
        {
          "output_type": "stream",
          "name": "stderr",
          "text": [
            " 52%|█████▏    | 859/1654 [00:24<00:27, 28.43it/s]"
          ]
        },
        {
          "output_type": "stream",
          "name": "stdout",
          "text": [
            "Epoch [3/5] Batch [855/1654] Loss: 1.6097\n",
            "Epoch [3/5] Batch [856/1654] Loss: 1.9903\n",
            "Epoch [3/5] Batch [857/1654] Loss: 1.5437\n",
            "Epoch [3/5] Batch [858/1654] Loss: 1.7017\n",
            "Epoch [3/5] Batch [859/1654] Loss: 1.2924\n",
            "Epoch [3/5] Batch [860/1654] Loss: 1.6698\n"
          ]
        },
        {
          "output_type": "stream",
          "name": "stderr",
          "text": [
            " 52%|█████▏    | 865/1654 [00:25<00:28, 28.12it/s]"
          ]
        },
        {
          "output_type": "stream",
          "name": "stdout",
          "text": [
            "Epoch [3/5] Batch [861/1654] Loss: 1.7012\n",
            "Epoch [3/5] Batch [862/1654] Loss: 1.5256\n",
            "Epoch [3/5] Batch [863/1654] Loss: 1.6717\n",
            "Epoch [3/5] Batch [864/1654] Loss: 1.7044\n",
            "Epoch [3/5] Batch [865/1654] Loss: 1.7127\n",
            "Epoch [3/5] Batch [866/1654] Loss: 1.8963\n"
          ]
        },
        {
          "output_type": "stream",
          "name": "stderr",
          "text": [
            " 53%|█████▎    | 871/1654 [00:25<00:29, 26.73it/s]"
          ]
        },
        {
          "output_type": "stream",
          "name": "stdout",
          "text": [
            "Epoch [3/5] Batch [867/1654] Loss: 1.6099\n",
            "Epoch [3/5] Batch [868/1654] Loss: 1.5787\n",
            "Epoch [3/5] Batch [869/1654] Loss: 1.8289\n",
            "Epoch [3/5] Batch [870/1654] Loss: 1.8213\n",
            "Epoch [3/5] Batch [871/1654] Loss: 1.6752\n",
            "Epoch [3/5] Batch [872/1654] Loss: 1.9313\n"
          ]
        },
        {
          "output_type": "stream",
          "name": "stderr",
          "text": [
            " 53%|█████▎    | 877/1654 [00:25<00:28, 27.14it/s]"
          ]
        },
        {
          "output_type": "stream",
          "name": "stdout",
          "text": [
            "Epoch [3/5] Batch [873/1654] Loss: 1.7870\n",
            "Epoch [3/5] Batch [874/1654] Loss: 2.0589\n",
            "Epoch [3/5] Batch [875/1654] Loss: 1.6182\n",
            "Epoch [3/5] Batch [876/1654] Loss: 1.7107\n",
            "Epoch [3/5] Batch [877/1654] Loss: 1.3919\n",
            "Epoch [3/5] Batch [878/1654] Loss: 1.9528\n"
          ]
        },
        {
          "output_type": "stream",
          "name": "stderr",
          "text": [
            " 53%|█████▎    | 884/1654 [00:25<00:26, 28.68it/s]"
          ]
        },
        {
          "output_type": "stream",
          "name": "stdout",
          "text": [
            "Epoch [3/5] Batch [879/1654] Loss: 1.8406\n",
            "Epoch [3/5] Batch [880/1654] Loss: 1.8416\n",
            "Epoch [3/5] Batch [881/1654] Loss: 1.6916\n",
            "Epoch [3/5] Batch [882/1654] Loss: 1.4903\n",
            "Epoch [3/5] Batch [883/1654] Loss: 1.7117\n",
            "Epoch [3/5] Batch [884/1654] Loss: 1.7192\n",
            "Epoch [3/5] Batch [885/1654] Loss: 1.7225\n"
          ]
        },
        {
          "output_type": "stream",
          "name": "stderr",
          "text": [
            " 54%|█████▍    | 892/1654 [00:26<00:23, 32.32it/s]"
          ]
        },
        {
          "output_type": "stream",
          "name": "stdout",
          "text": [
            "Epoch [3/5] Batch [886/1654] Loss: 1.8357\n",
            "Epoch [3/5] Batch [887/1654] Loss: 1.9710\n",
            "Epoch [3/5] Batch [888/1654] Loss: 1.4075\n",
            "Epoch [3/5] Batch [889/1654] Loss: 1.5582\n",
            "Epoch [3/5] Batch [890/1654] Loss: 1.9004\n",
            "Epoch [3/5] Batch [891/1654] Loss: 1.6892\n",
            "Epoch [3/5] Batch [892/1654] Loss: 1.6062\n",
            "Epoch [3/5] Batch [893/1654] Loss: 1.5616\n"
          ]
        },
        {
          "output_type": "stream",
          "name": "stderr",
          "text": [
            " 54%|█████▍    | 900/1654 [00:26<00:22, 33.91it/s]"
          ]
        },
        {
          "output_type": "stream",
          "name": "stdout",
          "text": [
            "Epoch [3/5] Batch [894/1654] Loss: 1.9313\n",
            "Epoch [3/5] Batch [895/1654] Loss: 1.6889\n",
            "Epoch [3/5] Batch [896/1654] Loss: 1.4797\n",
            "Epoch [3/5] Batch [897/1654] Loss: 1.6638\n",
            "Epoch [3/5] Batch [898/1654] Loss: 1.7548\n",
            "Epoch [3/5] Batch [899/1654] Loss: 1.5450\n",
            "Epoch [3/5] Batch [900/1654] Loss: 1.2617\n",
            "Epoch [3/5] Batch [901/1654] Loss: 1.3250\n"
          ]
        },
        {
          "output_type": "stream",
          "name": "stderr",
          "text": [
            " 55%|█████▍    | 908/1654 [00:26<00:22, 33.87it/s]"
          ]
        },
        {
          "output_type": "stream",
          "name": "stdout",
          "text": [
            "Epoch [3/5] Batch [902/1654] Loss: 1.6570\n",
            "Epoch [3/5] Batch [903/1654] Loss: 1.6138\n",
            "Epoch [3/5] Batch [904/1654] Loss: 1.8717\n",
            "Epoch [3/5] Batch [905/1654] Loss: 1.5774\n",
            "Epoch [3/5] Batch [906/1654] Loss: 1.7109\n",
            "Epoch [3/5] Batch [907/1654] Loss: 1.6079\n",
            "Epoch [3/5] Batch [908/1654] Loss: 1.4048\n"
          ]
        },
        {
          "output_type": "stream",
          "name": "stderr",
          "text": [
            " 55%|█████▌    | 916/1654 [00:26<00:21, 34.36it/s]"
          ]
        },
        {
          "output_type": "stream",
          "name": "stdout",
          "text": [
            "Epoch [3/5] Batch [909/1654] Loss: 1.8822\n",
            "Epoch [3/5] Batch [910/1654] Loss: 1.4972\n",
            "Epoch [3/5] Batch [911/1654] Loss: 1.5338\n",
            "Epoch [3/5] Batch [912/1654] Loss: 1.6614\n",
            "Epoch [3/5] Batch [913/1654] Loss: 1.4255\n",
            "Epoch [3/5] Batch [914/1654] Loss: 1.3934\n",
            "Epoch [3/5] Batch [915/1654] Loss: 1.3558\n",
            "Epoch [3/5] Batch [916/1654] Loss: 1.8441\n"
          ]
        },
        {
          "output_type": "stream",
          "name": "stderr",
          "text": [
            "\r 56%|█████▌    | 920/1654 [00:26<00:22, 32.47it/s]"
          ]
        },
        {
          "output_type": "stream",
          "name": "stdout",
          "text": [
            "Epoch [3/5] Batch [917/1654] Loss: 1.9101\n",
            "Epoch [3/5] Batch [918/1654] Loss: 1.5646\n",
            "Epoch [3/5] Batch [919/1654] Loss: 1.5036\n",
            "Epoch [3/5] Batch [920/1654] Loss: 2.1602\n",
            "Epoch [3/5] Batch [921/1654] Loss: 1.7252\n",
            "Epoch [3/5] Batch [922/1654] Loss: 1.4309\n",
            "Epoch [3/5] Batch [923/1654] Loss: 1.5258\n"
          ]
        },
        {
          "output_type": "stream",
          "name": "stderr",
          "text": [
            " 56%|█████▌    | 928/1654 [00:27<00:21, 34.23it/s]"
          ]
        },
        {
          "output_type": "stream",
          "name": "stdout",
          "text": [
            "Epoch [3/5] Batch [924/1654] Loss: 1.5149\n",
            "Epoch [3/5] Batch [925/1654] Loss: 1.6785\n",
            "Epoch [3/5] Batch [926/1654] Loss: 1.5557\n",
            "Epoch [3/5] Batch [927/1654] Loss: 1.8084\n",
            "Epoch [3/5] Batch [928/1654] Loss: 1.7724\n",
            "Epoch [3/5] Batch [929/1654] Loss: 1.6001\n",
            "Epoch [3/5] Batch [930/1654] Loss: 1.7062\n",
            "Epoch [3/5] Batch [931/1654] Loss: 1.4542\n"
          ]
        },
        {
          "output_type": "stream",
          "name": "stderr",
          "text": [
            " 57%|█████▋    | 936/1654 [00:27<00:20, 34.78it/s]"
          ]
        },
        {
          "output_type": "stream",
          "name": "stdout",
          "text": [
            "Epoch [3/5] Batch [932/1654] Loss: 1.6997\n",
            "Epoch [3/5] Batch [933/1654] Loss: 1.7606\n",
            "Epoch [3/5] Batch [934/1654] Loss: 1.5465\n",
            "Epoch [3/5] Batch [935/1654] Loss: 2.0166\n",
            "Epoch [3/5] Batch [936/1654] Loss: 1.7856\n",
            "Epoch [3/5] Batch [937/1654] Loss: 1.8710\n",
            "Epoch [3/5] Batch [938/1654] Loss: 1.5825\n"
          ]
        },
        {
          "output_type": "stream",
          "name": "stderr",
          "text": [
            " 57%|█████▋    | 944/1654 [00:27<00:20, 34.51it/s]"
          ]
        },
        {
          "output_type": "stream",
          "name": "stdout",
          "text": [
            "Epoch [3/5] Batch [939/1654] Loss: 1.7162\n",
            "Epoch [3/5] Batch [940/1654] Loss: 1.7627\n",
            "Epoch [3/5] Batch [941/1654] Loss: 1.8059\n",
            "Epoch [3/5] Batch [942/1654] Loss: 1.6648\n",
            "Epoch [3/5] Batch [943/1654] Loss: 1.8266\n",
            "Epoch [3/5] Batch [944/1654] Loss: 1.5407\n",
            "Epoch [3/5] Batch [945/1654] Loss: 1.5483\n"
          ]
        },
        {
          "output_type": "stream",
          "name": "stderr",
          "text": [
            " 58%|█████▊    | 952/1654 [00:27<00:20, 34.89it/s]"
          ]
        },
        {
          "output_type": "stream",
          "name": "stdout",
          "text": [
            "Epoch [3/5] Batch [946/1654] Loss: 1.5739\n",
            "Epoch [3/5] Batch [947/1654] Loss: 1.5964\n",
            "Epoch [3/5] Batch [948/1654] Loss: 1.7966\n",
            "Epoch [3/5] Batch [949/1654] Loss: 1.8605\n",
            "Epoch [3/5] Batch [950/1654] Loss: 1.6049\n",
            "Epoch [3/5] Batch [951/1654] Loss: 1.5812\n",
            "Epoch [3/5] Batch [952/1654] Loss: 1.7471\n",
            "Epoch [3/5] Batch [953/1654] Loss: 1.3570\n"
          ]
        },
        {
          "output_type": "stream",
          "name": "stderr",
          "text": [
            " 58%|█████▊    | 960/1654 [00:27<00:19, 35.00it/s]"
          ]
        },
        {
          "output_type": "stream",
          "name": "stdout",
          "text": [
            "Epoch [3/5] Batch [954/1654] Loss: 1.3408\n",
            "Epoch [3/5] Batch [955/1654] Loss: 1.4141\n",
            "Epoch [3/5] Batch [956/1654] Loss: 1.6544\n",
            "Epoch [3/5] Batch [957/1654] Loss: 1.5525\n",
            "Epoch [3/5] Batch [958/1654] Loss: 1.6351\n",
            "Epoch [3/5] Batch [959/1654] Loss: 1.8554\n",
            "Epoch [3/5] Batch [960/1654] Loss: 1.6998\n",
            "Epoch [3/5] Batch [961/1654] Loss: 1.6052\n"
          ]
        },
        {
          "output_type": "stream",
          "name": "stderr",
          "text": [
            " 59%|█████▊    | 968/1654 [00:28<00:19, 35.40it/s]"
          ]
        },
        {
          "output_type": "stream",
          "name": "stdout",
          "text": [
            "Epoch [3/5] Batch [962/1654] Loss: 1.6242\n",
            "Epoch [3/5] Batch [963/1654] Loss: 1.6385\n",
            "Epoch [3/5] Batch [964/1654] Loss: 1.5638\n",
            "Epoch [3/5] Batch [965/1654] Loss: 1.4865\n",
            "Epoch [3/5] Batch [966/1654] Loss: 2.0461\n",
            "Epoch [3/5] Batch [967/1654] Loss: 2.0129\n",
            "Epoch [3/5] Batch [968/1654] Loss: 1.5927\n",
            "Epoch [3/5] Batch [969/1654] Loss: 1.5324\n"
          ]
        },
        {
          "output_type": "stream",
          "name": "stderr",
          "text": [
            " 59%|█████▉    | 976/1654 [00:28<00:19, 35.20it/s]"
          ]
        },
        {
          "output_type": "stream",
          "name": "stdout",
          "text": [
            "Epoch [3/5] Batch [970/1654] Loss: 1.5657\n",
            "Epoch [3/5] Batch [971/1654] Loss: 1.7993\n",
            "Epoch [3/5] Batch [972/1654] Loss: 1.6651\n",
            "Epoch [3/5] Batch [973/1654] Loss: 1.6196\n",
            "Epoch [3/5] Batch [974/1654] Loss: 1.5784\n",
            "Epoch [3/5] Batch [975/1654] Loss: 1.4644\n",
            "Epoch [3/5] Batch [976/1654] Loss: 1.4713\n",
            "Epoch [3/5] Batch [977/1654] Loss: 1.7386\n"
          ]
        },
        {
          "output_type": "stream",
          "name": "stderr",
          "text": [
            " 59%|█████▉    | 984/1654 [00:28<00:18, 35.53it/s]"
          ]
        },
        {
          "output_type": "stream",
          "name": "stdout",
          "text": [
            "Epoch [3/5] Batch [978/1654] Loss: 1.3333\n",
            "Epoch [3/5] Batch [979/1654] Loss: 1.8219\n",
            "Epoch [3/5] Batch [980/1654] Loss: 1.8765\n",
            "Epoch [3/5] Batch [981/1654] Loss: 1.3900\n",
            "Epoch [3/5] Batch [982/1654] Loss: 1.8982\n",
            "Epoch [3/5] Batch [983/1654] Loss: 1.7379\n",
            "Epoch [3/5] Batch [984/1654] Loss: 1.8067\n",
            "Epoch [3/5] Batch [985/1654] Loss: 1.5175\n"
          ]
        },
        {
          "output_type": "stream",
          "name": "stderr",
          "text": [
            " 60%|█████▉    | 992/1654 [00:28<00:18, 35.55it/s]"
          ]
        },
        {
          "output_type": "stream",
          "name": "stdout",
          "text": [
            "Epoch [3/5] Batch [986/1654] Loss: 1.9229\n",
            "Epoch [3/5] Batch [987/1654] Loss: 1.7025\n",
            "Epoch [3/5] Batch [988/1654] Loss: 1.7092\n",
            "Epoch [3/5] Batch [989/1654] Loss: 2.1491\n",
            "Epoch [3/5] Batch [990/1654] Loss: 1.6251\n",
            "Epoch [3/5] Batch [991/1654] Loss: 1.5143\n",
            "Epoch [3/5] Batch [992/1654] Loss: 1.6856\n",
            "Epoch [3/5] Batch [993/1654] Loss: 1.9486\n"
          ]
        },
        {
          "output_type": "stream",
          "name": "stderr",
          "text": [
            " 60%|██████    | 1000/1654 [00:29<00:18, 36.25it/s]"
          ]
        },
        {
          "output_type": "stream",
          "name": "stdout",
          "text": [
            "Epoch [3/5] Batch [994/1654] Loss: 1.6051\n",
            "Epoch [3/5] Batch [995/1654] Loss: 1.5058\n",
            "Epoch [3/5] Batch [996/1654] Loss: 1.7568\n",
            "Epoch [3/5] Batch [997/1654] Loss: 1.4876\n",
            "Epoch [3/5] Batch [998/1654] Loss: 1.7538\n",
            "Epoch [3/5] Batch [999/1654] Loss: 1.3765\n",
            "Epoch [3/5] Batch [1000/1654] Loss: 1.2689\n",
            "Epoch [3/5] Batch [1001/1654] Loss: 1.2456\n"
          ]
        },
        {
          "output_type": "stream",
          "name": "stderr",
          "text": [
            " 61%|██████    | 1008/1654 [00:29<00:17, 36.22it/s]"
          ]
        },
        {
          "output_type": "stream",
          "name": "stdout",
          "text": [
            "Epoch [3/5] Batch [1002/1654] Loss: 1.2624\n",
            "Epoch [3/5] Batch [1003/1654] Loss: 1.6925\n",
            "Epoch [3/5] Batch [1004/1654] Loss: 1.7268\n",
            "Epoch [3/5] Batch [1005/1654] Loss: 1.5508\n",
            "Epoch [3/5] Batch [1006/1654] Loss: 1.4618\n",
            "Epoch [3/5] Batch [1007/1654] Loss: 1.6874\n",
            "Epoch [3/5] Batch [1008/1654] Loss: 1.6903\n",
            "Epoch [3/5] Batch [1009/1654] Loss: 1.4340\n"
          ]
        },
        {
          "output_type": "stream",
          "name": "stderr",
          "text": [
            " 61%|██████▏   | 1016/1654 [00:29<00:17, 35.67it/s]"
          ]
        },
        {
          "output_type": "stream",
          "name": "stdout",
          "text": [
            "Epoch [3/5] Batch [1010/1654] Loss: 1.5726\n",
            "Epoch [3/5] Batch [1011/1654] Loss: 1.4935\n",
            "Epoch [3/5] Batch [1012/1654] Loss: 1.6911\n",
            "Epoch [3/5] Batch [1013/1654] Loss: 1.5465\n",
            "Epoch [3/5] Batch [1014/1654] Loss: 1.8054\n",
            "Epoch [3/5] Batch [1015/1654] Loss: 1.6330\n",
            "Epoch [3/5] Batch [1016/1654] Loss: 1.4181\n",
            "Epoch [3/5] Batch [1017/1654] Loss: 1.3952\n"
          ]
        },
        {
          "output_type": "stream",
          "name": "stderr",
          "text": [
            " 62%|██████▏   | 1024/1654 [00:29<00:17, 35.93it/s]"
          ]
        },
        {
          "output_type": "stream",
          "name": "stdout",
          "text": [
            "Epoch [3/5] Batch [1018/1654] Loss: 1.6082\n",
            "Epoch [3/5] Batch [1019/1654] Loss: 1.3159\n",
            "Epoch [3/5] Batch [1020/1654] Loss: 1.8696\n",
            "Epoch [3/5] Batch [1021/1654] Loss: 1.6454\n",
            "Epoch [3/5] Batch [1022/1654] Loss: 1.7631\n",
            "Epoch [3/5] Batch [1023/1654] Loss: 1.2175\n",
            "Epoch [3/5] Batch [1024/1654] Loss: 1.5597\n",
            "Epoch [3/5] Batch [1025/1654] Loss: 1.8163\n"
          ]
        },
        {
          "output_type": "stream",
          "name": "stderr",
          "text": [
            " 62%|██████▏   | 1032/1654 [00:29<00:16, 36.70it/s]"
          ]
        },
        {
          "output_type": "stream",
          "name": "stdout",
          "text": [
            "Epoch [3/5] Batch [1026/1654] Loss: 1.6962\n",
            "Epoch [3/5] Batch [1027/1654] Loss: 1.3159\n",
            "Epoch [3/5] Batch [1028/1654] Loss: 1.7939\n",
            "Epoch [3/5] Batch [1029/1654] Loss: 1.8600\n",
            "Epoch [3/5] Batch [1030/1654] Loss: 1.3310\n",
            "Epoch [3/5] Batch [1031/1654] Loss: 1.6986\n",
            "Epoch [3/5] Batch [1032/1654] Loss: 1.4032\n",
            "Epoch [3/5] Batch [1033/1654] Loss: 1.4103\n"
          ]
        },
        {
          "output_type": "stream",
          "name": "stderr",
          "text": [
            " 63%|██████▎   | 1040/1654 [00:30<00:16, 37.26it/s]"
          ]
        },
        {
          "output_type": "stream",
          "name": "stdout",
          "text": [
            "Epoch [3/5] Batch [1034/1654] Loss: 1.4525\n",
            "Epoch [3/5] Batch [1035/1654] Loss: 1.5067\n",
            "Epoch [3/5] Batch [1036/1654] Loss: 1.6237\n",
            "Epoch [3/5] Batch [1037/1654] Loss: 1.3861\n",
            "Epoch [3/5] Batch [1038/1654] Loss: 1.6035\n",
            "Epoch [3/5] Batch [1039/1654] Loss: 1.8929\n",
            "Epoch [3/5] Batch [1040/1654] Loss: 1.3075\n",
            "Epoch [3/5] Batch [1041/1654] Loss: 1.7965\n"
          ]
        },
        {
          "output_type": "stream",
          "name": "stderr",
          "text": [
            " 63%|██████▎   | 1048/1654 [00:30<00:16, 36.54it/s]"
          ]
        },
        {
          "output_type": "stream",
          "name": "stdout",
          "text": [
            "Epoch [3/5] Batch [1042/1654] Loss: 1.5075\n",
            "Epoch [3/5] Batch [1043/1654] Loss: 1.4173\n",
            "Epoch [3/5] Batch [1044/1654] Loss: 1.6108\n",
            "Epoch [3/5] Batch [1045/1654] Loss: 1.8033\n",
            "Epoch [3/5] Batch [1046/1654] Loss: 1.4382\n",
            "Epoch [3/5] Batch [1047/1654] Loss: 1.8419\n",
            "Epoch [3/5] Batch [1048/1654] Loss: 1.7224\n",
            "Epoch [3/5] Batch [1049/1654] Loss: 1.5471\n"
          ]
        },
        {
          "output_type": "stream",
          "name": "stderr",
          "text": [
            " 64%|██████▍   | 1056/1654 [00:30<00:16, 36.35it/s]"
          ]
        },
        {
          "output_type": "stream",
          "name": "stdout",
          "text": [
            "Epoch [3/5] Batch [1050/1654] Loss: 1.3779\n",
            "Epoch [3/5] Batch [1051/1654] Loss: 1.6315\n",
            "Epoch [3/5] Batch [1052/1654] Loss: 1.7128\n",
            "Epoch [3/5] Batch [1053/1654] Loss: 1.4977\n",
            "Epoch [3/5] Batch [1054/1654] Loss: 1.4422\n",
            "Epoch [3/5] Batch [1055/1654] Loss: 1.6151\n",
            "Epoch [3/5] Batch [1056/1654] Loss: 1.6669\n",
            "Epoch [3/5] Batch [1057/1654] Loss: 1.4096\n"
          ]
        },
        {
          "output_type": "stream",
          "name": "stderr",
          "text": [
            " 64%|██████▍   | 1064/1654 [00:30<00:16, 36.68it/s]"
          ]
        },
        {
          "output_type": "stream",
          "name": "stdout",
          "text": [
            "Epoch [3/5] Batch [1058/1654] Loss: 1.3954\n",
            "Epoch [3/5] Batch [1059/1654] Loss: 2.1300\n",
            "Epoch [3/5] Batch [1060/1654] Loss: 1.8205\n",
            "Epoch [3/5] Batch [1061/1654] Loss: 1.4874\n",
            "Epoch [3/5] Batch [1062/1654] Loss: 1.6599\n",
            "Epoch [3/5] Batch [1063/1654] Loss: 1.1442\n",
            "Epoch [3/5] Batch [1064/1654] Loss: 1.7181\n",
            "Epoch [3/5] Batch [1065/1654] Loss: 1.3563\n"
          ]
        },
        {
          "output_type": "stream",
          "name": "stderr",
          "text": [
            " 65%|██████▍   | 1072/1654 [00:31<00:15, 37.17it/s]"
          ]
        },
        {
          "output_type": "stream",
          "name": "stdout",
          "text": [
            "Epoch [3/5] Batch [1066/1654] Loss: 1.7216\n",
            "Epoch [3/5] Batch [1067/1654] Loss: 1.3762\n",
            "Epoch [3/5] Batch [1068/1654] Loss: 1.5553\n",
            "Epoch [3/5] Batch [1069/1654] Loss: 1.5890\n",
            "Epoch [3/5] Batch [1070/1654] Loss: 1.5447\n",
            "Epoch [3/5] Batch [1071/1654] Loss: 1.5175\n",
            "Epoch [3/5] Batch [1072/1654] Loss: 1.9934\n",
            "Epoch [3/5] Batch [1073/1654] Loss: 1.7972\n"
          ]
        },
        {
          "output_type": "stream",
          "name": "stderr",
          "text": [
            " 65%|██████▌   | 1080/1654 [00:31<00:15, 36.91it/s]"
          ]
        },
        {
          "output_type": "stream",
          "name": "stdout",
          "text": [
            "Epoch [3/5] Batch [1074/1654] Loss: 1.4668\n",
            "Epoch [3/5] Batch [1075/1654] Loss: 1.8276\n",
            "Epoch [3/5] Batch [1076/1654] Loss: 1.6807\n",
            "Epoch [3/5] Batch [1077/1654] Loss: 1.3936\n",
            "Epoch [3/5] Batch [1078/1654] Loss: 1.7589\n",
            "Epoch [3/5] Batch [1079/1654] Loss: 1.8511\n",
            "Epoch [3/5] Batch [1080/1654] Loss: 1.6596\n",
            "Epoch [3/5] Batch [1081/1654] Loss: 1.9614\n"
          ]
        },
        {
          "output_type": "stream",
          "name": "stderr",
          "text": [
            " 66%|██████▌   | 1088/1654 [00:31<00:15, 35.67it/s]"
          ]
        },
        {
          "output_type": "stream",
          "name": "stdout",
          "text": [
            "Epoch [3/5] Batch [1082/1654] Loss: 1.6152\n",
            "Epoch [3/5] Batch [1083/1654] Loss: 2.0305\n",
            "Epoch [3/5] Batch [1084/1654] Loss: 1.5369\n",
            "Epoch [3/5] Batch [1085/1654] Loss: 1.6337\n",
            "Epoch [3/5] Batch [1086/1654] Loss: 1.7741\n",
            "Epoch [3/5] Batch [1087/1654] Loss: 1.4029\n",
            "Epoch [3/5] Batch [1088/1654] Loss: 1.6488\n",
            "Epoch [3/5] Batch [1089/1654] Loss: 1.6183\n"
          ]
        },
        {
          "output_type": "stream",
          "name": "stderr",
          "text": [
            " 66%|██████▋   | 1096/1654 [00:31<00:15, 36.62it/s]"
          ]
        },
        {
          "output_type": "stream",
          "name": "stdout",
          "text": [
            "Epoch [3/5] Batch [1090/1654] Loss: 1.3733\n",
            "Epoch [3/5] Batch [1091/1654] Loss: 1.7631\n",
            "Epoch [3/5] Batch [1092/1654] Loss: 1.7348\n",
            "Epoch [3/5] Batch [1093/1654] Loss: 1.3863\n",
            "Epoch [3/5] Batch [1094/1654] Loss: 1.4683\n",
            "Epoch [3/5] Batch [1095/1654] Loss: 1.3524\n",
            "Epoch [3/5] Batch [1096/1654] Loss: 1.7044\n",
            "Epoch [3/5] Batch [1097/1654] Loss: 1.4254\n"
          ]
        },
        {
          "output_type": "stream",
          "name": "stderr",
          "text": [
            " 67%|██████▋   | 1104/1654 [00:31<00:15, 35.40it/s]"
          ]
        },
        {
          "output_type": "stream",
          "name": "stdout",
          "text": [
            "Epoch [3/5] Batch [1098/1654] Loss: 1.7694\n",
            "Epoch [3/5] Batch [1099/1654] Loss: 1.8045\n",
            "Epoch [3/5] Batch [1100/1654] Loss: 1.7063\n",
            "Epoch [3/5] Batch [1101/1654] Loss: 1.3578\n",
            "Epoch [3/5] Batch [1102/1654] Loss: 1.5461\n",
            "Epoch [3/5] Batch [1103/1654] Loss: 1.5223\n",
            "Epoch [3/5] Batch [1104/1654] Loss: 1.8938\n"
          ]
        },
        {
          "output_type": "stream",
          "name": "stderr",
          "text": [
            " 67%|██████▋   | 1112/1654 [00:32<00:15, 35.59it/s]"
          ]
        },
        {
          "output_type": "stream",
          "name": "stdout",
          "text": [
            "Epoch [3/5] Batch [1105/1654] Loss: 1.7265\n",
            "Epoch [3/5] Batch [1106/1654] Loss: 1.3479\n",
            "Epoch [3/5] Batch [1107/1654] Loss: 1.5919\n",
            "Epoch [3/5] Batch [1108/1654] Loss: 1.5501\n",
            "Epoch [3/5] Batch [1109/1654] Loss: 1.5828\n",
            "Epoch [3/5] Batch [1110/1654] Loss: 1.6194\n",
            "Epoch [3/5] Batch [1111/1654] Loss: 1.5521\n",
            "Epoch [3/5] Batch [1112/1654] Loss: 1.3744\n"
          ]
        },
        {
          "output_type": "stream",
          "name": "stderr",
          "text": [
            " 68%|██████▊   | 1120/1654 [00:32<00:15, 35.56it/s]"
          ]
        },
        {
          "output_type": "stream",
          "name": "stdout",
          "text": [
            "Epoch [3/5] Batch [1113/1654] Loss: 1.6110\n",
            "Epoch [3/5] Batch [1114/1654] Loss: 1.5122\n",
            "Epoch [3/5] Batch [1115/1654] Loss: 1.7644\n",
            "Epoch [3/5] Batch [1116/1654] Loss: 1.4165\n",
            "Epoch [3/5] Batch [1117/1654] Loss: 1.6322\n",
            "Epoch [3/5] Batch [1118/1654] Loss: 1.6055\n",
            "Epoch [3/5] Batch [1119/1654] Loss: 1.5218\n",
            "Epoch [3/5] Batch [1120/1654] Loss: 1.6805\n"
          ]
        },
        {
          "output_type": "stream",
          "name": "stderr",
          "text": [
            "\r 68%|██████▊   | 1124/1654 [00:32<00:15, 34.69it/s]"
          ]
        },
        {
          "output_type": "stream",
          "name": "stdout",
          "text": [
            "Epoch [3/5] Batch [1121/1654] Loss: 1.5422\n",
            "Epoch [3/5] Batch [1122/1654] Loss: 1.6941\n",
            "Epoch [3/5] Batch [1123/1654] Loss: 1.7578\n",
            "Epoch [3/5] Batch [1124/1654] Loss: 1.6961\n",
            "Epoch [3/5] Batch [1125/1654] Loss: 1.5220\n",
            "Epoch [3/5] Batch [1126/1654] Loss: 2.1092\n",
            "Epoch [3/5] Batch [1127/1654] Loss: 1.3439\n"
          ]
        },
        {
          "output_type": "stream",
          "name": "stderr",
          "text": [
            " 68%|██████▊   | 1132/1654 [00:32<00:15, 34.79it/s]"
          ]
        },
        {
          "output_type": "stream",
          "name": "stdout",
          "text": [
            "Epoch [3/5] Batch [1128/1654] Loss: 1.5884\n",
            "Epoch [3/5] Batch [1129/1654] Loss: 1.9370\n",
            "Epoch [3/5] Batch [1130/1654] Loss: 1.9165\n",
            "Epoch [3/5] Batch [1131/1654] Loss: 1.6064\n",
            "Epoch [3/5] Batch [1132/1654] Loss: 1.4025\n",
            "Epoch [3/5] Batch [1133/1654] Loss: 1.8473\n",
            "Epoch [3/5] Batch [1134/1654] Loss: 1.8905\n"
          ]
        },
        {
          "output_type": "stream",
          "name": "stderr",
          "text": [
            " 69%|██████▉   | 1140/1654 [00:32<00:14, 35.24it/s]"
          ]
        },
        {
          "output_type": "stream",
          "name": "stdout",
          "text": [
            "Epoch [3/5] Batch [1135/1654] Loss: 1.4386\n",
            "Epoch [3/5] Batch [1136/1654] Loss: 1.5230\n",
            "Epoch [3/5] Batch [1137/1654] Loss: 1.3803\n",
            "Epoch [3/5] Batch [1138/1654] Loss: 1.5712\n",
            "Epoch [3/5] Batch [1139/1654] Loss: 1.8355\n",
            "Epoch [3/5] Batch [1140/1654] Loss: 1.6844\n",
            "Epoch [3/5] Batch [1141/1654] Loss: 1.6552\n",
            "Epoch [3/5] Batch [1142/1654] Loss: 1.4413\n"
          ]
        },
        {
          "output_type": "stream",
          "name": "stderr",
          "text": [
            " 69%|██████▉   | 1148/1654 [00:33<00:14, 35.63it/s]"
          ]
        },
        {
          "output_type": "stream",
          "name": "stdout",
          "text": [
            "Epoch [3/5] Batch [1143/1654] Loss: 1.2483\n",
            "Epoch [3/5] Batch [1144/1654] Loss: 1.8334\n",
            "Epoch [3/5] Batch [1145/1654] Loss: 1.3388\n",
            "Epoch [3/5] Batch [1146/1654] Loss: 1.8559\n",
            "Epoch [3/5] Batch [1147/1654] Loss: 1.4093\n",
            "Epoch [3/5] Batch [1148/1654] Loss: 1.8840\n",
            "Epoch [3/5] Batch [1149/1654] Loss: 1.7202\n",
            "Epoch [3/5] Batch [1150/1654] Loss: 1.3885\n"
          ]
        },
        {
          "output_type": "stream",
          "name": "stderr",
          "text": [
            " 70%|██████▉   | 1156/1654 [00:33<00:13, 35.80it/s]"
          ]
        },
        {
          "output_type": "stream",
          "name": "stdout",
          "text": [
            "Epoch [3/5] Batch [1151/1654] Loss: 1.6099\n",
            "Epoch [3/5] Batch [1152/1654] Loss: 1.3413\n",
            "Epoch [3/5] Batch [1153/1654] Loss: 2.0283\n",
            "Epoch [3/5] Batch [1154/1654] Loss: 1.3838\n",
            "Epoch [3/5] Batch [1155/1654] Loss: 1.4967\n",
            "Epoch [3/5] Batch [1156/1654] Loss: 1.7295\n",
            "Epoch [3/5] Batch [1157/1654] Loss: 1.7564\n",
            "Epoch [3/5] Batch [1158/1654] Loss: 1.3964\n"
          ]
        },
        {
          "output_type": "stream",
          "name": "stderr",
          "text": [
            " 70%|███████   | 1164/1654 [00:33<00:13, 35.00it/s]"
          ]
        },
        {
          "output_type": "stream",
          "name": "stdout",
          "text": [
            "Epoch [3/5] Batch [1159/1654] Loss: 1.6730\n",
            "Epoch [3/5] Batch [1160/1654] Loss: 1.2987\n",
            "Epoch [3/5] Batch [1161/1654] Loss: 1.5510\n",
            "Epoch [3/5] Batch [1162/1654] Loss: 1.7216\n",
            "Epoch [3/5] Batch [1163/1654] Loss: 1.8896\n",
            "Epoch [3/5] Batch [1164/1654] Loss: 1.7804\n",
            "Epoch [3/5] Batch [1165/1654] Loss: 1.5775\n",
            "Epoch [3/5] Batch [1166/1654] Loss: 2.0372\n"
          ]
        },
        {
          "output_type": "stream",
          "name": "stderr",
          "text": [
            " 71%|███████   | 1172/1654 [00:33<00:13, 35.23it/s]"
          ]
        },
        {
          "output_type": "stream",
          "name": "stdout",
          "text": [
            "Epoch [3/5] Batch [1167/1654] Loss: 1.8509\n",
            "Epoch [3/5] Batch [1168/1654] Loss: 1.6177\n",
            "Epoch [3/5] Batch [1169/1654] Loss: 1.4127\n",
            "Epoch [3/5] Batch [1170/1654] Loss: 1.4789\n",
            "Epoch [3/5] Batch [1171/1654] Loss: 1.7094\n",
            "Epoch [3/5] Batch [1172/1654] Loss: 1.9044\n",
            "Epoch [3/5] Batch [1173/1654] Loss: 1.5981\n",
            "Epoch [3/5] Batch [1174/1654] Loss: 1.3507\n"
          ]
        },
        {
          "output_type": "stream",
          "name": "stderr",
          "text": [
            " 71%|███████▏  | 1180/1654 [00:34<00:13, 35.58it/s]"
          ]
        },
        {
          "output_type": "stream",
          "name": "stdout",
          "text": [
            "Epoch [3/5] Batch [1175/1654] Loss: 1.3723\n",
            "Epoch [3/5] Batch [1176/1654] Loss: 1.2864\n",
            "Epoch [3/5] Batch [1177/1654] Loss: 1.6454\n",
            "Epoch [3/5] Batch [1178/1654] Loss: 1.4745\n",
            "Epoch [3/5] Batch [1179/1654] Loss: 1.2136\n",
            "Epoch [3/5] Batch [1180/1654] Loss: 1.3324\n",
            "Epoch [3/5] Batch [1181/1654] Loss: 1.3192\n",
            "Epoch [3/5] Batch [1182/1654] Loss: 1.5400\n"
          ]
        },
        {
          "output_type": "stream",
          "name": "stderr",
          "text": [
            " 72%|███████▏  | 1188/1654 [00:34<00:12, 35.98it/s]"
          ]
        },
        {
          "output_type": "stream",
          "name": "stdout",
          "text": [
            "Epoch [3/5] Batch [1183/1654] Loss: 1.8427\n",
            "Epoch [3/5] Batch [1184/1654] Loss: 1.7935\n",
            "Epoch [3/5] Batch [1185/1654] Loss: 1.8548\n",
            "Epoch [3/5] Batch [1186/1654] Loss: 1.8321\n",
            "Epoch [3/5] Batch [1187/1654] Loss: 1.7591\n",
            "Epoch [3/5] Batch [1188/1654] Loss: 1.7470\n",
            "Epoch [3/5] Batch [1189/1654] Loss: 1.5504\n",
            "Epoch [3/5] Batch [1190/1654] Loss: 1.2934\n"
          ]
        },
        {
          "output_type": "stream",
          "name": "stderr",
          "text": [
            " 72%|███████▏  | 1196/1654 [00:34<00:13, 34.45it/s]"
          ]
        },
        {
          "output_type": "stream",
          "name": "stdout",
          "text": [
            "Epoch [3/5] Batch [1191/1654] Loss: 1.4281\n",
            "Epoch [3/5] Batch [1192/1654] Loss: 1.5354\n",
            "Epoch [3/5] Batch [1193/1654] Loss: 1.5883\n",
            "Epoch [3/5] Batch [1194/1654] Loss: 1.8145\n",
            "Epoch [3/5] Batch [1195/1654] Loss: 1.7081\n",
            "Epoch [3/5] Batch [1196/1654] Loss: 1.5121\n",
            "Epoch [3/5] Batch [1197/1654] Loss: 1.7658\n"
          ]
        },
        {
          "output_type": "stream",
          "name": "stderr",
          "text": [
            " 73%|███████▎  | 1204/1654 [00:34<00:12, 34.71it/s]"
          ]
        },
        {
          "output_type": "stream",
          "name": "stdout",
          "text": [
            "Epoch [3/5] Batch [1198/1654] Loss: 1.6738\n",
            "Epoch [3/5] Batch [1199/1654] Loss: 1.7585\n",
            "Epoch [3/5] Batch [1200/1654] Loss: 1.8091\n",
            "Epoch [3/5] Batch [1201/1654] Loss: 1.3950\n",
            "Epoch [3/5] Batch [1202/1654] Loss: 1.6846\n",
            "Epoch [3/5] Batch [1203/1654] Loss: 1.5852\n",
            "Epoch [3/5] Batch [1204/1654] Loss: 1.9780\n"
          ]
        },
        {
          "output_type": "stream",
          "name": "stderr",
          "text": [
            " 73%|███████▎  | 1212/1654 [00:35<00:12, 35.62it/s]"
          ]
        },
        {
          "output_type": "stream",
          "name": "stdout",
          "text": [
            "Epoch [3/5] Batch [1205/1654] Loss: 1.8178\n",
            "Epoch [3/5] Batch [1206/1654] Loss: 1.2260\n",
            "Epoch [3/5] Batch [1207/1654] Loss: 1.3989\n",
            "Epoch [3/5] Batch [1208/1654] Loss: 1.6686\n",
            "Epoch [3/5] Batch [1209/1654] Loss: 1.6046\n",
            "Epoch [3/5] Batch [1210/1654] Loss: 1.5758\n",
            "Epoch [3/5] Batch [1211/1654] Loss: 1.4642\n",
            "Epoch [3/5] Batch [1212/1654] Loss: 1.5345\n"
          ]
        },
        {
          "output_type": "stream",
          "name": "stderr",
          "text": [
            " 74%|███████▍  | 1220/1654 [00:35<00:12, 35.74it/s]"
          ]
        },
        {
          "output_type": "stream",
          "name": "stdout",
          "text": [
            "Epoch [3/5] Batch [1213/1654] Loss: 1.5825\n",
            "Epoch [3/5] Batch [1214/1654] Loss: 1.8310\n",
            "Epoch [3/5] Batch [1215/1654] Loss: 1.6643\n",
            "Epoch [3/5] Batch [1216/1654] Loss: 1.5448\n",
            "Epoch [3/5] Batch [1217/1654] Loss: 1.4599\n",
            "Epoch [3/5] Batch [1218/1654] Loss: 1.6137\n",
            "Epoch [3/5] Batch [1219/1654] Loss: 1.8020\n",
            "Epoch [3/5] Batch [1220/1654] Loss: 1.6476\n"
          ]
        },
        {
          "output_type": "stream",
          "name": "stderr",
          "text": [
            " 74%|███████▍  | 1228/1654 [00:35<00:11, 35.91it/s]"
          ]
        },
        {
          "output_type": "stream",
          "name": "stdout",
          "text": [
            "Epoch [3/5] Batch [1221/1654] Loss: 1.5222\n",
            "Epoch [3/5] Batch [1222/1654] Loss: 1.5217\n",
            "Epoch [3/5] Batch [1223/1654] Loss: 1.7421\n",
            "Epoch [3/5] Batch [1224/1654] Loss: 1.4343\n",
            "Epoch [3/5] Batch [1225/1654] Loss: 1.6893\n",
            "Epoch [3/5] Batch [1226/1654] Loss: 1.6474\n",
            "Epoch [3/5] Batch [1227/1654] Loss: 1.8433\n",
            "Epoch [3/5] Batch [1228/1654] Loss: 1.6196\n"
          ]
        },
        {
          "output_type": "stream",
          "name": "stderr",
          "text": [
            "\r 74%|███████▍  | 1232/1654 [00:35<00:12, 34.77it/s]"
          ]
        },
        {
          "output_type": "stream",
          "name": "stdout",
          "text": [
            "Epoch [3/5] Batch [1229/1654] Loss: 1.5460\n",
            "Epoch [3/5] Batch [1230/1654] Loss: 1.4803\n",
            "Epoch [3/5] Batch [1231/1654] Loss: 1.7867\n",
            "Epoch [3/5] Batch [1232/1654] Loss: 1.5926\n",
            "Epoch [3/5] Batch [1233/1654] Loss: 1.9212\n",
            "Epoch [3/5] Batch [1234/1654] Loss: 1.3808\n",
            "Epoch [3/5] Batch [1235/1654] Loss: 1.4124\n"
          ]
        },
        {
          "output_type": "stream",
          "name": "stderr",
          "text": [
            " 75%|███████▍  | 1240/1654 [00:35<00:13, 31.34it/s]"
          ]
        },
        {
          "output_type": "stream",
          "name": "stdout",
          "text": [
            "Epoch [3/5] Batch [1236/1654] Loss: 1.5349\n",
            "Epoch [3/5] Batch [1237/1654] Loss: 1.4599\n",
            "Epoch [3/5] Batch [1238/1654] Loss: 1.9342\n",
            "Epoch [3/5] Batch [1239/1654] Loss: 1.3892\n",
            "Epoch [3/5] Batch [1240/1654] Loss: 1.5938\n",
            "Epoch [3/5] Batch [1241/1654] Loss: 1.6879\n"
          ]
        },
        {
          "output_type": "stream",
          "name": "stderr",
          "text": [
            " 75%|███████▌  | 1248/1654 [00:36<00:13, 30.74it/s]"
          ]
        },
        {
          "output_type": "stream",
          "name": "stdout",
          "text": [
            "Epoch [3/5] Batch [1242/1654] Loss: 1.7488\n",
            "Epoch [3/5] Batch [1243/1654] Loss: 1.6315\n",
            "Epoch [3/5] Batch [1244/1654] Loss: 1.7825\n",
            "Epoch [3/5] Batch [1245/1654] Loss: 1.7539\n",
            "Epoch [3/5] Batch [1246/1654] Loss: 1.4932\n",
            "Epoch [3/5] Batch [1247/1654] Loss: 1.8402\n",
            "Epoch [3/5] Batch [1248/1654] Loss: 1.9535\n"
          ]
        },
        {
          "output_type": "stream",
          "name": "stderr",
          "text": [
            "\r 76%|███████▌  | 1252/1654 [00:36<00:13, 30.09it/s]"
          ]
        },
        {
          "output_type": "stream",
          "name": "stdout",
          "text": [
            "Epoch [3/5] Batch [1249/1654] Loss: 1.4805\n",
            "Epoch [3/5] Batch [1250/1654] Loss: 1.6365\n",
            "Epoch [3/5] Batch [1251/1654] Loss: 1.5145\n",
            "Epoch [3/5] Batch [1252/1654] Loss: 1.4455\n",
            "Epoch [3/5] Batch [1253/1654] Loss: 1.7394\n",
            "Epoch [3/5] Batch [1254/1654] Loss: 1.2857\n",
            "Epoch [3/5] Batch [1255/1654] Loss: 1.7616\n"
          ]
        },
        {
          "output_type": "stream",
          "name": "stderr",
          "text": [
            " 76%|███████▌  | 1260/1654 [00:36<00:13, 30.19it/s]"
          ]
        },
        {
          "output_type": "stream",
          "name": "stdout",
          "text": [
            "Epoch [3/5] Batch [1256/1654] Loss: 1.4566\n",
            "Epoch [3/5] Batch [1257/1654] Loss: 1.9546\n",
            "Epoch [3/5] Batch [1258/1654] Loss: 1.8239\n",
            "Epoch [3/5] Batch [1259/1654] Loss: 1.2228\n",
            "Epoch [3/5] Batch [1260/1654] Loss: 1.8655\n",
            "Epoch [3/5] Batch [1261/1654] Loss: 1.5099\n",
            "Epoch [3/5] Batch [1262/1654] Loss: 1.5392\n"
          ]
        },
        {
          "output_type": "stream",
          "name": "stderr",
          "text": [
            " 77%|███████▋  | 1268/1654 [00:36<00:12, 30.58it/s]"
          ]
        },
        {
          "output_type": "stream",
          "name": "stdout",
          "text": [
            "Epoch [3/5] Batch [1263/1654] Loss: 1.6378\n",
            "Epoch [3/5] Batch [1264/1654] Loss: 1.7790\n",
            "Epoch [3/5] Batch [1265/1654] Loss: 1.7142\n",
            "Epoch [3/5] Batch [1266/1654] Loss: 1.4048\n",
            "Epoch [3/5] Batch [1267/1654] Loss: 1.6183\n",
            "Epoch [3/5] Batch [1268/1654] Loss: 1.3008\n",
            "Epoch [3/5] Batch [1269/1654] Loss: 1.5777\n"
          ]
        },
        {
          "output_type": "stream",
          "name": "stderr",
          "text": [
            " 77%|███████▋  | 1276/1654 [00:37<00:12, 30.36it/s]"
          ]
        },
        {
          "output_type": "stream",
          "name": "stdout",
          "text": [
            "Epoch [3/5] Batch [1270/1654] Loss: 1.7010\n",
            "Epoch [3/5] Batch [1271/1654] Loss: 1.7914\n",
            "Epoch [3/5] Batch [1272/1654] Loss: 1.3981\n",
            "Epoch [3/5] Batch [1273/1654] Loss: 1.5887\n",
            "Epoch [3/5] Batch [1274/1654] Loss: 1.6254\n",
            "Epoch [3/5] Batch [1275/1654] Loss: 1.5432\n",
            "Epoch [3/5] Batch [1276/1654] Loss: 1.8409\n"
          ]
        },
        {
          "output_type": "stream",
          "name": "stderr",
          "text": [
            "\r 77%|███████▋  | 1280/1654 [00:37<00:13, 28.70it/s]"
          ]
        },
        {
          "output_type": "stream",
          "name": "stdout",
          "text": [
            "Epoch [3/5] Batch [1277/1654] Loss: 1.5608\n",
            "Epoch [3/5] Batch [1278/1654] Loss: 1.6055\n",
            "Epoch [3/5] Batch [1279/1654] Loss: 1.7548\n",
            "Epoch [3/5] Batch [1280/1654] Loss: 1.4464\n",
            "Epoch [3/5] Batch [1281/1654] Loss: 1.6220\n",
            "Epoch [3/5] Batch [1282/1654] Loss: 1.6730\n"
          ]
        },
        {
          "output_type": "stream",
          "name": "stderr",
          "text": [
            " 78%|███████▊  | 1287/1654 [00:37<00:12, 28.40it/s]"
          ]
        },
        {
          "output_type": "stream",
          "name": "stdout",
          "text": [
            "Epoch [3/5] Batch [1283/1654] Loss: 1.6736\n",
            "Epoch [3/5] Batch [1284/1654] Loss: 1.1154\n",
            "Epoch [3/5] Batch [1285/1654] Loss: 1.7719\n",
            "Epoch [3/5] Batch [1286/1654] Loss: 1.8589\n",
            "Epoch [3/5] Batch [1287/1654] Loss: 2.0562\n",
            "Epoch [3/5] Batch [1288/1654] Loss: 1.6607\n"
          ]
        },
        {
          "output_type": "stream",
          "name": "stderr",
          "text": [
            " 78%|███████▊  | 1293/1654 [00:37<00:13, 27.00it/s]"
          ]
        },
        {
          "output_type": "stream",
          "name": "stdout",
          "text": [
            "Epoch [3/5] Batch [1289/1654] Loss: 1.7138\n",
            "Epoch [3/5] Batch [1290/1654] Loss: 1.4632\n",
            "Epoch [3/5] Batch [1291/1654] Loss: 1.5984\n",
            "Epoch [3/5] Batch [1292/1654] Loss: 1.6287\n",
            "Epoch [3/5] Batch [1293/1654] Loss: 1.2707\n",
            "Epoch [3/5] Batch [1294/1654] Loss: 1.5304\n"
          ]
        },
        {
          "output_type": "stream",
          "name": "stderr",
          "text": [
            " 79%|███████▊  | 1299/1654 [00:37<00:13, 27.29it/s]"
          ]
        },
        {
          "output_type": "stream",
          "name": "stdout",
          "text": [
            "Epoch [3/5] Batch [1295/1654] Loss: 1.3442\n",
            "Epoch [3/5] Batch [1296/1654] Loss: 1.5551\n",
            "Epoch [3/5] Batch [1297/1654] Loss: 1.7340\n",
            "Epoch [3/5] Batch [1298/1654] Loss: 1.8338\n",
            "Epoch [3/5] Batch [1299/1654] Loss: 1.9321\n",
            "Epoch [3/5] Batch [1300/1654] Loss: 1.4960\n",
            "Epoch [3/5] Batch [1301/1654] Loss: 1.8118\n"
          ]
        },
        {
          "output_type": "stream",
          "name": "stderr",
          "text": [
            " 79%|███████▉  | 1307/1654 [00:38<00:11, 31.33it/s]"
          ]
        },
        {
          "output_type": "stream",
          "name": "stdout",
          "text": [
            "Epoch [3/5] Batch [1302/1654] Loss: 1.3975\n",
            "Epoch [3/5] Batch [1303/1654] Loss: 1.9780\n",
            "Epoch [3/5] Batch [1304/1654] Loss: 1.7374\n",
            "Epoch [3/5] Batch [1305/1654] Loss: 1.6360\n",
            "Epoch [3/5] Batch [1306/1654] Loss: 1.6522\n",
            "Epoch [3/5] Batch [1307/1654] Loss: 2.0145\n",
            "Epoch [3/5] Batch [1308/1654] Loss: 1.8783\n",
            "Epoch [3/5] Batch [1309/1654] Loss: 1.9733\n"
          ]
        },
        {
          "output_type": "stream",
          "name": "stderr",
          "text": [
            " 80%|███████▉  | 1315/1654 [00:38<00:10, 33.07it/s]"
          ]
        },
        {
          "output_type": "stream",
          "name": "stdout",
          "text": [
            "Epoch [3/5] Batch [1310/1654] Loss: 1.6319\n",
            "Epoch [3/5] Batch [1311/1654] Loss: 1.3476\n",
            "Epoch [3/5] Batch [1312/1654] Loss: 1.7433\n",
            "Epoch [3/5] Batch [1313/1654] Loss: 1.8607\n",
            "Epoch [3/5] Batch [1314/1654] Loss: 1.5850\n",
            "Epoch [3/5] Batch [1315/1654] Loss: 1.6432\n",
            "Epoch [3/5] Batch [1316/1654] Loss: 1.7736\n",
            "Epoch [3/5] Batch [1317/1654] Loss: 1.7738\n"
          ]
        },
        {
          "output_type": "stream",
          "name": "stderr",
          "text": [
            " 80%|███████▉  | 1323/1654 [00:38<00:09, 34.04it/s]"
          ]
        },
        {
          "output_type": "stream",
          "name": "stdout",
          "text": [
            "Epoch [3/5] Batch [1318/1654] Loss: 1.6066\n",
            "Epoch [3/5] Batch [1319/1654] Loss: 1.7697\n",
            "Epoch [3/5] Batch [1320/1654] Loss: 1.6222\n",
            "Epoch [3/5] Batch [1321/1654] Loss: 1.4783\n",
            "Epoch [3/5] Batch [1322/1654] Loss: 1.4340\n",
            "Epoch [3/5] Batch [1323/1654] Loss: 1.7095\n",
            "Epoch [3/5] Batch [1324/1654] Loss: 1.5335\n",
            "Epoch [3/5] Batch [1325/1654] Loss: 1.5652\n"
          ]
        },
        {
          "output_type": "stream",
          "name": "stderr",
          "text": [
            " 80%|████████  | 1331/1654 [00:38<00:09, 33.45it/s]"
          ]
        },
        {
          "output_type": "stream",
          "name": "stdout",
          "text": [
            "Epoch [3/5] Batch [1326/1654] Loss: 1.6529\n",
            "Epoch [3/5] Batch [1327/1654] Loss: 1.5899\n",
            "Epoch [3/5] Batch [1328/1654] Loss: 1.4887\n",
            "Epoch [3/5] Batch [1329/1654] Loss: 1.2640\n",
            "Epoch [3/5] Batch [1330/1654] Loss: 1.6191\n",
            "Epoch [3/5] Batch [1331/1654] Loss: 1.5026\n",
            "Epoch [3/5] Batch [1332/1654] Loss: 1.8689\n"
          ]
        },
        {
          "output_type": "stream",
          "name": "stderr",
          "text": [
            " 81%|████████  | 1339/1654 [00:39<00:09, 34.77it/s]"
          ]
        },
        {
          "output_type": "stream",
          "name": "stdout",
          "text": [
            "Epoch [3/5] Batch [1333/1654] Loss: 1.4996\n",
            "Epoch [3/5] Batch [1334/1654] Loss: 1.8581\n",
            "Epoch [3/5] Batch [1335/1654] Loss: 1.2112\n",
            "Epoch [3/5] Batch [1336/1654] Loss: 1.8068\n",
            "Epoch [3/5] Batch [1337/1654] Loss: 1.3265\n",
            "Epoch [3/5] Batch [1338/1654] Loss: 1.5443\n",
            "Epoch [3/5] Batch [1339/1654] Loss: 2.0871\n",
            "Epoch [3/5] Batch [1340/1654] Loss: 1.5653\n"
          ]
        },
        {
          "output_type": "stream",
          "name": "stderr",
          "text": [
            " 81%|████████▏ | 1347/1654 [00:39<00:08, 35.22it/s]"
          ]
        },
        {
          "output_type": "stream",
          "name": "stdout",
          "text": [
            "Epoch [3/5] Batch [1341/1654] Loss: 1.7215\n",
            "Epoch [3/5] Batch [1342/1654] Loss: 1.5190\n",
            "Epoch [3/5] Batch [1343/1654] Loss: 1.6449\n",
            "Epoch [3/5] Batch [1344/1654] Loss: 1.4257\n",
            "Epoch [3/5] Batch [1345/1654] Loss: 1.7769\n",
            "Epoch [3/5] Batch [1346/1654] Loss: 1.6338\n",
            "Epoch [3/5] Batch [1347/1654] Loss: 1.7549\n",
            "Epoch [3/5] Batch [1348/1654] Loss: 1.6689\n"
          ]
        },
        {
          "output_type": "stream",
          "name": "stderr",
          "text": [
            " 82%|████████▏ | 1355/1654 [00:39<00:08, 34.73it/s]"
          ]
        },
        {
          "output_type": "stream",
          "name": "stdout",
          "text": [
            "Epoch [3/5] Batch [1349/1654] Loss: 1.6845\n",
            "Epoch [3/5] Batch [1350/1654] Loss: 1.6027\n",
            "Epoch [3/5] Batch [1351/1654] Loss: 1.4827\n",
            "Epoch [3/5] Batch [1352/1654] Loss: 1.3252\n",
            "Epoch [3/5] Batch [1353/1654] Loss: 1.6057\n",
            "Epoch [3/5] Batch [1354/1654] Loss: 1.3380\n",
            "Epoch [3/5] Batch [1355/1654] Loss: 1.4159\n",
            "Epoch [3/5] Batch [1356/1654] Loss: 1.6100\n"
          ]
        },
        {
          "output_type": "stream",
          "name": "stderr",
          "text": [
            " 82%|████████▏ | 1363/1654 [00:39<00:08, 35.03it/s]"
          ]
        },
        {
          "output_type": "stream",
          "name": "stdout",
          "text": [
            "Epoch [3/5] Batch [1357/1654] Loss: 1.8097\n",
            "Epoch [3/5] Batch [1358/1654] Loss: 1.8372\n",
            "Epoch [3/5] Batch [1359/1654] Loss: 1.7357\n",
            "Epoch [3/5] Batch [1360/1654] Loss: 1.5068\n",
            "Epoch [3/5] Batch [1361/1654] Loss: 1.5409\n",
            "Epoch [3/5] Batch [1362/1654] Loss: 1.4709\n",
            "Epoch [3/5] Batch [1363/1654] Loss: 1.6932\n"
          ]
        },
        {
          "output_type": "stream",
          "name": "stderr",
          "text": [
            " 83%|████████▎ | 1371/1654 [00:40<00:08, 34.18it/s]"
          ]
        },
        {
          "output_type": "stream",
          "name": "stdout",
          "text": [
            "Epoch [3/5] Batch [1364/1654] Loss: 1.4800\n",
            "Epoch [3/5] Batch [1365/1654] Loss: 1.5725\n",
            "Epoch [3/5] Batch [1366/1654] Loss: 1.7725\n",
            "Epoch [3/5] Batch [1367/1654] Loss: 1.6182\n",
            "Epoch [3/5] Batch [1368/1654] Loss: 1.5600\n",
            "Epoch [3/5] Batch [1369/1654] Loss: 1.6578\n",
            "Epoch [3/5] Batch [1370/1654] Loss: 1.4776\n",
            "Epoch [3/5] Batch [1371/1654] Loss: 1.2420\n"
          ]
        },
        {
          "output_type": "stream",
          "name": "stderr",
          "text": [
            " 83%|████████▎ | 1379/1654 [00:40<00:07, 34.71it/s]"
          ]
        },
        {
          "output_type": "stream",
          "name": "stdout",
          "text": [
            "Epoch [3/5] Batch [1372/1654] Loss: 1.5134\n",
            "Epoch [3/5] Batch [1373/1654] Loss: 1.6473\n",
            "Epoch [3/5] Batch [1374/1654] Loss: 1.6870\n",
            "Epoch [3/5] Batch [1375/1654] Loss: 1.5361\n",
            "Epoch [3/5] Batch [1376/1654] Loss: 1.3720\n",
            "Epoch [3/5] Batch [1377/1654] Loss: 1.8160\n",
            "Epoch [3/5] Batch [1378/1654] Loss: 1.6881\n",
            "Epoch [3/5] Batch [1379/1654] Loss: 1.4972\n"
          ]
        },
        {
          "output_type": "stream",
          "name": "stderr",
          "text": [
            " 84%|████████▍ | 1387/1654 [00:40<00:07, 35.25it/s]"
          ]
        },
        {
          "output_type": "stream",
          "name": "stdout",
          "text": [
            "Epoch [3/5] Batch [1380/1654] Loss: 1.2071\n",
            "Epoch [3/5] Batch [1381/1654] Loss: 1.5342\n",
            "Epoch [3/5] Batch [1382/1654] Loss: 1.3390\n",
            "Epoch [3/5] Batch [1383/1654] Loss: 1.5558\n",
            "Epoch [3/5] Batch [1384/1654] Loss: 1.3832\n",
            "Epoch [3/5] Batch [1385/1654] Loss: 1.5520\n",
            "Epoch [3/5] Batch [1386/1654] Loss: 1.5924\n",
            "Epoch [3/5] Batch [1387/1654] Loss: 1.8098\n"
          ]
        },
        {
          "output_type": "stream",
          "name": "stderr",
          "text": [
            " 84%|████████▍ | 1395/1654 [00:40<00:07, 35.89it/s]"
          ]
        },
        {
          "output_type": "stream",
          "name": "stdout",
          "text": [
            "Epoch [3/5] Batch [1388/1654] Loss: 1.4117\n",
            "Epoch [3/5] Batch [1389/1654] Loss: 1.8818\n",
            "Epoch [3/5] Batch [1390/1654] Loss: 1.7020\n",
            "Epoch [3/5] Batch [1391/1654] Loss: 1.7252\n",
            "Epoch [3/5] Batch [1392/1654] Loss: 1.6287\n",
            "Epoch [3/5] Batch [1393/1654] Loss: 1.8028\n",
            "Epoch [3/5] Batch [1394/1654] Loss: 1.4177\n",
            "Epoch [3/5] Batch [1395/1654] Loss: 1.2737\n"
          ]
        },
        {
          "output_type": "stream",
          "name": "stderr",
          "text": [
            "\r 85%|████████▍ | 1399/1654 [00:40<00:07, 35.01it/s]"
          ]
        },
        {
          "output_type": "stream",
          "name": "stdout",
          "text": [
            "Epoch [3/5] Batch [1396/1654] Loss: 1.7437\n",
            "Epoch [3/5] Batch [1397/1654] Loss: 1.3635\n",
            "Epoch [3/5] Batch [1398/1654] Loss: 1.5162\n",
            "Epoch [3/5] Batch [1399/1654] Loss: 1.6955\n",
            "Epoch [3/5] Batch [1400/1654] Loss: 1.5865\n",
            "Epoch [3/5] Batch [1401/1654] Loss: 1.6222\n",
            "Epoch [3/5] Batch [1402/1654] Loss: 1.9309\n"
          ]
        },
        {
          "output_type": "stream",
          "name": "stderr",
          "text": [
            " 85%|████████▌ | 1407/1654 [00:41<00:07, 34.62it/s]"
          ]
        },
        {
          "output_type": "stream",
          "name": "stdout",
          "text": [
            "Epoch [3/5] Batch [1403/1654] Loss: 1.8310\n",
            "Epoch [3/5] Batch [1404/1654] Loss: 1.7477\n",
            "Epoch [3/5] Batch [1405/1654] Loss: 1.9595\n",
            "Epoch [3/5] Batch [1406/1654] Loss: 1.7352\n",
            "Epoch [3/5] Batch [1407/1654] Loss: 1.5344\n",
            "Epoch [3/5] Batch [1408/1654] Loss: 1.5462\n",
            "Epoch [3/5] Batch [1409/1654] Loss: 1.7799\n",
            "Epoch [3/5] Batch [1410/1654] Loss: 1.7015\n"
          ]
        },
        {
          "output_type": "stream",
          "name": "stderr",
          "text": [
            " 86%|████████▌ | 1415/1654 [00:41<00:06, 34.94it/s]"
          ]
        },
        {
          "output_type": "stream",
          "name": "stdout",
          "text": [
            "Epoch [3/5] Batch [1411/1654] Loss: 1.4397\n",
            "Epoch [3/5] Batch [1412/1654] Loss: 1.6806\n",
            "Epoch [3/5] Batch [1413/1654] Loss: 1.5894\n",
            "Epoch [3/5] Batch [1414/1654] Loss: 1.6200\n",
            "Epoch [3/5] Batch [1415/1654] Loss: 1.4826\n",
            "Epoch [3/5] Batch [1416/1654] Loss: 1.5257\n",
            "Epoch [3/5] Batch [1417/1654] Loss: 1.6393\n",
            "Epoch [3/5] Batch [1418/1654] Loss: 1.5835\n"
          ]
        },
        {
          "output_type": "stream",
          "name": "stderr",
          "text": [
            " 86%|████████▌ | 1423/1654 [00:41<00:06, 35.49it/s]"
          ]
        },
        {
          "output_type": "stream",
          "name": "stdout",
          "text": [
            "Epoch [3/5] Batch [1419/1654] Loss: 1.7904\n",
            "Epoch [3/5] Batch [1420/1654] Loss: 1.7492\n",
            "Epoch [3/5] Batch [1421/1654] Loss: 1.5573\n",
            "Epoch [3/5] Batch [1422/1654] Loss: 1.4708\n",
            "Epoch [3/5] Batch [1423/1654] Loss: 1.7647\n",
            "Epoch [3/5] Batch [1424/1654] Loss: 1.7045\n",
            "Epoch [3/5] Batch [1425/1654] Loss: 1.4412\n",
            "Epoch [3/5] Batch [1426/1654] Loss: 1.4174\n"
          ]
        },
        {
          "output_type": "stream",
          "name": "stderr",
          "text": [
            " 87%|████████▋ | 1431/1654 [00:41<00:06, 35.45it/s]"
          ]
        },
        {
          "output_type": "stream",
          "name": "stdout",
          "text": [
            "Epoch [3/5] Batch [1427/1654] Loss: 1.9726\n",
            "Epoch [3/5] Batch [1428/1654] Loss: 1.3383\n",
            "Epoch [3/5] Batch [1429/1654] Loss: 1.7988\n",
            "Epoch [3/5] Batch [1430/1654] Loss: 1.4878\n",
            "Epoch [3/5] Batch [1431/1654] Loss: 1.4885\n",
            "Epoch [3/5] Batch [1432/1654] Loss: 1.6144\n",
            "Epoch [3/5] Batch [1433/1654] Loss: 1.3684\n",
            "Epoch [3/5] Batch [1434/1654] Loss: 1.6116\n"
          ]
        },
        {
          "output_type": "stream",
          "name": "stderr",
          "text": [
            " 87%|████████▋ | 1439/1654 [00:41<00:06, 34.63it/s]"
          ]
        },
        {
          "output_type": "stream",
          "name": "stdout",
          "text": [
            "Epoch [3/5] Batch [1435/1654] Loss: 1.4044\n",
            "Epoch [3/5] Batch [1436/1654] Loss: 1.4861\n",
            "Epoch [3/5] Batch [1437/1654] Loss: 1.7058\n",
            "Epoch [3/5] Batch [1438/1654] Loss: 1.3773\n",
            "Epoch [3/5] Batch [1439/1654] Loss: 1.4606\n",
            "Epoch [3/5] Batch [1440/1654] Loss: 1.9132\n",
            "Epoch [3/5] Batch [1441/1654] Loss: 1.6985\n"
          ]
        },
        {
          "output_type": "stream",
          "name": "stderr",
          "text": [
            " 87%|████████▋ | 1447/1654 [00:42<00:05, 34.70it/s]"
          ]
        },
        {
          "output_type": "stream",
          "name": "stdout",
          "text": [
            "Epoch [3/5] Batch [1442/1654] Loss: 1.6603\n",
            "Epoch [3/5] Batch [1443/1654] Loss: 1.8743\n",
            "Epoch [3/5] Batch [1444/1654] Loss: 1.6532\n",
            "Epoch [3/5] Batch [1445/1654] Loss: 1.7343\n",
            "Epoch [3/5] Batch [1446/1654] Loss: 1.3804\n",
            "Epoch [3/5] Batch [1447/1654] Loss: 1.3751\n",
            "Epoch [3/5] Batch [1448/1654] Loss: 1.6315\n"
          ]
        },
        {
          "output_type": "stream",
          "name": "stderr",
          "text": [
            " 88%|████████▊ | 1455/1654 [00:42<00:05, 34.75it/s]"
          ]
        },
        {
          "output_type": "stream",
          "name": "stdout",
          "text": [
            "Epoch [3/5] Batch [1449/1654] Loss: 1.5795\n",
            "Epoch [3/5] Batch [1450/1654] Loss: 1.5325\n",
            "Epoch [3/5] Batch [1451/1654] Loss: 1.6022\n",
            "Epoch [3/5] Batch [1452/1654] Loss: 1.8241\n",
            "Epoch [3/5] Batch [1453/1654] Loss: 1.4847\n",
            "Epoch [3/5] Batch [1454/1654] Loss: 1.5242\n",
            "Epoch [3/5] Batch [1455/1654] Loss: 1.7568\n"
          ]
        },
        {
          "output_type": "stream",
          "name": "stderr",
          "text": [
            " 88%|████████▊ | 1463/1654 [00:42<00:05, 34.70it/s]"
          ]
        },
        {
          "output_type": "stream",
          "name": "stdout",
          "text": [
            "Epoch [3/5] Batch [1456/1654] Loss: 1.1308\n",
            "Epoch [3/5] Batch [1457/1654] Loss: 1.7085\n",
            "Epoch [3/5] Batch [1458/1654] Loss: 1.6021\n",
            "Epoch [3/5] Batch [1459/1654] Loss: 1.3479\n",
            "Epoch [3/5] Batch [1460/1654] Loss: 1.5840\n",
            "Epoch [3/5] Batch [1461/1654] Loss: 1.9076\n",
            "Epoch [3/5] Batch [1462/1654] Loss: 1.3163\n",
            "Epoch [3/5] Batch [1463/1654] Loss: 1.7618\n"
          ]
        },
        {
          "output_type": "stream",
          "name": "stderr",
          "text": [
            " 89%|████████▉ | 1471/1654 [00:42<00:05, 35.35it/s]"
          ]
        },
        {
          "output_type": "stream",
          "name": "stdout",
          "text": [
            "Epoch [3/5] Batch [1464/1654] Loss: 1.6023\n",
            "Epoch [3/5] Batch [1465/1654] Loss: 1.8702\n",
            "Epoch [3/5] Batch [1466/1654] Loss: 1.4491\n",
            "Epoch [3/5] Batch [1467/1654] Loss: 1.3157\n",
            "Epoch [3/5] Batch [1468/1654] Loss: 1.4366\n",
            "Epoch [3/5] Batch [1469/1654] Loss: 1.1967\n",
            "Epoch [3/5] Batch [1470/1654] Loss: 1.6946\n",
            "Epoch [3/5] Batch [1471/1654] Loss: 1.6100\n"
          ]
        },
        {
          "output_type": "stream",
          "name": "stderr",
          "text": [
            "\r 89%|████████▉ | 1475/1654 [00:43<00:05, 34.08it/s]"
          ]
        },
        {
          "output_type": "stream",
          "name": "stdout",
          "text": [
            "Epoch [3/5] Batch [1472/1654] Loss: 1.2453\n",
            "Epoch [3/5] Batch [1473/1654] Loss: 1.5640\n",
            "Epoch [3/5] Batch [1474/1654] Loss: 1.8699\n",
            "Epoch [3/5] Batch [1475/1654] Loss: 1.8612\n",
            "Epoch [3/5] Batch [1476/1654] Loss: 1.4907\n",
            "Epoch [3/5] Batch [1477/1654] Loss: 1.4814\n",
            "Epoch [3/5] Batch [1478/1654] Loss: 1.7738\n"
          ]
        },
        {
          "output_type": "stream",
          "name": "stderr",
          "text": [
            " 90%|████████▉ | 1483/1654 [00:43<00:04, 34.23it/s]"
          ]
        },
        {
          "output_type": "stream",
          "name": "stdout",
          "text": [
            "Epoch [3/5] Batch [1479/1654] Loss: 1.5198\n",
            "Epoch [3/5] Batch [1480/1654] Loss: 1.4752\n",
            "Epoch [3/5] Batch [1481/1654] Loss: 1.4976\n",
            "Epoch [3/5] Batch [1482/1654] Loss: 1.6207\n",
            "Epoch [3/5] Batch [1483/1654] Loss: 1.2986\n",
            "Epoch [3/5] Batch [1484/1654] Loss: 1.4284\n",
            "Epoch [3/5] Batch [1485/1654] Loss: 1.4690\n"
          ]
        },
        {
          "output_type": "stream",
          "name": "stderr",
          "text": [
            " 90%|█████████ | 1491/1654 [00:43<00:04, 34.40it/s]"
          ]
        },
        {
          "output_type": "stream",
          "name": "stdout",
          "text": [
            "Epoch [3/5] Batch [1486/1654] Loss: 1.8067\n",
            "Epoch [3/5] Batch [1487/1654] Loss: 1.7654\n",
            "Epoch [3/5] Batch [1488/1654] Loss: 1.3732\n",
            "Epoch [3/5] Batch [1489/1654] Loss: 1.7396\n",
            "Epoch [3/5] Batch [1490/1654] Loss: 1.5776\n",
            "Epoch [3/5] Batch [1491/1654] Loss: 1.2043\n",
            "Epoch [3/5] Batch [1492/1654] Loss: 1.5216\n"
          ]
        },
        {
          "output_type": "stream",
          "name": "stderr",
          "text": [
            " 91%|█████████ | 1499/1654 [00:43<00:04, 34.44it/s]"
          ]
        },
        {
          "output_type": "stream",
          "name": "stdout",
          "text": [
            "Epoch [3/5] Batch [1493/1654] Loss: 1.6947\n",
            "Epoch [3/5] Batch [1494/1654] Loss: 1.8011\n",
            "Epoch [3/5] Batch [1495/1654] Loss: 1.7606\n",
            "Epoch [3/5] Batch [1496/1654] Loss: 1.4867\n",
            "Epoch [3/5] Batch [1497/1654] Loss: 1.4510\n",
            "Epoch [3/5] Batch [1498/1654] Loss: 1.8651\n",
            "Epoch [3/5] Batch [1499/1654] Loss: 1.7265\n"
          ]
        },
        {
          "output_type": "stream",
          "name": "stderr",
          "text": [
            " 91%|█████████ | 1507/1654 [00:43<00:04, 35.13it/s]"
          ]
        },
        {
          "output_type": "stream",
          "name": "stdout",
          "text": [
            "Epoch [3/5] Batch [1500/1654] Loss: 1.3892\n",
            "Epoch [3/5] Batch [1501/1654] Loss: 1.8425\n",
            "Epoch [3/5] Batch [1502/1654] Loss: 1.4450\n",
            "Epoch [3/5] Batch [1503/1654] Loss: 1.8193\n",
            "Epoch [3/5] Batch [1504/1654] Loss: 1.6367\n",
            "Epoch [3/5] Batch [1505/1654] Loss: 1.9186\n",
            "Epoch [3/5] Batch [1506/1654] Loss: 1.6702\n",
            "Epoch [3/5] Batch [1507/1654] Loss: 1.8436\n"
          ]
        },
        {
          "output_type": "stream",
          "name": "stderr",
          "text": [
            " 92%|█████████▏| 1515/1654 [00:44<00:04, 34.61it/s]"
          ]
        },
        {
          "output_type": "stream",
          "name": "stdout",
          "text": [
            "Epoch [3/5] Batch [1508/1654] Loss: 1.4595\n",
            "Epoch [3/5] Batch [1509/1654] Loss: 1.9455\n",
            "Epoch [3/5] Batch [1510/1654] Loss: 1.3356\n",
            "Epoch [3/5] Batch [1511/1654] Loss: 1.8141\n",
            "Epoch [3/5] Batch [1512/1654] Loss: 1.5602\n",
            "Epoch [3/5] Batch [1513/1654] Loss: 1.2769\n",
            "Epoch [3/5] Batch [1514/1654] Loss: 1.6936\n",
            "Epoch [3/5] Batch [1515/1654] Loss: 1.7075\n"
          ]
        },
        {
          "output_type": "stream",
          "name": "stderr",
          "text": [
            " 92%|█████████▏| 1523/1654 [00:44<00:03, 34.56it/s]"
          ]
        },
        {
          "output_type": "stream",
          "name": "stdout",
          "text": [
            "Epoch [3/5] Batch [1516/1654] Loss: 1.5805\n",
            "Epoch [3/5] Batch [1517/1654] Loss: 1.5778\n",
            "Epoch [3/5] Batch [1518/1654] Loss: 1.6164\n",
            "Epoch [3/5] Batch [1519/1654] Loss: 1.5949\n",
            "Epoch [3/5] Batch [1520/1654] Loss: 1.5519\n",
            "Epoch [3/5] Batch [1521/1654] Loss: 1.4833\n",
            "Epoch [3/5] Batch [1522/1654] Loss: 1.5817\n",
            "Epoch [3/5] Batch [1523/1654] Loss: 1.7473\n"
          ]
        },
        {
          "output_type": "stream",
          "name": "stderr",
          "text": [
            " 93%|█████████▎| 1531/1654 [00:44<00:03, 34.74it/s]"
          ]
        },
        {
          "output_type": "stream",
          "name": "stdout",
          "text": [
            "Epoch [3/5] Batch [1524/1654] Loss: 1.6769\n",
            "Epoch [3/5] Batch [1525/1654] Loss: 1.4594\n",
            "Epoch [3/5] Batch [1526/1654] Loss: 1.7851\n",
            "Epoch [3/5] Batch [1527/1654] Loss: 1.5354\n",
            "Epoch [3/5] Batch [1528/1654] Loss: 1.6807\n",
            "Epoch [3/5] Batch [1529/1654] Loss: 1.4674\n",
            "Epoch [3/5] Batch [1530/1654] Loss: 1.6867\n",
            "Epoch [3/5] Batch [1531/1654] Loss: 1.8685\n"
          ]
        },
        {
          "output_type": "stream",
          "name": "stderr",
          "text": [
            " 93%|█████████▎| 1539/1654 [00:44<00:03, 35.04it/s]"
          ]
        },
        {
          "output_type": "stream",
          "name": "stdout",
          "text": [
            "Epoch [3/5] Batch [1532/1654] Loss: 1.2717\n",
            "Epoch [3/5] Batch [1533/1654] Loss: 1.4215\n",
            "Epoch [3/5] Batch [1534/1654] Loss: 1.4180\n",
            "Epoch [3/5] Batch [1535/1654] Loss: 1.8189\n",
            "Epoch [3/5] Batch [1536/1654] Loss: 1.2314\n",
            "Epoch [3/5] Batch [1537/1654] Loss: 1.6893\n",
            "Epoch [3/5] Batch [1538/1654] Loss: 1.4477\n",
            "Epoch [3/5] Batch [1539/1654] Loss: 1.4458\n"
          ]
        },
        {
          "output_type": "stream",
          "name": "stderr",
          "text": [
            " 94%|█████████▎| 1547/1654 [00:45<00:03, 34.77it/s]"
          ]
        },
        {
          "output_type": "stream",
          "name": "stdout",
          "text": [
            "Epoch [3/5] Batch [1540/1654] Loss: 1.6715\n",
            "Epoch [3/5] Batch [1541/1654] Loss: 1.7755\n",
            "Epoch [3/5] Batch [1542/1654] Loss: 1.6386\n",
            "Epoch [3/5] Batch [1543/1654] Loss: 1.3004\n",
            "Epoch [3/5] Batch [1544/1654] Loss: 1.7065\n",
            "Epoch [3/5] Batch [1545/1654] Loss: 1.5551\n",
            "Epoch [3/5] Batch [1546/1654] Loss: 1.6178\n",
            "Epoch [3/5] Batch [1547/1654] Loss: 1.7450\n"
          ]
        },
        {
          "output_type": "stream",
          "name": "stderr",
          "text": [
            " 94%|█████████▍| 1555/1654 [00:45<00:02, 35.58it/s]"
          ]
        },
        {
          "output_type": "stream",
          "name": "stdout",
          "text": [
            "Epoch [3/5] Batch [1548/1654] Loss: 1.5986\n",
            "Epoch [3/5] Batch [1549/1654] Loss: 1.4789\n",
            "Epoch [3/5] Batch [1550/1654] Loss: 1.6507\n",
            "Epoch [3/5] Batch [1551/1654] Loss: 1.2437\n",
            "Epoch [3/5] Batch [1552/1654] Loss: 1.5079\n",
            "Epoch [3/5] Batch [1553/1654] Loss: 1.6114\n",
            "Epoch [3/5] Batch [1554/1654] Loss: 1.7610\n",
            "Epoch [3/5] Batch [1555/1654] Loss: 1.6286\n"
          ]
        },
        {
          "output_type": "stream",
          "name": "stderr",
          "text": [
            " 94%|█████████▍| 1563/1654 [00:45<00:02, 35.73it/s]"
          ]
        },
        {
          "output_type": "stream",
          "name": "stdout",
          "text": [
            "Epoch [3/5] Batch [1556/1654] Loss: 1.5984\n",
            "Epoch [3/5] Batch [1557/1654] Loss: 1.3877\n",
            "Epoch [3/5] Batch [1558/1654] Loss: 1.6234\n",
            "Epoch [3/5] Batch [1559/1654] Loss: 1.4931\n",
            "Epoch [3/5] Batch [1560/1654] Loss: 1.6085\n",
            "Epoch [3/5] Batch [1561/1654] Loss: 1.4170\n",
            "Epoch [3/5] Batch [1562/1654] Loss: 1.1724\n",
            "Epoch [3/5] Batch [1563/1654] Loss: 1.4814\n"
          ]
        },
        {
          "output_type": "stream",
          "name": "stderr",
          "text": [
            " 95%|█████████▍| 1571/1654 [00:45<00:02, 35.64it/s]"
          ]
        },
        {
          "output_type": "stream",
          "name": "stdout",
          "text": [
            "Epoch [3/5] Batch [1564/1654] Loss: 1.8206\n",
            "Epoch [3/5] Batch [1565/1654] Loss: 1.5717\n",
            "Epoch [3/5] Batch [1566/1654] Loss: 1.7313\n",
            "Epoch [3/5] Batch [1567/1654] Loss: 1.9034\n",
            "Epoch [3/5] Batch [1568/1654] Loss: 1.4389\n",
            "Epoch [3/5] Batch [1569/1654] Loss: 1.4229\n",
            "Epoch [3/5] Batch [1570/1654] Loss: 1.2916\n",
            "Epoch [3/5] Batch [1571/1654] Loss: 1.3924\n"
          ]
        },
        {
          "output_type": "stream",
          "name": "stderr",
          "text": [
            " 95%|█████████▌| 1579/1654 [00:45<00:02, 35.89it/s]"
          ]
        },
        {
          "output_type": "stream",
          "name": "stdout",
          "text": [
            "Epoch [3/5] Batch [1572/1654] Loss: 1.3023\n",
            "Epoch [3/5] Batch [1573/1654] Loss: 1.4089\n",
            "Epoch [3/5] Batch [1574/1654] Loss: 1.4970\n",
            "Epoch [3/5] Batch [1575/1654] Loss: 1.4617\n",
            "Epoch [3/5] Batch [1576/1654] Loss: 1.5632\n",
            "Epoch [3/5] Batch [1577/1654] Loss: 1.5580\n",
            "Epoch [3/5] Batch [1578/1654] Loss: 1.3593\n",
            "Epoch [3/5] Batch [1579/1654] Loss: 1.4834\n"
          ]
        },
        {
          "output_type": "stream",
          "name": "stderr",
          "text": [
            " 96%|█████████▌| 1587/1654 [00:46<00:01, 35.43it/s]"
          ]
        },
        {
          "output_type": "stream",
          "name": "stdout",
          "text": [
            "Epoch [3/5] Batch [1580/1654] Loss: 1.7712\n",
            "Epoch [3/5] Batch [1581/1654] Loss: 1.5635\n",
            "Epoch [3/5] Batch [1582/1654] Loss: 1.6686\n",
            "Epoch [3/5] Batch [1583/1654] Loss: 1.6049\n",
            "Epoch [3/5] Batch [1584/1654] Loss: 1.7542\n",
            "Epoch [3/5] Batch [1585/1654] Loss: 1.2844\n",
            "Epoch [3/5] Batch [1586/1654] Loss: 1.7550\n",
            "Epoch [3/5] Batch [1587/1654] Loss: 1.4828\n"
          ]
        },
        {
          "output_type": "stream",
          "name": "stderr",
          "text": [
            " 96%|█████████▋| 1595/1654 [00:46<00:01, 35.37it/s]"
          ]
        },
        {
          "output_type": "stream",
          "name": "stdout",
          "text": [
            "Epoch [3/5] Batch [1588/1654] Loss: 1.6472\n",
            "Epoch [3/5] Batch [1589/1654] Loss: 1.5427\n",
            "Epoch [3/5] Batch [1590/1654] Loss: 2.1938\n",
            "Epoch [3/5] Batch [1591/1654] Loss: 1.7892\n",
            "Epoch [3/5] Batch [1592/1654] Loss: 1.7078\n",
            "Epoch [3/5] Batch [1593/1654] Loss: 1.7017\n",
            "Epoch [3/5] Batch [1594/1654] Loss: 1.7934\n",
            "Epoch [3/5] Batch [1595/1654] Loss: 1.1973\n"
          ]
        },
        {
          "output_type": "stream",
          "name": "stderr",
          "text": [
            " 97%|█████████▋| 1603/1654 [00:46<00:01, 35.81it/s]"
          ]
        },
        {
          "output_type": "stream",
          "name": "stdout",
          "text": [
            "Epoch [3/5] Batch [1596/1654] Loss: 1.6173\n",
            "Epoch [3/5] Batch [1597/1654] Loss: 1.5244\n",
            "Epoch [3/5] Batch [1598/1654] Loss: 1.8302\n",
            "Epoch [3/5] Batch [1599/1654] Loss: 1.4114\n",
            "Epoch [3/5] Batch [1600/1654] Loss: 1.5958\n",
            "Epoch [3/5] Batch [1601/1654] Loss: 1.6821\n",
            "Epoch [3/5] Batch [1602/1654] Loss: 1.5800\n",
            "Epoch [3/5] Batch [1603/1654] Loss: 1.8710\n"
          ]
        },
        {
          "output_type": "stream",
          "name": "stderr",
          "text": [
            " 97%|█████████▋| 1611/1654 [00:46<00:01, 36.16it/s]"
          ]
        },
        {
          "output_type": "stream",
          "name": "stdout",
          "text": [
            "Epoch [3/5] Batch [1604/1654] Loss: 1.5652\n",
            "Epoch [3/5] Batch [1605/1654] Loss: 1.7942\n",
            "Epoch [3/5] Batch [1606/1654] Loss: 1.7650\n",
            "Epoch [3/5] Batch [1607/1654] Loss: 1.4397\n",
            "Epoch [3/5] Batch [1608/1654] Loss: 1.6805\n",
            "Epoch [3/5] Batch [1609/1654] Loss: 1.5031\n",
            "Epoch [3/5] Batch [1610/1654] Loss: 1.3785\n",
            "Epoch [3/5] Batch [1611/1654] Loss: 1.5669\n"
          ]
        },
        {
          "output_type": "stream",
          "name": "stderr",
          "text": [
            " 98%|█████████▊| 1619/1654 [00:47<00:00, 35.20it/s]"
          ]
        },
        {
          "output_type": "stream",
          "name": "stdout",
          "text": [
            "Epoch [3/5] Batch [1612/1654] Loss: 1.7742\n",
            "Epoch [3/5] Batch [1613/1654] Loss: 1.7289\n",
            "Epoch [3/5] Batch [1614/1654] Loss: 1.5988\n",
            "Epoch [3/5] Batch [1615/1654] Loss: 1.4079\n",
            "Epoch [3/5] Batch [1616/1654] Loss: 1.2299\n",
            "Epoch [3/5] Batch [1617/1654] Loss: 1.4527\n",
            "Epoch [3/5] Batch [1618/1654] Loss: 1.7879\n",
            "Epoch [3/5] Batch [1619/1654] Loss: 1.5768\n"
          ]
        },
        {
          "output_type": "stream",
          "name": "stderr",
          "text": [
            " 98%|█████████▊| 1627/1654 [00:47<00:00, 35.58it/s]"
          ]
        },
        {
          "output_type": "stream",
          "name": "stdout",
          "text": [
            "Epoch [3/5] Batch [1620/1654] Loss: 1.7229\n",
            "Epoch [3/5] Batch [1621/1654] Loss: 1.6218\n",
            "Epoch [3/5] Batch [1622/1654] Loss: 1.5314\n",
            "Epoch [3/5] Batch [1623/1654] Loss: 1.5983\n",
            "Epoch [3/5] Batch [1624/1654] Loss: 1.5123\n",
            "Epoch [3/5] Batch [1625/1654] Loss: 1.7404\n",
            "Epoch [3/5] Batch [1626/1654] Loss: 1.6625\n",
            "Epoch [3/5] Batch [1627/1654] Loss: 1.6441\n"
          ]
        },
        {
          "output_type": "stream",
          "name": "stderr",
          "text": [
            " 99%|█████████▉| 1635/1654 [00:47<00:00, 35.82it/s]"
          ]
        },
        {
          "output_type": "stream",
          "name": "stdout",
          "text": [
            "Epoch [3/5] Batch [1628/1654] Loss: 1.4036\n",
            "Epoch [3/5] Batch [1629/1654] Loss: 1.7022\n",
            "Epoch [3/5] Batch [1630/1654] Loss: 1.4742\n",
            "Epoch [3/5] Batch [1631/1654] Loss: 1.6364\n",
            "Epoch [3/5] Batch [1632/1654] Loss: 1.2791\n",
            "Epoch [3/5] Batch [1633/1654] Loss: 1.5903\n",
            "Epoch [3/5] Batch [1634/1654] Loss: 1.4099\n",
            "Epoch [3/5] Batch [1635/1654] Loss: 1.8236\n"
          ]
        },
        {
          "output_type": "stream",
          "name": "stderr",
          "text": [
            " 99%|█████████▉| 1643/1654 [00:47<00:00, 36.06it/s]"
          ]
        },
        {
          "output_type": "stream",
          "name": "stdout",
          "text": [
            "Epoch [3/5] Batch [1636/1654] Loss: 1.8259\n",
            "Epoch [3/5] Batch [1637/1654] Loss: 2.0284\n",
            "Epoch [3/5] Batch [1638/1654] Loss: 1.8005\n",
            "Epoch [3/5] Batch [1639/1654] Loss: 1.8731\n",
            "Epoch [3/5] Batch [1640/1654] Loss: 1.3944\n",
            "Epoch [3/5] Batch [1641/1654] Loss: 1.5629\n",
            "Epoch [3/5] Batch [1642/1654] Loss: 1.2000\n",
            "Epoch [3/5] Batch [1643/1654] Loss: 1.4478\n"
          ]
        },
        {
          "output_type": "stream",
          "name": "stderr",
          "text": [
            "\r100%|█████████▉| 1647/1654 [00:47<00:00, 35.91it/s]"
          ]
        },
        {
          "output_type": "stream",
          "name": "stdout",
          "text": [
            "Epoch [3/5] Batch [1644/1654] Loss: 1.7998\n",
            "Epoch [3/5] Batch [1645/1654] Loss: 1.7156\n",
            "Epoch [3/5] Batch [1646/1654] Loss: 1.5555\n",
            "Epoch [3/5] Batch [1647/1654] Loss: 1.5518\n",
            "Epoch [3/5] Batch [1648/1654] Loss: 1.7305\n",
            "Epoch [3/5] Batch [1649/1654] Loss: 1.8205\n",
            "Epoch [3/5] Batch [1650/1654] Loss: 1.6415\n"
          ]
        },
        {
          "output_type": "stream",
          "name": "stderr",
          "text": [
            "100%|██████████| 1654/1654 [00:48<00:00, 34.34it/s]\n"
          ]
        },
        {
          "output_type": "stream",
          "name": "stdout",
          "text": [
            "Epoch [3/5] Batch [1651/1654] Loss: 1.5951\n",
            "Epoch [3/5] Batch [1652/1654] Loss: 1.7932\n",
            "Epoch [3/5] Batch [1653/1654] Loss: 1.8598\n",
            "Epoch [3/5] Batch [1654/1654] Loss: 1.7474\n",
            "\n",
            ">> Epoch 3 Average Loss: 1.6517\n",
            "\n"
          ]
        },
        {
          "output_type": "stream",
          "name": "stderr",
          "text": [
            "\r  0%|          | 0/1654 [00:00<?, ?it/s]"
          ]
        },
        {
          "output_type": "stream",
          "name": "stdout",
          "text": [
            "Epoch [4/5] Batch [1/1654] Loss: 1.7139\n",
            "Epoch [4/5] Batch [2/1654] Loss: 1.4946\n"
          ]
        },
        {
          "output_type": "stream",
          "name": "stderr",
          "text": [
            "  0%|          | 6/1654 [00:00<01:01, 26.83it/s]"
          ]
        },
        {
          "output_type": "stream",
          "name": "stdout",
          "text": [
            "Epoch [4/5] Batch [3/1654] Loss: 1.3189\n",
            "Epoch [4/5] Batch [4/1654] Loss: 1.3187\n",
            "Epoch [4/5] Batch [5/1654] Loss: 1.3758\n",
            "Epoch [4/5] Batch [6/1654] Loss: 1.6884\n",
            "Epoch [4/5] Batch [7/1654] Loss: 1.5570\n",
            "Epoch [4/5] Batch [8/1654] Loss: 1.5288\n"
          ]
        },
        {
          "output_type": "stream",
          "name": "stderr",
          "text": [
            "  1%|          | 12/1654 [00:00<00:59, 27.64it/s]"
          ]
        },
        {
          "output_type": "stream",
          "name": "stdout",
          "text": [
            "Epoch [4/5] Batch [9/1654] Loss: 1.4736\n",
            "Epoch [4/5] Batch [10/1654] Loss: 1.8334\n",
            "Epoch [4/5] Batch [11/1654] Loss: 1.3926\n",
            "Epoch [4/5] Batch [12/1654] Loss: 1.4398\n",
            "Epoch [4/5] Batch [13/1654] Loss: 1.4637\n",
            "Epoch [4/5] Batch [14/1654] Loss: 1.4896\n"
          ]
        },
        {
          "output_type": "stream",
          "name": "stderr",
          "text": [
            "\r  1%|          | 16/1654 [00:00<00:56, 29.13it/s]"
          ]
        },
        {
          "output_type": "stream",
          "name": "stdout",
          "text": [
            "Epoch [4/5] Batch [15/1654] Loss: 1.1998\n",
            "Epoch [4/5] Batch [16/1654] Loss: 1.5122\n",
            "Epoch [4/5] Batch [17/1654] Loss: 1.4478\n",
            "Epoch [4/5] Batch [18/1654] Loss: 1.4924\n",
            "Epoch [4/5] Batch [19/1654] Loss: 1.2687\n"
          ]
        },
        {
          "output_type": "stream",
          "name": "stderr",
          "text": [
            "\r  1%|          | 20/1654 [00:00<00:54, 29.91it/s]"
          ]
        },
        {
          "output_type": "stream",
          "name": "stdout",
          "text": [
            "Epoch [4/5] Batch [20/1654] Loss: 1.6574\n",
            "Epoch [4/5] Batch [21/1654] Loss: 1.5777\n"
          ]
        },
        {
          "output_type": "stream",
          "name": "stderr",
          "text": [
            "\r  1%|▏         | 24/1654 [00:00<00:52, 30.84it/s]"
          ]
        },
        {
          "output_type": "stream",
          "name": "stdout",
          "text": [
            "Epoch [4/5] Batch [22/1654] Loss: 1.5266\n",
            "Epoch [4/5] Batch [23/1654] Loss: 1.4362\n",
            "Epoch [4/5] Batch [24/1654] Loss: 1.4824\n",
            "Epoch [4/5] Batch [25/1654] Loss: 1.3653\n",
            "Epoch [4/5] Batch [26/1654] Loss: 1.6295\n"
          ]
        },
        {
          "output_type": "stream",
          "name": "stderr",
          "text": [
            "\r  2%|▏         | 28/1654 [00:00<00:52, 31.14it/s]"
          ]
        },
        {
          "output_type": "stream",
          "name": "stdout",
          "text": [
            "Epoch [4/5] Batch [27/1654] Loss: 1.2692\n",
            "Epoch [4/5] Batch [28/1654] Loss: 1.5779\n"
          ]
        },
        {
          "output_type": "stream",
          "name": "stderr",
          "text": [
            "\r  2%|▏         | 32/1654 [00:01<00:54, 29.97it/s]"
          ]
        },
        {
          "output_type": "stream",
          "name": "stdout",
          "text": [
            "Epoch [4/5] Batch [29/1654] Loss: 1.5695\n",
            "Epoch [4/5] Batch [30/1654] Loss: 1.5251\n",
            "Epoch [4/5] Batch [31/1654] Loss: 1.3483\n",
            "Epoch [4/5] Batch [32/1654] Loss: 1.3555\n",
            "Epoch [4/5] Batch [33/1654] Loss: 1.4799\n",
            "Epoch [4/5] Batch [34/1654] Loss: 1.6294\n",
            "Epoch [4/5] Batch [35/1654] Loss: 1.7211\n"
          ]
        },
        {
          "output_type": "stream",
          "name": "stderr",
          "text": [
            "\r  2%|▏         | 36/1654 [00:01<00:53, 30.26it/s]"
          ]
        },
        {
          "output_type": "stream",
          "name": "stdout",
          "text": [
            "Epoch [4/5] Batch [36/1654] Loss: 1.4026\n",
            "Epoch [4/5] Batch [37/1654] Loss: 1.4063\n",
            "Epoch [4/5] Batch [38/1654] Loss: 1.4373\n",
            "Epoch [4/5] Batch [39/1654] Loss: 1.6698\n"
          ]
        },
        {
          "output_type": "stream",
          "name": "stderr",
          "text": [
            "\r  2%|▏         | 40/1654 [00:01<00:52, 30.75it/s]"
          ]
        },
        {
          "output_type": "stream",
          "name": "stdout",
          "text": [
            "Epoch [4/5] Batch [40/1654] Loss: 1.5691\n",
            "Epoch [4/5] Batch [41/1654] Loss: 1.3694\n",
            "Epoch [4/5] Batch [42/1654] Loss: 1.4358\n"
          ]
        },
        {
          "output_type": "stream",
          "name": "stderr",
          "text": [
            "\r  3%|▎         | 44/1654 [00:01<00:51, 31.27it/s]"
          ]
        },
        {
          "output_type": "stream",
          "name": "stdout",
          "text": [
            "Epoch [4/5] Batch [43/1654] Loss: 1.0742\n",
            "Epoch [4/5] Batch [44/1654] Loss: 1.9352\n",
            "Epoch [4/5] Batch [45/1654] Loss: 1.6565\n",
            "Epoch [4/5] Batch [46/1654] Loss: 1.3933\n"
          ]
        },
        {
          "output_type": "stream",
          "name": "stderr",
          "text": [
            "\r  3%|▎         | 48/1654 [00:01<00:54, 29.28it/s]"
          ]
        },
        {
          "output_type": "stream",
          "name": "stdout",
          "text": [
            "Epoch [4/5] Batch [47/1654] Loss: 1.5758\n",
            "Epoch [4/5] Batch [48/1654] Loss: 1.6439\n"
          ]
        },
        {
          "output_type": "stream",
          "name": "stderr",
          "text": [
            "\r  3%|▎         | 51/1654 [00:01<00:55, 28.97it/s]"
          ]
        },
        {
          "output_type": "stream",
          "name": "stdout",
          "text": [
            "Epoch [4/5] Batch [49/1654] Loss: 1.2619\n",
            "Epoch [4/5] Batch [50/1654] Loss: 1.2762\n",
            "Epoch [4/5] Batch [51/1654] Loss: 1.4833\n",
            "Epoch [4/5] Batch [52/1654] Loss: 1.4200\n"
          ]
        },
        {
          "output_type": "stream",
          "name": "stderr",
          "text": [
            "\r  3%|▎         | 54/1654 [00:01<00:55, 29.00it/s]"
          ]
        },
        {
          "output_type": "stream",
          "name": "stdout",
          "text": [
            "Epoch [4/5] Batch [53/1654] Loss: 1.3501\n",
            "Epoch [4/5] Batch [54/1654] Loss: 1.5564\n"
          ]
        },
        {
          "output_type": "stream",
          "name": "stderr",
          "text": [
            "\r  3%|▎         | 57/1654 [00:01<00:56, 28.19it/s]"
          ]
        },
        {
          "output_type": "stream",
          "name": "stdout",
          "text": [
            "Epoch [4/5] Batch [55/1654] Loss: 1.8439\n",
            "Epoch [4/5] Batch [56/1654] Loss: 1.5287\n",
            "Epoch [4/5] Batch [57/1654] Loss: 1.4838\n",
            "Epoch [4/5] Batch [58/1654] Loss: 1.4810\n"
          ]
        },
        {
          "output_type": "stream",
          "name": "stderr",
          "text": [
            "\r  4%|▎         | 60/1654 [00:02<00:57, 27.73it/s]"
          ]
        },
        {
          "output_type": "stream",
          "name": "stdout",
          "text": [
            "Epoch [4/5] Batch [59/1654] Loss: 1.5628\n",
            "Epoch [4/5] Batch [60/1654] Loss: 1.5603\n"
          ]
        },
        {
          "output_type": "stream",
          "name": "stderr",
          "text": [
            "\r  4%|▍         | 63/1654 [00:02<00:59, 26.58it/s]"
          ]
        },
        {
          "output_type": "stream",
          "name": "stdout",
          "text": [
            "Epoch [4/5] Batch [61/1654] Loss: 1.6647\n",
            "Epoch [4/5] Batch [62/1654] Loss: 1.4841\n",
            "Epoch [4/5] Batch [63/1654] Loss: 1.5993\n",
            "Epoch [4/5] Batch [64/1654] Loss: 1.4971\n"
          ]
        },
        {
          "output_type": "stream",
          "name": "stderr",
          "text": [
            "\r  4%|▍         | 66/1654 [00:02<00:59, 26.51it/s]"
          ]
        },
        {
          "output_type": "stream",
          "name": "stdout",
          "text": [
            "Epoch [4/5] Batch [65/1654] Loss: 1.4413\n",
            "Epoch [4/5] Batch [66/1654] Loss: 1.2599\n"
          ]
        },
        {
          "output_type": "stream",
          "name": "stderr",
          "text": [
            "\r  4%|▍         | 70/1654 [00:02<00:55, 28.78it/s]"
          ]
        },
        {
          "output_type": "stream",
          "name": "stdout",
          "text": [
            "Epoch [4/5] Batch [67/1654] Loss: 1.5209\n",
            "Epoch [4/5] Batch [68/1654] Loss: 1.4624\n",
            "Epoch [4/5] Batch [69/1654] Loss: 1.6325\n",
            "Epoch [4/5] Batch [70/1654] Loss: 1.1871\n",
            "Epoch [4/5] Batch [71/1654] Loss: 1.7886\n"
          ]
        },
        {
          "output_type": "stream",
          "name": "stderr",
          "text": [
            "\r  4%|▍         | 74/1654 [00:02<00:51, 30.54it/s]"
          ]
        },
        {
          "output_type": "stream",
          "name": "stdout",
          "text": [
            "Epoch [4/5] Batch [72/1654] Loss: 1.4321\n",
            "Epoch [4/5] Batch [73/1654] Loss: 1.5752\n",
            "Epoch [4/5] Batch [74/1654] Loss: 1.4052\n"
          ]
        },
        {
          "output_type": "stream",
          "name": "stderr",
          "text": [
            "\r  5%|▍         | 78/1654 [00:02<00:49, 31.70it/s]"
          ]
        },
        {
          "output_type": "stream",
          "name": "stdout",
          "text": [
            "Epoch [4/5] Batch [75/1654] Loss: 1.2237\n",
            "Epoch [4/5] Batch [76/1654] Loss: 1.5546\n",
            "Epoch [4/5] Batch [77/1654] Loss: 1.3187\n",
            "Epoch [4/5] Batch [78/1654] Loss: 1.6158\n"
          ]
        },
        {
          "output_type": "stream",
          "name": "stderr",
          "text": [
            "\r  5%|▍         | 82/1654 [00:02<00:48, 32.68it/s]"
          ]
        },
        {
          "output_type": "stream",
          "name": "stdout",
          "text": [
            "Epoch [4/5] Batch [79/1654] Loss: 1.5800\n",
            "Epoch [4/5] Batch [80/1654] Loss: 1.1437\n",
            "Epoch [4/5] Batch [81/1654] Loss: 1.8538\n",
            "Epoch [4/5] Batch [82/1654] Loss: 1.4469\n"
          ]
        },
        {
          "output_type": "stream",
          "name": "stderr",
          "text": [
            "\r  5%|▌         | 86/1654 [00:02<00:46, 33.61it/s]"
          ]
        },
        {
          "output_type": "stream",
          "name": "stdout",
          "text": [
            "Epoch [4/5] Batch [83/1654] Loss: 1.2725\n",
            "Epoch [4/5] Batch [84/1654] Loss: 1.4876\n",
            "Epoch [4/5] Batch [85/1654] Loss: 1.6343\n",
            "Epoch [4/5] Batch [86/1654] Loss: 1.4089\n"
          ]
        },
        {
          "output_type": "stream",
          "name": "stderr",
          "text": [
            "\r  5%|▌         | 90/1654 [00:02<00:45, 34.47it/s]"
          ]
        },
        {
          "output_type": "stream",
          "name": "stdout",
          "text": [
            "Epoch [4/5] Batch [87/1654] Loss: 1.3570\n",
            "Epoch [4/5] Batch [88/1654] Loss: 1.7335\n",
            "Epoch [4/5] Batch [89/1654] Loss: 1.5883\n",
            "Epoch [4/5] Batch [90/1654] Loss: 1.4837\n"
          ]
        },
        {
          "output_type": "stream",
          "name": "stderr",
          "text": [
            "\r  6%|▌         | 94/1654 [00:03<00:45, 34.66it/s]"
          ]
        },
        {
          "output_type": "stream",
          "name": "stdout",
          "text": [
            "Epoch [4/5] Batch [91/1654] Loss: 1.3973\n",
            "Epoch [4/5] Batch [92/1654] Loss: 1.6208\n",
            "Epoch [4/5] Batch [93/1654] Loss: 1.2701\n",
            "Epoch [4/5] Batch [94/1654] Loss: 1.4391\n"
          ]
        },
        {
          "output_type": "stream",
          "name": "stderr",
          "text": [
            "\r  6%|▌         | 98/1654 [00:03<00:45, 34.14it/s]"
          ]
        },
        {
          "output_type": "stream",
          "name": "stdout",
          "text": [
            "Epoch [4/5] Batch [95/1654] Loss: 1.5560\n",
            "Epoch [4/5] Batch [96/1654] Loss: 1.3209\n",
            "Epoch [4/5] Batch [97/1654] Loss: 1.5391\n",
            "Epoch [4/5] Batch [98/1654] Loss: 1.5537\n"
          ]
        },
        {
          "output_type": "stream",
          "name": "stderr",
          "text": [
            "\r  6%|▌         | 102/1654 [00:03<00:44, 34.71it/s]"
          ]
        },
        {
          "output_type": "stream",
          "name": "stdout",
          "text": [
            "Epoch [4/5] Batch [99/1654] Loss: 1.3823\n",
            "Epoch [4/5] Batch [100/1654] Loss: 1.3646\n",
            "Epoch [4/5] Batch [101/1654] Loss: 1.4466\n",
            "Epoch [4/5] Batch [102/1654] Loss: 1.6236\n"
          ]
        },
        {
          "output_type": "stream",
          "name": "stderr",
          "text": [
            "\r  6%|▋         | 106/1654 [00:03<00:44, 34.70it/s]"
          ]
        },
        {
          "output_type": "stream",
          "name": "stdout",
          "text": [
            "Epoch [4/5] Batch [103/1654] Loss: 1.4919\n",
            "Epoch [4/5] Batch [104/1654] Loss: 1.3129\n",
            "Epoch [4/5] Batch [105/1654] Loss: 1.4053\n",
            "Epoch [4/5] Batch [106/1654] Loss: 1.6631\n"
          ]
        },
        {
          "output_type": "stream",
          "name": "stderr",
          "text": [
            "\r  7%|▋         | 110/1654 [00:03<00:43, 35.15it/s]"
          ]
        },
        {
          "output_type": "stream",
          "name": "stdout",
          "text": [
            "Epoch [4/5] Batch [107/1654] Loss: 1.5039\n",
            "Epoch [4/5] Batch [108/1654] Loss: 1.1800\n",
            "Epoch [4/5] Batch [109/1654] Loss: 1.4545\n",
            "Epoch [4/5] Batch [110/1654] Loss: 1.2284\n"
          ]
        },
        {
          "output_type": "stream",
          "name": "stderr",
          "text": [
            "\r  7%|▋         | 114/1654 [00:03<00:43, 35.11it/s]"
          ]
        },
        {
          "output_type": "stream",
          "name": "stdout",
          "text": [
            "Epoch [4/5] Batch [111/1654] Loss: 1.5054\n",
            "Epoch [4/5] Batch [112/1654] Loss: 1.2603\n",
            "Epoch [4/5] Batch [113/1654] Loss: 1.4397\n",
            "Epoch [4/5] Batch [114/1654] Loss: 1.4509\n"
          ]
        },
        {
          "output_type": "stream",
          "name": "stderr",
          "text": [
            "\r  7%|▋         | 118/1654 [00:03<00:43, 35.13it/s]"
          ]
        },
        {
          "output_type": "stream",
          "name": "stdout",
          "text": [
            "Epoch [4/5] Batch [115/1654] Loss: 1.3799\n",
            "Epoch [4/5] Batch [116/1654] Loss: 1.6949\n",
            "Epoch [4/5] Batch [117/1654] Loss: 1.6464\n",
            "Epoch [4/5] Batch [118/1654] Loss: 1.3222\n"
          ]
        },
        {
          "output_type": "stream",
          "name": "stderr",
          "text": [
            "\r  7%|▋         | 122/1654 [00:03<00:43, 35.31it/s]"
          ]
        },
        {
          "output_type": "stream",
          "name": "stdout",
          "text": [
            "Epoch [4/5] Batch [119/1654] Loss: 1.3858\n",
            "Epoch [4/5] Batch [120/1654] Loss: 1.6294\n",
            "Epoch [4/5] Batch [121/1654] Loss: 1.4097\n",
            "Epoch [4/5] Batch [122/1654] Loss: 1.3416\n"
          ]
        },
        {
          "output_type": "stream",
          "name": "stderr",
          "text": [
            "\r  8%|▊         | 126/1654 [00:04<00:42, 35.69it/s]"
          ]
        },
        {
          "output_type": "stream",
          "name": "stdout",
          "text": [
            "Epoch [4/5] Batch [123/1654] Loss: 1.6083\n",
            "Epoch [4/5] Batch [124/1654] Loss: 1.1882\n",
            "Epoch [4/5] Batch [125/1654] Loss: 1.0309\n",
            "Epoch [4/5] Batch [126/1654] Loss: 1.9336\n"
          ]
        },
        {
          "output_type": "stream",
          "name": "stderr",
          "text": [
            "\r  8%|▊         | 130/1654 [00:04<00:42, 35.56it/s]"
          ]
        },
        {
          "output_type": "stream",
          "name": "stdout",
          "text": [
            "Epoch [4/5] Batch [127/1654] Loss: 1.3177\n",
            "Epoch [4/5] Batch [128/1654] Loss: 1.6049\n",
            "Epoch [4/5] Batch [129/1654] Loss: 1.4619\n",
            "Epoch [4/5] Batch [130/1654] Loss: 1.6387\n"
          ]
        },
        {
          "output_type": "stream",
          "name": "stderr",
          "text": [
            "\r  8%|▊         | 134/1654 [00:04<00:43, 34.70it/s]"
          ]
        },
        {
          "output_type": "stream",
          "name": "stdout",
          "text": [
            "Epoch [4/5] Batch [131/1654] Loss: 1.1833\n",
            "Epoch [4/5] Batch [132/1654] Loss: 1.4447\n",
            "Epoch [4/5] Batch [133/1654] Loss: 1.5562\n",
            "Epoch [4/5] Batch [134/1654] Loss: 1.3245\n",
            "Epoch [4/5] Batch [135/1654] Loss: 1.3281\n",
            "Epoch [4/5] Batch [136/1654] Loss: 1.7981\n",
            "Epoch [4/5] Batch [137/1654] Loss: 1.2807\n"
          ]
        },
        {
          "output_type": "stream",
          "name": "stderr",
          "text": [
            "  9%|▊         | 142/1654 [00:04<00:44, 34.14it/s]"
          ]
        },
        {
          "output_type": "stream",
          "name": "stdout",
          "text": [
            "Epoch [4/5] Batch [138/1654] Loss: 1.6032\n",
            "Epoch [4/5] Batch [139/1654] Loss: 1.5936\n",
            "Epoch [4/5] Batch [140/1654] Loss: 1.4203\n",
            "Epoch [4/5] Batch [141/1654] Loss: 1.5554\n",
            "Epoch [4/5] Batch [142/1654] Loss: 1.6721\n",
            "Epoch [4/5] Batch [143/1654] Loss: 1.3833\n",
            "Epoch [4/5] Batch [144/1654] Loss: 1.8956\n"
          ]
        },
        {
          "output_type": "stream",
          "name": "stderr",
          "text": [
            "  9%|▉         | 150/1654 [00:04<00:43, 34.46it/s]"
          ]
        },
        {
          "output_type": "stream",
          "name": "stdout",
          "text": [
            "Epoch [4/5] Batch [145/1654] Loss: 1.5873\n",
            "Epoch [4/5] Batch [146/1654] Loss: 1.5661\n",
            "Epoch [4/5] Batch [147/1654] Loss: 1.4699\n",
            "Epoch [4/5] Batch [148/1654] Loss: 1.4068\n",
            "Epoch [4/5] Batch [149/1654] Loss: 1.6375\n",
            "Epoch [4/5] Batch [150/1654] Loss: 1.4841\n",
            "Epoch [4/5] Batch [151/1654] Loss: 1.5148\n"
          ]
        },
        {
          "output_type": "stream",
          "name": "stderr",
          "text": [
            " 10%|▉         | 158/1654 [00:04<00:43, 34.59it/s]"
          ]
        },
        {
          "output_type": "stream",
          "name": "stdout",
          "text": [
            "Epoch [4/5] Batch [152/1654] Loss: 1.2973\n",
            "Epoch [4/5] Batch [153/1654] Loss: 1.5130\n",
            "Epoch [4/5] Batch [154/1654] Loss: 1.7677\n",
            "Epoch [4/5] Batch [155/1654] Loss: 1.4694\n",
            "Epoch [4/5] Batch [156/1654] Loss: 1.7227\n",
            "Epoch [4/5] Batch [157/1654] Loss: 1.6790\n",
            "Epoch [4/5] Batch [158/1654] Loss: 1.4907\n"
          ]
        },
        {
          "output_type": "stream",
          "name": "stderr",
          "text": [
            " 10%|█         | 166/1654 [00:05<00:42, 34.75it/s]"
          ]
        },
        {
          "output_type": "stream",
          "name": "stdout",
          "text": [
            "Epoch [4/5] Batch [159/1654] Loss: 1.3430\n",
            "Epoch [4/5] Batch [160/1654] Loss: 1.5347\n",
            "Epoch [4/5] Batch [161/1654] Loss: 1.4830\n",
            "Epoch [4/5] Batch [162/1654] Loss: 1.7781\n",
            "Epoch [4/5] Batch [163/1654] Loss: 1.4263\n",
            "Epoch [4/5] Batch [164/1654] Loss: 1.5973\n",
            "Epoch [4/5] Batch [165/1654] Loss: 1.8033\n",
            "Epoch [4/5] Batch [166/1654] Loss: 1.2230\n"
          ]
        },
        {
          "output_type": "stream",
          "name": "stderr",
          "text": [
            "\r 10%|█         | 170/1654 [00:05<00:43, 33.83it/s]"
          ]
        },
        {
          "output_type": "stream",
          "name": "stdout",
          "text": [
            "Epoch [4/5] Batch [167/1654] Loss: 1.5785\n",
            "Epoch [4/5] Batch [168/1654] Loss: 1.7086\n",
            "Epoch [4/5] Batch [169/1654] Loss: 1.4699\n",
            "Epoch [4/5] Batch [170/1654] Loss: 1.5477\n",
            "Epoch [4/5] Batch [171/1654] Loss: 1.4508\n",
            "Epoch [4/5] Batch [172/1654] Loss: 1.5413\n",
            "Epoch [4/5] Batch [173/1654] Loss: 1.6189\n"
          ]
        },
        {
          "output_type": "stream",
          "name": "stderr",
          "text": [
            " 11%|█         | 178/1654 [00:05<00:42, 34.65it/s]"
          ]
        },
        {
          "output_type": "stream",
          "name": "stdout",
          "text": [
            "Epoch [4/5] Batch [174/1654] Loss: 1.2315\n",
            "Epoch [4/5] Batch [175/1654] Loss: 1.5077\n",
            "Epoch [4/5] Batch [176/1654] Loss: 1.4441\n",
            "Epoch [4/5] Batch [177/1654] Loss: 1.4312\n",
            "Epoch [4/5] Batch [178/1654] Loss: 1.6518\n",
            "Epoch [4/5] Batch [179/1654] Loss: 1.7764\n",
            "Epoch [4/5] Batch [180/1654] Loss: 1.3722\n",
            "Epoch [4/5] Batch [181/1654] Loss: 1.6657\n"
          ]
        },
        {
          "output_type": "stream",
          "name": "stderr",
          "text": [
            " 11%|█         | 186/1654 [00:05<00:42, 34.91it/s]"
          ]
        },
        {
          "output_type": "stream",
          "name": "stdout",
          "text": [
            "Epoch [4/5] Batch [182/1654] Loss: 1.3562\n",
            "Epoch [4/5] Batch [183/1654] Loss: 1.4532\n",
            "Epoch [4/5] Batch [184/1654] Loss: 1.8907\n",
            "Epoch [4/5] Batch [185/1654] Loss: 1.4475\n",
            "Epoch [4/5] Batch [186/1654] Loss: 1.4670\n",
            "Epoch [4/5] Batch [187/1654] Loss: 1.2086\n",
            "Epoch [4/5] Batch [188/1654] Loss: 1.2205\n",
            "Epoch [4/5] Batch [189/1654] Loss: 1.2897\n"
          ]
        },
        {
          "output_type": "stream",
          "name": "stderr",
          "text": [
            " 12%|█▏        | 194/1654 [00:05<00:42, 34.62it/s]"
          ]
        },
        {
          "output_type": "stream",
          "name": "stdout",
          "text": [
            "Epoch [4/5] Batch [190/1654] Loss: 1.0053\n",
            "Epoch [4/5] Batch [191/1654] Loss: 1.3025\n",
            "Epoch [4/5] Batch [192/1654] Loss: 1.2898\n",
            "Epoch [4/5] Batch [193/1654] Loss: 2.0296\n",
            "Epoch [4/5] Batch [194/1654] Loss: 1.7580\n",
            "Epoch [4/5] Batch [195/1654] Loss: 1.7784\n",
            "Epoch [4/5] Batch [196/1654] Loss: 1.2419\n",
            "Epoch [4/5] Batch [197/1654] Loss: 1.6669\n"
          ]
        },
        {
          "output_type": "stream",
          "name": "stderr",
          "text": [
            " 12%|█▏        | 202/1654 [00:06<00:40, 35.55it/s]"
          ]
        },
        {
          "output_type": "stream",
          "name": "stdout",
          "text": [
            "Epoch [4/5] Batch [198/1654] Loss: 1.2854\n",
            "Epoch [4/5] Batch [199/1654] Loss: 1.3978\n",
            "Epoch [4/5] Batch [200/1654] Loss: 1.6427\n",
            "Epoch [4/5] Batch [201/1654] Loss: 1.6151\n",
            "Epoch [4/5] Batch [202/1654] Loss: 1.4909\n",
            "Epoch [4/5] Batch [203/1654] Loss: 1.6688\n",
            "Epoch [4/5] Batch [204/1654] Loss: 1.6081\n",
            "Epoch [4/5] Batch [205/1654] Loss: 1.5315\n"
          ]
        },
        {
          "output_type": "stream",
          "name": "stderr",
          "text": [
            " 13%|█▎        | 210/1654 [00:06<00:41, 34.50it/s]"
          ]
        },
        {
          "output_type": "stream",
          "name": "stdout",
          "text": [
            "Epoch [4/5] Batch [206/1654] Loss: 1.4412\n",
            "Epoch [4/5] Batch [207/1654] Loss: 1.2839\n",
            "Epoch [4/5] Batch [208/1654] Loss: 1.6152\n",
            "Epoch [4/5] Batch [209/1654] Loss: 1.5678\n",
            "Epoch [4/5] Batch [210/1654] Loss: 1.4590\n",
            "Epoch [4/5] Batch [211/1654] Loss: 1.3657\n",
            "Epoch [4/5] Batch [212/1654] Loss: 1.5365\n",
            "Epoch [4/5] Batch [213/1654] Loss: 1.4773\n"
          ]
        },
        {
          "output_type": "stream",
          "name": "stderr",
          "text": [
            " 13%|█▎        | 218/1654 [00:06<00:41, 34.74it/s]"
          ]
        },
        {
          "output_type": "stream",
          "name": "stdout",
          "text": [
            "Epoch [4/5] Batch [214/1654] Loss: 1.4735\n",
            "Epoch [4/5] Batch [215/1654] Loss: 1.4682\n",
            "Epoch [4/5] Batch [216/1654] Loss: 1.2336\n",
            "Epoch [4/5] Batch [217/1654] Loss: 1.4861\n",
            "Epoch [4/5] Batch [218/1654] Loss: 1.8917\n",
            "Epoch [4/5] Batch [219/1654] Loss: 1.4518\n",
            "Epoch [4/5] Batch [220/1654] Loss: 1.4431\n",
            "Epoch [4/5] Batch [221/1654] Loss: 1.3719\n"
          ]
        },
        {
          "output_type": "stream",
          "name": "stderr",
          "text": [
            " 14%|█▎        | 226/1654 [00:06<00:41, 34.75it/s]"
          ]
        },
        {
          "output_type": "stream",
          "name": "stdout",
          "text": [
            "Epoch [4/5] Batch [222/1654] Loss: 1.2044\n",
            "Epoch [4/5] Batch [223/1654] Loss: 1.7391\n",
            "Epoch [4/5] Batch [224/1654] Loss: 1.0524\n",
            "Epoch [4/5] Batch [225/1654] Loss: 1.3718\n",
            "Epoch [4/5] Batch [226/1654] Loss: 1.3491\n",
            "Epoch [4/5] Batch [227/1654] Loss: 1.3378\n",
            "Epoch [4/5] Batch [228/1654] Loss: 1.4945\n",
            "Epoch [4/5] Batch [229/1654] Loss: 1.5259\n"
          ]
        },
        {
          "output_type": "stream",
          "name": "stderr",
          "text": [
            " 14%|█▍        | 234/1654 [00:07<00:40, 34.98it/s]"
          ]
        },
        {
          "output_type": "stream",
          "name": "stdout",
          "text": [
            "Epoch [4/5] Batch [230/1654] Loss: 1.3698\n",
            "Epoch [4/5] Batch [231/1654] Loss: 1.1026\n",
            "Epoch [4/5] Batch [232/1654] Loss: 1.7061\n",
            "Epoch [4/5] Batch [233/1654] Loss: 1.4281\n",
            "Epoch [4/5] Batch [234/1654] Loss: 1.7042\n",
            "Epoch [4/5] Batch [235/1654] Loss: 1.3374\n",
            "Epoch [4/5] Batch [236/1654] Loss: 1.1618\n",
            "Epoch [4/5] Batch [237/1654] Loss: 1.3673\n"
          ]
        },
        {
          "output_type": "stream",
          "name": "stderr",
          "text": [
            " 15%|█▍        | 242/1654 [00:07<00:42, 33.56it/s]"
          ]
        },
        {
          "output_type": "stream",
          "name": "stdout",
          "text": [
            "Epoch [4/5] Batch [238/1654] Loss: 1.8286\n",
            "Epoch [4/5] Batch [239/1654] Loss: 1.7149\n",
            "Epoch [4/5] Batch [240/1654] Loss: 1.3447\n",
            "Epoch [4/5] Batch [241/1654] Loss: 1.3591\n",
            "Epoch [4/5] Batch [242/1654] Loss: 1.3173\n",
            "Epoch [4/5] Batch [243/1654] Loss: 1.6237\n",
            "Epoch [4/5] Batch [244/1654] Loss: 1.0912\n"
          ]
        },
        {
          "output_type": "stream",
          "name": "stderr",
          "text": [
            " 15%|█▌        | 250/1654 [00:07<00:40, 34.53it/s]"
          ]
        },
        {
          "output_type": "stream",
          "name": "stdout",
          "text": [
            "Epoch [4/5] Batch [245/1654] Loss: 1.1759\n",
            "Epoch [4/5] Batch [246/1654] Loss: 1.5083\n",
            "Epoch [4/5] Batch [247/1654] Loss: 1.5330\n",
            "Epoch [4/5] Batch [248/1654] Loss: 1.4097\n",
            "Epoch [4/5] Batch [249/1654] Loss: 1.4365\n",
            "Epoch [4/5] Batch [250/1654] Loss: 1.7370\n",
            "Epoch [4/5] Batch [251/1654] Loss: 1.4529\n",
            "Epoch [4/5] Batch [252/1654] Loss: 1.6793\n"
          ]
        },
        {
          "output_type": "stream",
          "name": "stderr",
          "text": [
            " 16%|█▌        | 258/1654 [00:07<00:40, 34.78it/s]"
          ]
        },
        {
          "output_type": "stream",
          "name": "stdout",
          "text": [
            "Epoch [4/5] Batch [253/1654] Loss: 1.4797\n",
            "Epoch [4/5] Batch [254/1654] Loss: 1.6747\n",
            "Epoch [4/5] Batch [255/1654] Loss: 1.4346\n",
            "Epoch [4/5] Batch [256/1654] Loss: 1.1975\n",
            "Epoch [4/5] Batch [257/1654] Loss: 1.5736\n",
            "Epoch [4/5] Batch [258/1654] Loss: 1.5735\n",
            "Epoch [4/5] Batch [259/1654] Loss: 1.5655\n",
            "Epoch [4/5] Batch [260/1654] Loss: 1.7041\n"
          ]
        },
        {
          "output_type": "stream",
          "name": "stderr",
          "text": [
            " 16%|█▌        | 266/1654 [00:08<00:39, 34.92it/s]"
          ]
        },
        {
          "output_type": "stream",
          "name": "stdout",
          "text": [
            "Epoch [4/5] Batch [261/1654] Loss: 1.5148\n",
            "Epoch [4/5] Batch [262/1654] Loss: 1.3996\n",
            "Epoch [4/5] Batch [263/1654] Loss: 1.5367\n",
            "Epoch [4/5] Batch [264/1654] Loss: 1.4208\n",
            "Epoch [4/5] Batch [265/1654] Loss: 2.0647\n",
            "Epoch [4/5] Batch [266/1654] Loss: 2.1311\n",
            "Epoch [4/5] Batch [267/1654] Loss: 1.4699\n",
            "Epoch [4/5] Batch [268/1654] Loss: 1.4021\n"
          ]
        },
        {
          "output_type": "stream",
          "name": "stderr",
          "text": [
            " 17%|█▋        | 274/1654 [00:08<00:39, 34.85it/s]"
          ]
        },
        {
          "output_type": "stream",
          "name": "stdout",
          "text": [
            "Epoch [4/5] Batch [269/1654] Loss: 1.4903\n",
            "Epoch [4/5] Batch [270/1654] Loss: 1.6790\n",
            "Epoch [4/5] Batch [271/1654] Loss: 1.5616\n",
            "Epoch [4/5] Batch [272/1654] Loss: 1.8165\n",
            "Epoch [4/5] Batch [273/1654] Loss: 1.4864\n",
            "Epoch [4/5] Batch [274/1654] Loss: 1.7025\n",
            "Epoch [4/5] Batch [275/1654] Loss: 1.4703\n"
          ]
        },
        {
          "output_type": "stream",
          "name": "stderr",
          "text": [
            " 17%|█▋        | 282/1654 [00:08<00:39, 34.65it/s]"
          ]
        },
        {
          "output_type": "stream",
          "name": "stdout",
          "text": [
            "Epoch [4/5] Batch [276/1654] Loss: 1.4897\n",
            "Epoch [4/5] Batch [277/1654] Loss: 1.3842\n",
            "Epoch [4/5] Batch [278/1654] Loss: 1.8518\n",
            "Epoch [4/5] Batch [279/1654] Loss: 1.3498\n",
            "Epoch [4/5] Batch [280/1654] Loss: 1.7129\n",
            "Epoch [4/5] Batch [281/1654] Loss: 1.5299\n",
            "Epoch [4/5] Batch [282/1654] Loss: 1.3763\n"
          ]
        },
        {
          "output_type": "stream",
          "name": "stderr",
          "text": [
            "\r 17%|█▋        | 286/1654 [00:08<00:40, 33.92it/s]"
          ]
        },
        {
          "output_type": "stream",
          "name": "stdout",
          "text": [
            "Epoch [4/5] Batch [283/1654] Loss: 1.5199\n",
            "Epoch [4/5] Batch [284/1654] Loss: 1.5267\n",
            "Epoch [4/5] Batch [285/1654] Loss: 1.8189\n",
            "Epoch [4/5] Batch [286/1654] Loss: 1.3605\n",
            "Epoch [4/5] Batch [287/1654] Loss: 1.4805\n",
            "Epoch [4/5] Batch [288/1654] Loss: 1.6196\n",
            "Epoch [4/5] Batch [289/1654] Loss: 1.2941\n"
          ]
        },
        {
          "output_type": "stream",
          "name": "stderr",
          "text": [
            " 18%|█▊        | 294/1654 [00:08<00:40, 33.48it/s]"
          ]
        },
        {
          "output_type": "stream",
          "name": "stdout",
          "text": [
            "Epoch [4/5] Batch [290/1654] Loss: 1.6469\n",
            "Epoch [4/5] Batch [291/1654] Loss: 1.3585\n",
            "Epoch [4/5] Batch [292/1654] Loss: 1.6510\n",
            "Epoch [4/5] Batch [293/1654] Loss: 1.5931\n",
            "Epoch [4/5] Batch [294/1654] Loss: 1.5849\n",
            "Epoch [4/5] Batch [295/1654] Loss: 1.6902\n",
            "Epoch [4/5] Batch [296/1654] Loss: 1.4563\n"
          ]
        },
        {
          "output_type": "stream",
          "name": "stderr",
          "text": [
            " 18%|█▊        | 302/1654 [00:09<00:39, 33.89it/s]"
          ]
        },
        {
          "output_type": "stream",
          "name": "stdout",
          "text": [
            "Epoch [4/5] Batch [297/1654] Loss: 1.7316\n",
            "Epoch [4/5] Batch [298/1654] Loss: 1.5794\n",
            "Epoch [4/5] Batch [299/1654] Loss: 1.3886\n",
            "Epoch [4/5] Batch [300/1654] Loss: 1.6191\n",
            "Epoch [4/5] Batch [301/1654] Loss: 1.4832\n",
            "Epoch [4/5] Batch [302/1654] Loss: 1.2155\n",
            "Epoch [4/5] Batch [303/1654] Loss: 1.4551\n"
          ]
        },
        {
          "output_type": "stream",
          "name": "stderr",
          "text": [
            " 19%|█▊        | 310/1654 [00:09<00:38, 34.61it/s]"
          ]
        },
        {
          "output_type": "stream",
          "name": "stdout",
          "text": [
            "Epoch [4/5] Batch [304/1654] Loss: 1.3740\n",
            "Epoch [4/5] Batch [305/1654] Loss: 1.0358\n",
            "Epoch [4/5] Batch [306/1654] Loss: 1.4463\n",
            "Epoch [4/5] Batch [307/1654] Loss: 1.5668\n",
            "Epoch [4/5] Batch [308/1654] Loss: 1.2694\n",
            "Epoch [4/5] Batch [309/1654] Loss: 1.6877\n",
            "Epoch [4/5] Batch [310/1654] Loss: 1.0893\n"
          ]
        },
        {
          "output_type": "stream",
          "name": "stderr",
          "text": [
            " 19%|█▉        | 318/1654 [00:09<00:38, 34.30it/s]"
          ]
        },
        {
          "output_type": "stream",
          "name": "stdout",
          "text": [
            "Epoch [4/5] Batch [311/1654] Loss: 1.6344\n",
            "Epoch [4/5] Batch [312/1654] Loss: 1.4273\n",
            "Epoch [4/5] Batch [313/1654] Loss: 1.5785\n",
            "Epoch [4/5] Batch [314/1654] Loss: 1.2114\n",
            "Epoch [4/5] Batch [315/1654] Loss: 1.6613\n",
            "Epoch [4/5] Batch [316/1654] Loss: 1.6207\n",
            "Epoch [4/5] Batch [317/1654] Loss: 1.7615\n",
            "Epoch [4/5] Batch [318/1654] Loss: 1.4328\n"
          ]
        },
        {
          "output_type": "stream",
          "name": "stderr",
          "text": [
            " 20%|█▉        | 326/1654 [00:09<00:37, 35.02it/s]"
          ]
        },
        {
          "output_type": "stream",
          "name": "stdout",
          "text": [
            "Epoch [4/5] Batch [319/1654] Loss: 1.3724\n",
            "Epoch [4/5] Batch [320/1654] Loss: 1.7495\n",
            "Epoch [4/5] Batch [321/1654] Loss: 1.2857\n",
            "Epoch [4/5] Batch [322/1654] Loss: 1.6249\n",
            "Epoch [4/5] Batch [323/1654] Loss: 1.3346\n",
            "Epoch [4/5] Batch [324/1654] Loss: 1.6515\n",
            "Epoch [4/5] Batch [325/1654] Loss: 1.4628\n",
            "Epoch [4/5] Batch [326/1654] Loss: 1.5856\n"
          ]
        },
        {
          "output_type": "stream",
          "name": "stderr",
          "text": [
            " 20%|██        | 334/1654 [00:10<00:37, 35.17it/s]"
          ]
        },
        {
          "output_type": "stream",
          "name": "stdout",
          "text": [
            "Epoch [4/5] Batch [327/1654] Loss: 1.4393\n",
            "Epoch [4/5] Batch [328/1654] Loss: 1.3311\n",
            "Epoch [4/5] Batch [329/1654] Loss: 1.5544\n",
            "Epoch [4/5] Batch [330/1654] Loss: 1.1575\n",
            "Epoch [4/5] Batch [331/1654] Loss: 1.5029\n",
            "Epoch [4/5] Batch [332/1654] Loss: 1.5833\n",
            "Epoch [4/5] Batch [333/1654] Loss: 1.5501\n",
            "Epoch [4/5] Batch [334/1654] Loss: 1.4506\n"
          ]
        },
        {
          "output_type": "stream",
          "name": "stderr",
          "text": [
            " 21%|██        | 342/1654 [00:10<00:37, 35.08it/s]"
          ]
        },
        {
          "output_type": "stream",
          "name": "stdout",
          "text": [
            "Epoch [4/5] Batch [335/1654] Loss: 1.3033\n",
            "Epoch [4/5] Batch [336/1654] Loss: 1.4216\n",
            "Epoch [4/5] Batch [337/1654] Loss: 1.7724\n",
            "Epoch [4/5] Batch [338/1654] Loss: 1.1305\n",
            "Epoch [4/5] Batch [339/1654] Loss: 1.4342\n",
            "Epoch [4/5] Batch [340/1654] Loss: 1.3671\n",
            "Epoch [4/5] Batch [341/1654] Loss: 1.1530\n",
            "Epoch [4/5] Batch [342/1654] Loss: 1.5702\n"
          ]
        },
        {
          "output_type": "stream",
          "name": "stderr",
          "text": [
            "\r 21%|██        | 346/1654 [00:10<00:37, 34.91it/s]"
          ]
        },
        {
          "output_type": "stream",
          "name": "stdout",
          "text": [
            "Epoch [4/5] Batch [343/1654] Loss: 1.1410\n",
            "Epoch [4/5] Batch [344/1654] Loss: 1.4241\n",
            "Epoch [4/5] Batch [345/1654] Loss: 1.2098\n",
            "Epoch [4/5] Batch [346/1654] Loss: 1.1764\n",
            "Epoch [4/5] Batch [347/1654] Loss: 1.6271\n",
            "Epoch [4/5] Batch [348/1654] Loss: 1.3639\n",
            "Epoch [4/5] Batch [349/1654] Loss: 1.4658\n"
          ]
        },
        {
          "output_type": "stream",
          "name": "stderr",
          "text": [
            " 21%|██▏       | 354/1654 [00:10<00:37, 34.25it/s]"
          ]
        },
        {
          "output_type": "stream",
          "name": "stdout",
          "text": [
            "Epoch [4/5] Batch [350/1654] Loss: 1.5974\n",
            "Epoch [4/5] Batch [351/1654] Loss: 1.5034\n",
            "Epoch [4/5] Batch [352/1654] Loss: 1.5411\n",
            "Epoch [4/5] Batch [353/1654] Loss: 1.5139\n",
            "Epoch [4/5] Batch [354/1654] Loss: 1.2662\n",
            "Epoch [4/5] Batch [355/1654] Loss: 1.3707\n",
            "Epoch [4/5] Batch [356/1654] Loss: 1.2934\n",
            "Epoch [4/5] Batch [357/1654] Loss: 1.2752\n"
          ]
        },
        {
          "output_type": "stream",
          "name": "stderr",
          "text": [
            " 22%|██▏       | 362/1654 [00:10<00:37, 34.38it/s]"
          ]
        },
        {
          "output_type": "stream",
          "name": "stdout",
          "text": [
            "Epoch [4/5] Batch [358/1654] Loss: 1.3037\n",
            "Epoch [4/5] Batch [359/1654] Loss: 1.5554\n",
            "Epoch [4/5] Batch [360/1654] Loss: 1.4706\n",
            "Epoch [4/5] Batch [361/1654] Loss: 1.7283\n",
            "Epoch [4/5] Batch [362/1654] Loss: 1.2677\n",
            "Epoch [4/5] Batch [363/1654] Loss: 1.1348\n",
            "Epoch [4/5] Batch [364/1654] Loss: 1.2311\n",
            "Epoch [4/5] Batch [365/1654] Loss: 1.5647\n"
          ]
        },
        {
          "output_type": "stream",
          "name": "stderr",
          "text": [
            " 22%|██▏       | 370/1654 [00:11<00:37, 34.60it/s]"
          ]
        },
        {
          "output_type": "stream",
          "name": "stdout",
          "text": [
            "Epoch [4/5] Batch [366/1654] Loss: 1.2802\n",
            "Epoch [4/5] Batch [367/1654] Loss: 1.3030\n",
            "Epoch [4/5] Batch [368/1654] Loss: 1.0539\n",
            "Epoch [4/5] Batch [369/1654] Loss: 1.2708\n",
            "Epoch [4/5] Batch [370/1654] Loss: 1.1905\n",
            "Epoch [4/5] Batch [371/1654] Loss: 1.7843\n",
            "Epoch [4/5] Batch [372/1654] Loss: 1.5845\n",
            "Epoch [4/5] Batch [373/1654] Loss: 1.1900\n"
          ]
        },
        {
          "output_type": "stream",
          "name": "stderr",
          "text": [
            " 23%|██▎       | 378/1654 [00:11<00:36, 34.92it/s]"
          ]
        },
        {
          "output_type": "stream",
          "name": "stdout",
          "text": [
            "Epoch [4/5] Batch [374/1654] Loss: 1.4463\n",
            "Epoch [4/5] Batch [375/1654] Loss: 1.2052\n",
            "Epoch [4/5] Batch [376/1654] Loss: 1.7040\n",
            "Epoch [4/5] Batch [377/1654] Loss: 1.4033\n",
            "Epoch [4/5] Batch [378/1654] Loss: 1.2920\n",
            "Epoch [4/5] Batch [379/1654] Loss: 1.5349\n",
            "Epoch [4/5] Batch [380/1654] Loss: 1.5122\n",
            "Epoch [4/5] Batch [381/1654] Loss: 1.5740\n"
          ]
        },
        {
          "output_type": "stream",
          "name": "stderr",
          "text": [
            " 23%|██▎       | 386/1654 [00:11<00:36, 35.02it/s]"
          ]
        },
        {
          "output_type": "stream",
          "name": "stdout",
          "text": [
            "Epoch [4/5] Batch [382/1654] Loss: 1.4590\n",
            "Epoch [4/5] Batch [383/1654] Loss: 1.6869\n",
            "Epoch [4/5] Batch [384/1654] Loss: 1.7790\n",
            "Epoch [4/5] Batch [385/1654] Loss: 1.3778\n",
            "Epoch [4/5] Batch [386/1654] Loss: 1.2397\n",
            "Epoch [4/5] Batch [387/1654] Loss: 1.2108\n",
            "Epoch [4/5] Batch [388/1654] Loss: 1.4926\n",
            "Epoch [4/5] Batch [389/1654] Loss: 1.5682\n"
          ]
        },
        {
          "output_type": "stream",
          "name": "stderr",
          "text": [
            " 24%|██▍       | 394/1654 [00:11<00:35, 35.23it/s]"
          ]
        },
        {
          "output_type": "stream",
          "name": "stdout",
          "text": [
            "Epoch [4/5] Batch [390/1654] Loss: 1.4014\n",
            "Epoch [4/5] Batch [391/1654] Loss: 1.5640\n",
            "Epoch [4/5] Batch [392/1654] Loss: 1.9953\n",
            "Epoch [4/5] Batch [393/1654] Loss: 1.5392\n",
            "Epoch [4/5] Batch [394/1654] Loss: 1.7232\n",
            "Epoch [4/5] Batch [395/1654] Loss: 1.4224\n",
            "Epoch [4/5] Batch [396/1654] Loss: 1.8310\n",
            "Epoch [4/5] Batch [397/1654] Loss: 1.5091\n"
          ]
        },
        {
          "output_type": "stream",
          "name": "stderr",
          "text": [
            " 24%|██▍       | 402/1654 [00:12<00:35, 35.32it/s]"
          ]
        },
        {
          "output_type": "stream",
          "name": "stdout",
          "text": [
            "Epoch [4/5] Batch [398/1654] Loss: 1.4687\n",
            "Epoch [4/5] Batch [399/1654] Loss: 1.4101\n",
            "Epoch [4/5] Batch [400/1654] Loss: 1.2788\n",
            "Epoch [4/5] Batch [401/1654] Loss: 1.4855\n",
            "Epoch [4/5] Batch [402/1654] Loss: 1.4075\n",
            "Epoch [4/5] Batch [403/1654] Loss: 1.7840\n",
            "Epoch [4/5] Batch [404/1654] Loss: 1.5830\n",
            "Epoch [4/5] Batch [405/1654] Loss: 1.0209\n"
          ]
        },
        {
          "output_type": "stream",
          "name": "stderr",
          "text": [
            " 25%|██▍       | 410/1654 [00:12<00:35, 35.50it/s]"
          ]
        },
        {
          "output_type": "stream",
          "name": "stdout",
          "text": [
            "Epoch [4/5] Batch [406/1654] Loss: 1.2967\n",
            "Epoch [4/5] Batch [407/1654] Loss: 1.2900\n",
            "Epoch [4/5] Batch [408/1654] Loss: 1.3055\n",
            "Epoch [4/5] Batch [409/1654] Loss: 1.2337\n",
            "Epoch [4/5] Batch [410/1654] Loss: 1.6039\n",
            "Epoch [4/5] Batch [411/1654] Loss: 1.3800\n",
            "Epoch [4/5] Batch [412/1654] Loss: 1.7007\n",
            "Epoch [4/5] Batch [413/1654] Loss: 1.4096\n"
          ]
        },
        {
          "output_type": "stream",
          "name": "stderr",
          "text": [
            " 25%|██▌       | 418/1654 [00:12<00:39, 31.59it/s]"
          ]
        },
        {
          "output_type": "stream",
          "name": "stdout",
          "text": [
            "Epoch [4/5] Batch [414/1654] Loss: 1.3009\n",
            "Epoch [4/5] Batch [415/1654] Loss: 1.4389\n",
            "Epoch [4/5] Batch [416/1654] Loss: 1.3809\n",
            "Epoch [4/5] Batch [417/1654] Loss: 1.2684\n",
            "Epoch [4/5] Batch [418/1654] Loss: 1.4607\n",
            "Epoch [4/5] Batch [419/1654] Loss: 1.4105\n"
          ]
        },
        {
          "output_type": "stream",
          "name": "stderr",
          "text": [
            "\r 26%|██▌       | 422/1654 [00:12<00:40, 30.24it/s]"
          ]
        },
        {
          "output_type": "stream",
          "name": "stdout",
          "text": [
            "Epoch [4/5] Batch [420/1654] Loss: 1.7461\n",
            "Epoch [4/5] Batch [421/1654] Loss: 1.3374\n",
            "Epoch [4/5] Batch [422/1654] Loss: 1.3742\n",
            "Epoch [4/5] Batch [423/1654] Loss: 1.6363\n",
            "Epoch [4/5] Batch [424/1654] Loss: 1.3032\n",
            "Epoch [4/5] Batch [425/1654] Loss: 1.3204\n"
          ]
        },
        {
          "output_type": "stream",
          "name": "stderr",
          "text": [
            " 26%|██▌       | 430/1654 [00:12<00:41, 29.46it/s]"
          ]
        },
        {
          "output_type": "stream",
          "name": "stdout",
          "text": [
            "Epoch [4/5] Batch [426/1654] Loss: 1.3821\n",
            "Epoch [4/5] Batch [427/1654] Loss: 1.5106\n",
            "Epoch [4/5] Batch [428/1654] Loss: 1.4012\n",
            "Epoch [4/5] Batch [429/1654] Loss: 1.4676\n",
            "Epoch [4/5] Batch [430/1654] Loss: 1.5184\n",
            "Epoch [4/5] Batch [431/1654] Loss: 1.3160\n"
          ]
        },
        {
          "output_type": "stream",
          "name": "stderr",
          "text": [
            " 26%|██▋       | 436/1654 [00:13<00:42, 28.74it/s]"
          ]
        },
        {
          "output_type": "stream",
          "name": "stdout",
          "text": [
            "Epoch [4/5] Batch [432/1654] Loss: 1.4407\n",
            "Epoch [4/5] Batch [433/1654] Loss: 1.5812\n",
            "Epoch [4/5] Batch [434/1654] Loss: 1.8296\n",
            "Epoch [4/5] Batch [435/1654] Loss: 1.8095\n",
            "Epoch [4/5] Batch [436/1654] Loss: 1.4652\n",
            "Epoch [4/5] Batch [437/1654] Loss: 1.5096\n"
          ]
        },
        {
          "output_type": "stream",
          "name": "stderr",
          "text": [
            " 27%|██▋       | 442/1654 [00:13<00:42, 28.28it/s]"
          ]
        },
        {
          "output_type": "stream",
          "name": "stdout",
          "text": [
            "Epoch [4/5] Batch [438/1654] Loss: 1.3419\n",
            "Epoch [4/5] Batch [439/1654] Loss: 1.6957\n",
            "Epoch [4/5] Batch [440/1654] Loss: 1.4040\n",
            "Epoch [4/5] Batch [441/1654] Loss: 1.4635\n",
            "Epoch [4/5] Batch [442/1654] Loss: 1.7476\n",
            "Epoch [4/5] Batch [443/1654] Loss: 1.6362\n"
          ]
        },
        {
          "output_type": "stream",
          "name": "stderr",
          "text": [
            " 27%|██▋       | 449/1654 [00:13<00:41, 28.86it/s]"
          ]
        },
        {
          "output_type": "stream",
          "name": "stdout",
          "text": [
            "Epoch [4/5] Batch [444/1654] Loss: 1.3221\n",
            "Epoch [4/5] Batch [445/1654] Loss: 1.5690\n",
            "Epoch [4/5] Batch [446/1654] Loss: 1.4660\n",
            "Epoch [4/5] Batch [447/1654] Loss: 1.4276\n",
            "Epoch [4/5] Batch [448/1654] Loss: 1.4398\n",
            "Epoch [4/5] Batch [449/1654] Loss: 1.3924\n"
          ]
        },
        {
          "output_type": "stream",
          "name": "stderr",
          "text": [
            " 28%|██▊       | 455/1654 [00:13<00:42, 28.50it/s]"
          ]
        },
        {
          "output_type": "stream",
          "name": "stdout",
          "text": [
            "Epoch [4/5] Batch [450/1654] Loss: 1.3040\n",
            "Epoch [4/5] Batch [451/1654] Loss: 1.3724\n",
            "Epoch [4/5] Batch [452/1654] Loss: 1.5769\n",
            "Epoch [4/5] Batch [453/1654] Loss: 1.5714\n",
            "Epoch [4/5] Batch [454/1654] Loss: 1.3962\n",
            "Epoch [4/5] Batch [455/1654] Loss: 1.3097\n"
          ]
        },
        {
          "output_type": "stream",
          "name": "stderr",
          "text": [
            "\r 28%|██▊       | 459/1654 [00:13<00:40, 29.19it/s]"
          ]
        },
        {
          "output_type": "stream",
          "name": "stdout",
          "text": [
            "Epoch [4/5] Batch [456/1654] Loss: 1.5410\n",
            "Epoch [4/5] Batch [457/1654] Loss: 1.5831\n",
            "Epoch [4/5] Batch [458/1654] Loss: 1.3580\n",
            "Epoch [4/5] Batch [459/1654] Loss: 1.4064\n",
            "Epoch [4/5] Batch [460/1654] Loss: 1.4505\n",
            "Epoch [4/5] Batch [461/1654] Loss: 1.3705\n"
          ]
        },
        {
          "output_type": "stream",
          "name": "stderr",
          "text": [
            " 28%|██▊       | 465/1654 [00:14<00:40, 29.21it/s]"
          ]
        },
        {
          "output_type": "stream",
          "name": "stdout",
          "text": [
            "Epoch [4/5] Batch [462/1654] Loss: 1.3709\n",
            "Epoch [4/5] Batch [463/1654] Loss: 1.6680\n",
            "Epoch [4/5] Batch [464/1654] Loss: 1.3201\n",
            "Epoch [4/5] Batch [465/1654] Loss: 1.8296\n",
            "Epoch [4/5] Batch [466/1654] Loss: 1.6630\n",
            "Epoch [4/5] Batch [467/1654] Loss: 1.6175\n"
          ]
        },
        {
          "output_type": "stream",
          "name": "stderr",
          "text": [
            " 28%|██▊       | 471/1654 [00:14<00:42, 27.99it/s]"
          ]
        },
        {
          "output_type": "stream",
          "name": "stdout",
          "text": [
            "Epoch [4/5] Batch [468/1654] Loss: 1.4950\n",
            "Epoch [4/5] Batch [469/1654] Loss: 1.7058\n",
            "Epoch [4/5] Batch [470/1654] Loss: 1.7740\n",
            "Epoch [4/5] Batch [471/1654] Loss: 1.6735\n",
            "Epoch [4/5] Batch [472/1654] Loss: 1.4341\n",
            "Epoch [4/5] Batch [473/1654] Loss: 1.7691\n"
          ]
        },
        {
          "output_type": "stream",
          "name": "stderr",
          "text": [
            " 29%|██▉       | 477/1654 [00:14<00:44, 26.30it/s]"
          ]
        },
        {
          "output_type": "stream",
          "name": "stdout",
          "text": [
            "Epoch [4/5] Batch [474/1654] Loss: 1.5989\n",
            "Epoch [4/5] Batch [475/1654] Loss: 1.6213\n",
            "Epoch [4/5] Batch [476/1654] Loss: 1.0597\n",
            "Epoch [4/5] Batch [477/1654] Loss: 1.4228\n",
            "Epoch [4/5] Batch [478/1654] Loss: 1.5424\n"
          ]
        },
        {
          "output_type": "stream",
          "name": "stderr",
          "text": [
            " 29%|██▉       | 484/1654 [00:14<00:41, 28.48it/s]"
          ]
        },
        {
          "output_type": "stream",
          "name": "stdout",
          "text": [
            "Epoch [4/5] Batch [479/1654] Loss: 1.4910\n",
            "Epoch [4/5] Batch [480/1654] Loss: 1.4690\n",
            "Epoch [4/5] Batch [481/1654] Loss: 1.3864\n",
            "Epoch [4/5] Batch [482/1654] Loss: 1.4448\n",
            "Epoch [4/5] Batch [483/1654] Loss: 1.4075\n",
            "Epoch [4/5] Batch [484/1654] Loss: 0.9860\n",
            "Epoch [4/5] Batch [485/1654] Loss: 1.7175\n"
          ]
        },
        {
          "output_type": "stream",
          "name": "stderr",
          "text": [
            " 30%|██▉       | 492/1654 [00:15<00:36, 32.01it/s]"
          ]
        },
        {
          "output_type": "stream",
          "name": "stdout",
          "text": [
            "Epoch [4/5] Batch [486/1654] Loss: 1.4530\n",
            "Epoch [4/5] Batch [487/1654] Loss: 1.5490\n",
            "Epoch [4/5] Batch [488/1654] Loss: 1.6767\n",
            "Epoch [4/5] Batch [489/1654] Loss: 1.3617\n",
            "Epoch [4/5] Batch [490/1654] Loss: 1.2592\n",
            "Epoch [4/5] Batch [491/1654] Loss: 1.4684\n",
            "Epoch [4/5] Batch [492/1654] Loss: 1.5987\n",
            "Epoch [4/5] Batch [493/1654] Loss: 1.5453\n"
          ]
        },
        {
          "output_type": "stream",
          "name": "stderr",
          "text": [
            " 30%|███       | 500/1654 [00:15<00:34, 33.78it/s]"
          ]
        },
        {
          "output_type": "stream",
          "name": "stdout",
          "text": [
            "Epoch [4/5] Batch [494/1654] Loss: 1.7116\n",
            "Epoch [4/5] Batch [495/1654] Loss: 1.5294\n",
            "Epoch [4/5] Batch [496/1654] Loss: 1.6051\n",
            "Epoch [4/5] Batch [497/1654] Loss: 1.3630\n",
            "Epoch [4/5] Batch [498/1654] Loss: 1.3702\n",
            "Epoch [4/5] Batch [499/1654] Loss: 0.9948\n",
            "Epoch [4/5] Batch [500/1654] Loss: 1.7499\n",
            "Epoch [4/5] Batch [501/1654] Loss: 1.7254\n"
          ]
        },
        {
          "output_type": "stream",
          "name": "stderr",
          "text": [
            " 31%|███       | 508/1654 [00:15<00:33, 34.39it/s]"
          ]
        },
        {
          "output_type": "stream",
          "name": "stdout",
          "text": [
            "Epoch [4/5] Batch [502/1654] Loss: 1.3149\n",
            "Epoch [4/5] Batch [503/1654] Loss: 1.4869\n",
            "Epoch [4/5] Batch [504/1654] Loss: 1.5062\n",
            "Epoch [4/5] Batch [505/1654] Loss: 1.3912\n",
            "Epoch [4/5] Batch [506/1654] Loss: 1.5857\n",
            "Epoch [4/5] Batch [507/1654] Loss: 1.6342\n",
            "Epoch [4/5] Batch [508/1654] Loss: 1.4404\n"
          ]
        },
        {
          "output_type": "stream",
          "name": "stderr",
          "text": [
            "\r 31%|███       | 512/1654 [00:15<00:33, 34.00it/s]"
          ]
        },
        {
          "output_type": "stream",
          "name": "stdout",
          "text": [
            "Epoch [4/5] Batch [509/1654] Loss: 1.4141\n",
            "Epoch [4/5] Batch [510/1654] Loss: 1.4638\n",
            "Epoch [4/5] Batch [511/1654] Loss: 1.5912\n",
            "Epoch [4/5] Batch [512/1654] Loss: 1.2734\n",
            "Epoch [4/5] Batch [513/1654] Loss: 1.3063\n",
            "Epoch [4/5] Batch [514/1654] Loss: 1.4495\n",
            "Epoch [4/5] Batch [515/1654] Loss: 1.4198\n"
          ]
        },
        {
          "output_type": "stream",
          "name": "stderr",
          "text": [
            " 31%|███▏      | 520/1654 [00:15<00:33, 34.32it/s]"
          ]
        },
        {
          "output_type": "stream",
          "name": "stdout",
          "text": [
            "Epoch [4/5] Batch [516/1654] Loss: 1.4916\n",
            "Epoch [4/5] Batch [517/1654] Loss: 1.4481\n",
            "Epoch [4/5] Batch [518/1654] Loss: 1.6681\n",
            "Epoch [4/5] Batch [519/1654] Loss: 1.2013\n",
            "Epoch [4/5] Batch [520/1654] Loss: 1.4284\n",
            "Epoch [4/5] Batch [521/1654] Loss: 1.2699\n",
            "Epoch [4/5] Batch [522/1654] Loss: 1.3625\n",
            "Epoch [4/5] Batch [523/1654] Loss: 1.2622\n"
          ]
        },
        {
          "output_type": "stream",
          "name": "stderr",
          "text": [
            " 32%|███▏      | 528/1654 [00:16<00:32, 34.77it/s]"
          ]
        },
        {
          "output_type": "stream",
          "name": "stdout",
          "text": [
            "Epoch [4/5] Batch [524/1654] Loss: 1.3453\n",
            "Epoch [4/5] Batch [525/1654] Loss: 1.2266\n",
            "Epoch [4/5] Batch [526/1654] Loss: 1.3685\n",
            "Epoch [4/5] Batch [527/1654] Loss: 1.2894\n",
            "Epoch [4/5] Batch [528/1654] Loss: 1.2099\n",
            "Epoch [4/5] Batch [529/1654] Loss: 1.2612\n",
            "Epoch [4/5] Batch [530/1654] Loss: 1.6810\n",
            "Epoch [4/5] Batch [531/1654] Loss: 1.2480\n"
          ]
        },
        {
          "output_type": "stream",
          "name": "stderr",
          "text": [
            " 32%|███▏      | 536/1654 [00:16<00:32, 34.75it/s]"
          ]
        },
        {
          "output_type": "stream",
          "name": "stdout",
          "text": [
            "Epoch [4/5] Batch [532/1654] Loss: 1.7049\n",
            "Epoch [4/5] Batch [533/1654] Loss: 1.7530\n",
            "Epoch [4/5] Batch [534/1654] Loss: 1.1513\n",
            "Epoch [4/5] Batch [535/1654] Loss: 1.4969\n",
            "Epoch [4/5] Batch [536/1654] Loss: 1.7454\n",
            "Epoch [4/5] Batch [537/1654] Loss: 1.3068\n",
            "Epoch [4/5] Batch [538/1654] Loss: 1.4278\n",
            "Epoch [4/5] Batch [539/1654] Loss: 1.5879\n"
          ]
        },
        {
          "output_type": "stream",
          "name": "stderr",
          "text": [
            " 33%|███▎      | 544/1654 [00:16<00:32, 34.59it/s]"
          ]
        },
        {
          "output_type": "stream",
          "name": "stdout",
          "text": [
            "Epoch [4/5] Batch [540/1654] Loss: 1.3979\n",
            "Epoch [4/5] Batch [541/1654] Loss: 1.1790\n",
            "Epoch [4/5] Batch [542/1654] Loss: 1.7370\n",
            "Epoch [4/5] Batch [543/1654] Loss: 1.3687\n",
            "Epoch [4/5] Batch [544/1654] Loss: 1.5721\n",
            "Epoch [4/5] Batch [545/1654] Loss: 1.1890\n",
            "Epoch [4/5] Batch [546/1654] Loss: 1.4447\n",
            "Epoch [4/5] Batch [547/1654] Loss: 1.5322\n"
          ]
        },
        {
          "output_type": "stream",
          "name": "stderr",
          "text": [
            " 33%|███▎      | 552/1654 [00:16<00:32, 34.18it/s]"
          ]
        },
        {
          "output_type": "stream",
          "name": "stdout",
          "text": [
            "Epoch [4/5] Batch [548/1654] Loss: 1.3196\n",
            "Epoch [4/5] Batch [549/1654] Loss: 1.2253\n",
            "Epoch [4/5] Batch [550/1654] Loss: 1.3422\n",
            "Epoch [4/5] Batch [551/1654] Loss: 1.6023\n",
            "Epoch [4/5] Batch [552/1654] Loss: 1.3735\n",
            "Epoch [4/5] Batch [553/1654] Loss: 1.3124\n",
            "Epoch [4/5] Batch [554/1654] Loss: 1.2353\n"
          ]
        },
        {
          "output_type": "stream",
          "name": "stderr",
          "text": [
            " 34%|███▍      | 560/1654 [00:17<00:31, 34.62it/s]"
          ]
        },
        {
          "output_type": "stream",
          "name": "stdout",
          "text": [
            "Epoch [4/5] Batch [555/1654] Loss: 1.1159\n",
            "Epoch [4/5] Batch [556/1654] Loss: 1.6728\n",
            "Epoch [4/5] Batch [557/1654] Loss: 1.6370\n",
            "Epoch [4/5] Batch [558/1654] Loss: 1.2633\n",
            "Epoch [4/5] Batch [559/1654] Loss: 1.2403\n",
            "Epoch [4/5] Batch [560/1654] Loss: 1.4654\n",
            "Epoch [4/5] Batch [561/1654] Loss: 1.4489\n",
            "Epoch [4/5] Batch [562/1654] Loss: 1.4060\n"
          ]
        },
        {
          "output_type": "stream",
          "name": "stderr",
          "text": [
            " 34%|███▍      | 568/1654 [00:17<00:31, 34.85it/s]"
          ]
        },
        {
          "output_type": "stream",
          "name": "stdout",
          "text": [
            "Epoch [4/5] Batch [563/1654] Loss: 1.5685\n",
            "Epoch [4/5] Batch [564/1654] Loss: 1.4442\n",
            "Epoch [4/5] Batch [565/1654] Loss: 1.4338\n",
            "Epoch [4/5] Batch [566/1654] Loss: 1.5971\n",
            "Epoch [4/5] Batch [567/1654] Loss: 1.2135\n",
            "Epoch [4/5] Batch [568/1654] Loss: 1.7024\n",
            "Epoch [4/5] Batch [569/1654] Loss: 1.1528\n",
            "Epoch [4/5] Batch [570/1654] Loss: 1.6225\n"
          ]
        },
        {
          "output_type": "stream",
          "name": "stderr",
          "text": [
            " 35%|███▍      | 576/1654 [00:17<00:30, 35.09it/s]"
          ]
        },
        {
          "output_type": "stream",
          "name": "stdout",
          "text": [
            "Epoch [4/5] Batch [571/1654] Loss: 1.5730\n",
            "Epoch [4/5] Batch [572/1654] Loss: 1.3505\n",
            "Epoch [4/5] Batch [573/1654] Loss: 2.0451\n",
            "Epoch [4/5] Batch [574/1654] Loss: 1.4356\n",
            "Epoch [4/5] Batch [575/1654] Loss: 1.3538\n",
            "Epoch [4/5] Batch [576/1654] Loss: 1.4221\n",
            "Epoch [4/5] Batch [577/1654] Loss: 1.4955\n",
            "Epoch [4/5] Batch [578/1654] Loss: 1.5831\n"
          ]
        },
        {
          "output_type": "stream",
          "name": "stderr",
          "text": [
            " 35%|███▌      | 584/1654 [00:17<00:30, 34.86it/s]"
          ]
        },
        {
          "output_type": "stream",
          "name": "stdout",
          "text": [
            "Epoch [4/5] Batch [579/1654] Loss: 1.4588\n",
            "Epoch [4/5] Batch [580/1654] Loss: 1.5289\n",
            "Epoch [4/5] Batch [581/1654] Loss: 1.0623\n",
            "Epoch [4/5] Batch [582/1654] Loss: 1.2218\n",
            "Epoch [4/5] Batch [583/1654] Loss: 1.4323\n",
            "Epoch [4/5] Batch [584/1654] Loss: 1.3912\n",
            "Epoch [4/5] Batch [585/1654] Loss: 1.6645\n"
          ]
        },
        {
          "output_type": "stream",
          "name": "stderr",
          "text": [
            " 36%|███▌      | 592/1654 [00:17<00:30, 34.48it/s]"
          ]
        },
        {
          "output_type": "stream",
          "name": "stdout",
          "text": [
            "Epoch [4/5] Batch [586/1654] Loss: 1.6336\n",
            "Epoch [4/5] Batch [587/1654] Loss: 1.7358\n",
            "Epoch [4/5] Batch [588/1654] Loss: 1.3425\n",
            "Epoch [4/5] Batch [589/1654] Loss: 1.8077\n",
            "Epoch [4/5] Batch [590/1654] Loss: 1.2196\n",
            "Epoch [4/5] Batch [591/1654] Loss: 1.7533\n",
            "Epoch [4/5] Batch [592/1654] Loss: 1.4162\n"
          ]
        },
        {
          "output_type": "stream",
          "name": "stderr",
          "text": [
            " 36%|███▋      | 600/1654 [00:18<00:30, 34.51it/s]"
          ]
        },
        {
          "output_type": "stream",
          "name": "stdout",
          "text": [
            "Epoch [4/5] Batch [593/1654] Loss: 1.1254\n",
            "Epoch [4/5] Batch [594/1654] Loss: 1.5824\n",
            "Epoch [4/5] Batch [595/1654] Loss: 1.5984\n",
            "Epoch [4/5] Batch [596/1654] Loss: 1.5103\n",
            "Epoch [4/5] Batch [597/1654] Loss: 1.2332\n",
            "Epoch [4/5] Batch [598/1654] Loss: 1.9052\n",
            "Epoch [4/5] Batch [599/1654] Loss: 1.7778\n",
            "Epoch [4/5] Batch [600/1654] Loss: 1.1874\n"
          ]
        },
        {
          "output_type": "stream",
          "name": "stderr",
          "text": [
            " 37%|███▋      | 608/1654 [00:18<00:30, 34.74it/s]"
          ]
        },
        {
          "output_type": "stream",
          "name": "stdout",
          "text": [
            "Epoch [4/5] Batch [601/1654] Loss: 1.2048\n",
            "Epoch [4/5] Batch [602/1654] Loss: 1.5841\n",
            "Epoch [4/5] Batch [603/1654] Loss: 1.4114\n",
            "Epoch [4/5] Batch [604/1654] Loss: 1.4235\n",
            "Epoch [4/5] Batch [605/1654] Loss: 1.6525\n",
            "Epoch [4/5] Batch [606/1654] Loss: 1.2243\n",
            "Epoch [4/5] Batch [607/1654] Loss: 1.6592\n",
            "Epoch [4/5] Batch [608/1654] Loss: 1.9117\n"
          ]
        },
        {
          "output_type": "stream",
          "name": "stderr",
          "text": [
            " 37%|███▋      | 616/1654 [00:18<00:29, 34.61it/s]"
          ]
        },
        {
          "output_type": "stream",
          "name": "stdout",
          "text": [
            "Epoch [4/5] Batch [609/1654] Loss: 1.4145\n",
            "Epoch [4/5] Batch [610/1654] Loss: 1.6203\n",
            "Epoch [4/5] Batch [611/1654] Loss: 1.4417\n",
            "Epoch [4/5] Batch [612/1654] Loss: 1.3996\n",
            "Epoch [4/5] Batch [613/1654] Loss: 1.2010\n",
            "Epoch [4/5] Batch [614/1654] Loss: 1.5117\n",
            "Epoch [4/5] Batch [615/1654] Loss: 1.2868\n",
            "Epoch [4/5] Batch [616/1654] Loss: 1.6623\n"
          ]
        },
        {
          "output_type": "stream",
          "name": "stderr",
          "text": [
            " 38%|███▊      | 624/1654 [00:18<00:29, 34.37it/s]"
          ]
        },
        {
          "output_type": "stream",
          "name": "stdout",
          "text": [
            "Epoch [4/5] Batch [617/1654] Loss: 1.4573\n",
            "Epoch [4/5] Batch [618/1654] Loss: 1.4917\n",
            "Epoch [4/5] Batch [619/1654] Loss: 1.7305\n",
            "Epoch [4/5] Batch [620/1654] Loss: 1.3517\n",
            "Epoch [4/5] Batch [621/1654] Loss: 1.7330\n",
            "Epoch [4/5] Batch [622/1654] Loss: 1.3018\n",
            "Epoch [4/5] Batch [623/1654] Loss: 1.3326\n",
            "Epoch [4/5] Batch [624/1654] Loss: 1.1846\n"
          ]
        },
        {
          "output_type": "stream",
          "name": "stderr",
          "text": [
            " 38%|███▊      | 632/1654 [00:19<00:29, 34.86it/s]"
          ]
        },
        {
          "output_type": "stream",
          "name": "stdout",
          "text": [
            "Epoch [4/5] Batch [625/1654] Loss: 1.4011\n",
            "Epoch [4/5] Batch [626/1654] Loss: 1.2152\n",
            "Epoch [4/5] Batch [627/1654] Loss: 1.5056\n",
            "Epoch [4/5] Batch [628/1654] Loss: 1.4971\n",
            "Epoch [4/5] Batch [629/1654] Loss: 1.6739\n",
            "Epoch [4/5] Batch [630/1654] Loss: 1.8991\n",
            "Epoch [4/5] Batch [631/1654] Loss: 1.6641\n",
            "Epoch [4/5] Batch [632/1654] Loss: 1.3647\n"
          ]
        },
        {
          "output_type": "stream",
          "name": "stderr",
          "text": [
            " 39%|███▊      | 640/1654 [00:19<00:28, 35.28it/s]"
          ]
        },
        {
          "output_type": "stream",
          "name": "stdout",
          "text": [
            "Epoch [4/5] Batch [633/1654] Loss: 1.5587\n",
            "Epoch [4/5] Batch [634/1654] Loss: 1.5127\n",
            "Epoch [4/5] Batch [635/1654] Loss: 1.5028\n",
            "Epoch [4/5] Batch [636/1654] Loss: 1.5351\n",
            "Epoch [4/5] Batch [637/1654] Loss: 1.4311\n",
            "Epoch [4/5] Batch [638/1654] Loss: 1.7382\n",
            "Epoch [4/5] Batch [639/1654] Loss: 1.6057\n",
            "Epoch [4/5] Batch [640/1654] Loss: 1.2871\n"
          ]
        },
        {
          "output_type": "stream",
          "name": "stderr",
          "text": [
            " 39%|███▉      | 648/1654 [00:19<00:28, 35.46it/s]"
          ]
        },
        {
          "output_type": "stream",
          "name": "stdout",
          "text": [
            "Epoch [4/5] Batch [641/1654] Loss: 1.7600\n",
            "Epoch [4/5] Batch [642/1654] Loss: 1.7971\n",
            "Epoch [4/5] Batch [643/1654] Loss: 1.5979\n",
            "Epoch [4/5] Batch [644/1654] Loss: 1.2219\n",
            "Epoch [4/5] Batch [645/1654] Loss: 1.3126\n",
            "Epoch [4/5] Batch [646/1654] Loss: 1.7597\n",
            "Epoch [4/5] Batch [647/1654] Loss: 1.5693\n",
            "Epoch [4/5] Batch [648/1654] Loss: 1.8082\n"
          ]
        },
        {
          "output_type": "stream",
          "name": "stderr",
          "text": [
            " 40%|███▉      | 656/1654 [00:19<00:28, 34.99it/s]"
          ]
        },
        {
          "output_type": "stream",
          "name": "stdout",
          "text": [
            "Epoch [4/5] Batch [649/1654] Loss: 1.6227\n",
            "Epoch [4/5] Batch [650/1654] Loss: 1.6843\n",
            "Epoch [4/5] Batch [651/1654] Loss: 1.3871\n",
            "Epoch [4/5] Batch [652/1654] Loss: 1.3557\n",
            "Epoch [4/5] Batch [653/1654] Loss: 1.5791\n",
            "Epoch [4/5] Batch [654/1654] Loss: 1.6924\n",
            "Epoch [4/5] Batch [655/1654] Loss: 1.3143\n",
            "Epoch [4/5] Batch [656/1654] Loss: 1.5768\n"
          ]
        },
        {
          "output_type": "stream",
          "name": "stderr",
          "text": [
            " 40%|████      | 664/1654 [00:20<00:28, 34.66it/s]"
          ]
        },
        {
          "output_type": "stream",
          "name": "stdout",
          "text": [
            "Epoch [4/5] Batch [657/1654] Loss: 1.5852\n",
            "Epoch [4/5] Batch [658/1654] Loss: 1.2072\n",
            "Epoch [4/5] Batch [659/1654] Loss: 1.5780\n",
            "Epoch [4/5] Batch [660/1654] Loss: 1.7034\n",
            "Epoch [4/5] Batch [661/1654] Loss: 1.4184\n",
            "Epoch [4/5] Batch [662/1654] Loss: 1.5725\n",
            "Epoch [4/5] Batch [663/1654] Loss: 1.3825\n",
            "Epoch [4/5] Batch [664/1654] Loss: 1.3733\n"
          ]
        },
        {
          "output_type": "stream",
          "name": "stderr",
          "text": [
            " 41%|████      | 672/1654 [00:20<00:27, 35.15it/s]"
          ]
        },
        {
          "output_type": "stream",
          "name": "stdout",
          "text": [
            "Epoch [4/5] Batch [665/1654] Loss: 1.5421\n",
            "Epoch [4/5] Batch [666/1654] Loss: 1.6102\n",
            "Epoch [4/5] Batch [667/1654] Loss: 1.4722\n",
            "Epoch [4/5] Batch [668/1654] Loss: 1.2357\n",
            "Epoch [4/5] Batch [669/1654] Loss: 1.5524\n",
            "Epoch [4/5] Batch [670/1654] Loss: 1.7489\n",
            "Epoch [4/5] Batch [671/1654] Loss: 1.3071\n",
            "Epoch [4/5] Batch [672/1654] Loss: 1.4770\n"
          ]
        },
        {
          "output_type": "stream",
          "name": "stderr",
          "text": [
            " 41%|████      | 680/1654 [00:20<00:27, 35.02it/s]"
          ]
        },
        {
          "output_type": "stream",
          "name": "stdout",
          "text": [
            "Epoch [4/5] Batch [673/1654] Loss: 1.5975\n",
            "Epoch [4/5] Batch [674/1654] Loss: 1.1198\n",
            "Epoch [4/5] Batch [675/1654] Loss: 1.6208\n",
            "Epoch [4/5] Batch [676/1654] Loss: 1.4608\n",
            "Epoch [4/5] Batch [677/1654] Loss: 1.4459\n",
            "Epoch [4/5] Batch [678/1654] Loss: 1.5520\n",
            "Epoch [4/5] Batch [679/1654] Loss: 1.2873\n",
            "Epoch [4/5] Batch [680/1654] Loss: 1.6245\n"
          ]
        },
        {
          "output_type": "stream",
          "name": "stderr",
          "text": [
            " 42%|████▏     | 688/1654 [00:20<00:27, 35.41it/s]"
          ]
        },
        {
          "output_type": "stream",
          "name": "stdout",
          "text": [
            "Epoch [4/5] Batch [681/1654] Loss: 1.2498\n",
            "Epoch [4/5] Batch [682/1654] Loss: 1.4658\n",
            "Epoch [4/5] Batch [683/1654] Loss: 1.4431\n",
            "Epoch [4/5] Batch [684/1654] Loss: 1.4412\n",
            "Epoch [4/5] Batch [685/1654] Loss: 1.3061\n",
            "Epoch [4/5] Batch [686/1654] Loss: 1.5179\n",
            "Epoch [4/5] Batch [687/1654] Loss: 1.6658\n",
            "Epoch [4/5] Batch [688/1654] Loss: 1.1979\n"
          ]
        },
        {
          "output_type": "stream",
          "name": "stderr",
          "text": [
            "\r 42%|████▏     | 692/1654 [00:20<00:27, 34.91it/s]"
          ]
        },
        {
          "output_type": "stream",
          "name": "stdout",
          "text": [
            "Epoch [4/5] Batch [689/1654] Loss: 1.7114\n",
            "Epoch [4/5] Batch [690/1654] Loss: 1.5830\n",
            "Epoch [4/5] Batch [691/1654] Loss: 1.2852\n",
            "Epoch [4/5] Batch [692/1654] Loss: 1.5509\n",
            "Epoch [4/5] Batch [693/1654] Loss: 1.3028\n",
            "Epoch [4/5] Batch [694/1654] Loss: 1.1851\n",
            "Epoch [4/5] Batch [695/1654] Loss: 1.5491\n"
          ]
        },
        {
          "output_type": "stream",
          "name": "stderr",
          "text": [
            " 42%|████▏     | 700/1654 [00:21<00:27, 34.47it/s]"
          ]
        },
        {
          "output_type": "stream",
          "name": "stdout",
          "text": [
            "Epoch [4/5] Batch [696/1654] Loss: 1.5078\n",
            "Epoch [4/5] Batch [697/1654] Loss: 1.3860\n",
            "Epoch [4/5] Batch [698/1654] Loss: 1.5481\n",
            "Epoch [4/5] Batch [699/1654] Loss: 1.5913\n",
            "Epoch [4/5] Batch [700/1654] Loss: 1.4903\n",
            "Epoch [4/5] Batch [701/1654] Loss: 1.2750\n",
            "Epoch [4/5] Batch [702/1654] Loss: 1.2430\n",
            "Epoch [4/5] Batch [703/1654] Loss: 1.6177\n"
          ]
        },
        {
          "output_type": "stream",
          "name": "stderr",
          "text": [
            " 43%|████▎     | 708/1654 [00:21<00:27, 34.60it/s]"
          ]
        },
        {
          "output_type": "stream",
          "name": "stdout",
          "text": [
            "Epoch [4/5] Batch [704/1654] Loss: 1.1582\n",
            "Epoch [4/5] Batch [705/1654] Loss: 1.3380\n",
            "Epoch [4/5] Batch [706/1654] Loss: 1.6231\n",
            "Epoch [4/5] Batch [707/1654] Loss: 1.4856\n",
            "Epoch [4/5] Batch [708/1654] Loss: 1.5342\n",
            "Epoch [4/5] Batch [709/1654] Loss: 1.5924\n",
            "Epoch [4/5] Batch [710/1654] Loss: 1.5356\n",
            "Epoch [4/5] Batch [711/1654] Loss: 1.1845\n"
          ]
        },
        {
          "output_type": "stream",
          "name": "stderr",
          "text": [
            " 43%|████▎     | 716/1654 [00:21<00:26, 35.10it/s]"
          ]
        },
        {
          "output_type": "stream",
          "name": "stdout",
          "text": [
            "Epoch [4/5] Batch [712/1654] Loss: 1.6274\n",
            "Epoch [4/5] Batch [713/1654] Loss: 1.3978\n",
            "Epoch [4/5] Batch [714/1654] Loss: 1.4370\n",
            "Epoch [4/5] Batch [715/1654] Loss: 1.1958\n",
            "Epoch [4/5] Batch [716/1654] Loss: 1.4205\n",
            "Epoch [4/5] Batch [717/1654] Loss: 1.4248\n",
            "Epoch [4/5] Batch [718/1654] Loss: 1.4010\n",
            "Epoch [4/5] Batch [719/1654] Loss: 1.5271\n"
          ]
        },
        {
          "output_type": "stream",
          "name": "stderr",
          "text": [
            " 44%|████▍     | 724/1654 [00:21<00:26, 35.16it/s]"
          ]
        },
        {
          "output_type": "stream",
          "name": "stdout",
          "text": [
            "Epoch [4/5] Batch [720/1654] Loss: 1.2941\n",
            "Epoch [4/5] Batch [721/1654] Loss: 1.8346\n",
            "Epoch [4/5] Batch [722/1654] Loss: 1.5632\n",
            "Epoch [4/5] Batch [723/1654] Loss: 1.5214\n",
            "Epoch [4/5] Batch [724/1654] Loss: 1.1649\n",
            "Epoch [4/5] Batch [725/1654] Loss: 1.2586\n",
            "Epoch [4/5] Batch [726/1654] Loss: 1.3937\n",
            "Epoch [4/5] Batch [727/1654] Loss: 1.3627\n"
          ]
        },
        {
          "output_type": "stream",
          "name": "stderr",
          "text": [
            " 44%|████▍     | 732/1654 [00:22<00:27, 33.61it/s]"
          ]
        },
        {
          "output_type": "stream",
          "name": "stdout",
          "text": [
            "Epoch [4/5] Batch [728/1654] Loss: 1.5449\n",
            "Epoch [4/5] Batch [729/1654] Loss: 1.4192\n",
            "Epoch [4/5] Batch [730/1654] Loss: 1.4980\n",
            "Epoch [4/5] Batch [731/1654] Loss: 1.3684\n",
            "Epoch [4/5] Batch [732/1654] Loss: 1.5564\n",
            "Epoch [4/5] Batch [733/1654] Loss: 1.4789\n",
            "Epoch [4/5] Batch [734/1654] Loss: 1.3472\n"
          ]
        },
        {
          "output_type": "stream",
          "name": "stderr",
          "text": [
            " 45%|████▍     | 740/1654 [00:22<00:26, 34.94it/s]"
          ]
        },
        {
          "output_type": "stream",
          "name": "stdout",
          "text": [
            "Epoch [4/5] Batch [735/1654] Loss: 1.6705\n",
            "Epoch [4/5] Batch [736/1654] Loss: 1.5402\n",
            "Epoch [4/5] Batch [737/1654] Loss: 1.5637\n",
            "Epoch [4/5] Batch [738/1654] Loss: 1.4906\n",
            "Epoch [4/5] Batch [739/1654] Loss: 1.5243\n",
            "Epoch [4/5] Batch [740/1654] Loss: 1.4777\n",
            "Epoch [4/5] Batch [741/1654] Loss: 1.5974\n",
            "Epoch [4/5] Batch [742/1654] Loss: 1.5165\n"
          ]
        },
        {
          "output_type": "stream",
          "name": "stderr",
          "text": [
            " 45%|████▌     | 748/1654 [00:22<00:25, 35.09it/s]"
          ]
        },
        {
          "output_type": "stream",
          "name": "stdout",
          "text": [
            "Epoch [4/5] Batch [743/1654] Loss: 1.3803\n",
            "Epoch [4/5] Batch [744/1654] Loss: 1.4770\n",
            "Epoch [4/5] Batch [745/1654] Loss: 1.3227\n",
            "Epoch [4/5] Batch [746/1654] Loss: 1.4462\n",
            "Epoch [4/5] Batch [747/1654] Loss: 1.4895\n",
            "Epoch [4/5] Batch [748/1654] Loss: 1.2361\n",
            "Epoch [4/5] Batch [749/1654] Loss: 1.1292\n",
            "Epoch [4/5] Batch [750/1654] Loss: 1.2883\n"
          ]
        },
        {
          "output_type": "stream",
          "name": "stderr",
          "text": [
            " 46%|████▌     | 756/1654 [00:22<00:25, 35.64it/s]"
          ]
        },
        {
          "output_type": "stream",
          "name": "stdout",
          "text": [
            "Epoch [4/5] Batch [751/1654] Loss: 1.6370\n",
            "Epoch [4/5] Batch [752/1654] Loss: 1.6375\n",
            "Epoch [4/5] Batch [753/1654] Loss: 1.2869\n",
            "Epoch [4/5] Batch [754/1654] Loss: 1.4740\n",
            "Epoch [4/5] Batch [755/1654] Loss: 1.4863\n",
            "Epoch [4/5] Batch [756/1654] Loss: 1.3315\n",
            "Epoch [4/5] Batch [757/1654] Loss: 1.3418\n",
            "Epoch [4/5] Batch [758/1654] Loss: 1.2763\n"
          ]
        },
        {
          "output_type": "stream",
          "name": "stderr",
          "text": [
            " 46%|████▌     | 764/1654 [00:22<00:25, 35.40it/s]"
          ]
        },
        {
          "output_type": "stream",
          "name": "stdout",
          "text": [
            "Epoch [4/5] Batch [759/1654] Loss: 1.3565\n",
            "Epoch [4/5] Batch [760/1654] Loss: 1.6971\n",
            "Epoch [4/5] Batch [761/1654] Loss: 1.5715\n",
            "Epoch [4/5] Batch [762/1654] Loss: 1.5681\n",
            "Epoch [4/5] Batch [763/1654] Loss: 1.4949\n",
            "Epoch [4/5] Batch [764/1654] Loss: 1.2663\n",
            "Epoch [4/5] Batch [765/1654] Loss: 1.6891\n"
          ]
        },
        {
          "output_type": "stream",
          "name": "stderr",
          "text": [
            " 47%|████▋     | 772/1654 [00:23<00:25, 34.85it/s]"
          ]
        },
        {
          "output_type": "stream",
          "name": "stdout",
          "text": [
            "Epoch [4/5] Batch [766/1654] Loss: 1.4505\n",
            "Epoch [4/5] Batch [767/1654] Loss: 2.3110\n",
            "Epoch [4/5] Batch [768/1654] Loss: 1.1409\n",
            "Epoch [4/5] Batch [769/1654] Loss: 1.5719\n",
            "Epoch [4/5] Batch [770/1654] Loss: 1.6396\n",
            "Epoch [4/5] Batch [771/1654] Loss: 1.3482\n",
            "Epoch [4/5] Batch [772/1654] Loss: 1.3566\n"
          ]
        },
        {
          "output_type": "stream",
          "name": "stderr",
          "text": [
            " 47%|████▋     | 780/1654 [00:23<00:25, 34.88it/s]"
          ]
        },
        {
          "output_type": "stream",
          "name": "stdout",
          "text": [
            "Epoch [4/5] Batch [773/1654] Loss: 1.6313\n",
            "Epoch [4/5] Batch [774/1654] Loss: 1.5821\n",
            "Epoch [4/5] Batch [775/1654] Loss: 1.3039\n",
            "Epoch [4/5] Batch [776/1654] Loss: 1.3273\n",
            "Epoch [4/5] Batch [777/1654] Loss: 1.4112\n",
            "Epoch [4/5] Batch [778/1654] Loss: 1.3500\n",
            "Epoch [4/5] Batch [779/1654] Loss: 1.7238\n",
            "Epoch [4/5] Batch [780/1654] Loss: 1.5431\n"
          ]
        },
        {
          "output_type": "stream",
          "name": "stderr",
          "text": [
            " 48%|████▊     | 788/1654 [00:23<00:24, 35.06it/s]"
          ]
        },
        {
          "output_type": "stream",
          "name": "stdout",
          "text": [
            "Epoch [4/5] Batch [781/1654] Loss: 1.6371\n",
            "Epoch [4/5] Batch [782/1654] Loss: 1.4864\n",
            "Epoch [4/5] Batch [783/1654] Loss: 1.2761\n",
            "Epoch [4/5] Batch [784/1654] Loss: 1.2911\n",
            "Epoch [4/5] Batch [785/1654] Loss: 1.3069\n",
            "Epoch [4/5] Batch [786/1654] Loss: 1.5133\n",
            "Epoch [4/5] Batch [787/1654] Loss: 1.6389\n",
            "Epoch [4/5] Batch [788/1654] Loss: 1.4320\n"
          ]
        },
        {
          "output_type": "stream",
          "name": "stderr",
          "text": [
            " 48%|████▊     | 796/1654 [00:23<00:24, 35.43it/s]"
          ]
        },
        {
          "output_type": "stream",
          "name": "stdout",
          "text": [
            "Epoch [4/5] Batch [789/1654] Loss: 1.5904\n",
            "Epoch [4/5] Batch [790/1654] Loss: 1.5671\n",
            "Epoch [4/5] Batch [791/1654] Loss: 1.5467\n",
            "Epoch [4/5] Batch [792/1654] Loss: 1.5344\n",
            "Epoch [4/5] Batch [793/1654] Loss: 1.5635\n",
            "Epoch [4/5] Batch [794/1654] Loss: 1.6311\n",
            "Epoch [4/5] Batch [795/1654] Loss: 1.3785\n",
            "Epoch [4/5] Batch [796/1654] Loss: 1.3272\n"
          ]
        },
        {
          "output_type": "stream",
          "name": "stderr",
          "text": [
            " 49%|████▊     | 804/1654 [00:24<00:24, 35.19it/s]"
          ]
        },
        {
          "output_type": "stream",
          "name": "stdout",
          "text": [
            "Epoch [4/5] Batch [797/1654] Loss: 1.7946\n",
            "Epoch [4/5] Batch [798/1654] Loss: 1.3782\n",
            "Epoch [4/5] Batch [799/1654] Loss: 1.5201\n",
            "Epoch [4/5] Batch [800/1654] Loss: 1.2930\n",
            "Epoch [4/5] Batch [801/1654] Loss: 1.6515\n",
            "Epoch [4/5] Batch [802/1654] Loss: 1.2916\n",
            "Epoch [4/5] Batch [803/1654] Loss: 1.5367\n",
            "Epoch [4/5] Batch [804/1654] Loss: 1.2658\n"
          ]
        },
        {
          "output_type": "stream",
          "name": "stderr",
          "text": [
            " 49%|████▉     | 812/1654 [00:24<00:24, 34.70it/s]"
          ]
        },
        {
          "output_type": "stream",
          "name": "stdout",
          "text": [
            "Epoch [4/5] Batch [805/1654] Loss: 1.6721\n",
            "Epoch [4/5] Batch [806/1654] Loss: 1.1454\n",
            "Epoch [4/5] Batch [807/1654] Loss: 1.4002\n",
            "Epoch [4/5] Batch [808/1654] Loss: 1.5723\n",
            "Epoch [4/5] Batch [809/1654] Loss: 1.4264\n",
            "Epoch [4/5] Batch [810/1654] Loss: 1.2723\n",
            "Epoch [4/5] Batch [811/1654] Loss: 1.8744\n",
            "Epoch [4/5] Batch [812/1654] Loss: 1.3103\n"
          ]
        },
        {
          "output_type": "stream",
          "name": "stderr",
          "text": [
            " 50%|████▉     | 820/1654 [00:24<00:23, 35.18it/s]"
          ]
        },
        {
          "output_type": "stream",
          "name": "stdout",
          "text": [
            "Epoch [4/5] Batch [813/1654] Loss: 1.2110\n",
            "Epoch [4/5] Batch [814/1654] Loss: 1.4754\n",
            "Epoch [4/5] Batch [815/1654] Loss: 1.8079\n",
            "Epoch [4/5] Batch [816/1654] Loss: 1.5811\n",
            "Epoch [4/5] Batch [817/1654] Loss: 1.4951\n",
            "Epoch [4/5] Batch [818/1654] Loss: 1.3152\n",
            "Epoch [4/5] Batch [819/1654] Loss: 1.5263\n",
            "Epoch [4/5] Batch [820/1654] Loss: 1.4558\n"
          ]
        },
        {
          "output_type": "stream",
          "name": "stderr",
          "text": [
            "\r 50%|████▉     | 824/1654 [00:24<00:24, 33.96it/s]"
          ]
        },
        {
          "output_type": "stream",
          "name": "stdout",
          "text": [
            "Epoch [4/5] Batch [821/1654] Loss: 1.5317\n",
            "Epoch [4/5] Batch [822/1654] Loss: 1.5144\n",
            "Epoch [4/5] Batch [823/1654] Loss: 1.5796\n",
            "Epoch [4/5] Batch [824/1654] Loss: 1.1216\n",
            "Epoch [4/5] Batch [825/1654] Loss: 1.5575\n",
            "Epoch [4/5] Batch [826/1654] Loss: 1.3458\n",
            "Epoch [4/5] Batch [827/1654] Loss: 1.1728\n"
          ]
        },
        {
          "output_type": "stream",
          "name": "stderr",
          "text": [
            " 50%|█████     | 832/1654 [00:24<00:25, 31.62it/s]"
          ]
        },
        {
          "output_type": "stream",
          "name": "stdout",
          "text": [
            "Epoch [4/5] Batch [828/1654] Loss: 1.3744\n",
            "Epoch [4/5] Batch [829/1654] Loss: 1.2817\n",
            "Epoch [4/5] Batch [830/1654] Loss: 1.5656\n",
            "Epoch [4/5] Batch [831/1654] Loss: 1.5779\n",
            "Epoch [4/5] Batch [832/1654] Loss: 1.4164\n",
            "Epoch [4/5] Batch [833/1654] Loss: 1.3105\n"
          ]
        },
        {
          "output_type": "stream",
          "name": "stderr",
          "text": [
            "\r 51%|█████     | 836/1654 [00:25<00:27, 29.66it/s]"
          ]
        },
        {
          "output_type": "stream",
          "name": "stdout",
          "text": [
            "Epoch [4/5] Batch [834/1654] Loss: 1.6639\n",
            "Epoch [4/5] Batch [835/1654] Loss: 1.6093\n",
            "Epoch [4/5] Batch [836/1654] Loss: 1.4120\n",
            "Epoch [4/5] Batch [837/1654] Loss: 1.5265\n",
            "Epoch [4/5] Batch [838/1654] Loss: 1.5868\n",
            "Epoch [4/5] Batch [839/1654] Loss: 1.3330\n"
          ]
        },
        {
          "output_type": "stream",
          "name": "stderr",
          "text": [
            " 51%|█████     | 843/1654 [00:25<00:28, 28.73it/s]"
          ]
        },
        {
          "output_type": "stream",
          "name": "stdout",
          "text": [
            "Epoch [4/5] Batch [840/1654] Loss: 1.3376\n",
            "Epoch [4/5] Batch [841/1654] Loss: 1.8235\n",
            "Epoch [4/5] Batch [842/1654] Loss: 1.5560\n",
            "Epoch [4/5] Batch [843/1654] Loss: 1.5344\n",
            "Epoch [4/5] Batch [844/1654] Loss: 1.4248\n",
            "Epoch [4/5] Batch [845/1654] Loss: 1.4495\n"
          ]
        },
        {
          "output_type": "stream",
          "name": "stderr",
          "text": [
            " 51%|█████▏    | 849/1654 [00:25<00:27, 28.97it/s]"
          ]
        },
        {
          "output_type": "stream",
          "name": "stdout",
          "text": [
            "Epoch [4/5] Batch [846/1654] Loss: 1.4226\n",
            "Epoch [4/5] Batch [847/1654] Loss: 1.2504\n",
            "Epoch [4/5] Batch [848/1654] Loss: 1.8701\n",
            "Epoch [4/5] Batch [849/1654] Loss: 1.6947\n",
            "Epoch [4/5] Batch [850/1654] Loss: 1.4119\n",
            "Epoch [4/5] Batch [851/1654] Loss: 1.4690\n"
          ]
        },
        {
          "output_type": "stream",
          "name": "stderr",
          "text": [
            " 52%|█████▏    | 855/1654 [00:25<00:28, 28.12it/s]"
          ]
        },
        {
          "output_type": "stream",
          "name": "stdout",
          "text": [
            "Epoch [4/5] Batch [852/1654] Loss: 1.6789\n",
            "Epoch [4/5] Batch [853/1654] Loss: 1.7373\n",
            "Epoch [4/5] Batch [854/1654] Loss: 1.5164\n",
            "Epoch [4/5] Batch [855/1654] Loss: 1.6728\n",
            "Epoch [4/5] Batch [856/1654] Loss: 1.7313\n",
            "Epoch [4/5] Batch [857/1654] Loss: 1.7995\n"
          ]
        },
        {
          "output_type": "stream",
          "name": "stderr",
          "text": [
            " 52%|█████▏    | 861/1654 [00:25<00:28, 27.67it/s]"
          ]
        },
        {
          "output_type": "stream",
          "name": "stdout",
          "text": [
            "Epoch [4/5] Batch [858/1654] Loss: 1.4208\n",
            "Epoch [4/5] Batch [859/1654] Loss: 1.1306\n",
            "Epoch [4/5] Batch [860/1654] Loss: 1.2874\n",
            "Epoch [4/5] Batch [861/1654] Loss: 1.4808\n",
            "Epoch [4/5] Batch [862/1654] Loss: 1.2611\n",
            "Epoch [4/5] Batch [863/1654] Loss: 1.1563\n",
            "Epoch [4/5] Batch [864/1654] Loss: 1.6037\n"
          ]
        },
        {
          "output_type": "stream",
          "name": "stderr",
          "text": [
            " 52%|█████▏    | 868/1654 [00:26<00:27, 28.49it/s]"
          ]
        },
        {
          "output_type": "stream",
          "name": "stdout",
          "text": [
            "Epoch [4/5] Batch [865/1654] Loss: 1.6717\n",
            "Epoch [4/5] Batch [866/1654] Loss: 1.4816\n",
            "Epoch [4/5] Batch [867/1654] Loss: 1.5176\n",
            "Epoch [4/5] Batch [868/1654] Loss: 1.2416\n",
            "Epoch [4/5] Batch [869/1654] Loss: 1.4023\n",
            "Epoch [4/5] Batch [870/1654] Loss: 1.4941\n"
          ]
        },
        {
          "output_type": "stream",
          "name": "stderr",
          "text": [
            " 53%|█████▎    | 874/1654 [00:26<00:28, 27.30it/s]"
          ]
        },
        {
          "output_type": "stream",
          "name": "stdout",
          "text": [
            "Epoch [4/5] Batch [871/1654] Loss: 1.2646\n",
            "Epoch [4/5] Batch [872/1654] Loss: 1.2702\n",
            "Epoch [4/5] Batch [873/1654] Loss: 1.2704\n",
            "Epoch [4/5] Batch [874/1654] Loss: 1.7957\n",
            "Epoch [4/5] Batch [875/1654] Loss: 1.8234\n",
            "Epoch [4/5] Batch [876/1654] Loss: 1.5881\n"
          ]
        },
        {
          "output_type": "stream",
          "name": "stderr",
          "text": [
            " 53%|█████▎    | 880/1654 [00:26<00:29, 26.65it/s]"
          ]
        },
        {
          "output_type": "stream",
          "name": "stdout",
          "text": [
            "Epoch [4/5] Batch [877/1654] Loss: 1.5139\n",
            "Epoch [4/5] Batch [878/1654] Loss: 1.5647\n",
            "Epoch [4/5] Batch [879/1654] Loss: 1.8808\n",
            "Epoch [4/5] Batch [880/1654] Loss: 1.7551\n",
            "Epoch [4/5] Batch [881/1654] Loss: 1.5779\n",
            "Epoch [4/5] Batch [882/1654] Loss: 1.2189\n"
          ]
        },
        {
          "output_type": "stream",
          "name": "stderr",
          "text": [
            " 54%|█████▎    | 886/1654 [00:26<00:29, 26.03it/s]"
          ]
        },
        {
          "output_type": "stream",
          "name": "stdout",
          "text": [
            "Epoch [4/5] Batch [883/1654] Loss: 1.4349\n",
            "Epoch [4/5] Batch [884/1654] Loss: 1.4175\n",
            "Epoch [4/5] Batch [885/1654] Loss: 1.3909\n",
            "Epoch [4/5] Batch [886/1654] Loss: 1.7211\n",
            "Epoch [4/5] Batch [887/1654] Loss: 1.2485\n",
            "Epoch [4/5] Batch [888/1654] Loss: 1.5153\n"
          ]
        },
        {
          "output_type": "stream",
          "name": "stderr",
          "text": [
            " 54%|█████▍    | 893/1654 [00:27<00:27, 27.81it/s]"
          ]
        },
        {
          "output_type": "stream",
          "name": "stdout",
          "text": [
            "Epoch [4/5] Batch [889/1654] Loss: 1.8490\n",
            "Epoch [4/5] Batch [890/1654] Loss: 1.7611\n",
            "Epoch [4/5] Batch [891/1654] Loss: 1.3987\n",
            "Epoch [4/5] Batch [892/1654] Loss: 1.4124\n",
            "Epoch [4/5] Batch [893/1654] Loss: 1.6224\n",
            "Epoch [4/5] Batch [894/1654] Loss: 1.6435\n",
            "Epoch [4/5] Batch [895/1654] Loss: 1.2235\n"
          ]
        },
        {
          "output_type": "stream",
          "name": "stderr",
          "text": [
            " 54%|█████▍    | 900/1654 [00:27<00:25, 30.07it/s]"
          ]
        },
        {
          "output_type": "stream",
          "name": "stdout",
          "text": [
            "Epoch [4/5] Batch [896/1654] Loss: 1.2852\n",
            "Epoch [4/5] Batch [897/1654] Loss: 1.2635\n",
            "Epoch [4/5] Batch [898/1654] Loss: 1.4068\n",
            "Epoch [4/5] Batch [899/1654] Loss: 1.4660\n",
            "Epoch [4/5] Batch [900/1654] Loss: 1.4237\n",
            "Epoch [4/5] Batch [901/1654] Loss: 1.3131\n",
            "Epoch [4/5] Batch [902/1654] Loss: 1.4769\n"
          ]
        },
        {
          "output_type": "stream",
          "name": "stderr",
          "text": [
            " 55%|█████▍    | 908/1654 [00:27<00:22, 32.50it/s]"
          ]
        },
        {
          "output_type": "stream",
          "name": "stdout",
          "text": [
            "Epoch [4/5] Batch [903/1654] Loss: 1.2755\n",
            "Epoch [4/5] Batch [904/1654] Loss: 1.4884\n",
            "Epoch [4/5] Batch [905/1654] Loss: 1.5463\n",
            "Epoch [4/5] Batch [906/1654] Loss: 1.5675\n",
            "Epoch [4/5] Batch [907/1654] Loss: 1.2359\n",
            "Epoch [4/5] Batch [908/1654] Loss: 1.6443\n",
            "Epoch [4/5] Batch [909/1654] Loss: 1.5344\n"
          ]
        },
        {
          "output_type": "stream",
          "name": "stderr",
          "text": [
            " 55%|█████▌    | 916/1654 [00:27<00:21, 34.01it/s]"
          ]
        },
        {
          "output_type": "stream",
          "name": "stdout",
          "text": [
            "Epoch [4/5] Batch [910/1654] Loss: 1.4443\n",
            "Epoch [4/5] Batch [911/1654] Loss: 1.3385\n",
            "Epoch [4/5] Batch [912/1654] Loss: 1.2003\n",
            "Epoch [4/5] Batch [913/1654] Loss: 1.8191\n",
            "Epoch [4/5] Batch [914/1654] Loss: 1.2247\n",
            "Epoch [4/5] Batch [915/1654] Loss: 1.2854\n",
            "Epoch [4/5] Batch [916/1654] Loss: 1.5169\n",
            "Epoch [4/5] Batch [917/1654] Loss: 1.3804\n"
          ]
        },
        {
          "output_type": "stream",
          "name": "stderr",
          "text": [
            " 56%|█████▌    | 924/1654 [00:28<00:20, 34.98it/s]"
          ]
        },
        {
          "output_type": "stream",
          "name": "stdout",
          "text": [
            "Epoch [4/5] Batch [918/1654] Loss: 1.1908\n",
            "Epoch [4/5] Batch [919/1654] Loss: 1.4693\n",
            "Epoch [4/5] Batch [920/1654] Loss: 1.1897\n",
            "Epoch [4/5] Batch [921/1654] Loss: 1.4806\n",
            "Epoch [4/5] Batch [922/1654] Loss: 1.6080\n",
            "Epoch [4/5] Batch [923/1654] Loss: 1.6489\n",
            "Epoch [4/5] Batch [924/1654] Loss: 1.3994\n",
            "Epoch [4/5] Batch [925/1654] Loss: 1.7591\n"
          ]
        },
        {
          "output_type": "stream",
          "name": "stderr",
          "text": [
            " 56%|█████▋    | 932/1654 [00:28<00:21, 33.72it/s]"
          ]
        },
        {
          "output_type": "stream",
          "name": "stdout",
          "text": [
            "Epoch [4/5] Batch [926/1654] Loss: 1.6153\n",
            "Epoch [4/5] Batch [927/1654] Loss: 1.0109\n",
            "Epoch [4/5] Batch [928/1654] Loss: 1.3793\n",
            "Epoch [4/5] Batch [929/1654] Loss: 1.5379\n",
            "Epoch [4/5] Batch [930/1654] Loss: 1.5610\n",
            "Epoch [4/5] Batch [931/1654] Loss: 1.3648\n",
            "Epoch [4/5] Batch [932/1654] Loss: 1.3052\n"
          ]
        },
        {
          "output_type": "stream",
          "name": "stderr",
          "text": [
            " 57%|█████▋    | 940/1654 [00:28<00:20, 34.45it/s]"
          ]
        },
        {
          "output_type": "stream",
          "name": "stdout",
          "text": [
            "Epoch [4/5] Batch [933/1654] Loss: 1.5454\n",
            "Epoch [4/5] Batch [934/1654] Loss: 1.2833\n",
            "Epoch [4/5] Batch [935/1654] Loss: 1.7027\n",
            "Epoch [4/5] Batch [936/1654] Loss: 1.6806\n",
            "Epoch [4/5] Batch [937/1654] Loss: 1.6660\n",
            "Epoch [4/5] Batch [938/1654] Loss: 1.5579\n",
            "Epoch [4/5] Batch [939/1654] Loss: 1.5553\n",
            "Epoch [4/5] Batch [940/1654] Loss: 1.5823\n"
          ]
        },
        {
          "output_type": "stream",
          "name": "stderr",
          "text": [
            " 57%|█████▋    | 948/1654 [00:28<00:20, 34.81it/s]"
          ]
        },
        {
          "output_type": "stream",
          "name": "stdout",
          "text": [
            "Epoch [4/5] Batch [941/1654] Loss: 1.3007\n",
            "Epoch [4/5] Batch [942/1654] Loss: 1.2805\n",
            "Epoch [4/5] Batch [943/1654] Loss: 1.6656\n",
            "Epoch [4/5] Batch [944/1654] Loss: 1.5299\n",
            "Epoch [4/5] Batch [945/1654] Loss: 1.4894\n",
            "Epoch [4/5] Batch [946/1654] Loss: 1.3746\n",
            "Epoch [4/5] Batch [947/1654] Loss: 1.3745\n",
            "Epoch [4/5] Batch [948/1654] Loss: 1.7876\n"
          ]
        },
        {
          "output_type": "stream",
          "name": "stderr",
          "text": [
            " 58%|█████▊    | 956/1654 [00:28<00:20, 34.69it/s]"
          ]
        },
        {
          "output_type": "stream",
          "name": "stdout",
          "text": [
            "Epoch [4/5] Batch [949/1654] Loss: 1.4739\n",
            "Epoch [4/5] Batch [950/1654] Loss: 1.5564\n",
            "Epoch [4/5] Batch [951/1654] Loss: 1.1148\n",
            "Epoch [4/5] Batch [952/1654] Loss: 1.3291\n",
            "Epoch [4/5] Batch [953/1654] Loss: 1.2942\n",
            "Epoch [4/5] Batch [954/1654] Loss: 1.5416\n",
            "Epoch [4/5] Batch [955/1654] Loss: 1.5199\n",
            "Epoch [4/5] Batch [956/1654] Loss: 1.4723\n"
          ]
        },
        {
          "output_type": "stream",
          "name": "stderr",
          "text": [
            " 58%|█████▊    | 964/1654 [00:29<00:20, 34.37it/s]"
          ]
        },
        {
          "output_type": "stream",
          "name": "stdout",
          "text": [
            "Epoch [4/5] Batch [957/1654] Loss: 1.9459\n",
            "Epoch [4/5] Batch [958/1654] Loss: 1.5878\n",
            "Epoch [4/5] Batch [959/1654] Loss: 1.4858\n",
            "Epoch [4/5] Batch [960/1654] Loss: 1.4776\n",
            "Epoch [4/5] Batch [961/1654] Loss: 1.5099\n",
            "Epoch [4/5] Batch [962/1654] Loss: 1.4740\n",
            "Epoch [4/5] Batch [963/1654] Loss: 1.3484\n",
            "Epoch [4/5] Batch [964/1654] Loss: 1.0856\n"
          ]
        },
        {
          "output_type": "stream",
          "name": "stderr",
          "text": [
            " 59%|█████▉    | 972/1654 [00:29<00:20, 33.97it/s]"
          ]
        },
        {
          "output_type": "stream",
          "name": "stdout",
          "text": [
            "Epoch [4/5] Batch [965/1654] Loss: 1.5746\n",
            "Epoch [4/5] Batch [966/1654] Loss: 1.5786\n",
            "Epoch [4/5] Batch [967/1654] Loss: 1.3891\n",
            "Epoch [4/5] Batch [968/1654] Loss: 1.6385\n",
            "Epoch [4/5] Batch [969/1654] Loss: 1.3762\n",
            "Epoch [4/5] Batch [970/1654] Loss: 1.2976\n",
            "Epoch [4/5] Batch [971/1654] Loss: 1.4916\n",
            "Epoch [4/5] Batch [972/1654] Loss: 1.6507\n"
          ]
        },
        {
          "output_type": "stream",
          "name": "stderr",
          "text": [
            " 59%|█████▉    | 980/1654 [00:29<00:19, 34.12it/s]"
          ]
        },
        {
          "output_type": "stream",
          "name": "stdout",
          "text": [
            "Epoch [4/5] Batch [973/1654] Loss: 1.4853\n",
            "Epoch [4/5] Batch [974/1654] Loss: 1.5573\n",
            "Epoch [4/5] Batch [975/1654] Loss: 1.7783\n",
            "Epoch [4/5] Batch [976/1654] Loss: 1.2695\n",
            "Epoch [4/5] Batch [977/1654] Loss: 1.2966\n",
            "Epoch [4/5] Batch [978/1654] Loss: 1.4580\n",
            "Epoch [4/5] Batch [979/1654] Loss: 1.0828\n",
            "Epoch [4/5] Batch [980/1654] Loss: 1.5294\n"
          ]
        },
        {
          "output_type": "stream",
          "name": "stderr",
          "text": [
            " 60%|█████▉    | 988/1654 [00:29<00:19, 34.45it/s]"
          ]
        },
        {
          "output_type": "stream",
          "name": "stdout",
          "text": [
            "Epoch [4/5] Batch [981/1654] Loss: 1.6664\n",
            "Epoch [4/5] Batch [982/1654] Loss: 1.4381\n",
            "Epoch [4/5] Batch [983/1654] Loss: 1.3563\n",
            "Epoch [4/5] Batch [984/1654] Loss: 1.5660\n",
            "Epoch [4/5] Batch [985/1654] Loss: 1.4093\n",
            "Epoch [4/5] Batch [986/1654] Loss: 1.4115\n",
            "Epoch [4/5] Batch [987/1654] Loss: 1.3764\n",
            "Epoch [4/5] Batch [988/1654] Loss: 1.6539\n"
          ]
        },
        {
          "output_type": "stream",
          "name": "stderr",
          "text": [
            " 60%|██████    | 996/1654 [00:30<00:19, 34.36it/s]"
          ]
        },
        {
          "output_type": "stream",
          "name": "stdout",
          "text": [
            "Epoch [4/5] Batch [989/1654] Loss: 1.3308\n",
            "Epoch [4/5] Batch [990/1654] Loss: 1.2866\n",
            "Epoch [4/5] Batch [991/1654] Loss: 1.3942\n",
            "Epoch [4/5] Batch [992/1654] Loss: 1.5625\n",
            "Epoch [4/5] Batch [993/1654] Loss: 1.8951\n",
            "Epoch [4/5] Batch [994/1654] Loss: 1.0853\n",
            "Epoch [4/5] Batch [995/1654] Loss: 1.2902\n",
            "Epoch [4/5] Batch [996/1654] Loss: 1.5712\n"
          ]
        },
        {
          "output_type": "stream",
          "name": "stderr",
          "text": [
            "\r 60%|██████    | 1000/1654 [00:30<00:19, 33.49it/s]"
          ]
        },
        {
          "output_type": "stream",
          "name": "stdout",
          "text": [
            "Epoch [4/5] Batch [997/1654] Loss: 1.5328\n",
            "Epoch [4/5] Batch [998/1654] Loss: 1.2435\n",
            "Epoch [4/5] Batch [999/1654] Loss: 1.4121\n",
            "Epoch [4/5] Batch [1000/1654] Loss: 1.1727\n",
            "Epoch [4/5] Batch [1001/1654] Loss: 1.3853\n",
            "Epoch [4/5] Batch [1002/1654] Loss: 1.3090\n",
            "Epoch [4/5] Batch [1003/1654] Loss: 1.9188\n"
          ]
        },
        {
          "output_type": "stream",
          "name": "stderr",
          "text": [
            " 61%|██████    | 1008/1654 [00:30<00:18, 34.07it/s]"
          ]
        },
        {
          "output_type": "stream",
          "name": "stdout",
          "text": [
            "Epoch [4/5] Batch [1004/1654] Loss: 1.4767\n",
            "Epoch [4/5] Batch [1005/1654] Loss: 1.6531\n",
            "Epoch [4/5] Batch [1006/1654] Loss: 1.4015\n",
            "Epoch [4/5] Batch [1007/1654] Loss: 1.4294\n",
            "Epoch [4/5] Batch [1008/1654] Loss: 1.2593\n",
            "Epoch [4/5] Batch [1009/1654] Loss: 1.4577\n",
            "Epoch [4/5] Batch [1010/1654] Loss: 1.3362\n"
          ]
        },
        {
          "output_type": "stream",
          "name": "stderr",
          "text": [
            " 61%|██████▏   | 1016/1654 [00:30<00:18, 34.48it/s]"
          ]
        },
        {
          "output_type": "stream",
          "name": "stdout",
          "text": [
            "Epoch [4/5] Batch [1011/1654] Loss: 1.3323\n",
            "Epoch [4/5] Batch [1012/1654] Loss: 1.5279\n",
            "Epoch [4/5] Batch [1013/1654] Loss: 1.3651\n",
            "Epoch [4/5] Batch [1014/1654] Loss: 1.1779\n",
            "Epoch [4/5] Batch [1015/1654] Loss: 1.4790\n",
            "Epoch [4/5] Batch [1016/1654] Loss: 1.3704\n",
            "Epoch [4/5] Batch [1017/1654] Loss: 1.5293\n",
            "Epoch [4/5] Batch [1018/1654] Loss: 1.4552\n"
          ]
        },
        {
          "output_type": "stream",
          "name": "stderr",
          "text": [
            " 62%|██████▏   | 1024/1654 [00:30<00:18, 34.93it/s]"
          ]
        },
        {
          "output_type": "stream",
          "name": "stdout",
          "text": [
            "Epoch [4/5] Batch [1019/1654] Loss: 1.4768\n",
            "Epoch [4/5] Batch [1020/1654] Loss: 1.1514\n",
            "Epoch [4/5] Batch [1021/1654] Loss: 1.4989\n",
            "Epoch [4/5] Batch [1022/1654] Loss: 1.7186\n",
            "Epoch [4/5] Batch [1023/1654] Loss: 1.3036\n",
            "Epoch [4/5] Batch [1024/1654] Loss: 1.4738\n",
            "Epoch [4/5] Batch [1025/1654] Loss: 1.4273\n",
            "Epoch [4/5] Batch [1026/1654] Loss: 1.3123\n"
          ]
        },
        {
          "output_type": "stream",
          "name": "stderr",
          "text": [
            " 62%|██████▏   | 1032/1654 [00:31<00:17, 34.82it/s]"
          ]
        },
        {
          "output_type": "stream",
          "name": "stdout",
          "text": [
            "Epoch [4/5] Batch [1027/1654] Loss: 1.3643\n",
            "Epoch [4/5] Batch [1028/1654] Loss: 1.5479\n",
            "Epoch [4/5] Batch [1029/1654] Loss: 1.6172\n",
            "Epoch [4/5] Batch [1030/1654] Loss: 1.5201\n",
            "Epoch [4/5] Batch [1031/1654] Loss: 1.2825\n",
            "Epoch [4/5] Batch [1032/1654] Loss: 1.3159\n",
            "Epoch [4/5] Batch [1033/1654] Loss: 1.8002\n",
            "Epoch [4/5] Batch [1034/1654] Loss: 1.4090\n"
          ]
        },
        {
          "output_type": "stream",
          "name": "stderr",
          "text": [
            " 63%|██████▎   | 1040/1654 [00:31<00:18, 33.94it/s]"
          ]
        },
        {
          "output_type": "stream",
          "name": "stdout",
          "text": [
            "Epoch [4/5] Batch [1035/1654] Loss: 1.5941\n",
            "Epoch [4/5] Batch [1036/1654] Loss: 1.4160\n",
            "Epoch [4/5] Batch [1037/1654] Loss: 1.3915\n",
            "Epoch [4/5] Batch [1038/1654] Loss: 1.3836\n",
            "Epoch [4/5] Batch [1039/1654] Loss: 1.6493\n",
            "Epoch [4/5] Batch [1040/1654] Loss: 1.6548\n",
            "Epoch [4/5] Batch [1041/1654] Loss: 1.5172\n"
          ]
        },
        {
          "output_type": "stream",
          "name": "stderr",
          "text": [
            " 63%|██████▎   | 1048/1654 [00:31<00:17, 35.24it/s]"
          ]
        },
        {
          "output_type": "stream",
          "name": "stdout",
          "text": [
            "Epoch [4/5] Batch [1042/1654] Loss: 1.8689\n",
            "Epoch [4/5] Batch [1043/1654] Loss: 1.3216\n",
            "Epoch [4/5] Batch [1044/1654] Loss: 1.6514\n",
            "Epoch [4/5] Batch [1045/1654] Loss: 1.2986\n",
            "Epoch [4/5] Batch [1046/1654] Loss: 1.4364\n",
            "Epoch [4/5] Batch [1047/1654] Loss: 1.5606\n",
            "Epoch [4/5] Batch [1048/1654] Loss: 1.6083\n",
            "Epoch [4/5] Batch [1049/1654] Loss: 1.2281\n"
          ]
        },
        {
          "output_type": "stream",
          "name": "stderr",
          "text": [
            " 64%|██████▍   | 1056/1654 [00:31<00:16, 35.70it/s]"
          ]
        },
        {
          "output_type": "stream",
          "name": "stdout",
          "text": [
            "Epoch [4/5] Batch [1050/1654] Loss: 1.5597\n",
            "Epoch [4/5] Batch [1051/1654] Loss: 1.5848\n",
            "Epoch [4/5] Batch [1052/1654] Loss: 1.3329\n",
            "Epoch [4/5] Batch [1053/1654] Loss: 1.5780\n",
            "Epoch [4/5] Batch [1054/1654] Loss: 1.7968\n",
            "Epoch [4/5] Batch [1055/1654] Loss: 1.6299\n",
            "Epoch [4/5] Batch [1056/1654] Loss: 1.1728\n",
            "Epoch [4/5] Batch [1057/1654] Loss: 1.7763\n"
          ]
        },
        {
          "output_type": "stream",
          "name": "stderr",
          "text": [
            " 64%|██████▍   | 1064/1654 [00:32<00:16, 35.58it/s]"
          ]
        },
        {
          "output_type": "stream",
          "name": "stdout",
          "text": [
            "Epoch [4/5] Batch [1058/1654] Loss: 1.1547\n",
            "Epoch [4/5] Batch [1059/1654] Loss: 1.2890\n",
            "Epoch [4/5] Batch [1060/1654] Loss: 1.8037\n",
            "Epoch [4/5] Batch [1061/1654] Loss: 1.4591\n",
            "Epoch [4/5] Batch [1062/1654] Loss: 1.4664\n",
            "Epoch [4/5] Batch [1063/1654] Loss: 1.2149\n",
            "Epoch [4/5] Batch [1064/1654] Loss: 1.3892\n",
            "Epoch [4/5] Batch [1065/1654] Loss: 1.2314\n"
          ]
        },
        {
          "output_type": "stream",
          "name": "stderr",
          "text": [
            " 65%|██████▍   | 1072/1654 [00:32<00:16, 34.81it/s]"
          ]
        },
        {
          "output_type": "stream",
          "name": "stdout",
          "text": [
            "Epoch [4/5] Batch [1066/1654] Loss: 1.1994\n",
            "Epoch [4/5] Batch [1067/1654] Loss: 1.6415\n",
            "Epoch [4/5] Batch [1068/1654] Loss: 1.5782\n",
            "Epoch [4/5] Batch [1069/1654] Loss: 1.2206\n",
            "Epoch [4/5] Batch [1070/1654] Loss: 1.3194\n",
            "Epoch [4/5] Batch [1071/1654] Loss: 1.1368\n",
            "Epoch [4/5] Batch [1072/1654] Loss: 1.5069\n"
          ]
        },
        {
          "output_type": "stream",
          "name": "stderr",
          "text": [
            " 65%|██████▌   | 1080/1654 [00:32<00:16, 35.31it/s]"
          ]
        },
        {
          "output_type": "stream",
          "name": "stdout",
          "text": [
            "Epoch [4/5] Batch [1073/1654] Loss: 1.4047\n",
            "Epoch [4/5] Batch [1074/1654] Loss: 1.2216\n",
            "Epoch [4/5] Batch [1075/1654] Loss: 1.4194\n",
            "Epoch [4/5] Batch [1076/1654] Loss: 1.1963\n",
            "Epoch [4/5] Batch [1077/1654] Loss: 1.2241\n",
            "Epoch [4/5] Batch [1078/1654] Loss: 1.7030\n",
            "Epoch [4/5] Batch [1079/1654] Loss: 1.4645\n",
            "Epoch [4/5] Batch [1080/1654] Loss: 1.8464\n"
          ]
        },
        {
          "output_type": "stream",
          "name": "stderr",
          "text": [
            " 66%|██████▌   | 1088/1654 [00:32<00:15, 35.94it/s]"
          ]
        },
        {
          "output_type": "stream",
          "name": "stdout",
          "text": [
            "Epoch [4/5] Batch [1081/1654] Loss: 1.8592\n",
            "Epoch [4/5] Batch [1082/1654] Loss: 1.5397\n",
            "Epoch [4/5] Batch [1083/1654] Loss: 1.4341\n",
            "Epoch [4/5] Batch [1084/1654] Loss: 1.3746\n",
            "Epoch [4/5] Batch [1085/1654] Loss: 1.5007\n",
            "Epoch [4/5] Batch [1086/1654] Loss: 1.5517\n",
            "Epoch [4/5] Batch [1087/1654] Loss: 1.7024\n",
            "Epoch [4/5] Batch [1088/1654] Loss: 1.6013\n"
          ]
        },
        {
          "output_type": "stream",
          "name": "stderr",
          "text": [
            " 66%|██████▋   | 1096/1654 [00:33<00:15, 35.73it/s]"
          ]
        },
        {
          "output_type": "stream",
          "name": "stdout",
          "text": [
            "Epoch [4/5] Batch [1089/1654] Loss: 1.3657\n",
            "Epoch [4/5] Batch [1090/1654] Loss: 1.5283\n",
            "Epoch [4/5] Batch [1091/1654] Loss: 1.1992\n",
            "Epoch [4/5] Batch [1092/1654] Loss: 1.6791\n",
            "Epoch [4/5] Batch [1093/1654] Loss: 1.1025\n",
            "Epoch [4/5] Batch [1094/1654] Loss: 1.3386\n",
            "Epoch [4/5] Batch [1095/1654] Loss: 1.7103\n",
            "Epoch [4/5] Batch [1096/1654] Loss: 1.5636\n"
          ]
        },
        {
          "output_type": "stream",
          "name": "stderr",
          "text": [
            " 67%|██████▋   | 1104/1654 [00:33<00:15, 36.15it/s]"
          ]
        },
        {
          "output_type": "stream",
          "name": "stdout",
          "text": [
            "Epoch [4/5] Batch [1097/1654] Loss: 1.4176\n",
            "Epoch [4/5] Batch [1098/1654] Loss: 1.5550\n",
            "Epoch [4/5] Batch [1099/1654] Loss: 1.3939\n",
            "Epoch [4/5] Batch [1100/1654] Loss: 1.7255\n",
            "Epoch [4/5] Batch [1101/1654] Loss: 1.6127\n",
            "Epoch [4/5] Batch [1102/1654] Loss: 1.3160\n",
            "Epoch [4/5] Batch [1103/1654] Loss: 1.3858\n",
            "Epoch [4/5] Batch [1104/1654] Loss: 1.5386\n"
          ]
        },
        {
          "output_type": "stream",
          "name": "stderr",
          "text": [
            " 67%|██████▋   | 1112/1654 [00:33<00:15, 35.64it/s]"
          ]
        },
        {
          "output_type": "stream",
          "name": "stdout",
          "text": [
            "Epoch [4/5] Batch [1105/1654] Loss: 1.5653\n",
            "Epoch [4/5] Batch [1106/1654] Loss: 1.4453\n",
            "Epoch [4/5] Batch [1107/1654] Loss: 1.3707\n",
            "Epoch [4/5] Batch [1108/1654] Loss: 1.3427\n",
            "Epoch [4/5] Batch [1109/1654] Loss: 1.2615\n",
            "Epoch [4/5] Batch [1110/1654] Loss: 1.1788\n",
            "Epoch [4/5] Batch [1111/1654] Loss: 1.7510\n",
            "Epoch [4/5] Batch [1112/1654] Loss: 1.1403\n"
          ]
        },
        {
          "output_type": "stream",
          "name": "stderr",
          "text": [
            " 68%|██████▊   | 1120/1654 [00:33<00:14, 36.39it/s]"
          ]
        },
        {
          "output_type": "stream",
          "name": "stdout",
          "text": [
            "Epoch [4/5] Batch [1113/1654] Loss: 1.6807\n",
            "Epoch [4/5] Batch [1114/1654] Loss: 1.5231\n",
            "Epoch [4/5] Batch [1115/1654] Loss: 1.3924\n",
            "Epoch [4/5] Batch [1116/1654] Loss: 1.7248\n",
            "Epoch [4/5] Batch [1117/1654] Loss: 1.3561\n",
            "Epoch [4/5] Batch [1118/1654] Loss: 1.5268\n",
            "Epoch [4/5] Batch [1119/1654] Loss: 1.3482\n",
            "Epoch [4/5] Batch [1120/1654] Loss: 1.3601\n"
          ]
        },
        {
          "output_type": "stream",
          "name": "stderr",
          "text": [
            " 68%|██████▊   | 1128/1654 [00:33<00:14, 36.40it/s]"
          ]
        },
        {
          "output_type": "stream",
          "name": "stdout",
          "text": [
            "Epoch [4/5] Batch [1121/1654] Loss: 1.3731\n",
            "Epoch [4/5] Batch [1122/1654] Loss: 1.5112\n",
            "Epoch [4/5] Batch [1123/1654] Loss: 1.6964\n",
            "Epoch [4/5] Batch [1124/1654] Loss: 1.1986\n",
            "Epoch [4/5] Batch [1125/1654] Loss: 1.2302\n",
            "Epoch [4/5] Batch [1126/1654] Loss: 1.4721\n",
            "Epoch [4/5] Batch [1127/1654] Loss: 1.1402\n",
            "Epoch [4/5] Batch [1128/1654] Loss: 1.3722\n"
          ]
        },
        {
          "output_type": "stream",
          "name": "stderr",
          "text": [
            " 69%|██████▊   | 1136/1654 [00:34<00:14, 36.92it/s]"
          ]
        },
        {
          "output_type": "stream",
          "name": "stdout",
          "text": [
            "Epoch [4/5] Batch [1129/1654] Loss: 1.5916\n",
            "Epoch [4/5] Batch [1130/1654] Loss: 1.2985\n",
            "Epoch [4/5] Batch [1131/1654] Loss: 1.3480\n",
            "Epoch [4/5] Batch [1132/1654] Loss: 1.1509\n",
            "Epoch [4/5] Batch [1133/1654] Loss: 1.2905\n",
            "Epoch [4/5] Batch [1134/1654] Loss: 1.4931\n",
            "Epoch [4/5] Batch [1135/1654] Loss: 1.7490\n",
            "Epoch [4/5] Batch [1136/1654] Loss: 1.3456\n"
          ]
        },
        {
          "output_type": "stream",
          "name": "stderr",
          "text": [
            " 69%|██████▉   | 1144/1654 [00:34<00:13, 36.67it/s]"
          ]
        },
        {
          "output_type": "stream",
          "name": "stdout",
          "text": [
            "Epoch [4/5] Batch [1137/1654] Loss: 1.7721\n",
            "Epoch [4/5] Batch [1138/1654] Loss: 1.6178\n",
            "Epoch [4/5] Batch [1139/1654] Loss: 1.3891\n",
            "Epoch [4/5] Batch [1140/1654] Loss: 1.5745\n",
            "Epoch [4/5] Batch [1141/1654] Loss: 1.1897\n",
            "Epoch [4/5] Batch [1142/1654] Loss: 1.5266\n",
            "Epoch [4/5] Batch [1143/1654] Loss: 1.2431\n",
            "Epoch [4/5] Batch [1144/1654] Loss: 1.4736\n"
          ]
        },
        {
          "output_type": "stream",
          "name": "stderr",
          "text": [
            " 70%|██████▉   | 1152/1654 [00:34<00:13, 35.86it/s]"
          ]
        },
        {
          "output_type": "stream",
          "name": "stdout",
          "text": [
            "Epoch [4/5] Batch [1145/1654] Loss: 1.2318\n",
            "Epoch [4/5] Batch [1146/1654] Loss: 1.3220\n",
            "Epoch [4/5] Batch [1147/1654] Loss: 1.4614\n",
            "Epoch [4/5] Batch [1148/1654] Loss: 1.5471\n",
            "Epoch [4/5] Batch [1149/1654] Loss: 1.9392\n",
            "Epoch [4/5] Batch [1150/1654] Loss: 1.3558\n",
            "Epoch [4/5] Batch [1151/1654] Loss: 1.3780\n",
            "Epoch [4/5] Batch [1152/1654] Loss: 1.4263\n"
          ]
        },
        {
          "output_type": "stream",
          "name": "stderr",
          "text": [
            " 70%|███████   | 1160/1654 [00:34<00:13, 35.96it/s]"
          ]
        },
        {
          "output_type": "stream",
          "name": "stdout",
          "text": [
            "Epoch [4/5] Batch [1153/1654] Loss: 1.3470\n",
            "Epoch [4/5] Batch [1154/1654] Loss: 1.3578\n",
            "Epoch [4/5] Batch [1155/1654] Loss: 1.7008\n",
            "Epoch [4/5] Batch [1156/1654] Loss: 1.4766\n",
            "Epoch [4/5] Batch [1157/1654] Loss: 1.5436\n",
            "Epoch [4/5] Batch [1158/1654] Loss: 1.0509\n",
            "Epoch [4/5] Batch [1159/1654] Loss: 1.2677\n",
            "Epoch [4/5] Batch [1160/1654] Loss: 1.5663\n"
          ]
        },
        {
          "output_type": "stream",
          "name": "stderr",
          "text": [
            " 71%|███████   | 1168/1654 [00:35<00:13, 36.35it/s]"
          ]
        },
        {
          "output_type": "stream",
          "name": "stdout",
          "text": [
            "Epoch [4/5] Batch [1161/1654] Loss: 1.4174\n",
            "Epoch [4/5] Batch [1162/1654] Loss: 1.3761\n",
            "Epoch [4/5] Batch [1163/1654] Loss: 1.5372\n",
            "Epoch [4/5] Batch [1164/1654] Loss: 1.3480\n",
            "Epoch [4/5] Batch [1165/1654] Loss: 1.4336\n",
            "Epoch [4/5] Batch [1166/1654] Loss: 1.1917\n",
            "Epoch [4/5] Batch [1167/1654] Loss: 1.3901\n",
            "Epoch [4/5] Batch [1168/1654] Loss: 1.7392\n"
          ]
        },
        {
          "output_type": "stream",
          "name": "stderr",
          "text": [
            " 71%|███████   | 1176/1654 [00:35<00:13, 36.19it/s]"
          ]
        },
        {
          "output_type": "stream",
          "name": "stdout",
          "text": [
            "Epoch [4/5] Batch [1169/1654] Loss: 1.3190\n",
            "Epoch [4/5] Batch [1170/1654] Loss: 1.4840\n",
            "Epoch [4/5] Batch [1171/1654] Loss: 1.2740\n",
            "Epoch [4/5] Batch [1172/1654] Loss: 1.7999\n",
            "Epoch [4/5] Batch [1173/1654] Loss: 1.3265\n",
            "Epoch [4/5] Batch [1174/1654] Loss: 1.5895\n",
            "Epoch [4/5] Batch [1175/1654] Loss: 1.2193\n",
            "Epoch [4/5] Batch [1176/1654] Loss: 1.2817\n"
          ]
        },
        {
          "output_type": "stream",
          "name": "stderr",
          "text": [
            " 72%|███████▏  | 1184/1654 [00:35<00:13, 35.22it/s]"
          ]
        },
        {
          "output_type": "stream",
          "name": "stdout",
          "text": [
            "Epoch [4/5] Batch [1177/1654] Loss: 1.4087\n",
            "Epoch [4/5] Batch [1178/1654] Loss: 1.4361\n",
            "Epoch [4/5] Batch [1179/1654] Loss: 1.3235\n",
            "Epoch [4/5] Batch [1180/1654] Loss: 1.2232\n",
            "Epoch [4/5] Batch [1181/1654] Loss: 1.3996\n",
            "Epoch [4/5] Batch [1182/1654] Loss: 1.5081\n",
            "Epoch [4/5] Batch [1183/1654] Loss: 1.5513\n",
            "Epoch [4/5] Batch [1184/1654] Loss: 1.3197\n"
          ]
        },
        {
          "output_type": "stream",
          "name": "stderr",
          "text": [
            " 72%|███████▏  | 1192/1654 [00:35<00:13, 35.41it/s]"
          ]
        },
        {
          "output_type": "stream",
          "name": "stdout",
          "text": [
            "Epoch [4/5] Batch [1185/1654] Loss: 1.6204\n",
            "Epoch [4/5] Batch [1186/1654] Loss: 1.2529\n",
            "Epoch [4/5] Batch [1187/1654] Loss: 1.6415\n",
            "Epoch [4/5] Batch [1188/1654] Loss: 1.9034\n",
            "Epoch [4/5] Batch [1189/1654] Loss: 1.5536\n",
            "Epoch [4/5] Batch [1190/1654] Loss: 1.5038\n",
            "Epoch [4/5] Batch [1191/1654] Loss: 1.4251\n",
            "Epoch [4/5] Batch [1192/1654] Loss: 1.6511\n"
          ]
        },
        {
          "output_type": "stream",
          "name": "stderr",
          "text": [
            " 73%|███████▎  | 1200/1654 [00:35<00:12, 36.00it/s]"
          ]
        },
        {
          "output_type": "stream",
          "name": "stdout",
          "text": [
            "Epoch [4/5] Batch [1193/1654] Loss: 1.6961\n",
            "Epoch [4/5] Batch [1194/1654] Loss: 1.1704\n",
            "Epoch [4/5] Batch [1195/1654] Loss: 1.5119\n",
            "Epoch [4/5] Batch [1196/1654] Loss: 1.6805\n",
            "Epoch [4/5] Batch [1197/1654] Loss: 1.3367\n",
            "Epoch [4/5] Batch [1198/1654] Loss: 1.2980\n",
            "Epoch [4/5] Batch [1199/1654] Loss: 1.6677\n",
            "Epoch [4/5] Batch [1200/1654] Loss: 1.4883\n"
          ]
        },
        {
          "output_type": "stream",
          "name": "stderr",
          "text": [
            " 73%|███████▎  | 1208/1654 [00:36<00:12, 35.77it/s]"
          ]
        },
        {
          "output_type": "stream",
          "name": "stdout",
          "text": [
            "Epoch [4/5] Batch [1201/1654] Loss: 1.1884\n",
            "Epoch [4/5] Batch [1202/1654] Loss: 1.3486\n",
            "Epoch [4/5] Batch [1203/1654] Loss: 1.5358\n",
            "Epoch [4/5] Batch [1204/1654] Loss: 1.3892\n",
            "Epoch [4/5] Batch [1205/1654] Loss: 1.7360\n",
            "Epoch [4/5] Batch [1206/1654] Loss: 1.4660\n",
            "Epoch [4/5] Batch [1207/1654] Loss: 1.2625\n",
            "Epoch [4/5] Batch [1208/1654] Loss: 1.2105\n"
          ]
        },
        {
          "output_type": "stream",
          "name": "stderr",
          "text": [
            " 74%|███████▎  | 1216/1654 [00:36<00:12, 36.20it/s]"
          ]
        },
        {
          "output_type": "stream",
          "name": "stdout",
          "text": [
            "Epoch [4/5] Batch [1209/1654] Loss: 1.7260\n",
            "Epoch [4/5] Batch [1210/1654] Loss: 1.8291\n",
            "Epoch [4/5] Batch [1211/1654] Loss: 1.6932\n",
            "Epoch [4/5] Batch [1212/1654] Loss: 1.1019\n",
            "Epoch [4/5] Batch [1213/1654] Loss: 1.2675\n",
            "Epoch [4/5] Batch [1214/1654] Loss: 1.8477\n",
            "Epoch [4/5] Batch [1215/1654] Loss: 1.3610\n",
            "Epoch [4/5] Batch [1216/1654] Loss: 1.6903\n"
          ]
        },
        {
          "output_type": "stream",
          "name": "stderr",
          "text": [
            " 74%|███████▍  | 1224/1654 [00:36<00:12, 35.55it/s]"
          ]
        },
        {
          "output_type": "stream",
          "name": "stdout",
          "text": [
            "Epoch [4/5] Batch [1217/1654] Loss: 1.4957\n",
            "Epoch [4/5] Batch [1218/1654] Loss: 1.2785\n",
            "Epoch [4/5] Batch [1219/1654] Loss: 1.3676\n",
            "Epoch [4/5] Batch [1220/1654] Loss: 1.0662\n",
            "Epoch [4/5] Batch [1221/1654] Loss: 1.5720\n",
            "Epoch [4/5] Batch [1222/1654] Loss: 1.4645\n",
            "Epoch [4/5] Batch [1223/1654] Loss: 1.5382\n",
            "Epoch [4/5] Batch [1224/1654] Loss: 1.2928\n"
          ]
        },
        {
          "output_type": "stream",
          "name": "stderr",
          "text": [
            " 74%|███████▍  | 1232/1654 [00:36<00:11, 35.76it/s]"
          ]
        },
        {
          "output_type": "stream",
          "name": "stdout",
          "text": [
            "Epoch [4/5] Batch [1225/1654] Loss: 1.1896\n",
            "Epoch [4/5] Batch [1226/1654] Loss: 1.2245\n",
            "Epoch [4/5] Batch [1227/1654] Loss: 1.3883\n",
            "Epoch [4/5] Batch [1228/1654] Loss: 1.5155\n",
            "Epoch [4/5] Batch [1229/1654] Loss: 1.3742\n",
            "Epoch [4/5] Batch [1230/1654] Loss: 1.4606\n",
            "Epoch [4/5] Batch [1231/1654] Loss: 1.1768\n",
            "Epoch [4/5] Batch [1232/1654] Loss: 1.3431\n"
          ]
        },
        {
          "output_type": "stream",
          "name": "stderr",
          "text": [
            " 75%|███████▍  | 1240/1654 [00:37<00:11, 35.55it/s]"
          ]
        },
        {
          "output_type": "stream",
          "name": "stdout",
          "text": [
            "Epoch [4/5] Batch [1233/1654] Loss: 1.5237\n",
            "Epoch [4/5] Batch [1234/1654] Loss: 1.5772\n",
            "Epoch [4/5] Batch [1235/1654] Loss: 1.2812\n",
            "Epoch [4/5] Batch [1236/1654] Loss: 1.5085\n",
            "Epoch [4/5] Batch [1237/1654] Loss: 1.3747\n",
            "Epoch [4/5] Batch [1238/1654] Loss: 1.2280\n",
            "Epoch [4/5] Batch [1239/1654] Loss: 1.3591\n",
            "Epoch [4/5] Batch [1240/1654] Loss: 1.2958\n"
          ]
        },
        {
          "output_type": "stream",
          "name": "stderr",
          "text": [
            "\r 75%|███████▌  | 1244/1654 [00:37<00:12, 32.76it/s]"
          ]
        },
        {
          "output_type": "stream",
          "name": "stdout",
          "text": [
            "Epoch [4/5] Batch [1241/1654] Loss: 1.7367\n",
            "Epoch [4/5] Batch [1242/1654] Loss: 1.4691\n",
            "Epoch [4/5] Batch [1243/1654] Loss: 1.4252\n",
            "Epoch [4/5] Batch [1244/1654] Loss: 1.8693\n",
            "Epoch [4/5] Batch [1245/1654] Loss: 1.3801\n",
            "Epoch [4/5] Batch [1246/1654] Loss: 1.6743\n"
          ]
        },
        {
          "output_type": "stream",
          "name": "stderr",
          "text": [
            " 76%|███████▌  | 1252/1654 [00:37<00:13, 30.56it/s]"
          ]
        },
        {
          "output_type": "stream",
          "name": "stdout",
          "text": [
            "Epoch [4/5] Batch [1247/1654] Loss: 1.4531\n",
            "Epoch [4/5] Batch [1248/1654] Loss: 1.2315\n",
            "Epoch [4/5] Batch [1249/1654] Loss: 1.3000\n",
            "Epoch [4/5] Batch [1250/1654] Loss: 1.2129\n",
            "Epoch [4/5] Batch [1251/1654] Loss: 1.2716\n",
            "Epoch [4/5] Batch [1252/1654] Loss: 1.5031\n"
          ]
        },
        {
          "output_type": "stream",
          "name": "stderr",
          "text": [
            "\r 76%|███████▌  | 1256/1654 [00:37<00:13, 29.02it/s]"
          ]
        },
        {
          "output_type": "stream",
          "name": "stdout",
          "text": [
            "Epoch [4/5] Batch [1253/1654] Loss: 1.1768\n",
            "Epoch [4/5] Batch [1254/1654] Loss: 1.6968\n",
            "Epoch [4/5] Batch [1255/1654] Loss: 1.4066\n",
            "Epoch [4/5] Batch [1256/1654] Loss: 1.5051\n",
            "Epoch [4/5] Batch [1257/1654] Loss: 1.7044\n",
            "Epoch [4/5] Batch [1258/1654] Loss: 1.2343\n"
          ]
        },
        {
          "output_type": "stream",
          "name": "stderr",
          "text": [
            " 76%|███████▋  | 1264/1654 [00:37<00:13, 29.95it/s]"
          ]
        },
        {
          "output_type": "stream",
          "name": "stdout",
          "text": [
            "Epoch [4/5] Batch [1259/1654] Loss: 1.5552\n",
            "Epoch [4/5] Batch [1260/1654] Loss: 1.6011\n",
            "Epoch [4/5] Batch [1261/1654] Loss: 1.5054\n",
            "Epoch [4/5] Batch [1262/1654] Loss: 1.3447\n",
            "Epoch [4/5] Batch [1263/1654] Loss: 1.3521\n",
            "Epoch [4/5] Batch [1264/1654] Loss: 1.2379\n",
            "Epoch [4/5] Batch [1265/1654] Loss: 1.1462\n"
          ]
        },
        {
          "output_type": "stream",
          "name": "stderr",
          "text": [
            " 77%|███████▋  | 1272/1654 [00:38<00:12, 30.33it/s]"
          ]
        },
        {
          "output_type": "stream",
          "name": "stdout",
          "text": [
            "Epoch [4/5] Batch [1266/1654] Loss: 1.3790\n",
            "Epoch [4/5] Batch [1267/1654] Loss: 1.2926\n",
            "Epoch [4/5] Batch [1268/1654] Loss: 1.3748\n",
            "Epoch [4/5] Batch [1269/1654] Loss: 1.7923\n",
            "Epoch [4/5] Batch [1270/1654] Loss: 1.4710\n",
            "Epoch [4/5] Batch [1271/1654] Loss: 1.6176\n",
            "Epoch [4/5] Batch [1272/1654] Loss: 1.5902\n"
          ]
        },
        {
          "output_type": "stream",
          "name": "stderr",
          "text": [
            "\r 77%|███████▋  | 1276/1654 [00:38<00:12, 30.13it/s]"
          ]
        },
        {
          "output_type": "stream",
          "name": "stdout",
          "text": [
            "Epoch [4/5] Batch [1273/1654] Loss: 1.1979\n",
            "Epoch [4/5] Batch [1274/1654] Loss: 1.3359\n",
            "Epoch [4/5] Batch [1275/1654] Loss: 1.2950\n",
            "Epoch [4/5] Batch [1276/1654] Loss: 1.5652\n",
            "Epoch [4/5] Batch [1277/1654] Loss: 1.3800\n",
            "Epoch [4/5] Batch [1278/1654] Loss: 1.4101\n",
            "Epoch [4/5] Batch [1279/1654] Loss: 1.4958\n"
          ]
        },
        {
          "output_type": "stream",
          "name": "stderr",
          "text": [
            " 78%|███████▊  | 1284/1654 [00:38<00:11, 30.99it/s]"
          ]
        },
        {
          "output_type": "stream",
          "name": "stdout",
          "text": [
            "Epoch [4/5] Batch [1280/1654] Loss: 1.5211\n",
            "Epoch [4/5] Batch [1281/1654] Loss: 1.3271\n",
            "Epoch [4/5] Batch [1282/1654] Loss: 1.0211\n",
            "Epoch [4/5] Batch [1283/1654] Loss: 1.3835\n",
            "Epoch [4/5] Batch [1284/1654] Loss: 1.1979\n",
            "Epoch [4/5] Batch [1285/1654] Loss: 1.5632\n",
            "Epoch [4/5] Batch [1286/1654] Loss: 1.5091\n"
          ]
        },
        {
          "output_type": "stream",
          "name": "stderr",
          "text": [
            " 78%|███████▊  | 1291/1654 [00:38<00:12, 28.93it/s]"
          ]
        },
        {
          "output_type": "stream",
          "name": "stdout",
          "text": [
            "Epoch [4/5] Batch [1287/1654] Loss: 1.4571\n",
            "Epoch [4/5] Batch [1288/1654] Loss: 1.5599\n",
            "Epoch [4/5] Batch [1289/1654] Loss: 1.5606\n",
            "Epoch [4/5] Batch [1290/1654] Loss: 1.1702\n",
            "Epoch [4/5] Batch [1291/1654] Loss: 1.5334\n",
            "Epoch [4/5] Batch [1292/1654] Loss: 1.1179\n"
          ]
        },
        {
          "output_type": "stream",
          "name": "stderr",
          "text": [
            " 78%|███████▊  | 1297/1654 [00:39<00:12, 28.06it/s]"
          ]
        },
        {
          "output_type": "stream",
          "name": "stdout",
          "text": [
            "Epoch [4/5] Batch [1293/1654] Loss: 1.4355\n",
            "Epoch [4/5] Batch [1294/1654] Loss: 1.3841\n",
            "Epoch [4/5] Batch [1295/1654] Loss: 1.5811\n",
            "Epoch [4/5] Batch [1296/1654] Loss: 1.3459\n",
            "Epoch [4/5] Batch [1297/1654] Loss: 1.3703\n",
            "Epoch [4/5] Batch [1298/1654] Loss: 1.3422\n"
          ]
        },
        {
          "output_type": "stream",
          "name": "stderr",
          "text": [
            " 79%|███████▉  | 1303/1654 [00:39<00:13, 26.71it/s]"
          ]
        },
        {
          "output_type": "stream",
          "name": "stdout",
          "text": [
            "Epoch [4/5] Batch [1299/1654] Loss: 1.5659\n",
            "Epoch [4/5] Batch [1300/1654] Loss: 1.5651\n",
            "Epoch [4/5] Batch [1301/1654] Loss: 1.4987\n",
            "Epoch [4/5] Batch [1302/1654] Loss: 1.4482\n",
            "Epoch [4/5] Batch [1303/1654] Loss: 1.3413\n",
            "Epoch [4/5] Batch [1304/1654] Loss: 1.5902\n"
          ]
        },
        {
          "output_type": "stream",
          "name": "stderr",
          "text": [
            " 79%|███████▉  | 1309/1654 [00:39<00:12, 27.51it/s]"
          ]
        },
        {
          "output_type": "stream",
          "name": "stdout",
          "text": [
            "Epoch [4/5] Batch [1305/1654] Loss: 1.4770\n",
            "Epoch [4/5] Batch [1306/1654] Loss: 1.2586\n",
            "Epoch [4/5] Batch [1307/1654] Loss: 1.5587\n",
            "Epoch [4/5] Batch [1308/1654] Loss: 1.2290\n",
            "Epoch [4/5] Batch [1309/1654] Loss: 1.4640\n",
            "Epoch [4/5] Batch [1310/1654] Loss: 1.2877\n"
          ]
        },
        {
          "output_type": "stream",
          "name": "stderr",
          "text": [
            " 80%|███████▉  | 1315/1654 [00:39<00:12, 27.54it/s]"
          ]
        },
        {
          "output_type": "stream",
          "name": "stdout",
          "text": [
            "Epoch [4/5] Batch [1311/1654] Loss: 1.2090\n",
            "Epoch [4/5] Batch [1312/1654] Loss: 1.5368\n",
            "Epoch [4/5] Batch [1313/1654] Loss: 1.7271\n",
            "Epoch [4/5] Batch [1314/1654] Loss: 1.3977\n",
            "Epoch [4/5] Batch [1315/1654] Loss: 1.3855\n",
            "Epoch [4/5] Batch [1316/1654] Loss: 1.8842\n"
          ]
        },
        {
          "output_type": "stream",
          "name": "stderr",
          "text": [
            " 80%|███████▉  | 1323/1654 [00:39<00:10, 31.15it/s]"
          ]
        },
        {
          "output_type": "stream",
          "name": "stdout",
          "text": [
            "Epoch [4/5] Batch [1317/1654] Loss: 1.5863\n",
            "Epoch [4/5] Batch [1318/1654] Loss: 1.4822\n",
            "Epoch [4/5] Batch [1319/1654] Loss: 1.5011\n",
            "Epoch [4/5] Batch [1320/1654] Loss: 1.2858\n",
            "Epoch [4/5] Batch [1321/1654] Loss: 1.2170\n",
            "Epoch [4/5] Batch [1322/1654] Loss: 1.3870\n",
            "Epoch [4/5] Batch [1323/1654] Loss: 1.1752\n"
          ]
        },
        {
          "output_type": "stream",
          "name": "stderr",
          "text": [
            " 80%|████████  | 1331/1654 [00:40<00:09, 32.92it/s]"
          ]
        },
        {
          "output_type": "stream",
          "name": "stdout",
          "text": [
            "Epoch [4/5] Batch [1324/1654] Loss: 1.5379\n",
            "Epoch [4/5] Batch [1325/1654] Loss: 1.4180\n",
            "Epoch [4/5] Batch [1326/1654] Loss: 1.4606\n",
            "Epoch [4/5] Batch [1327/1654] Loss: 1.3813\n",
            "Epoch [4/5] Batch [1328/1654] Loss: 1.7095\n",
            "Epoch [4/5] Batch [1329/1654] Loss: 1.5771\n",
            "Epoch [4/5] Batch [1330/1654] Loss: 1.7728\n",
            "Epoch [4/5] Batch [1331/1654] Loss: 1.8225\n"
          ]
        },
        {
          "output_type": "stream",
          "name": "stderr",
          "text": [
            " 81%|████████  | 1339/1654 [00:40<00:09, 33.69it/s]"
          ]
        },
        {
          "output_type": "stream",
          "name": "stdout",
          "text": [
            "Epoch [4/5] Batch [1332/1654] Loss: 1.4807\n",
            "Epoch [4/5] Batch [1333/1654] Loss: 0.8273\n",
            "Epoch [4/5] Batch [1334/1654] Loss: 1.3246\n",
            "Epoch [4/5] Batch [1335/1654] Loss: 1.5614\n",
            "Epoch [4/5] Batch [1336/1654] Loss: 1.5653\n",
            "Epoch [4/5] Batch [1337/1654] Loss: 1.4756\n",
            "Epoch [4/5] Batch [1338/1654] Loss: 1.5442\n",
            "Epoch [4/5] Batch [1339/1654] Loss: 1.1934\n"
          ]
        },
        {
          "output_type": "stream",
          "name": "stderr",
          "text": [
            " 81%|████████▏ | 1347/1654 [00:40<00:08, 34.15it/s]"
          ]
        },
        {
          "output_type": "stream",
          "name": "stdout",
          "text": [
            "Epoch [4/5] Batch [1340/1654] Loss: 1.4600\n",
            "Epoch [4/5] Batch [1341/1654] Loss: 1.5912\n",
            "Epoch [4/5] Batch [1342/1654] Loss: 1.2982\n",
            "Epoch [4/5] Batch [1343/1654] Loss: 1.3076\n",
            "Epoch [4/5] Batch [1344/1654] Loss: 1.5602\n",
            "Epoch [4/5] Batch [1345/1654] Loss: 1.7281\n",
            "Epoch [4/5] Batch [1346/1654] Loss: 0.9710\n",
            "Epoch [4/5] Batch [1347/1654] Loss: 1.4498\n"
          ]
        },
        {
          "output_type": "stream",
          "name": "stderr",
          "text": [
            " 82%|████████▏ | 1355/1654 [00:40<00:08, 34.39it/s]"
          ]
        },
        {
          "output_type": "stream",
          "name": "stdout",
          "text": [
            "Epoch [4/5] Batch [1348/1654] Loss: 1.2723\n",
            "Epoch [4/5] Batch [1349/1654] Loss: 1.4220\n",
            "Epoch [4/5] Batch [1350/1654] Loss: 1.0666\n",
            "Epoch [4/5] Batch [1351/1654] Loss: 1.8340\n",
            "Epoch [4/5] Batch [1352/1654] Loss: 1.4380\n",
            "Epoch [4/5] Batch [1353/1654] Loss: 1.3588\n",
            "Epoch [4/5] Batch [1354/1654] Loss: 1.6280\n",
            "Epoch [4/5] Batch [1355/1654] Loss: 1.5666\n"
          ]
        },
        {
          "output_type": "stream",
          "name": "stderr",
          "text": [
            "\r 82%|████████▏ | 1359/1654 [00:40<00:08, 34.00it/s]"
          ]
        },
        {
          "output_type": "stream",
          "name": "stdout",
          "text": [
            "Epoch [4/5] Batch [1356/1654] Loss: 1.4851\n",
            "Epoch [4/5] Batch [1357/1654] Loss: 1.1287\n",
            "Epoch [4/5] Batch [1358/1654] Loss: 1.4016\n",
            "Epoch [4/5] Batch [1359/1654] Loss: 0.9958\n",
            "Epoch [4/5] Batch [1360/1654] Loss: 1.3087\n",
            "Epoch [4/5] Batch [1361/1654] Loss: 1.3015\n",
            "Epoch [4/5] Batch [1362/1654] Loss: 1.3039\n"
          ]
        },
        {
          "output_type": "stream",
          "name": "stderr",
          "text": [
            " 83%|████████▎ | 1367/1654 [00:41<00:08, 34.53it/s]"
          ]
        },
        {
          "output_type": "stream",
          "name": "stdout",
          "text": [
            "Epoch [4/5] Batch [1363/1654] Loss: 1.6538\n",
            "Epoch [4/5] Batch [1364/1654] Loss: 1.6788\n",
            "Epoch [4/5] Batch [1365/1654] Loss: 1.5726\n",
            "Epoch [4/5] Batch [1366/1654] Loss: 1.0300\n",
            "Epoch [4/5] Batch [1367/1654] Loss: 1.4636\n",
            "Epoch [4/5] Batch [1368/1654] Loss: 1.4697\n",
            "Epoch [4/5] Batch [1369/1654] Loss: 1.4417\n",
            "Epoch [4/5] Batch [1370/1654] Loss: 1.4842\n"
          ]
        },
        {
          "output_type": "stream",
          "name": "stderr",
          "text": [
            " 83%|████████▎ | 1375/1654 [00:41<00:08, 34.40it/s]"
          ]
        },
        {
          "output_type": "stream",
          "name": "stdout",
          "text": [
            "Epoch [4/5] Batch [1371/1654] Loss: 1.5684\n",
            "Epoch [4/5] Batch [1372/1654] Loss: 1.4468\n",
            "Epoch [4/5] Batch [1373/1654] Loss: 1.3797\n",
            "Epoch [4/5] Batch [1374/1654] Loss: 1.7197\n",
            "Epoch [4/5] Batch [1375/1654] Loss: 1.5809\n",
            "Epoch [4/5] Batch [1376/1654] Loss: 1.0932\n",
            "Epoch [4/5] Batch [1377/1654] Loss: 1.3214\n"
          ]
        },
        {
          "output_type": "stream",
          "name": "stderr",
          "text": [
            " 84%|████████▎ | 1383/1654 [00:41<00:07, 34.20it/s]"
          ]
        },
        {
          "output_type": "stream",
          "name": "stdout",
          "text": [
            "Epoch [4/5] Batch [1378/1654] Loss: 1.6230\n",
            "Epoch [4/5] Batch [1379/1654] Loss: 1.1620\n",
            "Epoch [4/5] Batch [1380/1654] Loss: 1.4957\n",
            "Epoch [4/5] Batch [1381/1654] Loss: 1.4869\n",
            "Epoch [4/5] Batch [1382/1654] Loss: 1.4513\n",
            "Epoch [4/5] Batch [1383/1654] Loss: 1.4368\n",
            "Epoch [4/5] Batch [1384/1654] Loss: 1.5262\n"
          ]
        },
        {
          "output_type": "stream",
          "name": "stderr",
          "text": [
            " 84%|████████▍ | 1391/1654 [00:41<00:07, 34.14it/s]"
          ]
        },
        {
          "output_type": "stream",
          "name": "stdout",
          "text": [
            "Epoch [4/5] Batch [1385/1654] Loss: 1.8328\n",
            "Epoch [4/5] Batch [1386/1654] Loss: 1.6481\n",
            "Epoch [4/5] Batch [1387/1654] Loss: 1.3434\n",
            "Epoch [4/5] Batch [1388/1654] Loss: 1.3839\n",
            "Epoch [4/5] Batch [1389/1654] Loss: 1.8660\n",
            "Epoch [4/5] Batch [1390/1654] Loss: 1.4139\n",
            "Epoch [4/5] Batch [1391/1654] Loss: 1.3282\n"
          ]
        },
        {
          "output_type": "stream",
          "name": "stderr",
          "text": [
            " 85%|████████▍ | 1399/1654 [00:42<00:07, 34.83it/s]"
          ]
        },
        {
          "output_type": "stream",
          "name": "stdout",
          "text": [
            "Epoch [4/5] Batch [1392/1654] Loss: 1.3855\n",
            "Epoch [4/5] Batch [1393/1654] Loss: 1.5047\n",
            "Epoch [4/5] Batch [1394/1654] Loss: 1.2572\n",
            "Epoch [4/5] Batch [1395/1654] Loss: 1.4158\n",
            "Epoch [4/5] Batch [1396/1654] Loss: 1.3772\n",
            "Epoch [4/5] Batch [1397/1654] Loss: 1.2585\n",
            "Epoch [4/5] Batch [1398/1654] Loss: 1.5382\n",
            "Epoch [4/5] Batch [1399/1654] Loss: 1.7439\n"
          ]
        },
        {
          "output_type": "stream",
          "name": "stderr",
          "text": [
            " 85%|████████▌ | 1407/1654 [00:42<00:07, 35.16it/s]"
          ]
        },
        {
          "output_type": "stream",
          "name": "stdout",
          "text": [
            "Epoch [4/5] Batch [1400/1654] Loss: 1.3716\n",
            "Epoch [4/5] Batch [1401/1654] Loss: 1.2314\n",
            "Epoch [4/5] Batch [1402/1654] Loss: 1.3986\n",
            "Epoch [4/5] Batch [1403/1654] Loss: 1.1926\n",
            "Epoch [4/5] Batch [1404/1654] Loss: 1.2991\n",
            "Epoch [4/5] Batch [1405/1654] Loss: 1.0139\n",
            "Epoch [4/5] Batch [1406/1654] Loss: 1.4977\n",
            "Epoch [4/5] Batch [1407/1654] Loss: 1.5841\n"
          ]
        },
        {
          "output_type": "stream",
          "name": "stderr",
          "text": [
            " 86%|████████▌ | 1415/1654 [00:42<00:06, 35.24it/s]"
          ]
        },
        {
          "output_type": "stream",
          "name": "stdout",
          "text": [
            "Epoch [4/5] Batch [1408/1654] Loss: 1.6147\n",
            "Epoch [4/5] Batch [1409/1654] Loss: 1.5261\n",
            "Epoch [4/5] Batch [1410/1654] Loss: 1.7405\n",
            "Epoch [4/5] Batch [1411/1654] Loss: 1.2548\n",
            "Epoch [4/5] Batch [1412/1654] Loss: 1.0437\n",
            "Epoch [4/5] Batch [1413/1654] Loss: 1.2051\n",
            "Epoch [4/5] Batch [1414/1654] Loss: 1.2899\n",
            "Epoch [4/5] Batch [1415/1654] Loss: 1.3846\n"
          ]
        },
        {
          "output_type": "stream",
          "name": "stderr",
          "text": [
            "\r 86%|████████▌ | 1419/1654 [00:42<00:06, 34.79it/s]"
          ]
        },
        {
          "output_type": "stream",
          "name": "stdout",
          "text": [
            "Epoch [4/5] Batch [1416/1654] Loss: 1.1953\n",
            "Epoch [4/5] Batch [1417/1654] Loss: 1.1898\n",
            "Epoch [4/5] Batch [1418/1654] Loss: 1.2010\n",
            "Epoch [4/5] Batch [1419/1654] Loss: 1.4972\n",
            "Epoch [4/5] Batch [1420/1654] Loss: 1.4172\n",
            "Epoch [4/5] Batch [1421/1654] Loss: 1.3006\n",
            "Epoch [4/5] Batch [1422/1654] Loss: 1.9968\n"
          ]
        },
        {
          "output_type": "stream",
          "name": "stderr",
          "text": [
            " 86%|████████▋ | 1427/1654 [00:42<00:06, 34.44it/s]"
          ]
        },
        {
          "output_type": "stream",
          "name": "stdout",
          "text": [
            "Epoch [4/5] Batch [1423/1654] Loss: 1.2643\n",
            "Epoch [4/5] Batch [1424/1654] Loss: 1.4278\n",
            "Epoch [4/5] Batch [1425/1654] Loss: 1.2317\n",
            "Epoch [4/5] Batch [1426/1654] Loss: 1.0636\n",
            "Epoch [4/5] Batch [1427/1654] Loss: 1.2478\n",
            "Epoch [4/5] Batch [1428/1654] Loss: 1.2676\n",
            "Epoch [4/5] Batch [1429/1654] Loss: 1.3504\n"
          ]
        },
        {
          "output_type": "stream",
          "name": "stderr",
          "text": [
            " 87%|████████▋ | 1435/1654 [00:43<00:06, 34.74it/s]"
          ]
        },
        {
          "output_type": "stream",
          "name": "stdout",
          "text": [
            "Epoch [4/5] Batch [1430/1654] Loss: 1.4638\n",
            "Epoch [4/5] Batch [1431/1654] Loss: 1.1573\n",
            "Epoch [4/5] Batch [1432/1654] Loss: 1.2131\n",
            "Epoch [4/5] Batch [1433/1654] Loss: 1.6339\n",
            "Epoch [4/5] Batch [1434/1654] Loss: 1.1680\n",
            "Epoch [4/5] Batch [1435/1654] Loss: 1.5332\n",
            "Epoch [4/5] Batch [1436/1654] Loss: 1.2186\n"
          ]
        },
        {
          "output_type": "stream",
          "name": "stderr",
          "text": [
            " 87%|████████▋ | 1443/1654 [00:43<00:06, 34.93it/s]"
          ]
        },
        {
          "output_type": "stream",
          "name": "stdout",
          "text": [
            "Epoch [4/5] Batch [1437/1654] Loss: 1.2875\n",
            "Epoch [4/5] Batch [1438/1654] Loss: 1.0096\n",
            "Epoch [4/5] Batch [1439/1654] Loss: 1.6071\n",
            "Epoch [4/5] Batch [1440/1654] Loss: 1.2866\n",
            "Epoch [4/5] Batch [1441/1654] Loss: 1.4653\n",
            "Epoch [4/5] Batch [1442/1654] Loss: 1.0978\n",
            "Epoch [4/5] Batch [1443/1654] Loss: 1.0160\n",
            "Epoch [4/5] Batch [1444/1654] Loss: 1.4624\n"
          ]
        },
        {
          "output_type": "stream",
          "name": "stderr",
          "text": [
            " 88%|████████▊ | 1451/1654 [00:43<00:05, 35.34it/s]"
          ]
        },
        {
          "output_type": "stream",
          "name": "stdout",
          "text": [
            "Epoch [4/5] Batch [1445/1654] Loss: 1.2406\n",
            "Epoch [4/5] Batch [1446/1654] Loss: 1.4099\n",
            "Epoch [4/5] Batch [1447/1654] Loss: 1.0644\n",
            "Epoch [4/5] Batch [1448/1654] Loss: 1.2663\n",
            "Epoch [4/5] Batch [1449/1654] Loss: 0.9510\n",
            "Epoch [4/5] Batch [1450/1654] Loss: 1.5188\n",
            "Epoch [4/5] Batch [1451/1654] Loss: 1.2498\n",
            "Epoch [4/5] Batch [1452/1654] Loss: 1.4867\n"
          ]
        },
        {
          "output_type": "stream",
          "name": "stderr",
          "text": [
            " 88%|████████▊ | 1459/1654 [00:43<00:05, 35.04it/s]"
          ]
        },
        {
          "output_type": "stream",
          "name": "stdout",
          "text": [
            "Epoch [4/5] Batch [1453/1654] Loss: 1.3575\n",
            "Epoch [4/5] Batch [1454/1654] Loss: 1.2853\n",
            "Epoch [4/5] Batch [1455/1654] Loss: 1.1449\n",
            "Epoch [4/5] Batch [1456/1654] Loss: 1.1981\n",
            "Epoch [4/5] Batch [1457/1654] Loss: 1.2653\n",
            "Epoch [4/5] Batch [1458/1654] Loss: 1.4094\n",
            "Epoch [4/5] Batch [1459/1654] Loss: 1.2910\n",
            "Epoch [4/5] Batch [1460/1654] Loss: 1.3385\n"
          ]
        },
        {
          "output_type": "stream",
          "name": "stderr",
          "text": [
            " 89%|████████▊ | 1467/1654 [00:44<00:05, 35.61it/s]"
          ]
        },
        {
          "output_type": "stream",
          "name": "stdout",
          "text": [
            "Epoch [4/5] Batch [1461/1654] Loss: 1.7467\n",
            "Epoch [4/5] Batch [1462/1654] Loss: 1.3402\n",
            "Epoch [4/5] Batch [1463/1654] Loss: 1.3569\n",
            "Epoch [4/5] Batch [1464/1654] Loss: 1.2310\n",
            "Epoch [4/5] Batch [1465/1654] Loss: 1.4745\n",
            "Epoch [4/5] Batch [1466/1654] Loss: 1.7652\n",
            "Epoch [4/5] Batch [1467/1654] Loss: 1.9016\n",
            "Epoch [4/5] Batch [1468/1654] Loss: 1.5117\n"
          ]
        },
        {
          "output_type": "stream",
          "name": "stderr",
          "text": [
            " 89%|████████▉ | 1475/1654 [00:44<00:04, 36.03it/s]"
          ]
        },
        {
          "output_type": "stream",
          "name": "stdout",
          "text": [
            "Epoch [4/5] Batch [1469/1654] Loss: 1.4621\n",
            "Epoch [4/5] Batch [1470/1654] Loss: 1.3465\n",
            "Epoch [4/5] Batch [1471/1654] Loss: 1.4273\n",
            "Epoch [4/5] Batch [1472/1654] Loss: 1.6764\n",
            "Epoch [4/5] Batch [1473/1654] Loss: 1.2852\n",
            "Epoch [4/5] Batch [1474/1654] Loss: 1.9700\n",
            "Epoch [4/5] Batch [1475/1654] Loss: 1.2991\n",
            "Epoch [4/5] Batch [1476/1654] Loss: 1.3819\n"
          ]
        },
        {
          "output_type": "stream",
          "name": "stderr",
          "text": [
            " 90%|████████▉ | 1483/1654 [00:44<00:04, 35.70it/s]"
          ]
        },
        {
          "output_type": "stream",
          "name": "stdout",
          "text": [
            "Epoch [4/5] Batch [1477/1654] Loss: 1.5881\n",
            "Epoch [4/5] Batch [1478/1654] Loss: 1.6321\n",
            "Epoch [4/5] Batch [1479/1654] Loss: 1.0598\n",
            "Epoch [4/5] Batch [1480/1654] Loss: 1.3615\n",
            "Epoch [4/5] Batch [1481/1654] Loss: 1.2147\n",
            "Epoch [4/5] Batch [1482/1654] Loss: 1.2772\n",
            "Epoch [4/5] Batch [1483/1654] Loss: 1.4711\n",
            "Epoch [4/5] Batch [1484/1654] Loss: 1.0999\n"
          ]
        },
        {
          "output_type": "stream",
          "name": "stderr",
          "text": [
            " 90%|█████████ | 1491/1654 [00:44<00:04, 35.40it/s]"
          ]
        },
        {
          "output_type": "stream",
          "name": "stdout",
          "text": [
            "Epoch [4/5] Batch [1485/1654] Loss: 1.4050\n",
            "Epoch [4/5] Batch [1486/1654] Loss: 1.4995\n",
            "Epoch [4/5] Batch [1487/1654] Loss: 1.3421\n",
            "Epoch [4/5] Batch [1488/1654] Loss: 1.2078\n",
            "Epoch [4/5] Batch [1489/1654] Loss: 1.5094\n",
            "Epoch [4/5] Batch [1490/1654] Loss: 1.8638\n",
            "Epoch [4/5] Batch [1491/1654] Loss: 1.2675\n",
            "Epoch [4/5] Batch [1492/1654] Loss: 1.4427\n"
          ]
        },
        {
          "output_type": "stream",
          "name": "stderr",
          "text": [
            " 91%|█████████ | 1499/1654 [00:44<00:04, 35.06it/s]"
          ]
        },
        {
          "output_type": "stream",
          "name": "stdout",
          "text": [
            "Epoch [4/5] Batch [1493/1654] Loss: 1.7130\n",
            "Epoch [4/5] Batch [1494/1654] Loss: 1.4528\n",
            "Epoch [4/5] Batch [1495/1654] Loss: 1.2855\n",
            "Epoch [4/5] Batch [1496/1654] Loss: 1.7239\n",
            "Epoch [4/5] Batch [1497/1654] Loss: 1.5866\n",
            "Epoch [4/5] Batch [1498/1654] Loss: 1.6103\n",
            "Epoch [4/5] Batch [1499/1654] Loss: 1.1965\n",
            "Epoch [4/5] Batch [1500/1654] Loss: 1.5677\n"
          ]
        },
        {
          "output_type": "stream",
          "name": "stderr",
          "text": [
            " 91%|█████████ | 1507/1654 [00:45<00:04, 35.54it/s]"
          ]
        },
        {
          "output_type": "stream",
          "name": "stdout",
          "text": [
            "Epoch [4/5] Batch [1501/1654] Loss: 1.6135\n",
            "Epoch [4/5] Batch [1502/1654] Loss: 1.8225\n",
            "Epoch [4/5] Batch [1503/1654] Loss: 1.6840\n",
            "Epoch [4/5] Batch [1504/1654] Loss: 1.4182\n",
            "Epoch [4/5] Batch [1505/1654] Loss: 1.4775\n",
            "Epoch [4/5] Batch [1506/1654] Loss: 1.3035\n",
            "Epoch [4/5] Batch [1507/1654] Loss: 1.3972\n",
            "Epoch [4/5] Batch [1508/1654] Loss: 1.1379\n"
          ]
        },
        {
          "output_type": "stream",
          "name": "stderr",
          "text": [
            " 92%|█████████▏| 1515/1654 [00:45<00:03, 35.58it/s]"
          ]
        },
        {
          "output_type": "stream",
          "name": "stdout",
          "text": [
            "Epoch [4/5] Batch [1509/1654] Loss: 1.2929\n",
            "Epoch [4/5] Batch [1510/1654] Loss: 1.3802\n",
            "Epoch [4/5] Batch [1511/1654] Loss: 1.5678\n",
            "Epoch [4/5] Batch [1512/1654] Loss: 1.2851\n",
            "Epoch [4/5] Batch [1513/1654] Loss: 1.3221\n",
            "Epoch [4/5] Batch [1514/1654] Loss: 1.3048\n",
            "Epoch [4/5] Batch [1515/1654] Loss: 1.5206\n",
            "Epoch [4/5] Batch [1516/1654] Loss: 1.3747\n"
          ]
        },
        {
          "output_type": "stream",
          "name": "stderr",
          "text": [
            " 92%|█████████▏| 1523/1654 [00:45<00:03, 35.72it/s]"
          ]
        },
        {
          "output_type": "stream",
          "name": "stdout",
          "text": [
            "Epoch [4/5] Batch [1517/1654] Loss: 1.8706\n",
            "Epoch [4/5] Batch [1518/1654] Loss: 0.9909\n",
            "Epoch [4/5] Batch [1519/1654] Loss: 1.4223\n",
            "Epoch [4/5] Batch [1520/1654] Loss: 1.6383\n",
            "Epoch [4/5] Batch [1521/1654] Loss: 1.4211\n",
            "Epoch [4/5] Batch [1522/1654] Loss: 1.5759\n",
            "Epoch [4/5] Batch [1523/1654] Loss: 1.3513\n",
            "Epoch [4/5] Batch [1524/1654] Loss: 1.2304\n"
          ]
        },
        {
          "output_type": "stream",
          "name": "stderr",
          "text": [
            " 93%|█████████▎| 1531/1654 [00:45<00:03, 36.01it/s]"
          ]
        },
        {
          "output_type": "stream",
          "name": "stdout",
          "text": [
            "Epoch [4/5] Batch [1525/1654] Loss: 1.3669\n",
            "Epoch [4/5] Batch [1526/1654] Loss: 1.3728\n",
            "Epoch [4/5] Batch [1527/1654] Loss: 1.2684\n",
            "Epoch [4/5] Batch [1528/1654] Loss: 1.3838\n",
            "Epoch [4/5] Batch [1529/1654] Loss: 1.3070\n",
            "Epoch [4/5] Batch [1530/1654] Loss: 1.2080\n",
            "Epoch [4/5] Batch [1531/1654] Loss: 1.4010\n"
          ]
        },
        {
          "output_type": "stream",
          "name": "stderr",
          "text": [
            " 93%|█████████▎| 1539/1654 [00:46<00:03, 35.15it/s]"
          ]
        },
        {
          "output_type": "stream",
          "name": "stdout",
          "text": [
            "Epoch [4/5] Batch [1532/1654] Loss: 1.3632\n",
            "Epoch [4/5] Batch [1533/1654] Loss: 1.3453\n",
            "Epoch [4/5] Batch [1534/1654] Loss: 1.8712\n",
            "Epoch [4/5] Batch [1535/1654] Loss: 1.1876\n",
            "Epoch [4/5] Batch [1536/1654] Loss: 1.1550\n",
            "Epoch [4/5] Batch [1537/1654] Loss: 1.1570\n",
            "Epoch [4/5] Batch [1538/1654] Loss: 1.4234\n",
            "Epoch [4/5] Batch [1539/1654] Loss: 1.3571\n"
          ]
        },
        {
          "output_type": "stream",
          "name": "stderr",
          "text": [
            " 94%|█████████▎| 1547/1654 [00:46<00:03, 35.12it/s]"
          ]
        },
        {
          "output_type": "stream",
          "name": "stdout",
          "text": [
            "Epoch [4/5] Batch [1540/1654] Loss: 1.4588\n",
            "Epoch [4/5] Batch [1541/1654] Loss: 1.1359\n",
            "Epoch [4/5] Batch [1542/1654] Loss: 1.3132\n",
            "Epoch [4/5] Batch [1543/1654] Loss: 1.5198\n",
            "Epoch [4/5] Batch [1544/1654] Loss: 1.3941\n",
            "Epoch [4/5] Batch [1545/1654] Loss: 1.1949\n",
            "Epoch [4/5] Batch [1546/1654] Loss: 1.4627\n",
            "Epoch [4/5] Batch [1547/1654] Loss: 1.3682\n"
          ]
        },
        {
          "output_type": "stream",
          "name": "stderr",
          "text": [
            " 94%|█████████▍| 1555/1654 [00:46<00:02, 35.06it/s]"
          ]
        },
        {
          "output_type": "stream",
          "name": "stdout",
          "text": [
            "Epoch [4/5] Batch [1548/1654] Loss: 1.2050\n",
            "Epoch [4/5] Batch [1549/1654] Loss: 1.2229\n",
            "Epoch [4/5] Batch [1550/1654] Loss: 1.0477\n",
            "Epoch [4/5] Batch [1551/1654] Loss: 1.5703\n",
            "Epoch [4/5] Batch [1552/1654] Loss: 1.4271\n",
            "Epoch [4/5] Batch [1553/1654] Loss: 1.3406\n",
            "Epoch [4/5] Batch [1554/1654] Loss: 1.0141\n",
            "Epoch [4/5] Batch [1555/1654] Loss: 1.4977\n"
          ]
        },
        {
          "output_type": "stream",
          "name": "stderr",
          "text": [
            " 94%|█████████▍| 1563/1654 [00:46<00:02, 35.07it/s]"
          ]
        },
        {
          "output_type": "stream",
          "name": "stdout",
          "text": [
            "Epoch [4/5] Batch [1556/1654] Loss: 1.4858\n",
            "Epoch [4/5] Batch [1557/1654] Loss: 1.6131\n",
            "Epoch [4/5] Batch [1558/1654] Loss: 1.3101\n",
            "Epoch [4/5] Batch [1559/1654] Loss: 1.1535\n",
            "Epoch [4/5] Batch [1560/1654] Loss: 1.0713\n",
            "Epoch [4/5] Batch [1561/1654] Loss: 1.2690\n",
            "Epoch [4/5] Batch [1562/1654] Loss: 0.9214\n",
            "Epoch [4/5] Batch [1563/1654] Loss: 1.6573\n"
          ]
        },
        {
          "output_type": "stream",
          "name": "stderr",
          "text": [
            " 95%|█████████▍| 1571/1654 [00:47<00:02, 35.17it/s]"
          ]
        },
        {
          "output_type": "stream",
          "name": "stdout",
          "text": [
            "Epoch [4/5] Batch [1564/1654] Loss: 1.4988\n",
            "Epoch [4/5] Batch [1565/1654] Loss: 1.4203\n",
            "Epoch [4/5] Batch [1566/1654] Loss: 1.3273\n",
            "Epoch [4/5] Batch [1567/1654] Loss: 0.8352\n",
            "Epoch [4/5] Batch [1568/1654] Loss: 1.7325\n",
            "Epoch [4/5] Batch [1569/1654] Loss: 1.4662\n",
            "Epoch [4/5] Batch [1570/1654] Loss: 1.4332\n",
            "Epoch [4/5] Batch [1571/1654] Loss: 1.6995\n"
          ]
        },
        {
          "output_type": "stream",
          "name": "stderr",
          "text": [
            " 95%|█████████▌| 1579/1654 [00:47<00:02, 36.05it/s]"
          ]
        },
        {
          "output_type": "stream",
          "name": "stdout",
          "text": [
            "Epoch [4/5] Batch [1572/1654] Loss: 1.5129\n",
            "Epoch [4/5] Batch [1573/1654] Loss: 1.2075\n",
            "Epoch [4/5] Batch [1574/1654] Loss: 1.3223\n",
            "Epoch [4/5] Batch [1575/1654] Loss: 1.3107\n",
            "Epoch [4/5] Batch [1576/1654] Loss: 1.3441\n",
            "Epoch [4/5] Batch [1577/1654] Loss: 1.1361\n",
            "Epoch [4/5] Batch [1578/1654] Loss: 1.5357\n",
            "Epoch [4/5] Batch [1579/1654] Loss: 1.2763\n"
          ]
        },
        {
          "output_type": "stream",
          "name": "stderr",
          "text": [
            " 96%|█████████▌| 1587/1654 [00:47<00:01, 35.86it/s]"
          ]
        },
        {
          "output_type": "stream",
          "name": "stdout",
          "text": [
            "Epoch [4/5] Batch [1580/1654] Loss: 1.1800\n",
            "Epoch [4/5] Batch [1581/1654] Loss: 1.4991\n",
            "Epoch [4/5] Batch [1582/1654] Loss: 1.6845\n",
            "Epoch [4/5] Batch [1583/1654] Loss: 1.4388\n",
            "Epoch [4/5] Batch [1584/1654] Loss: 1.1849\n",
            "Epoch [4/5] Batch [1585/1654] Loss: 1.4308\n",
            "Epoch [4/5] Batch [1586/1654] Loss: 1.4861\n",
            "Epoch [4/5] Batch [1587/1654] Loss: 1.9993\n"
          ]
        },
        {
          "output_type": "stream",
          "name": "stderr",
          "text": [
            " 96%|█████████▋| 1595/1654 [00:47<00:01, 35.91it/s]"
          ]
        },
        {
          "output_type": "stream",
          "name": "stdout",
          "text": [
            "Epoch [4/5] Batch [1588/1654] Loss: 1.4236\n",
            "Epoch [4/5] Batch [1589/1654] Loss: 1.1876\n",
            "Epoch [4/5] Batch [1590/1654] Loss: 0.9805\n",
            "Epoch [4/5] Batch [1591/1654] Loss: 1.3312\n",
            "Epoch [4/5] Batch [1592/1654] Loss: 1.3773\n",
            "Epoch [4/5] Batch [1593/1654] Loss: 1.2889\n",
            "Epoch [4/5] Batch [1594/1654] Loss: 1.2832\n",
            "Epoch [4/5] Batch [1595/1654] Loss: 1.3520\n"
          ]
        },
        {
          "output_type": "stream",
          "name": "stderr",
          "text": [
            " 97%|█████████▋| 1603/1654 [00:47<00:01, 35.71it/s]"
          ]
        },
        {
          "output_type": "stream",
          "name": "stdout",
          "text": [
            "Epoch [4/5] Batch [1596/1654] Loss: 1.2338\n",
            "Epoch [4/5] Batch [1597/1654] Loss: 1.5671\n",
            "Epoch [4/5] Batch [1598/1654] Loss: 1.4044\n",
            "Epoch [4/5] Batch [1599/1654] Loss: 1.3286\n",
            "Epoch [4/5] Batch [1600/1654] Loss: 1.0514\n",
            "Epoch [4/5] Batch [1601/1654] Loss: 1.4634\n",
            "Epoch [4/5] Batch [1602/1654] Loss: 1.5550\n",
            "Epoch [4/5] Batch [1603/1654] Loss: 1.3187\n"
          ]
        },
        {
          "output_type": "stream",
          "name": "stderr",
          "text": [
            " 97%|█████████▋| 1611/1654 [00:48<00:01, 35.42it/s]"
          ]
        },
        {
          "output_type": "stream",
          "name": "stdout",
          "text": [
            "Epoch [4/5] Batch [1604/1654] Loss: 1.4097\n",
            "Epoch [4/5] Batch [1605/1654] Loss: 1.6034\n",
            "Epoch [4/5] Batch [1606/1654] Loss: 1.3292\n",
            "Epoch [4/5] Batch [1607/1654] Loss: 1.3790\n",
            "Epoch [4/5] Batch [1608/1654] Loss: 1.5330\n",
            "Epoch [4/5] Batch [1609/1654] Loss: 1.1592\n",
            "Epoch [4/5] Batch [1610/1654] Loss: 1.4955\n",
            "Epoch [4/5] Batch [1611/1654] Loss: 1.3404\n"
          ]
        },
        {
          "output_type": "stream",
          "name": "stderr",
          "text": [
            " 98%|█████████▊| 1619/1654 [00:48<00:00, 35.96it/s]"
          ]
        },
        {
          "output_type": "stream",
          "name": "stdout",
          "text": [
            "Epoch [4/5] Batch [1612/1654] Loss: 1.2850\n",
            "Epoch [4/5] Batch [1613/1654] Loss: 1.7004\n",
            "Epoch [4/5] Batch [1614/1654] Loss: 1.6722\n",
            "Epoch [4/5] Batch [1615/1654] Loss: 1.7203\n",
            "Epoch [4/5] Batch [1616/1654] Loss: 1.1530\n",
            "Epoch [4/5] Batch [1617/1654] Loss: 1.5197\n",
            "Epoch [4/5] Batch [1618/1654] Loss: 1.7198\n",
            "Epoch [4/5] Batch [1619/1654] Loss: 1.1279\n"
          ]
        },
        {
          "output_type": "stream",
          "name": "stderr",
          "text": [
            " 98%|█████████▊| 1627/1654 [00:48<00:00, 36.31it/s]"
          ]
        },
        {
          "output_type": "stream",
          "name": "stdout",
          "text": [
            "Epoch [4/5] Batch [1620/1654] Loss: 1.5752\n",
            "Epoch [4/5] Batch [1621/1654] Loss: 1.8578\n",
            "Epoch [4/5] Batch [1622/1654] Loss: 1.4163\n",
            "Epoch [4/5] Batch [1623/1654] Loss: 1.2642\n",
            "Epoch [4/5] Batch [1624/1654] Loss: 0.9791\n",
            "Epoch [4/5] Batch [1625/1654] Loss: 1.5465\n",
            "Epoch [4/5] Batch [1626/1654] Loss: 1.0472\n",
            "Epoch [4/5] Batch [1627/1654] Loss: 1.0198\n"
          ]
        },
        {
          "output_type": "stream",
          "name": "stderr",
          "text": [
            " 99%|█████████▉| 1635/1654 [00:48<00:00, 36.00it/s]"
          ]
        },
        {
          "output_type": "stream",
          "name": "stdout",
          "text": [
            "Epoch [4/5] Batch [1628/1654] Loss: 1.4067\n",
            "Epoch [4/5] Batch [1629/1654] Loss: 1.4701\n",
            "Epoch [4/5] Batch [1630/1654] Loss: 1.4194\n",
            "Epoch [4/5] Batch [1631/1654] Loss: 1.2680\n",
            "Epoch [4/5] Batch [1632/1654] Loss: 1.3738\n",
            "Epoch [4/5] Batch [1633/1654] Loss: 1.7257\n",
            "Epoch [4/5] Batch [1634/1654] Loss: 1.2515\n",
            "Epoch [4/5] Batch [1635/1654] Loss: 1.7048\n"
          ]
        },
        {
          "output_type": "stream",
          "name": "stderr",
          "text": [
            " 99%|█████████▉| 1643/1654 [00:49<00:00, 35.22it/s]"
          ]
        },
        {
          "output_type": "stream",
          "name": "stdout",
          "text": [
            "Epoch [4/5] Batch [1636/1654] Loss: 1.5524\n",
            "Epoch [4/5] Batch [1637/1654] Loss: 1.3378\n",
            "Epoch [4/5] Batch [1638/1654] Loss: 1.6346\n",
            "Epoch [4/5] Batch [1639/1654] Loss: 1.3332\n",
            "Epoch [4/5] Batch [1640/1654] Loss: 1.6658\n",
            "Epoch [4/5] Batch [1641/1654] Loss: 1.4697\n",
            "Epoch [4/5] Batch [1642/1654] Loss: 1.2838\n",
            "Epoch [4/5] Batch [1643/1654] Loss: 1.6059\n"
          ]
        },
        {
          "output_type": "stream",
          "name": "stderr",
          "text": [
            "100%|█████████▉| 1651/1654 [00:49<00:00, 35.57it/s]"
          ]
        },
        {
          "output_type": "stream",
          "name": "stdout",
          "text": [
            "Epoch [4/5] Batch [1644/1654] Loss: 1.3802\n",
            "Epoch [4/5] Batch [1645/1654] Loss: 1.6014\n",
            "Epoch [4/5] Batch [1646/1654] Loss: 1.5399\n",
            "Epoch [4/5] Batch [1647/1654] Loss: 1.1240\n",
            "Epoch [4/5] Batch [1648/1654] Loss: 1.7001\n",
            "Epoch [4/5] Batch [1649/1654] Loss: 1.2577\n",
            "Epoch [4/5] Batch [1650/1654] Loss: 1.5408\n",
            "Epoch [4/5] Batch [1651/1654] Loss: 1.4152\n"
          ]
        },
        {
          "output_type": "stream",
          "name": "stderr",
          "text": [
            "\r100%|██████████| 1654/1654 [00:49<00:00, 33.51it/s]\n"
          ]
        },
        {
          "output_type": "stream",
          "name": "stdout",
          "text": [
            "Epoch [4/5] Batch [1652/1654] Loss: 1.2692\n",
            "Epoch [4/5] Batch [1653/1654] Loss: 1.4002\n",
            "Epoch [4/5] Batch [1654/1654] Loss: 1.4475\n",
            "\n",
            ">> Epoch 4 Average Loss: 1.4528\n",
            "\n"
          ]
        },
        {
          "output_type": "stream",
          "name": "stderr",
          "text": [
            "  0%|          | 4/1654 [00:00<00:50, 32.44it/s]"
          ]
        },
        {
          "output_type": "stream",
          "name": "stdout",
          "text": [
            "Epoch [5/5] Batch [1/1654] Loss: 1.0835\n",
            "Epoch [5/5] Batch [2/1654] Loss: 1.1640\n",
            "Epoch [5/5] Batch [3/1654] Loss: 1.2830\n",
            "Epoch [5/5] Batch [4/1654] Loss: 1.3553\n"
          ]
        },
        {
          "output_type": "stream",
          "name": "stderr",
          "text": [
            "\r  0%|          | 8/1654 [00:00<00:48, 33.79it/s]"
          ]
        },
        {
          "output_type": "stream",
          "name": "stdout",
          "text": [
            "Epoch [5/5] Batch [5/1654] Loss: 1.0978\n",
            "Epoch [5/5] Batch [6/1654] Loss: 1.4003\n",
            "Epoch [5/5] Batch [7/1654] Loss: 1.3603\n",
            "Epoch [5/5] Batch [8/1654] Loss: 1.1811\n",
            "Epoch [5/5] Batch [9/1654] Loss: 1.6522\n",
            "Epoch [5/5] Batch [10/1654] Loss: 1.2656\n",
            "Epoch [5/5] Batch [11/1654] Loss: 1.5906\n"
          ]
        },
        {
          "output_type": "stream",
          "name": "stderr",
          "text": [
            "\r  1%|          | 12/1654 [00:00<00:55, 29.54it/s]"
          ]
        },
        {
          "output_type": "stream",
          "name": "stdout",
          "text": [
            "Epoch [5/5] Batch [12/1654] Loss: 1.3987\n",
            "Epoch [5/5] Batch [13/1654] Loss: 1.5816\n",
            "Epoch [5/5] Batch [14/1654] Loss: 1.4312\n"
          ]
        },
        {
          "output_type": "stream",
          "name": "stderr",
          "text": [
            "\r  1%|          | 16/1654 [00:00<00:55, 29.56it/s]"
          ]
        },
        {
          "output_type": "stream",
          "name": "stdout",
          "text": [
            "Epoch [5/5] Batch [15/1654] Loss: 1.3838\n",
            "Epoch [5/5] Batch [16/1654] Loss: 1.3411\n",
            "Epoch [5/5] Batch [17/1654] Loss: 1.3503\n"
          ]
        },
        {
          "output_type": "stream",
          "name": "stderr",
          "text": [
            "\r  1%|          | 19/1654 [00:00<00:56, 28.97it/s]"
          ]
        },
        {
          "output_type": "stream",
          "name": "stdout",
          "text": [
            "Epoch [5/5] Batch [18/1654] Loss: 1.5146\n",
            "Epoch [5/5] Batch [19/1654] Loss: 1.5924\n",
            "Epoch [5/5] Batch [20/1654] Loss: 1.2493\n"
          ]
        },
        {
          "output_type": "stream",
          "name": "stderr",
          "text": [
            "\r  1%|▏         | 22/1654 [00:00<00:59, 27.50it/s]"
          ]
        },
        {
          "output_type": "stream",
          "name": "stdout",
          "text": [
            "Epoch [5/5] Batch [21/1654] Loss: 1.6981\n",
            "Epoch [5/5] Batch [22/1654] Loss: 1.4294\n",
            "Epoch [5/5] Batch [23/1654] Loss: 1.1247\n"
          ]
        },
        {
          "output_type": "stream",
          "name": "stderr",
          "text": [
            "\r  2%|▏         | 25/1654 [00:00<01:00, 26.76it/s]"
          ]
        },
        {
          "output_type": "stream",
          "name": "stdout",
          "text": [
            "Epoch [5/5] Batch [24/1654] Loss: 1.2937\n",
            "Epoch [5/5] Batch [25/1654] Loss: 1.2654\n",
            "Epoch [5/5] Batch [26/1654] Loss: 1.4306\n"
          ]
        },
        {
          "output_type": "stream",
          "name": "stderr",
          "text": [
            "\r  2%|▏         | 28/1654 [00:00<01:00, 26.92it/s]"
          ]
        },
        {
          "output_type": "stream",
          "name": "stdout",
          "text": [
            "Epoch [5/5] Batch [27/1654] Loss: 0.8284\n",
            "Epoch [5/5] Batch [28/1654] Loss: 1.6506\n",
            "Epoch [5/5] Batch [29/1654] Loss: 1.4640\n"
          ]
        },
        {
          "output_type": "stream",
          "name": "stderr",
          "text": [
            "\r  2%|▏         | 31/1654 [00:01<01:00, 26.81it/s]"
          ]
        },
        {
          "output_type": "stream",
          "name": "stdout",
          "text": [
            "Epoch [5/5] Batch [30/1654] Loss: 1.1279\n",
            "Epoch [5/5] Batch [31/1654] Loss: 1.1769\n",
            "Epoch [5/5] Batch [32/1654] Loss: 1.4340\n"
          ]
        },
        {
          "output_type": "stream",
          "name": "stderr",
          "text": [
            "\r  2%|▏         | 34/1654 [00:01<01:02, 26.11it/s]"
          ]
        },
        {
          "output_type": "stream",
          "name": "stdout",
          "text": [
            "Epoch [5/5] Batch [33/1654] Loss: 1.5395\n",
            "Epoch [5/5] Batch [34/1654] Loss: 1.3212\n",
            "Epoch [5/5] Batch [35/1654] Loss: 1.4394\n"
          ]
        },
        {
          "output_type": "stream",
          "name": "stderr",
          "text": [
            "\r  2%|▏         | 37/1654 [00:01<01:00, 26.83it/s]"
          ]
        },
        {
          "output_type": "stream",
          "name": "stdout",
          "text": [
            "Epoch [5/5] Batch [36/1654] Loss: 1.4369\n",
            "Epoch [5/5] Batch [37/1654] Loss: 1.6283\n",
            "Epoch [5/5] Batch [38/1654] Loss: 1.3607\n"
          ]
        },
        {
          "output_type": "stream",
          "name": "stderr",
          "text": [
            "\r  2%|▏         | 40/1654 [00:01<01:01, 26.40it/s]"
          ]
        },
        {
          "output_type": "stream",
          "name": "stdout",
          "text": [
            "Epoch [5/5] Batch [39/1654] Loss: 1.1406\n",
            "Epoch [5/5] Batch [40/1654] Loss: 1.4570\n"
          ]
        },
        {
          "output_type": "stream",
          "name": "stderr",
          "text": [
            "\r  3%|▎         | 43/1654 [00:01<01:01, 26.10it/s]"
          ]
        },
        {
          "output_type": "stream",
          "name": "stdout",
          "text": [
            "Epoch [5/5] Batch [41/1654] Loss: 1.4882\n",
            "Epoch [5/5] Batch [42/1654] Loss: 1.6218\n",
            "Epoch [5/5] Batch [43/1654] Loss: 1.5710\n",
            "Epoch [5/5] Batch [44/1654] Loss: 1.3248\n"
          ]
        },
        {
          "output_type": "stream",
          "name": "stderr",
          "text": [
            "\r  3%|▎         | 46/1654 [00:01<01:00, 26.75it/s]"
          ]
        },
        {
          "output_type": "stream",
          "name": "stdout",
          "text": [
            "Epoch [5/5] Batch [45/1654] Loss: 1.3684\n",
            "Epoch [5/5] Batch [46/1654] Loss: 1.3849\n"
          ]
        },
        {
          "output_type": "stream",
          "name": "stderr",
          "text": [
            "\r  3%|▎         | 49/1654 [00:01<01:00, 26.46it/s]"
          ]
        },
        {
          "output_type": "stream",
          "name": "stdout",
          "text": [
            "Epoch [5/5] Batch [47/1654] Loss: 1.4159\n",
            "Epoch [5/5] Batch [48/1654] Loss: 1.1343\n",
            "Epoch [5/5] Batch [49/1654] Loss: 1.4333\n",
            "Epoch [5/5] Batch [50/1654] Loss: 1.2463\n"
          ]
        },
        {
          "output_type": "stream",
          "name": "stderr",
          "text": [
            "\r  3%|▎         | 52/1654 [00:01<00:58, 27.18it/s]"
          ]
        },
        {
          "output_type": "stream",
          "name": "stdout",
          "text": [
            "Epoch [5/5] Batch [51/1654] Loss: 1.5800\n",
            "Epoch [5/5] Batch [52/1654] Loss: 1.4777\n"
          ]
        },
        {
          "output_type": "stream",
          "name": "stderr",
          "text": [
            "\r  3%|▎         | 55/1654 [00:01<00:58, 27.47it/s]"
          ]
        },
        {
          "output_type": "stream",
          "name": "stdout",
          "text": [
            "Epoch [5/5] Batch [53/1654] Loss: 1.1352\n",
            "Epoch [5/5] Batch [54/1654] Loss: 1.2389\n",
            "Epoch [5/5] Batch [55/1654] Loss: 1.6068\n",
            "Epoch [5/5] Batch [56/1654] Loss: 1.4463\n"
          ]
        },
        {
          "output_type": "stream",
          "name": "stderr",
          "text": [
            "\r  4%|▎         | 58/1654 [00:02<01:00, 26.28it/s]"
          ]
        },
        {
          "output_type": "stream",
          "name": "stdout",
          "text": [
            "Epoch [5/5] Batch [57/1654] Loss: 1.1488\n",
            "Epoch [5/5] Batch [58/1654] Loss: 1.1399\n"
          ]
        },
        {
          "output_type": "stream",
          "name": "stderr",
          "text": [
            "\r  4%|▎         | 61/1654 [00:02<00:58, 27.04it/s]"
          ]
        },
        {
          "output_type": "stream",
          "name": "stdout",
          "text": [
            "Epoch [5/5] Batch [59/1654] Loss: 1.3031\n",
            "Epoch [5/5] Batch [60/1654] Loss: 1.2205\n",
            "Epoch [5/5] Batch [61/1654] Loss: 1.2694\n",
            "Epoch [5/5] Batch [62/1654] Loss: 1.5194\n"
          ]
        },
        {
          "output_type": "stream",
          "name": "stderr",
          "text": [
            "\r  4%|▍         | 64/1654 [00:02<00:59, 26.94it/s]"
          ]
        },
        {
          "output_type": "stream",
          "name": "stdout",
          "text": [
            "Epoch [5/5] Batch [63/1654] Loss: 1.5619\n",
            "Epoch [5/5] Batch [64/1654] Loss: 1.1054\n"
          ]
        },
        {
          "output_type": "stream",
          "name": "stderr",
          "text": [
            "\r  4%|▍         | 67/1654 [00:02<00:59, 26.52it/s]"
          ]
        },
        {
          "output_type": "stream",
          "name": "stdout",
          "text": [
            "Epoch [5/5] Batch [65/1654] Loss: 1.5406\n",
            "Epoch [5/5] Batch [66/1654] Loss: 1.3542\n",
            "Epoch [5/5] Batch [67/1654] Loss: 1.6024\n",
            "Epoch [5/5] Batch [68/1654] Loss: 0.9329\n"
          ]
        },
        {
          "output_type": "stream",
          "name": "stderr",
          "text": [
            "\r  4%|▍         | 70/1654 [00:02<00:59, 26.61it/s]"
          ]
        },
        {
          "output_type": "stream",
          "name": "stdout",
          "text": [
            "Epoch [5/5] Batch [69/1654] Loss: 1.7462\n",
            "Epoch [5/5] Batch [70/1654] Loss: 1.0734\n"
          ]
        },
        {
          "output_type": "stream",
          "name": "stderr",
          "text": [
            "\r  4%|▍         | 73/1654 [00:02<01:01, 25.91it/s]"
          ]
        },
        {
          "output_type": "stream",
          "name": "stdout",
          "text": [
            "Epoch [5/5] Batch [71/1654] Loss: 1.5322\n",
            "Epoch [5/5] Batch [72/1654] Loss: 1.3512\n",
            "Epoch [5/5] Batch [73/1654] Loss: 1.5547\n",
            "Epoch [5/5] Batch [74/1654] Loss: 1.1790\n"
          ]
        },
        {
          "output_type": "stream",
          "name": "stderr",
          "text": [
            "\r  5%|▍         | 76/1654 [00:02<01:00, 26.22it/s]"
          ]
        },
        {
          "output_type": "stream",
          "name": "stdout",
          "text": [
            "Epoch [5/5] Batch [75/1654] Loss: 1.5539\n",
            "Epoch [5/5] Batch [76/1654] Loss: 1.1161\n"
          ]
        },
        {
          "output_type": "stream",
          "name": "stderr",
          "text": [
            "\r  5%|▍         | 79/1654 [00:02<01:00, 26.08it/s]"
          ]
        },
        {
          "output_type": "stream",
          "name": "stdout",
          "text": [
            "Epoch [5/5] Batch [77/1654] Loss: 1.2047\n",
            "Epoch [5/5] Batch [78/1654] Loss: 1.4911\n",
            "Epoch [5/5] Batch [79/1654] Loss: 1.3966\n",
            "Epoch [5/5] Batch [80/1654] Loss: 1.3042\n"
          ]
        },
        {
          "output_type": "stream",
          "name": "stderr",
          "text": [
            "\r  5%|▌         | 83/1654 [00:03<00:54, 28.72it/s]"
          ]
        },
        {
          "output_type": "stream",
          "name": "stdout",
          "text": [
            "Epoch [5/5] Batch [81/1654] Loss: 1.1791\n",
            "Epoch [5/5] Batch [82/1654] Loss: 1.3864\n",
            "Epoch [5/5] Batch [83/1654] Loss: 1.2441\n"
          ]
        },
        {
          "output_type": "stream",
          "name": "stderr",
          "text": [
            "\r  5%|▌         | 87/1654 [00:03<00:51, 30.70it/s]"
          ]
        },
        {
          "output_type": "stream",
          "name": "stdout",
          "text": [
            "Epoch [5/5] Batch [84/1654] Loss: 1.1490\n",
            "Epoch [5/5] Batch [85/1654] Loss: 1.3155\n",
            "Epoch [5/5] Batch [86/1654] Loss: 1.1288\n",
            "Epoch [5/5] Batch [87/1654] Loss: 1.4029\n"
          ]
        },
        {
          "output_type": "stream",
          "name": "stderr",
          "text": [
            "\r  6%|▌         | 91/1654 [00:03<00:49, 31.47it/s]"
          ]
        },
        {
          "output_type": "stream",
          "name": "stdout",
          "text": [
            "Epoch [5/5] Batch [88/1654] Loss: 1.7197\n",
            "Epoch [5/5] Batch [89/1654] Loss: 1.5090\n",
            "Epoch [5/5] Batch [90/1654] Loss: 1.5964\n",
            "Epoch [5/5] Batch [91/1654] Loss: 1.5849\n"
          ]
        },
        {
          "output_type": "stream",
          "name": "stderr",
          "text": [
            "\r  6%|▌         | 95/1654 [00:03<00:47, 32.75it/s]"
          ]
        },
        {
          "output_type": "stream",
          "name": "stdout",
          "text": [
            "Epoch [5/5] Batch [92/1654] Loss: 1.3188\n",
            "Epoch [5/5] Batch [93/1654] Loss: 1.6770\n",
            "Epoch [5/5] Batch [94/1654] Loss: 1.5846\n",
            "Epoch [5/5] Batch [95/1654] Loss: 1.4929\n"
          ]
        },
        {
          "output_type": "stream",
          "name": "stderr",
          "text": [
            "\r  6%|▌         | 99/1654 [00:03<00:47, 33.04it/s]"
          ]
        },
        {
          "output_type": "stream",
          "name": "stdout",
          "text": [
            "Epoch [5/5] Batch [96/1654] Loss: 1.3959\n",
            "Epoch [5/5] Batch [97/1654] Loss: 1.1304\n",
            "Epoch [5/5] Batch [98/1654] Loss: 1.2218\n",
            "Epoch [5/5] Batch [99/1654] Loss: 1.2563\n"
          ]
        },
        {
          "output_type": "stream",
          "name": "stderr",
          "text": [
            "\r  6%|▌         | 103/1654 [00:03<00:46, 33.55it/s]"
          ]
        },
        {
          "output_type": "stream",
          "name": "stdout",
          "text": [
            "Epoch [5/5] Batch [100/1654] Loss: 1.3625\n",
            "Epoch [5/5] Batch [101/1654] Loss: 1.1064\n",
            "Epoch [5/5] Batch [102/1654] Loss: 1.2446\n",
            "Epoch [5/5] Batch [103/1654] Loss: 1.1766\n"
          ]
        },
        {
          "output_type": "stream",
          "name": "stderr",
          "text": [
            "\r  6%|▋         | 107/1654 [00:03<00:45, 33.75it/s]"
          ]
        },
        {
          "output_type": "stream",
          "name": "stdout",
          "text": [
            "Epoch [5/5] Batch [104/1654] Loss: 1.3948\n",
            "Epoch [5/5] Batch [105/1654] Loss: 1.5525\n",
            "Epoch [5/5] Batch [106/1654] Loss: 1.8922\n",
            "Epoch [5/5] Batch [107/1654] Loss: 1.0247\n"
          ]
        },
        {
          "output_type": "stream",
          "name": "stderr",
          "text": [
            "\r  7%|▋         | 111/1654 [00:03<00:45, 34.12it/s]"
          ]
        },
        {
          "output_type": "stream",
          "name": "stdout",
          "text": [
            "Epoch [5/5] Batch [108/1654] Loss: 1.3775\n",
            "Epoch [5/5] Batch [109/1654] Loss: 1.2384\n",
            "Epoch [5/5] Batch [110/1654] Loss: 1.4219\n",
            "Epoch [5/5] Batch [111/1654] Loss: 1.6085\n",
            "Epoch [5/5] Batch [112/1654] Loss: 1.7647\n",
            "Epoch [5/5] Batch [113/1654] Loss: 1.2467\n",
            "Epoch [5/5] Batch [114/1654] Loss: 1.2660\n"
          ]
        },
        {
          "output_type": "stream",
          "name": "stderr",
          "text": [
            "  7%|▋         | 119/1654 [00:04<00:44, 34.24it/s]"
          ]
        },
        {
          "output_type": "stream",
          "name": "stdout",
          "text": [
            "Epoch [5/5] Batch [115/1654] Loss: 1.3604\n",
            "Epoch [5/5] Batch [116/1654] Loss: 1.4795\n",
            "Epoch [5/5] Batch [117/1654] Loss: 1.2517\n",
            "Epoch [5/5] Batch [118/1654] Loss: 1.1791\n",
            "Epoch [5/5] Batch [119/1654] Loss: 1.8989\n",
            "Epoch [5/5] Batch [120/1654] Loss: 1.7305\n",
            "Epoch [5/5] Batch [121/1654] Loss: 1.3716\n",
            "Epoch [5/5] Batch [122/1654] Loss: 1.3735\n"
          ]
        },
        {
          "output_type": "stream",
          "name": "stderr",
          "text": [
            "  8%|▊         | 127/1654 [00:04<00:43, 34.86it/s]"
          ]
        },
        {
          "output_type": "stream",
          "name": "stdout",
          "text": [
            "Epoch [5/5] Batch [123/1654] Loss: 1.0139\n",
            "Epoch [5/5] Batch [124/1654] Loss: 1.2815\n",
            "Epoch [5/5] Batch [125/1654] Loss: 1.5572\n",
            "Epoch [5/5] Batch [126/1654] Loss: 1.3591\n",
            "Epoch [5/5] Batch [127/1654] Loss: 1.5732\n",
            "Epoch [5/5] Batch [128/1654] Loss: 1.4808\n",
            "Epoch [5/5] Batch [129/1654] Loss: 1.5461\n",
            "Epoch [5/5] Batch [130/1654] Loss: 1.3411\n"
          ]
        },
        {
          "output_type": "stream",
          "name": "stderr",
          "text": [
            "  8%|▊         | 135/1654 [00:04<00:42, 35.47it/s]"
          ]
        },
        {
          "output_type": "stream",
          "name": "stdout",
          "text": [
            "Epoch [5/5] Batch [131/1654] Loss: 1.4219\n",
            "Epoch [5/5] Batch [132/1654] Loss: 1.5787\n",
            "Epoch [5/5] Batch [133/1654] Loss: 1.3701\n",
            "Epoch [5/5] Batch [134/1654] Loss: 1.2662\n",
            "Epoch [5/5] Batch [135/1654] Loss: 1.6408\n",
            "Epoch [5/5] Batch [136/1654] Loss: 1.3782\n",
            "Epoch [5/5] Batch [137/1654] Loss: 1.2776\n",
            "Epoch [5/5] Batch [138/1654] Loss: 1.2640\n"
          ]
        },
        {
          "output_type": "stream",
          "name": "stderr",
          "text": [
            "  9%|▊         | 143/1654 [00:04<00:41, 36.54it/s]"
          ]
        },
        {
          "output_type": "stream",
          "name": "stdout",
          "text": [
            "Epoch [5/5] Batch [139/1654] Loss: 1.9693\n",
            "Epoch [5/5] Batch [140/1654] Loss: 1.1011\n",
            "Epoch [5/5] Batch [141/1654] Loss: 1.3991\n",
            "Epoch [5/5] Batch [142/1654] Loss: 1.3131\n",
            "Epoch [5/5] Batch [143/1654] Loss: 1.4937\n",
            "Epoch [5/5] Batch [144/1654] Loss: 1.2911\n",
            "Epoch [5/5] Batch [145/1654] Loss: 1.4594\n",
            "Epoch [5/5] Batch [146/1654] Loss: 1.3509\n"
          ]
        },
        {
          "output_type": "stream",
          "name": "stderr",
          "text": [
            "  9%|▉         | 151/1654 [00:04<00:42, 35.31it/s]"
          ]
        },
        {
          "output_type": "stream",
          "name": "stdout",
          "text": [
            "Epoch [5/5] Batch [147/1654] Loss: 1.0898\n",
            "Epoch [5/5] Batch [148/1654] Loss: 0.9728\n",
            "Epoch [5/5] Batch [149/1654] Loss: 1.4536\n",
            "Epoch [5/5] Batch [150/1654] Loss: 1.4901\n",
            "Epoch [5/5] Batch [151/1654] Loss: 1.2204\n",
            "Epoch [5/5] Batch [152/1654] Loss: 1.2125\n",
            "Epoch [5/5] Batch [153/1654] Loss: 1.0044\n"
          ]
        },
        {
          "output_type": "stream",
          "name": "stderr",
          "text": [
            " 10%|▉         | 159/1654 [00:05<00:42, 35.22it/s]"
          ]
        },
        {
          "output_type": "stream",
          "name": "stdout",
          "text": [
            "Epoch [5/5] Batch [154/1654] Loss: 1.2617\n",
            "Epoch [5/5] Batch [155/1654] Loss: 1.6639\n",
            "Epoch [5/5] Batch [156/1654] Loss: 1.5228\n",
            "Epoch [5/5] Batch [157/1654] Loss: 1.4216\n",
            "Epoch [5/5] Batch [158/1654] Loss: 1.3198\n",
            "Epoch [5/5] Batch [159/1654] Loss: 1.3457\n",
            "Epoch [5/5] Batch [160/1654] Loss: 1.5586\n"
          ]
        },
        {
          "output_type": "stream",
          "name": "stderr",
          "text": [
            " 10%|█         | 167/1654 [00:05<00:42, 35.05it/s]"
          ]
        },
        {
          "output_type": "stream",
          "name": "stdout",
          "text": [
            "Epoch [5/5] Batch [161/1654] Loss: 1.3984\n",
            "Epoch [5/5] Batch [162/1654] Loss: 1.3320\n",
            "Epoch [5/5] Batch [163/1654] Loss: 1.3510\n",
            "Epoch [5/5] Batch [164/1654] Loss: 1.8156\n",
            "Epoch [5/5] Batch [165/1654] Loss: 1.3659\n",
            "Epoch [5/5] Batch [166/1654] Loss: 1.2401\n",
            "Epoch [5/5] Batch [167/1654] Loss: 1.3786\n",
            "Epoch [5/5] Batch [168/1654] Loss: 1.4845\n"
          ]
        },
        {
          "output_type": "stream",
          "name": "stderr",
          "text": [
            " 11%|█         | 175/1654 [00:05<00:41, 35.63it/s]"
          ]
        },
        {
          "output_type": "stream",
          "name": "stdout",
          "text": [
            "Epoch [5/5] Batch [169/1654] Loss: 1.5586\n",
            "Epoch [5/5] Batch [170/1654] Loss: 1.1922\n",
            "Epoch [5/5] Batch [171/1654] Loss: 1.5208\n",
            "Epoch [5/5] Batch [172/1654] Loss: 1.4888\n",
            "Epoch [5/5] Batch [173/1654] Loss: 1.1486\n",
            "Epoch [5/5] Batch [174/1654] Loss: 1.2619\n",
            "Epoch [5/5] Batch [175/1654] Loss: 1.3640\n",
            "Epoch [5/5] Batch [176/1654] Loss: 1.3746\n"
          ]
        },
        {
          "output_type": "stream",
          "name": "stderr",
          "text": [
            " 11%|█         | 183/1654 [00:05<00:41, 35.54it/s]"
          ]
        },
        {
          "output_type": "stream",
          "name": "stdout",
          "text": [
            "Epoch [5/5] Batch [177/1654] Loss: 1.3792\n",
            "Epoch [5/5] Batch [178/1654] Loss: 1.4280\n",
            "Epoch [5/5] Batch [179/1654] Loss: 1.4896\n",
            "Epoch [5/5] Batch [180/1654] Loss: 1.4617\n",
            "Epoch [5/5] Batch [181/1654] Loss: 1.3369\n",
            "Epoch [5/5] Batch [182/1654] Loss: 1.3580\n",
            "Epoch [5/5] Batch [183/1654] Loss: 1.1330\n",
            "Epoch [5/5] Batch [184/1654] Loss: 0.9764\n"
          ]
        },
        {
          "output_type": "stream",
          "name": "stderr",
          "text": [
            "\r 11%|█▏        | 187/1654 [00:06<00:43, 33.89it/s]"
          ]
        },
        {
          "output_type": "stream",
          "name": "stdout",
          "text": [
            "Epoch [5/5] Batch [185/1654] Loss: 1.4465\n",
            "Epoch [5/5] Batch [186/1654] Loss: 1.2587\n",
            "Epoch [5/5] Batch [187/1654] Loss: 1.4263\n",
            "Epoch [5/5] Batch [188/1654] Loss: 1.6347\n",
            "Epoch [5/5] Batch [189/1654] Loss: 1.1400\n",
            "Epoch [5/5] Batch [190/1654] Loss: 1.4958\n"
          ]
        },
        {
          "output_type": "stream",
          "name": "stderr",
          "text": [
            "\r 12%|█▏        | 191/1654 [00:06<00:42, 34.67it/s]"
          ]
        },
        {
          "output_type": "stream",
          "name": "stdout",
          "text": [
            "Epoch [5/5] Batch [191/1654] Loss: 1.4836\n"
          ]
        },
        {
          "output_type": "stream",
          "name": "stderr",
          "text": [
            "\r 12%|█▏        | 195/1654 [00:06<00:42, 34.37it/s]"
          ]
        },
        {
          "output_type": "stream",
          "name": "stdout",
          "text": [
            "Epoch [5/5] Batch [192/1654] Loss: 1.5805\n",
            "Epoch [5/5] Batch [193/1654] Loss: 1.1437\n",
            "Epoch [5/5] Batch [194/1654] Loss: 1.6349\n",
            "Epoch [5/5] Batch [195/1654] Loss: 1.4733\n",
            "Epoch [5/5] Batch [196/1654] Loss: 1.4979\n",
            "Epoch [5/5] Batch [197/1654] Loss: 1.4372\n"
          ]
        },
        {
          "output_type": "stream",
          "name": "stderr",
          "text": [
            "\r 12%|█▏        | 199/1654 [00:06<00:42, 34.53it/s]"
          ]
        },
        {
          "output_type": "stream",
          "name": "stdout",
          "text": [
            "Epoch [5/5] Batch [198/1654] Loss: 1.0243\n",
            "Epoch [5/5] Batch [199/1654] Loss: 1.3668\n"
          ]
        },
        {
          "output_type": "stream",
          "name": "stderr",
          "text": [
            "\r 12%|█▏        | 203/1654 [00:06<00:41, 34.78it/s]"
          ]
        },
        {
          "output_type": "stream",
          "name": "stdout",
          "text": [
            "Epoch [5/5] Batch [200/1654] Loss: 1.1325\n",
            "Epoch [5/5] Batch [201/1654] Loss: 1.3531\n",
            "Epoch [5/5] Batch [202/1654] Loss: 1.7979\n",
            "Epoch [5/5] Batch [203/1654] Loss: 1.5287\n",
            "Epoch [5/5] Batch [204/1654] Loss: 1.2623\n",
            "Epoch [5/5] Batch [205/1654] Loss: 1.2179\n"
          ]
        },
        {
          "output_type": "stream",
          "name": "stderr",
          "text": [
            "\r 13%|█▎        | 207/1654 [00:06<00:41, 34.71it/s]"
          ]
        },
        {
          "output_type": "stream",
          "name": "stdout",
          "text": [
            "Epoch [5/5] Batch [206/1654] Loss: 1.3685\n",
            "Epoch [5/5] Batch [207/1654] Loss: 1.6992\n"
          ]
        },
        {
          "output_type": "stream",
          "name": "stderr",
          "text": [
            "\r 13%|█▎        | 211/1654 [00:06<00:41, 34.70it/s]"
          ]
        },
        {
          "output_type": "stream",
          "name": "stdout",
          "text": [
            "Epoch [5/5] Batch [208/1654] Loss: 1.2949\n",
            "Epoch [5/5] Batch [209/1654] Loss: 1.3985\n",
            "Epoch [5/5] Batch [210/1654] Loss: 1.1186\n",
            "Epoch [5/5] Batch [211/1654] Loss: 1.4434\n",
            "Epoch [5/5] Batch [212/1654] Loss: 1.6844\n"
          ]
        },
        {
          "output_type": "stream",
          "name": "stderr",
          "text": [
            "\r 13%|█▎        | 215/1654 [00:06<00:41, 34.50it/s]"
          ]
        },
        {
          "output_type": "stream",
          "name": "stdout",
          "text": [
            "Epoch [5/5] Batch [213/1654] Loss: 1.1938\n",
            "Epoch [5/5] Batch [214/1654] Loss: 1.1608\n",
            "Epoch [5/5] Batch [215/1654] Loss: 1.4044\n"
          ]
        },
        {
          "output_type": "stream",
          "name": "stderr",
          "text": [
            "\r 13%|█▎        | 219/1654 [00:06<00:41, 34.39it/s]"
          ]
        },
        {
          "output_type": "stream",
          "name": "stdout",
          "text": [
            "Epoch [5/5] Batch [216/1654] Loss: 1.3772\n",
            "Epoch [5/5] Batch [217/1654] Loss: 1.2918\n",
            "Epoch [5/5] Batch [218/1654] Loss: 1.2687\n",
            "Epoch [5/5] Batch [219/1654] Loss: 1.3753\n",
            "Epoch [5/5] Batch [220/1654] Loss: 1.2183\n",
            "Epoch [5/5] Batch [221/1654] Loss: 1.1859\n",
            "Epoch [5/5] Batch [222/1654] Loss: 1.1737\n"
          ]
        },
        {
          "output_type": "stream",
          "name": "stderr",
          "text": [
            "\r 13%|█▎        | 223/1654 [00:07<00:44, 32.17it/s]"
          ]
        },
        {
          "output_type": "stream",
          "name": "stdout",
          "text": [
            "Epoch [5/5] Batch [223/1654] Loss: 1.4801\n",
            "Epoch [5/5] Batch [224/1654] Loss: 0.9883\n",
            "Epoch [5/5] Batch [225/1654] Loss: 1.3438\n",
            "Epoch [5/5] Batch [226/1654] Loss: 1.1637\n"
          ]
        },
        {
          "output_type": "stream",
          "name": "stderr",
          "text": [
            "\r 14%|█▎        | 227/1654 [00:07<00:44, 32.30it/s]"
          ]
        },
        {
          "output_type": "stream",
          "name": "stdout",
          "text": [
            "Epoch [5/5] Batch [227/1654] Loss: 1.2080\n",
            "Epoch [5/5] Batch [228/1654] Loss: 1.1202\n",
            "Epoch [5/5] Batch [229/1654] Loss: 1.5230\n"
          ]
        },
        {
          "output_type": "stream",
          "name": "stderr",
          "text": [
            "\r 14%|█▍        | 231/1654 [00:07<00:43, 32.73it/s]"
          ]
        },
        {
          "output_type": "stream",
          "name": "stdout",
          "text": [
            "Epoch [5/5] Batch [230/1654] Loss: 1.4634\n",
            "Epoch [5/5] Batch [231/1654] Loss: 1.2427\n",
            "Epoch [5/5] Batch [232/1654] Loss: 1.0691\n",
            "Epoch [5/5] Batch [233/1654] Loss: 1.3076\n"
          ]
        },
        {
          "output_type": "stream",
          "name": "stderr",
          "text": [
            "\r 14%|█▍        | 235/1654 [00:07<00:42, 33.04it/s]"
          ]
        },
        {
          "output_type": "stream",
          "name": "stdout",
          "text": [
            "Epoch [5/5] Batch [234/1654] Loss: 1.4851\n",
            "Epoch [5/5] Batch [235/1654] Loss: 1.2309\n",
            "Epoch [5/5] Batch [236/1654] Loss: 1.2211\n"
          ]
        },
        {
          "output_type": "stream",
          "name": "stderr",
          "text": [
            "\r 14%|█▍        | 239/1654 [00:07<00:42, 33.55it/s]"
          ]
        },
        {
          "output_type": "stream",
          "name": "stdout",
          "text": [
            "Epoch [5/5] Batch [237/1654] Loss: 1.0310\n",
            "Epoch [5/5] Batch [238/1654] Loss: 1.5416\n",
            "Epoch [5/5] Batch [239/1654] Loss: 1.1403\n",
            "Epoch [5/5] Batch [240/1654] Loss: 0.9433\n"
          ]
        },
        {
          "output_type": "stream",
          "name": "stderr",
          "text": [
            "\r 15%|█▍        | 243/1654 [00:07<00:41, 33.61it/s]"
          ]
        },
        {
          "output_type": "stream",
          "name": "stdout",
          "text": [
            "Epoch [5/5] Batch [241/1654] Loss: 1.5091\n",
            "Epoch [5/5] Batch [242/1654] Loss: 1.3665\n",
            "Epoch [5/5] Batch [243/1654] Loss: 1.3594\n"
          ]
        },
        {
          "output_type": "stream",
          "name": "stderr",
          "text": [
            "\r 15%|█▍        | 247/1654 [00:07<00:41, 33.95it/s]"
          ]
        },
        {
          "output_type": "stream",
          "name": "stdout",
          "text": [
            "Epoch [5/5] Batch [244/1654] Loss: 1.2866\n",
            "Epoch [5/5] Batch [245/1654] Loss: 1.2427\n",
            "Epoch [5/5] Batch [246/1654] Loss: 2.0347\n",
            "Epoch [5/5] Batch [247/1654] Loss: 1.0858\n"
          ]
        },
        {
          "output_type": "stream",
          "name": "stderr",
          "text": [
            "\r 15%|█▌        | 251/1654 [00:07<00:40, 34.24it/s]"
          ]
        },
        {
          "output_type": "stream",
          "name": "stdout",
          "text": [
            "Epoch [5/5] Batch [248/1654] Loss: 1.2543\n",
            "Epoch [5/5] Batch [249/1654] Loss: 1.0365\n",
            "Epoch [5/5] Batch [250/1654] Loss: 1.1566\n",
            "Epoch [5/5] Batch [251/1654] Loss: 0.9323\n"
          ]
        },
        {
          "output_type": "stream",
          "name": "stderr",
          "text": [
            "\r 15%|█▌        | 255/1654 [00:08<00:40, 34.30it/s]"
          ]
        },
        {
          "output_type": "stream",
          "name": "stdout",
          "text": [
            "Epoch [5/5] Batch [252/1654] Loss: 1.6830\n",
            "Epoch [5/5] Batch [253/1654] Loss: 1.2046\n",
            "Epoch [5/5] Batch [254/1654] Loss: 1.4350\n",
            "Epoch [5/5] Batch [255/1654] Loss: 1.3226\n",
            "Epoch [5/5] Batch [256/1654] Loss: 1.3731\n",
            "Epoch [5/5] Batch [257/1654] Loss: 1.2666\n",
            "Epoch [5/5] Batch [258/1654] Loss: 1.5710\n"
          ]
        },
        {
          "output_type": "stream",
          "name": "stderr",
          "text": [
            " 16%|█▌        | 263/1654 [00:08<00:41, 33.89it/s]"
          ]
        },
        {
          "output_type": "stream",
          "name": "stdout",
          "text": [
            "Epoch [5/5] Batch [259/1654] Loss: 1.1157\n",
            "Epoch [5/5] Batch [260/1654] Loss: 1.2053\n",
            "Epoch [5/5] Batch [261/1654] Loss: 1.3643\n",
            "Epoch [5/5] Batch [262/1654] Loss: 1.4748\n",
            "Epoch [5/5] Batch [263/1654] Loss: 1.3002\n",
            "Epoch [5/5] Batch [264/1654] Loss: 1.1716\n",
            "Epoch [5/5] Batch [265/1654] Loss: 1.3510\n",
            "Epoch [5/5] Batch [266/1654] Loss: 1.3334\n"
          ]
        },
        {
          "output_type": "stream",
          "name": "stderr",
          "text": [
            " 16%|█▋        | 271/1654 [00:08<00:40, 34.44it/s]"
          ]
        },
        {
          "output_type": "stream",
          "name": "stdout",
          "text": [
            "Epoch [5/5] Batch [267/1654] Loss: 1.1066\n",
            "Epoch [5/5] Batch [268/1654] Loss: 1.2727\n",
            "Epoch [5/5] Batch [269/1654] Loss: 1.6841\n",
            "Epoch [5/5] Batch [270/1654] Loss: 1.0423\n",
            "Epoch [5/5] Batch [271/1654] Loss: 1.9019\n",
            "Epoch [5/5] Batch [272/1654] Loss: 1.6564\n",
            "Epoch [5/5] Batch [273/1654] Loss: 1.3957\n"
          ]
        },
        {
          "output_type": "stream",
          "name": "stderr",
          "text": [
            "\r 17%|█▋        | 275/1654 [00:08<00:40, 33.68it/s]"
          ]
        },
        {
          "output_type": "stream",
          "name": "stdout",
          "text": [
            "Epoch [5/5] Batch [274/1654] Loss: 1.1801\n",
            "Epoch [5/5] Batch [275/1654] Loss: 1.3014\n",
            "Epoch [5/5] Batch [276/1654] Loss: 1.0532\n",
            "Epoch [5/5] Batch [277/1654] Loss: 1.2391\n",
            "Epoch [5/5] Batch [278/1654] Loss: 1.2636\n"
          ]
        },
        {
          "output_type": "stream",
          "name": "stderr",
          "text": [
            "\r 17%|█▋        | 279/1654 [00:08<00:40, 34.10it/s]"
          ]
        },
        {
          "output_type": "stream",
          "name": "stdout",
          "text": [
            "Epoch [5/5] Batch [279/1654] Loss: 1.2716\n",
            "Epoch [5/5] Batch [280/1654] Loss: 0.9238\n"
          ]
        },
        {
          "output_type": "stream",
          "name": "stderr",
          "text": [
            "\r 17%|█▋        | 283/1654 [00:08<00:40, 34.12it/s]"
          ]
        },
        {
          "output_type": "stream",
          "name": "stdout",
          "text": [
            "Epoch [5/5] Batch [281/1654] Loss: 1.1210\n",
            "Epoch [5/5] Batch [282/1654] Loss: 1.3494\n",
            "Epoch [5/5] Batch [283/1654] Loss: 1.2736\n",
            "Epoch [5/5] Batch [284/1654] Loss: 1.4514\n",
            "Epoch [5/5] Batch [285/1654] Loss: 1.2408\n"
          ]
        },
        {
          "output_type": "stream",
          "name": "stderr",
          "text": [
            "\r 17%|█▋        | 287/1654 [00:08<00:40, 33.83it/s]"
          ]
        },
        {
          "output_type": "stream",
          "name": "stdout",
          "text": [
            "Epoch [5/5] Batch [286/1654] Loss: 1.1900\n",
            "Epoch [5/5] Batch [287/1654] Loss: 1.5445\n"
          ]
        },
        {
          "output_type": "stream",
          "name": "stderr",
          "text": [
            "\r 18%|█▊        | 291/1654 [00:09<00:41, 33.10it/s]"
          ]
        },
        {
          "output_type": "stream",
          "name": "stdout",
          "text": [
            "Epoch [5/5] Batch [288/1654] Loss: 1.2987\n",
            "Epoch [5/5] Batch [289/1654] Loss: 1.2215\n",
            "Epoch [5/5] Batch [290/1654] Loss: 1.0593\n",
            "Epoch [5/5] Batch [291/1654] Loss: 1.6598\n",
            "Epoch [5/5] Batch [292/1654] Loss: 1.4315\n",
            "Epoch [5/5] Batch [293/1654] Loss: 1.0135\n",
            "Epoch [5/5] Batch [294/1654] Loss: 1.1240\n"
          ]
        },
        {
          "output_type": "stream",
          "name": "stderr",
          "text": [
            " 18%|█▊        | 299/1654 [00:09<00:39, 33.91it/s]"
          ]
        },
        {
          "output_type": "stream",
          "name": "stdout",
          "text": [
            "Epoch [5/5] Batch [295/1654] Loss: 1.3996\n",
            "Epoch [5/5] Batch [296/1654] Loss: 1.4707\n",
            "Epoch [5/5] Batch [297/1654] Loss: 1.3922\n",
            "Epoch [5/5] Batch [298/1654] Loss: 1.4115\n",
            "Epoch [5/5] Batch [299/1654] Loss: 1.5155\n",
            "Epoch [5/5] Batch [300/1654] Loss: 1.2966\n",
            "Epoch [5/5] Batch [301/1654] Loss: 1.5987\n"
          ]
        },
        {
          "output_type": "stream",
          "name": "stderr",
          "text": [
            "\r 18%|█▊        | 303/1654 [00:09<00:40, 33.37it/s]"
          ]
        },
        {
          "output_type": "stream",
          "name": "stdout",
          "text": [
            "Epoch [5/5] Batch [302/1654] Loss: 1.0849\n",
            "Epoch [5/5] Batch [303/1654] Loss: 1.3008\n",
            "Epoch [5/5] Batch [304/1654] Loss: 1.6510\n",
            "Epoch [5/5] Batch [305/1654] Loss: 1.4340\n",
            "Epoch [5/5] Batch [306/1654] Loss: 1.2066\n"
          ]
        },
        {
          "output_type": "stream",
          "name": "stderr",
          "text": [
            "\r 19%|█▊        | 307/1654 [00:09<00:39, 33.94it/s]"
          ]
        },
        {
          "output_type": "stream",
          "name": "stdout",
          "text": [
            "Epoch [5/5] Batch [307/1654] Loss: 1.3067\n",
            "Epoch [5/5] Batch [308/1654] Loss: 1.3203\n"
          ]
        },
        {
          "output_type": "stream",
          "name": "stderr",
          "text": [
            "\r 19%|█▉        | 311/1654 [00:09<00:39, 33.77it/s]"
          ]
        },
        {
          "output_type": "stream",
          "name": "stdout",
          "text": [
            "Epoch [5/5] Batch [309/1654] Loss: 1.1644\n",
            "Epoch [5/5] Batch [310/1654] Loss: 1.2062\n",
            "Epoch [5/5] Batch [311/1654] Loss: 1.3923\n",
            "Epoch [5/5] Batch [312/1654] Loss: 1.1227\n",
            "Epoch [5/5] Batch [313/1654] Loss: 1.2161\n"
          ]
        },
        {
          "output_type": "stream",
          "name": "stderr",
          "text": [
            "\r 19%|█▉        | 315/1654 [00:09<00:39, 33.86it/s]"
          ]
        },
        {
          "output_type": "stream",
          "name": "stdout",
          "text": [
            "Epoch [5/5] Batch [314/1654] Loss: 1.0660\n",
            "Epoch [5/5] Batch [315/1654] Loss: 1.2053\n"
          ]
        },
        {
          "output_type": "stream",
          "name": "stderr",
          "text": [
            "\r 19%|█▉        | 319/1654 [00:09<00:39, 34.12it/s]"
          ]
        },
        {
          "output_type": "stream",
          "name": "stdout",
          "text": [
            "Epoch [5/5] Batch [316/1654] Loss: 1.1939\n",
            "Epoch [5/5] Batch [317/1654] Loss: 1.4252\n",
            "Epoch [5/5] Batch [318/1654] Loss: 1.2346\n",
            "Epoch [5/5] Batch [319/1654] Loss: 1.3732\n",
            "Epoch [5/5] Batch [320/1654] Loss: 1.0890\n"
          ]
        },
        {
          "output_type": "stream",
          "name": "stderr",
          "text": [
            "\r 20%|█▉        | 323/1654 [00:10<00:39, 34.02it/s]"
          ]
        },
        {
          "output_type": "stream",
          "name": "stdout",
          "text": [
            "Epoch [5/5] Batch [321/1654] Loss: 1.2031\n",
            "Epoch [5/5] Batch [322/1654] Loss: 1.2970\n",
            "Epoch [5/5] Batch [323/1654] Loss: 1.1937\n"
          ]
        },
        {
          "output_type": "stream",
          "name": "stderr",
          "text": [
            "\r 20%|█▉        | 327/1654 [00:10<00:39, 33.25it/s]"
          ]
        },
        {
          "output_type": "stream",
          "name": "stdout",
          "text": [
            "Epoch [5/5] Batch [324/1654] Loss: 1.2874\n",
            "Epoch [5/5] Batch [325/1654] Loss: 1.3619\n",
            "Epoch [5/5] Batch [326/1654] Loss: 1.3676\n",
            "Epoch [5/5] Batch [327/1654] Loss: 1.1455\n",
            "Epoch [5/5] Batch [328/1654] Loss: 1.3838\n",
            "Epoch [5/5] Batch [329/1654] Loss: 1.4448\n",
            "Epoch [5/5] Batch [330/1654] Loss: 1.5492\n"
          ]
        },
        {
          "output_type": "stream",
          "name": "stderr",
          "text": [
            " 20%|██        | 335/1654 [00:10<00:38, 33.84it/s]"
          ]
        },
        {
          "output_type": "stream",
          "name": "stdout",
          "text": [
            "Epoch [5/5] Batch [331/1654] Loss: 1.2678\n",
            "Epoch [5/5] Batch [332/1654] Loss: 1.3922\n",
            "Epoch [5/5] Batch [333/1654] Loss: 1.1532\n",
            "Epoch [5/5] Batch [334/1654] Loss: 1.2668\n",
            "Epoch [5/5] Batch [335/1654] Loss: 1.1578\n",
            "Epoch [5/5] Batch [336/1654] Loss: 1.3276\n",
            "Epoch [5/5] Batch [337/1654] Loss: 1.2547\n"
          ]
        },
        {
          "output_type": "stream",
          "name": "stderr",
          "text": [
            " 21%|██        | 343/1654 [00:10<00:37, 34.56it/s]"
          ]
        },
        {
          "output_type": "stream",
          "name": "stdout",
          "text": [
            "Epoch [5/5] Batch [338/1654] Loss: 1.2850\n",
            "Epoch [5/5] Batch [339/1654] Loss: 1.0309\n",
            "Epoch [5/5] Batch [340/1654] Loss: 1.0564\n",
            "Epoch [5/5] Batch [341/1654] Loss: 1.1511\n",
            "Epoch [5/5] Batch [342/1654] Loss: 0.9937\n",
            "Epoch [5/5] Batch [343/1654] Loss: 1.0311\n",
            "Epoch [5/5] Batch [344/1654] Loss: 1.3194\n"
          ]
        },
        {
          "output_type": "stream",
          "name": "stderr",
          "text": [
            "\r 21%|██        | 347/1654 [00:10<00:38, 33.73it/s]"
          ]
        },
        {
          "output_type": "stream",
          "name": "stdout",
          "text": [
            "Epoch [5/5] Batch [345/1654] Loss: 1.3266\n",
            "Epoch [5/5] Batch [346/1654] Loss: 1.2504\n",
            "Epoch [5/5] Batch [347/1654] Loss: 1.3117\n",
            "Epoch [5/5] Batch [348/1654] Loss: 1.0896\n",
            "Epoch [5/5] Batch [349/1654] Loss: 1.6101\n",
            "Epoch [5/5] Batch [350/1654] Loss: 1.3012\n"
          ]
        },
        {
          "output_type": "stream",
          "name": "stderr",
          "text": [
            "\r 21%|██        | 351/1654 [00:10<00:38, 34.08it/s]"
          ]
        },
        {
          "output_type": "stream",
          "name": "stdout",
          "text": [
            "Epoch [5/5] Batch [351/1654] Loss: 1.4435\n"
          ]
        },
        {
          "output_type": "stream",
          "name": "stderr",
          "text": [
            "\r 21%|██▏       | 355/1654 [00:10<00:38, 34.05it/s]"
          ]
        },
        {
          "output_type": "stream",
          "name": "stdout",
          "text": [
            "Epoch [5/5] Batch [352/1654] Loss: 1.3221\n",
            "Epoch [5/5] Batch [353/1654] Loss: 1.3250\n",
            "Epoch [5/5] Batch [354/1654] Loss: 1.2123\n",
            "Epoch [5/5] Batch [355/1654] Loss: 1.4229\n",
            "Epoch [5/5] Batch [356/1654] Loss: 1.1647\n",
            "Epoch [5/5] Batch [357/1654] Loss: 1.0491\n",
            "Epoch [5/5] Batch [358/1654] Loss: 1.2059\n"
          ]
        },
        {
          "output_type": "stream",
          "name": "stderr",
          "text": [
            " 22%|██▏       | 363/1654 [00:11<00:38, 33.33it/s]"
          ]
        },
        {
          "output_type": "stream",
          "name": "stdout",
          "text": [
            "Epoch [5/5] Batch [359/1654] Loss: 1.2562\n",
            "Epoch [5/5] Batch [360/1654] Loss: 1.4093\n",
            "Epoch [5/5] Batch [361/1654] Loss: 1.5270\n",
            "Epoch [5/5] Batch [362/1654] Loss: 1.4631\n",
            "Epoch [5/5] Batch [363/1654] Loss: 1.0885\n",
            "Epoch [5/5] Batch [364/1654] Loss: 1.2357\n",
            "Epoch [5/5] Batch [365/1654] Loss: 1.1292\n"
          ]
        },
        {
          "output_type": "stream",
          "name": "stderr",
          "text": [
            " 22%|██▏       | 371/1654 [00:11<00:37, 33.89it/s]"
          ]
        },
        {
          "output_type": "stream",
          "name": "stdout",
          "text": [
            "Epoch [5/5] Batch [366/1654] Loss: 1.3489\n",
            "Epoch [5/5] Batch [367/1654] Loss: 1.7626\n",
            "Epoch [5/5] Batch [368/1654] Loss: 1.3359\n",
            "Epoch [5/5] Batch [369/1654] Loss: 1.5372\n",
            "Epoch [5/5] Batch [370/1654] Loss: 1.1331\n",
            "Epoch [5/5] Batch [371/1654] Loss: 1.3071\n",
            "Epoch [5/5] Batch [372/1654] Loss: 1.5056\n"
          ]
        },
        {
          "output_type": "stream",
          "name": "stderr",
          "text": [
            " 23%|██▎       | 379/1654 [00:11<00:37, 34.24it/s]"
          ]
        },
        {
          "output_type": "stream",
          "name": "stdout",
          "text": [
            "Epoch [5/5] Batch [373/1654] Loss: 1.2179\n",
            "Epoch [5/5] Batch [374/1654] Loss: 1.3894\n",
            "Epoch [5/5] Batch [375/1654] Loss: 1.0932\n",
            "Epoch [5/5] Batch [376/1654] Loss: 1.6169\n",
            "Epoch [5/5] Batch [377/1654] Loss: 0.9365\n",
            "Epoch [5/5] Batch [378/1654] Loss: 1.6672\n",
            "Epoch [5/5] Batch [379/1654] Loss: 1.0644\n"
          ]
        },
        {
          "output_type": "stream",
          "name": "stderr",
          "text": [
            " 23%|██▎       | 387/1654 [00:11<00:36, 34.44it/s]"
          ]
        },
        {
          "output_type": "stream",
          "name": "stdout",
          "text": [
            "Epoch [5/5] Batch [380/1654] Loss: 1.5577\n",
            "Epoch [5/5] Batch [381/1654] Loss: 1.1340\n",
            "Epoch [5/5] Batch [382/1654] Loss: 1.8324\n",
            "Epoch [5/5] Batch [383/1654] Loss: 1.7690\n",
            "Epoch [5/5] Batch [384/1654] Loss: 1.2249\n",
            "Epoch [5/5] Batch [385/1654] Loss: 1.2079\n",
            "Epoch [5/5] Batch [386/1654] Loss: 1.3281\n",
            "Epoch [5/5] Batch [387/1654] Loss: 1.5239\n"
          ]
        },
        {
          "output_type": "stream",
          "name": "stderr",
          "text": [
            " 24%|██▍       | 395/1654 [00:12<00:36, 34.59it/s]"
          ]
        },
        {
          "output_type": "stream",
          "name": "stdout",
          "text": [
            "Epoch [5/5] Batch [388/1654] Loss: 1.5097\n",
            "Epoch [5/5] Batch [389/1654] Loss: 1.4946\n",
            "Epoch [5/5] Batch [390/1654] Loss: 1.2646\n",
            "Epoch [5/5] Batch [391/1654] Loss: 1.4408\n",
            "Epoch [5/5] Batch [392/1654] Loss: 1.4600\n",
            "Epoch [5/5] Batch [393/1654] Loss: 1.4645\n",
            "Epoch [5/5] Batch [394/1654] Loss: 1.3339\n",
            "Epoch [5/5] Batch [395/1654] Loss: 1.3531\n"
          ]
        },
        {
          "output_type": "stream",
          "name": "stderr",
          "text": [
            " 24%|██▍       | 403/1654 [00:12<00:36, 33.93it/s]"
          ]
        },
        {
          "output_type": "stream",
          "name": "stdout",
          "text": [
            "Epoch [5/5] Batch [396/1654] Loss: 1.1805\n",
            "Epoch [5/5] Batch [397/1654] Loss: 1.1283\n",
            "Epoch [5/5] Batch [398/1654] Loss: 1.3704\n",
            "Epoch [5/5] Batch [399/1654] Loss: 1.3779\n",
            "Epoch [5/5] Batch [400/1654] Loss: 1.1820\n",
            "Epoch [5/5] Batch [401/1654] Loss: 1.3884\n",
            "Epoch [5/5] Batch [402/1654] Loss: 1.5601\n",
            "Epoch [5/5] Batch [403/1654] Loss: 1.7171\n"
          ]
        },
        {
          "output_type": "stream",
          "name": "stderr",
          "text": [
            " 25%|██▍       | 411/1654 [00:12<00:35, 34.74it/s]"
          ]
        },
        {
          "output_type": "stream",
          "name": "stdout",
          "text": [
            "Epoch [5/5] Batch [404/1654] Loss: 1.2707\n",
            "Epoch [5/5] Batch [405/1654] Loss: 1.2877\n",
            "Epoch [5/5] Batch [406/1654] Loss: 1.5190\n",
            "Epoch [5/5] Batch [407/1654] Loss: 1.5336\n",
            "Epoch [5/5] Batch [408/1654] Loss: 1.2646\n",
            "Epoch [5/5] Batch [409/1654] Loss: 1.0217\n",
            "Epoch [5/5] Batch [410/1654] Loss: 1.3511\n",
            "Epoch [5/5] Batch [411/1654] Loss: 1.3314\n"
          ]
        },
        {
          "output_type": "stream",
          "name": "stderr",
          "text": [
            " 25%|██▌       | 419/1654 [00:12<00:34, 35.38it/s]"
          ]
        },
        {
          "output_type": "stream",
          "name": "stdout",
          "text": [
            "Epoch [5/5] Batch [412/1654] Loss: 1.2503\n",
            "Epoch [5/5] Batch [413/1654] Loss: 1.3296\n",
            "Epoch [5/5] Batch [414/1654] Loss: 1.1159\n",
            "Epoch [5/5] Batch [415/1654] Loss: 1.3608\n",
            "Epoch [5/5] Batch [416/1654] Loss: 1.3667\n",
            "Epoch [5/5] Batch [417/1654] Loss: 1.0193\n",
            "Epoch [5/5] Batch [418/1654] Loss: 1.2026\n",
            "Epoch [5/5] Batch [419/1654] Loss: 1.2575\n"
          ]
        },
        {
          "output_type": "stream",
          "name": "stderr",
          "text": [
            "\r 26%|██▌       | 423/1654 [00:12<00:37, 32.86it/s]"
          ]
        },
        {
          "output_type": "stream",
          "name": "stdout",
          "text": [
            "Epoch [5/5] Batch [420/1654] Loss: 1.1526\n",
            "Epoch [5/5] Batch [421/1654] Loss: 1.3176\n",
            "Epoch [5/5] Batch [422/1654] Loss: 1.3947\n",
            "Epoch [5/5] Batch [423/1654] Loss: 1.4904\n",
            "Epoch [5/5] Batch [424/1654] Loss: 1.4236\n",
            "Epoch [5/5] Batch [425/1654] Loss: 1.0846\n"
          ]
        },
        {
          "output_type": "stream",
          "name": "stderr",
          "text": [
            " 26%|██▌       | 431/1654 [00:13<00:41, 29.77it/s]"
          ]
        },
        {
          "output_type": "stream",
          "name": "stdout",
          "text": [
            "Epoch [5/5] Batch [426/1654] Loss: 1.3661\n",
            "Epoch [5/5] Batch [427/1654] Loss: 1.0431\n",
            "Epoch [5/5] Batch [428/1654] Loss: 1.3580\n",
            "Epoch [5/5] Batch [429/1654] Loss: 1.3784\n",
            "Epoch [5/5] Batch [430/1654] Loss: 1.7494\n",
            "Epoch [5/5] Batch [431/1654] Loss: 1.4203\n"
          ]
        },
        {
          "output_type": "stream",
          "name": "stderr",
          "text": [
            "\r 26%|██▋       | 435/1654 [00:13<00:41, 29.34it/s]"
          ]
        },
        {
          "output_type": "stream",
          "name": "stdout",
          "text": [
            "Epoch [5/5] Batch [432/1654] Loss: 1.2896\n",
            "Epoch [5/5] Batch [433/1654] Loss: 1.2136\n",
            "Epoch [5/5] Batch [434/1654] Loss: 1.3364\n",
            "Epoch [5/5] Batch [435/1654] Loss: 1.0836\n",
            "Epoch [5/5] Batch [436/1654] Loss: 1.2665\n",
            "Epoch [5/5] Batch [437/1654] Loss: 0.9802\n"
          ]
        },
        {
          "output_type": "stream",
          "name": "stderr",
          "text": [
            " 27%|██▋       | 442/1654 [00:13<00:40, 30.08it/s]"
          ]
        },
        {
          "output_type": "stream",
          "name": "stdout",
          "text": [
            "Epoch [5/5] Batch [438/1654] Loss: 1.0450\n",
            "Epoch [5/5] Batch [439/1654] Loss: 1.3717\n",
            "Epoch [5/5] Batch [440/1654] Loss: 1.3435\n",
            "Epoch [5/5] Batch [441/1654] Loss: 1.3314\n",
            "Epoch [5/5] Batch [442/1654] Loss: 1.4982\n",
            "Epoch [5/5] Batch [443/1654] Loss: 1.8474\n",
            "Epoch [5/5] Batch [444/1654] Loss: 1.4741\n"
          ]
        },
        {
          "output_type": "stream",
          "name": "stderr",
          "text": [
            " 27%|██▋       | 450/1654 [00:13<00:40, 29.86it/s]"
          ]
        },
        {
          "output_type": "stream",
          "name": "stdout",
          "text": [
            "Epoch [5/5] Batch [445/1654] Loss: 1.1507\n",
            "Epoch [5/5] Batch [446/1654] Loss: 1.3181\n",
            "Epoch [5/5] Batch [447/1654] Loss: 1.6031\n",
            "Epoch [5/5] Batch [448/1654] Loss: 1.1194\n",
            "Epoch [5/5] Batch [449/1654] Loss: 0.9715\n",
            "Epoch [5/5] Batch [450/1654] Loss: 1.5164\n"
          ]
        },
        {
          "output_type": "stream",
          "name": "stderr",
          "text": [
            "\r 27%|██▋       | 454/1654 [00:14<00:39, 30.33it/s]"
          ]
        },
        {
          "output_type": "stream",
          "name": "stdout",
          "text": [
            "Epoch [5/5] Batch [451/1654] Loss: 1.2299\n",
            "Epoch [5/5] Batch [452/1654] Loss: 1.3013\n",
            "Epoch [5/5] Batch [453/1654] Loss: 1.3069\n",
            "Epoch [5/5] Batch [454/1654] Loss: 1.2623\n",
            "Epoch [5/5] Batch [455/1654] Loss: 1.4302\n",
            "Epoch [5/5] Batch [456/1654] Loss: 1.6507\n",
            "Epoch [5/5] Batch [457/1654] Loss: 1.3937\n"
          ]
        },
        {
          "output_type": "stream",
          "name": "stderr",
          "text": [
            " 28%|██▊       | 462/1654 [00:14<00:39, 30.10it/s]"
          ]
        },
        {
          "output_type": "stream",
          "name": "stdout",
          "text": [
            "Epoch [5/5] Batch [458/1654] Loss: 1.1532\n",
            "Epoch [5/5] Batch [459/1654] Loss: 1.2632\n",
            "Epoch [5/5] Batch [460/1654] Loss: 1.3153\n",
            "Epoch [5/5] Batch [461/1654] Loss: 1.2077\n",
            "Epoch [5/5] Batch [462/1654] Loss: 1.2081\n",
            "Epoch [5/5] Batch [463/1654] Loss: 1.0483\n",
            "Epoch [5/5] Batch [464/1654] Loss: 0.9496\n"
          ]
        },
        {
          "output_type": "stream",
          "name": "stderr",
          "text": [
            " 28%|██▊       | 470/1654 [00:14<00:38, 30.94it/s]"
          ]
        },
        {
          "output_type": "stream",
          "name": "stdout",
          "text": [
            "Epoch [5/5] Batch [465/1654] Loss: 1.4328\n",
            "Epoch [5/5] Batch [466/1654] Loss: 1.3572\n",
            "Epoch [5/5] Batch [467/1654] Loss: 1.1810\n",
            "Epoch [5/5] Batch [468/1654] Loss: 1.7105\n",
            "Epoch [5/5] Batch [469/1654] Loss: 1.2469\n",
            "Epoch [5/5] Batch [470/1654] Loss: 1.3617\n",
            "Epoch [5/5] Batch [471/1654] Loss: 1.5736\n"
          ]
        },
        {
          "output_type": "stream",
          "name": "stderr",
          "text": [
            "\r 29%|██▊       | 474/1654 [00:14<00:39, 30.01it/s]"
          ]
        },
        {
          "output_type": "stream",
          "name": "stdout",
          "text": [
            "Epoch [5/5] Batch [472/1654] Loss: 1.3704\n",
            "Epoch [5/5] Batch [473/1654] Loss: 1.4400\n",
            "Epoch [5/5] Batch [474/1654] Loss: 1.4381\n",
            "Epoch [5/5] Batch [475/1654] Loss: 1.4949\n",
            "Epoch [5/5] Batch [476/1654] Loss: 1.3138\n",
            "Epoch [5/5] Batch [477/1654] Loss: 1.6435\n"
          ]
        },
        {
          "output_type": "stream",
          "name": "stderr",
          "text": [
            " 29%|██▉       | 482/1654 [00:14<00:40, 29.18it/s]"
          ]
        },
        {
          "output_type": "stream",
          "name": "stdout",
          "text": [
            "Epoch [5/5] Batch [478/1654] Loss: 1.2142\n",
            "Epoch [5/5] Batch [479/1654] Loss: 1.2130\n",
            "Epoch [5/5] Batch [480/1654] Loss: 1.4824\n",
            "Epoch [5/5] Batch [481/1654] Loss: 1.2578\n",
            "Epoch [5/5] Batch [482/1654] Loss: 1.2448\n",
            "Epoch [5/5] Batch [483/1654] Loss: 1.6725\n"
          ]
        },
        {
          "output_type": "stream",
          "name": "stderr",
          "text": [
            " 30%|██▉       | 488/1654 [00:15<00:41, 28.04it/s]"
          ]
        },
        {
          "output_type": "stream",
          "name": "stdout",
          "text": [
            "Epoch [5/5] Batch [484/1654] Loss: 1.2069\n",
            "Epoch [5/5] Batch [485/1654] Loss: 1.3477\n",
            "Epoch [5/5] Batch [486/1654] Loss: 1.1174\n",
            "Epoch [5/5] Batch [487/1654] Loss: 1.1846\n",
            "Epoch [5/5] Batch [488/1654] Loss: 1.2802\n",
            "Epoch [5/5] Batch [489/1654] Loss: 1.3449\n"
          ]
        },
        {
          "output_type": "stream",
          "name": "stderr",
          "text": [
            " 30%|██▉       | 494/1654 [00:15<00:43, 26.40it/s]"
          ]
        },
        {
          "output_type": "stream",
          "name": "stdout",
          "text": [
            "Epoch [5/5] Batch [490/1654] Loss: 1.1204\n",
            "Epoch [5/5] Batch [491/1654] Loss: 1.3829\n",
            "Epoch [5/5] Batch [492/1654] Loss: 1.0850\n",
            "Epoch [5/5] Batch [493/1654] Loss: 1.2778\n",
            "Epoch [5/5] Batch [494/1654] Loss: 1.2032\n",
            "Epoch [5/5] Batch [495/1654] Loss: 1.3113\n"
          ]
        },
        {
          "output_type": "stream",
          "name": "stderr",
          "text": [
            " 30%|███       | 502/1654 [00:15<00:37, 30.98it/s]"
          ]
        },
        {
          "output_type": "stream",
          "name": "stdout",
          "text": [
            "Epoch [5/5] Batch [496/1654] Loss: 1.0391\n",
            "Epoch [5/5] Batch [497/1654] Loss: 0.9919\n",
            "Epoch [5/5] Batch [498/1654] Loss: 1.0863\n",
            "Epoch [5/5] Batch [499/1654] Loss: 1.2117\n",
            "Epoch [5/5] Batch [500/1654] Loss: 1.1405\n",
            "Epoch [5/5] Batch [501/1654] Loss: 1.0303\n",
            "Epoch [5/5] Batch [502/1654] Loss: 1.2292\n",
            "Epoch [5/5] Batch [503/1654] Loss: 1.3661\n"
          ]
        },
        {
          "output_type": "stream",
          "name": "stderr",
          "text": [
            " 31%|███       | 510/1654 [00:15<00:34, 33.02it/s]"
          ]
        },
        {
          "output_type": "stream",
          "name": "stdout",
          "text": [
            "Epoch [5/5] Batch [504/1654] Loss: 1.3370\n",
            "Epoch [5/5] Batch [505/1654] Loss: 1.3667\n",
            "Epoch [5/5] Batch [506/1654] Loss: 1.0477\n",
            "Epoch [5/5] Batch [507/1654] Loss: 1.1219\n",
            "Epoch [5/5] Batch [508/1654] Loss: 1.2043\n",
            "Epoch [5/5] Batch [509/1654] Loss: 1.0905\n",
            "Epoch [5/5] Batch [510/1654] Loss: 1.1675\n"
          ]
        },
        {
          "output_type": "stream",
          "name": "stderr",
          "text": [
            " 31%|███▏      | 518/1654 [00:16<00:33, 34.10it/s]"
          ]
        },
        {
          "output_type": "stream",
          "name": "stdout",
          "text": [
            "Epoch [5/5] Batch [511/1654] Loss: 1.2431\n",
            "Epoch [5/5] Batch [512/1654] Loss: 1.4399\n",
            "Epoch [5/5] Batch [513/1654] Loss: 1.4598\n",
            "Epoch [5/5] Batch [514/1654] Loss: 1.1480\n",
            "Epoch [5/5] Batch [515/1654] Loss: 1.4663\n",
            "Epoch [5/5] Batch [516/1654] Loss: 1.1967\n",
            "Epoch [5/5] Batch [517/1654] Loss: 1.0514\n",
            "Epoch [5/5] Batch [518/1654] Loss: 1.7692\n"
          ]
        },
        {
          "output_type": "stream",
          "name": "stderr",
          "text": [
            "\r 32%|███▏      | 522/1654 [00:16<00:33, 34.26it/s]"
          ]
        },
        {
          "output_type": "stream",
          "name": "stdout",
          "text": [
            "Epoch [5/5] Batch [519/1654] Loss: 1.3561\n",
            "Epoch [5/5] Batch [520/1654] Loss: 1.0768\n",
            "Epoch [5/5] Batch [521/1654] Loss: 1.2659\n",
            "Epoch [5/5] Batch [522/1654] Loss: 1.1172\n",
            "Epoch [5/5] Batch [523/1654] Loss: 1.2309\n",
            "Epoch [5/5] Batch [524/1654] Loss: 1.2124\n",
            "Epoch [5/5] Batch [525/1654] Loss: 1.0253\n"
          ]
        },
        {
          "output_type": "stream",
          "name": "stderr",
          "text": [
            " 32%|███▏      | 530/1654 [00:16<00:33, 33.89it/s]"
          ]
        },
        {
          "output_type": "stream",
          "name": "stdout",
          "text": [
            "Epoch [5/5] Batch [526/1654] Loss: 1.2242\n",
            "Epoch [5/5] Batch [527/1654] Loss: 1.5476\n",
            "Epoch [5/5] Batch [528/1654] Loss: 1.2833\n",
            "Epoch [5/5] Batch [529/1654] Loss: 1.0140\n",
            "Epoch [5/5] Batch [530/1654] Loss: 1.0545\n",
            "Epoch [5/5] Batch [531/1654] Loss: 1.0301\n",
            "Epoch [5/5] Batch [532/1654] Loss: 1.3557\n"
          ]
        },
        {
          "output_type": "stream",
          "name": "stderr",
          "text": [
            " 33%|███▎      | 538/1654 [00:16<00:32, 34.52it/s]"
          ]
        },
        {
          "output_type": "stream",
          "name": "stdout",
          "text": [
            "Epoch [5/5] Batch [533/1654] Loss: 1.1916\n",
            "Epoch [5/5] Batch [534/1654] Loss: 1.5151\n",
            "Epoch [5/5] Batch [535/1654] Loss: 1.3079\n",
            "Epoch [5/5] Batch [536/1654] Loss: 1.2413\n",
            "Epoch [5/5] Batch [537/1654] Loss: 1.1940\n",
            "Epoch [5/5] Batch [538/1654] Loss: 1.1434\n",
            "Epoch [5/5] Batch [539/1654] Loss: 1.3285\n",
            "Epoch [5/5] Batch [540/1654] Loss: 1.4756\n"
          ]
        },
        {
          "output_type": "stream",
          "name": "stderr",
          "text": [
            " 33%|███▎      | 546/1654 [00:16<00:31, 34.80it/s]"
          ]
        },
        {
          "output_type": "stream",
          "name": "stdout",
          "text": [
            "Epoch [5/5] Batch [541/1654] Loss: 1.4896\n",
            "Epoch [5/5] Batch [542/1654] Loss: 1.0773\n",
            "Epoch [5/5] Batch [543/1654] Loss: 1.1013\n",
            "Epoch [5/5] Batch [544/1654] Loss: 1.2020\n",
            "Epoch [5/5] Batch [545/1654] Loss: 1.2111\n",
            "Epoch [5/5] Batch [546/1654] Loss: 1.5888\n",
            "Epoch [5/5] Batch [547/1654] Loss: 1.3337\n",
            "Epoch [5/5] Batch [548/1654] Loss: 1.4422\n"
          ]
        },
        {
          "output_type": "stream",
          "name": "stderr",
          "text": [
            " 33%|███▎      | 554/1654 [00:17<00:31, 35.12it/s]"
          ]
        },
        {
          "output_type": "stream",
          "name": "stdout",
          "text": [
            "Epoch [5/5] Batch [549/1654] Loss: 1.3363\n",
            "Epoch [5/5] Batch [550/1654] Loss: 1.2987\n",
            "Epoch [5/5] Batch [551/1654] Loss: 1.4922\n",
            "Epoch [5/5] Batch [552/1654] Loss: 1.3251\n",
            "Epoch [5/5] Batch [553/1654] Loss: 1.1902\n",
            "Epoch [5/5] Batch [554/1654] Loss: 1.3123\n",
            "Epoch [5/5] Batch [555/1654] Loss: 1.2575\n",
            "Epoch [5/5] Batch [556/1654] Loss: 1.4211\n"
          ]
        },
        {
          "output_type": "stream",
          "name": "stderr",
          "text": [
            " 34%|███▍      | 562/1654 [00:17<00:31, 34.60it/s]"
          ]
        },
        {
          "output_type": "stream",
          "name": "stdout",
          "text": [
            "Epoch [5/5] Batch [557/1654] Loss: 1.4194\n",
            "Epoch [5/5] Batch [558/1654] Loss: 1.3470\n",
            "Epoch [5/5] Batch [559/1654] Loss: 1.1424\n",
            "Epoch [5/5] Batch [560/1654] Loss: 1.2044\n",
            "Epoch [5/5] Batch [561/1654] Loss: 1.0893\n",
            "Epoch [5/5] Batch [562/1654] Loss: 1.3288\n",
            "Epoch [5/5] Batch [563/1654] Loss: 1.3903\n",
            "Epoch [5/5] Batch [564/1654] Loss: 1.4821\n"
          ]
        },
        {
          "output_type": "stream",
          "name": "stderr",
          "text": [
            " 34%|███▍      | 570/1654 [00:17<00:31, 34.63it/s]"
          ]
        },
        {
          "output_type": "stream",
          "name": "stdout",
          "text": [
            "Epoch [5/5] Batch [565/1654] Loss: 1.5262\n",
            "Epoch [5/5] Batch [566/1654] Loss: 1.0821\n",
            "Epoch [5/5] Batch [567/1654] Loss: 1.4398\n",
            "Epoch [5/5] Batch [568/1654] Loss: 1.3145\n",
            "Epoch [5/5] Batch [569/1654] Loss: 1.2933\n",
            "Epoch [5/5] Batch [570/1654] Loss: 1.1280\n",
            "Epoch [5/5] Batch [571/1654] Loss: 1.4884\n",
            "Epoch [5/5] Batch [572/1654] Loss: 1.5707\n"
          ]
        },
        {
          "output_type": "stream",
          "name": "stderr",
          "text": [
            " 35%|███▍      | 578/1654 [00:17<00:31, 34.43it/s]"
          ]
        },
        {
          "output_type": "stream",
          "name": "stdout",
          "text": [
            "Epoch [5/5] Batch [573/1654] Loss: 1.3802\n",
            "Epoch [5/5] Batch [574/1654] Loss: 1.3984\n",
            "Epoch [5/5] Batch [575/1654] Loss: 1.3177\n",
            "Epoch [5/5] Batch [576/1654] Loss: 1.3486\n",
            "Epoch [5/5] Batch [577/1654] Loss: 1.6571\n",
            "Epoch [5/5] Batch [578/1654] Loss: 1.5341\n",
            "Epoch [5/5] Batch [579/1654] Loss: 1.2453\n",
            "Epoch [5/5] Batch [580/1654] Loss: 1.1593\n"
          ]
        },
        {
          "output_type": "stream",
          "name": "stderr",
          "text": [
            " 35%|███▌      | 586/1654 [00:18<00:30, 35.00it/s]"
          ]
        },
        {
          "output_type": "stream",
          "name": "stdout",
          "text": [
            "Epoch [5/5] Batch [581/1654] Loss: 1.0144\n",
            "Epoch [5/5] Batch [582/1654] Loss: 1.4396\n",
            "Epoch [5/5] Batch [583/1654] Loss: 1.3839\n",
            "Epoch [5/5] Batch [584/1654] Loss: 1.3453\n",
            "Epoch [5/5] Batch [585/1654] Loss: 1.0769\n",
            "Epoch [5/5] Batch [586/1654] Loss: 1.1538\n",
            "Epoch [5/5] Batch [587/1654] Loss: 1.3035\n",
            "Epoch [5/5] Batch [588/1654] Loss: 1.3472\n"
          ]
        },
        {
          "output_type": "stream",
          "name": "stderr",
          "text": [
            " 36%|███▌      | 594/1654 [00:18<00:30, 34.54it/s]"
          ]
        },
        {
          "output_type": "stream",
          "name": "stdout",
          "text": [
            "Epoch [5/5] Batch [589/1654] Loss: 1.4519\n",
            "Epoch [5/5] Batch [590/1654] Loss: 1.2033\n",
            "Epoch [5/5] Batch [591/1654] Loss: 1.3035\n",
            "Epoch [5/5] Batch [592/1654] Loss: 1.5431\n",
            "Epoch [5/5] Batch [593/1654] Loss: 1.3093\n",
            "Epoch [5/5] Batch [594/1654] Loss: 1.0337\n",
            "Epoch [5/5] Batch [595/1654] Loss: 1.3712\n",
            "Epoch [5/5] Batch [596/1654] Loss: 1.1580\n"
          ]
        },
        {
          "output_type": "stream",
          "name": "stderr",
          "text": [
            " 36%|███▋      | 602/1654 [00:18<00:30, 34.16it/s]"
          ]
        },
        {
          "output_type": "stream",
          "name": "stdout",
          "text": [
            "Epoch [5/5] Batch [597/1654] Loss: 1.4468\n",
            "Epoch [5/5] Batch [598/1654] Loss: 1.1895\n",
            "Epoch [5/5] Batch [599/1654] Loss: 1.5806\n",
            "Epoch [5/5] Batch [600/1654] Loss: 1.1527\n",
            "Epoch [5/5] Batch [601/1654] Loss: 1.1045\n",
            "Epoch [5/5] Batch [602/1654] Loss: 1.0607\n",
            "Epoch [5/5] Batch [603/1654] Loss: 1.1884\n"
          ]
        },
        {
          "output_type": "stream",
          "name": "stderr",
          "text": [
            " 37%|███▋      | 610/1654 [00:18<00:30, 34.71it/s]"
          ]
        },
        {
          "output_type": "stream",
          "name": "stdout",
          "text": [
            "Epoch [5/5] Batch [604/1654] Loss: 1.6651\n",
            "Epoch [5/5] Batch [605/1654] Loss: 1.1924\n",
            "Epoch [5/5] Batch [606/1654] Loss: 1.1146\n",
            "Epoch [5/5] Batch [607/1654] Loss: 1.4356\n",
            "Epoch [5/5] Batch [608/1654] Loss: 1.5071\n",
            "Epoch [5/5] Batch [609/1654] Loss: 1.1086\n",
            "Epoch [5/5] Batch [610/1654] Loss: 1.2652\n",
            "Epoch [5/5] Batch [611/1654] Loss: 1.1680\n"
          ]
        },
        {
          "output_type": "stream",
          "name": "stderr",
          "text": [
            " 37%|███▋      | 618/1654 [00:19<00:29, 34.73it/s]"
          ]
        },
        {
          "output_type": "stream",
          "name": "stdout",
          "text": [
            "Epoch [5/5] Batch [612/1654] Loss: 1.6657\n",
            "Epoch [5/5] Batch [613/1654] Loss: 1.2090\n",
            "Epoch [5/5] Batch [614/1654] Loss: 1.2101\n",
            "Epoch [5/5] Batch [615/1654] Loss: 1.3315\n",
            "Epoch [5/5] Batch [616/1654] Loss: 1.4788\n",
            "Epoch [5/5] Batch [617/1654] Loss: 1.7362\n",
            "Epoch [5/5] Batch [618/1654] Loss: 1.3582\n"
          ]
        },
        {
          "output_type": "stream",
          "name": "stderr",
          "text": [
            " 38%|███▊      | 626/1654 [00:19<00:29, 34.97it/s]"
          ]
        },
        {
          "output_type": "stream",
          "name": "stdout",
          "text": [
            "Epoch [5/5] Batch [619/1654] Loss: 1.3950\n",
            "Epoch [5/5] Batch [620/1654] Loss: 1.1724\n",
            "Epoch [5/5] Batch [621/1654] Loss: 1.2046\n",
            "Epoch [5/5] Batch [622/1654] Loss: 1.3937\n",
            "Epoch [5/5] Batch [623/1654] Loss: 1.3312\n",
            "Epoch [5/5] Batch [624/1654] Loss: 1.3016\n",
            "Epoch [5/5] Batch [625/1654] Loss: 1.2882\n",
            "Epoch [5/5] Batch [626/1654] Loss: 0.8154\n"
          ]
        },
        {
          "output_type": "stream",
          "name": "stderr",
          "text": [
            "\r 38%|███▊      | 630/1654 [00:19<00:29, 34.89it/s]"
          ]
        },
        {
          "output_type": "stream",
          "name": "stdout",
          "text": [
            "Epoch [5/5] Batch [627/1654] Loss: 1.4874\n",
            "Epoch [5/5] Batch [628/1654] Loss: 0.9764\n",
            "Epoch [5/5] Batch [629/1654] Loss: 1.3845\n",
            "Epoch [5/5] Batch [630/1654] Loss: 1.3355\n",
            "Epoch [5/5] Batch [631/1654] Loss: 1.4798\n",
            "Epoch [5/5] Batch [632/1654] Loss: 1.2923\n",
            "Epoch [5/5] Batch [633/1654] Loss: 1.1307\n"
          ]
        },
        {
          "output_type": "stream",
          "name": "stderr",
          "text": [
            " 39%|███▊      | 638/1654 [00:19<00:29, 34.29it/s]"
          ]
        },
        {
          "output_type": "stream",
          "name": "stdout",
          "text": [
            "Epoch [5/5] Batch [634/1654] Loss: 1.3307\n",
            "Epoch [5/5] Batch [635/1654] Loss: 1.5062\n",
            "Epoch [5/5] Batch [636/1654] Loss: 1.1059\n",
            "Epoch [5/5] Batch [637/1654] Loss: 1.5747\n",
            "Epoch [5/5] Batch [638/1654] Loss: 1.2814\n",
            "Epoch [5/5] Batch [639/1654] Loss: 1.4129\n",
            "Epoch [5/5] Batch [640/1654] Loss: 1.1464\n"
          ]
        },
        {
          "output_type": "stream",
          "name": "stderr",
          "text": [
            " 39%|███▉      | 646/1654 [00:19<00:30, 33.26it/s]"
          ]
        },
        {
          "output_type": "stream",
          "name": "stdout",
          "text": [
            "Epoch [5/5] Batch [641/1654] Loss: 1.4187\n",
            "Epoch [5/5] Batch [642/1654] Loss: 1.3048\n",
            "Epoch [5/5] Batch [643/1654] Loss: 1.6280\n",
            "Epoch [5/5] Batch [644/1654] Loss: 1.2388\n",
            "Epoch [5/5] Batch [645/1654] Loss: 0.9128\n",
            "Epoch [5/5] Batch [646/1654] Loss: 1.3266\n",
            "Epoch [5/5] Batch [647/1654] Loss: 1.1524\n"
          ]
        },
        {
          "output_type": "stream",
          "name": "stderr",
          "text": [
            " 40%|███▉      | 654/1654 [00:20<00:29, 33.85it/s]"
          ]
        },
        {
          "output_type": "stream",
          "name": "stdout",
          "text": [
            "Epoch [5/5] Batch [648/1654] Loss: 1.5620\n",
            "Epoch [5/5] Batch [649/1654] Loss: 1.2306\n",
            "Epoch [5/5] Batch [650/1654] Loss: 1.2786\n",
            "Epoch [5/5] Batch [651/1654] Loss: 1.2015\n",
            "Epoch [5/5] Batch [652/1654] Loss: 1.5713\n",
            "Epoch [5/5] Batch [653/1654] Loss: 1.4556\n",
            "Epoch [5/5] Batch [654/1654] Loss: 1.4009\n"
          ]
        },
        {
          "output_type": "stream",
          "name": "stderr",
          "text": [
            " 40%|████      | 662/1654 [00:20<00:28, 34.30it/s]"
          ]
        },
        {
          "output_type": "stream",
          "name": "stdout",
          "text": [
            "Epoch [5/5] Batch [655/1654] Loss: 1.0403\n",
            "Epoch [5/5] Batch [656/1654] Loss: 1.3444\n",
            "Epoch [5/5] Batch [657/1654] Loss: 1.2868\n",
            "Epoch [5/5] Batch [658/1654] Loss: 1.1717\n",
            "Epoch [5/5] Batch [659/1654] Loss: 1.1963\n",
            "Epoch [5/5] Batch [660/1654] Loss: 1.1861\n",
            "Epoch [5/5] Batch [661/1654] Loss: 1.5182\n",
            "Epoch [5/5] Batch [662/1654] Loss: 1.3282\n"
          ]
        },
        {
          "output_type": "stream",
          "name": "stderr",
          "text": [
            "\r 40%|████      | 666/1654 [00:20<00:28, 34.50it/s]"
          ]
        },
        {
          "output_type": "stream",
          "name": "stdout",
          "text": [
            "Epoch [5/5] Batch [663/1654] Loss: 1.4995\n",
            "Epoch [5/5] Batch [664/1654] Loss: 1.4182\n",
            "Epoch [5/5] Batch [665/1654] Loss: 1.2750\n",
            "Epoch [5/5] Batch [666/1654] Loss: 1.2246\n",
            "Epoch [5/5] Batch [667/1654] Loss: 1.1621\n",
            "Epoch [5/5] Batch [668/1654] Loss: 1.8528\n",
            "Epoch [5/5] Batch [669/1654] Loss: 0.9761\n"
          ]
        },
        {
          "output_type": "stream",
          "name": "stderr",
          "text": [
            " 41%|████      | 674/1654 [00:20<00:28, 34.52it/s]"
          ]
        },
        {
          "output_type": "stream",
          "name": "stdout",
          "text": [
            "Epoch [5/5] Batch [670/1654] Loss: 1.5209\n",
            "Epoch [5/5] Batch [671/1654] Loss: 1.2536\n",
            "Epoch [5/5] Batch [672/1654] Loss: 1.6254\n",
            "Epoch [5/5] Batch [673/1654] Loss: 1.2277\n",
            "Epoch [5/5] Batch [674/1654] Loss: 1.7468\n",
            "Epoch [5/5] Batch [675/1654] Loss: 1.3285\n",
            "Epoch [5/5] Batch [676/1654] Loss: 1.3018\n",
            "Epoch [5/5] Batch [677/1654] Loss: 1.0817\n"
          ]
        },
        {
          "output_type": "stream",
          "name": "stderr",
          "text": [
            " 41%|████      | 682/1654 [00:20<00:27, 34.83it/s]"
          ]
        },
        {
          "output_type": "stream",
          "name": "stdout",
          "text": [
            "Epoch [5/5] Batch [678/1654] Loss: 1.4837\n",
            "Epoch [5/5] Batch [679/1654] Loss: 1.5480\n",
            "Epoch [5/5] Batch [680/1654] Loss: 1.2155\n",
            "Epoch [5/5] Batch [681/1654] Loss: 1.2717\n",
            "Epoch [5/5] Batch [682/1654] Loss: 1.2683\n",
            "Epoch [5/5] Batch [683/1654] Loss: 1.3885\n",
            "Epoch [5/5] Batch [684/1654] Loss: 1.0600\n",
            "Epoch [5/5] Batch [685/1654] Loss: 1.0228\n"
          ]
        },
        {
          "output_type": "stream",
          "name": "stderr",
          "text": [
            " 42%|████▏     | 690/1654 [00:21<00:27, 34.90it/s]"
          ]
        },
        {
          "output_type": "stream",
          "name": "stdout",
          "text": [
            "Epoch [5/5] Batch [686/1654] Loss: 0.9707\n",
            "Epoch [5/5] Batch [687/1654] Loss: 1.2954\n",
            "Epoch [5/5] Batch [688/1654] Loss: 1.1414\n",
            "Epoch [5/5] Batch [689/1654] Loss: 1.3534\n",
            "Epoch [5/5] Batch [690/1654] Loss: 1.2928\n",
            "Epoch [5/5] Batch [691/1654] Loss: 1.2272\n",
            "Epoch [5/5] Batch [692/1654] Loss: 1.1641\n",
            "Epoch [5/5] Batch [693/1654] Loss: 1.2537\n"
          ]
        },
        {
          "output_type": "stream",
          "name": "stderr",
          "text": [
            " 42%|████▏     | 698/1654 [00:21<00:27, 35.29it/s]"
          ]
        },
        {
          "output_type": "stream",
          "name": "stdout",
          "text": [
            "Epoch [5/5] Batch [694/1654] Loss: 1.1072\n",
            "Epoch [5/5] Batch [695/1654] Loss: 1.5563\n",
            "Epoch [5/5] Batch [696/1654] Loss: 1.2477\n",
            "Epoch [5/5] Batch [697/1654] Loss: 1.2240\n",
            "Epoch [5/5] Batch [698/1654] Loss: 1.0850\n",
            "Epoch [5/5] Batch [699/1654] Loss: 1.1894\n",
            "Epoch [5/5] Batch [700/1654] Loss: 1.5241\n",
            "Epoch [5/5] Batch [701/1654] Loss: 1.3633\n"
          ]
        },
        {
          "output_type": "stream",
          "name": "stderr",
          "text": [
            " 43%|████▎     | 706/1654 [00:21<00:27, 34.59it/s]"
          ]
        },
        {
          "output_type": "stream",
          "name": "stdout",
          "text": [
            "Epoch [5/5] Batch [702/1654] Loss: 1.1119\n",
            "Epoch [5/5] Batch [703/1654] Loss: 1.2082\n",
            "Epoch [5/5] Batch [704/1654] Loss: 1.2193\n",
            "Epoch [5/5] Batch [705/1654] Loss: 1.1817\n",
            "Epoch [5/5] Batch [706/1654] Loss: 1.0847\n",
            "Epoch [5/5] Batch [707/1654] Loss: 1.4615\n",
            "Epoch [5/5] Batch [708/1654] Loss: 1.1504\n"
          ]
        },
        {
          "output_type": "stream",
          "name": "stderr",
          "text": [
            " 43%|████▎     | 714/1654 [00:21<00:26, 35.24it/s]"
          ]
        },
        {
          "output_type": "stream",
          "name": "stdout",
          "text": [
            "Epoch [5/5] Batch [709/1654] Loss: 1.5139\n",
            "Epoch [5/5] Batch [710/1654] Loss: 1.3165\n",
            "Epoch [5/5] Batch [711/1654] Loss: 1.2388\n",
            "Epoch [5/5] Batch [712/1654] Loss: 1.5729\n",
            "Epoch [5/5] Batch [713/1654] Loss: 1.2099\n",
            "Epoch [5/5] Batch [714/1654] Loss: 1.3858\n",
            "Epoch [5/5] Batch [715/1654] Loss: 1.2132\n",
            "Epoch [5/5] Batch [716/1654] Loss: 1.3636\n"
          ]
        },
        {
          "output_type": "stream",
          "name": "stderr",
          "text": [
            " 44%|████▎     | 722/1654 [00:22<00:26, 35.13it/s]"
          ]
        },
        {
          "output_type": "stream",
          "name": "stdout",
          "text": [
            "Epoch [5/5] Batch [717/1654] Loss: 1.0447\n",
            "Epoch [5/5] Batch [718/1654] Loss: 1.1247\n",
            "Epoch [5/5] Batch [719/1654] Loss: 1.0285\n",
            "Epoch [5/5] Batch [720/1654] Loss: 1.3728\n",
            "Epoch [5/5] Batch [721/1654] Loss: 1.6060\n",
            "Epoch [5/5] Batch [722/1654] Loss: 1.3158\n",
            "Epoch [5/5] Batch [723/1654] Loss: 1.2872\n",
            "Epoch [5/5] Batch [724/1654] Loss: 1.1172\n"
          ]
        },
        {
          "output_type": "stream",
          "name": "stderr",
          "text": [
            " 44%|████▍     | 730/1654 [00:22<00:26, 34.98it/s]"
          ]
        },
        {
          "output_type": "stream",
          "name": "stdout",
          "text": [
            "Epoch [5/5] Batch [725/1654] Loss: 1.6222\n",
            "Epoch [5/5] Batch [726/1654] Loss: 1.0442\n",
            "Epoch [5/5] Batch [727/1654] Loss: 1.4384\n",
            "Epoch [5/5] Batch [728/1654] Loss: 0.9041\n",
            "Epoch [5/5] Batch [729/1654] Loss: 1.3254\n",
            "Epoch [5/5] Batch [730/1654] Loss: 1.7835\n",
            "Epoch [5/5] Batch [731/1654] Loss: 1.0400\n",
            "Epoch [5/5] Batch [732/1654] Loss: 1.2586\n"
          ]
        },
        {
          "output_type": "stream",
          "name": "stderr",
          "text": [
            " 45%|████▍     | 738/1654 [00:22<00:25, 35.51it/s]"
          ]
        },
        {
          "output_type": "stream",
          "name": "stdout",
          "text": [
            "Epoch [5/5] Batch [733/1654] Loss: 1.6144\n",
            "Epoch [5/5] Batch [734/1654] Loss: 1.0604\n",
            "Epoch [5/5] Batch [735/1654] Loss: 1.1307\n",
            "Epoch [5/5] Batch [736/1654] Loss: 1.6246\n",
            "Epoch [5/5] Batch [737/1654] Loss: 0.8868\n",
            "Epoch [5/5] Batch [738/1654] Loss: 1.4079\n",
            "Epoch [5/5] Batch [739/1654] Loss: 1.1723\n"
          ]
        },
        {
          "output_type": "stream",
          "name": "stderr",
          "text": [
            " 45%|████▌     | 746/1654 [00:22<00:26, 34.68it/s]"
          ]
        },
        {
          "output_type": "stream",
          "name": "stdout",
          "text": [
            "Epoch [5/5] Batch [740/1654] Loss: 1.3128\n",
            "Epoch [5/5] Batch [741/1654] Loss: 1.4047\n",
            "Epoch [5/5] Batch [742/1654] Loss: 1.4055\n",
            "Epoch [5/5] Batch [743/1654] Loss: 1.4136\n",
            "Epoch [5/5] Batch [744/1654] Loss: 1.1691\n",
            "Epoch [5/5] Batch [745/1654] Loss: 1.1452\n",
            "Epoch [5/5] Batch [746/1654] Loss: 1.2214\n"
          ]
        },
        {
          "output_type": "stream",
          "name": "stderr",
          "text": [
            "\r 45%|████▌     | 750/1654 [00:22<00:26, 33.87it/s]"
          ]
        },
        {
          "output_type": "stream",
          "name": "stdout",
          "text": [
            "Epoch [5/5] Batch [747/1654] Loss: 1.1245\n",
            "Epoch [5/5] Batch [748/1654] Loss: 1.2401\n",
            "Epoch [5/5] Batch [749/1654] Loss: 1.1940\n",
            "Epoch [5/5] Batch [750/1654] Loss: 1.3698\n",
            "Epoch [5/5] Batch [751/1654] Loss: 1.2722\n",
            "Epoch [5/5] Batch [752/1654] Loss: 1.4236\n",
            "Epoch [5/5] Batch [753/1654] Loss: 1.2866\n"
          ]
        },
        {
          "output_type": "stream",
          "name": "stderr",
          "text": [
            " 46%|████▌     | 758/1654 [00:23<00:25, 34.71it/s]"
          ]
        },
        {
          "output_type": "stream",
          "name": "stdout",
          "text": [
            "Epoch [5/5] Batch [754/1654] Loss: 1.2745\n",
            "Epoch [5/5] Batch [755/1654] Loss: 1.5890\n",
            "Epoch [5/5] Batch [756/1654] Loss: 1.4483\n",
            "Epoch [5/5] Batch [757/1654] Loss: 1.6359\n",
            "Epoch [5/5] Batch [758/1654] Loss: 0.9266\n",
            "Epoch [5/5] Batch [759/1654] Loss: 1.2893\n",
            "Epoch [5/5] Batch [760/1654] Loss: 1.3063\n",
            "Epoch [5/5] Batch [761/1654] Loss: 1.1942\n"
          ]
        },
        {
          "output_type": "stream",
          "name": "stderr",
          "text": [
            " 46%|████▋     | 766/1654 [00:23<00:25, 34.60it/s]"
          ]
        },
        {
          "output_type": "stream",
          "name": "stdout",
          "text": [
            "Epoch [5/5] Batch [762/1654] Loss: 1.0552\n",
            "Epoch [5/5] Batch [763/1654] Loss: 1.0918\n",
            "Epoch [5/5] Batch [764/1654] Loss: 1.6605\n",
            "Epoch [5/5] Batch [765/1654] Loss: 1.0230\n",
            "Epoch [5/5] Batch [766/1654] Loss: 1.3520\n",
            "Epoch [5/5] Batch [767/1654] Loss: 1.6492\n",
            "Epoch [5/5] Batch [768/1654] Loss: 1.4906\n",
            "Epoch [5/5] Batch [769/1654] Loss: 1.2093\n"
          ]
        },
        {
          "output_type": "stream",
          "name": "stderr",
          "text": [
            " 47%|████▋     | 774/1654 [00:23<00:25, 34.82it/s]"
          ]
        },
        {
          "output_type": "stream",
          "name": "stdout",
          "text": [
            "Epoch [5/5] Batch [770/1654] Loss: 1.1524\n",
            "Epoch [5/5] Batch [771/1654] Loss: 1.2568\n",
            "Epoch [5/5] Batch [772/1654] Loss: 1.3350\n",
            "Epoch [5/5] Batch [773/1654] Loss: 1.3814\n",
            "Epoch [5/5] Batch [774/1654] Loss: 1.2352\n",
            "Epoch [5/5] Batch [775/1654] Loss: 1.5100\n",
            "Epoch [5/5] Batch [776/1654] Loss: 1.6802\n"
          ]
        },
        {
          "output_type": "stream",
          "name": "stderr",
          "text": [
            " 47%|████▋     | 782/1654 [00:23<00:25, 34.22it/s]"
          ]
        },
        {
          "output_type": "stream",
          "name": "stdout",
          "text": [
            "Epoch [5/5] Batch [777/1654] Loss: 1.5005\n",
            "Epoch [5/5] Batch [778/1654] Loss: 1.6565\n",
            "Epoch [5/5] Batch [779/1654] Loss: 1.2849\n",
            "Epoch [5/5] Batch [780/1654] Loss: 1.2430\n",
            "Epoch [5/5] Batch [781/1654] Loss: 1.4880\n",
            "Epoch [5/5] Batch [782/1654] Loss: 1.6425\n",
            "Epoch [5/5] Batch [783/1654] Loss: 1.5192\n"
          ]
        },
        {
          "output_type": "stream",
          "name": "stderr",
          "text": [
            " 48%|████▊     | 790/1654 [00:24<00:25, 34.32it/s]"
          ]
        },
        {
          "output_type": "stream",
          "name": "stdout",
          "text": [
            "Epoch [5/5] Batch [784/1654] Loss: 1.3961\n",
            "Epoch [5/5] Batch [785/1654] Loss: 1.2543\n",
            "Epoch [5/5] Batch [786/1654] Loss: 1.2917\n",
            "Epoch [5/5] Batch [787/1654] Loss: 1.4627\n",
            "Epoch [5/5] Batch [788/1654] Loss: 1.7850\n",
            "Epoch [5/5] Batch [789/1654] Loss: 1.2767\n",
            "Epoch [5/5] Batch [790/1654] Loss: 1.0682\n"
          ]
        },
        {
          "output_type": "stream",
          "name": "stderr",
          "text": [
            " 48%|████▊     | 798/1654 [00:24<00:24, 34.45it/s]"
          ]
        },
        {
          "output_type": "stream",
          "name": "stdout",
          "text": [
            "Epoch [5/5] Batch [791/1654] Loss: 1.5828\n",
            "Epoch [5/5] Batch [792/1654] Loss: 1.3580\n",
            "Epoch [5/5] Batch [793/1654] Loss: 1.4697\n",
            "Epoch [5/5] Batch [794/1654] Loss: 1.0020\n",
            "Epoch [5/5] Batch [795/1654] Loss: 1.3313\n",
            "Epoch [5/5] Batch [796/1654] Loss: 1.4051\n",
            "Epoch [5/5] Batch [797/1654] Loss: 1.0459\n",
            "Epoch [5/5] Batch [798/1654] Loss: 1.4061\n"
          ]
        },
        {
          "output_type": "stream",
          "name": "stderr",
          "text": [
            " 49%|████▊     | 806/1654 [00:24<00:24, 35.03it/s]"
          ]
        },
        {
          "output_type": "stream",
          "name": "stdout",
          "text": [
            "Epoch [5/5] Batch [799/1654] Loss: 1.3209\n",
            "Epoch [5/5] Batch [800/1654] Loss: 1.2532\n",
            "Epoch [5/5] Batch [801/1654] Loss: 1.3107\n",
            "Epoch [5/5] Batch [802/1654] Loss: 1.1280\n",
            "Epoch [5/5] Batch [803/1654] Loss: 1.1119\n",
            "Epoch [5/5] Batch [804/1654] Loss: 1.3338\n",
            "Epoch [5/5] Batch [805/1654] Loss: 1.1828\n",
            "Epoch [5/5] Batch [806/1654] Loss: 1.6962\n"
          ]
        },
        {
          "output_type": "stream",
          "name": "stderr",
          "text": [
            "\r 49%|████▉     | 810/1654 [00:24<00:24, 34.81it/s]"
          ]
        },
        {
          "output_type": "stream",
          "name": "stdout",
          "text": [
            "Epoch [5/5] Batch [807/1654] Loss: 1.1641\n",
            "Epoch [5/5] Batch [808/1654] Loss: 1.3666\n",
            "Epoch [5/5] Batch [809/1654] Loss: 1.5462\n",
            "Epoch [5/5] Batch [810/1654] Loss: 1.2644\n",
            "Epoch [5/5] Batch [811/1654] Loss: 1.3911\n",
            "Epoch [5/5] Batch [812/1654] Loss: 1.7229\n",
            "Epoch [5/5] Batch [813/1654] Loss: 1.2518\n"
          ]
        },
        {
          "output_type": "stream",
          "name": "stderr",
          "text": [
            " 49%|████▉     | 818/1654 [00:24<00:24, 34.02it/s]"
          ]
        },
        {
          "output_type": "stream",
          "name": "stdout",
          "text": [
            "Epoch [5/5] Batch [814/1654] Loss: 1.2722\n",
            "Epoch [5/5] Batch [815/1654] Loss: 1.0919\n",
            "Epoch [5/5] Batch [816/1654] Loss: 1.1222\n",
            "Epoch [5/5] Batch [817/1654] Loss: 1.2508\n",
            "Epoch [5/5] Batch [818/1654] Loss: 1.1006\n",
            "Epoch [5/5] Batch [819/1654] Loss: 1.2342\n",
            "Epoch [5/5] Batch [820/1654] Loss: 1.2593\n",
            "Epoch [5/5] Batch [821/1654] Loss: 1.5499\n"
          ]
        },
        {
          "output_type": "stream",
          "name": "stderr",
          "text": [
            " 50%|████▉     | 826/1654 [00:25<00:24, 33.60it/s]"
          ]
        },
        {
          "output_type": "stream",
          "name": "stdout",
          "text": [
            "Epoch [5/5] Batch [822/1654] Loss: 1.0954\n",
            "Epoch [5/5] Batch [823/1654] Loss: 1.2802\n",
            "Epoch [5/5] Batch [824/1654] Loss: 1.2630\n",
            "Epoch [5/5] Batch [825/1654] Loss: 1.3193\n",
            "Epoch [5/5] Batch [826/1654] Loss: 1.1795\n",
            "Epoch [5/5] Batch [827/1654] Loss: 1.2012\n",
            "Epoch [5/5] Batch [828/1654] Loss: 1.0502\n"
          ]
        },
        {
          "output_type": "stream",
          "name": "stderr",
          "text": [
            " 50%|█████     | 834/1654 [00:25<00:24, 33.03it/s]"
          ]
        },
        {
          "output_type": "stream",
          "name": "stdout",
          "text": [
            "Epoch [5/5] Batch [829/1654] Loss: 1.2489\n",
            "Epoch [5/5] Batch [830/1654] Loss: 1.4259\n",
            "Epoch [5/5] Batch [831/1654] Loss: 1.2146\n",
            "Epoch [5/5] Batch [832/1654] Loss: 1.6221\n",
            "Epoch [5/5] Batch [833/1654] Loss: 1.1751\n",
            "Epoch [5/5] Batch [834/1654] Loss: 1.1012\n",
            "Epoch [5/5] Batch [835/1654] Loss: 1.4267\n"
          ]
        },
        {
          "output_type": "stream",
          "name": "stderr",
          "text": [
            "\r 51%|█████     | 838/1654 [00:25<00:25, 32.09it/s]"
          ]
        },
        {
          "output_type": "stream",
          "name": "stdout",
          "text": [
            "Epoch [5/5] Batch [836/1654] Loss: 1.4108\n",
            "Epoch [5/5] Batch [837/1654] Loss: 1.4581\n",
            "Epoch [5/5] Batch [838/1654] Loss: 0.9663\n",
            "Epoch [5/5] Batch [839/1654] Loss: 1.3108\n",
            "Epoch [5/5] Batch [840/1654] Loss: 1.2958\n",
            "Epoch [5/5] Batch [841/1654] Loss: 1.4375\n"
          ]
        },
        {
          "output_type": "stream",
          "name": "stderr",
          "text": [
            " 51%|█████     | 846/1654 [00:25<00:27, 29.87it/s]"
          ]
        },
        {
          "output_type": "stream",
          "name": "stdout",
          "text": [
            "Epoch [5/5] Batch [842/1654] Loss: 1.3039\n",
            "Epoch [5/5] Batch [843/1654] Loss: 1.1662\n",
            "Epoch [5/5] Batch [844/1654] Loss: 1.2898\n",
            "Epoch [5/5] Batch [845/1654] Loss: 1.2728\n",
            "Epoch [5/5] Batch [846/1654] Loss: 1.4407\n",
            "Epoch [5/5] Batch [847/1654] Loss: 1.2028\n"
          ]
        },
        {
          "output_type": "stream",
          "name": "stderr",
          "text": [
            " 52%|█████▏    | 853/1654 [00:26<00:27, 29.07it/s]"
          ]
        },
        {
          "output_type": "stream",
          "name": "stdout",
          "text": [
            "Epoch [5/5] Batch [848/1654] Loss: 1.2507\n",
            "Epoch [5/5] Batch [849/1654] Loss: 1.4875\n",
            "Epoch [5/5] Batch [850/1654] Loss: 1.5323\n",
            "Epoch [5/5] Batch [851/1654] Loss: 1.1270\n",
            "Epoch [5/5] Batch [852/1654] Loss: 1.1537\n",
            "Epoch [5/5] Batch [853/1654] Loss: 1.2529\n"
          ]
        },
        {
          "output_type": "stream",
          "name": "stderr",
          "text": [
            " 52%|█████▏    | 859/1654 [00:26<00:29, 27.34it/s]"
          ]
        },
        {
          "output_type": "stream",
          "name": "stdout",
          "text": [
            "Epoch [5/5] Batch [854/1654] Loss: 0.9955\n",
            "Epoch [5/5] Batch [855/1654] Loss: 1.4042\n",
            "Epoch [5/5] Batch [856/1654] Loss: 1.2850\n",
            "Epoch [5/5] Batch [857/1654] Loss: 1.5218\n",
            "Epoch [5/5] Batch [858/1654] Loss: 1.4319\n",
            "Epoch [5/5] Batch [859/1654] Loss: 1.2458\n"
          ]
        },
        {
          "output_type": "stream",
          "name": "stderr",
          "text": [
            " 52%|█████▏    | 866/1654 [00:26<00:27, 29.02it/s]"
          ]
        },
        {
          "output_type": "stream",
          "name": "stdout",
          "text": [
            "Epoch [5/5] Batch [860/1654] Loss: 1.6271\n",
            "Epoch [5/5] Batch [861/1654] Loss: 1.5748\n",
            "Epoch [5/5] Batch [862/1654] Loss: 1.3341\n",
            "Epoch [5/5] Batch [863/1654] Loss: 1.3580\n",
            "Epoch [5/5] Batch [864/1654] Loss: 1.0308\n",
            "Epoch [5/5] Batch [865/1654] Loss: 1.0088\n",
            "Epoch [5/5] Batch [866/1654] Loss: 1.5101\n"
          ]
        },
        {
          "output_type": "stream",
          "name": "stderr",
          "text": [
            " 53%|█████▎    | 873/1654 [00:26<00:26, 29.45it/s]"
          ]
        },
        {
          "output_type": "stream",
          "name": "stdout",
          "text": [
            "Epoch [5/5] Batch [867/1654] Loss: 1.3402\n",
            "Epoch [5/5] Batch [868/1654] Loss: 1.3388\n",
            "Epoch [5/5] Batch [869/1654] Loss: 1.4887\n",
            "Epoch [5/5] Batch [870/1654] Loss: 1.1818\n",
            "Epoch [5/5] Batch [871/1654] Loss: 1.1938\n",
            "Epoch [5/5] Batch [872/1654] Loss: 1.4448\n",
            "Epoch [5/5] Batch [873/1654] Loss: 1.2276\n"
          ]
        },
        {
          "output_type": "stream",
          "name": "stderr",
          "text": [
            " 53%|█████▎    | 879/1654 [00:26<00:27, 28.18it/s]"
          ]
        },
        {
          "output_type": "stream",
          "name": "stdout",
          "text": [
            "Epoch [5/5] Batch [874/1654] Loss: 1.4122\n",
            "Epoch [5/5] Batch [875/1654] Loss: 1.3994\n",
            "Epoch [5/5] Batch [876/1654] Loss: 1.1119\n",
            "Epoch [5/5] Batch [877/1654] Loss: 1.3187\n",
            "Epoch [5/5] Batch [878/1654] Loss: 1.4595\n",
            "Epoch [5/5] Batch [879/1654] Loss: 1.3143\n"
          ]
        },
        {
          "output_type": "stream",
          "name": "stderr",
          "text": [
            "\r 53%|█████▎    | 882/1654 [00:27<00:27, 28.20it/s]"
          ]
        },
        {
          "output_type": "stream",
          "name": "stdout",
          "text": [
            "Epoch [5/5] Batch [880/1654] Loss: 1.4624\n",
            "Epoch [5/5] Batch [881/1654] Loss: 1.3941\n",
            "Epoch [5/5] Batch [882/1654] Loss: 1.0829\n",
            "Epoch [5/5] Batch [883/1654] Loss: 1.1831\n",
            "Epoch [5/5] Batch [884/1654] Loss: 1.3708\n",
            "Epoch [5/5] Batch [885/1654] Loss: 1.3224\n"
          ]
        },
        {
          "output_type": "stream",
          "name": "stderr",
          "text": [
            " 54%|█████▎    | 889/1654 [00:27<00:27, 28.19it/s]"
          ]
        },
        {
          "output_type": "stream",
          "name": "stdout",
          "text": [
            "Epoch [5/5] Batch [886/1654] Loss: 1.3242\n",
            "Epoch [5/5] Batch [887/1654] Loss: 1.1049\n",
            "Epoch [5/5] Batch [888/1654] Loss: 1.5302\n",
            "Epoch [5/5] Batch [889/1654] Loss: 1.1881\n",
            "Epoch [5/5] Batch [890/1654] Loss: 1.2900\n",
            "Epoch [5/5] Batch [891/1654] Loss: 1.3574\n"
          ]
        },
        {
          "output_type": "stream",
          "name": "stderr",
          "text": [
            " 54%|█████▍    | 895/1654 [00:27<00:27, 27.22it/s]"
          ]
        },
        {
          "output_type": "stream",
          "name": "stdout",
          "text": [
            "Epoch [5/5] Batch [892/1654] Loss: 1.3029\n",
            "Epoch [5/5] Batch [893/1654] Loss: 1.4986\n",
            "Epoch [5/5] Batch [894/1654] Loss: 1.3384\n",
            "Epoch [5/5] Batch [895/1654] Loss: 1.2797\n",
            "Epoch [5/5] Batch [896/1654] Loss: 1.1054\n",
            "Epoch [5/5] Batch [897/1654] Loss: 1.5270\n"
          ]
        },
        {
          "output_type": "stream",
          "name": "stderr",
          "text": [
            " 54%|█████▍    | 901/1654 [00:27<00:28, 26.30it/s]"
          ]
        },
        {
          "output_type": "stream",
          "name": "stdout",
          "text": [
            "Epoch [5/5] Batch [898/1654] Loss: 1.1620\n",
            "Epoch [5/5] Batch [899/1654] Loss: 1.5671\n",
            "Epoch [5/5] Batch [900/1654] Loss: 1.3887\n",
            "Epoch [5/5] Batch [901/1654] Loss: 1.1030\n",
            "Epoch [5/5] Batch [902/1654] Loss: 1.3374\n"
          ]
        },
        {
          "output_type": "stream",
          "name": "stderr",
          "text": [
            " 55%|█████▍    | 907/1654 [00:28<00:28, 26.30it/s]"
          ]
        },
        {
          "output_type": "stream",
          "name": "stdout",
          "text": [
            "Epoch [5/5] Batch [903/1654] Loss: 1.3573\n",
            "Epoch [5/5] Batch [904/1654] Loss: 1.5620\n",
            "Epoch [5/5] Batch [905/1654] Loss: 1.4364\n",
            "Epoch [5/5] Batch [906/1654] Loss: 1.5454\n",
            "Epoch [5/5] Batch [907/1654] Loss: 1.3264\n",
            "Epoch [5/5] Batch [908/1654] Loss: 1.3719\n"
          ]
        },
        {
          "output_type": "stream",
          "name": "stderr",
          "text": [
            " 55%|█████▌    | 915/1654 [00:28<00:24, 30.66it/s]"
          ]
        },
        {
          "output_type": "stream",
          "name": "stdout",
          "text": [
            "Epoch [5/5] Batch [909/1654] Loss: 1.3439\n",
            "Epoch [5/5] Batch [910/1654] Loss: 1.3125\n",
            "Epoch [5/5] Batch [911/1654] Loss: 1.4995\n",
            "Epoch [5/5] Batch [912/1654] Loss: 1.3365\n",
            "Epoch [5/5] Batch [913/1654] Loss: 1.3677\n",
            "Epoch [5/5] Batch [914/1654] Loss: 1.0926\n",
            "Epoch [5/5] Batch [915/1654] Loss: 1.1450\n"
          ]
        },
        {
          "output_type": "stream",
          "name": "stderr",
          "text": [
            " 56%|█████▌    | 923/1654 [00:28<00:22, 32.94it/s]"
          ]
        },
        {
          "output_type": "stream",
          "name": "stdout",
          "text": [
            "Epoch [5/5] Batch [916/1654] Loss: 1.5125\n",
            "Epoch [5/5] Batch [917/1654] Loss: 1.3135\n",
            "Epoch [5/5] Batch [918/1654] Loss: 1.4014\n",
            "Epoch [5/5] Batch [919/1654] Loss: 1.6239\n",
            "Epoch [5/5] Batch [920/1654] Loss: 1.3115\n",
            "Epoch [5/5] Batch [921/1654] Loss: 1.4113\n",
            "Epoch [5/5] Batch [922/1654] Loss: 1.5270\n",
            "Epoch [5/5] Batch [923/1654] Loss: 1.4883\n"
          ]
        },
        {
          "output_type": "stream",
          "name": "stderr",
          "text": [
            " 56%|█████▋    | 931/1654 [00:28<00:21, 33.68it/s]"
          ]
        },
        {
          "output_type": "stream",
          "name": "stdout",
          "text": [
            "Epoch [5/5] Batch [924/1654] Loss: 1.0154\n",
            "Epoch [5/5] Batch [925/1654] Loss: 1.4388\n",
            "Epoch [5/5] Batch [926/1654] Loss: 1.3034\n",
            "Epoch [5/5] Batch [927/1654] Loss: 1.5760\n",
            "Epoch [5/5] Batch [928/1654] Loss: 1.4263\n",
            "Epoch [5/5] Batch [929/1654] Loss: 1.2319\n",
            "Epoch [5/5] Batch [930/1654] Loss: 1.3962\n",
            "Epoch [5/5] Batch [931/1654] Loss: 1.0401\n"
          ]
        },
        {
          "output_type": "stream",
          "name": "stderr",
          "text": [
            "\r 57%|█████▋    | 935/1654 [00:28<00:21, 33.90it/s]"
          ]
        },
        {
          "output_type": "stream",
          "name": "stdout",
          "text": [
            "Epoch [5/5] Batch [932/1654] Loss: 1.3329\n",
            "Epoch [5/5] Batch [933/1654] Loss: 1.2446\n",
            "Epoch [5/5] Batch [934/1654] Loss: 1.3722\n",
            "Epoch [5/5] Batch [935/1654] Loss: 1.1335\n",
            "Epoch [5/5] Batch [936/1654] Loss: 1.2377\n",
            "Epoch [5/5] Batch [937/1654] Loss: 1.3931\n",
            "Epoch [5/5] Batch [938/1654] Loss: 1.5833\n"
          ]
        },
        {
          "output_type": "stream",
          "name": "stderr",
          "text": [
            " 57%|█████▋    | 943/1654 [00:29<00:21, 33.85it/s]"
          ]
        },
        {
          "output_type": "stream",
          "name": "stdout",
          "text": [
            "Epoch [5/5] Batch [939/1654] Loss: 1.3857\n",
            "Epoch [5/5] Batch [940/1654] Loss: 1.3522\n",
            "Epoch [5/5] Batch [941/1654] Loss: 1.2615\n",
            "Epoch [5/5] Batch [942/1654] Loss: 1.2658\n",
            "Epoch [5/5] Batch [943/1654] Loss: 1.4962\n",
            "Epoch [5/5] Batch [944/1654] Loss: 1.4045\n",
            "Epoch [5/5] Batch [945/1654] Loss: 1.6442\n"
          ]
        },
        {
          "output_type": "stream",
          "name": "stderr",
          "text": [
            " 57%|█████▋    | 951/1654 [00:29<00:20, 33.68it/s]"
          ]
        },
        {
          "output_type": "stream",
          "name": "stdout",
          "text": [
            "Epoch [5/5] Batch [946/1654] Loss: 1.4895\n",
            "Epoch [5/5] Batch [947/1654] Loss: 1.3369\n",
            "Epoch [5/5] Batch [948/1654] Loss: 1.1158\n",
            "Epoch [5/5] Batch [949/1654] Loss: 1.3746\n",
            "Epoch [5/5] Batch [950/1654] Loss: 1.3287\n",
            "Epoch [5/5] Batch [951/1654] Loss: 1.3722\n",
            "Epoch [5/5] Batch [952/1654] Loss: 1.2920\n"
          ]
        },
        {
          "output_type": "stream",
          "name": "stderr",
          "text": [
            " 58%|█████▊    | 959/1654 [00:29<00:20, 34.15it/s]"
          ]
        },
        {
          "output_type": "stream",
          "name": "stdout",
          "text": [
            "Epoch [5/5] Batch [953/1654] Loss: 1.1660\n",
            "Epoch [5/5] Batch [954/1654] Loss: 1.1035\n",
            "Epoch [5/5] Batch [955/1654] Loss: 1.5790\n",
            "Epoch [5/5] Batch [956/1654] Loss: 1.3801\n",
            "Epoch [5/5] Batch [957/1654] Loss: 1.2475\n",
            "Epoch [5/5] Batch [958/1654] Loss: 1.2112\n",
            "Epoch [5/5] Batch [959/1654] Loss: 1.1160\n"
          ]
        },
        {
          "output_type": "stream",
          "name": "stderr",
          "text": [
            " 58%|█████▊    | 967/1654 [00:29<00:20, 34.27it/s]"
          ]
        },
        {
          "output_type": "stream",
          "name": "stdout",
          "text": [
            "Epoch [5/5] Batch [960/1654] Loss: 1.3299\n",
            "Epoch [5/5] Batch [961/1654] Loss: 1.3305\n",
            "Epoch [5/5] Batch [962/1654] Loss: 0.9337\n",
            "Epoch [5/5] Batch [963/1654] Loss: 1.2627\n",
            "Epoch [5/5] Batch [964/1654] Loss: 1.9729\n",
            "Epoch [5/5] Batch [965/1654] Loss: 1.2406\n",
            "Epoch [5/5] Batch [966/1654] Loss: 1.4131\n",
            "Epoch [5/5] Batch [967/1654] Loss: 1.4723\n"
          ]
        },
        {
          "output_type": "stream",
          "name": "stderr",
          "text": [
            "\r 59%|█████▊    | 971/1654 [00:29<00:19, 34.19it/s]"
          ]
        },
        {
          "output_type": "stream",
          "name": "stdout",
          "text": [
            "Epoch [5/5] Batch [968/1654] Loss: 1.0312\n",
            "Epoch [5/5] Batch [969/1654] Loss: 1.3511\n",
            "Epoch [5/5] Batch [970/1654] Loss: 1.3795\n",
            "Epoch [5/5] Batch [971/1654] Loss: 1.3537\n",
            "Epoch [5/5] Batch [972/1654] Loss: 1.2078\n",
            "Epoch [5/5] Batch [973/1654] Loss: 1.3453\n",
            "Epoch [5/5] Batch [974/1654] Loss: 1.0939\n"
          ]
        },
        {
          "output_type": "stream",
          "name": "stderr",
          "text": [
            " 59%|█████▉    | 979/1654 [00:30<00:20, 33.75it/s]"
          ]
        },
        {
          "output_type": "stream",
          "name": "stdout",
          "text": [
            "Epoch [5/5] Batch [975/1654] Loss: 1.1858\n",
            "Epoch [5/5] Batch [976/1654] Loss: 1.2193\n",
            "Epoch [5/5] Batch [977/1654] Loss: 1.4187\n",
            "Epoch [5/5] Batch [978/1654] Loss: 1.6309\n",
            "Epoch [5/5] Batch [979/1654] Loss: 1.0768\n",
            "Epoch [5/5] Batch [980/1654] Loss: 1.4036\n",
            "Epoch [5/5] Batch [981/1654] Loss: 1.0492\n"
          ]
        },
        {
          "output_type": "stream",
          "name": "stderr",
          "text": [
            " 60%|█████▉    | 987/1654 [00:30<00:19, 34.26it/s]"
          ]
        },
        {
          "output_type": "stream",
          "name": "stdout",
          "text": [
            "Epoch [5/5] Batch [982/1654] Loss: 1.3721\n",
            "Epoch [5/5] Batch [983/1654] Loss: 1.0852\n",
            "Epoch [5/5] Batch [984/1654] Loss: 1.4822\n",
            "Epoch [5/5] Batch [985/1654] Loss: 1.0412\n",
            "Epoch [5/5] Batch [986/1654] Loss: 1.2711\n",
            "Epoch [5/5] Batch [987/1654] Loss: 1.6032\n",
            "Epoch [5/5] Batch [988/1654] Loss: 1.2267\n"
          ]
        },
        {
          "output_type": "stream",
          "name": "stderr",
          "text": [
            " 60%|██████    | 995/1654 [00:30<00:19, 34.55it/s]"
          ]
        },
        {
          "output_type": "stream",
          "name": "stdout",
          "text": [
            "Epoch [5/5] Batch [989/1654] Loss: 1.1577\n",
            "Epoch [5/5] Batch [990/1654] Loss: 1.3291\n",
            "Epoch [5/5] Batch [991/1654] Loss: 1.6963\n",
            "Epoch [5/5] Batch [992/1654] Loss: 1.3990\n",
            "Epoch [5/5] Batch [993/1654] Loss: 1.1428\n",
            "Epoch [5/5] Batch [994/1654] Loss: 1.3096\n",
            "Epoch [5/5] Batch [995/1654] Loss: 1.5080\n"
          ]
        },
        {
          "output_type": "stream",
          "name": "stderr",
          "text": [
            " 61%|██████    | 1003/1654 [00:30<00:18, 34.91it/s]"
          ]
        },
        {
          "output_type": "stream",
          "name": "stdout",
          "text": [
            "Epoch [5/5] Batch [996/1654] Loss: 1.2649\n",
            "Epoch [5/5] Batch [997/1654] Loss: 1.5242\n",
            "Epoch [5/5] Batch [998/1654] Loss: 1.6400\n",
            "Epoch [5/5] Batch [999/1654] Loss: 1.2613\n",
            "Epoch [5/5] Batch [1000/1654] Loss: 1.0450\n",
            "Epoch [5/5] Batch [1001/1654] Loss: 1.1689\n",
            "Epoch [5/5] Batch [1002/1654] Loss: 1.3513\n",
            "Epoch [5/5] Batch [1003/1654] Loss: 1.2231\n"
          ]
        },
        {
          "output_type": "stream",
          "name": "stderr",
          "text": [
            " 61%|██████    | 1011/1654 [00:31<00:18, 34.85it/s]"
          ]
        },
        {
          "output_type": "stream",
          "name": "stdout",
          "text": [
            "Epoch [5/5] Batch [1004/1654] Loss: 1.1475\n",
            "Epoch [5/5] Batch [1005/1654] Loss: 1.6231\n",
            "Epoch [5/5] Batch [1006/1654] Loss: 1.1904\n",
            "Epoch [5/5] Batch [1007/1654] Loss: 1.2454\n",
            "Epoch [5/5] Batch [1008/1654] Loss: 1.5296\n",
            "Epoch [5/5] Batch [1009/1654] Loss: 0.9935\n",
            "Epoch [5/5] Batch [1010/1654] Loss: 1.3053\n",
            "Epoch [5/5] Batch [1011/1654] Loss: 1.3785\n"
          ]
        },
        {
          "output_type": "stream",
          "name": "stderr",
          "text": [
            " 62%|██████▏   | 1019/1654 [00:31<00:18, 34.68it/s]"
          ]
        },
        {
          "output_type": "stream",
          "name": "stdout",
          "text": [
            "Epoch [5/5] Batch [1012/1654] Loss: 1.2527\n",
            "Epoch [5/5] Batch [1013/1654] Loss: 1.2938\n",
            "Epoch [5/5] Batch [1014/1654] Loss: 1.7121\n",
            "Epoch [5/5] Batch [1015/1654] Loss: 1.1333\n",
            "Epoch [5/5] Batch [1016/1654] Loss: 1.3329\n",
            "Epoch [5/5] Batch [1017/1654] Loss: 1.1583\n",
            "Epoch [5/5] Batch [1018/1654] Loss: 1.1770\n",
            "Epoch [5/5] Batch [1019/1654] Loss: 1.5278\n"
          ]
        },
        {
          "output_type": "stream",
          "name": "stderr",
          "text": [
            " 62%|██████▏   | 1027/1654 [00:31<00:17, 35.23it/s]"
          ]
        },
        {
          "output_type": "stream",
          "name": "stdout",
          "text": [
            "Epoch [5/5] Batch [1020/1654] Loss: 1.3807\n",
            "Epoch [5/5] Batch [1021/1654] Loss: 1.2627\n",
            "Epoch [5/5] Batch [1022/1654] Loss: 1.1565\n",
            "Epoch [5/5] Batch [1023/1654] Loss: 1.3197\n",
            "Epoch [5/5] Batch [1024/1654] Loss: 1.2475\n",
            "Epoch [5/5] Batch [1025/1654] Loss: 1.3132\n",
            "Epoch [5/5] Batch [1026/1654] Loss: 1.1447\n",
            "Epoch [5/5] Batch [1027/1654] Loss: 1.4628\n"
          ]
        },
        {
          "output_type": "stream",
          "name": "stderr",
          "text": [
            " 63%|██████▎   | 1035/1654 [00:31<00:17, 35.36it/s]"
          ]
        },
        {
          "output_type": "stream",
          "name": "stdout",
          "text": [
            "Epoch [5/5] Batch [1028/1654] Loss: 1.2646\n",
            "Epoch [5/5] Batch [1029/1654] Loss: 1.1053\n",
            "Epoch [5/5] Batch [1030/1654] Loss: 1.1805\n",
            "Epoch [5/5] Batch [1031/1654] Loss: 1.0047\n",
            "Epoch [5/5] Batch [1032/1654] Loss: 1.0628\n",
            "Epoch [5/5] Batch [1033/1654] Loss: 1.3721\n",
            "Epoch [5/5] Batch [1034/1654] Loss: 1.1963\n",
            "Epoch [5/5] Batch [1035/1654] Loss: 1.1927\n"
          ]
        },
        {
          "output_type": "stream",
          "name": "stderr",
          "text": [
            " 63%|██████▎   | 1043/1654 [00:31<00:17, 35.56it/s]"
          ]
        },
        {
          "output_type": "stream",
          "name": "stdout",
          "text": [
            "Epoch [5/5] Batch [1036/1654] Loss: 1.3072\n",
            "Epoch [5/5] Batch [1037/1654] Loss: 1.2129\n",
            "Epoch [5/5] Batch [1038/1654] Loss: 1.3503\n",
            "Epoch [5/5] Batch [1039/1654] Loss: 0.9665\n",
            "Epoch [5/5] Batch [1040/1654] Loss: 1.2158\n",
            "Epoch [5/5] Batch [1041/1654] Loss: 1.0314\n",
            "Epoch [5/5] Batch [1042/1654] Loss: 1.2278\n",
            "Epoch [5/5] Batch [1043/1654] Loss: 2.0600\n"
          ]
        },
        {
          "output_type": "stream",
          "name": "stderr",
          "text": [
            " 64%|██████▎   | 1051/1654 [00:32<00:17, 35.15it/s]"
          ]
        },
        {
          "output_type": "stream",
          "name": "stdout",
          "text": [
            "Epoch [5/5] Batch [1044/1654] Loss: 1.5256\n",
            "Epoch [5/5] Batch [1045/1654] Loss: 1.3839\n",
            "Epoch [5/5] Batch [1046/1654] Loss: 1.4449\n",
            "Epoch [5/5] Batch [1047/1654] Loss: 1.0698\n",
            "Epoch [5/5] Batch [1048/1654] Loss: 1.0739\n",
            "Epoch [5/5] Batch [1049/1654] Loss: 1.3575\n",
            "Epoch [5/5] Batch [1050/1654] Loss: 1.2027\n",
            "Epoch [5/5] Batch [1051/1654] Loss: 1.5435\n"
          ]
        },
        {
          "output_type": "stream",
          "name": "stderr",
          "text": [
            " 64%|██████▍   | 1059/1654 [00:32<00:16, 35.07it/s]"
          ]
        },
        {
          "output_type": "stream",
          "name": "stdout",
          "text": [
            "Epoch [5/5] Batch [1052/1654] Loss: 1.4697\n",
            "Epoch [5/5] Batch [1053/1654] Loss: 1.3157\n",
            "Epoch [5/5] Batch [1054/1654] Loss: 1.0527\n",
            "Epoch [5/5] Batch [1055/1654] Loss: 1.3150\n",
            "Epoch [5/5] Batch [1056/1654] Loss: 1.2550\n",
            "Epoch [5/5] Batch [1057/1654] Loss: 1.4123\n",
            "Epoch [5/5] Batch [1058/1654] Loss: 1.3864\n",
            "Epoch [5/5] Batch [1059/1654] Loss: 1.2509\n"
          ]
        },
        {
          "output_type": "stream",
          "name": "stderr",
          "text": [
            " 65%|██████▍   | 1067/1654 [00:32<00:16, 35.15it/s]"
          ]
        },
        {
          "output_type": "stream",
          "name": "stdout",
          "text": [
            "Epoch [5/5] Batch [1060/1654] Loss: 1.0636\n",
            "Epoch [5/5] Batch [1061/1654] Loss: 1.7602\n",
            "Epoch [5/5] Batch [1062/1654] Loss: 1.1059\n",
            "Epoch [5/5] Batch [1063/1654] Loss: 1.3290\n",
            "Epoch [5/5] Batch [1064/1654] Loss: 1.5657\n",
            "Epoch [5/5] Batch [1065/1654] Loss: 1.1507\n",
            "Epoch [5/5] Batch [1066/1654] Loss: 1.2739\n",
            "Epoch [5/5] Batch [1067/1654] Loss: 1.4210\n"
          ]
        },
        {
          "output_type": "stream",
          "name": "stderr",
          "text": [
            " 65%|██████▍   | 1075/1654 [00:32<00:16, 34.75it/s]"
          ]
        },
        {
          "output_type": "stream",
          "name": "stdout",
          "text": [
            "Epoch [5/5] Batch [1068/1654] Loss: 1.1520\n",
            "Epoch [5/5] Batch [1069/1654] Loss: 1.2772\n",
            "Epoch [5/5] Batch [1070/1654] Loss: 0.9736\n",
            "Epoch [5/5] Batch [1071/1654] Loss: 1.3126\n",
            "Epoch [5/5] Batch [1072/1654] Loss: 1.2952\n",
            "Epoch [5/5] Batch [1073/1654] Loss: 1.6133\n",
            "Epoch [5/5] Batch [1074/1654] Loss: 0.9851\n",
            "Epoch [5/5] Batch [1075/1654] Loss: 1.1192\n"
          ]
        },
        {
          "output_type": "stream",
          "name": "stderr",
          "text": [
            "\r 65%|██████▌   | 1079/1654 [00:32<00:16, 34.22it/s]"
          ]
        },
        {
          "output_type": "stream",
          "name": "stdout",
          "text": [
            "Epoch [5/5] Batch [1076/1654] Loss: 1.3667\n",
            "Epoch [5/5] Batch [1077/1654] Loss: 1.7847\n",
            "Epoch [5/5] Batch [1078/1654] Loss: 1.2762\n",
            "Epoch [5/5] Batch [1079/1654] Loss: 1.1215\n",
            "Epoch [5/5] Batch [1080/1654] Loss: 1.2252\n",
            "Epoch [5/5] Batch [1081/1654] Loss: 1.4342\n",
            "Epoch [5/5] Batch [1082/1654] Loss: 1.2313\n"
          ]
        },
        {
          "output_type": "stream",
          "name": "stderr",
          "text": [
            " 66%|██████▌   | 1087/1654 [00:33<00:16, 34.33it/s]"
          ]
        },
        {
          "output_type": "stream",
          "name": "stdout",
          "text": [
            "Epoch [5/5] Batch [1083/1654] Loss: 1.2619\n",
            "Epoch [5/5] Batch [1084/1654] Loss: 1.0908\n",
            "Epoch [5/5] Batch [1085/1654] Loss: 1.3273\n",
            "Epoch [5/5] Batch [1086/1654] Loss: 1.4309\n",
            "Epoch [5/5] Batch [1087/1654] Loss: 1.2650\n",
            "Epoch [5/5] Batch [1088/1654] Loss: 1.1644\n",
            "Epoch [5/5] Batch [1089/1654] Loss: 1.5819\n",
            "Epoch [5/5] Batch [1090/1654] Loss: 1.2738\n"
          ]
        },
        {
          "output_type": "stream",
          "name": "stderr",
          "text": [
            " 66%|██████▌   | 1095/1654 [00:33<00:16, 34.21it/s]"
          ]
        },
        {
          "output_type": "stream",
          "name": "stdout",
          "text": [
            "Epoch [5/5] Batch [1091/1654] Loss: 1.1524\n",
            "Epoch [5/5] Batch [1092/1654] Loss: 1.3202\n",
            "Epoch [5/5] Batch [1093/1654] Loss: 1.4211\n",
            "Epoch [5/5] Batch [1094/1654] Loss: 1.4114\n",
            "Epoch [5/5] Batch [1095/1654] Loss: 1.2254\n",
            "Epoch [5/5] Batch [1096/1654] Loss: 1.1297\n",
            "Epoch [5/5] Batch [1097/1654] Loss: 1.5953\n"
          ]
        },
        {
          "output_type": "stream",
          "name": "stderr",
          "text": [
            " 67%|██████▋   | 1103/1654 [00:33<00:16, 34.41it/s]"
          ]
        },
        {
          "output_type": "stream",
          "name": "stdout",
          "text": [
            "Epoch [5/5] Batch [1098/1654] Loss: 1.6826\n",
            "Epoch [5/5] Batch [1099/1654] Loss: 0.9769\n",
            "Epoch [5/5] Batch [1100/1654] Loss: 1.0873\n",
            "Epoch [5/5] Batch [1101/1654] Loss: 1.5072\n",
            "Epoch [5/5] Batch [1102/1654] Loss: 1.3331\n",
            "Epoch [5/5] Batch [1103/1654] Loss: 1.4818\n",
            "Epoch [5/5] Batch [1104/1654] Loss: 1.1492\n",
            "Epoch [5/5] Batch [1105/1654] Loss: 1.1891\n"
          ]
        },
        {
          "output_type": "stream",
          "name": "stderr",
          "text": [
            " 67%|██████▋   | 1111/1654 [00:33<00:15, 34.88it/s]"
          ]
        },
        {
          "output_type": "stream",
          "name": "stdout",
          "text": [
            "Epoch [5/5] Batch [1106/1654] Loss: 1.3332\n",
            "Epoch [5/5] Batch [1107/1654] Loss: 1.2867\n",
            "Epoch [5/5] Batch [1108/1654] Loss: 1.2218\n",
            "Epoch [5/5] Batch [1109/1654] Loss: 1.0326\n",
            "Epoch [5/5] Batch [1110/1654] Loss: 1.1146\n",
            "Epoch [5/5] Batch [1111/1654] Loss: 1.4067\n",
            "Epoch [5/5] Batch [1112/1654] Loss: 1.0483\n",
            "Epoch [5/5] Batch [1113/1654] Loss: 1.2502\n"
          ]
        },
        {
          "output_type": "stream",
          "name": "stderr",
          "text": [
            " 68%|██████▊   | 1119/1654 [00:34<00:15, 33.98it/s]"
          ]
        },
        {
          "output_type": "stream",
          "name": "stdout",
          "text": [
            "Epoch [5/5] Batch [1114/1654] Loss: 1.1386\n",
            "Epoch [5/5] Batch [1115/1654] Loss: 1.1903\n",
            "Epoch [5/5] Batch [1116/1654] Loss: 1.2786\n",
            "Epoch [5/5] Batch [1117/1654] Loss: 1.3522\n",
            "Epoch [5/5] Batch [1118/1654] Loss: 1.4369\n",
            "Epoch [5/5] Batch [1119/1654] Loss: 1.3779\n",
            "Epoch [5/5] Batch [1120/1654] Loss: 1.3279\n"
          ]
        },
        {
          "output_type": "stream",
          "name": "stderr",
          "text": [
            " 68%|██████▊   | 1127/1654 [00:34<00:15, 34.36it/s]"
          ]
        },
        {
          "output_type": "stream",
          "name": "stdout",
          "text": [
            "Epoch [5/5] Batch [1121/1654] Loss: 1.3011\n",
            "Epoch [5/5] Batch [1122/1654] Loss: 1.2413\n",
            "Epoch [5/5] Batch [1123/1654] Loss: 1.2571\n",
            "Epoch [5/5] Batch [1124/1654] Loss: 1.1814\n",
            "Epoch [5/5] Batch [1125/1654] Loss: 1.3669\n",
            "Epoch [5/5] Batch [1126/1654] Loss: 1.3429\n",
            "Epoch [5/5] Batch [1127/1654] Loss: 1.5005\n"
          ]
        },
        {
          "output_type": "stream",
          "name": "stderr",
          "text": [
            " 69%|██████▊   | 1135/1654 [00:34<00:14, 34.79it/s]"
          ]
        },
        {
          "output_type": "stream",
          "name": "stdout",
          "text": [
            "Epoch [5/5] Batch [1128/1654] Loss: 1.2589\n",
            "Epoch [5/5] Batch [1129/1654] Loss: 1.5737\n",
            "Epoch [5/5] Batch [1130/1654] Loss: 1.0603\n",
            "Epoch [5/5] Batch [1131/1654] Loss: 1.0855\n",
            "Epoch [5/5] Batch [1132/1654] Loss: 1.4454\n",
            "Epoch [5/5] Batch [1133/1654] Loss: 1.1369\n",
            "Epoch [5/5] Batch [1134/1654] Loss: 1.3394\n",
            "Epoch [5/5] Batch [1135/1654] Loss: 1.5199\n"
          ]
        },
        {
          "output_type": "stream",
          "name": "stderr",
          "text": [
            " 69%|██████▉   | 1143/1654 [00:34<00:14, 34.72it/s]"
          ]
        },
        {
          "output_type": "stream",
          "name": "stdout",
          "text": [
            "Epoch [5/5] Batch [1136/1654] Loss: 1.0837\n",
            "Epoch [5/5] Batch [1137/1654] Loss: 1.2997\n",
            "Epoch [5/5] Batch [1138/1654] Loss: 1.2528\n",
            "Epoch [5/5] Batch [1139/1654] Loss: 1.0593\n",
            "Epoch [5/5] Batch [1140/1654] Loss: 1.0822\n",
            "Epoch [5/5] Batch [1141/1654] Loss: 1.4427\n",
            "Epoch [5/5] Batch [1142/1654] Loss: 1.3792\n",
            "Epoch [5/5] Batch [1143/1654] Loss: 1.5463\n"
          ]
        },
        {
          "output_type": "stream",
          "name": "stderr",
          "text": [
            "\r 69%|██████▉   | 1147/1654 [00:34<00:14, 34.40it/s]"
          ]
        },
        {
          "output_type": "stream",
          "name": "stdout",
          "text": [
            "Epoch [5/5] Batch [1144/1654] Loss: 1.4110\n",
            "Epoch [5/5] Batch [1145/1654] Loss: 0.8173\n",
            "Epoch [5/5] Batch [1146/1654] Loss: 1.1670\n",
            "Epoch [5/5] Batch [1147/1654] Loss: 1.2932\n",
            "Epoch [5/5] Batch [1148/1654] Loss: 1.0716\n",
            "Epoch [5/5] Batch [1149/1654] Loss: 1.0908\n",
            "Epoch [5/5] Batch [1150/1654] Loss: 1.1334\n"
          ]
        },
        {
          "output_type": "stream",
          "name": "stderr",
          "text": [
            " 70%|██████▉   | 1155/1654 [00:35<00:14, 33.49it/s]"
          ]
        },
        {
          "output_type": "stream",
          "name": "stdout",
          "text": [
            "Epoch [5/5] Batch [1151/1654] Loss: 1.1164\n",
            "Epoch [5/5] Batch [1152/1654] Loss: 1.1201\n",
            "Epoch [5/5] Batch [1153/1654] Loss: 1.1561\n",
            "Epoch [5/5] Batch [1154/1654] Loss: 1.2759\n",
            "Epoch [5/5] Batch [1155/1654] Loss: 1.5257\n",
            "Epoch [5/5] Batch [1156/1654] Loss: 1.5740\n",
            "Epoch [5/5] Batch [1157/1654] Loss: 1.0543\n"
          ]
        },
        {
          "output_type": "stream",
          "name": "stderr",
          "text": [
            " 70%|███████   | 1163/1654 [00:35<00:14, 34.27it/s]"
          ]
        },
        {
          "output_type": "stream",
          "name": "stdout",
          "text": [
            "Epoch [5/5] Batch [1158/1654] Loss: 1.3927\n",
            "Epoch [5/5] Batch [1159/1654] Loss: 1.2933\n",
            "Epoch [5/5] Batch [1160/1654] Loss: 1.0061\n",
            "Epoch [5/5] Batch [1161/1654] Loss: 1.4257\n",
            "Epoch [5/5] Batch [1162/1654] Loss: 1.1377\n",
            "Epoch [5/5] Batch [1163/1654] Loss: 1.4268\n",
            "Epoch [5/5] Batch [1164/1654] Loss: 1.3352\n",
            "Epoch [5/5] Batch [1165/1654] Loss: 1.3184\n"
          ]
        },
        {
          "output_type": "stream",
          "name": "stderr",
          "text": [
            " 71%|███████   | 1171/1654 [00:35<00:14, 34.26it/s]"
          ]
        },
        {
          "output_type": "stream",
          "name": "stdout",
          "text": [
            "Epoch [5/5] Batch [1166/1654] Loss: 1.3268\n",
            "Epoch [5/5] Batch [1167/1654] Loss: 1.1113\n",
            "Epoch [5/5] Batch [1168/1654] Loss: 1.1685\n",
            "Epoch [5/5] Batch [1169/1654] Loss: 1.0968\n",
            "Epoch [5/5] Batch [1170/1654] Loss: 1.2036\n",
            "Epoch [5/5] Batch [1171/1654] Loss: 1.5174\n",
            "Epoch [5/5] Batch [1172/1654] Loss: 1.5280\n"
          ]
        },
        {
          "output_type": "stream",
          "name": "stderr",
          "text": [
            " 71%|███████▏  | 1179/1654 [00:35<00:13, 34.70it/s]"
          ]
        },
        {
          "output_type": "stream",
          "name": "stdout",
          "text": [
            "Epoch [5/5] Batch [1173/1654] Loss: 1.3776\n",
            "Epoch [5/5] Batch [1174/1654] Loss: 1.3252\n",
            "Epoch [5/5] Batch [1175/1654] Loss: 1.3473\n",
            "Epoch [5/5] Batch [1176/1654] Loss: 1.2600\n",
            "Epoch [5/5] Batch [1177/1654] Loss: 1.1826\n",
            "Epoch [5/5] Batch [1178/1654] Loss: 1.1391\n",
            "Epoch [5/5] Batch [1179/1654] Loss: 1.0739\n",
            "Epoch [5/5] Batch [1180/1654] Loss: 1.3171\n"
          ]
        },
        {
          "output_type": "stream",
          "name": "stderr",
          "text": [
            " 72%|███████▏  | 1187/1654 [00:36<00:13, 33.60it/s]"
          ]
        },
        {
          "output_type": "stream",
          "name": "stdout",
          "text": [
            "Epoch [5/5] Batch [1181/1654] Loss: 1.5598\n",
            "Epoch [5/5] Batch [1182/1654] Loss: 1.2632\n",
            "Epoch [5/5] Batch [1183/1654] Loss: 1.5660\n",
            "Epoch [5/5] Batch [1184/1654] Loss: 1.5323\n",
            "Epoch [5/5] Batch [1185/1654] Loss: 1.3651\n",
            "Epoch [5/5] Batch [1186/1654] Loss: 1.2676\n",
            "Epoch [5/5] Batch [1187/1654] Loss: 1.2100\n"
          ]
        },
        {
          "output_type": "stream",
          "name": "stderr",
          "text": [
            " 72%|███████▏  | 1195/1654 [00:36<00:13, 34.13it/s]"
          ]
        },
        {
          "output_type": "stream",
          "name": "stdout",
          "text": [
            "Epoch [5/5] Batch [1188/1654] Loss: 1.2297\n",
            "Epoch [5/5] Batch [1189/1654] Loss: 1.3141\n",
            "Epoch [5/5] Batch [1190/1654] Loss: 1.5762\n",
            "Epoch [5/5] Batch [1191/1654] Loss: 1.5837\n",
            "Epoch [5/5] Batch [1192/1654] Loss: 1.5116\n",
            "Epoch [5/5] Batch [1193/1654] Loss: 1.4296\n",
            "Epoch [5/5] Batch [1194/1654] Loss: 1.2828\n",
            "Epoch [5/5] Batch [1195/1654] Loss: 0.9684\n"
          ]
        },
        {
          "output_type": "stream",
          "name": "stderr",
          "text": [
            " 73%|███████▎  | 1203/1654 [00:36<00:13, 34.19it/s]"
          ]
        },
        {
          "output_type": "stream",
          "name": "stdout",
          "text": [
            "Epoch [5/5] Batch [1196/1654] Loss: 1.4100\n",
            "Epoch [5/5] Batch [1197/1654] Loss: 1.3256\n",
            "Epoch [5/5] Batch [1198/1654] Loss: 0.8154\n",
            "Epoch [5/5] Batch [1199/1654] Loss: 0.9991\n",
            "Epoch [5/5] Batch [1200/1654] Loss: 1.1145\n",
            "Epoch [5/5] Batch [1201/1654] Loss: 0.9479\n",
            "Epoch [5/5] Batch [1202/1654] Loss: 1.5537\n",
            "Epoch [5/5] Batch [1203/1654] Loss: 1.1724\n"
          ]
        },
        {
          "output_type": "stream",
          "name": "stderr",
          "text": [
            " 73%|███████▎  | 1211/1654 [00:36<00:12, 34.50it/s]"
          ]
        },
        {
          "output_type": "stream",
          "name": "stdout",
          "text": [
            "Epoch [5/5] Batch [1204/1654] Loss: 0.9565\n",
            "Epoch [5/5] Batch [1205/1654] Loss: 1.4415\n",
            "Epoch [5/5] Batch [1206/1654] Loss: 1.2774\n",
            "Epoch [5/5] Batch [1207/1654] Loss: 1.1057\n",
            "Epoch [5/5] Batch [1208/1654] Loss: 1.4720\n",
            "Epoch [5/5] Batch [1209/1654] Loss: 1.2713\n",
            "Epoch [5/5] Batch [1210/1654] Loss: 1.4028\n",
            "Epoch [5/5] Batch [1211/1654] Loss: 1.1960\n"
          ]
        },
        {
          "output_type": "stream",
          "name": "stderr",
          "text": [
            " 74%|███████▎  | 1219/1654 [00:37<00:12, 34.19it/s]"
          ]
        },
        {
          "output_type": "stream",
          "name": "stdout",
          "text": [
            "Epoch [5/5] Batch [1212/1654] Loss: 1.2377\n",
            "Epoch [5/5] Batch [1213/1654] Loss: 1.2726\n",
            "Epoch [5/5] Batch [1214/1654] Loss: 1.5063\n",
            "Epoch [5/5] Batch [1215/1654] Loss: 1.3092\n",
            "Epoch [5/5] Batch [1216/1654] Loss: 1.1395\n",
            "Epoch [5/5] Batch [1217/1654] Loss: 1.3828\n",
            "Epoch [5/5] Batch [1218/1654] Loss: 1.3432\n",
            "Epoch [5/5] Batch [1219/1654] Loss: 1.2737\n"
          ]
        },
        {
          "output_type": "stream",
          "name": "stderr",
          "text": [
            "\r 74%|███████▍  | 1223/1654 [00:37<00:13, 33.05it/s]"
          ]
        },
        {
          "output_type": "stream",
          "name": "stdout",
          "text": [
            "Epoch [5/5] Batch [1220/1654] Loss: 1.4487\n",
            "Epoch [5/5] Batch [1221/1654] Loss: 1.4555\n",
            "Epoch [5/5] Batch [1222/1654] Loss: 0.8789\n",
            "Epoch [5/5] Batch [1223/1654] Loss: 1.3778\n",
            "Epoch [5/5] Batch [1224/1654] Loss: 1.1275\n",
            "Epoch [5/5] Batch [1225/1654] Loss: 1.1726\n",
            "Epoch [5/5] Batch [1226/1654] Loss: 1.6972\n"
          ]
        },
        {
          "output_type": "stream",
          "name": "stderr",
          "text": [
            " 74%|███████▍  | 1231/1654 [00:37<00:12, 34.19it/s]"
          ]
        },
        {
          "output_type": "stream",
          "name": "stdout",
          "text": [
            "Epoch [5/5] Batch [1227/1654] Loss: 0.8185\n",
            "Epoch [5/5] Batch [1228/1654] Loss: 1.4644\n",
            "Epoch [5/5] Batch [1229/1654] Loss: 1.5373\n",
            "Epoch [5/5] Batch [1230/1654] Loss: 1.2124\n",
            "Epoch [5/5] Batch [1231/1654] Loss: 1.4646\n",
            "Epoch [5/5] Batch [1232/1654] Loss: 1.3379\n",
            "Epoch [5/5] Batch [1233/1654] Loss: 1.5621\n",
            "Epoch [5/5] Batch [1234/1654] Loss: 1.2369\n"
          ]
        },
        {
          "output_type": "stream",
          "name": "stderr",
          "text": [
            " 75%|███████▍  | 1239/1654 [00:37<00:11, 34.77it/s]"
          ]
        },
        {
          "output_type": "stream",
          "name": "stdout",
          "text": [
            "Epoch [5/5] Batch [1235/1654] Loss: 1.4197\n",
            "Epoch [5/5] Batch [1236/1654] Loss: 1.0099\n",
            "Epoch [5/5] Batch [1237/1654] Loss: 1.2519\n",
            "Epoch [5/5] Batch [1238/1654] Loss: 1.2731\n",
            "Epoch [5/5] Batch [1239/1654] Loss: 1.2974\n",
            "Epoch [5/5] Batch [1240/1654] Loss: 1.4168\n",
            "Epoch [5/5] Batch [1241/1654] Loss: 1.1679\n",
            "Epoch [5/5] Batch [1242/1654] Loss: 1.0128\n"
          ]
        },
        {
          "output_type": "stream",
          "name": "stderr",
          "text": [
            " 75%|███████▌  | 1247/1654 [00:37<00:11, 34.97it/s]"
          ]
        },
        {
          "output_type": "stream",
          "name": "stdout",
          "text": [
            "Epoch [5/5] Batch [1243/1654] Loss: 1.3346\n",
            "Epoch [5/5] Batch [1244/1654] Loss: 1.0800\n",
            "Epoch [5/5] Batch [1245/1654] Loss: 1.3741\n",
            "Epoch [5/5] Batch [1246/1654] Loss: 1.5233\n",
            "Epoch [5/5] Batch [1247/1654] Loss: 1.1525\n",
            "Epoch [5/5] Batch [1248/1654] Loss: 0.8934\n",
            "Epoch [5/5] Batch [1249/1654] Loss: 1.1869\n"
          ]
        },
        {
          "output_type": "stream",
          "name": "stderr",
          "text": [
            " 76%|███████▌  | 1255/1654 [00:38<00:12, 31.26it/s]"
          ]
        },
        {
          "output_type": "stream",
          "name": "stdout",
          "text": [
            "Epoch [5/5] Batch [1250/1654] Loss: 1.8707\n",
            "Epoch [5/5] Batch [1251/1654] Loss: 0.9704\n",
            "Epoch [5/5] Batch [1252/1654] Loss: 1.4282\n",
            "Epoch [5/5] Batch [1253/1654] Loss: 1.1109\n",
            "Epoch [5/5] Batch [1254/1654] Loss: 1.2161\n",
            "Epoch [5/5] Batch [1255/1654] Loss: 1.3639\n"
          ]
        },
        {
          "output_type": "stream",
          "name": "stderr",
          "text": [
            "\r 76%|███████▌  | 1259/1654 [00:38<00:13, 29.48it/s]"
          ]
        },
        {
          "output_type": "stream",
          "name": "stdout",
          "text": [
            "Epoch [5/5] Batch [1256/1654] Loss: 0.9918\n",
            "Epoch [5/5] Batch [1257/1654] Loss: 1.2341\n",
            "Epoch [5/5] Batch [1258/1654] Loss: 1.5860\n",
            "Epoch [5/5] Batch [1259/1654] Loss: 1.2697\n",
            "Epoch [5/5] Batch [1260/1654] Loss: 1.1707\n",
            "Epoch [5/5] Batch [1261/1654] Loss: 1.5433\n"
          ]
        },
        {
          "output_type": "stream",
          "name": "stderr",
          "text": [
            " 76%|███████▋  | 1265/1654 [00:38<00:13, 28.29it/s]"
          ]
        },
        {
          "output_type": "stream",
          "name": "stdout",
          "text": [
            "Epoch [5/5] Batch [1262/1654] Loss: 1.1736\n",
            "Epoch [5/5] Batch [1263/1654] Loss: 1.6495\n",
            "Epoch [5/5] Batch [1264/1654] Loss: 1.2788\n",
            "Epoch [5/5] Batch [1265/1654] Loss: 1.6872\n",
            "Epoch [5/5] Batch [1266/1654] Loss: 1.7181\n",
            "Epoch [5/5] Batch [1267/1654] Loss: 1.0217\n",
            "Epoch [5/5] Batch [1268/1654] Loss: 1.3575\n"
          ]
        },
        {
          "output_type": "stream",
          "name": "stderr",
          "text": [
            " 77%|███████▋  | 1273/1654 [00:38<00:12, 29.93it/s]"
          ]
        },
        {
          "output_type": "stream",
          "name": "stdout",
          "text": [
            "Epoch [5/5] Batch [1269/1654] Loss: 1.5304\n",
            "Epoch [5/5] Batch [1270/1654] Loss: 1.1487\n",
            "Epoch [5/5] Batch [1271/1654] Loss: 1.2690\n",
            "Epoch [5/5] Batch [1272/1654] Loss: 1.0883\n",
            "Epoch [5/5] Batch [1273/1654] Loss: 1.0906\n",
            "Epoch [5/5] Batch [1274/1654] Loss: 1.1216\n"
          ]
        },
        {
          "output_type": "stream",
          "name": "stderr",
          "text": [
            " 77%|███████▋  | 1280/1654 [00:39<00:12, 29.78it/s]"
          ]
        },
        {
          "output_type": "stream",
          "name": "stdout",
          "text": [
            "Epoch [5/5] Batch [1275/1654] Loss: 1.3047\n",
            "Epoch [5/5] Batch [1276/1654] Loss: 1.4446\n",
            "Epoch [5/5] Batch [1277/1654] Loss: 1.5521\n",
            "Epoch [5/5] Batch [1278/1654] Loss: 1.4535\n",
            "Epoch [5/5] Batch [1279/1654] Loss: 1.7759\n",
            "Epoch [5/5] Batch [1280/1654] Loss: 1.3131\n",
            "Epoch [5/5] Batch [1281/1654] Loss: 1.1818\n"
          ]
        },
        {
          "output_type": "stream",
          "name": "stderr",
          "text": [
            "\r 78%|███████▊  | 1284/1654 [00:39<00:12, 30.14it/s]"
          ]
        },
        {
          "output_type": "stream",
          "name": "stdout",
          "text": [
            "Epoch [5/5] Batch [1282/1654] Loss: 1.3768\n",
            "Epoch [5/5] Batch [1283/1654] Loss: 1.1663\n",
            "Epoch [5/5] Batch [1284/1654] Loss: 1.4477\n",
            "Epoch [5/5] Batch [1285/1654] Loss: 1.2805\n",
            "Epoch [5/5] Batch [1286/1654] Loss: 1.3031\n",
            "Epoch [5/5] Batch [1287/1654] Loss: 1.2137\n"
          ]
        },
        {
          "output_type": "stream",
          "name": "stderr",
          "text": [
            " 78%|███████▊  | 1291/1654 [00:39<00:12, 29.48it/s]"
          ]
        },
        {
          "output_type": "stream",
          "name": "stdout",
          "text": [
            "Epoch [5/5] Batch [1288/1654] Loss: 1.2035\n",
            "Epoch [5/5] Batch [1289/1654] Loss: 1.1961\n",
            "Epoch [5/5] Batch [1290/1654] Loss: 1.3956\n",
            "Epoch [5/5] Batch [1291/1654] Loss: 1.1635\n",
            "Epoch [5/5] Batch [1292/1654] Loss: 1.2043\n",
            "Epoch [5/5] Batch [1293/1654] Loss: 1.4059\n",
            "Epoch [5/5] Batch [1294/1654] Loss: 1.5345\n"
          ]
        },
        {
          "output_type": "stream",
          "name": "stderr",
          "text": [
            " 79%|███████▊  | 1299/1654 [00:39<00:11, 29.85it/s]"
          ]
        },
        {
          "output_type": "stream",
          "name": "stdout",
          "text": [
            "Epoch [5/5] Batch [1295/1654] Loss: 0.9705\n",
            "Epoch [5/5] Batch [1296/1654] Loss: 1.0836\n",
            "Epoch [5/5] Batch [1297/1654] Loss: 1.3622\n",
            "Epoch [5/5] Batch [1298/1654] Loss: 1.3492\n",
            "Epoch [5/5] Batch [1299/1654] Loss: 1.6152\n",
            "Epoch [5/5] Batch [1300/1654] Loss: 1.5531\n"
          ]
        },
        {
          "output_type": "stream",
          "name": "stderr",
          "text": [
            " 79%|███████▉  | 1305/1654 [00:39<00:11, 29.67it/s]"
          ]
        },
        {
          "output_type": "stream",
          "name": "stdout",
          "text": [
            "Epoch [5/5] Batch [1301/1654] Loss: 1.1973\n",
            "Epoch [5/5] Batch [1302/1654] Loss: 1.4127\n",
            "Epoch [5/5] Batch [1303/1654] Loss: 1.1197\n",
            "Epoch [5/5] Batch [1304/1654] Loss: 1.6913\n",
            "Epoch [5/5] Batch [1305/1654] Loss: 1.3869\n",
            "Epoch [5/5] Batch [1306/1654] Loss: 1.3052\n"
          ]
        },
        {
          "output_type": "stream",
          "name": "stderr",
          "text": [
            " 79%|███████▉  | 1311/1654 [00:40<00:12, 27.86it/s]"
          ]
        },
        {
          "output_type": "stream",
          "name": "stdout",
          "text": [
            "Epoch [5/5] Batch [1307/1654] Loss: 1.3076\n",
            "Epoch [5/5] Batch [1308/1654] Loss: 1.4052\n",
            "Epoch [5/5] Batch [1309/1654] Loss: 1.2024\n",
            "Epoch [5/5] Batch [1310/1654] Loss: 1.2000\n",
            "Epoch [5/5] Batch [1311/1654] Loss: 1.5322\n",
            "Epoch [5/5] Batch [1312/1654] Loss: 1.1404\n"
          ]
        },
        {
          "output_type": "stream",
          "name": "stderr",
          "text": [
            " 80%|███████▉  | 1317/1654 [00:40<00:12, 26.34it/s]"
          ]
        },
        {
          "output_type": "stream",
          "name": "stdout",
          "text": [
            "Epoch [5/5] Batch [1313/1654] Loss: 1.3182\n",
            "Epoch [5/5] Batch [1314/1654] Loss: 1.0358\n",
            "Epoch [5/5] Batch [1315/1654] Loss: 1.2353\n",
            "Epoch [5/5] Batch [1316/1654] Loss: 1.2449\n",
            "Epoch [5/5] Batch [1317/1654] Loss: 1.2684\n"
          ]
        },
        {
          "output_type": "stream",
          "name": "stderr",
          "text": [
            "\r 80%|███████▉  | 1320/1654 [00:40<00:12, 25.89it/s]"
          ]
        },
        {
          "output_type": "stream",
          "name": "stdout",
          "text": [
            "Epoch [5/5] Batch [1318/1654] Loss: 1.2565\n",
            "Epoch [5/5] Batch [1319/1654] Loss: 1.3668\n",
            "Epoch [5/5] Batch [1320/1654] Loss: 1.4904\n",
            "Epoch [5/5] Batch [1321/1654] Loss: 1.4179\n",
            "Epoch [5/5] Batch [1322/1654] Loss: 1.7175\n",
            "Epoch [5/5] Batch [1323/1654] Loss: 0.9904\n"
          ]
        },
        {
          "output_type": "stream",
          "name": "stderr",
          "text": [
            " 80%|████████  | 1328/1654 [00:40<00:11, 29.53it/s]"
          ]
        },
        {
          "output_type": "stream",
          "name": "stdout",
          "text": [
            "Epoch [5/5] Batch [1324/1654] Loss: 1.5770\n",
            "Epoch [5/5] Batch [1325/1654] Loss: 1.5837\n",
            "Epoch [5/5] Batch [1326/1654] Loss: 1.2257\n",
            "Epoch [5/5] Batch [1327/1654] Loss: 1.7205\n",
            "Epoch [5/5] Batch [1328/1654] Loss: 1.1787\n",
            "Epoch [5/5] Batch [1329/1654] Loss: 0.9596\n",
            "Epoch [5/5] Batch [1330/1654] Loss: 1.2798\n"
          ]
        },
        {
          "output_type": "stream",
          "name": "stderr",
          "text": [
            " 81%|████████  | 1336/1654 [00:40<00:09, 32.61it/s]"
          ]
        },
        {
          "output_type": "stream",
          "name": "stdout",
          "text": [
            "Epoch [5/5] Batch [1331/1654] Loss: 1.0940\n",
            "Epoch [5/5] Batch [1332/1654] Loss: 1.1336\n",
            "Epoch [5/5] Batch [1333/1654] Loss: 1.0109\n",
            "Epoch [5/5] Batch [1334/1654] Loss: 1.1351\n",
            "Epoch [5/5] Batch [1335/1654] Loss: 1.2871\n",
            "Epoch [5/5] Batch [1336/1654] Loss: 1.7204\n",
            "Epoch [5/5] Batch [1337/1654] Loss: 1.2218\n",
            "Epoch [5/5] Batch [1338/1654] Loss: 1.0668\n"
          ]
        },
        {
          "output_type": "stream",
          "name": "stderr",
          "text": [
            " 81%|████████▏ | 1344/1654 [00:41<00:09, 33.07it/s]"
          ]
        },
        {
          "output_type": "stream",
          "name": "stdout",
          "text": [
            "Epoch [5/5] Batch [1339/1654] Loss: 1.0794\n",
            "Epoch [5/5] Batch [1340/1654] Loss: 1.5716\n",
            "Epoch [5/5] Batch [1341/1654] Loss: 0.9792\n",
            "Epoch [5/5] Batch [1342/1654] Loss: 1.2088\n",
            "Epoch [5/5] Batch [1343/1654] Loss: 1.3299\n",
            "Epoch [5/5] Batch [1344/1654] Loss: 1.2916\n",
            "Epoch [5/5] Batch [1345/1654] Loss: 1.0631\n"
          ]
        },
        {
          "output_type": "stream",
          "name": "stderr",
          "text": [
            " 82%|████████▏ | 1352/1654 [00:41<00:09, 32.71it/s]"
          ]
        },
        {
          "output_type": "stream",
          "name": "stdout",
          "text": [
            "Epoch [5/5] Batch [1346/1654] Loss: 1.2207\n",
            "Epoch [5/5] Batch [1347/1654] Loss: 1.2916\n",
            "Epoch [5/5] Batch [1348/1654] Loss: 1.3159\n",
            "Epoch [5/5] Batch [1349/1654] Loss: 1.3979\n",
            "Epoch [5/5] Batch [1350/1654] Loss: 0.9697\n",
            "Epoch [5/5] Batch [1351/1654] Loss: 0.8972\n",
            "Epoch [5/5] Batch [1352/1654] Loss: 1.5832\n"
          ]
        },
        {
          "output_type": "stream",
          "name": "stderr",
          "text": [
            " 82%|████████▏ | 1360/1654 [00:41<00:08, 33.86it/s]"
          ]
        },
        {
          "output_type": "stream",
          "name": "stdout",
          "text": [
            "Epoch [5/5] Batch [1353/1654] Loss: 1.0992\n",
            "Epoch [5/5] Batch [1354/1654] Loss: 1.2983\n",
            "Epoch [5/5] Batch [1355/1654] Loss: 1.2014\n",
            "Epoch [5/5] Batch [1356/1654] Loss: 1.2096\n",
            "Epoch [5/5] Batch [1357/1654] Loss: 1.2686\n",
            "Epoch [5/5] Batch [1358/1654] Loss: 1.2804\n",
            "Epoch [5/5] Batch [1359/1654] Loss: 1.0791\n",
            "Epoch [5/5] Batch [1360/1654] Loss: 1.0880\n"
          ]
        },
        {
          "output_type": "stream",
          "name": "stderr",
          "text": [
            " 83%|████████▎ | 1368/1654 [00:41<00:08, 34.19it/s]"
          ]
        },
        {
          "output_type": "stream",
          "name": "stdout",
          "text": [
            "Epoch [5/5] Batch [1361/1654] Loss: 1.2706\n",
            "Epoch [5/5] Batch [1362/1654] Loss: 1.3318\n",
            "Epoch [5/5] Batch [1363/1654] Loss: 1.3956\n",
            "Epoch [5/5] Batch [1364/1654] Loss: 0.9651\n",
            "Epoch [5/5] Batch [1365/1654] Loss: 1.0775\n",
            "Epoch [5/5] Batch [1366/1654] Loss: 0.9081\n",
            "Epoch [5/5] Batch [1367/1654] Loss: 1.4844\n",
            "Epoch [5/5] Batch [1368/1654] Loss: 1.6904\n"
          ]
        },
        {
          "output_type": "stream",
          "name": "stderr",
          "text": [
            " 83%|████████▎ | 1376/1654 [00:42<00:08, 34.63it/s]"
          ]
        },
        {
          "output_type": "stream",
          "name": "stdout",
          "text": [
            "Epoch [5/5] Batch [1369/1654] Loss: 1.1553\n",
            "Epoch [5/5] Batch [1370/1654] Loss: 1.2657\n",
            "Epoch [5/5] Batch [1371/1654] Loss: 1.1554\n",
            "Epoch [5/5] Batch [1372/1654] Loss: 1.3743\n",
            "Epoch [5/5] Batch [1373/1654] Loss: 1.2972\n",
            "Epoch [5/5] Batch [1374/1654] Loss: 1.2008\n",
            "Epoch [5/5] Batch [1375/1654] Loss: 1.4443\n",
            "Epoch [5/5] Batch [1376/1654] Loss: 1.2577\n"
          ]
        },
        {
          "output_type": "stream",
          "name": "stderr",
          "text": [
            " 84%|████████▎ | 1384/1654 [00:42<00:07, 35.05it/s]"
          ]
        },
        {
          "output_type": "stream",
          "name": "stdout",
          "text": [
            "Epoch [5/5] Batch [1377/1654] Loss: 1.0940\n",
            "Epoch [5/5] Batch [1378/1654] Loss: 1.3955\n",
            "Epoch [5/5] Batch [1379/1654] Loss: 0.9988\n",
            "Epoch [5/5] Batch [1380/1654] Loss: 1.3003\n",
            "Epoch [5/5] Batch [1381/1654] Loss: 1.0373\n",
            "Epoch [5/5] Batch [1382/1654] Loss: 1.3488\n",
            "Epoch [5/5] Batch [1383/1654] Loss: 1.3957\n",
            "Epoch [5/5] Batch [1384/1654] Loss: 1.0483\n"
          ]
        },
        {
          "output_type": "stream",
          "name": "stderr",
          "text": [
            " 84%|████████▍ | 1392/1654 [00:42<00:07, 34.64it/s]"
          ]
        },
        {
          "output_type": "stream",
          "name": "stdout",
          "text": [
            "Epoch [5/5] Batch [1385/1654] Loss: 1.1197\n",
            "Epoch [5/5] Batch [1386/1654] Loss: 1.6900\n",
            "Epoch [5/5] Batch [1387/1654] Loss: 1.3075\n",
            "Epoch [5/5] Batch [1388/1654] Loss: 1.4164\n",
            "Epoch [5/5] Batch [1389/1654] Loss: 1.2562\n",
            "Epoch [5/5] Batch [1390/1654] Loss: 1.2169\n",
            "Epoch [5/5] Batch [1391/1654] Loss: 1.2912\n",
            "Epoch [5/5] Batch [1392/1654] Loss: 0.8970\n"
          ]
        },
        {
          "output_type": "stream",
          "name": "stderr",
          "text": [
            " 85%|████████▍ | 1400/1654 [00:42<00:07, 34.98it/s]"
          ]
        },
        {
          "output_type": "stream",
          "name": "stdout",
          "text": [
            "Epoch [5/5] Batch [1393/1654] Loss: 1.5892\n",
            "Epoch [5/5] Batch [1394/1654] Loss: 1.0242\n",
            "Epoch [5/5] Batch [1395/1654] Loss: 1.3075\n",
            "Epoch [5/5] Batch [1396/1654] Loss: 1.6989\n",
            "Epoch [5/5] Batch [1397/1654] Loss: 1.6753\n",
            "Epoch [5/5] Batch [1398/1654] Loss: 1.4021\n",
            "Epoch [5/5] Batch [1399/1654] Loss: 1.4369\n",
            "Epoch [5/5] Batch [1400/1654] Loss: 1.2681\n"
          ]
        },
        {
          "output_type": "stream",
          "name": "stderr",
          "text": [
            " 85%|████████▌ | 1408/1654 [00:43<00:07, 34.93it/s]"
          ]
        },
        {
          "output_type": "stream",
          "name": "stdout",
          "text": [
            "Epoch [5/5] Batch [1401/1654] Loss: 1.2333\n",
            "Epoch [5/5] Batch [1402/1654] Loss: 1.2592\n",
            "Epoch [5/5] Batch [1403/1654] Loss: 1.0532\n",
            "Epoch [5/5] Batch [1404/1654] Loss: 1.3439\n",
            "Epoch [5/5] Batch [1405/1654] Loss: 1.3553\n",
            "Epoch [5/5] Batch [1406/1654] Loss: 1.3354\n",
            "Epoch [5/5] Batch [1407/1654] Loss: 1.3092\n",
            "Epoch [5/5] Batch [1408/1654] Loss: 1.0628\n"
          ]
        },
        {
          "output_type": "stream",
          "name": "stderr",
          "text": [
            " 86%|████████▌ | 1416/1654 [00:43<00:06, 35.13it/s]"
          ]
        },
        {
          "output_type": "stream",
          "name": "stdout",
          "text": [
            "Epoch [5/5] Batch [1409/1654] Loss: 0.7589\n",
            "Epoch [5/5] Batch [1410/1654] Loss: 1.2860\n",
            "Epoch [5/5] Batch [1411/1654] Loss: 1.2368\n",
            "Epoch [5/5] Batch [1412/1654] Loss: 1.4303\n",
            "Epoch [5/5] Batch [1413/1654] Loss: 0.9579\n",
            "Epoch [5/5] Batch [1414/1654] Loss: 1.2145\n",
            "Epoch [5/5] Batch [1415/1654] Loss: 1.3541\n",
            "Epoch [5/5] Batch [1416/1654] Loss: 1.5298\n"
          ]
        },
        {
          "output_type": "stream",
          "name": "stderr",
          "text": [
            " 86%|████████▌ | 1424/1654 [00:43<00:06, 34.54it/s]"
          ]
        },
        {
          "output_type": "stream",
          "name": "stdout",
          "text": [
            "Epoch [5/5] Batch [1417/1654] Loss: 1.1684\n",
            "Epoch [5/5] Batch [1418/1654] Loss: 0.9069\n",
            "Epoch [5/5] Batch [1419/1654] Loss: 1.2809\n",
            "Epoch [5/5] Batch [1420/1654] Loss: 1.4816\n",
            "Epoch [5/5] Batch [1421/1654] Loss: 1.1643\n",
            "Epoch [5/5] Batch [1422/1654] Loss: 1.4135\n",
            "Epoch [5/5] Batch [1423/1654] Loss: 1.3604\n",
            "Epoch [5/5] Batch [1424/1654] Loss: 1.3653\n"
          ]
        },
        {
          "output_type": "stream",
          "name": "stderr",
          "text": [
            " 87%|████████▋ | 1432/1654 [00:43<00:06, 35.41it/s]"
          ]
        },
        {
          "output_type": "stream",
          "name": "stdout",
          "text": [
            "Epoch [5/5] Batch [1425/1654] Loss: 1.4802\n",
            "Epoch [5/5] Batch [1426/1654] Loss: 1.1288\n",
            "Epoch [5/5] Batch [1427/1654] Loss: 1.5218\n",
            "Epoch [5/5] Batch [1428/1654] Loss: 1.4393\n",
            "Epoch [5/5] Batch [1429/1654] Loss: 1.2640\n",
            "Epoch [5/5] Batch [1430/1654] Loss: 1.6881\n",
            "Epoch [5/5] Batch [1431/1654] Loss: 1.3208\n",
            "Epoch [5/5] Batch [1432/1654] Loss: 1.3771\n"
          ]
        },
        {
          "output_type": "stream",
          "name": "stderr",
          "text": [
            " 87%|████████▋ | 1440/1654 [00:43<00:06, 35.26it/s]"
          ]
        },
        {
          "output_type": "stream",
          "name": "stdout",
          "text": [
            "Epoch [5/5] Batch [1433/1654] Loss: 1.3627\n",
            "Epoch [5/5] Batch [1434/1654] Loss: 1.1757\n",
            "Epoch [5/5] Batch [1435/1654] Loss: 1.1119\n",
            "Epoch [5/5] Batch [1436/1654] Loss: 1.0920\n",
            "Epoch [5/5] Batch [1437/1654] Loss: 1.1883\n",
            "Epoch [5/5] Batch [1438/1654] Loss: 1.2663\n",
            "Epoch [5/5] Batch [1439/1654] Loss: 1.3616\n",
            "Epoch [5/5] Batch [1440/1654] Loss: 1.1901\n"
          ]
        },
        {
          "output_type": "stream",
          "name": "stderr",
          "text": [
            " 88%|████████▊ | 1448/1654 [00:44<00:05, 35.53it/s]"
          ]
        },
        {
          "output_type": "stream",
          "name": "stdout",
          "text": [
            "Epoch [5/5] Batch [1441/1654] Loss: 1.1327\n",
            "Epoch [5/5] Batch [1442/1654] Loss: 1.4108\n",
            "Epoch [5/5] Batch [1443/1654] Loss: 1.0428\n",
            "Epoch [5/5] Batch [1444/1654] Loss: 1.4294\n",
            "Epoch [5/5] Batch [1445/1654] Loss: 1.0179\n",
            "Epoch [5/5] Batch [1446/1654] Loss: 1.0839\n",
            "Epoch [5/5] Batch [1447/1654] Loss: 1.1185\n",
            "Epoch [5/5] Batch [1448/1654] Loss: 1.1664\n"
          ]
        },
        {
          "output_type": "stream",
          "name": "stderr",
          "text": [
            " 88%|████████▊ | 1456/1654 [00:44<00:05, 35.57it/s]"
          ]
        },
        {
          "output_type": "stream",
          "name": "stdout",
          "text": [
            "Epoch [5/5] Batch [1449/1654] Loss: 1.1086\n",
            "Epoch [5/5] Batch [1450/1654] Loss: 1.1455\n",
            "Epoch [5/5] Batch [1451/1654] Loss: 1.1452\n",
            "Epoch [5/5] Batch [1452/1654] Loss: 1.1558\n",
            "Epoch [5/5] Batch [1453/1654] Loss: 1.3012\n",
            "Epoch [5/5] Batch [1454/1654] Loss: 1.1686\n",
            "Epoch [5/5] Batch [1455/1654] Loss: 1.4005\n",
            "Epoch [5/5] Batch [1456/1654] Loss: 1.5090\n"
          ]
        },
        {
          "output_type": "stream",
          "name": "stderr",
          "text": [
            " 89%|████████▊ | 1464/1654 [00:44<00:05, 34.75it/s]"
          ]
        },
        {
          "output_type": "stream",
          "name": "stdout",
          "text": [
            "Epoch [5/5] Batch [1457/1654] Loss: 1.3739\n",
            "Epoch [5/5] Batch [1458/1654] Loss: 1.2566\n",
            "Epoch [5/5] Batch [1459/1654] Loss: 1.4075\n",
            "Epoch [5/5] Batch [1460/1654] Loss: 0.7236\n",
            "Epoch [5/5] Batch [1461/1654] Loss: 1.1293\n",
            "Epoch [5/5] Batch [1462/1654] Loss: 1.0845\n",
            "Epoch [5/5] Batch [1463/1654] Loss: 1.1141\n",
            "Epoch [5/5] Batch [1464/1654] Loss: 1.2632\n"
          ]
        },
        {
          "output_type": "stream",
          "name": "stderr",
          "text": [
            " 89%|████████▉ | 1472/1654 [00:44<00:05, 34.95it/s]"
          ]
        },
        {
          "output_type": "stream",
          "name": "stdout",
          "text": [
            "Epoch [5/5] Batch [1465/1654] Loss: 1.2757\n",
            "Epoch [5/5] Batch [1466/1654] Loss: 1.2368\n",
            "Epoch [5/5] Batch [1467/1654] Loss: 1.0494\n",
            "Epoch [5/5] Batch [1468/1654] Loss: 1.1352\n",
            "Epoch [5/5] Batch [1469/1654] Loss: 1.1065\n",
            "Epoch [5/5] Batch [1470/1654] Loss: 1.3053\n",
            "Epoch [5/5] Batch [1471/1654] Loss: 1.1872\n",
            "Epoch [5/5] Batch [1472/1654] Loss: 1.0549\n"
          ]
        },
        {
          "output_type": "stream",
          "name": "stderr",
          "text": [
            " 89%|████████▉ | 1480/1654 [00:45<00:04, 35.29it/s]"
          ]
        },
        {
          "output_type": "stream",
          "name": "stdout",
          "text": [
            "Epoch [5/5] Batch [1473/1654] Loss: 1.3420\n",
            "Epoch [5/5] Batch [1474/1654] Loss: 1.3041\n",
            "Epoch [5/5] Batch [1475/1654] Loss: 1.5443\n",
            "Epoch [5/5] Batch [1476/1654] Loss: 1.1777\n",
            "Epoch [5/5] Batch [1477/1654] Loss: 1.0723\n",
            "Epoch [5/5] Batch [1478/1654] Loss: 1.2251\n",
            "Epoch [5/5] Batch [1479/1654] Loss: 1.2272\n",
            "Epoch [5/5] Batch [1480/1654] Loss: 1.5312\n"
          ]
        },
        {
          "output_type": "stream",
          "name": "stderr",
          "text": [
            " 90%|████████▉ | 1488/1654 [00:45<00:04, 35.45it/s]"
          ]
        },
        {
          "output_type": "stream",
          "name": "stdout",
          "text": [
            "Epoch [5/5] Batch [1481/1654] Loss: 1.1468\n",
            "Epoch [5/5] Batch [1482/1654] Loss: 1.0141\n",
            "Epoch [5/5] Batch [1483/1654] Loss: 1.4003\n",
            "Epoch [5/5] Batch [1484/1654] Loss: 1.2375\n",
            "Epoch [5/5] Batch [1485/1654] Loss: 1.3479\n",
            "Epoch [5/5] Batch [1486/1654] Loss: 1.3250\n",
            "Epoch [5/5] Batch [1487/1654] Loss: 1.1217\n",
            "Epoch [5/5] Batch [1488/1654] Loss: 1.4198\n"
          ]
        },
        {
          "output_type": "stream",
          "name": "stderr",
          "text": [
            "\r 90%|█████████ | 1492/1654 [00:45<00:04, 34.84it/s]"
          ]
        },
        {
          "output_type": "stream",
          "name": "stdout",
          "text": [
            "Epoch [5/5] Batch [1489/1654] Loss: 1.2138\n",
            "Epoch [5/5] Batch [1490/1654] Loss: 1.1781\n",
            "Epoch [5/5] Batch [1491/1654] Loss: 1.3481\n",
            "Epoch [5/5] Batch [1492/1654] Loss: 1.1002\n",
            "Epoch [5/5] Batch [1493/1654] Loss: 1.3406\n",
            "Epoch [5/5] Batch [1494/1654] Loss: 1.2639\n",
            "Epoch [5/5] Batch [1495/1654] Loss: 1.0635\n"
          ]
        },
        {
          "output_type": "stream",
          "name": "stderr",
          "text": [
            " 91%|█████████ | 1500/1654 [00:45<00:04, 34.60it/s]"
          ]
        },
        {
          "output_type": "stream",
          "name": "stdout",
          "text": [
            "Epoch [5/5] Batch [1496/1654] Loss: 1.2939\n",
            "Epoch [5/5] Batch [1497/1654] Loss: 1.3078\n",
            "Epoch [5/5] Batch [1498/1654] Loss: 1.2865\n",
            "Epoch [5/5] Batch [1499/1654] Loss: 1.3638\n",
            "Epoch [5/5] Batch [1500/1654] Loss: 1.4957\n",
            "Epoch [5/5] Batch [1501/1654] Loss: 1.2021\n",
            "Epoch [5/5] Batch [1502/1654] Loss: 1.0393\n",
            "Epoch [5/5] Batch [1503/1654] Loss: 1.4379\n"
          ]
        },
        {
          "output_type": "stream",
          "name": "stderr",
          "text": [
            " 91%|█████████ | 1508/1654 [00:45<00:04, 34.90it/s]"
          ]
        },
        {
          "output_type": "stream",
          "name": "stdout",
          "text": [
            "Epoch [5/5] Batch [1504/1654] Loss: 0.9974\n",
            "Epoch [5/5] Batch [1505/1654] Loss: 1.4898\n",
            "Epoch [5/5] Batch [1506/1654] Loss: 0.9776\n",
            "Epoch [5/5] Batch [1507/1654] Loss: 1.1200\n",
            "Epoch [5/5] Batch [1508/1654] Loss: 1.2745\n",
            "Epoch [5/5] Batch [1509/1654] Loss: 1.4343\n",
            "Epoch [5/5] Batch [1510/1654] Loss: 1.2826\n",
            "Epoch [5/5] Batch [1511/1654] Loss: 1.3128\n"
          ]
        },
        {
          "output_type": "stream",
          "name": "stderr",
          "text": [
            " 92%|█████████▏| 1516/1654 [00:46<00:03, 34.69it/s]"
          ]
        },
        {
          "output_type": "stream",
          "name": "stdout",
          "text": [
            "Epoch [5/5] Batch [1512/1654] Loss: 1.4192\n",
            "Epoch [5/5] Batch [1513/1654] Loss: 1.4636\n",
            "Epoch [5/5] Batch [1514/1654] Loss: 1.4310\n",
            "Epoch [5/5] Batch [1515/1654] Loss: 1.3807\n",
            "Epoch [5/5] Batch [1516/1654] Loss: 1.0401\n",
            "Epoch [5/5] Batch [1517/1654] Loss: 1.2882\n",
            "Epoch [5/5] Batch [1518/1654] Loss: 1.3772\n"
          ]
        },
        {
          "output_type": "stream",
          "name": "stderr",
          "text": [
            " 92%|█████████▏| 1524/1654 [00:46<00:03, 34.93it/s]"
          ]
        },
        {
          "output_type": "stream",
          "name": "stdout",
          "text": [
            "Epoch [5/5] Batch [1519/1654] Loss: 1.4907\n",
            "Epoch [5/5] Batch [1520/1654] Loss: 1.1528\n",
            "Epoch [5/5] Batch [1521/1654] Loss: 1.3143\n",
            "Epoch [5/5] Batch [1522/1654] Loss: 1.0959\n",
            "Epoch [5/5] Batch [1523/1654] Loss: 1.5282\n",
            "Epoch [5/5] Batch [1524/1654] Loss: 1.1934\n",
            "Epoch [5/5] Batch [1525/1654] Loss: 1.5795\n"
          ]
        },
        {
          "output_type": "stream",
          "name": "stderr",
          "text": [
            " 93%|█████████▎| 1532/1654 [00:46<00:03, 34.13it/s]"
          ]
        },
        {
          "output_type": "stream",
          "name": "stdout",
          "text": [
            "Epoch [5/5] Batch [1526/1654] Loss: 1.3391\n",
            "Epoch [5/5] Batch [1527/1654] Loss: 1.1183\n",
            "Epoch [5/5] Batch [1528/1654] Loss: 1.0802\n",
            "Epoch [5/5] Batch [1529/1654] Loss: 1.1898\n",
            "Epoch [5/5] Batch [1530/1654] Loss: 1.1110\n",
            "Epoch [5/5] Batch [1531/1654] Loss: 1.4275\n",
            "Epoch [5/5] Batch [1532/1654] Loss: 1.2943\n"
          ]
        },
        {
          "output_type": "stream",
          "name": "stderr",
          "text": [
            " 93%|█████████▎| 1540/1654 [00:46<00:03, 34.51it/s]"
          ]
        },
        {
          "output_type": "stream",
          "name": "stdout",
          "text": [
            "Epoch [5/5] Batch [1533/1654] Loss: 1.3157\n",
            "Epoch [5/5] Batch [1534/1654] Loss: 1.0865\n",
            "Epoch [5/5] Batch [1535/1654] Loss: 1.5385\n",
            "Epoch [5/5] Batch [1536/1654] Loss: 1.6062\n",
            "Epoch [5/5] Batch [1537/1654] Loss: 1.6357\n",
            "Epoch [5/5] Batch [1538/1654] Loss: 1.4020\n",
            "Epoch [5/5] Batch [1539/1654] Loss: 1.3883\n",
            "Epoch [5/5] Batch [1540/1654] Loss: 1.2172\n"
          ]
        },
        {
          "output_type": "stream",
          "name": "stderr",
          "text": [
            "\r 93%|█████████▎| 1544/1654 [00:46<00:03, 33.77it/s]"
          ]
        },
        {
          "output_type": "stream",
          "name": "stdout",
          "text": [
            "Epoch [5/5] Batch [1541/1654] Loss: 1.4338\n",
            "Epoch [5/5] Batch [1542/1654] Loss: 1.3708\n",
            "Epoch [5/5] Batch [1543/1654] Loss: 1.2214\n",
            "Epoch [5/5] Batch [1544/1654] Loss: 1.6213\n",
            "Epoch [5/5] Batch [1545/1654] Loss: 1.5518\n",
            "Epoch [5/5] Batch [1546/1654] Loss: 1.4234\n",
            "Epoch [5/5] Batch [1547/1654] Loss: 1.4700\n"
          ]
        },
        {
          "output_type": "stream",
          "name": "stderr",
          "text": [
            " 94%|█████████▍| 1552/1654 [00:47<00:02, 34.37it/s]"
          ]
        },
        {
          "output_type": "stream",
          "name": "stdout",
          "text": [
            "Epoch [5/5] Batch [1548/1654] Loss: 1.3258\n",
            "Epoch [5/5] Batch [1549/1654] Loss: 1.3341\n",
            "Epoch [5/5] Batch [1550/1654] Loss: 1.2909\n",
            "Epoch [5/5] Batch [1551/1654] Loss: 1.1116\n",
            "Epoch [5/5] Batch [1552/1654] Loss: 1.2815\n",
            "Epoch [5/5] Batch [1553/1654] Loss: 1.0585\n",
            "Epoch [5/5] Batch [1554/1654] Loss: 1.1835\n",
            "Epoch [5/5] Batch [1555/1654] Loss: 1.5349\n"
          ]
        },
        {
          "output_type": "stream",
          "name": "stderr",
          "text": [
            " 94%|█████████▍| 1560/1654 [00:47<00:02, 34.70it/s]"
          ]
        },
        {
          "output_type": "stream",
          "name": "stdout",
          "text": [
            "Epoch [5/5] Batch [1556/1654] Loss: 1.7550\n",
            "Epoch [5/5] Batch [1557/1654] Loss: 1.4115\n",
            "Epoch [5/5] Batch [1558/1654] Loss: 1.4200\n",
            "Epoch [5/5] Batch [1559/1654] Loss: 1.3164\n",
            "Epoch [5/5] Batch [1560/1654] Loss: 1.3594\n",
            "Epoch [5/5] Batch [1561/1654] Loss: 1.0819\n",
            "Epoch [5/5] Batch [1562/1654] Loss: 1.1204\n",
            "Epoch [5/5] Batch [1563/1654] Loss: 1.0694\n"
          ]
        },
        {
          "output_type": "stream",
          "name": "stderr",
          "text": [
            " 95%|█████████▍| 1568/1654 [00:47<00:02, 34.26it/s]"
          ]
        },
        {
          "output_type": "stream",
          "name": "stdout",
          "text": [
            "Epoch [5/5] Batch [1564/1654] Loss: 1.2953\n",
            "Epoch [5/5] Batch [1565/1654] Loss: 1.5157\n",
            "Epoch [5/5] Batch [1566/1654] Loss: 1.1714\n",
            "Epoch [5/5] Batch [1567/1654] Loss: 1.1529\n",
            "Epoch [5/5] Batch [1568/1654] Loss: 1.2515\n",
            "Epoch [5/5] Batch [1569/1654] Loss: 1.6707\n",
            "Epoch [5/5] Batch [1570/1654] Loss: 1.0492\n"
          ]
        },
        {
          "output_type": "stream",
          "name": "stderr",
          "text": [
            " 95%|█████████▌| 1576/1654 [00:47<00:02, 34.64it/s]"
          ]
        },
        {
          "output_type": "stream",
          "name": "stdout",
          "text": [
            "Epoch [5/5] Batch [1571/1654] Loss: 1.4309\n",
            "Epoch [5/5] Batch [1572/1654] Loss: 1.2624\n",
            "Epoch [5/5] Batch [1573/1654] Loss: 1.5378\n",
            "Epoch [5/5] Batch [1574/1654] Loss: 1.4755\n",
            "Epoch [5/5] Batch [1575/1654] Loss: 1.1878\n",
            "Epoch [5/5] Batch [1576/1654] Loss: 1.6225\n",
            "Epoch [5/5] Batch [1577/1654] Loss: 1.4076\n"
          ]
        },
        {
          "output_type": "stream",
          "name": "stderr",
          "text": [
            " 96%|█████████▌| 1584/1654 [00:48<00:02, 34.18it/s]"
          ]
        },
        {
          "output_type": "stream",
          "name": "stdout",
          "text": [
            "Epoch [5/5] Batch [1578/1654] Loss: 1.4365\n",
            "Epoch [5/5] Batch [1579/1654] Loss: 1.3263\n",
            "Epoch [5/5] Batch [1580/1654] Loss: 1.1756\n",
            "Epoch [5/5] Batch [1581/1654] Loss: 1.1045\n",
            "Epoch [5/5] Batch [1582/1654] Loss: 1.1559\n",
            "Epoch [5/5] Batch [1583/1654] Loss: 1.1707\n",
            "Epoch [5/5] Batch [1584/1654] Loss: 1.3528\n"
          ]
        },
        {
          "output_type": "stream",
          "name": "stderr",
          "text": [
            " 96%|█████████▋| 1592/1654 [00:48<00:01, 34.23it/s]"
          ]
        },
        {
          "output_type": "stream",
          "name": "stdout",
          "text": [
            "Epoch [5/5] Batch [1585/1654] Loss: 1.0758\n",
            "Epoch [5/5] Batch [1586/1654] Loss: 1.4230\n",
            "Epoch [5/5] Batch [1587/1654] Loss: 1.3682\n",
            "Epoch [5/5] Batch [1588/1654] Loss: 1.4246\n",
            "Epoch [5/5] Batch [1589/1654] Loss: 1.2952\n",
            "Epoch [5/5] Batch [1590/1654] Loss: 1.4982\n",
            "Epoch [5/5] Batch [1591/1654] Loss: 1.2600\n",
            "Epoch [5/5] Batch [1592/1654] Loss: 1.3680\n"
          ]
        },
        {
          "output_type": "stream",
          "name": "stderr",
          "text": [
            " 97%|█████████▋| 1600/1654 [00:48<00:01, 34.51it/s]"
          ]
        },
        {
          "output_type": "stream",
          "name": "stdout",
          "text": [
            "Epoch [5/5] Batch [1593/1654] Loss: 1.2344\n",
            "Epoch [5/5] Batch [1594/1654] Loss: 1.0324\n",
            "Epoch [5/5] Batch [1595/1654] Loss: 0.9677\n",
            "Epoch [5/5] Batch [1596/1654] Loss: 1.3661\n",
            "Epoch [5/5] Batch [1597/1654] Loss: 1.2771\n",
            "Epoch [5/5] Batch [1598/1654] Loss: 1.3942\n",
            "Epoch [5/5] Batch [1599/1654] Loss: 1.1713\n",
            "Epoch [5/5] Batch [1600/1654] Loss: 1.2941\n"
          ]
        },
        {
          "output_type": "stream",
          "name": "stderr",
          "text": [
            "\r 97%|█████████▋| 1604/1654 [00:48<00:01, 33.35it/s]"
          ]
        },
        {
          "output_type": "stream",
          "name": "stdout",
          "text": [
            "Epoch [5/5] Batch [1601/1654] Loss: 1.1781\n",
            "Epoch [5/5] Batch [1602/1654] Loss: 1.4235\n",
            "Epoch [5/5] Batch [1603/1654] Loss: 1.6376\n",
            "Epoch [5/5] Batch [1604/1654] Loss: 1.1790\n",
            "Epoch [5/5] Batch [1605/1654] Loss: 1.4620\n",
            "Epoch [5/5] Batch [1606/1654] Loss: 1.1997\n",
            "Epoch [5/5] Batch [1607/1654] Loss: 1.4421\n"
          ]
        },
        {
          "output_type": "stream",
          "name": "stderr",
          "text": [
            " 97%|█████████▋| 1612/1654 [00:48<00:01, 33.67it/s]"
          ]
        },
        {
          "output_type": "stream",
          "name": "stdout",
          "text": [
            "Epoch [5/5] Batch [1608/1654] Loss: 1.3836\n",
            "Epoch [5/5] Batch [1609/1654] Loss: 1.4167\n",
            "Epoch [5/5] Batch [1610/1654] Loss: 1.5736\n",
            "Epoch [5/5] Batch [1611/1654] Loss: 1.1252\n",
            "Epoch [5/5] Batch [1612/1654] Loss: 0.9304\n",
            "Epoch [5/5] Batch [1613/1654] Loss: 1.2717\n",
            "Epoch [5/5] Batch [1614/1654] Loss: 1.3545\n"
          ]
        },
        {
          "output_type": "stream",
          "name": "stderr",
          "text": [
            " 98%|█████████▊| 1620/1654 [00:49<00:01, 33.67it/s]"
          ]
        },
        {
          "output_type": "stream",
          "name": "stdout",
          "text": [
            "Epoch [5/5] Batch [1615/1654] Loss: 1.6017\n",
            "Epoch [5/5] Batch [1616/1654] Loss: 0.9752\n",
            "Epoch [5/5] Batch [1617/1654] Loss: 1.2090\n",
            "Epoch [5/5] Batch [1618/1654] Loss: 1.1181\n",
            "Epoch [5/5] Batch [1619/1654] Loss: 1.2915\n",
            "Epoch [5/5] Batch [1620/1654] Loss: 1.1975\n",
            "Epoch [5/5] Batch [1621/1654] Loss: 0.8283\n"
          ]
        },
        {
          "output_type": "stream",
          "name": "stderr",
          "text": [
            " 98%|█████████▊| 1628/1654 [00:49<00:00, 34.82it/s]"
          ]
        },
        {
          "output_type": "stream",
          "name": "stdout",
          "text": [
            "Epoch [5/5] Batch [1622/1654] Loss: 1.1408\n",
            "Epoch [5/5] Batch [1623/1654] Loss: 0.9541\n",
            "Epoch [5/5] Batch [1624/1654] Loss: 0.9031\n",
            "Epoch [5/5] Batch [1625/1654] Loss: 1.1501\n",
            "Epoch [5/5] Batch [1626/1654] Loss: 1.2163\n",
            "Epoch [5/5] Batch [1627/1654] Loss: 1.5756\n",
            "Epoch [5/5] Batch [1628/1654] Loss: 1.2893\n"
          ]
        },
        {
          "output_type": "stream",
          "name": "stderr",
          "text": [
            " 99%|█████████▉| 1636/1654 [00:49<00:00, 34.74it/s]"
          ]
        },
        {
          "output_type": "stream",
          "name": "stdout",
          "text": [
            "Epoch [5/5] Batch [1629/1654] Loss: 1.3106\n",
            "Epoch [5/5] Batch [1630/1654] Loss: 1.2108\n",
            "Epoch [5/5] Batch [1631/1654] Loss: 1.2828\n",
            "Epoch [5/5] Batch [1632/1654] Loss: 0.9932\n",
            "Epoch [5/5] Batch [1633/1654] Loss: 1.4768\n",
            "Epoch [5/5] Batch [1634/1654] Loss: 1.3560\n",
            "Epoch [5/5] Batch [1635/1654] Loss: 1.1806\n",
            "Epoch [5/5] Batch [1636/1654] Loss: 1.2045\n"
          ]
        },
        {
          "output_type": "stream",
          "name": "stderr",
          "text": [
            "\r 99%|█████████▉| 1640/1654 [00:49<00:00, 32.64it/s]"
          ]
        },
        {
          "output_type": "stream",
          "name": "stdout",
          "text": [
            "Epoch [5/5] Batch [1637/1654] Loss: 1.0954\n",
            "Epoch [5/5] Batch [1638/1654] Loss: 1.5451\n",
            "Epoch [5/5] Batch [1639/1654] Loss: 1.6151\n",
            "Epoch [5/5] Batch [1640/1654] Loss: 1.2437\n",
            "Epoch [5/5] Batch [1641/1654] Loss: 1.0398\n",
            "Epoch [5/5] Batch [1642/1654] Loss: 1.0367\n",
            "Epoch [5/5] Batch [1643/1654] Loss: 1.2700\n"
          ]
        },
        {
          "output_type": "stream",
          "name": "stderr",
          "text": [
            "100%|█████████▉| 1648/1654 [00:50<00:00, 33.76it/s]"
          ]
        },
        {
          "output_type": "stream",
          "name": "stdout",
          "text": [
            "Epoch [5/5] Batch [1644/1654] Loss: 1.4678\n",
            "Epoch [5/5] Batch [1645/1654] Loss: 1.2155\n",
            "Epoch [5/5] Batch [1646/1654] Loss: 1.1028\n",
            "Epoch [5/5] Batch [1647/1654] Loss: 1.3107\n",
            "Epoch [5/5] Batch [1648/1654] Loss: 1.2125\n",
            "Epoch [5/5] Batch [1649/1654] Loss: 1.3568\n",
            "Epoch [5/5] Batch [1650/1654] Loss: 1.1844\n",
            "Epoch [5/5] Batch [1651/1654] Loss: 1.3939\n"
          ]
        },
        {
          "output_type": "stream",
          "name": "stderr",
          "text": [
            "100%|██████████| 1654/1654 [00:50<00:00, 32.95it/s]"
          ]
        },
        {
          "output_type": "stream",
          "name": "stdout",
          "text": [
            "Epoch [5/5] Batch [1652/1654] Loss: 1.2347\n",
            "Epoch [5/5] Batch [1653/1654] Loss: 1.2352\n",
            "Epoch [5/5] Batch [1654/1654] Loss: 1.6821\n",
            "\n",
            ">> Epoch 5 Average Loss: 1.3069\n",
            "\n"
          ]
        },
        {
          "output_type": "stream",
          "name": "stderr",
          "text": [
            "\n"
          ]
        }
      ]
    },
    {
      "cell_type": "code",
      "source": [
        "def evaluate(model, loader):\n",
        "    model.eval()\n",
        "    correct, total = 0, 0\n",
        "    with torch.no_grad():\n",
        "        for x, y in loader:\n",
        "            x, y = x.to(device), y.to(device)\n",
        "            outputs = model(x)\n",
        "            preds = torch.argmax(outputs, dim=1)\n",
        "            correct += (preds == y).sum().item()\n",
        "            total += y.size(0)\n",
        "    print(f\"Accuracy: {correct / total * 100:.2f}%\")\n",
        "\n",
        "evaluate(model, test_loader)\n"
      ],
      "metadata": {
        "id": "79BwdibmiDCJ",
        "colab": {
          "base_uri": "https://localhost:8080/"
        },
        "outputId": "fb36ccef-2c11-48d9-cc3b-57757a5dee8d"
      },
      "execution_count": 16,
      "outputs": [
        {
          "output_type": "stream",
          "name": "stdout",
          "text": [
            "Accuracy: 51.00%\n"
          ]
        }
      ]
    }
  ]
}